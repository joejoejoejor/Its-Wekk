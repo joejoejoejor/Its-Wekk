{
 "cells": [
  {
   "cell_type": "markdown",
   "metadata": {},
   "source": [
    "# Data that I found, pls copy and repeat for all datasets\n",
    "\n",
    "CSV name: [Name]\n",
    "\n",
    "What the data describes: [Description]\n",
    "\n",
    "Link to source: [Link]\n",
    "\n"
   ]
  }
 ],
 "metadata": {
  "language_info": {
   "name": "python"
  }
 },
 "nbformat": 4,
 "nbformat_minor": 2
}
