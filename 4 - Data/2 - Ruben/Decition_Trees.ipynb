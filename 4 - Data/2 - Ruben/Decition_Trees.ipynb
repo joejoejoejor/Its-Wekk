{
 "cells": [
  {
   "cell_type": "code",
   "execution_count": 1,
   "metadata": {},
   "outputs": [],
   "source": [
    "# Load our libraries\n",
    "import numpy as np\n",
    "import pandas as pd\n",
    "import matplotlib.pyplot as plt\n",
    "from sklearn.linear_model import LinearRegression\n",
    "from statsmodels.tsa.stattools import adfuller\n",
    "from statsmodels.tsa.arima_process import ArmaProcess\n",
    "from statsmodels.tsa.seasonal import seasonal_decompose\n",
    "import statsmodels.api as sm\n",
    "\n",
    "# Use a nicer style for plots\n",
    "plt.style.use(\"seaborn-v0_8-muted\")"
   ]
  },
  {
   "cell_type": "code",
   "execution_count": 2,
   "metadata": {},
   "outputs": [],
   "source": [
    "target_data = pd.read_csv(\"/Users/rubenstark/Documents/GitHub/Its-Wekk/Fucking Final Data/50MostImpFeatures_DF.csv\")\n"
   ]
  },
  {
   "cell_type": "code",
   "execution_count": 3,
   "metadata": {},
   "outputs": [
    {
     "name": "stdout",
     "output_type": "stream",
     "text": [
      "CSV-Datei erfolgreich gespeichert.\n"
     ]
    }
   ],
   "source": [
    "target_data.to_csv(\"/Users/rubenstark/Documents/GitHub/Its-Wekk/4 - Data/2 - Ruben/50MostImpFeatures_DF\", index=False)\n",
    "#Final_Target_Data_Combined_resid_Trend\n",
    "print(\"CSV-Datei erfolgreich gespeichert.\")\n",
    "\n"
   ]
  },
  {
   "cell_type": "code",
   "execution_count": 4,
   "metadata": {},
   "outputs": [],
   "source": [
    "target_data2 = pd.read_csv(\"/Users/rubenstark/Documents/GitHub/Its-Wekk/Fucking Final Data/TargetCutto50MostImpFeatures_DF.csv\")"
   ]
  },
  {
   "cell_type": "code",
   "execution_count": 5,
   "metadata": {},
   "outputs": [
    {
     "name": "stdout",
     "output_type": "stream",
     "text": [
      "CSV-Datei erfolgreich gespeichert.\n"
     ]
    }
   ],
   "source": [
    "target_data2.to_csv(\"/Users/rubenstark/Documents/GitHub/Its-Wekk/4 - Data/2 - Ruben/TargetCutto50MostImpFeatures_DF\", index=False)\n",
    "#Final_Target_Data_Combined_resid_Trend\n",
    "print(\"CSV-Datei erfolgreich gespeichert.\")"
   ]
  },
  {
   "cell_type": "code",
   "execution_count": null,
   "metadata": {},
   "outputs": [],
   "source": []
  }
 ],
 "metadata": {
  "kernelspec": {
   "display_name": "Python 3",
   "language": "python",
   "name": "python3"
  },
  "language_info": {
   "codemirror_mode": {
    "name": "ipython",
    "version": 3
   },
   "file_extension": ".py",
   "mimetype": "text/x-python",
   "name": "python",
   "nbconvert_exporter": "python",
   "pygments_lexer": "ipython3",
   "version": "3.9.6"
  }
 },
 "nbformat": 4,
 "nbformat_minor": 2
}
