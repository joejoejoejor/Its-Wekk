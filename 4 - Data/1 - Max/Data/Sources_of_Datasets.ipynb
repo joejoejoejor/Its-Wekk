{
 "cells": [
  {
   "cell_type": "markdown",
   "metadata": {},
   "source": [
    "*Sources of our Datasets*"
   ]
  },
  {
   "cell_type": "markdown",
   "metadata": {},
   "source": [
    "Probleme: Kerninflation nicht so gut wie eigenliche Inflation wahrscheinlich aber nicht gefunden\n",
    "\n",
    "| File Name | Link | Interval | Cleaned? |\n",
    "| --- | --- | --- | --- |\n",
    "| BIP_not_adjusted.csv | https://www.seco.admin.ch/seco/en/home/wirtschaftslage---wirtschaftspolitik/Wirtschaftslage/bip-quartalsschaetzungen-/daten.html | quarterly | no |\n",
    "| BIP_nach_Verwendung.csv | https://opendata.swiss/de/dataset/bruttoinlandprodukt-nach-verwendungsarten7 | yearly | no |\n",
    "| SNB_Kerninflation_Veränderung_Vorjahr.xlsx | https://data.snb.ch/de/topics/uvo/chart/plkoprinflach | monthly | no |\n",
    "| SNB_Bilaterale_Wechselkursindizes_Monatlich.csv | https://data.snb.ch/de/topics/ziredev/cube/devwkibiim?fromDate=2000-10&dimSel=D1(CN,DE,GB,US) | monthly | no |\n",
    "| SNB_Arbeitslosenquote_u_Erwerbspersonen.csv | https://data.snb.ch/de/topics/uvo/cube/amarbma?dimSel=D0(T1,S1,E)&fromDate=2000-01 | monthly | no |\n",
    "| Fremdenverkehrbilanz_Schweiz.xlsx | https://opendata.swiss/de/dataset/fremdenverkehrsbilanz5 | yearly | no |\n"
   ]
  },
  {
   "cell_type": "markdown",
   "metadata": {},
   "source": []
  }
 ],
 "metadata": {
  "language_info": {
   "name": "python"
  }
 },
 "nbformat": 4,
 "nbformat_minor": 2
}
