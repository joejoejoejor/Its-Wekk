{
 "cells": [
  {
   "cell_type": "code",
   "execution_count": null,
   "metadata": {},
   "outputs": [],
   "source": [
    "import pandas as pd\n",
    "\n",
    "file_path = r'C:\\Users\\nando\\OneDrive\\Persönlich\\Dokumente\\GitHub\\Its-Wekk\\4 - Data\\Final_Data\\100050.csv'\n",
    "data = pd.read_csv(file_path, delimiter=\";\")\n",
    "# Display the first few rows of the dataframe\n",
    "data.head()"
   ]
  },
  {
   "cell_type": "code",
   "execution_count": null,
   "metadata": {},
   "outputs": [],
   "source": [
    "# Convert the 'Datum/Zeit' column to datetime\n",
    "data['Datum/Zeit'] = pd.to_datetime(data['Datum/Zeit'])\n",
    "\n",
    "# Drop the rows before 31.12.2021\n",
    "data = data.drop(data[data['Datum/Zeit'] < '2021-12-31'].index)"
   ]
  },
  {
   "cell_type": "code",
   "execution_count": null,
   "metadata": {},
   "outputs": [],
   "source": [
    "data = data.drop(columns=['geo_point_2d'])"
   ]
  },
  {
   "cell_type": "code",
   "execution_count": null,
   "metadata": {},
   "outputs": [],
   "source": [
    "data.to_csv(r'C:\\Users\\nando\\OneDrive\\Persönlich\\Dokumente\\GitHub\\Its-Wekk\\4 - Data\\Final_Data\\targetvalue_cleaned.csv', index=False)"
   ]
  },
  {
   "cell_type": "code",
   "execution_count": null,
   "metadata": {},
   "outputs": [],
   "source": [
    "file_path = r'C:\\Users\\nando\\OneDrive\\Persönlich\\Dokumente\\GitHub\\Its-Wekk\\4 - Data\\Final_Data\\Cleaned\\targetvalue_cleaned.csv'"
   ]
  },
  {
   "cell_type": "code",
   "execution_count": null,
   "metadata": {},
   "outputs": [],
   "source": [
    "data = pd.read_csv(file_path)\n",
    "data.head()"
   ]
  },
  {
   "cell_type": "code",
   "execution_count": null,
   "metadata": {},
   "outputs": [],
   "source": [
    "import matplotlib.pyplot as plt\n",
    "\n",
    "# Set the 'Datum/Zeit' column as the index\n",
    "data.set_index('Datum/Zeit', inplace=True)"
   ]
  },
  {
   "cell_type": "code",
   "execution_count": null,
   "metadata": {},
   "outputs": [],
   "source": [
    "# Convert 'timestamp_text' to datetime\n",
    "data['timestamp_text'] = pd.to_datetime(data['timestamp_text'], errors='coerce')\n",
    "\n",
    "# Extract the date part\n",
    "data['date'] = data['timestamp_text'].dt.date\n",
    "\n",
    "# Group by 'date' and aggregate only numeric columns\n",
    "daily_data = data.groupby('date')[['pm10_stundenmittelwerte_ug_m3', \n",
    "                                   'pm2_5_stundenmittelwerte_ug_m3', \n",
    "                                   'no2_stundenmittelwerte_ug_m3']].sum()\n",
    "\n",
    "# Display the resulting DataFrame\n",
    "daily_data.head()\n"
   ]
  },
  {
   "cell_type": "code",
   "execution_count": null,
   "metadata": {},
   "outputs": [],
   "source": [
    "daily_data.to_csv(r'C:\\Users\\nando\\OneDrive\\Persönlich\\Dokumente\\GitHub\\Its-Wekk\\4 - Data\\Final_Data\\targetvalue_daily_cleaned.csv', index=False)"
   ]
  },
  {
   "cell_type": "code",
   "execution_count": null,
   "metadata": {},
   "outputs": [],
   "source": [
    "\n",
    "file_path = r\"C:\\Users\\nando\\OneDrive\\Persönlich\\Dokumente\\GitHub\\Its-Wekk\\4 - Data\\Final_Data\\Cleaned\\targetvalue_cleaned.csv\"\n",
    "data = pd.read_csv(file_path)\n",
    "data.head()"
   ]
  },
  {
   "cell_type": "code",
   "execution_count": null,
   "metadata": {},
   "outputs": [],
   "source": [
    "data.set_index('Datum/Zeit', inplace=True)"
   ]
  },
  {
   "cell_type": "code",
   "execution_count": null,
   "metadata": {},
   "outputs": [],
   "source": [
    "# Convert 'timestamp_text' to datetime\n",
    "data['timestamp_text'] = pd.to_datetime(data['timestamp_text'], errors='coerce')"
   ]
  },
  {
   "cell_type": "code",
   "execution_count": null,
   "metadata": {},
   "outputs": [],
   "source": [
    "data.head()"
   ]
  },
  {
   "cell_type": "code",
   "execution_count": null,
   "metadata": {},
   "outputs": [],
   "source": [
    "data.to_csv(r'C:\\Users\\nando\\OneDrive\\Persönlich\\Dokumente\\GitHub\\Its-Wekk\\4 - Data\\Final_Data\\targetvalue_cleaned.csv', index=False)"
   ]
  },
  {
   "cell_type": "markdown",
   "metadata": {},
   "source": [
    "**Now onto the next dataset**"
   ]
  },
  {
   "cell_type": "markdown",
   "metadata": {},
   "source": [
    "df_flug = pd.read_csv(r'C:\\Users\\nando\\OneDrive\\Persönlich\\Dokumente\\GitHub\\Its-Wekk\\4 - Data\\Final_Data\\EuroPort_Flugbewegungen.csv', delimiter=';')\n",
    "df_flug.head()"
   ]
  },
  {
   "cell_type": "markdown",
   "metadata": {},
   "source": [
    "df_flug.drop(columns=['Flugpassagiere', 'Luftfracht'], inplace=True)\n",
    "df_flug.head()"
   ]
  },
  {
   "cell_type": "markdown",
   "metadata": {},
   "source": [
    "df_flug.fillna(0, inplace=True)\n",
    "df_flug.head()"
   ]
  },
  {
   "cell_type": "markdown",
   "metadata": {},
   "source": [
    "df_flug_grouped = df_flug.groupby(df_flug.index)[['Flugbewegungen']].sum()\n"
   ]
  },
  {
   "cell_type": "markdown",
   "metadata": {},
   "source": [
    "df_flug_grouped.head()"
   ]
  },
  {
   "cell_type": "markdown",
   "metadata": {},
   "source": [
    "df_flug_grouped.to_csv(r'C:\\Users\\nando\\OneDrive\\Persönlich\\Dokumente\\GitHub\\Its-Wekk\\4 - Data\\Final_Data\\EuroPort_Flugbewegungen_cleaned_daily.csv', index=False)\n"
   ]
  },
  {
   "cell_type": "code",
<<<<<<< Updated upstream
   "execution_count": null,
   "metadata": {},
   "outputs": [],
   "source": [
    "daily_data = df_flug.groupby(df_flug.index)[['Flugbewegungen']].sum()"
=======
   "execution_count": 71,
   "metadata": {},
   "outputs": [
    {
     "data": {
      "text/html": [
       "<div>\n",
       "<style scoped>\n",
       "    .dataframe tbody tr th:only-of-type {\n",
       "        vertical-align: middle;\n",
       "    }\n",
       "\n",
       "    .dataframe tbody tr th {\n",
       "        vertical-align: top;\n",
       "    }\n",
       "\n",
       "    .dataframe thead th {\n",
       "        text-align: right;\n",
       "    }\n",
       "</style>\n",
       "<table border=\"1\" class=\"dataframe\">\n",
       "  <thead>\n",
       "    <tr style=\"text-align: right;\">\n",
       "      <th></th>\n",
       "      <th>datum</th>\n",
       "      <th>Hotelkategorie</th>\n",
       "      <th>Anzahl Logiernächte</th>\n",
       "      <th>Anzahl verfügbare Zimmer</th>\n",
       "      <th>Anzahl belegte Zimmer</th>\n",
       "      <th>Jahr</th>\n",
       "      <th>Monat</th>\n",
       "      <th>Tag</th>\n",
       "    </tr>\n",
       "  </thead>\n",
       "  <tbody>\n",
       "    <tr>\n",
       "      <th>0</th>\n",
       "      <td>2019-09-13</td>\n",
       "      <td>4- und 5-Stern</td>\n",
       "      <td>1310</td>\n",
       "      <td>1720</td>\n",
       "      <td>880</td>\n",
       "      <td>2019</td>\n",
       "      <td>9</td>\n",
       "      <td>13</td>\n",
       "    </tr>\n",
       "    <tr>\n",
       "      <th>1</th>\n",
       "      <td>2019-09-13</td>\n",
       "      <td>1- und 2-Stern</td>\n",
       "      <td>604</td>\n",
       "      <td>709</td>\n",
       "      <td>387</td>\n",
       "      <td>2019</td>\n",
       "      <td>9</td>\n",
       "      <td>13</td>\n",
       "    </tr>\n",
       "    <tr>\n",
       "      <th>2</th>\n",
       "      <td>2019-09-12</td>\n",
       "      <td>Übrige</td>\n",
       "      <td>405</td>\n",
       "      <td>337</td>\n",
       "      <td>258</td>\n",
       "      <td>2019</td>\n",
       "      <td>9</td>\n",
       "      <td>12</td>\n",
       "    </tr>\n",
       "    <tr>\n",
       "      <th>3</th>\n",
       "      <td>2019-09-10</td>\n",
       "      <td>Übrige</td>\n",
       "      <td>406</td>\n",
       "      <td>337</td>\n",
       "      <td>277</td>\n",
       "      <td>2019</td>\n",
       "      <td>9</td>\n",
       "      <td>10</td>\n",
       "    </tr>\n",
       "    <tr>\n",
       "      <th>4</th>\n",
       "      <td>2019-09-09</td>\n",
       "      <td>3-Stern</td>\n",
       "      <td>1686</td>\n",
       "      <td>1715</td>\n",
       "      <td>1421</td>\n",
       "      <td>2019</td>\n",
       "      <td>9</td>\n",
       "      <td>9</td>\n",
       "    </tr>\n",
       "  </tbody>\n",
       "</table>\n",
       "</div>"
      ],
      "text/plain": [
       "        datum  Hotelkategorie  Anzahl Logiernächte  Anzahl verfügbare Zimmer  \\\n",
       "0  2019-09-13  4- und 5-Stern                 1310                      1720   \n",
       "1  2019-09-13  1- und 2-Stern                  604                       709   \n",
       "2  2019-09-12          Übrige                  405                       337   \n",
       "3  2019-09-10          Übrige                  406                       337   \n",
       "4  2019-09-09         3-Stern                 1686                      1715   \n",
       "\n",
       "   Anzahl belegte Zimmer  Jahr  Monat  Tag  \n",
       "0                    880  2019      9   13  \n",
       "1                    387  2019      9   13  \n",
       "2                    258  2019      9   12  \n",
       "3                    277  2019      9   10  \n",
       "4                   1421  2019      9    9  "
      ]
     },
     "execution_count": 71,
     "metadata": {},
     "output_type": "execute_result"
    }
   ],
   "source": [
    "df_hotelnächte = pd.read_csv(r'C:\\Users\\nando\\OneDrive\\Persönlich\\Dokumente\\GitHub\\Its-Wekk\\4 - Data\\Final_Data\\Tägliche_Logiernächte.csv', delimiter=';')\n",
    "df_hotelnächte.head()"
   ]
  },
  {
   "cell_type": "code",
   "execution_count": 72,
   "metadata": {},
   "outputs": [
    {
     "data": {
      "text/html": [
       "<div>\n",
       "<style scoped>\n",
       "    .dataframe tbody tr th:only-of-type {\n",
       "        vertical-align: middle;\n",
       "    }\n",
       "\n",
       "    .dataframe tbody tr th {\n",
       "        vertical-align: top;\n",
       "    }\n",
       "\n",
       "    .dataframe thead th {\n",
       "        text-align: right;\n",
       "    }\n",
       "</style>\n",
       "<table border=\"1\" class=\"dataframe\">\n",
       "  <thead>\n",
       "    <tr style=\"text-align: right;\">\n",
       "      <th></th>\n",
       "      <th>datum</th>\n",
       "      <th>Hotelkategorie</th>\n",
       "      <th>Anzahl Logiernächte</th>\n",
       "      <th>Anzahl verfügbare Zimmer</th>\n",
       "      <th>Anzahl belegte Zimmer</th>\n",
       "      <th>Jahr</th>\n",
       "      <th>Monat</th>\n",
       "      <th>Tag</th>\n",
       "    </tr>\n",
       "  </thead>\n",
       "  <tbody>\n",
       "    <tr>\n",
       "      <th>9546</th>\n",
       "      <td>2015-01-01</td>\n",
       "      <td>4- und 5-Stern</td>\n",
       "      <td>988</td>\n",
       "      <td>1708</td>\n",
       "      <td>538</td>\n",
       "      <td>2015</td>\n",
       "      <td>1</td>\n",
       "      <td>1</td>\n",
       "    </tr>\n",
       "    <tr>\n",
       "      <th>9547</th>\n",
       "      <td>2015-01-01</td>\n",
       "      <td>3-Stern</td>\n",
       "      <td>569</td>\n",
       "      <td>1084</td>\n",
       "      <td>328</td>\n",
       "      <td>2015</td>\n",
       "      <td>1</td>\n",
       "      <td>1</td>\n",
       "    </tr>\n",
       "    <tr>\n",
       "      <th>9548</th>\n",
       "      <td>2015-01-01</td>\n",
       "      <td>1- und 2-Stern</td>\n",
       "      <td>470</td>\n",
       "      <td>667</td>\n",
       "      <td>261</td>\n",
       "      <td>2015</td>\n",
       "      <td>1</td>\n",
       "      <td>1</td>\n",
       "    </tr>\n",
       "    <tr>\n",
       "      <th>10836</th>\n",
       "      <td>2015-01-01</td>\n",
       "      <td>Übrige</td>\n",
       "      <td>65</td>\n",
       "      <td>67</td>\n",
       "      <td>27</td>\n",
       "      <td>2015</td>\n",
       "      <td>1</td>\n",
       "      <td>1</td>\n",
       "    </tr>\n",
       "    <tr>\n",
       "      <th>10834</th>\n",
       "      <td>2015-01-02</td>\n",
       "      <td>4- und 5-Stern</td>\n",
       "      <td>817</td>\n",
       "      <td>1708</td>\n",
       "      <td>451</td>\n",
       "      <td>2015</td>\n",
       "      <td>1</td>\n",
       "      <td>2</td>\n",
       "    </tr>\n",
       "  </tbody>\n",
       "</table>\n",
       "</div>"
      ],
      "text/plain": [
       "            datum  Hotelkategorie  Anzahl Logiernächte  \\\n",
       "9546   2015-01-01  4- und 5-Stern                  988   \n",
       "9547   2015-01-01         3-Stern                  569   \n",
       "9548   2015-01-01  1- und 2-Stern                  470   \n",
       "10836  2015-01-01          Übrige                   65   \n",
       "10834  2015-01-02  4- und 5-Stern                  817   \n",
       "\n",
       "       Anzahl verfügbare Zimmer  Anzahl belegte Zimmer  Jahr  Monat  Tag  \n",
       "9546                       1708                    538  2015      1    1  \n",
       "9547                       1084                    328  2015      1    1  \n",
       "9548                        667                    261  2015      1    1  \n",
       "10836                        67                     27  2015      1    1  \n",
       "10834                      1708                    451  2015      1    2  "
      ]
     },
     "execution_count": 72,
     "metadata": {},
     "output_type": "execute_result"
    }
   ],
   "source": [
    "df_hotelnächte_sorted = df_hotelnächte.sort_values(by='datum')\n",
    "df_hotelnächte_sorted.head()"
   ]
  },
  {
   "cell_type": "code",
   "execution_count": 73,
   "metadata": {},
   "outputs": [],
   "source": [
    "df_hotelnächte_sorted['datum'] = pd.to_datetime(df_hotelnächte_sorted['datum'])"
>>>>>>> Stashed changes
   ]
  },
  {
   "cell_type": "code",
   "execution_count": 80,
   "metadata": {},
   "outputs": [],
   "source": [
    "df_hotelnächte_sorted.drop(columns=['Jahr', 'Monat', 'Tag', 'Anzahl belegte Zimmer', 'Anzahl verfügbare Zimmer'], inplace=True)"
   ]
  },
  {
   "cell_type": "code",
   "execution_count": 81,
   "metadata": {},
   "outputs": [
    {
     "data": {
      "text/html": [
       "<div>\n",
       "<style scoped>\n",
       "    .dataframe tbody tr th:only-of-type {\n",
       "        vertical-align: middle;\n",
       "    }\n",
       "\n",
       "    .dataframe tbody tr th {\n",
       "        vertical-align: top;\n",
       "    }\n",
       "\n",
       "    .dataframe thead th {\n",
       "        text-align: right;\n",
       "    }\n",
       "</style>\n",
       "<table border=\"1\" class=\"dataframe\">\n",
       "  <thead>\n",
       "    <tr style=\"text-align: right;\">\n",
       "      <th></th>\n",
       "      <th>datum</th>\n",
       "      <th>Hotelkategorie</th>\n",
       "      <th>Anzahl Logiernächte</th>\n",
       "    </tr>\n",
       "  </thead>\n",
       "  <tbody>\n",
       "    <tr>\n",
       "      <th>9546</th>\n",
       "      <td>2015-01-01</td>\n",
       "      <td>4- und 5-Stern</td>\n",
       "      <td>988</td>\n",
       "    </tr>\n",
       "    <tr>\n",
       "      <th>9547</th>\n",
       "      <td>2015-01-01</td>\n",
       "      <td>3-Stern</td>\n",
       "      <td>569</td>\n",
       "    </tr>\n",
       "    <tr>\n",
       "      <th>9548</th>\n",
       "      <td>2015-01-01</td>\n",
       "      <td>1- und 2-Stern</td>\n",
       "      <td>470</td>\n",
       "    </tr>\n",
       "    <tr>\n",
       "      <th>10836</th>\n",
       "      <td>2015-01-01</td>\n",
       "      <td>Übrige</td>\n",
       "      <td>65</td>\n",
       "    </tr>\n",
       "    <tr>\n",
       "      <th>10834</th>\n",
       "      <td>2015-01-02</td>\n",
       "      <td>4- und 5-Stern</td>\n",
       "      <td>817</td>\n",
       "    </tr>\n",
       "  </tbody>\n",
       "</table>\n",
       "</div>"
      ],
      "text/plain": [
       "           datum  Hotelkategorie  Anzahl Logiernächte\n",
       "9546  2015-01-01  4- und 5-Stern                  988\n",
       "9547  2015-01-01         3-Stern                  569\n",
       "9548  2015-01-01  1- und 2-Stern                  470\n",
       "10836 2015-01-01          Übrige                   65\n",
       "10834 2015-01-02  4- und 5-Stern                  817"
      ]
     },
     "execution_count": 81,
     "metadata": {},
     "output_type": "execute_result"
    }
   ],
   "source": [
    "df_hotelnächte_sorted.head()"
   ]
  },
  {
   "cell_type": "code",
   "execution_count": null,
   "metadata": {},
   "outputs": [
    {
     "ename": "KeyError",
     "evalue": "\"None of ['datum'] are in the columns\"",
     "output_type": "error",
     "traceback": [
      "\u001b[1;31m---------------------------------------------------------------------------\u001b[0m",
      "\u001b[1;31mKeyError\u001b[0m                                  Traceback (most recent call last)",
      "\u001b[1;32m~\\AppData\\Local\\Temp\\ipykernel_14356\\3693029352.py\u001b[0m in \u001b[0;36m?\u001b[1;34m()\u001b[0m\n\u001b[1;32m----> 1\u001b[1;33m \u001b[0mdf_hotelnächte_sorted\u001b[0m\u001b[1;33m.\u001b[0m\u001b[0mset_index\u001b[0m\u001b[1;33m(\u001b[0m\u001b[1;34m'datum'\u001b[0m\u001b[1;33m,\u001b[0m \u001b[0minplace\u001b[0m\u001b[1;33m=\u001b[0m\u001b[1;32mTrue\u001b[0m\u001b[1;33m)\u001b[0m\u001b[1;33m\u001b[0m\u001b[1;33m\u001b[0m\u001b[0m\n\u001b[0m\u001b[0;32m      2\u001b[0m \u001b[0mdf_hotelnächte_sorted\u001b[0m\u001b[1;33m.\u001b[0m\u001b[0mhead\u001b[0m\u001b[1;33m(\u001b[0m\u001b[1;33m)\u001b[0m\u001b[1;33m\u001b[0m\u001b[1;33m\u001b[0m\u001b[0m\n",
      "\u001b[1;32mc:\\Users\\nando\\anaconda3\\Lib\\site-packages\\pandas\\core\\frame.py\u001b[0m in \u001b[0;36m?\u001b[1;34m(self, keys, drop, append, inplace, verify_integrity)\u001b[0m\n\u001b[0;32m   6118\u001b[0m                     \u001b[1;32mif\u001b[0m \u001b[1;32mnot\u001b[0m \u001b[0mfound\u001b[0m\u001b[1;33m:\u001b[0m\u001b[1;33m\u001b[0m\u001b[1;33m\u001b[0m\u001b[0m\n\u001b[0;32m   6119\u001b[0m                         \u001b[0mmissing\u001b[0m\u001b[1;33m.\u001b[0m\u001b[0mappend\u001b[0m\u001b[1;33m(\u001b[0m\u001b[0mcol\u001b[0m\u001b[1;33m)\u001b[0m\u001b[1;33m\u001b[0m\u001b[1;33m\u001b[0m\u001b[0m\n\u001b[0;32m   6120\u001b[0m \u001b[1;33m\u001b[0m\u001b[0m\n\u001b[0;32m   6121\u001b[0m         \u001b[1;32mif\u001b[0m \u001b[0mmissing\u001b[0m\u001b[1;33m:\u001b[0m\u001b[1;33m\u001b[0m\u001b[1;33m\u001b[0m\u001b[0m\n\u001b[1;32m-> 6122\u001b[1;33m             \u001b[1;32mraise\u001b[0m \u001b[0mKeyError\u001b[0m\u001b[1;33m(\u001b[0m\u001b[1;33mf\"\u001b[0m\u001b[1;33mNone of \u001b[0m\u001b[1;33m{\u001b[0m\u001b[0mmissing\u001b[0m\u001b[1;33m}\u001b[0m\u001b[1;33m are in the columns\u001b[0m\u001b[1;33m\"\u001b[0m\u001b[1;33m)\u001b[0m\u001b[1;33m\u001b[0m\u001b[1;33m\u001b[0m\u001b[0m\n\u001b[0m\u001b[0;32m   6123\u001b[0m \u001b[1;33m\u001b[0m\u001b[0m\n\u001b[0;32m   6124\u001b[0m         \u001b[1;32mif\u001b[0m \u001b[0minplace\u001b[0m\u001b[1;33m:\u001b[0m\u001b[1;33m\u001b[0m\u001b[1;33m\u001b[0m\u001b[0m\n\u001b[0;32m   6125\u001b[0m             \u001b[0mframe\u001b[0m \u001b[1;33m=\u001b[0m \u001b[0mself\u001b[0m\u001b[1;33m\u001b[0m\u001b[1;33m\u001b[0m\u001b[0m\n",
      "\u001b[1;31mKeyError\u001b[0m: \"None of ['datum'] are in the columns\""
     ]
    }
   ],
   "source": [
    "df_hotelnächte_sorted.set_index('datum', inplace=True)\n"
   ]
  },
  {
   "cell_type": "code",
   "execution_count": 85,
   "metadata": {},
   "outputs": [
    {
     "data": {
      "text/html": [
       "<div>\n",
       "<style scoped>\n",
       "    .dataframe tbody tr th:only-of-type {\n",
       "        vertical-align: middle;\n",
       "    }\n",
       "\n",
       "    .dataframe tbody tr th {\n",
       "        vertical-align: top;\n",
       "    }\n",
       "\n",
       "    .dataframe thead th {\n",
       "        text-align: right;\n",
       "    }\n",
       "</style>\n",
       "<table border=\"1\" class=\"dataframe\">\n",
       "  <thead>\n",
       "    <tr style=\"text-align: right;\">\n",
       "      <th></th>\n",
       "      <th>Hotelkategorie</th>\n",
       "      <th>Anzahl Logiernächte</th>\n",
       "    </tr>\n",
       "    <tr>\n",
       "      <th>datum</th>\n",
       "      <th></th>\n",
       "      <th></th>\n",
       "    </tr>\n",
       "  </thead>\n",
       "  <tbody>\n",
       "    <tr>\n",
       "      <th>2015-01-01</th>\n",
       "      <td>4- und 5-Stern</td>\n",
       "      <td>988</td>\n",
       "    </tr>\n",
       "    <tr>\n",
       "      <th>2015-01-01</th>\n",
       "      <td>3-Stern</td>\n",
       "      <td>569</td>\n",
       "    </tr>\n",
       "    <tr>\n",
       "      <th>2015-01-01</th>\n",
       "      <td>1- und 2-Stern</td>\n",
       "      <td>470</td>\n",
       "    </tr>\n",
       "    <tr>\n",
       "      <th>2015-01-01</th>\n",
       "      <td>Übrige</td>\n",
       "      <td>65</td>\n",
       "    </tr>\n",
       "    <tr>\n",
       "      <th>2015-01-02</th>\n",
       "      <td>4- und 5-Stern</td>\n",
       "      <td>817</td>\n",
       "    </tr>\n",
       "  </tbody>\n",
       "</table>\n",
       "</div>"
      ],
      "text/plain": [
       "            Hotelkategorie  Anzahl Logiernächte\n",
       "datum                                          \n",
       "2015-01-01  4- und 5-Stern                  988\n",
       "2015-01-01         3-Stern                  569\n",
       "2015-01-01  1- und 2-Stern                  470\n",
       "2015-01-01          Übrige                   65\n",
       "2015-01-02  4- und 5-Stern                  817"
      ]
     },
     "execution_count": 85,
     "metadata": {},
     "output_type": "execute_result"
    }
   ],
   "source": [
    "df_hotelnächte_sorted.head()"
   ]
  },
  {
   "cell_type": "code",
   "execution_count": 95,
   "metadata": {},
   "outputs": [],
   "source": [
    "grouped_data = df_hotelnächte_sorted.groupby(df_hotelnächte_sorted.index)[['Anzahl Logiernächte']].sum()\n"
   ]
  },
  {
   "cell_type": "code",
   "execution_count": 96,
   "metadata": {},
   "outputs": [
    {
     "data": {
      "text/html": [
       "<div>\n",
       "<style scoped>\n",
       "    .dataframe tbody tr th:only-of-type {\n",
       "        vertical-align: middle;\n",
       "    }\n",
       "\n",
       "    .dataframe tbody tr th {\n",
       "        vertical-align: top;\n",
       "    }\n",
       "\n",
       "    .dataframe thead th {\n",
       "        text-align: right;\n",
       "    }\n",
       "</style>\n",
       "<table border=\"1\" class=\"dataframe\">\n",
       "  <thead>\n",
       "    <tr style=\"text-align: right;\">\n",
       "      <th></th>\n",
       "      <th>Anzahl Logiernächte</th>\n",
       "    </tr>\n",
       "    <tr>\n",
       "      <th>datum</th>\n",
       "      <th></th>\n",
       "    </tr>\n",
       "  </thead>\n",
       "  <tbody>\n",
       "    <tr>\n",
       "      <th>2015-01-01</th>\n",
       "      <td>2092</td>\n",
       "    </tr>\n",
       "    <tr>\n",
       "      <th>2015-01-02</th>\n",
       "      <td>1877</td>\n",
       "    </tr>\n",
       "    <tr>\n",
       "      <th>2015-01-03</th>\n",
       "      <td>1531</td>\n",
       "    </tr>\n",
       "    <tr>\n",
       "      <th>2015-01-04</th>\n",
       "      <td>1268</td>\n",
       "    </tr>\n",
       "    <tr>\n",
       "      <th>2015-01-05</th>\n",
       "      <td>1552</td>\n",
       "    </tr>\n",
       "  </tbody>\n",
       "</table>\n",
       "</div>"
      ],
      "text/plain": [
       "            Anzahl Logiernächte\n",
       "datum                          \n",
       "2015-01-01                 2092\n",
       "2015-01-02                 1877\n",
       "2015-01-03                 1531\n",
       "2015-01-04                 1268\n",
       "2015-01-05                 1552"
      ]
     },
     "execution_count": 96,
     "metadata": {},
     "output_type": "execute_result"
    }
   ],
   "source": [
    "grouped_data.head()"
   ]
  },
  {
   "cell_type": "code",
   "execution_count": null,
   "metadata": {},
   "outputs": [],
   "source": [
    "grouped_data.rename_axis('Datum', inplace=True)\n"
   ]
  },
  {
   "cell_type": "code",
   "execution_count": 99,
   "metadata": {},
   "outputs": [
    {
     "data": {
      "text/html": [
       "<div>\n",
       "<style scoped>\n",
       "    .dataframe tbody tr th:only-of-type {\n",
       "        vertical-align: middle;\n",
       "    }\n",
       "\n",
       "    .dataframe tbody tr th {\n",
       "        vertical-align: top;\n",
       "    }\n",
       "\n",
       "    .dataframe thead th {\n",
       "        text-align: right;\n",
       "    }\n",
       "</style>\n",
       "<table border=\"1\" class=\"dataframe\">\n",
       "  <thead>\n",
       "    <tr style=\"text-align: right;\">\n",
       "      <th></th>\n",
       "      <th>Anzahl Logiernächte</th>\n",
       "    </tr>\n",
       "    <tr>\n",
       "      <th>Datum</th>\n",
       "      <th></th>\n",
       "    </tr>\n",
       "  </thead>\n",
       "  <tbody>\n",
       "    <tr>\n",
       "      <th>2015-01-01</th>\n",
       "      <td>2092</td>\n",
       "    </tr>\n",
       "    <tr>\n",
       "      <th>2015-01-02</th>\n",
       "      <td>1877</td>\n",
       "    </tr>\n",
       "    <tr>\n",
       "      <th>2015-01-03</th>\n",
       "      <td>1531</td>\n",
       "    </tr>\n",
       "    <tr>\n",
       "      <th>2015-01-04</th>\n",
       "      <td>1268</td>\n",
       "    </tr>\n",
       "    <tr>\n",
       "      <th>2015-01-05</th>\n",
       "      <td>1552</td>\n",
       "    </tr>\n",
       "  </tbody>\n",
       "</table>\n",
       "</div>"
      ],
      "text/plain": [
       "            Anzahl Logiernächte\n",
       "Datum                          \n",
       "2015-01-01                 2092\n",
       "2015-01-02                 1877\n",
       "2015-01-03                 1531\n",
       "2015-01-04                 1268\n",
       "2015-01-05                 1552"
      ]
     },
     "execution_count": 99,
     "metadata": {},
     "output_type": "execute_result"
    }
   ],
   "source": [
    "grouped_data.head()"
   ]
  }
 ],
 "metadata": {
  "kernelspec": {
   "display_name": "base",
   "language": "python",
   "name": "python3"
  },
  "language_info": {
   "codemirror_mode": {
    "name": "ipython",
    "version": 3
   },
   "file_extension": ".py",
   "mimetype": "text/x-python",
   "name": "python",
   "nbconvert_exporter": "python",
   "pygments_lexer": "ipython3",
   "version": "3.12.4"
  }
 },
 "nbformat": 4,
 "nbformat_minor": 2
}
