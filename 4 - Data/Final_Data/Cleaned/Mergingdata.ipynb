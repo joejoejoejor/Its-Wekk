{
 "cells": [
  {
   "cell_type": "code",
   "execution_count": 10,
   "metadata": {},
   "outputs": [],
   "source": [
    "import pandas as pd\n",
    "\n",
    "df0 = pd.read_csv('10Targcleaned.csv')\n",
    "df1 = pd.read_csv('1000014cleaned.csv')\n",
    "df2 = pd.read_csv('1000048cleaned.csv')\n",
    "df3 = pd.read_csv('1000050cleaned.csv')\n",
    "df4 = pd.read_csv('1000051cleaned.csv')\n",
    "df5 = pd.read_csv('10Flugbewegungencleaned.csv', delimiter=';')\n",
    "df6 = pd.read_csv('Gasverbrauch_cleaned.csv')\n",
    "df7 = pd.read_csv('merged_df.csv')\n",
    "df8 = pd.read_csv('Schallmessungen_cleaned.csv')\n",
    "df9 = pd.read_csv('Stromverbrauch_Basel_hourly_cleaned.csv')\n",
    "df11 = pd.read_csv('Wetterdaten_Basel_cleanded22_24.csv')"
   ]
  }
 ],
 "metadata": {
  "kernelspec": {
   "display_name": "Python 3",
   "language": "python",
   "name": "python3"
  },
  "language_info": {
   "codemirror_mode": {
    "name": "ipython",
    "version": 3
   },
   "file_extension": ".py",
   "mimetype": "text/x-python",
   "name": "python",
   "nbconvert_exporter": "python",
   "pygments_lexer": "ipython3",
   "version": "3.9.6"
  }
 },
 "nbformat": 4,
 "nbformat_minor": 2
}
