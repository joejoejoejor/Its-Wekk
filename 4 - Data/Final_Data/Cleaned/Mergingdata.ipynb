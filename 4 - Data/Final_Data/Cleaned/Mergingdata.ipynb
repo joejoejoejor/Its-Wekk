{
 "cells": [
  {
   "cell_type": "code",
   "execution_count": 1,
   "metadata": {},
   "outputs": [],
   "source": [
    "import pandas as pd\n",
    "\n",
    "df0 = pd.read_csv('10Targcleaned.csv')\n",
    "df1 = pd.read_csv('1000014cleaned.csv')\n",
    "df2 = pd.read_csv('1000048cleaned.csv')\n",
    "df3 = pd.read_csv('1000050cleaned.csv')\n",
    "df4 = pd.read_csv('1000051cleaned.csv')\n",
    "df5 = pd.read_csv('10Flugbewegungencleaned.csv', delimiter=';')\n",
    "df6 = pd.read_csv('Gasverbrauch_cleaned.csv')\n",
    "df7 = pd.read_csv('merged_df.csv')\n",
    "df8 = pd.read_csv('Schallmessungen_cleaned.csv')\n",
    "df9 = pd.read_csv('Stromverbrauch_Basel_hourly_cleaned.csv')\n",
    "df11 = pd.read_csv('Wetterdaten_Basel_cleanded22_24.csv')"
   ]
  },
  {
   "cell_type": "code",
   "execution_count": 2,
   "metadata": {},
   "outputs": [
    {
     "name": "stdout",
     "output_type": "stream",
     "text": [
      "Index(['Datum', 'PM10 (Stundenmittelwerte)', 'PM2.5 (Stundenmittelwerte)'], dtype='object')\n"
     ]
    },
    {
     "data": {
      "text/html": [
       "<div>\n",
       "<style scoped>\n",
       "    .dataframe tbody tr th:only-of-type {\n",
       "        vertical-align: middle;\n",
       "    }\n",
       "\n",
       "    .dataframe tbody tr th {\n",
       "        vertical-align: top;\n",
       "    }\n",
       "\n",
       "    .dataframe thead th {\n",
       "        text-align: right;\n",
       "    }\n",
       "</style>\n",
       "<table border=\"1\" class=\"dataframe\">\n",
       "  <thead>\n",
       "    <tr style=\"text-align: right;\">\n",
       "      <th></th>\n",
       "      <th>Datum</th>\n",
       "      <th>PM10 (Stundenmittelwerte)</th>\n",
       "      <th>PM2.5 (Stundenmittelwerte)</th>\n",
       "    </tr>\n",
       "  </thead>\n",
       "  <tbody>\n",
       "    <tr>\n",
       "      <th>0</th>\n",
       "      <td>2021-12-31 22:00:00</td>\n",
       "      <td>83.840</td>\n",
       "      <td>71.870</td>\n",
       "    </tr>\n",
       "    <tr>\n",
       "      <th>1</th>\n",
       "      <td>2021-12-31 23:00:00</td>\n",
       "      <td>91.973</td>\n",
       "      <td>78.909</td>\n",
       "    </tr>\n",
       "    <tr>\n",
       "      <th>2</th>\n",
       "      <td>2022-01-01 00:00:00</td>\n",
       "      <td>68.396</td>\n",
       "      <td>58.632</td>\n",
       "    </tr>\n",
       "    <tr>\n",
       "      <th>3</th>\n",
       "      <td>2022-01-01 01:00:00</td>\n",
       "      <td>49.625</td>\n",
       "      <td>42.563</td>\n",
       "    </tr>\n",
       "    <tr>\n",
       "      <th>4</th>\n",
       "      <td>2022-01-01 02:00:00</td>\n",
       "      <td>41.854</td>\n",
       "      <td>35.799</td>\n",
       "    </tr>\n",
       "    <tr>\n",
       "      <th>...</th>\n",
       "      <td>...</td>\n",
       "      <td>...</td>\n",
       "      <td>...</td>\n",
       "    </tr>\n",
       "    <tr>\n",
       "      <th>25354</th>\n",
       "      <td>2024-11-22 08:00:00</td>\n",
       "      <td>9.305</td>\n",
       "      <td>7.167</td>\n",
       "    </tr>\n",
       "    <tr>\n",
       "      <th>25355</th>\n",
       "      <td>2024-11-22 09:00:00</td>\n",
       "      <td>10.314</td>\n",
       "      <td>7.574</td>\n",
       "    </tr>\n",
       "    <tr>\n",
       "      <th>25356</th>\n",
       "      <td>2024-11-22 10:00:00</td>\n",
       "      <td>7.101</td>\n",
       "      <td>5.376</td>\n",
       "    </tr>\n",
       "    <tr>\n",
       "      <th>25357</th>\n",
       "      <td>2024-11-22 11:00:00</td>\n",
       "      <td>5.904</td>\n",
       "      <td>5.010</td>\n",
       "    </tr>\n",
       "    <tr>\n",
       "      <th>25358</th>\n",
       "      <td>2024-11-22 12:00:00</td>\n",
       "      <td>5.758</td>\n",
       "      <td>4.743</td>\n",
       "    </tr>\n",
       "  </tbody>\n",
       "</table>\n",
       "<p>25359 rows × 3 columns</p>\n",
       "</div>"
      ],
      "text/plain": [
       "                    Datum  PM10 (Stundenmittelwerte)  \\\n",
       "0     2021-12-31 22:00:00                     83.840   \n",
       "1     2021-12-31 23:00:00                     91.973   \n",
       "2     2022-01-01 00:00:00                     68.396   \n",
       "3     2022-01-01 01:00:00                     49.625   \n",
       "4     2022-01-01 02:00:00                     41.854   \n",
       "...                   ...                        ...   \n",
       "25354 2024-11-22 08:00:00                      9.305   \n",
       "25355 2024-11-22 09:00:00                     10.314   \n",
       "25356 2024-11-22 10:00:00                      7.101   \n",
       "25357 2024-11-22 11:00:00                      5.904   \n",
       "25358 2024-11-22 12:00:00                      5.758   \n",
       "\n",
       "       PM2.5 (Stundenmittelwerte)  \n",
       "0                          71.870  \n",
       "1                          78.909  \n",
       "2                          58.632  \n",
       "3                          42.563  \n",
       "4                          35.799  \n",
       "...                           ...  \n",
       "25354                       7.167  \n",
       "25355                       7.574  \n",
       "25356                       5.376  \n",
       "25357                       5.010  \n",
       "25358                       4.743  \n",
       "\n",
       "[25359 rows x 3 columns]"
      ]
     },
     "execution_count": 2,
     "metadata": {},
     "output_type": "execute_result"
    }
   ],
   "source": [
    "# Check the columns of df0\n",
    "print(df0.columns)\n",
    "\n",
    "# If the column name is different, use the correct column name\n",
    "# Assuming the correct column name is 'Date/Time'\n",
    "df0['Datum'] = pd.to_datetime(df0['Datum']) + pd.DateOffset(hours=-2)\n",
    "df0"
   ]
  },
  {
   "cell_type": "code",
   "execution_count": null,
   "metadata": {},
   "outputs": [
    {
     "name": "stderr",
     "output_type": "stream",
     "text": [
      "/var/folders/rt/8pf1f2_x7sj69ytpkljsggxr0000gn/T/ipykernel_54152/782661234.py:7: UserWarning: Could not infer format, so each element will be parsed individually, falling back to `dateutil`. To ensure parsing is consistent and as-expected, please specify a format.\n",
      "  df[first_col] = pd.to_datetime(df[first_col], errors='coerce')\n",
      "/var/folders/rt/8pf1f2_x7sj69ytpkljsggxr0000gn/T/ipykernel_54152/782661234.py:7: UserWarning: Could not infer format, so each element will be parsed individually, falling back to `dateutil`. To ensure parsing is consistent and as-expected, please specify a format.\n",
      "  df[first_col] = pd.to_datetime(df[first_col], errors='coerce')\n"
     ]
    },
    {
     "ename": "",
     "evalue": "",
     "output_type": "error",
     "traceback": [
      "\u001b[1;31mThe Kernel crashed while executing code in the current cell or a previous cell. \n",
      "\u001b[1;31mPlease review the code in the cell(s) to identify a possible cause of the failure. \n",
      "\u001b[1;31mClick <a href='https://aka.ms/vscodeJupyterKernelCrash'>here</a> for more info. \n",
      "\u001b[1;31mView Jupyter <a href='command:jupyter.viewOutput'>log</a> for further details."
     ]
    }
   ],
   "source": [
    "# List of dataframes\n",
    "dfs = [df0, df1, df2, df3, df4, df5, df6, df7, df8, df9, df11]\n",
    "\n",
    "# Loop through each dataframe\n",
    "for i, df in enumerate(dfs):\n",
    "    first_col = df.columns[0]\n",
    "    df[first_col] = pd.to_datetime(df[first_col], errors='coerce')\n",
    "    df.rename(columns={first_col: 'DaTii'}, inplace=True)\n",
    "    dfs[i] = df\n",
    "\n",
    "# Assign the transformed dataframes back to their original names\n",
    "df0, df1, df2, df3, df4, df5, df6, df7, df8, df9, df11 = dfs"
   ]
  },
  {
   "cell_type": "code",
   "execution_count": null,
   "metadata": {},
   "outputs": [],
   "source": [
    "from functools import reduce\n",
    "\n",
    "# Ensure all 'DaTii' columns are localized to a timezone and then converted to timezone-naive\n",
    "for df in dfs:\n",
    "\tif df['DaTii'].dt.tz is None:\n",
    "\t\tdf['DaTii'] = df['DaTii'].dt.tz_localize('UTC', ambiguous='NaT', nonexistent='NaT')\n",
    "\tdf['DaTii'] = df['DaTii'].dt.tz_convert(None)\n",
    "\n",
    "# Merge all dataframes on 'DaTii'\n",
    "merged_df = reduce(lambda left, right: pd.merge(left, right, on='DaTii', how='outer'), dfs)\n",
    "merged_df"
   ]
  }
 ],
 "metadata": {
  "kernelspec": {
   "display_name": "Python 3",
   "language": "python",
   "name": "python3"
  },
  "language_info": {
   "codemirror_mode": {
    "name": "ipython",
    "version": 3
   },
   "file_extension": ".py",
   "mimetype": "text/x-python",
   "name": "python",
   "nbconvert_exporter": "python",
   "pygments_lexer": "ipython3",
   "version": "3.9.6"
  }
 },
 "nbformat": 4,
 "nbformat_minor": 2
}
