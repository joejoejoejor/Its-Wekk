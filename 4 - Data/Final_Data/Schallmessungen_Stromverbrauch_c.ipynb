{
 "cells": [
  {
   "cell_type": "code",
   "execution_count": 27,
   "metadata": {},
   "outputs": [],
   "source": [
    "import pandas as pd\n",
    "df = pd.read_csv(\"./Schallmessungen_smartcity.csv\", sep=\";\")"
   ]
  },
  {
   "cell_type": "code",
   "execution_count": 28,
   "metadata": {},
   "outputs": [
    {
     "name": "stdout",
     "output_type": "stream",
     "text": [
      "235188\n"
     ]
    }
   ],
   "source": [
    "df_sorted = df[df[\"Station\"] == \"Feldbergstrasse\"]\n",
    "\n",
    "df_sorted.head(5)\n",
    "\n",
    "print(len(df_sorted))\n"
   ]
  },
  {
   "cell_type": "code",
   "execution_count": 29,
   "metadata": {},
   "outputs": [
    {
     "name": "stdout",
     "output_type": "stream",
     "text": [
      "First Observation:\n",
      "                Station  ...               EUI\n",
      "125227  Feldbergstrasse  ...  0004A30B00F156E2\n",
      "\n",
      "[1 rows x 7 columns]\n",
      "\n",
      "Last Observation:\n",
      "                 Station  ...               EUI\n",
      "1804366  Feldbergstrasse  ...  0004A30B00F156E2\n",
      "\n",
      "[1 rows x 7 columns]\n"
     ]
    }
   ],
   "source": [
    "df_sorted_date = df_sorted.sort_values(by='Zeitstempel')\n",
    "\n",
    "first_observation = df_sorted_date.head(1)\n",
    "last_observation = df_sorted_date.tail(1)\n",
    "\n",
    "print(\"First Observation:\")\n",
    "print(first_observation)\n",
    "\n",
    "print(\"\\nLast Observation:\")\n",
    "print(last_observation)"
   ]
  },
  {
   "cell_type": "code",
   "execution_count": 30,
   "metadata": {},
   "outputs": [
    {
     "data": {
      "text/html": [
       "<div>\n",
       "<style scoped>\n",
       "    .dataframe tbody tr th:only-of-type {\n",
       "        vertical-align: middle;\n",
       "    }\n",
       "\n",
       "    .dataframe tbody tr th {\n",
       "        vertical-align: top;\n",
       "    }\n",
       "\n",
       "    .dataframe thead th {\n",
       "        text-align: right;\n",
       "    }\n",
       "</style>\n",
       "<table border=\"1\" class=\"dataframe\">\n",
       "  <thead>\n",
       "    <tr style=\"text-align: right;\">\n",
       "      <th></th>\n",
       "      <th>Station</th>\n",
       "      <th>Zeitstempel</th>\n",
       "      <th>Wert</th>\n",
       "      <th>Geopunkt</th>\n",
       "      <th>Geographische Breite</th>\n",
       "      <th>Geographische Länge</th>\n",
       "      <th>EUI</th>\n",
       "    </tr>\n",
       "  </thead>\n",
       "  <tbody>\n",
       "    <tr>\n",
       "      <th>696010</th>\n",
       "      <td>Feldbergstrasse</td>\n",
       "      <td>2022-01-01 00:04:00+00:00</td>\n",
       "      <td>72.0</td>\n",
       "      <td>47.567005, 7.594749</td>\n",
       "      <td>47.567005</td>\n",
       "      <td>7.594749</td>\n",
       "      <td>0004A30B00F156E2</td>\n",
       "    </tr>\n",
       "    <tr>\n",
       "      <th>1298200</th>\n",
       "      <td>Feldbergstrasse</td>\n",
       "      <td>2022-01-01 00:10:00+00:00</td>\n",
       "      <td>69.0</td>\n",
       "      <td>47.567005, 7.594749</td>\n",
       "      <td>47.567005</td>\n",
       "      <td>7.594749</td>\n",
       "      <td>0004A30B00F156E2</td>\n",
       "    </tr>\n",
       "    <tr>\n",
       "      <th>1298201</th>\n",
       "      <td>Feldbergstrasse</td>\n",
       "      <td>2022-01-01 00:15:00+00:00</td>\n",
       "      <td>67.6</td>\n",
       "      <td>47.567005, 7.594749</td>\n",
       "      <td>47.567005</td>\n",
       "      <td>7.594749</td>\n",
       "      <td>0004A30B00F156E2</td>\n",
       "    </tr>\n",
       "    <tr>\n",
       "      <th>1298202</th>\n",
       "      <td>Feldbergstrasse</td>\n",
       "      <td>2022-01-01 00:21:00+00:00</td>\n",
       "      <td>68.4</td>\n",
       "      <td>47.567005, 7.594749</td>\n",
       "      <td>47.567005</td>\n",
       "      <td>7.594749</td>\n",
       "      <td>0004A30B00F156E2</td>\n",
       "    </tr>\n",
       "    <tr>\n",
       "      <th>696011</th>\n",
       "      <td>Feldbergstrasse</td>\n",
       "      <td>2022-01-01 00:26:00+00:00</td>\n",
       "      <td>74.6</td>\n",
       "      <td>47.567005, 7.594749</td>\n",
       "      <td>47.567005</td>\n",
       "      <td>7.594749</td>\n",
       "      <td>0004A30B00F156E2</td>\n",
       "    </tr>\n",
       "    <tr>\n",
       "      <th>...</th>\n",
       "      <td>...</td>\n",
       "      <td>...</td>\n",
       "      <td>...</td>\n",
       "      <td>...</td>\n",
       "      <td>...</td>\n",
       "      <td>...</td>\n",
       "      <td>...</td>\n",
       "    </tr>\n",
       "    <tr>\n",
       "      <th>696042</th>\n",
       "      <td>Feldbergstrasse</td>\n",
       "      <td>2022-01-01 09:05:00+00:00</td>\n",
       "      <td>66.5</td>\n",
       "      <td>47.567005, 7.594749</td>\n",
       "      <td>47.567005</td>\n",
       "      <td>7.594749</td>\n",
       "      <td>0004A30B00F156E2</td>\n",
       "    </tr>\n",
       "    <tr>\n",
       "      <th>1298225</th>\n",
       "      <td>Feldbergstrasse</td>\n",
       "      <td>2022-01-01 09:11:00+00:00</td>\n",
       "      <td>65.9</td>\n",
       "      <td>47.567005, 7.594749</td>\n",
       "      <td>47.567005</td>\n",
       "      <td>7.594749</td>\n",
       "      <td>0004A30B00F156E2</td>\n",
       "    </tr>\n",
       "    <tr>\n",
       "      <th>203290</th>\n",
       "      <td>Feldbergstrasse</td>\n",
       "      <td>2022-01-01 09:16:00+00:00</td>\n",
       "      <td>66.2</td>\n",
       "      <td>47.567005, 7.594749</td>\n",
       "      <td>47.567005</td>\n",
       "      <td>7.594749</td>\n",
       "      <td>0004A30B00F156E2</td>\n",
       "    </tr>\n",
       "    <tr>\n",
       "      <th>1298226</th>\n",
       "      <td>Feldbergstrasse</td>\n",
       "      <td>2022-01-01 09:22:00+00:00</td>\n",
       "      <td>64.8</td>\n",
       "      <td>47.567005, 7.594749</td>\n",
       "      <td>47.567005</td>\n",
       "      <td>7.594749</td>\n",
       "      <td>0004A30B00F156E2</td>\n",
       "    </tr>\n",
       "    <tr>\n",
       "      <th>696043</th>\n",
       "      <td>Feldbergstrasse</td>\n",
       "      <td>2022-01-01 09:27:00+00:00</td>\n",
       "      <td>64.6</td>\n",
       "      <td>47.567005, 7.594749</td>\n",
       "      <td>47.567005</td>\n",
       "      <td>7.594749</td>\n",
       "      <td>0004A30B00F156E2</td>\n",
       "    </tr>\n",
       "  </tbody>\n",
       "</table>\n",
       "<p>100 rows × 7 columns</p>\n",
       "</div>"
      ],
      "text/plain": [
       "                 Station  ...               EUI\n",
       "696010   Feldbergstrasse  ...  0004A30B00F156E2\n",
       "1298200  Feldbergstrasse  ...  0004A30B00F156E2\n",
       "1298201  Feldbergstrasse  ...  0004A30B00F156E2\n",
       "1298202  Feldbergstrasse  ...  0004A30B00F156E2\n",
       "696011   Feldbergstrasse  ...  0004A30B00F156E2\n",
       "...                  ...  ...               ...\n",
       "696042   Feldbergstrasse  ...  0004A30B00F156E2\n",
       "1298225  Feldbergstrasse  ...  0004A30B00F156E2\n",
       "203290   Feldbergstrasse  ...  0004A30B00F156E2\n",
       "1298226  Feldbergstrasse  ...  0004A30B00F156E2\n",
       "696043   Feldbergstrasse  ...  0004A30B00F156E2\n",
       "\n",
       "[100 rows x 7 columns]"
      ]
     },
     "execution_count": 30,
     "metadata": {},
     "output_type": "execute_result"
    }
   ],
   "source": [
    "df_sorted_date['Zeitstempel'] = pd.to_datetime(df_sorted_date['Zeitstempel'])\n",
    "df_filtered = df_sorted_date[df_sorted_date['Zeitstempel'] >= '2022-01-01']\n",
    "\n",
    "df_filtered.head(100)"
   ]
  },
  {
   "cell_type": "code",
   "execution_count": 31,
   "metadata": {},
   "outputs": [],
   "source": [
    "Schallmessungen = df_filtered.drop(columns=[\"Geopunkt\", \"Geographische Breite\", \"Geographische Länge\", \"EUI\", \"Station\"])\n",
    "\n",
    "Schallmessungen.rename(columns={'Zeitstempel': 'Datum'}, inplace=True)\n",
    "Schallmessungen['Datum'] = Schallmessungen['Datum'].dt.tz_localize(None)\n",
    "\n",
    "Schallmessungen.set_index('Datum', inplace=True)\n",
    "\n"
   ]
  },
  {
   "cell_type": "code",
   "execution_count": 32,
   "metadata": {},
   "outputs": [
    {
     "data": {
      "text/html": [
       "<div>\n",
       "<style scoped>\n",
       "    .dataframe tbody tr th:only-of-type {\n",
       "        vertical-align: middle;\n",
       "    }\n",
       "\n",
       "    .dataframe tbody tr th {\n",
       "        vertical-align: top;\n",
       "    }\n",
       "\n",
       "    .dataframe thead th {\n",
       "        text-align: right;\n",
       "    }\n",
       "</style>\n",
       "<table border=\"1\" class=\"dataframe\">\n",
       "  <thead>\n",
       "    <tr style=\"text-align: right;\">\n",
       "      <th></th>\n",
       "      <th>Wert</th>\n",
       "    </tr>\n",
       "    <tr>\n",
       "      <th>Datum</th>\n",
       "      <th></th>\n",
       "    </tr>\n",
       "  </thead>\n",
       "  <tbody>\n",
       "    <tr>\n",
       "      <th>2022-01-01 00:04:00</th>\n",
       "      <td>72.0</td>\n",
       "    </tr>\n",
       "    <tr>\n",
       "      <th>2022-01-01 00:10:00</th>\n",
       "      <td>69.0</td>\n",
       "    </tr>\n",
       "    <tr>\n",
       "      <th>2022-01-01 00:15:00</th>\n",
       "      <td>67.6</td>\n",
       "    </tr>\n",
       "    <tr>\n",
       "      <th>2022-01-01 00:21:00</th>\n",
       "      <td>68.4</td>\n",
       "    </tr>\n",
       "    <tr>\n",
       "      <th>2022-01-01 00:26:00</th>\n",
       "      <td>74.6</td>\n",
       "    </tr>\n",
       "  </tbody>\n",
       "</table>\n",
       "</div>"
      ],
      "text/plain": [
       "                     Wert\n",
       "Datum                    \n",
       "2022-01-01 00:04:00  72.0\n",
       "2022-01-01 00:10:00  69.0\n",
       "2022-01-01 00:15:00  67.6\n",
       "2022-01-01 00:21:00  68.4\n",
       "2022-01-01 00:26:00  74.6"
      ]
     },
     "execution_count": 32,
     "metadata": {},
     "output_type": "execute_result"
    }
   ],
   "source": [
    "Schallmessungen.head()"
   ]
  },
  {
   "cell_type": "code",
   "execution_count": 33,
   "metadata": {},
   "outputs": [
    {
     "data": {
      "text/html": [
       "<div>\n",
       "<style scoped>\n",
       "    .dataframe tbody tr th:only-of-type {\n",
       "        vertical-align: middle;\n",
       "    }\n",
       "\n",
       "    .dataframe tbody tr th {\n",
       "        vertical-align: top;\n",
       "    }\n",
       "\n",
       "    .dataframe thead th {\n",
       "        text-align: right;\n",
       "    }\n",
       "</style>\n",
       "<table border=\"1\" class=\"dataframe\">\n",
       "  <thead>\n",
       "    <tr style=\"text-align: right;\">\n",
       "      <th></th>\n",
       "      <th>Datum</th>\n",
       "      <th>Wert</th>\n",
       "    </tr>\n",
       "  </thead>\n",
       "  <tbody>\n",
       "    <tr>\n",
       "      <th>0</th>\n",
       "      <td>2022-01-01 00:00:00</td>\n",
       "      <td>68.5000</td>\n",
       "    </tr>\n",
       "    <tr>\n",
       "      <th>1</th>\n",
       "      <td>2022-01-01 01:00:00</td>\n",
       "      <td>67.0400</td>\n",
       "    </tr>\n",
       "    <tr>\n",
       "      <th>2</th>\n",
       "      <td>2022-01-01 02:00:00</td>\n",
       "      <td>66.2000</td>\n",
       "    </tr>\n",
       "    <tr>\n",
       "      <th>3</th>\n",
       "      <td>2022-01-01 03:00:00</td>\n",
       "      <td>65.6364</td>\n",
       "    </tr>\n",
       "    <tr>\n",
       "      <th>4</th>\n",
       "      <td>2022-01-01 04:00:00</td>\n",
       "      <td>66.0727</td>\n",
       "    </tr>\n",
       "  </tbody>\n",
       "</table>\n",
       "</div>"
      ],
      "text/plain": [
       "                Datum     Wert\n",
       "0 2022-01-01 00:00:00  68.5000\n",
       "1 2022-01-01 01:00:00  67.0400\n",
       "2 2022-01-01 02:00:00  66.2000\n",
       "3 2022-01-01 03:00:00  65.6364\n",
       "4 2022-01-01 04:00:00  66.0727"
      ]
     },
     "execution_count": 33,
     "metadata": {},
     "output_type": "execute_result"
    }
   ],
   "source": [
    "Schallmessungen.index = pd.to_datetime(Schallmessungen.index)\n",
    "Schallmessungen_hourly = Schallmessungen[\"Wert\"].resample('h').mean().round(4)\n",
    "Schallmessungen_hourly = Schallmessungen_hourly.to_frame()\n",
    "Schallmessungen_hourly.reset_index(inplace=True)\n",
    "Schallmessungen_hourly.head()\n",
    "\n"
   ]
  },
  {
   "cell_type": "code",
   "execution_count": 34,
   "metadata": {},
   "outputs": [
    {
     "data": {
      "text/plain": [
       "(np.float64(4.505084756834426e-16), np.float64(1.0000225161835095))"
      ]
     },
     "execution_count": 34,
     "metadata": {},
     "output_type": "execute_result"
    }
   ],
   "source": [
    "#standardise the columns\n",
    "from sklearn.preprocessing import StandardScaler\n",
    "scaler = StandardScaler()\n",
    "Schallmessungen_hourly[\"Wert\"] = scaler.fit_transform(Schallmessungen_hourly[[\"Wert\"]])\n",
    "\n",
    "Schallmessungen_hourly[\"Wert\"].mean(), Schallmessungen_hourly[\"Wert\"].std()\n",
    "#Schallmessungen_hourly[\"Wert\"].head()"
   ]
  },
  {
   "cell_type": "code",
   "execution_count": 36,
   "metadata": {},
   "outputs": [
    {
     "data": {
      "text/html": [
       "<div>\n",
       "<style scoped>\n",
       "    .dataframe tbody tr th:only-of-type {\n",
       "        vertical-align: middle;\n",
       "    }\n",
       "\n",
       "    .dataframe tbody tr th {\n",
       "        vertical-align: top;\n",
       "    }\n",
       "\n",
       "    .dataframe thead th {\n",
       "        text-align: right;\n",
       "    }\n",
       "</style>\n",
       "<table border=\"1\" class=\"dataframe\">\n",
       "  <thead>\n",
       "    <tr style=\"text-align: right;\">\n",
       "      <th></th>\n",
       "      <th>Datum</th>\n",
       "      <th>Wert</th>\n",
       "    </tr>\n",
       "  </thead>\n",
       "  <tbody>\n",
       "    <tr>\n",
       "      <th>0</th>\n",
       "      <td>2022-01-01 00:00:00</td>\n",
       "      <td>1.144333</td>\n",
       "    </tr>\n",
       "    <tr>\n",
       "      <th>1</th>\n",
       "      <td>2022-01-01 01:00:00</td>\n",
       "      <td>1.078958</td>\n",
       "    </tr>\n",
       "    <tr>\n",
       "      <th>2</th>\n",
       "      <td>2022-01-01 02:00:00</td>\n",
       "      <td>1.041345</td>\n",
       "    </tr>\n",
       "    <tr>\n",
       "      <th>3</th>\n",
       "      <td>2022-01-01 03:00:00</td>\n",
       "      <td>1.016109</td>\n",
       "    </tr>\n",
       "    <tr>\n",
       "      <th>4</th>\n",
       "      <td>2022-01-01 04:00:00</td>\n",
       "      <td>1.035645</td>\n",
       "    </tr>\n",
       "  </tbody>\n",
       "</table>\n",
       "</div>"
      ],
      "text/plain": [
       "                Datum      Wert\n",
       "0 2022-01-01 00:00:00  1.144333\n",
       "1 2022-01-01 01:00:00  1.078958\n",
       "2 2022-01-01 02:00:00  1.041345\n",
       "3 2022-01-01 03:00:00  1.016109\n",
       "4 2022-01-01 04:00:00  1.035645"
      ]
     },
     "execution_count": 36,
     "metadata": {},
     "output_type": "execute_result"
    }
   ],
   "source": [
    "Schallmessungen_hourly.head()"
   ]
  },
  {
   "cell_type": "code",
   "execution_count": null,
   "metadata": {},
   "outputs": [
    {
     "name": "stdout",
     "output_type": "stream",
     "text": [
      "No rows are missing.\n"
     ]
    }
   ],
   "source": [
    "#hopefully useless\n",
    "#checking for missing values\n",
    "\n",
    "# Create a date range from the minimum to the maximum date in the 'Datum' column\n",
    "date_range = pd.date_range(start=Schallmessungen_hourly['Datum'].min(), end=Schallmessungen_hourly['Datum'].max(), freq='D')\n",
    "\n",
    "# Create a DataFrame with all the dates in the range\n",
    "all_dates = pd.DataFrame({'Datum': date_range})\n",
    "\n",
    "# Merge this new DataFrame with the original to find missing dates\n",
    "missing_dates = pd.merge(all_dates, Schallmessungen_hourly, on='Datum', how='left', indicator=True)\n",
    "\n",
    "# Rows that are missing in the original DataFrame will have '_merge' == 'left_only'\n",
    "missing_rows = missing_dates[missing_dates['_merge'] == 'left_only']\n",
    "\n",
    "# Output the missing rows (if any)\n",
    "if not missing_rows.empty:\n",
    "    print(f\"Missing rows for the following dates: {missing_rows['Datum'].tolist()}\")\n",
    "else:\n",
    "    print(\"No rows are missing.\")"
   ]
  },
  {
   "cell_type": "code",
   "execution_count": 24,
   "metadata": {},
   "outputs": [],
   "source": [
    "Schallmessungen_hourly.to_csv(r\"C:\\Users\\maxd2\\OneDrive - Universitaet St.Gallen\\Dokumente\\GitHub\\Its-Wekk\\4 - Data\\Final_Data\\Cleaned\\Schallmessungen_cleaned.csv\", sep=\";\")\n"
   ]
  },
  {
   "cell_type": "code",
   "execution_count": 2,
   "metadata": {},
   "outputs": [],
   "source": [
    "import pandas as pd\n",
    "Stromverbrauch = pd.read_csv(r\"C:\\Users\\maxd2\\OneDrive - Universitaet St.Gallen\\Desktop\\DSF\\Stromverbrauch_15minIntervall.csv\", sep=\";\")"
   ]
  },
  {
   "cell_type": "code",
   "execution_count": 3,
   "metadata": {},
   "outputs": [
    {
     "name": "stdout",
     "output_type": "stream",
     "text": [
      "<class 'pandas.core.frame.DataFrame'>\n",
      "RangeIndex: 451915 entries, 0 to 451914\n",
      "Data columns (total 12 columns):\n",
      " #   Column                    Non-Null Count   Dtype  \n",
      "---  ------                    --------------   -----  \n",
      " 0   Start der Messung         451915 non-null  object \n",
      " 1   Start der Messung (Text)  451915 non-null  object \n",
      " 2   Stromverbrauch            451915 non-null  float64\n",
      " 3   Grundversorgte Kunden     153971 non-null  float64\n",
      " 4   Freie Kunden              148019 non-null  float64\n",
      " 5   Jahr                      451915 non-null  int64  \n",
      " 6   Monat                     451915 non-null  int64  \n",
      " 7   Tag                       451915 non-null  int64  \n",
      " 8   Wochentag                 451915 non-null  int64  \n",
      " 9   Tag des Jahres            451915 non-null  int64  \n",
      " 10  Quartal                   451915 non-null  int64  \n",
      " 11  Woche des Jahres          451915 non-null  int64  \n",
      "dtypes: float64(3), int64(7), object(2)\n",
      "memory usage: 41.4+ MB\n"
     ]
    }
   ],
   "source": [
    "Stromverbrauch.tail()\n",
    "\n",
    "\n",
    "Stromverbrauch.info()"
   ]
  },
  {
   "cell_type": "code",
   "execution_count": 6,
   "metadata": {},
   "outputs": [],
   "source": [
    "Stromverbrauch_cut = Stromverbrauch.drop(columns=[\"Start der Messung (Text)\", \"Grundversorgte Kunden\", \"Freie Kunden\", \"Jahr\", \"Monat\", \"Tag\", \"Wochentag\",\"Tag des Jahres\", \"Quartal\", \"Woche des Jahres\"])\n",
    "\n",
    "Stromverbrauch_cut.rename(columns={'Start der Messung': 'Datum'}, inplace=True)\n",
    "\n",
    "Stromverbrauch_cut['Datum'] = pd.to_datetime(Stromverbrauch_cut['Datum'], errors='coerce', utc=True)\n",
    "\n",
    "#Stromverbrauch_cut['Datum'] = Stromverbrauch_cut['Datum'].dt.tz_localize(None)\n",
    "\n",
    "Stromverbrauch_cut = Stromverbrauch_cut.sort_values(by='Datum')\n",
    "\n",
    "\n",
    "Stromverbrauch_cut = Stromverbrauch_cut[Stromverbrauch_cut['Datum'] >= '2022-01-01']\n",
    "\n",
    "Stromverbrauch_cut.set_index('Datum', inplace=True)\n",
    "\n"
   ]
  },
  {
   "cell_type": "code",
   "execution_count": 8,
   "metadata": {},
   "outputs": [
    {
     "data": {
      "text/html": [
       "<div>\n",
       "<style scoped>\n",
       "    .dataframe tbody tr th:only-of-type {\n",
       "        vertical-align: middle;\n",
       "    }\n",
       "\n",
       "    .dataframe tbody tr th {\n",
       "        vertical-align: top;\n",
       "    }\n",
       "\n",
       "    .dataframe thead th {\n",
       "        text-align: right;\n",
       "    }\n",
       "</style>\n",
       "<table border=\"1\" class=\"dataframe\">\n",
       "  <thead>\n",
       "    <tr style=\"text-align: right;\">\n",
       "      <th></th>\n",
       "      <th>Datum</th>\n",
       "      <th>Stromverbrauch</th>\n",
       "    </tr>\n",
       "  </thead>\n",
       "  <tbody>\n",
       "    <tr>\n",
       "      <th>0</th>\n",
       "      <td>2022-01-01 00:00:00+00:00</td>\n",
       "      <td>26954.3115</td>\n",
       "    </tr>\n",
       "    <tr>\n",
       "      <th>1</th>\n",
       "      <td>2022-01-01 01:00:00+00:00</td>\n",
       "      <td>25162.1338</td>\n",
       "    </tr>\n",
       "    <tr>\n",
       "      <th>2</th>\n",
       "      <td>2022-01-01 02:00:00+00:00</td>\n",
       "      <td>24057.3085</td>\n",
       "    </tr>\n",
       "    <tr>\n",
       "      <th>3</th>\n",
       "      <td>2022-01-01 03:00:00+00:00</td>\n",
       "      <td>23895.0918</td>\n",
       "    </tr>\n",
       "    <tr>\n",
       "      <th>4</th>\n",
       "      <td>2022-01-01 04:00:00+00:00</td>\n",
       "      <td>24704.4652</td>\n",
       "    </tr>\n",
       "  </tbody>\n",
       "</table>\n",
       "</div>"
      ],
      "text/plain": [
       "                      Datum  Stromverbrauch\n",
       "0 2022-01-01 00:00:00+00:00      26954.3115\n",
       "1 2022-01-01 01:00:00+00:00      25162.1338\n",
       "2 2022-01-01 02:00:00+00:00      24057.3085\n",
       "3 2022-01-01 03:00:00+00:00      23895.0918\n",
       "4 2022-01-01 04:00:00+00:00      24704.4652"
      ]
     },
     "execution_count": 8,
     "metadata": {},
     "output_type": "execute_result"
    }
   ],
   "source": [
    "Stromverbrauch_hourly = Stromverbrauch_cut[\"Stromverbrauch\"].resample('h').mean().round(4)\n",
    "Stromverbrauch_hourly = Stromverbrauch_hourly.to_frame()\n",
    "Stromverbrauch_hourly.reset_index(inplace=True)\n",
    "Stromverbrauch_hourly.head()"
   ]
  },
  {
   "cell_type": "code",
   "execution_count": 9,
   "metadata": {},
   "outputs": [
    {
     "data": {
      "text/plain": [
       "(np.float64(5.809857256373074e-16), np.float64(1.0000197509406406))"
      ]
     },
     "execution_count": 9,
     "metadata": {},
     "output_type": "execute_result"
    }
   ],
   "source": [
    "#standardise \n",
    "from sklearn.preprocessing import StandardScaler\n",
    "scaler = StandardScaler()\n",
    "Stromverbrauch_hourly[\"Stromverbrauch\"] = scaler.fit_transform(Stromverbrauch_hourly[[\"Stromverbrauch\"]])\n",
    "\n",
    "Stromverbrauch_hourly[\"Stromverbrauch\"].mean(), Stromverbrauch_hourly[\"Stromverbrauch\"].std()"
   ]
  },
  {
   "cell_type": "code",
   "execution_count": 10,
   "metadata": {},
   "outputs": [
    {
     "name": "stdout",
     "output_type": "stream",
     "text": [
      "                          Datum  Stromverbrauch\n",
      "0     2022-01-01 00:00:00+00:00       -1.116530\n",
      "1     2022-01-01 01:00:00+00:00       -1.368609\n",
      "2     2022-01-01 02:00:00+00:00       -1.524008\n",
      "3     2022-01-01 03:00:00+00:00       -1.546825\n",
      "4     2022-01-01 04:00:00+00:00       -1.432982\n",
      "...                         ...             ...\n",
      "25314 2024-11-20 18:00:00+00:00        1.049699\n",
      "25315 2024-11-20 19:00:00+00:00        0.558946\n",
      "25316 2024-11-20 20:00:00+00:00        0.131778\n",
      "25317 2024-11-20 21:00:00+00:00       -0.205962\n",
      "25318 2024-11-20 22:00:00+00:00       -0.579489\n",
      "\n",
      "[25319 rows x 2 columns]\n"
     ]
    }
   ],
   "source": [
    "print(Stromverbrauch_hourly)"
   ]
  },
  {
   "cell_type": "code",
   "execution_count": 38,
   "metadata": {},
   "outputs": [
    {
     "name": "stdout",
     "output_type": "stream",
     "text": [
      "No rows are missing.\n"
     ]
    }
   ],
   "source": [
    "#hopefully useless\n",
    "#checking for missing values\n",
    "\n",
    "# Create a date range from the minimum to the maximum date in the 'Datum' column\n",
    "date_range = pd.date_range(start=Stromverbrauch_hourly['Datum'].min(), end=Stromverbrauch_hourly['Datum'].max(), freq='D')\n",
    "\n",
    "# Create a DataFrame with all the dates in the range\n",
    "all_dates = pd.DataFrame({'Datum': date_range})\n",
    "\n",
    "# Merge this new DataFrame with the original to find missing dates\n",
    "missing_dates = pd.merge(all_dates, Stromverbrauch_hourly, on='Datum', how='left', indicator=True)\n",
    "\n",
    "# Rows that are missing in the original DataFrame will have '_merge' == 'left_only'\n",
    "missing_rows = missing_dates[missing_dates['_merge'] == 'left_only']\n",
    "\n",
    "# Output the missing rows (if any)\n",
    "if not missing_rows.empty:\n",
    "    print(f\"Missing rows for the following dates: {missing_rows['Datum'].tolist()}\")\n",
    "else:\n",
    "    print(\"No rows are missing.\")"
   ]
  },
  {
   "cell_type": "code",
   "execution_count": 11,
   "metadata": {},
   "outputs": [],
   "source": [
    "Stromverbrauch_hourly.to_csv(r\"C:\\Users\\maxd2\\OneDrive - Universitaet St.Gallen\\Dokumente\\GitHub\\Its-Wekk\\4 - Data\\Final_Data\\Cleaned\\Stromverbrauch_Basel_hourly_cleaned.csv\")"
   ]
  },
  {
   "cell_type": "code",
   "execution_count": null,
   "metadata": {},
   "outputs": [],
   "source": []
  }
 ],
 "metadata": {
  "kernelspec": {
   "display_name": "Python 3",
   "language": "python",
   "name": "python3"
  },
  "language_info": {
   "codemirror_mode": {
    "name": "ipython",
    "version": 3
   },
   "file_extension": ".py",
   "mimetype": "text/x-python",
   "name": "python",
   "nbconvert_exporter": "python",
   "pygments_lexer": "ipython3",
   "version": "3.11.9"
  }
 },
 "nbformat": 4,
 "nbformat_minor": 2
}
