{
 "cells": [
  {
   "cell_type": "code",
   "execution_count": 1,
   "metadata": {},
   "outputs": [],
   "source": [
    "import pandas as pd\n"
   ]
  },
  {
   "cell_type": "code",
   "execution_count": 16,
   "metadata": {},
   "outputs": [],
   "source": [
    "Weather_full = pd.read_csv(\"./Wetterdaten_Basel_stündlich22_24.csv\", skiprows=9)"
   ]
  },
  {
   "cell_type": "code",
   "execution_count": 17,
   "metadata": {},
   "outputs": [
    {
     "data": {
      "text/html": [
       "<div>\n",
       "<style scoped>\n",
       "    .dataframe tbody tr th:only-of-type {\n",
       "        vertical-align: middle;\n",
       "    }\n",
       "\n",
       "    .dataframe tbody tr th {\n",
       "        vertical-align: top;\n",
       "    }\n",
       "\n",
       "    .dataframe thead th {\n",
       "        text-align: right;\n",
       "    }\n",
       "</style>\n",
       "<table border=\"1\" class=\"dataframe\">\n",
       "  <thead>\n",
       "    <tr style=\"text-align: right;\">\n",
       "      <th></th>\n",
       "      <th>timestamp</th>\n",
       "      <th>Basel Temperature [2 m elevation corrected]</th>\n",
       "      <th>Basel Precipitation Total</th>\n",
       "      <th>Basel Wind Speed [10 m]</th>\n",
       "      <th>Basel Wind Direction [10 m]</th>\n",
       "    </tr>\n",
       "  </thead>\n",
       "  <tbody>\n",
       "    <tr>\n",
       "      <th>0</th>\n",
       "      <td>20220101T0000</td>\n",
       "      <td>5.560245</td>\n",
       "      <td>0.0</td>\n",
       "      <td>4.320000</td>\n",
       "      <td>180.00000</td>\n",
       "    </tr>\n",
       "    <tr>\n",
       "      <th>1</th>\n",
       "      <td>20220101T0100</td>\n",
       "      <td>4.630245</td>\n",
       "      <td>0.0</td>\n",
       "      <td>3.259939</td>\n",
       "      <td>173.65980</td>\n",
       "    </tr>\n",
       "    <tr>\n",
       "      <th>2</th>\n",
       "      <td>20220101T0200</td>\n",
       "      <td>3.660245</td>\n",
       "      <td>0.0</td>\n",
       "      <td>3.545589</td>\n",
       "      <td>156.03750</td>\n",
       "    </tr>\n",
       "    <tr>\n",
       "      <th>3</th>\n",
       "      <td>20220101T0300</td>\n",
       "      <td>3.880245</td>\n",
       "      <td>0.0</td>\n",
       "      <td>3.671294</td>\n",
       "      <td>168.69006</td>\n",
       "    </tr>\n",
       "    <tr>\n",
       "      <th>4</th>\n",
       "      <td>20220101T0400</td>\n",
       "      <td>3.650245</td>\n",
       "      <td>0.0</td>\n",
       "      <td>4.349896</td>\n",
       "      <td>155.55605</td>\n",
       "    </tr>\n",
       "  </tbody>\n",
       "</table>\n",
       "</div>"
      ],
      "text/plain": [
       "       timestamp  Basel Temperature [2 m elevation corrected]  \\\n",
       "0  20220101T0000                                     5.560245   \n",
       "1  20220101T0100                                     4.630245   \n",
       "2  20220101T0200                                     3.660245   \n",
       "3  20220101T0300                                     3.880245   \n",
       "4  20220101T0400                                     3.650245   \n",
       "\n",
       "   Basel Precipitation Total  Basel Wind Speed [10 m]  \\\n",
       "0                        0.0                 4.320000   \n",
       "1                        0.0                 3.259939   \n",
       "2                        0.0                 3.545589   \n",
       "3                        0.0                 3.671294   \n",
       "4                        0.0                 4.349896   \n",
       "\n",
       "   Basel Wind Direction [10 m]  \n",
       "0                    180.00000  \n",
       "1                    173.65980  \n",
       "2                    156.03750  \n",
       "3                    168.69006  \n",
       "4                    155.55605  "
      ]
     },
     "execution_count": 17,
     "metadata": {},
     "output_type": "execute_result"
    }
   ],
   "source": [
    "Weather_full.head()\n"
   ]
  },
  {
   "cell_type": "code",
   "execution_count": 18,
   "metadata": {},
   "outputs": [
    {
     "data": {
      "text/html": [
       "<div>\n",
       "<style scoped>\n",
       "    .dataframe tbody tr th:only-of-type {\n",
       "        vertical-align: middle;\n",
       "    }\n",
       "\n",
       "    .dataframe tbody tr th {\n",
       "        vertical-align: top;\n",
       "    }\n",
       "\n",
       "    .dataframe thead th {\n",
       "        text-align: right;\n",
       "    }\n",
       "</style>\n",
       "<table border=\"1\" class=\"dataframe\">\n",
       "  <thead>\n",
       "    <tr style=\"text-align: right;\">\n",
       "      <th></th>\n",
       "      <th>Basel Temperature [2 m elevation corrected]</th>\n",
       "      <th>Basel Precipitation Total</th>\n",
       "      <th>Basel Wind Speed [10 m]</th>\n",
       "      <th>Basel Wind Direction [10 m]</th>\n",
       "    </tr>\n",
       "    <tr>\n",
       "      <th>Datum</th>\n",
       "      <th></th>\n",
       "      <th></th>\n",
       "      <th></th>\n",
       "      <th></th>\n",
       "    </tr>\n",
       "  </thead>\n",
       "  <tbody>\n",
       "    <tr>\n",
       "      <th>2022-01-01 00:00:00+00:00</th>\n",
       "      <td>5.560245</td>\n",
       "      <td>0.0</td>\n",
       "      <td>4.320000</td>\n",
       "      <td>180.00000</td>\n",
       "    </tr>\n",
       "    <tr>\n",
       "      <th>2022-01-01 01:00:00+00:00</th>\n",
       "      <td>4.630245</td>\n",
       "      <td>0.0</td>\n",
       "      <td>3.259939</td>\n",
       "      <td>173.65980</td>\n",
       "    </tr>\n",
       "    <tr>\n",
       "      <th>2022-01-01 02:00:00+00:00</th>\n",
       "      <td>3.660245</td>\n",
       "      <td>0.0</td>\n",
       "      <td>3.545589</td>\n",
       "      <td>156.03750</td>\n",
       "    </tr>\n",
       "    <tr>\n",
       "      <th>2022-01-01 03:00:00+00:00</th>\n",
       "      <td>3.880245</td>\n",
       "      <td>0.0</td>\n",
       "      <td>3.671294</td>\n",
       "      <td>168.69006</td>\n",
       "    </tr>\n",
       "    <tr>\n",
       "      <th>2022-01-01 04:00:00+00:00</th>\n",
       "      <td>3.650245</td>\n",
       "      <td>0.0</td>\n",
       "      <td>4.349896</td>\n",
       "      <td>155.55605</td>\n",
       "    </tr>\n",
       "  </tbody>\n",
       "</table>\n",
       "</div>"
      ],
      "text/plain": [
       "                           Basel Temperature [2 m elevation corrected]  \\\n",
       "Datum                                                                    \n",
       "2022-01-01 00:00:00+00:00                                     5.560245   \n",
       "2022-01-01 01:00:00+00:00                                     4.630245   \n",
       "2022-01-01 02:00:00+00:00                                     3.660245   \n",
       "2022-01-01 03:00:00+00:00                                     3.880245   \n",
       "2022-01-01 04:00:00+00:00                                     3.650245   \n",
       "\n",
       "                           Basel Precipitation Total  Basel Wind Speed [10 m]  \\\n",
       "Datum                                                                           \n",
       "2022-01-01 00:00:00+00:00                        0.0                 4.320000   \n",
       "2022-01-01 01:00:00+00:00                        0.0                 3.259939   \n",
       "2022-01-01 02:00:00+00:00                        0.0                 3.545589   \n",
       "2022-01-01 03:00:00+00:00                        0.0                 3.671294   \n",
       "2022-01-01 04:00:00+00:00                        0.0                 4.349896   \n",
       "\n",
       "                           Basel Wind Direction [10 m]  \n",
       "Datum                                                   \n",
       "2022-01-01 00:00:00+00:00                    180.00000  \n",
       "2022-01-01 01:00:00+00:00                    173.65980  \n",
       "2022-01-01 02:00:00+00:00                    156.03750  \n",
       "2022-01-01 03:00:00+00:00                    168.69006  \n",
       "2022-01-01 04:00:00+00:00                    155.55605  "
      ]
     },
     "execution_count": 18,
     "metadata": {},
     "output_type": "execute_result"
    }
   ],
   "source": [
    "# Rename the column\n",
    "Weather_full.rename(columns={'timestamp': 'Datum'}, inplace=True)\n",
    "\n",
    "# Change the format of the 'Datum' column\n",
    "Weather_full['Datum'] = pd.to_datetime(Weather_full['Datum'], format='%Y%m%dT%H%M', utc=True)\n",
    "\n",
    "# Sort by 'Datum' and set it as the index\n",
    "Weather_full.sort_values(by='Datum', inplace=True)\n",
    "Weather_full.set_index('Datum', inplace=True)\n",
    "\n",
    "# Display the first few rows to verify the changes\n",
    "Weather_full.head()"
   ]
  },
  {
   "cell_type": "markdown",
   "metadata": {},
   "source": [
    "import numpy as np\n",
    "from sklearn.preprocessing import StandardScaler\n",
    "\n",
    "scaler = StandardScaler()\n",
    "\n",
    "target_columns = [\"Basel Temperature [2 m elevation corrected]\", \"Basel Precipitation Total\", \"Basel Wind Speed [10 m]\", \"Basel Wind Direction [10 m]\"]\n",
    "\n",
    "for col in target_columns:\n",
    "    Weather_full[col] = scaler.fit_transform(Weather_full[col].values.reshape(-1, 1))\n",
    "\n",
    "\n",
    "means = Weather_full[target_columns].mean()\n",
    "stds = Weather_full[target_columns].std()\n",
    "\n",
    "print(f\"Means: {means}\")\n",
    "\n",
    "print(f\"Stds: {stds}\")\n",
    "\n",
    "Weather_full.head()"
   ]
  },
  {
   "cell_type": "code",
   "execution_count": 19,
   "metadata": {},
   "outputs": [
    {
     "name": "stdout",
     "output_type": "stream",
     "text": [
      "No rows are missing.\n"
     ]
    }
   ],
   "source": [
    "#hopefully useless\n",
    "#checking for missing values\n",
    "Weather_full.reset_index(inplace=True)\n",
    "\n",
    "# Create a date range from the minimum to the maximum date in the 'Datum' column\n",
    "date_range = pd.date_range(start=Weather_full['Datum'].min(), end=Weather_full['Datum'].max(), freq='D')\n",
    "\n",
    "# Create a DataFrame with all the dates in the range\n",
    "all_dates = pd.DataFrame({'Datum': date_range})\n",
    "\n",
    "# Merge this new DataFrame with the original to find missing dates\n",
    "missing_dates = pd.merge(all_dates, Weather_full, on='Datum', how='left', indicator=True)\n",
    "\n",
    "# Rows that are missing in the original DataFrame will have '_merge' == 'left_only'\n",
    "missing_rows = missing_dates[missing_dates['_merge'] == 'left_only']\n",
    "\n",
    "# Output the missing rows (if any)\n",
    "if not missing_rows.empty:\n",
    "    print(f\"Missing rows for the following dates: {missing_rows['Datum'].tolist()}\")\n",
    "else:\n",
    "    print(\"No rows are missing.\")"
   ]
  },
  {
   "cell_type": "code",
   "execution_count": 20,
   "metadata": {},
   "outputs": [
    {
     "data": {
      "text/html": [
       "<div>\n",
       "<style scoped>\n",
       "    .dataframe tbody tr th:only-of-type {\n",
       "        vertical-align: middle;\n",
       "    }\n",
       "\n",
       "    .dataframe tbody tr th {\n",
       "        vertical-align: top;\n",
       "    }\n",
       "\n",
       "    .dataframe thead th {\n",
       "        text-align: right;\n",
       "    }\n",
       "</style>\n",
       "<table border=\"1\" class=\"dataframe\">\n",
       "  <thead>\n",
       "    <tr style=\"text-align: right;\">\n",
       "      <th></th>\n",
       "      <th>Datum</th>\n",
       "      <th>Basel Temperature [2 m elevation corrected]</th>\n",
       "      <th>Basel Precipitation Total</th>\n",
       "      <th>Basel Wind Speed [10 m]</th>\n",
       "      <th>Basel Wind Direction [10 m]</th>\n",
       "    </tr>\n",
       "  </thead>\n",
       "  <tbody>\n",
       "    <tr>\n",
       "      <th>0</th>\n",
       "      <td>2022-01-01 00:00:00+00:00</td>\n",
       "      <td>5.560245</td>\n",
       "      <td>0.0</td>\n",
       "      <td>4.320000</td>\n",
       "      <td>180.00000</td>\n",
       "    </tr>\n",
       "    <tr>\n",
       "      <th>1</th>\n",
       "      <td>2022-01-01 01:00:00+00:00</td>\n",
       "      <td>4.630245</td>\n",
       "      <td>0.0</td>\n",
       "      <td>3.259939</td>\n",
       "      <td>173.65980</td>\n",
       "    </tr>\n",
       "    <tr>\n",
       "      <th>2</th>\n",
       "      <td>2022-01-01 02:00:00+00:00</td>\n",
       "      <td>3.660245</td>\n",
       "      <td>0.0</td>\n",
       "      <td>3.545589</td>\n",
       "      <td>156.03750</td>\n",
       "    </tr>\n",
       "    <tr>\n",
       "      <th>3</th>\n",
       "      <td>2022-01-01 03:00:00+00:00</td>\n",
       "      <td>3.880245</td>\n",
       "      <td>0.0</td>\n",
       "      <td>3.671294</td>\n",
       "      <td>168.69006</td>\n",
       "    </tr>\n",
       "    <tr>\n",
       "      <th>4</th>\n",
       "      <td>2022-01-01 04:00:00+00:00</td>\n",
       "      <td>3.650245</td>\n",
       "      <td>0.0</td>\n",
       "      <td>4.349896</td>\n",
       "      <td>155.55605</td>\n",
       "    </tr>\n",
       "  </tbody>\n",
       "</table>\n",
       "</div>"
      ],
      "text/plain": [
       "                      Datum  Basel Temperature [2 m elevation corrected]  \\\n",
       "0 2022-01-01 00:00:00+00:00                                     5.560245   \n",
       "1 2022-01-01 01:00:00+00:00                                     4.630245   \n",
       "2 2022-01-01 02:00:00+00:00                                     3.660245   \n",
       "3 2022-01-01 03:00:00+00:00                                     3.880245   \n",
       "4 2022-01-01 04:00:00+00:00                                     3.650245   \n",
       "\n",
       "   Basel Precipitation Total  Basel Wind Speed [10 m]  \\\n",
       "0                        0.0                 4.320000   \n",
       "1                        0.0                 3.259939   \n",
       "2                        0.0                 3.545589   \n",
       "3                        0.0                 3.671294   \n",
       "4                        0.0                 4.349896   \n",
       "\n",
       "   Basel Wind Direction [10 m]  \n",
       "0                    180.00000  \n",
       "1                    173.65980  \n",
       "2                    156.03750  \n",
       "3                    168.69006  \n",
       "4                    155.55605  "
      ]
     },
     "execution_count": 20,
     "metadata": {},
     "output_type": "execute_result"
    }
   ],
   "source": [
    "Weather_full.head()"
   ]
  },
  {
   "cell_type": "code",
   "execution_count": 21,
   "metadata": {},
   "outputs": [],
   "source": [
    "Weather_full.to_csv(\"./Cleaned/Wetterdaten_Basel_cleaned22_24.csv\")"
   ]
  },
  {
   "cell_type": "code",
   "execution_count": 22,
   "metadata": {},
   "outputs": [],
   "source": [
    "Gas_full = pd.read_csv(\"./Gasverbrauch_im_Versorgungsgebiet_der_IWB.csv\", sep=';')"
   ]
  },
  {
   "cell_type": "code",
   "execution_count": 35,
   "metadata": {},
   "outputs": [
    {
     "name": "stdout",
     "output_type": "stream",
     "text": [
      "                          Datum  Gasverbrauch\n",
      "23890 2022-03-27 00:00:00+00:00   227953.7917\n"
     ]
    },
    {
     "data": {
      "text/html": [
       "<div>\n",
       "<style scoped>\n",
       "    .dataframe tbody tr th:only-of-type {\n",
       "        vertical-align: middle;\n",
       "    }\n",
       "\n",
       "    .dataframe tbody tr th {\n",
       "        vertical-align: top;\n",
       "    }\n",
       "\n",
       "    .dataframe thead th {\n",
       "        text-align: right;\n",
       "    }\n",
       "</style>\n",
       "<table border=\"1\" class=\"dataframe\">\n",
       "  <thead>\n",
       "    <tr style=\"text-align: right;\">\n",
       "      <th></th>\n",
       "      <th>Datum</th>\n",
       "      <th>Gasverbrauch</th>\n",
       "    </tr>\n",
       "  </thead>\n",
       "  <tbody>\n",
       "    <tr>\n",
       "      <th>23891</th>\n",
       "      <td>2022-03-27 01:00:00+00:00</td>\n",
       "      <td>251581.2461</td>\n",
       "    </tr>\n",
       "    <tr>\n",
       "      <th>3201</th>\n",
       "      <td>2022-03-27 01:00:00+00:00</td>\n",
       "      <td>346278.7600</td>\n",
       "    </tr>\n",
       "  </tbody>\n",
       "</table>\n",
       "</div>"
      ],
      "text/plain": [
       "                          Datum  Gasverbrauch\n",
       "23891 2022-03-27 01:00:00+00:00   251581.2461\n",
       "3201  2022-03-27 01:00:00+00:00   346278.7600"
      ]
     },
     "execution_count": 35,
     "metadata": {},
     "output_type": "execute_result"
    }
   ],
   "source": [
    "Gas_full.head()\n",
    "print(Gas_full[Gas_full[\"Datum\"] == \"2022-03-27 00:00:00+00:00\"])\n",
    "Gas_full[Gas_full[\"Datum\"] == \"2022-03-27 03:00:00+02:00\"]\n"
   ]
  },
  {
   "cell_type": "code",
   "execution_count": 24,
   "metadata": {},
   "outputs": [],
   "source": [
    "Gas_full.sort_values(by=\"Start der Messung\", inplace=True)\n",
    "Gas_full.head()\n",
    "\n",
    "Gas_full.drop(columns=[\"Datum\", \"Zeit\", \"Jahr\", \"Monat\", \"Tag\", \"Wochentag\", \"Tag des Jahres\", \"Quartal\", \"Woche des Jahres\"], inplace=True)\n",
    "\n",
    "Gas_full['Start der Messung'] = pd.to_datetime(Gas_full['Start der Messung'], utc=True)\n",
    "\n",
    "Gas_full.rename(columns={'Start der Messung': 'Datum'}, inplace=True)\n",
    "#Gas_full.set_index('Datum', inplace=True)\n",
    "Gas_full = Gas_full[Gas_full['Datum'] >= '2022-01-01']\n",
    "#Gas_full.index = Gas_full.index.str.replace('T', ' ')"
   ]
  },
  {
   "cell_type": "code",
   "execution_count": 31,
   "metadata": {},
   "outputs": [
    {
     "name": "stdout",
     "output_type": "stream",
     "text": [
      "                          Datum  Gasverbrauch\n",
      "23890 2022-03-27 00:00:00+00:00   227953.7917\n"
     ]
    },
    {
     "data": {
      "text/html": [
       "<div>\n",
       "<style scoped>\n",
       "    .dataframe tbody tr th:only-of-type {\n",
       "        vertical-align: middle;\n",
       "    }\n",
       "\n",
       "    .dataframe tbody tr th {\n",
       "        vertical-align: top;\n",
       "    }\n",
       "\n",
       "    .dataframe thead th {\n",
       "        text-align: right;\n",
       "    }\n",
       "</style>\n",
       "<table border=\"1\" class=\"dataframe\">\n",
       "  <thead>\n",
       "    <tr style=\"text-align: right;\">\n",
       "      <th></th>\n",
       "      <th>Datum</th>\n",
       "      <th>Gasverbrauch</th>\n",
       "    </tr>\n",
       "  </thead>\n",
       "  <tbody>\n",
       "    <tr>\n",
       "      <th>23892</th>\n",
       "      <td>2022-03-27 02:00:00+00:00</td>\n",
       "      <td>438581.9031</td>\n",
       "    </tr>\n",
       "  </tbody>\n",
       "</table>\n",
       "</div>"
      ],
      "text/plain": [
       "                          Datum  Gasverbrauch\n",
       "23892 2022-03-27 02:00:00+00:00   438581.9031"
      ]
     },
     "execution_count": 31,
     "metadata": {},
     "output_type": "execute_result"
    }
   ],
   "source": [
    "Gas_full.head()\n",
    "\n",
    "print(Gas_full[Gas_full[\"Datum\"] == \"2022-03-27 00:00:00+00:00\"])\n",
    "Gas_full[Gas_full[\"Datum\"] == \"2022-03-27 02:00:00+00:00\"]"
   ]
  },
  {
   "cell_type": "code",
   "execution_count": 127,
   "metadata": {},
   "outputs": [
    {
     "name": "stdout",
     "output_type": "stream",
     "text": [
      "Missing rows for the following dates: [Timestamp('2022-10-30 00:00:00+0000', tz='UTC'), Timestamp('2023-10-29 00:00:00+0000', tz='UTC'), Timestamp('2024-10-27 00:00:00+0000', tz='UTC')]\n"
     ]
    }
   ],
   "source": [
    "\n",
    "\n",
    "#hopefully useless\n",
    "#checking for missing values\n",
    "Gas_full.reset_index(inplace=True)\n",
    "\n",
    "# Create a date range from the minimum to the maximum date in the 'Datum' column\n",
    "date_range = pd.date_range(start=Gas_full['Datum'].min(), end=Gas_full['Datum'].max(), freq='D')\n",
    "\n",
    "# Create a DataFrame with all the dates in the range\n",
    "all_dates = pd.DataFrame({'Datum': date_range})\n",
    "\n",
    "# Merge this new DataFrame with the original to find missing dates\n",
    "missing_dates = pd.merge(all_dates, Gas_full, on='Datum', how='left', indicator=True)\n",
    "\n",
    "# Rows that are missing in the original DataFrame will have '_merge' == 'left_only'\n",
    "missing_rows = missing_dates[missing_dates['_merge'] == 'left_only']\n",
    "\n",
    "# Output the missing rows (if any)\n",
    "if not missing_rows.empty:\n",
    "    print(f\"Missing rows for the following dates: {missing_rows['Datum'].tolist()}\")\n",
    "else:\n",
    "    print(\"No rows are missing.\")"
   ]
  },
  {
   "cell_type": "code",
   "execution_count": 14,
   "metadata": {},
   "outputs": [
    {
     "data": {
      "text/html": [
       "<div>\n",
       "<style scoped>\n",
       "    .dataframe tbody tr th:only-of-type {\n",
       "        vertical-align: middle;\n",
       "    }\n",
       "\n",
       "    .dataframe tbody tr th {\n",
       "        vertical-align: top;\n",
       "    }\n",
       "\n",
       "    .dataframe thead th {\n",
       "        text-align: right;\n",
       "    }\n",
       "</style>\n",
       "<table border=\"1\" class=\"dataframe\">\n",
       "  <thead>\n",
       "    <tr style=\"text-align: right;\">\n",
       "      <th></th>\n",
       "      <th>Datum</th>\n",
       "      <th>Gasverbrauch</th>\n",
       "    </tr>\n",
       "  </thead>\n",
       "  <tbody>\n",
       "    <tr>\n",
       "      <th>4229</th>\n",
       "      <td>2022-01-01 00:00:00+00:00</td>\n",
       "      <td>344980.5901</td>\n",
       "    </tr>\n",
       "    <tr>\n",
       "      <th>4230</th>\n",
       "      <td>2022-01-01 01:00:00+00:00</td>\n",
       "      <td>357897.5343</td>\n",
       "    </tr>\n",
       "    <tr>\n",
       "      <th>25727</th>\n",
       "      <td>2022-01-01 02:00:00+00:00</td>\n",
       "      <td>363614.8815</td>\n",
       "    </tr>\n",
       "    <tr>\n",
       "      <th>4231</th>\n",
       "      <td>2022-01-01 03:00:00+00:00</td>\n",
       "      <td>411105.7247</td>\n",
       "    </tr>\n",
       "    <tr>\n",
       "      <th>13339</th>\n",
       "      <td>2022-01-01 04:00:00+00:00</td>\n",
       "      <td>512091.2476</td>\n",
       "    </tr>\n",
       "  </tbody>\n",
       "</table>\n",
       "</div>"
      ],
      "text/plain": [
       "                          Datum  Gasverbrauch\n",
       "4229  2022-01-01 00:00:00+00:00   344980.5901\n",
       "4230  2022-01-01 01:00:00+00:00   357897.5343\n",
       "25727 2022-01-01 02:00:00+00:00   363614.8815\n",
       "4231  2022-01-01 03:00:00+00:00   411105.7247\n",
       "13339 2022-01-01 04:00:00+00:00   512091.2476"
      ]
     },
     "execution_count": 14,
     "metadata": {},
     "output_type": "execute_result"
    }
   ],
   "source": [
    "Gas_full.head()"
   ]
  },
  {
   "cell_type": "code",
   "execution_count": 129,
   "metadata": {},
   "outputs": [
    {
     "name": "stdout",
     "output_type": "stream",
     "text": [
      "3\n",
      "DatetimeIndex(['2022-03-27 01:00:00+00:00', '2023-03-26 01:00:00+00:00',\n",
      "               '2024-03-31 01:00:00+00:00'],\n",
      "              dtype='datetime64[ns, UTC]', name='Datum', freq=None)\n",
      "                           index                     Datum  Gasverbrauch\n",
      "Datum                                                                   \n",
      "2022-03-27 01:00:00+00:00  23891 2022-03-27 01:00:00+00:00   251581.2461\n",
      "2022-03-27 01:00:00+00:00   3201 2022-03-27 01:00:00+00:00   346278.7600\n",
      "2023-03-26 01:00:00+00:00  16823 2023-03-26 01:00:00+00:00   236378.3897\n",
      "2023-03-26 01:00:00+00:00   6553 2023-03-26 01:00:00+00:00   254217.8493\n",
      "2024-03-31 01:00:00+00:00   4705 2024-03-31 01:00:00+00:00   220161.4192\n",
      "2024-03-31 01:00:00+00:00  26237 2024-03-31 01:00:00+00:00   244597.7287\n"
     ]
    }
   ],
   "source": [
    "Gas_full.index = Gas_full['Datum']\n",
    "\n",
    "# Check for duplicates in the index\n",
    "print(Gas_full.index.duplicated().sum())  # Number of duplicates\n",
    "print(Gas_full.index[Gas_full.index.duplicated()])  # Which labels are duplicates\n",
    "\n",
    "duplicates = Gas_full.index.duplicated(keep=False)\n",
    "print(Gas_full[duplicates])\n",
    "\n"
   ]
  },
  {
   "cell_type": "code",
   "execution_count": 28,
   "metadata": {},
   "outputs": [
    {
     "name": "stdout",
     "output_type": "stream",
     "text": [
      "                          Datum  Gasverbrauch\n",
      "23890 2022-03-27 00:00:00+00:00   227953.7917\n"
     ]
    },
    {
     "data": {
      "text/html": [
       "<div>\n",
       "<style scoped>\n",
       "    .dataframe tbody tr th:only-of-type {\n",
       "        vertical-align: middle;\n",
       "    }\n",
       "\n",
       "    .dataframe tbody tr th {\n",
       "        vertical-align: top;\n",
       "    }\n",
       "\n",
       "    .dataframe thead th {\n",
       "        text-align: right;\n",
       "    }\n",
       "</style>\n",
       "<table border=\"1\" class=\"dataframe\">\n",
       "  <thead>\n",
       "    <tr style=\"text-align: right;\">\n",
       "      <th></th>\n",
       "      <th>Datum</th>\n",
       "      <th>Gasverbrauch</th>\n",
       "    </tr>\n",
       "  </thead>\n",
       "  <tbody>\n",
       "    <tr>\n",
       "      <th>23892</th>\n",
       "      <td>2022-03-27 02:00:00+00:00</td>\n",
       "      <td>438581.9031</td>\n",
       "    </tr>\n",
       "  </tbody>\n",
       "</table>\n",
       "</div>"
      ],
      "text/plain": [
       "                          Datum  Gasverbrauch\n",
       "23892 2022-03-27 02:00:00+00:00   438581.9031"
      ]
     },
     "execution_count": 28,
     "metadata": {},
     "output_type": "execute_result"
    }
   ],
   "source": [
    "print(Gas_full[Gas_full[\"Datum\"] == \"2022-03-27 00:00:00+00:00\"])\n",
    "Gas_full[Gas_full[\"Datum\"] == \"2022-03-27 02:00:00+00:00\"]"
   ]
  },
  {
   "cell_type": "code",
   "execution_count": 30,
   "metadata": {},
   "outputs": [
    {
     "name": "stdout",
     "output_type": "stream",
     "text": [
      "                         Datum  Gasverbrauch\n",
      "7533 2024-04-02 00:00:00+00:00    238935.901\n"
     ]
    },
    {
     "data": {
      "text/html": [
       "<div>\n",
       "<style scoped>\n",
       "    .dataframe tbody tr th:only-of-type {\n",
       "        vertical-align: middle;\n",
       "    }\n",
       "\n",
       "    .dataframe tbody tr th {\n",
       "        vertical-align: top;\n",
       "    }\n",
       "\n",
       "    .dataframe thead th {\n",
       "        text-align: right;\n",
       "    }\n",
       "</style>\n",
       "<table border=\"1\" class=\"dataframe\">\n",
       "  <thead>\n",
       "    <tr style=\"text-align: right;\">\n",
       "      <th></th>\n",
       "      <th>Datum</th>\n",
       "      <th>Gasverbrauch</th>\n",
       "    </tr>\n",
       "  </thead>\n",
       "  <tbody>\n",
       "    <tr>\n",
       "      <th>7534</th>\n",
       "      <td>2024-04-02 02:00:00+00:00</td>\n",
       "      <td>335333.973</td>\n",
       "    </tr>\n",
       "  </tbody>\n",
       "</table>\n",
       "</div>"
      ],
      "text/plain": [
       "                         Datum  Gasverbrauch\n",
       "7534 2024-04-02 02:00:00+00:00    335333.973"
      ]
     },
     "execution_count": 30,
     "metadata": {},
     "output_type": "execute_result"
    }
   ],
   "source": [
    "print(Gas_full[Gas_full[\"Datum\"] == \"2024-04-02 00:00:00+00:00\"])\n",
    "Gas_full[Gas_full[\"Datum\"] == \"2024-04-02 02:00:00+00:00\"]"
   ]
  },
  {
   "cell_type": "code",
   "execution_count": 29,
   "metadata": {},
   "outputs": [
    {
     "name": "stdout",
     "output_type": "stream",
     "text": [
      "                          Datum  Gasverbrauch\n",
      "16822 2023-03-26 00:00:00+00:00   234133.2606\n"
     ]
    },
    {
     "data": {
      "text/html": [
       "<div>\n",
       "<style scoped>\n",
       "    .dataframe tbody tr th:only-of-type {\n",
       "        vertical-align: middle;\n",
       "    }\n",
       "\n",
       "    .dataframe tbody tr th {\n",
       "        vertical-align: top;\n",
       "    }\n",
       "\n",
       "    .dataframe thead th {\n",
       "        text-align: right;\n",
       "    }\n",
       "</style>\n",
       "<table border=\"1\" class=\"dataframe\">\n",
       "  <thead>\n",
       "    <tr style=\"text-align: right;\">\n",
       "      <th></th>\n",
       "      <th>Datum</th>\n",
       "      <th>Gasverbrauch</th>\n",
       "    </tr>\n",
       "  </thead>\n",
       "  <tbody>\n",
       "    <tr>\n",
       "      <th>24103</th>\n",
       "      <td>2023-03-26 02:00:00+00:00</td>\n",
       "      <td>312927.9184</td>\n",
       "    </tr>\n",
       "  </tbody>\n",
       "</table>\n",
       "</div>"
      ],
      "text/plain": [
       "                          Datum  Gasverbrauch\n",
       "24103 2023-03-26 02:00:00+00:00   312927.9184"
      ]
     },
     "execution_count": 29,
     "metadata": {},
     "output_type": "execute_result"
    }
   ],
   "source": [
    "print(Gas_full[Gas_full[\"Datum\"] == \"2023-03-26 00:00:00+00:00\"])\n",
    "Gas_full[Gas_full[\"Datum\"] == \"2023-03-26 02:00:00+00:00\"]"
   ]
  },
  {
   "cell_type": "code",
   "execution_count": 121,
   "metadata": {},
   "outputs": [
    {
     "ename": "ValueError",
     "evalue": "cannot reindex on an axis with duplicate labels",
     "output_type": "error",
     "traceback": [
      "\u001b[1;31m---------------------------------------------------------------------------\u001b[0m",
      "\u001b[1;31mValueError\u001b[0m                                Traceback (most recent call last)",
      "Cell \u001b[1;32mIn[121], line 17\u001b[0m\n\u001b[0;32m     14\u001b[0m mask \u001b[38;5;241m=\u001b[39m Gas_full\u001b[38;5;241m.\u001b[39mindex\u001b[38;5;241m.\u001b[39misin(specific_dates)\n\u001b[0;32m     16\u001b[0m \u001b[38;5;66;03m# Apply the rolling mean to the specified dates only\u001b[39;00m\n\u001b[1;32m---> 17\u001b[0m Gas_full\u001b[38;5;241m.\u001b[39mloc[mask, \u001b[38;5;124m'\u001b[39m\u001b[38;5;124mGasverbrauch\u001b[39m\u001b[38;5;124m'\u001b[39m] \u001b[38;5;241m=\u001b[39m \u001b[43mGas_full\u001b[49m\u001b[38;5;241;43m.\u001b[39;49m\u001b[43mloc\u001b[49m\u001b[43m[\u001b[49m\u001b[43mmask\u001b[49m\u001b[43m,\u001b[49m\u001b[43m \u001b[49m\u001b[38;5;124;43m'\u001b[39;49m\u001b[38;5;124;43mGasverbrauch\u001b[39;49m\u001b[38;5;124;43m'\u001b[39;49m\u001b[43m]\u001b[49m\u001b[38;5;241;43m.\u001b[39;49m\u001b[43mfillna\u001b[49m\u001b[43m(\u001b[49m\n\u001b[0;32m     18\u001b[0m \u001b[43m    \u001b[49m\u001b[43mGas_full\u001b[49m\u001b[43m[\u001b[49m\u001b[38;5;124;43m'\u001b[39;49m\u001b[38;5;124;43mGasverbrauch\u001b[39;49m\u001b[38;5;124;43m'\u001b[39;49m\u001b[43m]\u001b[49m\u001b[38;5;241;43m.\u001b[39;49m\u001b[43mrolling\u001b[49m\u001b[43m(\u001b[49m\u001b[43mwindow\u001b[49m\u001b[38;5;241;43m=\u001b[39;49m\u001b[38;5;241;43m3\u001b[39;49m\u001b[43m,\u001b[49m\u001b[43m \u001b[49m\u001b[43mmin_periods\u001b[49m\u001b[38;5;241;43m=\u001b[39;49m\u001b[38;5;241;43m1\u001b[39;49m\u001b[43m)\u001b[49m\u001b[38;5;241;43m.\u001b[39;49m\u001b[43mmean\u001b[49m\u001b[43m(\u001b[49m\u001b[43m)\u001b[49m\n\u001b[0;32m     19\u001b[0m \u001b[43m)\u001b[49m\n\u001b[0;32m     21\u001b[0m \u001b[38;5;66;03m# Output the resulting DataFrame\u001b[39;00m\n\u001b[0;32m     22\u001b[0m \u001b[38;5;28mprint\u001b[39m(Gas_full\u001b[38;5;241m.\u001b[39mloc[specific_dates])\n",
      "File \u001b[1;32m~\\AppData\\Local\\Packages\\PythonSoftwareFoundation.Python.3.11_qbz5n2kfra8p0\\LocalCache\\local-packages\\Python311\\site-packages\\pandas\\core\\generic.py:7338\u001b[0m, in \u001b[0;36mNDFrame.fillna\u001b[1;34m(self, value, method, axis, inplace, limit, downcast)\u001b[0m\n\u001b[0;32m   7335\u001b[0m     \u001b[38;5;28;01mfrom\u001b[39;00m \u001b[38;5;21;01mpandas\u001b[39;00m \u001b[38;5;28;01mimport\u001b[39;00m Series\n\u001b[0;32m   7337\u001b[0m     value \u001b[38;5;241m=\u001b[39m Series(value)\n\u001b[1;32m-> 7338\u001b[0m     value \u001b[38;5;241m=\u001b[39m \u001b[43mvalue\u001b[49m\u001b[38;5;241;43m.\u001b[39;49m\u001b[43mreindex\u001b[49m\u001b[43m(\u001b[49m\u001b[38;5;28;43mself\u001b[39;49m\u001b[38;5;241;43m.\u001b[39;49m\u001b[43mindex\u001b[49m\u001b[43m,\u001b[49m\u001b[43m \u001b[49m\u001b[43mcopy\u001b[49m\u001b[38;5;241;43m=\u001b[39;49m\u001b[38;5;28;43;01mFalse\u001b[39;49;00m\u001b[43m)\u001b[49m\n\u001b[0;32m   7339\u001b[0m     value \u001b[38;5;241m=\u001b[39m value\u001b[38;5;241m.\u001b[39m_values\n\u001b[0;32m   7340\u001b[0m \u001b[38;5;28;01melif\u001b[39;00m \u001b[38;5;129;01mnot\u001b[39;00m is_list_like(value):\n",
      "File \u001b[1;32m~\\AppData\\Local\\Packages\\PythonSoftwareFoundation.Python.3.11_qbz5n2kfra8p0\\LocalCache\\local-packages\\Python311\\site-packages\\pandas\\core\\series.py:5153\u001b[0m, in \u001b[0;36mSeries.reindex\u001b[1;34m(self, index, axis, method, copy, level, fill_value, limit, tolerance)\u001b[0m\n\u001b[0;32m   5136\u001b[0m \u001b[38;5;129m@doc\u001b[39m(\n\u001b[0;32m   5137\u001b[0m     NDFrame\u001b[38;5;241m.\u001b[39mreindex,  \u001b[38;5;66;03m# type: ignore[has-type]\u001b[39;00m\n\u001b[0;32m   5138\u001b[0m     klass\u001b[38;5;241m=\u001b[39m_shared_doc_kwargs[\u001b[38;5;124m\"\u001b[39m\u001b[38;5;124mklass\u001b[39m\u001b[38;5;124m\"\u001b[39m],\n\u001b[1;32m   (...)\u001b[0m\n\u001b[0;32m   5151\u001b[0m     tolerance\u001b[38;5;241m=\u001b[39m\u001b[38;5;28;01mNone\u001b[39;00m,\n\u001b[0;32m   5152\u001b[0m ) \u001b[38;5;241m-\u001b[39m\u001b[38;5;241m>\u001b[39m Series:\n\u001b[1;32m-> 5153\u001b[0m     \u001b[38;5;28;01mreturn\u001b[39;00m \u001b[38;5;28;43msuper\u001b[39;49m\u001b[43m(\u001b[49m\u001b[43m)\u001b[49m\u001b[38;5;241;43m.\u001b[39;49m\u001b[43mreindex\u001b[49m\u001b[43m(\u001b[49m\n\u001b[0;32m   5154\u001b[0m \u001b[43m        \u001b[49m\u001b[43mindex\u001b[49m\u001b[38;5;241;43m=\u001b[39;49m\u001b[43mindex\u001b[49m\u001b[43m,\u001b[49m\n\u001b[0;32m   5155\u001b[0m \u001b[43m        \u001b[49m\u001b[43mmethod\u001b[49m\u001b[38;5;241;43m=\u001b[39;49m\u001b[43mmethod\u001b[49m\u001b[43m,\u001b[49m\n\u001b[0;32m   5156\u001b[0m \u001b[43m        \u001b[49m\u001b[43mcopy\u001b[49m\u001b[38;5;241;43m=\u001b[39;49m\u001b[43mcopy\u001b[49m\u001b[43m,\u001b[49m\n\u001b[0;32m   5157\u001b[0m \u001b[43m        \u001b[49m\u001b[43mlevel\u001b[49m\u001b[38;5;241;43m=\u001b[39;49m\u001b[43mlevel\u001b[49m\u001b[43m,\u001b[49m\n\u001b[0;32m   5158\u001b[0m \u001b[43m        \u001b[49m\u001b[43mfill_value\u001b[49m\u001b[38;5;241;43m=\u001b[39;49m\u001b[43mfill_value\u001b[49m\u001b[43m,\u001b[49m\n\u001b[0;32m   5159\u001b[0m \u001b[43m        \u001b[49m\u001b[43mlimit\u001b[49m\u001b[38;5;241;43m=\u001b[39;49m\u001b[43mlimit\u001b[49m\u001b[43m,\u001b[49m\n\u001b[0;32m   5160\u001b[0m \u001b[43m        \u001b[49m\u001b[43mtolerance\u001b[49m\u001b[38;5;241;43m=\u001b[39;49m\u001b[43mtolerance\u001b[49m\u001b[43m,\u001b[49m\n\u001b[0;32m   5161\u001b[0m \u001b[43m    \u001b[49m\u001b[43m)\u001b[49m\n",
      "File \u001b[1;32m~\\AppData\\Local\\Packages\\PythonSoftwareFoundation.Python.3.11_qbz5n2kfra8p0\\LocalCache\\local-packages\\Python311\\site-packages\\pandas\\core\\generic.py:5610\u001b[0m, in \u001b[0;36mNDFrame.reindex\u001b[1;34m(self, labels, index, columns, axis, method, copy, level, fill_value, limit, tolerance)\u001b[0m\n\u001b[0;32m   5607\u001b[0m     \u001b[38;5;28;01mreturn\u001b[39;00m \u001b[38;5;28mself\u001b[39m\u001b[38;5;241m.\u001b[39m_reindex_multi(axes, copy, fill_value)\n\u001b[0;32m   5609\u001b[0m \u001b[38;5;66;03m# perform the reindex on the axes\u001b[39;00m\n\u001b[1;32m-> 5610\u001b[0m \u001b[38;5;28;01mreturn\u001b[39;00m \u001b[38;5;28;43mself\u001b[39;49m\u001b[38;5;241;43m.\u001b[39;49m\u001b[43m_reindex_axes\u001b[49m\u001b[43m(\u001b[49m\n\u001b[0;32m   5611\u001b[0m \u001b[43m    \u001b[49m\u001b[43maxes\u001b[49m\u001b[43m,\u001b[49m\u001b[43m \u001b[49m\u001b[43mlevel\u001b[49m\u001b[43m,\u001b[49m\u001b[43m \u001b[49m\u001b[43mlimit\u001b[49m\u001b[43m,\u001b[49m\u001b[43m \u001b[49m\u001b[43mtolerance\u001b[49m\u001b[43m,\u001b[49m\u001b[43m \u001b[49m\u001b[43mmethod\u001b[49m\u001b[43m,\u001b[49m\u001b[43m \u001b[49m\u001b[43mfill_value\u001b[49m\u001b[43m,\u001b[49m\u001b[43m \u001b[49m\u001b[43mcopy\u001b[49m\n\u001b[0;32m   5612\u001b[0m \u001b[43m\u001b[49m\u001b[43m)\u001b[49m\u001b[38;5;241m.\u001b[39m__finalize__(\u001b[38;5;28mself\u001b[39m, method\u001b[38;5;241m=\u001b[39m\u001b[38;5;124m\"\u001b[39m\u001b[38;5;124mreindex\u001b[39m\u001b[38;5;124m\"\u001b[39m)\n",
      "File \u001b[1;32m~\\AppData\\Local\\Packages\\PythonSoftwareFoundation.Python.3.11_qbz5n2kfra8p0\\LocalCache\\local-packages\\Python311\\site-packages\\pandas\\core\\generic.py:5633\u001b[0m, in \u001b[0;36mNDFrame._reindex_axes\u001b[1;34m(self, axes, level, limit, tolerance, method, fill_value, copy)\u001b[0m\n\u001b[0;32m   5630\u001b[0m     \u001b[38;5;28;01mcontinue\u001b[39;00m\n\u001b[0;32m   5632\u001b[0m ax \u001b[38;5;241m=\u001b[39m \u001b[38;5;28mself\u001b[39m\u001b[38;5;241m.\u001b[39m_get_axis(a)\n\u001b[1;32m-> 5633\u001b[0m new_index, indexer \u001b[38;5;241m=\u001b[39m \u001b[43max\u001b[49m\u001b[38;5;241;43m.\u001b[39;49m\u001b[43mreindex\u001b[49m\u001b[43m(\u001b[49m\n\u001b[0;32m   5634\u001b[0m \u001b[43m    \u001b[49m\u001b[43mlabels\u001b[49m\u001b[43m,\u001b[49m\u001b[43m \u001b[49m\u001b[43mlevel\u001b[49m\u001b[38;5;241;43m=\u001b[39;49m\u001b[43mlevel\u001b[49m\u001b[43m,\u001b[49m\u001b[43m \u001b[49m\u001b[43mlimit\u001b[49m\u001b[38;5;241;43m=\u001b[39;49m\u001b[43mlimit\u001b[49m\u001b[43m,\u001b[49m\u001b[43m \u001b[49m\u001b[43mtolerance\u001b[49m\u001b[38;5;241;43m=\u001b[39;49m\u001b[43mtolerance\u001b[49m\u001b[43m,\u001b[49m\u001b[43m \u001b[49m\u001b[43mmethod\u001b[49m\u001b[38;5;241;43m=\u001b[39;49m\u001b[43mmethod\u001b[49m\n\u001b[0;32m   5635\u001b[0m \u001b[43m\u001b[49m\u001b[43m)\u001b[49m\n\u001b[0;32m   5637\u001b[0m axis \u001b[38;5;241m=\u001b[39m \u001b[38;5;28mself\u001b[39m\u001b[38;5;241m.\u001b[39m_get_axis_number(a)\n\u001b[0;32m   5638\u001b[0m obj \u001b[38;5;241m=\u001b[39m obj\u001b[38;5;241m.\u001b[39m_reindex_with_indexers(\n\u001b[0;32m   5639\u001b[0m     {axis: [new_index, indexer]},\n\u001b[0;32m   5640\u001b[0m     fill_value\u001b[38;5;241m=\u001b[39mfill_value,\n\u001b[0;32m   5641\u001b[0m     copy\u001b[38;5;241m=\u001b[39mcopy,\n\u001b[0;32m   5642\u001b[0m     allow_dups\u001b[38;5;241m=\u001b[39m\u001b[38;5;28;01mFalse\u001b[39;00m,\n\u001b[0;32m   5643\u001b[0m )\n",
      "File \u001b[1;32m~\\AppData\\Local\\Packages\\PythonSoftwareFoundation.Python.3.11_qbz5n2kfra8p0\\LocalCache\\local-packages\\Python311\\site-packages\\pandas\\core\\indexes\\base.py:4429\u001b[0m, in \u001b[0;36mIndex.reindex\u001b[1;34m(self, target, method, level, limit, tolerance)\u001b[0m\n\u001b[0;32m   4426\u001b[0m     \u001b[38;5;28;01mraise\u001b[39;00m \u001b[38;5;167;01mValueError\u001b[39;00m(\u001b[38;5;124m\"\u001b[39m\u001b[38;5;124mcannot handle a non-unique multi-index!\u001b[39m\u001b[38;5;124m\"\u001b[39m)\n\u001b[0;32m   4427\u001b[0m \u001b[38;5;28;01melif\u001b[39;00m \u001b[38;5;129;01mnot\u001b[39;00m \u001b[38;5;28mself\u001b[39m\u001b[38;5;241m.\u001b[39mis_unique:\n\u001b[0;32m   4428\u001b[0m     \u001b[38;5;66;03m# GH#42568\u001b[39;00m\n\u001b[1;32m-> 4429\u001b[0m     \u001b[38;5;28;01mraise\u001b[39;00m \u001b[38;5;167;01mValueError\u001b[39;00m(\u001b[38;5;124m\"\u001b[39m\u001b[38;5;124mcannot reindex on an axis with duplicate labels\u001b[39m\u001b[38;5;124m\"\u001b[39m)\n\u001b[0;32m   4430\u001b[0m \u001b[38;5;28;01melse\u001b[39;00m:\n\u001b[0;32m   4431\u001b[0m     indexer, _ \u001b[38;5;241m=\u001b[39m \u001b[38;5;28mself\u001b[39m\u001b[38;5;241m.\u001b[39mget_indexer_non_unique(target)\n",
      "\u001b[1;31mValueError\u001b[0m: cannot reindex on an axis with duplicate labels"
     ]
    }
   ],
   "source": [
    "import pandas as pd\n",
    "\n",
    "# Define the specific dates for which you want to apply the rolling mean\n",
    "specific_dates = [\n",
    "    pd.Timestamp('2022-10-30 00:00:00+0000', tz='UTC'),\n",
    "    pd.Timestamp('2023-10-29 00:00:00+0000', tz='UTC'),\n",
    "    pd.Timestamp('2024-10-27 00:00:00+0000', tz='UTC')\n",
    "]\n",
    "\n",
    "# Ensure 'Datum' is in datetime format (if not already)\n",
    "#Gas_full.index = pd.to_datetime(Gas_full.index)\n",
    "\n",
    "# Create a mask to filter the specific dates\n",
    "mask = Gas_full.index.isin(specific_dates)\n",
    "\n",
    "# Apply the rolling mean to the specified dates only\n",
    "Gas_full.loc[mask, 'Gasverbrauch'] = Gas_full.loc[mask, 'Gasverbrauch'].fillna(\n",
    "    Gas_full['Gasverbrauch'].rolling(window=3, min_periods=1).mean()\n",
    ")\n",
    "\n",
    "# Output the resulting DataFrame\n",
    "print(Gas_full.loc[specific_dates])\n"
   ]
  },
  {
   "cell_type": "markdown",
   "metadata": {},
   "source": [
    "#standardize the data\n",
    "from sklearn.preprocessing import StandardScaler\n",
    "\n",
    "scaler = StandardScaler()\n",
    "# Reshape the column to a 2D array\n",
    "Gas_full[\"Gasverbrauch_scaled\"] = scaler.fit_transform(Gas_full[\"Gasverbrauch\"].values.reshape(-1, 1))\n",
    "\n",
    "# Verify the mean and standard deviation\n",
    "Gas_full[\"Gasverbrauch_scaled\"].mean(), Gas_full[\"Gasverbrauch_scaled\"].std()\n"
   ]
  },
  {
   "cell_type": "code",
   "execution_count": 9,
   "metadata": {},
   "outputs": [
    {
     "ename": "NameError",
     "evalue": "name 'Gas_full' is not defined",
     "output_type": "error",
     "traceback": [
      "\u001b[1;31m---------------------------------------------------------------------------\u001b[0m",
      "\u001b[1;31mNameError\u001b[0m                                 Traceback (most recent call last)",
      "Cell \u001b[1;32mIn[9], line 1\u001b[0m\n\u001b[1;32m----> 1\u001b[0m \u001b[43mGas_full\u001b[49m\u001b[38;5;241m.\u001b[39mto_csv(\u001b[38;5;124m\"\u001b[39m\u001b[38;5;124m./Cleaned/Gasverbrauch_cleaned.csv\u001b[39m\u001b[38;5;124m\"\u001b[39m)\n",
      "\u001b[1;31mNameError\u001b[0m: name 'Gas_full' is not defined"
     ]
    }
   ],
   "source": [
    "\n",
    "Gas_full.to_csv(\"./Cleaned/Gasverbrauch_cleaned.csv\")"
   ]
  },
  {
   "cell_type": "code",
   "execution_count": null,
   "metadata": {},
   "outputs": [],
   "source": []
  }
 ],
 "metadata": {
  "kernelspec": {
   "display_name": "Python 3",
   "language": "python",
   "name": "python3"
  },
  "language_info": {
   "codemirror_mode": {
    "name": "ipython",
    "version": 3
   },
   "file_extension": ".py",
   "mimetype": "text/x-python",
   "name": "python",
   "nbconvert_exporter": "python",
   "pygments_lexer": "ipython3",
   "version": "3.11.9"
  }
 },
 "nbformat": 4,
 "nbformat_minor": 2
}
