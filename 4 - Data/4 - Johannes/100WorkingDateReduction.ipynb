{
 "cells": [
  {
   "cell_type": "code",
   "execution_count": 2,
   "metadata": {},
   "outputs": [],
   "source": [
    "import pandas as pd\n",
    "\n",
    "working_dataframe = pd.read_csv('/Users/johannessolibieda/Documents/GitHub/Its-Wekk/Fucking Final Data/Working_DataFrame.csv')\n",
    "target_dataframe = pd.read_csv('/Users/johannessolibieda/Documents/GitHub/Its-Wekk/Fucking Final Data/CleanedFinal_Target_Data_Combined_resid_Trend')"
   ]
  },
  {
   "cell_type": "code",
   "execution_count": 3,
   "metadata": {},
   "outputs": [
    {
     "name": "stdout",
     "output_type": "stream",
     "text": [
      "Selected features: ['Basel Temperature [2 m elevation corrected]', 'Basel Precipitation Total', 'Basel Wind Speed [10 m]', 'Basel Wind Direction [10 m]', 'Stromverbrauch', '350n_sumLief', '350v_sumLW', '352v_sumPW', '352v_sumLief', '354n_sumLW', '402v_sumPW', '402n_sumLief', '402n_sumLW', '403n_sumLW', '403v_sumPW', '403v_sumLW', '405v_sumLief', '405v_sumLW', '406n_sumLW', '406v_sumLief', '406v_sumLW', '408n_sumPW', '408n_sumLief', '408n_sumLW', '409v_sumLW', '415v_sumLief', '415v_sumLW', '415n_sumLW', '417n_sumPW', '417n_sumLief', '417n_sumLW', '419v_sumLW', '419n_sumPW', '419n_sumLief', '420n_sumLief', '420n_sumLW', '420v_sumLW', '653n_sumLW', '659v_sumLW', '659n_sumLief', '659n_sumLW', '660v_sumPW', '660v_sumLW', '660n_sumPW', '660n_sumLW', '84111104n_sumLief', '84111104v_sumLief', '84111108v_sumLief', 'Gasverbrauch', 'Traffic']\n",
      "Reduced dataframe shape: (24574, 51)\n",
      "Selected features as list: ['Basel Temperature [2 m elevation corrected]', 'Basel Precipitation Total', 'Basel Wind Speed [10 m]', 'Basel Wind Direction [10 m]', 'Stromverbrauch', '350n_sumLief', '350v_sumLW', '352v_sumPW', '352v_sumLief', '354n_sumLW', '402v_sumPW', '402n_sumLief', '402n_sumLW', '403n_sumLW', '403v_sumPW', '403v_sumLW', '405v_sumLief', '405v_sumLW', '406n_sumLW', '406v_sumLief', '406v_sumLW', '408n_sumPW', '408n_sumLief', '408n_sumLW', '409v_sumLW', '415v_sumLief', '415v_sumLW', '415n_sumLW', '417n_sumPW', '417n_sumLief', '417n_sumLW', '419v_sumLW', '419n_sumPW', '419n_sumLief', '420n_sumLief', '420n_sumLW', '420v_sumLW', '653n_sumLW', '659v_sumLW', '659n_sumLief', '659n_sumLW', '660v_sumPW', '660v_sumLW', '660n_sumPW', '660n_sumLW', '84111104n_sumLief', '84111104v_sumLief', '84111108v_sumLief', 'Gasverbrauch', 'Traffic']\n",
      "Basel Temperature [2 m elevation corrected]\n",
      "Basel Precipitation Total\n",
      "Basel Wind Speed [10 m]\n",
      "Basel Wind Direction [10 m]\n",
      "Stromverbrauch\n",
      "350n_sumLief\n",
      "350v_sumLW\n",
      "352v_sumPW\n",
      "352v_sumLief\n",
      "354n_sumLW\n",
      "402v_sumPW\n",
      "402n_sumLief\n",
      "402n_sumLW\n",
      "403n_sumLW\n",
      "403v_sumPW\n",
      "403v_sumLW\n",
      "405v_sumLief\n",
      "405v_sumLW\n",
      "406n_sumLW\n",
      "406v_sumLief\n",
      "406v_sumLW\n",
      "408n_sumPW\n",
      "408n_sumLief\n",
      "408n_sumLW\n",
      "409v_sumLW\n",
      "415v_sumLief\n",
      "415v_sumLW\n",
      "415n_sumLW\n",
      "417n_sumPW\n",
      "417n_sumLief\n",
      "417n_sumLW\n",
      "419v_sumLW\n",
      "419n_sumPW\n",
      "419n_sumLief\n",
      "420n_sumLief\n",
      "420n_sumLW\n",
      "420v_sumLW\n",
      "653n_sumLW\n",
      "659v_sumLW\n",
      "659n_sumLief\n",
      "659n_sumLW\n",
      "660v_sumPW\n",
      "660v_sumLW\n",
      "660n_sumPW\n",
      "660n_sumLW\n",
      "84111104n_sumLief\n",
      "84111104v_sumLief\n",
      "84111108v_sumLief\n",
      "Gasverbrauch\n",
      "Traffic\n"
     ]
    }
   ],
   "source": [
    "from sklearn.feature_selection import SelectKBest, f_regression\n",
    "\n",
    "# Select only numeric columns from working_dataframe\n",
    "working_dataframe_numeric = working_dataframe.select_dtypes(include=[float, int])\n",
    "\n",
    "# Add 'Datum' column back if it exists in the original dataframe\n",
    "if 'Datum' in working_dataframe.columns:\n",
    "    working_dataframe_numeric['Datum'] = working_dataframe['Datum']\n",
    "\n",
    "# Define the feature columns and target column\n",
    "feature_columns = working_dataframe_numeric.columns.tolist()\n",
    "if 'Datum' in feature_columns:\n",
    "    feature_columns.remove('Datum')\n",
    "target_column = 'PM10_Combined_Trend_Residual'\n",
    "\n",
    "# Align the indices of working_dataframe_numeric and target_dataframe\n",
    "aligned_data = working_dataframe_numeric.join(target_dataframe[target_column], how='inner')\n",
    "\n",
    "# Prepare the data\n",
    "X = aligned_data[feature_columns]\n",
    "y = aligned_data[target_column]\n",
    "\n",
    "# Initialize SelectKBest with the scoring function and the desired number of features\n",
    "selector = SelectKBest(score_func=f_regression, k=50)\n",
    "\n",
    "# Fit the selector\n",
    "selector.fit(X, y)\n",
    "\n",
    "# Get the selected features\n",
    "selected_features = [feature for feature, support in zip(feature_columns, selector.get_support()) if support]\n",
    "\n",
    "# Create a new dataframe with the selected features\n",
    "if 'Datum' in working_dataframe.columns:\n",
    "    reduced_working_dataframe = working_dataframe_numeric[selected_features + ['Datum']]\n",
    "else:\n",
    "    reduced_working_dataframe = working_dataframe_numeric[selected_features]\n",
    "\n",
    "print(\"Selected features:\", selected_features)\n",
    "print(\"Reduced dataframe shape:\", reduced_working_dataframe.shape)\n",
    "print(\"Selected features as list:\", selected_features)\n",
    "for feature in selected_features:\n",
    "    print(feature)\n"
   ]
  },
  {
   "cell_type": "code",
   "execution_count": 4,
   "metadata": {},
   "outputs": [],
   "source": [
    "# Reorder columns to make 'Datum' the first column\n",
    "columns = ['Datum'] + [col for col in reduced_working_dataframe.columns if col != 'Datum']\n",
    "reduced_working_dataframe = reduced_working_dataframe[columns]\n",
    "\n",
    "# Export the reduced working dataframe with the most relevant features to a CSV file\n",
    "reduced_working_dataframe.to_csv('50MostImpFeatures_DF.csv', index=False)"
   ]
  },
  {
   "cell_type": "code",
   "execution_count": 5,
   "metadata": {},
   "outputs": [],
   "source": [
    "# Align the target dataframe with the reduced working dataframe\n",
    "aligned_target_dataframe = target_dataframe.loc[reduced_working_dataframe.index]\n",
    "\n",
    "# Export the aligned target dataframe to a CSV file\n",
    "aligned_target_dataframe.to_csv('TargetCutto50MostImpFeatures_DF.csv', index=False)"
   ]
  }
 ],
 "metadata": {
  "kernelspec": {
   "display_name": "Python 3",
   "language": "python",
   "name": "python3"
  },
  "language_info": {
   "codemirror_mode": {
    "name": "ipython",
    "version": 3
   },
   "file_extension": ".py",
   "mimetype": "text/x-python",
   "name": "python",
   "nbconvert_exporter": "python",
   "pygments_lexer": "ipython3",
   "version": "3.9.6"
  }
 },
 "nbformat": 4,
 "nbformat_minor": 2
}
