{
 "cells": [
  {
   "cell_type": "code",
   "execution_count": 1,
   "metadata": {},
   "outputs": [
    {
     "data": {
      "text/html": [
       "<div>\n",
       "<style scoped>\n",
       "    .dataframe tbody tr th:only-of-type {\n",
       "        vertical-align: middle;\n",
       "    }\n",
       "\n",
       "    .dataframe tbody tr th {\n",
       "        vertical-align: top;\n",
       "    }\n",
       "\n",
       "    .dataframe thead th {\n",
       "        text-align: right;\n",
       "    }\n",
       "</style>\n",
       "<table border=\"1\" class=\"dataframe\">\n",
       "  <thead>\n",
       "    <tr style=\"text-align: right;\">\n",
       "      <th></th>\n",
       "      <th>Datum</th>\n",
       "      <th>PM10 (Stundenmittelwerte)</th>\n",
       "      <th>PM2.5 (Stundenmittelwerte)</th>\n",
       "    </tr>\n",
       "  </thead>\n",
       "  <tbody>\n",
       "    <tr>\n",
       "      <th>0</th>\n",
       "      <td>2022-01-01 00:00:00</td>\n",
       "      <td>83.840</td>\n",
       "      <td>71.870</td>\n",
       "    </tr>\n",
       "    <tr>\n",
       "      <th>1</th>\n",
       "      <td>2022-01-01 01:00:00</td>\n",
       "      <td>91.973</td>\n",
       "      <td>78.909</td>\n",
       "    </tr>\n",
       "    <tr>\n",
       "      <th>2</th>\n",
       "      <td>2022-01-01 02:00:00</td>\n",
       "      <td>68.396</td>\n",
       "      <td>58.632</td>\n",
       "    </tr>\n",
       "    <tr>\n",
       "      <th>3</th>\n",
       "      <td>2022-01-01 03:00:00</td>\n",
       "      <td>49.625</td>\n",
       "      <td>42.563</td>\n",
       "    </tr>\n",
       "    <tr>\n",
       "      <th>4</th>\n",
       "      <td>2022-01-01 04:00:00</td>\n",
       "      <td>41.854</td>\n",
       "      <td>35.799</td>\n",
       "    </tr>\n",
       "  </tbody>\n",
       "</table>\n",
       "</div>"
      ],
      "text/plain": [
       "                 Datum  PM10 (Stundenmittelwerte)  PM2.5 (Stundenmittelwerte)\n",
       "0  2022-01-01 00:00:00                     83.840                      71.870\n",
       "1  2022-01-01 01:00:00                     91.973                      78.909\n",
       "2  2022-01-01 02:00:00                     68.396                      58.632\n",
       "3  2022-01-01 03:00:00                     49.625                      42.563\n",
       "4  2022-01-01 04:00:00                     41.854                      35.799"
      ]
     },
     "execution_count": 1,
     "metadata": {},
     "output_type": "execute_result"
    }
   ],
   "source": [
    "import pandas as pd\n",
    "\n",
    "file_path = '/Users/johannessolibieda/Documents/GitHub/Its-Wekk/4 - Data/4 - Johannes/Target_Variable_St.Johannsplatz_cleaned_hourly.csv'\n",
    "data = pd.read_csv(file_path, delimiter=';')\n",
    "\n",
    "# Display the first few rows of the dataframe\n",
    "data = data.sort_values(by='Datum').reset_index(drop=True)\n",
    "data.head()"
   ]
  },
  {
   "cell_type": "code",
   "execution_count": 2,
   "metadata": {},
   "outputs": [
    {
     "name": "stdout",
     "output_type": "stream",
     "text": [
      "Datum                           0\n",
      "PM10 (Stundenmittelwerte)     263\n",
      "PM2.5 (Stundenmittelwerte)     23\n",
      "dtype: int64\n"
     ]
    }
   ],
   "source": [
    "missing_values = data.isnull().sum()\n",
    "print(missing_values)"
   ]
  },
  {
   "cell_type": "code",
   "execution_count": 3,
   "metadata": {},
   "outputs": [
    {
     "data": {
      "text/html": [
       "<div>\n",
       "<style scoped>\n",
       "    .dataframe tbody tr th:only-of-type {\n",
       "        vertical-align: middle;\n",
       "    }\n",
       "\n",
       "    .dataframe tbody tr th {\n",
       "        vertical-align: top;\n",
       "    }\n",
       "\n",
       "    .dataframe thead th {\n",
       "        text-align: right;\n",
       "    }\n",
       "</style>\n",
       "<table border=\"1\" class=\"dataframe\">\n",
       "  <thead>\n",
       "    <tr style=\"text-align: right;\">\n",
       "      <th></th>\n",
       "      <th>Datum</th>\n",
       "      <th>PM10 (Stundenmittelwerte)</th>\n",
       "      <th>PM2.5 (Stundenmittelwerte)</th>\n",
       "    </tr>\n",
       "  </thead>\n",
       "  <tbody>\n",
       "    <tr>\n",
       "      <th>0</th>\n",
       "      <td>2022-01-01 00:00:00</td>\n",
       "      <td>83.840</td>\n",
       "      <td>71.870</td>\n",
       "    </tr>\n",
       "    <tr>\n",
       "      <th>1</th>\n",
       "      <td>2022-01-01 01:00:00</td>\n",
       "      <td>91.973</td>\n",
       "      <td>78.909</td>\n",
       "    </tr>\n",
       "    <tr>\n",
       "      <th>2</th>\n",
       "      <td>2022-01-01 02:00:00</td>\n",
       "      <td>68.396</td>\n",
       "      <td>58.632</td>\n",
       "    </tr>\n",
       "    <tr>\n",
       "      <th>3</th>\n",
       "      <td>2022-01-01 03:00:00</td>\n",
       "      <td>49.625</td>\n",
       "      <td>42.563</td>\n",
       "    </tr>\n",
       "    <tr>\n",
       "      <th>4</th>\n",
       "      <td>2022-01-01 04:00:00</td>\n",
       "      <td>41.854</td>\n",
       "      <td>35.799</td>\n",
       "    </tr>\n",
       "  </tbody>\n",
       "</table>\n",
       "</div>"
      ],
      "text/plain": [
       "                Datum  PM10 (Stundenmittelwerte)  PM2.5 (Stundenmittelwerte)\n",
       "0 2022-01-01 00:00:00                     83.840                      71.870\n",
       "1 2022-01-01 01:00:00                     91.973                      78.909\n",
       "2 2022-01-01 02:00:00                     68.396                      58.632\n",
       "3 2022-01-01 03:00:00                     49.625                      42.563\n",
       "4 2022-01-01 04:00:00                     41.854                      35.799"
      ]
     },
     "execution_count": 3,
     "metadata": {},
     "output_type": "execute_result"
    }
   ],
   "source": [
    "# Convert 'Datum' column to datetime\n",
    "data['Datum'] = pd.to_datetime(data['Datum'])\n",
    "\n",
    "# Extract hour and weekday from 'Datum' column\n",
    "data['Hour'] = data['Datum'].dt.hour\n",
    "data['Weekday'] = data['Datum'].dt.weekday\n",
    "\n",
    "# Function to fill missing values with mean of the same hour on the same weekday\n",
    "def fill_missing_values(df, column):\n",
    "    return df[column].fillna(df.groupby(['Hour', 'Weekday'])[column].transform('mean'))\n",
    "\n",
    "# Fill missing values for PM10 and PM2.5 columns\n",
    "data['PM10 (Stundenmittelwerte)'] = fill_missing_values(data, 'PM10 (Stundenmittelwerte)')\n",
    "data['PM2.5 (Stundenmittelwerte)'] = fill_missing_values(data, 'PM2.5 (Stundenmittelwerte)')\n",
    "\n",
    "# Drop the temporary columns\n",
    "data.drop(columns=['Hour', 'Weekday'], inplace=True)\n",
    "\n",
    "# Display the first few rows of the dataframe to verify\n",
    "data.head()"
   ]
  },
  {
   "cell_type": "code",
   "execution_count": 5,
   "metadata": {},
   "outputs": [
    {
     "name": "stdout",
     "output_type": "stream",
     "text": [
      "Datum                         0\n",
      "PM10 (Stundenmittelwerte)     0\n",
      "PM2.5 (Stundenmittelwerte)    0\n",
      "dtype: int64\n"
     ]
    }
   ],
   "source": [
    "missing_values_after_fill = data.isnull().sum()\n",
    "print(missing_values_after_fill)"
   ]
  },
  {
   "cell_type": "code",
   "execution_count": 7,
   "metadata": {},
   "outputs": [
    {
     "name": "stdout",
     "output_type": "stream",
     "text": [
      "Missing timestamps:\n",
      "DatetimeIndex(['2022-02-17 15:00:00', '2022-02-17 16:00:00',\n",
      "               '2022-02-17 17:00:00', '2022-03-27 01:00:00',\n",
      "               '2022-03-27 02:00:00', '2022-08-23 15:00:00',\n",
      "               '2022-08-23 16:00:00', '2022-08-23 17:00:00',\n",
      "               '2022-10-30 01:00:00', '2023-03-26 01:00:00',\n",
      "               '2023-03-26 02:00:00', '2023-04-26 09:00:00',\n",
      "               '2023-10-29 01:00:00', '2024-01-19 15:00:00',\n",
      "               '2024-03-31 01:00:00', '2024-03-31 02:00:00',\n",
      "               '2024-05-07 12:00:00', '2024-07-07 21:00:00',\n",
      "               '2024-07-07 22:00:00', '2024-07-07 23:00:00',\n",
      "               '2024-07-08 00:00:00', '2024-07-08 01:00:00',\n",
      "               '2024-07-08 02:00:00', '2024-07-08 03:00:00',\n",
      "               '2024-07-08 04:00:00', '2024-07-08 05:00:00',\n",
      "               '2024-07-08 06:00:00', '2024-07-14 03:00:00',\n",
      "               '2024-07-14 04:00:00', '2024-07-14 05:00:00',\n",
      "               '2024-10-27 01:00:00'],\n",
      "              dtype='datetime64[ns]', freq=None)\n",
      "Number of missing hours: 31\n"
     ]
    },
    {
     "name": "stderr",
     "output_type": "stream",
     "text": [
      "/var/folders/rt/8pf1f2_x7sj69ytpkljsggxr0000gn/T/ipykernel_53461/337367490.py:2: FutureWarning: 'H' is deprecated and will be removed in a future version, please use 'h' instead.\n",
      "  complete_date_range = pd.date_range(start=data['Datum'].min(), end=data['Datum'].max(), freq='H')\n"
     ]
    }
   ],
   "source": [
    "# Create a complete date range from the minimum to the maximum date in the data\n",
    "complete_date_range = pd.date_range(start=data['Datum'].min(), end=data['Datum'].max(), freq='H')\n",
    "\n",
    "# Find the missing timestamps by comparing the complete date range with the 'Datum' column\n",
    "missing_timestamps = complete_date_range.difference(data['Datum'])\n",
    "\n",
    "print(\"Missing timestamps:\")\n",
    "print(missing_timestamps)\n",
    "# Count the number of missing hours\n",
    "missing_hours_count = len(missing_timestamps)\n",
    "print(f\"Number of missing hours: {missing_hours_count}\")"
   ]
  },
  {
   "cell_type": "code",
   "execution_count": 8,
   "metadata": {},
   "outputs": [
    {
     "data": {
      "text/html": [
       "<div>\n",
       "<style scoped>\n",
       "    .dataframe tbody tr th:only-of-type {\n",
       "        vertical-align: middle;\n",
       "    }\n",
       "\n",
       "    .dataframe tbody tr th {\n",
       "        vertical-align: top;\n",
       "    }\n",
       "\n",
       "    .dataframe thead th {\n",
       "        text-align: right;\n",
       "    }\n",
       "</style>\n",
       "<table border=\"1\" class=\"dataframe\">\n",
       "  <thead>\n",
       "    <tr style=\"text-align: right;\">\n",
       "      <th></th>\n",
       "      <th>Datum</th>\n",
       "      <th>PM10 (Stundenmittelwerte)</th>\n",
       "      <th>PM2.5 (Stundenmittelwerte)</th>\n",
       "    </tr>\n",
       "  </thead>\n",
       "  <tbody>\n",
       "    <tr>\n",
       "      <th>0</th>\n",
       "      <td>2022-01-01 00:00:00</td>\n",
       "      <td>83.840</td>\n",
       "      <td>71.870</td>\n",
       "    </tr>\n",
       "    <tr>\n",
       "      <th>1</th>\n",
       "      <td>2022-01-01 01:00:00</td>\n",
       "      <td>91.973</td>\n",
       "      <td>78.909</td>\n",
       "    </tr>\n",
       "    <tr>\n",
       "      <th>2</th>\n",
       "      <td>2022-01-01 02:00:00</td>\n",
       "      <td>68.396</td>\n",
       "      <td>58.632</td>\n",
       "    </tr>\n",
       "    <tr>\n",
       "      <th>3</th>\n",
       "      <td>2022-01-01 03:00:00</td>\n",
       "      <td>49.625</td>\n",
       "      <td>42.563</td>\n",
       "    </tr>\n",
       "    <tr>\n",
       "      <th>4</th>\n",
       "      <td>2022-01-01 04:00:00</td>\n",
       "      <td>41.854</td>\n",
       "      <td>35.799</td>\n",
       "    </tr>\n",
       "  </tbody>\n",
       "</table>\n",
       "</div>"
      ],
      "text/plain": [
       "                Datum  PM10 (Stundenmittelwerte)  PM2.5 (Stundenmittelwerte)\n",
       "0 2022-01-01 00:00:00                     83.840                      71.870\n",
       "1 2022-01-01 01:00:00                     91.973                      78.909\n",
       "2 2022-01-01 02:00:00                     68.396                      58.632\n",
       "3 2022-01-01 03:00:00                     49.625                      42.563\n",
       "4 2022-01-01 04:00:00                     41.854                      35.799"
      ]
     },
     "execution_count": 8,
     "metadata": {},
     "output_type": "execute_result"
    }
   ],
   "source": [
    "# Reindex the dataframe to include the complete date range\n",
    "data = data.set_index('Datum').reindex(complete_date_range).reset_index()\n",
    "data.rename(columns={'index': 'Datum'}, inplace=True)\n",
    "\n",
    "# Interpolate the missing values\n",
    "data['PM10 (Stundenmittelwerte)'] = data['PM10 (Stundenmittelwerte)'].interpolate()\n",
    "data['PM2.5 (Stundenmittelwerte)'] = data['PM2.5 (Stundenmittelwerte)'].interpolate()\n",
    "\n",
    "# Display the first few rows of the dataframe to verify\n",
    "data.head()"
   ]
  },
  {
   "cell_type": "code",
   "execution_count": 9,
   "metadata": {},
   "outputs": [
    {
     "name": "stdout",
     "output_type": "stream",
     "text": [
      "Missing timestamps:\n",
      "DatetimeIndex([], dtype='datetime64[ns]', freq='h')\n",
      "Number of missing hours: 0\n"
     ]
    },
    {
     "name": "stderr",
     "output_type": "stream",
     "text": [
      "/var/folders/rt/8pf1f2_x7sj69ytpkljsggxr0000gn/T/ipykernel_53461/2558750331.py:2: FutureWarning: 'H' is deprecated and will be removed in a future version, please use 'h' instead.\n",
      "  complete_date_range = pd.date_range(start=data['Datum'].min(), end=data['Datum'].max(), freq='H')\n"
     ]
    }
   ],
   "source": [
    "# Create a complete date range from the minimum to the maximum date in the data\n",
    "complete_date_range = pd.date_range(start=data['Datum'].min(), end=data['Datum'].max(), freq='H')\n",
    "\n",
    "# Find the missing timestamps by comparing the complete date range with the 'Datum' column\n",
    "missing_timestamps = complete_date_range.difference(data['Datum'])\n",
    "\n",
    "print(\"Missing timestamps:\")\n",
    "print(missing_timestamps)\n",
    "\n",
    "# Count the number of missing hours\n",
    "missing_hours_count = len(missing_timestamps)\n",
    "print(f\"Number of missing hours: {missing_hours_count}\")"
   ]
  },
  {
   "cell_type": "code",
   "execution_count": 10,
   "metadata": {},
   "outputs": [],
   "source": [
    "data.to_csv('10Targcleaned.csv', index=False)"
   ]
  }
 ],
 "metadata": {
  "kernelspec": {
   "display_name": "Python 3",
   "language": "python",
   "name": "python3"
  },
  "language_info": {
   "codemirror_mode": {
    "name": "ipython",
    "version": 3
   },
   "file_extension": ".py",
   "mimetype": "text/x-python",
   "name": "python",
   "nbconvert_exporter": "python",
   "pygments_lexer": "ipython3",
   "version": "3.9.6"
  }
 },
 "nbformat": 4,
 "nbformat_minor": 2
}
