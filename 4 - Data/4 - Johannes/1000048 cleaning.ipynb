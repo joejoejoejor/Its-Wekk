{
 "cells": [
  {
   "cell_type": "code",
   "execution_count": 39,
   "metadata": {},
   "outputs": [
    {
     "data": {
      "text/html": [
       "<div>\n",
       "<style scoped>\n",
       "    .dataframe tbody tr th:only-of-type {\n",
       "        vertical-align: middle;\n",
       "    }\n",
       "\n",
       "    .dataframe tbody tr th {\n",
       "        vertical-align: top;\n",
       "    }\n",
       "\n",
       "    .dataframe thead th {\n",
       "        text-align: right;\n",
       "    }\n",
       "</style>\n",
       "<table border=\"1\" class=\"dataframe\">\n",
       "  <thead>\n",
       "    <tr style=\"text-align: right;\">\n",
       "      <th></th>\n",
       "      <th>Datum/Zeit</th>\n",
       "      <th>timestamp_text</th>\n",
       "      <th>o3_stundenmittelwerte_ug_m3</th>\n",
       "      <th>geo_point_2d</th>\n",
       "    </tr>\n",
       "  </thead>\n",
       "  <tbody>\n",
       "    <tr>\n",
       "      <th>0</th>\n",
       "      <td>2022-01-01T00:00:00+00:00</td>\n",
       "      <td>2022-01-01T01:00:00+00:00</td>\n",
       "      <td>54.712</td>\n",
       "      <td>47.5717, 7.6870833</td>\n",
       "    </tr>\n",
       "    <tr>\n",
       "      <th>1</th>\n",
       "      <td>2022-01-01T01:00:00+00:00</td>\n",
       "      <td>2022-01-01T02:00:00+00:00</td>\n",
       "      <td>55.592</td>\n",
       "      <td>47.5717, 7.6870833</td>\n",
       "    </tr>\n",
       "    <tr>\n",
       "      <th>2</th>\n",
       "      <td>2022-01-01T02:00:00+00:00</td>\n",
       "      <td>2022-01-01T03:00:00+00:00</td>\n",
       "      <td>52.945</td>\n",
       "      <td>47.5717, 7.6870833</td>\n",
       "    </tr>\n",
       "    <tr>\n",
       "      <th>3</th>\n",
       "      <td>2022-01-01T03:00:00+00:00</td>\n",
       "      <td>2022-01-01T04:00:00+00:00</td>\n",
       "      <td>52.387</td>\n",
       "      <td>47.5717, 7.6870833</td>\n",
       "    </tr>\n",
       "    <tr>\n",
       "      <th>4</th>\n",
       "      <td>2022-01-01T04:00:00+00:00</td>\n",
       "      <td>2022-01-01T05:00:00+00:00</td>\n",
       "      <td>51.119</td>\n",
       "      <td>47.5717, 7.6870833</td>\n",
       "    </tr>\n",
       "  </tbody>\n",
       "</table>\n",
       "</div>"
      ],
      "text/plain": [
       "                  Datum/Zeit             timestamp_text  \\\n",
       "0  2022-01-01T00:00:00+00:00  2022-01-01T01:00:00+00:00   \n",
       "1  2022-01-01T01:00:00+00:00  2022-01-01T02:00:00+00:00   \n",
       "2  2022-01-01T02:00:00+00:00  2022-01-01T03:00:00+00:00   \n",
       "3  2022-01-01T03:00:00+00:00  2022-01-01T04:00:00+00:00   \n",
       "4  2022-01-01T04:00:00+00:00  2022-01-01T05:00:00+00:00   \n",
       "\n",
       "   o3_stundenmittelwerte_ug_m3        geo_point_2d  \n",
       "0                       54.712  47.5717, 7.6870833  \n",
       "1                       55.592  47.5717, 7.6870833  \n",
       "2                       52.945  47.5717, 7.6870833  \n",
       "3                       52.387  47.5717, 7.6870833  \n",
       "4                       51.119  47.5717, 7.6870833  "
      ]
     },
     "execution_count": 39,
     "metadata": {},
     "output_type": "execute_result"
    }
   ],
   "source": [
    "import pandas as pd\n",
    "\n",
    "# Load the CSV file into a DataFrame\n",
    "df = pd.read_csv('/Users/johannessolibieda/Documents/GitHub/Its-Wekk/4 - Data/4 - Johannes/100048.csv', delimiter=';')\n",
    "\n",
    "# Display the first few rows of the DataFrame\n",
    "df.head()\n",
    "# Sort the DataFrame by the 'Datum/Zeit' column and reset the index\n",
    "df = df.sort_values(by='Datum/Zeit').reset_index(drop=True)\n",
    "\n",
    "# Display the first few rows of the DataFrame\n",
    "df.head()\n",
    "\n",
    "# Drop the first row of the DataFrame\n",
    "df = df.drop(index=0).reset_index(drop=True)\n",
    "\n",
    "# Display the first few rows of the DataFrame after dropping the first row\n",
    "df.head()"
   ]
  },
  {
   "cell_type": "code",
   "execution_count": 40,
   "metadata": {},
   "outputs": [
    {
     "name": "stdout",
     "output_type": "stream",
     "text": [
      "Index(['Datum/Zeit', 'timestamp_text', 'o3_stundenmittelwerte_ug_m3',\n",
      "       'geo_point_2d'],\n",
      "      dtype='object')\n",
      "Number of missing values in 'o3_stundenmittelwerte_ug_m3': 0\n",
      "Number of zero values in 'o3_stundenmittelwerte_ug_m3': 0\n"
     ]
    }
   ],
   "source": [
    "# Print the column names to find the correct column name\n",
    "print(df.columns)\n",
    "\n",
    "# Check for missing or empty values in the correct column\n",
    "correct_column_name = 'o3_stundenmittelwerte_ug_m3'  # Replace with the actual column name\n",
    "missing_values = df[correct_column_name].isnull().sum()\n",
    "print(f\"Number of missing values in '{correct_column_name}': {missing_values}\")\n",
    "\n",
    "# Check for zero values in the correct column\n",
    "zero_values = (df[correct_column_name] == 0).sum()\n",
    "print(f\"Number of zero values in '{correct_column_name}': {zero_values}\")"
   ]
  },
  {
   "cell_type": "code",
   "execution_count": 41,
   "metadata": {},
   "outputs": [
    {
     "data": {
      "text/html": [
       "<div>\n",
       "<style scoped>\n",
       "    .dataframe tbody tr th:only-of-type {\n",
       "        vertical-align: middle;\n",
       "    }\n",
       "\n",
       "    .dataframe tbody tr th {\n",
       "        vertical-align: top;\n",
       "    }\n",
       "\n",
       "    .dataframe thead th {\n",
       "        text-align: right;\n",
       "    }\n",
       "</style>\n",
       "<table border=\"1\" class=\"dataframe\">\n",
       "  <thead>\n",
       "    <tr style=\"text-align: right;\">\n",
       "      <th></th>\n",
       "      <th>Datum/Zeit</th>\n",
       "      <th>o3_stundenmittelwerte_ug_m3</th>\n",
       "    </tr>\n",
       "  </thead>\n",
       "  <tbody>\n",
       "    <tr>\n",
       "      <th>0</th>\n",
       "      <td>2022-01-01T00:00:00+00:00</td>\n",
       "      <td>54.712</td>\n",
       "    </tr>\n",
       "    <tr>\n",
       "      <th>1</th>\n",
       "      <td>2022-01-01T01:00:00+00:00</td>\n",
       "      <td>55.592</td>\n",
       "    </tr>\n",
       "    <tr>\n",
       "      <th>2</th>\n",
       "      <td>2022-01-01T02:00:00+00:00</td>\n",
       "      <td>52.945</td>\n",
       "    </tr>\n",
       "    <tr>\n",
       "      <th>3</th>\n",
       "      <td>2022-01-01T03:00:00+00:00</td>\n",
       "      <td>52.387</td>\n",
       "    </tr>\n",
       "    <tr>\n",
       "      <th>4</th>\n",
       "      <td>2022-01-01T04:00:00+00:00</td>\n",
       "      <td>51.119</td>\n",
       "    </tr>\n",
       "  </tbody>\n",
       "</table>\n",
       "</div>"
      ],
      "text/plain": [
       "                  Datum/Zeit  o3_stundenmittelwerte_ug_m3\n",
       "0  2022-01-01T00:00:00+00:00                       54.712\n",
       "1  2022-01-01T01:00:00+00:00                       55.592\n",
       "2  2022-01-01T02:00:00+00:00                       52.945\n",
       "3  2022-01-01T03:00:00+00:00                       52.387\n",
       "4  2022-01-01T04:00:00+00:00                       51.119"
      ]
     },
     "execution_count": 41,
     "metadata": {},
     "output_type": "execute_result"
    }
   ],
   "source": [
    "# Drop the specified columns\n",
    "df = df.drop(columns=['geo_point_2d', 'timestamp_text'])\n",
    "\n",
    "# Display the first few rows of the DataFrame after dropping the columns\n",
    "df.head()"
   ]
  },
  {
   "cell_type": "code",
   "execution_count": 42,
   "metadata": {},
   "outputs": [
    {
     "name": "stdout",
     "output_type": "stream",
     "text": [
      "Number of missing dates: 385\n",
      "Missing dates:\n",
      "DatetimeIndex(['2022-02-17 15:00:00+00:00', '2022-02-17 16:00:00+00:00',\n",
      "               '2022-03-27 01:00:00+00:00', '2022-03-27 02:00:00+00:00',\n",
      "               '2022-09-26 08:00:00+00:00', '2022-10-30 01:00:00+00:00',\n",
      "               '2023-03-26 01:00:00+00:00', '2023-03-26 02:00:00+00:00',\n",
      "               '2023-07-04 13:00:00+00:00', '2023-07-04 14:00:00+00:00',\n",
      "               ...\n",
      "               '2024-03-14 05:00:00+00:00', '2024-03-14 06:00:00+00:00',\n",
      "               '2024-03-14 07:00:00+00:00', '2024-03-14 08:00:00+00:00',\n",
      "               '2024-03-14 09:00:00+00:00', '2024-03-14 16:00:00+00:00',\n",
      "               '2024-03-31 01:00:00+00:00', '2024-03-31 02:00:00+00:00',\n",
      "               '2024-09-03 09:00:00+00:00', '2024-10-27 01:00:00+00:00'],\n",
      "              dtype='datetime64[ns, UTC]', length=385, freq=None)\n"
     ]
    },
    {
     "name": "stderr",
     "output_type": "stream",
     "text": [
      "/var/folders/rt/8pf1f2_x7sj69ytpkljsggxr0000gn/T/ipykernel_48450/3482865412.py:5: FutureWarning: 'H' is deprecated and will be removed in a future version, please use 'h' instead.\n",
      "  expected_dates = pd.date_range(start=df['Datum/Zeit'].min(), end=df['Datum/Zeit'].max(), freq='H')\n"
     ]
    }
   ],
   "source": [
    "# Convert the 'Datum/Zeit' column to datetime\n",
    "df['Datum/Zeit'] = pd.to_datetime(df['Datum/Zeit'])\n",
    "\n",
    "# Create a date range with the expected frequency (hourly in this case)\n",
    "expected_dates = pd.date_range(start=df['Datum/Zeit'].min(), end=df['Datum/Zeit'].max(), freq='H')\n",
    "\n",
    "# Find the missing dates by comparing the expected dates with the actual dates\n",
    "missing_dates = expected_dates.difference(df['Datum/Zeit'])\n",
    "\n",
    "# Print the number of missing dates and the missing dates themselves\n",
    "print(f\"Number of missing dates: {len(missing_dates)}\")\n",
    "print(\"Missing dates:\")\n",
    "print(missing_dates)"
   ]
  },
  {
   "cell_type": "code",
   "execution_count": 43,
   "metadata": {},
   "outputs": [
    {
     "data": {
      "text/html": [
       "<div>\n",
       "<style scoped>\n",
       "    .dataframe tbody tr th:only-of-type {\n",
       "        vertical-align: middle;\n",
       "    }\n",
       "\n",
       "    .dataframe tbody tr th {\n",
       "        vertical-align: top;\n",
       "    }\n",
       "\n",
       "    .dataframe thead th {\n",
       "        text-align: right;\n",
       "    }\n",
       "</style>\n",
       "<table border=\"1\" class=\"dataframe\">\n",
       "  <thead>\n",
       "    <tr style=\"text-align: right;\">\n",
       "      <th></th>\n",
       "      <th>Datum/Zeit</th>\n",
       "      <th>o3_stundenmittelwerte_ug_m3</th>\n",
       "    </tr>\n",
       "  </thead>\n",
       "  <tbody>\n",
       "    <tr>\n",
       "      <th>0</th>\n",
       "      <td>2022-01-01 00:00:00+00:00</td>\n",
       "      <td>54.712</td>\n",
       "    </tr>\n",
       "    <tr>\n",
       "      <th>1</th>\n",
       "      <td>2022-01-01 01:00:00+00:00</td>\n",
       "      <td>55.592</td>\n",
       "    </tr>\n",
       "    <tr>\n",
       "      <th>2</th>\n",
       "      <td>2022-01-01 02:00:00+00:00</td>\n",
       "      <td>52.945</td>\n",
       "    </tr>\n",
       "    <tr>\n",
       "      <th>3</th>\n",
       "      <td>2022-01-01 03:00:00+00:00</td>\n",
       "      <td>52.387</td>\n",
       "    </tr>\n",
       "    <tr>\n",
       "      <th>4</th>\n",
       "      <td>2022-01-01 04:00:00+00:00</td>\n",
       "      <td>51.119</td>\n",
       "    </tr>\n",
       "  </tbody>\n",
       "</table>\n",
       "</div>"
      ],
      "text/plain": [
       "                 Datum/Zeit  o3_stundenmittelwerte_ug_m3\n",
       "0 2022-01-01 00:00:00+00:00                       54.712\n",
       "1 2022-01-01 01:00:00+00:00                       55.592\n",
       "2 2022-01-01 02:00:00+00:00                       52.945\n",
       "3 2022-01-01 03:00:00+00:00                       52.387\n",
       "4 2022-01-01 04:00:00+00:00                       51.119"
      ]
     },
     "execution_count": 43,
     "metadata": {},
     "output_type": "execute_result"
    }
   ],
   "source": [
    "# Create a new DataFrame to store the filled values\n",
    "filled_df = df.copy()\n",
    "\n",
    "# Iterate over the missing dates\n",
    "for missing_date in missing_dates:\n",
    "    # Find the same time on the same weekday in the existing data\n",
    "    same_time_weekday = df[(df['Datum/Zeit'].dt.hour == missing_date.hour) & (df['Datum/Zeit'].dt.weekday == missing_date.weekday())]\n",
    "    \n",
    "    # Calculate the mean value for the same time on the same weekday\n",
    "    mean_value = same_time_weekday[correct_column_name].mean()\n",
    "    \n",
    "    # Create a new row with the missing date and the calculated mean value\n",
    "    new_row = pd.DataFrame({'Datum/Zeit': [missing_date], correct_column_name: [mean_value]})\n",
    "    \n",
    "    # Append the new row to the filled DataFrame\n",
    "    filled_df = pd.concat([filled_df, new_row], ignore_index=True)\n",
    "\n",
    "# Sort the filled DataFrame by the 'Datum/Zeit' column and reset the index\n",
    "filled_df = filled_df.sort_values(by='Datum/Zeit').reset_index(drop=True)\n",
    "\n",
    "# Display the first few rows of the filled DataFrame\n",
    "filled_df.head()"
   ]
  },
  {
   "cell_type": "code",
   "execution_count": 44,
   "metadata": {},
   "outputs": [
    {
     "name": "stdout",
     "output_type": "stream",
     "text": [
      "Number of missing dates: 0\n",
      "Missing dates:\n",
      "DatetimeIndex([], dtype='datetime64[ns, UTC]', freq='h')\n"
     ]
    },
    {
     "name": "stderr",
     "output_type": "stream",
     "text": [
      "/var/folders/rt/8pf1f2_x7sj69ytpkljsggxr0000gn/T/ipykernel_48450/3248014503.py:2: FutureWarning: 'H' is deprecated and will be removed in a future version, please use 'h' instead.\n",
      "  expected_dates = pd.date_range(start=filled_df['Datum/Zeit'].min(), end=filled_df['Datum/Zeit'].max(), freq='H')\n"
     ]
    }
   ],
   "source": [
    "# Create a date range with the expected frequency (hourly in this case)\n",
    "expected_dates = pd.date_range(start=filled_df['Datum/Zeit'].min(), end=filled_df['Datum/Zeit'].max(), freq='H')\n",
    "\n",
    "# Find the missing dates by comparing the expected dates with the actual dates in filled_df\n",
    "missing_dates = expected_dates.difference(filled_df['Datum/Zeit'])\n",
    "\n",
    "# Print the number of missing dates and the missing dates themselves\n",
    "print(f\"Number of missing dates: {len(missing_dates)}\")\n",
    "print(\"Missing dates:\")\n",
    "print(missing_dates)"
   ]
  },
  {
   "cell_type": "code",
   "execution_count": 45,
   "metadata": {},
   "outputs": [],
   "source": [
    "filled_df.to_csv('1000048cleaned.csv', index=False)"
   ]
  }
 ],
 "metadata": {
  "kernelspec": {
   "display_name": "Python 3",
   "language": "python",
   "name": "python3"
  },
  "language_info": {
   "codemirror_mode": {
    "name": "ipython",
    "version": 3
   },
   "file_extension": ".py",
   "mimetype": "text/x-python",
   "name": "python",
   "nbconvert_exporter": "python",
   "pygments_lexer": "ipython3",
   "version": "3.9.6"
  }
 },
 "nbformat": 4,
 "nbformat_minor": 2
}
