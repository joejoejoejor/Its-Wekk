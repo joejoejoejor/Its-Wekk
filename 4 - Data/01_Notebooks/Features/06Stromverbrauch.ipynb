{
 "cells": [
  {
   "cell_type": "markdown",
   "metadata": {},
   "source": [
    "**Stromverbrauch Cleaning**"
   ]
  },
  {
   "cell_type": "code",
   "execution_count": 41,
   "metadata": {},
   "outputs": [
    {
     "data": {
      "text/html": [
       "<div>\n",
       "<style scoped>\n",
       "    .dataframe tbody tr th:only-of-type {\n",
       "        vertical-align: middle;\n",
       "    }\n",
       "\n",
       "    .dataframe tbody tr th {\n",
       "        vertical-align: top;\n",
       "    }\n",
       "\n",
       "    .dataframe thead th {\n",
       "        text-align: right;\n",
       "    }\n",
       "</style>\n",
       "<table border=\"1\" class=\"dataframe\">\n",
       "  <thead>\n",
       "    <tr style=\"text-align: right;\">\n",
       "      <th></th>\n",
       "      <th>Start der Messung</th>\n",
       "      <th>Start der Messung (Text)</th>\n",
       "      <th>Stromverbrauch</th>\n",
       "      <th>Grundversorgte Kunden</th>\n",
       "      <th>Freie Kunden</th>\n",
       "      <th>Jahr</th>\n",
       "      <th>Monat</th>\n",
       "      <th>Tag</th>\n",
       "      <th>Wochentag</th>\n",
       "      <th>Tag des Jahres</th>\n",
       "      <th>Quartal</th>\n",
       "      <th>Woche des Jahres</th>\n",
       "    </tr>\n",
       "  </thead>\n",
       "  <tbody>\n",
       "    <tr>\n",
       "      <th>0</th>\n",
       "      <td>2024-11-20T22:45:00+00:00</td>\n",
       "      <td>2024-11-20T23:45:00+0100</td>\n",
       "      <td>29723.678</td>\n",
       "      <td>14692.131</td>\n",
       "      <td>15031.548</td>\n",
       "      <td>2024</td>\n",
       "      <td>11</td>\n",
       "      <td>20</td>\n",
       "      <td>2</td>\n",
       "      <td>325</td>\n",
       "      <td>4</td>\n",
       "      <td>47</td>\n",
       "    </tr>\n",
       "    <tr>\n",
       "      <th>1</th>\n",
       "      <td>2024-11-20T22:30:00+00:00</td>\n",
       "      <td>2024-11-20T23:30:00+0100</td>\n",
       "      <td>30489.012</td>\n",
       "      <td>15280.308</td>\n",
       "      <td>15208.704</td>\n",
       "      <td>2024</td>\n",
       "      <td>11</td>\n",
       "      <td>20</td>\n",
       "      <td>2</td>\n",
       "      <td>325</td>\n",
       "      <td>4</td>\n",
       "      <td>47</td>\n",
       "    </tr>\n",
       "    <tr>\n",
       "      <th>2</th>\n",
       "      <td>2024-11-20T22:15:00+00:00</td>\n",
       "      <td>2024-11-20T23:15:00+0100</td>\n",
       "      <td>30939.471</td>\n",
       "      <td>15676.639</td>\n",
       "      <td>15262.832</td>\n",
       "      <td>2024</td>\n",
       "      <td>11</td>\n",
       "      <td>20</td>\n",
       "      <td>2</td>\n",
       "      <td>325</td>\n",
       "      <td>4</td>\n",
       "      <td>47</td>\n",
       "    </tr>\n",
       "    <tr>\n",
       "      <th>3</th>\n",
       "      <td>2024-11-20T22:00:00+00:00</td>\n",
       "      <td>2024-11-20T23:00:00+0100</td>\n",
       "      <td>31937.689</td>\n",
       "      <td>16444.321</td>\n",
       "      <td>15493.368</td>\n",
       "      <td>2024</td>\n",
       "      <td>11</td>\n",
       "      <td>20</td>\n",
       "      <td>2</td>\n",
       "      <td>325</td>\n",
       "      <td>4</td>\n",
       "      <td>47</td>\n",
       "    </tr>\n",
       "    <tr>\n",
       "      <th>4</th>\n",
       "      <td>2024-11-20T21:45:00+00:00</td>\n",
       "      <td>2024-11-20T22:45:00+0100</td>\n",
       "      <td>32717.173</td>\n",
       "      <td>17053.991</td>\n",
       "      <td>15663.182</td>\n",
       "      <td>2024</td>\n",
       "      <td>11</td>\n",
       "      <td>20</td>\n",
       "      <td>2</td>\n",
       "      <td>325</td>\n",
       "      <td>4</td>\n",
       "      <td>47</td>\n",
       "    </tr>\n",
       "  </tbody>\n",
       "</table>\n",
       "</div>"
      ],
      "text/plain": [
       "           Start der Messung  Start der Messung (Text)  Stromverbrauch  \\\n",
       "0  2024-11-20T22:45:00+00:00  2024-11-20T23:45:00+0100       29723.678   \n",
       "1  2024-11-20T22:30:00+00:00  2024-11-20T23:30:00+0100       30489.012   \n",
       "2  2024-11-20T22:15:00+00:00  2024-11-20T23:15:00+0100       30939.471   \n",
       "3  2024-11-20T22:00:00+00:00  2024-11-20T23:00:00+0100       31937.689   \n",
       "4  2024-11-20T21:45:00+00:00  2024-11-20T22:45:00+0100       32717.173   \n",
       "\n",
       "   Grundversorgte Kunden  Freie Kunden  Jahr  Monat  Tag  Wochentag  \\\n",
       "0              14692.131     15031.548  2024     11   20          2   \n",
       "1              15280.308     15208.704  2024     11   20          2   \n",
       "2              15676.639     15262.832  2024     11   20          2   \n",
       "3              16444.321     15493.368  2024     11   20          2   \n",
       "4              17053.991     15663.182  2024     11   20          2   \n",
       "\n",
       "   Tag des Jahres  Quartal  Woche des Jahres  \n",
       "0             325        4                47  \n",
       "1             325        4                47  \n",
       "2             325        4                47  \n",
       "3             325        4                47  \n",
       "4             325        4                47  "
      ]
     },
     "execution_count": 41,
     "metadata": {},
     "output_type": "execute_result"
    }
   ],
   "source": [
    "import pandas as pd\n",
    "\n",
    "file_path = \"../../00_Uncleaned_Data/Features/06Stromverbrauch_15minIntervall.csv\"\n",
    "df = pd.read_csv(file_path, delimiter=';')\n",
    "\n",
    "df.head()"
   ]
  },
  {
   "cell_type": "code",
   "execution_count": 42,
   "metadata": {},
   "outputs": [
    {
     "data": {
      "text/html": [
       "<div>\n",
       "<style scoped>\n",
       "    .dataframe tbody tr th:only-of-type {\n",
       "        vertical-align: middle;\n",
       "    }\n",
       "\n",
       "    .dataframe tbody tr th {\n",
       "        vertical-align: top;\n",
       "    }\n",
       "\n",
       "    .dataframe thead th {\n",
       "        text-align: right;\n",
       "    }\n",
       "</style>\n",
       "<table border=\"1\" class=\"dataframe\">\n",
       "  <thead>\n",
       "    <tr style=\"text-align: right;\">\n",
       "      <th></th>\n",
       "      <th>Start der Messung</th>\n",
       "      <th>Start der Messung (Text)</th>\n",
       "      <th>Stromverbrauch</th>\n",
       "    </tr>\n",
       "  </thead>\n",
       "  <tbody>\n",
       "    <tr>\n",
       "      <th>0</th>\n",
       "      <td>2024-11-20T22:45:00+00:00</td>\n",
       "      <td>2024-11-20T23:45:00+0100</td>\n",
       "      <td>29723.678</td>\n",
       "    </tr>\n",
       "    <tr>\n",
       "      <th>1</th>\n",
       "      <td>2024-11-20T22:30:00+00:00</td>\n",
       "      <td>2024-11-20T23:30:00+0100</td>\n",
       "      <td>30489.012</td>\n",
       "    </tr>\n",
       "    <tr>\n",
       "      <th>2</th>\n",
       "      <td>2024-11-20T22:15:00+00:00</td>\n",
       "      <td>2024-11-20T23:15:00+0100</td>\n",
       "      <td>30939.471</td>\n",
       "    </tr>\n",
       "    <tr>\n",
       "      <th>3</th>\n",
       "      <td>2024-11-20T22:00:00+00:00</td>\n",
       "      <td>2024-11-20T23:00:00+0100</td>\n",
       "      <td>31937.689</td>\n",
       "    </tr>\n",
       "    <tr>\n",
       "      <th>4</th>\n",
       "      <td>2024-11-20T21:45:00+00:00</td>\n",
       "      <td>2024-11-20T22:45:00+0100</td>\n",
       "      <td>32717.173</td>\n",
       "    </tr>\n",
       "  </tbody>\n",
       "</table>\n",
       "</div>"
      ],
      "text/plain": [
       "           Start der Messung  Start der Messung (Text)  Stromverbrauch\n",
       "0  2024-11-20T22:45:00+00:00  2024-11-20T23:45:00+0100       29723.678\n",
       "1  2024-11-20T22:30:00+00:00  2024-11-20T23:30:00+0100       30489.012\n",
       "2  2024-11-20T22:15:00+00:00  2024-11-20T23:15:00+0100       30939.471\n",
       "3  2024-11-20T22:00:00+00:00  2024-11-20T23:00:00+0100       31937.689\n",
       "4  2024-11-20T21:45:00+00:00  2024-11-20T22:45:00+0100       32717.173"
      ]
     },
     "execution_count": 42,
     "metadata": {},
     "output_type": "execute_result"
    }
   ],
   "source": [
    "df.drop(columns=['Jahr', 'Monat', 'Tag', 'Wochentag', 'Tag des Jahres', 'Quartal', 'Woche des Jahres', 'Grundversorgte Kunden', 'Freie Kunden'], inplace=True)\n",
    "df.head()"
   ]
  },
  {
   "cell_type": "code",
   "execution_count": 43,
   "metadata": {},
   "outputs": [
    {
     "data": {
      "text/html": [
       "<div>\n",
       "<style scoped>\n",
       "    .dataframe tbody tr th:only-of-type {\n",
       "        vertical-align: middle;\n",
       "    }\n",
       "\n",
       "    .dataframe tbody tr th {\n",
       "        vertical-align: top;\n",
       "    }\n",
       "\n",
       "    .dataframe thead th {\n",
       "        text-align: right;\n",
       "    }\n",
       "</style>\n",
       "<table border=\"1\" class=\"dataframe\">\n",
       "  <thead>\n",
       "    <tr style=\"text-align: right;\">\n",
       "      <th></th>\n",
       "      <th>Hour</th>\n",
       "      <th>Stromverbrauch</th>\n",
       "    </tr>\n",
       "  </thead>\n",
       "  <tbody>\n",
       "    <tr>\n",
       "      <th>112978</th>\n",
       "      <td>2024-11-20 22:00:00+00:00</td>\n",
       "      <td>123089.850</td>\n",
       "    </tr>\n",
       "    <tr>\n",
       "      <th>112977</th>\n",
       "      <td>2024-11-20 21:00:00+00:00</td>\n",
       "      <td>133712.379</td>\n",
       "    </tr>\n",
       "    <tr>\n",
       "      <th>112976</th>\n",
       "      <td>2024-11-20 20:00:00+00:00</td>\n",
       "      <td>143317.149</td>\n",
       "    </tr>\n",
       "    <tr>\n",
       "      <th>112975</th>\n",
       "      <td>2024-11-20 19:00:00+00:00</td>\n",
       "      <td>155465.131</td>\n",
       "    </tr>\n",
       "    <tr>\n",
       "      <th>112974</th>\n",
       "      <td>2024-11-20 18:00:00+00:00</td>\n",
       "      <td>169421.384</td>\n",
       "    </tr>\n",
       "  </tbody>\n",
       "</table>\n",
       "</div>"
      ],
      "text/plain": [
       "                            Hour  Stromverbrauch\n",
       "112978 2024-11-20 22:00:00+00:00      123089.850\n",
       "112977 2024-11-20 21:00:00+00:00      133712.379\n",
       "112976 2024-11-20 20:00:00+00:00      143317.149\n",
       "112975 2024-11-20 19:00:00+00:00      155465.131\n",
       "112974 2024-11-20 18:00:00+00:00      169421.384"
      ]
     },
     "execution_count": 43,
     "metadata": {},
     "output_type": "execute_result"
    }
   ],
   "source": [
    "# Ensure 'Start der Messung' is in datetime format\n",
    "df['Start der Messung'] = pd.to_datetime(df['Start der Messung'], errors='coerce')\n",
    "\n",
    "# Extract the hour from the 'Start der Messung' column\n",
    "df['Hour'] = df['Start der Messung'].dt.floor('h')  \n",
    "\n",
    "# Group by the hour and sum the relevant columns\n",
    "aggregated_df = df.groupby('Hour').agg({\n",
    "    'Stromverbrauch': 'sum'\n",
    "}).reset_index()\n",
    "\n",
    "# Display the resulting DataFrame \n",
    "aggregated_df = aggregated_df.sort_values(by='Hour', ascending=False)\n",
    "aggregated_df.head()"
   ]
  },
  {
   "cell_type": "code",
   "execution_count": 44,
   "metadata": {},
   "outputs": [
    {
     "name": "stdout",
     "output_type": "stream",
     "text": [
      "No rows are missing.\n"
     ]
    }
   ],
   "source": [
    "#checking for missing values\n",
    "\n",
    "# Create a date range from the minimum to the maximum date in the 'Datum' column\n",
    "date_range = pd.date_range(start=aggregated_df['Hour'].min(), end=aggregated_df['Hour'].max(), freq='D')\n",
    "\n",
    "# Create a DataFrame with all the dates in the range\n",
    "all_dates = pd.DataFrame({'Hour': date_range})\n",
    "\n",
    "# Merge this new DataFrame with the original to find missing dates\n",
    "missing_dates = pd.merge(all_dates, aggregated_df, on='Hour', how='left', indicator=True)\n",
    "\n",
    "# Rows that are missing in the original DataFrame will have '_merge' == 'left_only'\n",
    "missing_rows = missing_dates[missing_dates['_merge'] == 'left_only']\n",
    "\n",
    "# Output the missing rows (if any)\n",
    "if not missing_rows.empty:\n",
    "    print(f\"Missing rows for the following dates: {missing_rows['Hour'].tolist()}\")\n",
    "else:\n",
    "    print(\"No rows are missing.\")"
   ]
  },
  {
   "cell_type": "code",
   "execution_count": 45,
   "metadata": {},
   "outputs": [
    {
     "name": "stdout",
     "output_type": "stream",
     "text": [
      "Missing hourly timestamps:\n",
      "DatetimeIndex(['2012-10-28 01:00:00+00:00', '2013-10-27 01:00:00+00:00',\n",
      "               '2014-10-26 01:00:00+00:00', '2015-10-25 01:00:00+00:00',\n",
      "               '2016-10-30 01:00:00+00:00', '2017-10-29 01:00:00+00:00',\n",
      "               '2018-10-28 01:00:00+00:00', '2019-10-27 01:00:00+00:00',\n",
      "               '2020-10-25 01:00:00+00:00', '2021-10-31 01:00:00+00:00',\n",
      "               '2022-10-30 01:00:00+00:00', '2023-10-29 01:00:00+00:00',\n",
      "               '2024-10-27 01:00:00+00:00'],\n",
      "              dtype='datetime64[ns, UTC]', freq=None)\n"
     ]
    }
   ],
   "source": [
    "# Ensure 'Datum' is a datetime object\n",
    "df['Hour'] = pd.to_datetime(df['Hour'])\n",
    "\n",
    "# Create a complete range of hourly timestamps from the first to the last point\n",
    "full_range = pd.date_range(start=df['Hour'].min(), end=df['Hour'].max(), freq='h')\n",
    "\n",
    "# Identify missing timestamps\n",
    "missing_timestamps = full_range.difference(df['Hour'])\n",
    "\n",
    "# Display the results\n",
    "if missing_timestamps.empty:\n",
    "    print(\"No missing hourly timestamps. All hours are accounted for.\")\n",
    "else:\n",
    "    print(\"Missing hourly timestamps:\")\n",
    "    print(missing_timestamps)"
   ]
  },
  {
   "cell_type": "code",
   "execution_count": 46,
   "metadata": {},
   "outputs": [
    {
     "name": "stdout",
     "output_type": "stream",
     "text": [
      "Index([112978, 112977, 112976, 112975, 112974, 112973, 112972, 112971, 112970,\n",
      "       112969,\n",
      "       ...\n",
      "            9,      8,      7,      6,      5,      4,      3,      2,      1,\n",
      "            0],\n",
      "      dtype='int64', length=112979)\n"
     ]
    }
   ],
   "source": [
    "print(aggregated_df.index)\n"
   ]
  },
  {
   "cell_type": "code",
   "execution_count": 47,
   "metadata": {},
   "outputs": [
    {
     "data": {
      "text/html": [
       "<div>\n",
       "<style scoped>\n",
       "    .dataframe tbody tr th:only-of-type {\n",
       "        vertical-align: middle;\n",
       "    }\n",
       "\n",
       "    .dataframe tbody tr th {\n",
       "        vertical-align: top;\n",
       "    }\n",
       "\n",
       "    .dataframe thead th {\n",
       "        text-align: right;\n",
       "    }\n",
       "</style>\n",
       "<table border=\"1\" class=\"dataframe\">\n",
       "  <thead>\n",
       "    <tr style=\"text-align: right;\">\n",
       "      <th></th>\n",
       "      <th>Stromverbrauch</th>\n",
       "    </tr>\n",
       "    <tr>\n",
       "      <th>Datum</th>\n",
       "      <th></th>\n",
       "    </tr>\n",
       "  </thead>\n",
       "  <tbody>\n",
       "    <tr>\n",
       "      <th>2024-11-20 22:00:00+00:00</th>\n",
       "      <td>123089.850</td>\n",
       "    </tr>\n",
       "    <tr>\n",
       "      <th>2024-11-20 21:00:00+00:00</th>\n",
       "      <td>133712.379</td>\n",
       "    </tr>\n",
       "    <tr>\n",
       "      <th>2024-11-20 20:00:00+00:00</th>\n",
       "      <td>143317.149</td>\n",
       "    </tr>\n",
       "    <tr>\n",
       "      <th>2024-11-20 19:00:00+00:00</th>\n",
       "      <td>155465.131</td>\n",
       "    </tr>\n",
       "    <tr>\n",
       "      <th>2024-11-20 18:00:00+00:00</th>\n",
       "      <td>169421.384</td>\n",
       "    </tr>\n",
       "  </tbody>\n",
       "</table>\n",
       "</div>"
      ],
      "text/plain": [
       "                           Stromverbrauch\n",
       "Datum                                    \n",
       "2024-11-20 22:00:00+00:00      123089.850\n",
       "2024-11-20 21:00:00+00:00      133712.379\n",
       "2024-11-20 20:00:00+00:00      143317.149\n",
       "2024-11-20 19:00:00+00:00      155465.131\n",
       "2024-11-20 18:00:00+00:00      169421.384"
      ]
     },
     "execution_count": 47,
     "metadata": {},
     "output_type": "execute_result"
    }
   ],
   "source": [
    "#Rename cloumn and set index\n",
    "aggregated_df.rename(columns={'Hour': 'Datum'}, inplace=True)\n",
    "aggregated_df.set_index('Datum', inplace=True)\n",
    "aggregated_df.head()"
   ]
  },
  {
   "cell_type": "code",
   "execution_count": 48,
   "metadata": {},
   "outputs": [
    {
     "name": "stdout",
     "output_type": "stream",
     "text": [
      "                           Stromverbrauch\n",
      "2022-10-30 01:00:00+00:00      95567.1525\n",
      "2023-10-29 01:00:00+00:00      96768.2645\n"
     ]
    },
    {
     "name": "stderr",
     "output_type": "stream",
     "text": [
      "C:\\Users\\maxd2\\AppData\\Local\\Temp\\ipykernel_21288\\3408223639.py:16: FutureWarning: The behavior of DataFrame concatenation with empty or all-NA entries is deprecated. In a future version, this will no longer exclude empty or all-NA columns when determining the result dtypes. To retain the old behavior, exclude the relevant entries before the concat operation.\n",
      "  aggregated_df.loc[hour] = pd.NA\n",
      "C:\\Users\\maxd2\\AppData\\Local\\Temp\\ipykernel_21288\\3408223639.py:16: FutureWarning: The behavior of DataFrame concatenation with empty or all-NA entries is deprecated. In a future version, this will no longer exclude empty or all-NA columns when determining the result dtypes. To retain the old behavior, exclude the relevant entries before the concat operation.\n",
      "  aggregated_df.loc[hour] = pd.NA\n"
     ]
    }
   ],
   "source": [
    "#make a moving average for the two missing values we are interested in\n",
    "\n",
    "# Define the missing timestamps we are interested in\n",
    "missing_hours = ['2022-10-30 01:00:00+00:00', '2023-10-29 01:00:00+00:00']\n",
    "\n",
    "# Convert them to datetime\n",
    "missing_hours = pd.to_datetime(missing_hours)\n",
    "\n",
    "# Ensure the index of the DataFrame is consistently tz-aware\n",
    "aggregated_df.index = pd.to_datetime(aggregated_df.index).tz_convert('UTC')\n",
    "\n",
    "# Ensure the missing hours are in the DataFrame\n",
    "for hour in missing_hours:\n",
    "    if hour not in aggregated_df.index:\n",
    "        # Insert with pd.NA to maintain consistency\n",
    "        aggregated_df.loc[hour] = pd.NA\n",
    "\n",
    "# Sort the DataFrame by index to maintain chronological order\n",
    "aggregated_df.sort_index(inplace=True)\n",
    "\n",
    "# Calculate the moving average for the missing hours\n",
    "for hour in missing_hours:\n",
    "    # Calculate the moving average (using a window of 3 for simplicity)\n",
    "    moving_avg = aggregated_df.loc[hour - pd.Timedelta(hours=1):hour + pd.Timedelta(hours=1), 'Stromverbrauch'].mean(skipna=True)\n",
    "    \n",
    "    # Fill the missing value with the moving average\n",
    "    aggregated_df.at[hour, 'Stromverbrauch'] = moving_avg\n",
    "\n",
    "# Display the updated DataFrame\n",
    "print(aggregated_df.loc[missing_hours])\n",
    "\n"
   ]
  },
  {
   "cell_type": "code",
   "execution_count": 49,
   "metadata": {},
   "outputs": [
    {
     "name": "stdout",
     "output_type": "stream",
     "text": [
      "Zero values: 0\n",
      "NaN values: 0\n",
      "'/N' values: 0\n"
     ]
    }
   ],
   "source": [
    "# Check for 0 values\n",
    "zero_values = (df['Stromverbrauch'] == 0).sum()\n",
    "\n",
    "# Check for NaN values\n",
    "nan_values = df['Stromverbrauch'].isna().sum()\n",
    "\n",
    "# Check for '/N' values\n",
    "slash_n_values = (df['Stromverbrauch'] == '/N').sum()\n",
    "\n",
    "print(f\"Zero values: {zero_values}\")\n",
    "print(f\"NaN values: {nan_values}\")\n",
    "print(f\"'/N' values: {slash_n_values}\")"
   ]
  },
  {
   "cell_type": "code",
   "execution_count": 50,
   "metadata": {},
   "outputs": [],
   "source": [
    "save_path = \"../../02_Cleaned/Features/06Stromverbrauch_hourly_cleaned.csv\"\n",
    "aggregated_df.to_csv(save_path)"
   ]
  }
 ],
 "metadata": {
  "kernelspec": {
   "display_name": "Python 3",
   "language": "python",
   "name": "python3"
  },
  "language_info": {
   "codemirror_mode": {
    "name": "ipython",
    "version": 3
   },
   "file_extension": ".py",
   "mimetype": "text/x-python",
   "name": "python",
   "nbconvert_exporter": "python",
   "pygments_lexer": "ipython3",
   "version": "3.11.9"
  }
 },
 "nbformat": 4,
 "nbformat_minor": 2
}
