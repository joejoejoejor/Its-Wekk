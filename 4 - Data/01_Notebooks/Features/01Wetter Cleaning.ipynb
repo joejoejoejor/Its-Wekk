{
 "cells": [
  {
   "cell_type": "markdown",
   "metadata": {},
   "source": [
    "**Weather Cleaning**\n",
    "\n",
    "*Import Packages*"
   ]
  },
  {
   "cell_type": "code",
   "execution_count": 1,
   "metadata": {},
   "outputs": [],
   "source": [
    "import pandas as pd\n"
   ]
  },
  {
   "cell_type": "code",
   "execution_count": 2,
   "metadata": {},
   "outputs": [],
   "source": [
    "Weather_full = pd.read_csv(\"../../00_Uncleaned_Data/Features/01Wetterdaten_Basel_stündlich22_24.csv\", skiprows=9)"
   ]
  },
  {
   "cell_type": "code",
   "execution_count": 3,
   "metadata": {},
   "outputs": [
    {
     "data": {
      "text/html": [
       "<div>\n",
       "<style scoped>\n",
       "    .dataframe tbody tr th:only-of-type {\n",
       "        vertical-align: middle;\n",
       "    }\n",
       "\n",
       "    .dataframe tbody tr th {\n",
       "        vertical-align: top;\n",
       "    }\n",
       "\n",
       "    .dataframe thead th {\n",
       "        text-align: right;\n",
       "    }\n",
       "</style>\n",
       "<table border=\"1\" class=\"dataframe\">\n",
       "  <thead>\n",
       "    <tr style=\"text-align: right;\">\n",
       "      <th></th>\n",
       "      <th>timestamp</th>\n",
       "      <th>Basel Temperature [2 m elevation corrected]</th>\n",
       "      <th>Basel Precipitation Total</th>\n",
       "      <th>Basel Wind Speed [10 m]</th>\n",
       "      <th>Basel Wind Direction [10 m]</th>\n",
       "    </tr>\n",
       "  </thead>\n",
       "  <tbody>\n",
       "    <tr>\n",
       "      <th>0</th>\n",
       "      <td>20220101T0000</td>\n",
       "      <td>5.560245</td>\n",
       "      <td>0.0</td>\n",
       "      <td>4.320000</td>\n",
       "      <td>180.00000</td>\n",
       "    </tr>\n",
       "    <tr>\n",
       "      <th>1</th>\n",
       "      <td>20220101T0100</td>\n",
       "      <td>4.630245</td>\n",
       "      <td>0.0</td>\n",
       "      <td>3.259939</td>\n",
       "      <td>173.65980</td>\n",
       "    </tr>\n",
       "    <tr>\n",
       "      <th>2</th>\n",
       "      <td>20220101T0200</td>\n",
       "      <td>3.660245</td>\n",
       "      <td>0.0</td>\n",
       "      <td>3.545589</td>\n",
       "      <td>156.03750</td>\n",
       "    </tr>\n",
       "    <tr>\n",
       "      <th>3</th>\n",
       "      <td>20220101T0300</td>\n",
       "      <td>3.880245</td>\n",
       "      <td>0.0</td>\n",
       "      <td>3.671294</td>\n",
       "      <td>168.69006</td>\n",
       "    </tr>\n",
       "    <tr>\n",
       "      <th>4</th>\n",
       "      <td>20220101T0400</td>\n",
       "      <td>3.650245</td>\n",
       "      <td>0.0</td>\n",
       "      <td>4.349896</td>\n",
       "      <td>155.55605</td>\n",
       "    </tr>\n",
       "  </tbody>\n",
       "</table>\n",
       "</div>"
      ],
      "text/plain": [
       "       timestamp  Basel Temperature [2 m elevation corrected]  \\\n",
       "0  20220101T0000                                     5.560245   \n",
       "1  20220101T0100                                     4.630245   \n",
       "2  20220101T0200                                     3.660245   \n",
       "3  20220101T0300                                     3.880245   \n",
       "4  20220101T0400                                     3.650245   \n",
       "\n",
       "   Basel Precipitation Total  Basel Wind Speed [10 m]  \\\n",
       "0                        0.0                 4.320000   \n",
       "1                        0.0                 3.259939   \n",
       "2                        0.0                 3.545589   \n",
       "3                        0.0                 3.671294   \n",
       "4                        0.0                 4.349896   \n",
       "\n",
       "   Basel Wind Direction [10 m]  \n",
       "0                    180.00000  \n",
       "1                    173.65980  \n",
       "2                    156.03750  \n",
       "3                    168.69006  \n",
       "4                    155.55605  "
      ]
     },
     "execution_count": 3,
     "metadata": {},
     "output_type": "execute_result"
    }
   ],
   "source": [
    "Weather_full.head()\n"
   ]
  },
  {
   "cell_type": "code",
   "execution_count": 4,
   "metadata": {},
   "outputs": [
    {
     "data": {
      "text/html": [
       "<div>\n",
       "<style scoped>\n",
       "    .dataframe tbody tr th:only-of-type {\n",
       "        vertical-align: middle;\n",
       "    }\n",
       "\n",
       "    .dataframe tbody tr th {\n",
       "        vertical-align: top;\n",
       "    }\n",
       "\n",
       "    .dataframe thead th {\n",
       "        text-align: right;\n",
       "    }\n",
       "</style>\n",
       "<table border=\"1\" class=\"dataframe\">\n",
       "  <thead>\n",
       "    <tr style=\"text-align: right;\">\n",
       "      <th></th>\n",
       "      <th>Basel Temperature [2 m elevation corrected]</th>\n",
       "      <th>Basel Precipitation Total</th>\n",
       "      <th>Basel Wind Speed [10 m]</th>\n",
       "      <th>Basel Wind Direction [10 m]</th>\n",
       "    </tr>\n",
       "    <tr>\n",
       "      <th>Datum</th>\n",
       "      <th></th>\n",
       "      <th></th>\n",
       "      <th></th>\n",
       "      <th></th>\n",
       "    </tr>\n",
       "  </thead>\n",
       "  <tbody>\n",
       "    <tr>\n",
       "      <th>2022-01-01 00:00:00+00:00</th>\n",
       "      <td>5.560245</td>\n",
       "      <td>0.0</td>\n",
       "      <td>4.320000</td>\n",
       "      <td>180.00000</td>\n",
       "    </tr>\n",
       "    <tr>\n",
       "      <th>2022-01-01 01:00:00+00:00</th>\n",
       "      <td>4.630245</td>\n",
       "      <td>0.0</td>\n",
       "      <td>3.259939</td>\n",
       "      <td>173.65980</td>\n",
       "    </tr>\n",
       "    <tr>\n",
       "      <th>2022-01-01 02:00:00+00:00</th>\n",
       "      <td>3.660245</td>\n",
       "      <td>0.0</td>\n",
       "      <td>3.545589</td>\n",
       "      <td>156.03750</td>\n",
       "    </tr>\n",
       "    <tr>\n",
       "      <th>2022-01-01 03:00:00+00:00</th>\n",
       "      <td>3.880245</td>\n",
       "      <td>0.0</td>\n",
       "      <td>3.671294</td>\n",
       "      <td>168.69006</td>\n",
       "    </tr>\n",
       "    <tr>\n",
       "      <th>2022-01-01 04:00:00+00:00</th>\n",
       "      <td>3.650245</td>\n",
       "      <td>0.0</td>\n",
       "      <td>4.349896</td>\n",
       "      <td>155.55605</td>\n",
       "    </tr>\n",
       "  </tbody>\n",
       "</table>\n",
       "</div>"
      ],
      "text/plain": [
       "                           Basel Temperature [2 m elevation corrected]  \\\n",
       "Datum                                                                    \n",
       "2022-01-01 00:00:00+00:00                                     5.560245   \n",
       "2022-01-01 01:00:00+00:00                                     4.630245   \n",
       "2022-01-01 02:00:00+00:00                                     3.660245   \n",
       "2022-01-01 03:00:00+00:00                                     3.880245   \n",
       "2022-01-01 04:00:00+00:00                                     3.650245   \n",
       "\n",
       "                           Basel Precipitation Total  Basel Wind Speed [10 m]  \\\n",
       "Datum                                                                           \n",
       "2022-01-01 00:00:00+00:00                        0.0                 4.320000   \n",
       "2022-01-01 01:00:00+00:00                        0.0                 3.259939   \n",
       "2022-01-01 02:00:00+00:00                        0.0                 3.545589   \n",
       "2022-01-01 03:00:00+00:00                        0.0                 3.671294   \n",
       "2022-01-01 04:00:00+00:00                        0.0                 4.349896   \n",
       "\n",
       "                           Basel Wind Direction [10 m]  \n",
       "Datum                                                   \n",
       "2022-01-01 00:00:00+00:00                    180.00000  \n",
       "2022-01-01 01:00:00+00:00                    173.65980  \n",
       "2022-01-01 02:00:00+00:00                    156.03750  \n",
       "2022-01-01 03:00:00+00:00                    168.69006  \n",
       "2022-01-01 04:00:00+00:00                    155.55605  "
      ]
     },
     "execution_count": 4,
     "metadata": {},
     "output_type": "execute_result"
    }
   ],
   "source": [
    "# Rename the column\n",
    "Weather_full.rename(columns={'timestamp': 'Datum'}, inplace=True)\n",
    "\n",
    "# Change the format of the 'Datum' column\n",
    "Weather_full['Datum'] = pd.to_datetime(Weather_full['Datum'], format='%Y%m%dT%H%M', utc=True)\n",
    "\n",
    "# Sort by 'Datum' and set it as the index\n",
    "Weather_full.sort_values(by='Datum', inplace=True)\n",
    "Weather_full.set_index('Datum', inplace=True)\n",
    "\n",
    "# Display the first few rows to verify the changes\n",
    "Weather_full.head()"
   ]
  },
  {
   "cell_type": "code",
   "execution_count": 5,
   "metadata": {},
   "outputs": [
    {
     "name": "stdout",
     "output_type": "stream",
     "text": [
      "No rows are missing.\n"
     ]
    }
   ],
   "source": [
    "#hopefully useless\n",
    "#checking for missing values\n",
    "Weather_full.reset_index(inplace=True)\n",
    "\n",
    "# Create a date range from the minimum to the maximum date in the 'Datum' column\n",
    "date_range = pd.date_range(start=Weather_full['Datum'].min(), end=Weather_full['Datum'].max(), freq='D')\n",
    "\n",
    "# Create a DataFrame with all the dates in the range\n",
    "all_dates = pd.DataFrame({'Datum': date_range})\n",
    "\n",
    "# Merge this new DataFrame with the original to find missing dates\n",
    "missing_dates = pd.merge(all_dates, Weather_full, on='Datum', how='left', indicator=True)\n",
    "\n",
    "# Rows that are missing in the original DataFrame will have '_merge' == 'left_only'\n",
    "missing_rows = missing_dates[missing_dates['_merge'] == 'left_only']\n",
    "\n",
    "# Output the missing rows (if any)\n",
    "if not missing_rows.empty:\n",
    "    print(f\"Missing rows for the following dates: {missing_rows['Datum'].tolist()}\")\n",
    "else:\n",
    "    print(\"No rows are missing.\")"
   ]
  },
  {
   "cell_type": "code",
   "execution_count": 6,
   "metadata": {},
   "outputs": [],
   "source": [
    "Weather_full.to_csv(\"../../02_Cleaned/Features/01Wetterdaten_cleaned.csv\")"
   ]
  }
 ],
 "metadata": {
  "kernelspec": {
   "display_name": "Python 3",
   "language": "python",
   "name": "python3"
  },
  "language_info": {
   "codemirror_mode": {
    "name": "ipython",
    "version": 3
   },
   "file_extension": ".py",
   "mimetype": "text/x-python",
   "name": "python",
   "nbconvert_exporter": "python",
   "pygments_lexer": "ipython3",
   "version": "3.11.9"
  }
 },
 "nbformat": 4,
 "nbformat_minor": 2
}
