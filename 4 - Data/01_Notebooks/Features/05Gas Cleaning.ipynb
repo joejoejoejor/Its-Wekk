{
 "cells": [
  {
   "cell_type": "markdown",
   "metadata": {},
   "source": [
    "**Gas Cleaning**"
   ]
  },
  {
   "cell_type": "code",
   "execution_count": 1,
   "metadata": {},
   "outputs": [],
   "source": [
    "import pandas as pd\n",
    "from datetime import datetime, timedelta\n",
    "import pytz"
   ]
  },
  {
   "cell_type": "code",
   "execution_count": 2,
   "metadata": {},
   "outputs": [],
   "source": [
    "Gas = pd.read_csv(\"../../00_Uncleaned_Data/Features/05Gasverbrauch_im_Versorgungsgebiet_der_IWB.csv\", sep=\";\")"
   ]
  },
  {
   "cell_type": "code",
   "execution_count": 57,
   "metadata": {},
   "outputs": [
    {
     "data": {
      "text/html": [
       "<div>\n",
       "<style scoped>\n",
       "    .dataframe tbody tr th:only-of-type {\n",
       "        vertical-align: middle;\n",
       "    }\n",
       "\n",
       "    .dataframe tbody tr th {\n",
       "        vertical-align: top;\n",
       "    }\n",
       "\n",
       "    .dataframe thead th {\n",
       "        text-align: right;\n",
       "    }\n",
       "</style>\n",
       "<table border=\"1\" class=\"dataframe\">\n",
       "  <thead>\n",
       "    <tr style=\"text-align: right;\">\n",
       "      <th></th>\n",
       "      <th>Start der Messung</th>\n",
       "      <th>Gasverbrauch</th>\n",
       "    </tr>\n",
       "  </thead>\n",
       "  <tbody>\n",
       "    <tr>\n",
       "      <th>0</th>\n",
       "      <td>2023-10-18T23:00:00+00:00</td>\n",
       "      <td>185054.4299</td>\n",
       "    </tr>\n",
       "    <tr>\n",
       "      <th>1</th>\n",
       "      <td>2023-10-19T00:00:00+00:00</td>\n",
       "      <td>184888.9114</td>\n",
       "    </tr>\n",
       "    <tr>\n",
       "      <th>2</th>\n",
       "      <td>2023-10-19T01:00:00+00:00</td>\n",
       "      <td>196871.6645</td>\n",
       "    </tr>\n",
       "    <tr>\n",
       "      <th>3</th>\n",
       "      <td>2023-10-19T04:00:00+00:00</td>\n",
       "      <td>322512.8374</td>\n",
       "    </tr>\n",
       "    <tr>\n",
       "      <th>4</th>\n",
       "      <td>2023-10-19T05:00:00+00:00</td>\n",
       "      <td>348277.5490</td>\n",
       "    </tr>\n",
       "  </tbody>\n",
       "</table>\n",
       "</div>"
      ],
      "text/plain": [
       "           Start der Messung  Gasverbrauch\n",
       "0  2023-10-18T23:00:00+00:00   185054.4299\n",
       "1  2023-10-19T00:00:00+00:00   184888.9114\n",
       "2  2023-10-19T01:00:00+00:00   196871.6645\n",
       "3  2023-10-19T04:00:00+00:00   322512.8374\n",
       "4  2023-10-19T05:00:00+00:00   348277.5490"
      ]
     },
     "execution_count": 57,
     "metadata": {},
     "output_type": "execute_result"
    }
   ],
   "source": [
    "\n",
    "Gas = Gas.drop(columns=[\"Datum\",\"Zeit\", \"Jahr\", \"Monat\", \"Tag\", \"Wochentag\", \"Tag des Jahres\", \"Quartal\", \"Woche des Jahres\"])\n",
    "Gas.head()\n"
   ]
  },
  {
   "cell_type": "code",
   "execution_count": null,
   "metadata": {},
   "outputs": [],
   "source": [
    "\n",
    "\n",
    "def fix_dst_transitions(df, timestamp_column=None, value_columns=None, return_utc=True):\n",
    "    \"\"\"\n",
    "    Fix time series data affected by DST transitions in Basel, Switzerland.\n",
    "    \n",
    "    Parameters:\n",
    "    df: pandas DataFrame with timestamp data\n",
    "    timestamp_column: name of the column containing timestamps. If None, will try to auto-detect\n",
    "    value_columns: list of columns to process (must be numeric). If None, will process all numeric columns\n",
    "    return_utc: boolean, if True returns timestamps in UTC format\n",
    "    \n",
    "    Returns:\n",
    "    DataFrame with corrected timestamps and values, in UTC if specified\n",
    "    \"\"\"\n",
    "    # Make a copy to avoid modifying original data\n",
    "    df = df.copy()\n",
    "    \n",
    "    # Try to automatically detect timestamp column if not specified\n",
    "    if timestamp_column is None:\n",
    "        time_like_columns = df.select_dtypes(include=['datetime64']).columns\n",
    "        if len(time_like_columns) > 0:\n",
    "            timestamp_column = time_like_columns[0]\n",
    "        else:\n",
    "            # Try to find columns with common timestamp names\n",
    "            possible_names = ['timestamp', 'time', 'date', 'datetime', 'Timestamp', 'Time', 'Date', 'DateTime', 'Start der Messung']\n",
    "            for name in possible_names:\n",
    "                if name in df.columns:\n",
    "                    timestamp_column = name\n",
    "                    break\n",
    "    \n",
    "    if timestamp_column is None or timestamp_column not in df.columns:\n",
    "        raise ValueError(f\"Could not find timestamp column. Available columns are: {df.columns.tolist()}\")\n",
    "    \n",
    "    # Convert to datetime if not already\n",
    "    if not pd.api.types.is_datetime64_any_dtype(df[timestamp_column]):\n",
    "        df[timestamp_column] = pd.to_datetime(df[timestamp_column])\n",
    "    \n",
    "    # Identify numeric columns if value_columns not specified\n",
    "    if value_columns is None:\n",
    "        value_columns = df.select_dtypes(include=['int64', 'float64']).columns.tolist()\n",
    "        # Remove timestamp column if it's in the numeric columns\n",
    "        value_columns = [col for col in value_columns if col != timestamp_column]\n",
    "    \n",
    "    if not value_columns:\n",
    "        raise ValueError(\"No numeric columns found to process\")\n",
    "    \n",
    "    # Store non-numeric columns for later\n",
    "    all_columns = df.columns.tolist()\n",
    "    non_numeric_cols = [col for col in all_columns if col not in value_columns and col != timestamp_column]\n",
    "    \n",
    "    # Set timezone to Europe/Zurich (covers Basel) if not already set\n",
    "    zurich_tz = pytz.timezone('Europe/Zurich')\n",
    "    \n",
    "    # Check if timestamp is already tz-aware\n",
    "    if df[timestamp_column].dt.tz is None:\n",
    "        df[timestamp_column] = df[timestamp_column].dt.tz_localize('UTC').dt.tz_convert(zurich_tz)\n",
    "    elif df[timestamp_column].dt.tz != zurich_tz:\n",
    "        df[timestamp_column] = df[timestamp_column].dt.tz_convert(zurich_tz)\n",
    "    \n",
    "    # Process numeric columns\n",
    "    df_numeric = df[[timestamp_column] + value_columns].copy()\n",
    "    df_numeric = df_numeric.set_index(timestamp_column).sort_index()\n",
    "    df_resampled = df_numeric.resample('1H').mean()\n",
    "    df_processed = df_resampled.interpolate(method='time')\n",
    "    df_processed = df_processed.reset_index()\n",
    "    \n",
    "    # Process non-numeric columns\n",
    "    if non_numeric_cols:\n",
    "        df_non_numeric = df[[timestamp_column] + non_numeric_cols].copy()\n",
    "        df_non_numeric = df_non_numeric.set_index(timestamp_column).sort_index()\n",
    "        \n",
    "        # For non-numeric columns, use forward fill (or another appropriate method)\n",
    "        df_non_numeric_resampled = df_non_numeric.resample('1H').ffill()\n",
    "        df_non_numeric_processed = df_non_numeric_resampled.reset_index()\n",
    "        \n",
    "        # Merge numeric and non-numeric data\n",
    "        df_processed = pd.merge(\n",
    "            df_processed,\n",
    "            df_non_numeric_processed,\n",
    "            on=timestamp_column,\n",
    "            how='outer'\n",
    "        )\n",
    "    \n",
    "    # Convert back to UTC if requested\n",
    "    if return_utc:\n",
    "        df_processed[timestamp_column] = df_processed[timestamp_column].dt.tz_convert('UTC')\n",
    "    \n",
    "    # Sort by timestamp\n",
    "    df_processed = df_processed.sort_values(timestamp_column)\n",
    "    \n",
    "    # Ensure original column order\n",
    "    final_columns = [timestamp_column] + [col for col in all_columns if col != timestamp_column]\n",
    "    df_processed = df_processed[final_columns]\n",
    "    \n",
    "    return df_processed\n",
    "\n",
    "# Example usage:\n",
    "# corrected_Gas = fix_dst_transitions(Gas, value_columns=['your_numeric_column'])\n"
   ]
  },
  {
   "cell_type": "code",
   "execution_count": 58,
   "metadata": {},
   "outputs": [
    {
     "name": "stdout",
     "output_type": "stream",
     "text": [
      "              Start der Messung  Gasverbrauch              Adjusted UTC\n",
      "0     2023-10-18 23:00:00+00:00   185054.4299 2023-10-18 22:00:00+00:00\n",
      "1     2023-10-19 00:00:00+00:00   184888.9114 2023-10-18 23:00:00+00:00\n",
      "2     2023-10-19 01:00:00+00:00   196871.6645 2023-10-19 00:00:00+00:00\n",
      "3     2023-10-19 04:00:00+00:00   322512.8374 2023-10-19 03:00:00+00:00\n",
      "4     2023-10-19 05:00:00+00:00   348277.5490 2023-10-19 04:00:00+00:00\n",
      "...                         ...           ...                       ...\n",
      "28244 2023-11-11 07:00:00+00:00   440050.3820 2023-11-11 07:00:00+00:00\n",
      "28245 2023-11-11 10:00:00+00:00   409672.0796 2023-11-11 10:00:00+00:00\n",
      "28246 2023-11-11 11:00:00+00:00   395212.7034 2023-11-11 11:00:00+00:00\n",
      "28247 2023-11-11 12:00:00+00:00   363730.7498 2023-11-11 12:00:00+00:00\n",
      "28248 2023-11-11 13:00:00+00:00   375884.6556 2023-11-11 13:00:00+00:00\n",
      "\n",
      "[28249 rows x 3 columns]\n"
     ]
    }
   ],
   "source": [
    "import pandas as pd\n",
    "from pytz import timezone\n",
    "\n",
    "\n",
    "# Konvertieren der Zeitspalte in pandas-Datetime\n",
    "Gas['Start der Messung'] = pd.to_datetime(Gas['Start der Messung'], utc=True)\n",
    "\n",
    "# Funktion zur Anpassung der Zeiten\n",
    "def adjust_timestamps(df):\n",
    "    local_tz = timezone('Europe/Berlin')\n",
    "    adjusted_times = []\n",
    "    \n",
    "    for timestamp in df['Start der Messung']:\n",
    "        # Lokale Zeit mit Zeitzone\n",
    "        local_time = timestamp.astimezone(local_tz)\n",
    "        \n",
    "        # Sommerzeit prüfen und anpassen\n",
    "        if local_time.dst().total_seconds() != 0:  # Wenn Sommerzeit aktiv\n",
    "            timestamp -= pd.Timedelta(hours=1)\n",
    "        \n",
    "        # Sicherstellen, dass keine Duplikate entstehen\n",
    "        while timestamp in adjusted_times:\n",
    "            timestamp += pd.Timedelta(hours=1)  # Verschieben, falls doppelter Eintrag\n",
    "        \n",
    "        adjusted_times.append(timestamp)\n",
    "    \n",
    "    return pd.Series(adjusted_times)\n",
    "\n",
    "# Anwendung der Anpassung\n",
    "Gas['Adjusted UTC'] = adjust_timestamps(Gas)\n",
    "\n",
    "print(Gas)"
   ]
  },
  {
   "cell_type": "code",
   "execution_count": 59,
   "metadata": {},
   "outputs": [
    {
     "data": {
      "text/html": [
       "<div>\n",
       "<style scoped>\n",
       "    .dataframe tbody tr th:only-of-type {\n",
       "        vertical-align: middle;\n",
       "    }\n",
       "\n",
       "    .dataframe tbody tr th {\n",
       "        vertical-align: top;\n",
       "    }\n",
       "\n",
       "    .dataframe thead th {\n",
       "        text-align: right;\n",
       "    }\n",
       "</style>\n",
       "<table border=\"1\" class=\"dataframe\">\n",
       "  <thead>\n",
       "    <tr style=\"text-align: right;\">\n",
       "      <th></th>\n",
       "      <th>Start der Messung</th>\n",
       "      <th>Gasverbrauch</th>\n",
       "      <th>Adjusted UTC</th>\n",
       "    </tr>\n",
       "  </thead>\n",
       "  <tbody>\n",
       "    <tr>\n",
       "      <th>12528</th>\n",
       "      <td>2021-09-01 03:00:00+00:00</td>\n",
       "      <td>269919.3321</td>\n",
       "      <td>2021-09-01 02:00:00+00:00</td>\n",
       "    </tr>\n",
       "    <tr>\n",
       "      <th>12529</th>\n",
       "      <td>2021-09-01 04:00:00+00:00</td>\n",
       "      <td>267289.9266</td>\n",
       "      <td>2021-09-01 03:00:00+00:00</td>\n",
       "    </tr>\n",
       "    <tr>\n",
       "      <th>8069</th>\n",
       "      <td>2021-09-01 05:00:00+00:00</td>\n",
       "      <td>269941.1200</td>\n",
       "      <td>2021-09-01 04:00:00+00:00</td>\n",
       "    </tr>\n",
       "    <tr>\n",
       "      <th>12530</th>\n",
       "      <td>2021-09-01 06:00:00+00:00</td>\n",
       "      <td>259909.3179</td>\n",
       "      <td>2021-09-01 05:00:00+00:00</td>\n",
       "    </tr>\n",
       "    <tr>\n",
       "      <th>21263</th>\n",
       "      <td>2021-09-01 07:00:00+00:00</td>\n",
       "      <td>243958.8099</td>\n",
       "      <td>2021-09-01 06:00:00+00:00</td>\n",
       "    </tr>\n",
       "  </tbody>\n",
       "</table>\n",
       "</div>"
      ],
      "text/plain": [
       "              Start der Messung  Gasverbrauch              Adjusted UTC\n",
       "12528 2021-09-01 03:00:00+00:00   269919.3321 2021-09-01 02:00:00+00:00\n",
       "12529 2021-09-01 04:00:00+00:00   267289.9266 2021-09-01 03:00:00+00:00\n",
       "8069  2021-09-01 05:00:00+00:00   269941.1200 2021-09-01 04:00:00+00:00\n",
       "12530 2021-09-01 06:00:00+00:00   259909.3179 2021-09-01 05:00:00+00:00\n",
       "21263 2021-09-01 07:00:00+00:00   243958.8099 2021-09-01 06:00:00+00:00"
      ]
     },
     "execution_count": 59,
     "metadata": {},
     "output_type": "execute_result"
    }
   ],
   "source": [
    "Gas.sort_values(by=\"Adjusted UTC\", inplace=True)\n",
    "Gas.head()"
   ]
  },
  {
   "cell_type": "code",
   "execution_count": 60,
   "metadata": {},
   "outputs": [
    {
     "data": {
      "text/html": [
       "<div>\n",
       "<style scoped>\n",
       "    .dataframe tbody tr th:only-of-type {\n",
       "        vertical-align: middle;\n",
       "    }\n",
       "\n",
       "    .dataframe tbody tr th {\n",
       "        vertical-align: top;\n",
       "    }\n",
       "\n",
       "    .dataframe thead th {\n",
       "        text-align: right;\n",
       "    }\n",
       "</style>\n",
       "<table border=\"1\" class=\"dataframe\">\n",
       "  <thead>\n",
       "    <tr style=\"text-align: right;\">\n",
       "      <th></th>\n",
       "      <th>Start der Messung</th>\n",
       "      <th>Gasverbrauch</th>\n",
       "      <th>Adjusted UTC</th>\n",
       "    </tr>\n",
       "  </thead>\n",
       "  <tbody>\n",
       "    <tr>\n",
       "      <th>3201</th>\n",
       "      <td>2022-03-27 01:00:00+00:00</td>\n",
       "      <td>346278.7600</td>\n",
       "      <td>2022-03-27 00:00:00+00:00</td>\n",
       "    </tr>\n",
       "    <tr>\n",
       "      <th>23891</th>\n",
       "      <td>2022-03-27 01:00:00+00:00</td>\n",
       "      <td>251581.2461</td>\n",
       "      <td>2022-03-27 03:00:00+00:00</td>\n",
       "    </tr>\n",
       "  </tbody>\n",
       "</table>\n",
       "</div>"
      ],
      "text/plain": [
       "              Start der Messung  Gasverbrauch              Adjusted UTC\n",
       "3201  2022-03-27 01:00:00+00:00   346278.7600 2022-03-27 00:00:00+00:00\n",
       "23891 2022-03-27 01:00:00+00:00   251581.2461 2022-03-27 03:00:00+00:00"
      ]
     },
     "execution_count": 60,
     "metadata": {},
     "output_type": "execute_result"
    }
   ],
   "source": [
    "Gas[Gas[\"Start der Messung\"] == \"2022-03-27T01\"]"
   ]
  },
  {
   "cell_type": "code",
   "execution_count": 61,
   "metadata": {},
   "outputs": [
    {
     "data": {
      "text/html": [
       "<div>\n",
       "<style scoped>\n",
       "    .dataframe tbody tr th:only-of-type {\n",
       "        vertical-align: middle;\n",
       "    }\n",
       "\n",
       "    .dataframe tbody tr th {\n",
       "        vertical-align: top;\n",
       "    }\n",
       "\n",
       "    .dataframe thead th {\n",
       "        text-align: right;\n",
       "    }\n",
       "</style>\n",
       "<table border=\"1\" class=\"dataframe\">\n",
       "  <thead>\n",
       "    <tr style=\"text-align: right;\">\n",
       "      <th></th>\n",
       "      <th>Start der Messung</th>\n",
       "      <th>Gasverbrauch</th>\n",
       "      <th>Adjusted UTC</th>\n",
       "    </tr>\n",
       "  </thead>\n",
       "  <tbody>\n",
       "    <tr>\n",
       "      <th>23890</th>\n",
       "      <td>2022-03-27 00:00:00+00:00</td>\n",
       "      <td>227953.7917</td>\n",
       "      <td>2022-03-27 01:00:00+00:00</td>\n",
       "    </tr>\n",
       "  </tbody>\n",
       "</table>\n",
       "</div>"
      ],
      "text/plain": [
       "              Start der Messung  Gasverbrauch              Adjusted UTC\n",
       "23890 2022-03-27 00:00:00+00:00   227953.7917 2022-03-27 01:00:00+00:00"
      ]
     },
     "execution_count": 61,
     "metadata": {},
     "output_type": "execute_result"
    }
   ],
   "source": [
    "Gas[Gas[\"Start der Messung\"] == \"2022-03-27T00\"]"
   ]
  },
  {
   "cell_type": "code",
   "execution_count": 62,
   "metadata": {},
   "outputs": [
    {
     "data": {
      "text/html": [
       "<div>\n",
       "<style scoped>\n",
       "    .dataframe tbody tr th:only-of-type {\n",
       "        vertical-align: middle;\n",
       "    }\n",
       "\n",
       "    .dataframe tbody tr th {\n",
       "        vertical-align: top;\n",
       "    }\n",
       "\n",
       "    .dataframe thead th {\n",
       "        text-align: right;\n",
       "    }\n",
       "</style>\n",
       "<table border=\"1\" class=\"dataframe\">\n",
       "  <thead>\n",
       "    <tr style=\"text-align: right;\">\n",
       "      <th></th>\n",
       "      <th>Start der Messung</th>\n",
       "      <th>Gasverbrauch</th>\n",
       "      <th>Adjusted UTC</th>\n",
       "    </tr>\n",
       "  </thead>\n",
       "  <tbody>\n",
       "    <tr>\n",
       "      <th>23892</th>\n",
       "      <td>2022-03-27 02:00:00+00:00</td>\n",
       "      <td>438581.9031</td>\n",
       "      <td>2022-03-27 04:00:00+00:00</td>\n",
       "    </tr>\n",
       "  </tbody>\n",
       "</table>\n",
       "</div>"
      ],
      "text/plain": [
       "              Start der Messung  Gasverbrauch              Adjusted UTC\n",
       "23892 2022-03-27 02:00:00+00:00   438581.9031 2022-03-27 04:00:00+00:00"
      ]
     },
     "execution_count": 62,
     "metadata": {},
     "output_type": "execute_result"
    }
   ],
   "source": [
    "Gas[Gas[\"Start der Messung\"] == \"2022-03-27T02\"]"
   ]
  },
  {
   "cell_type": "code",
   "execution_count": 37,
   "metadata": {},
   "outputs": [
    {
     "ename": "TypeError",
     "evalue": "can only concatenate list (not \"str\") to list",
     "output_type": "error",
     "traceback": [
      "\u001b[1;31m---------------------------------------------------------------------------\u001b[0m",
      "\u001b[1;31mTypeError\u001b[0m                                 Traceback (most recent call last)",
      "Cell \u001b[1;32mIn[37], line 1\u001b[0m\n\u001b[1;32m----> 1\u001b[0m corrected_Gas \u001b[38;5;241m=\u001b[39m \u001b[43mfix_dst_transitions\u001b[49m\u001b[43m(\u001b[49m\u001b[43mGas\u001b[49m\u001b[43m,\u001b[49m\u001b[43m \u001b[49m\u001b[43mtimestamp_column\u001b[49m\u001b[38;5;241;43m=\u001b[39;49m\u001b[38;5;124;43m\"\u001b[39;49m\u001b[38;5;124;43mStart der Messung\u001b[39;49m\u001b[38;5;124;43m\"\u001b[39;49m\u001b[43m,\u001b[49m\u001b[43m \u001b[49m\u001b[43mvalue_columns\u001b[49m\u001b[38;5;241;43m=\u001b[39;49m\u001b[38;5;124;43m\"\u001b[39;49m\u001b[38;5;124;43mGasverbrauch\u001b[39;49m\u001b[38;5;124;43m\"\u001b[39;49m\u001b[43m,\u001b[49m\u001b[43m \u001b[49m\u001b[43mreturn_utc\u001b[49m\u001b[38;5;241;43m=\u001b[39;49m\u001b[38;5;28;43;01mTrue\u001b[39;49;00m\u001b[43m)\u001b[49m\n\u001b[0;32m      2\u001b[0m \u001b[38;5;28mprint\u001b[39m(\u001b[38;5;124m\"\u001b[39m\u001b[38;5;130;01m\\n\u001b[39;00m\u001b[38;5;124mSample output:\u001b[39m\u001b[38;5;124m\"\u001b[39m)\n\u001b[0;32m      3\u001b[0m \u001b[38;5;28mprint\u001b[39m(corrected_df\u001b[38;5;241m.\u001b[39mhead())\n",
      "Cell \u001b[1;32mIn[36], line 63\u001b[0m, in \u001b[0;36mfix_dst_transitions\u001b[1;34m(df, timestamp_column, value_columns, return_utc)\u001b[0m\n\u001b[0;32m     60\u001b[0m     df[timestamp_column] \u001b[38;5;241m=\u001b[39m df[timestamp_column]\u001b[38;5;241m.\u001b[39mdt\u001b[38;5;241m.\u001b[39mtz_convert(zurich_tz)\n\u001b[0;32m     62\u001b[0m \u001b[38;5;66;03m# Process numeric columns\u001b[39;00m\n\u001b[1;32m---> 63\u001b[0m df_numeric \u001b[38;5;241m=\u001b[39m df[\u001b[43m[\u001b[49m\u001b[43mtimestamp_column\u001b[49m\u001b[43m]\u001b[49m\u001b[43m \u001b[49m\u001b[38;5;241;43m+\u001b[39;49m\u001b[43m \u001b[49m\u001b[43mvalue_columns\u001b[49m]\u001b[38;5;241m.\u001b[39mcopy()\n\u001b[0;32m     64\u001b[0m df_numeric \u001b[38;5;241m=\u001b[39m df_numeric\u001b[38;5;241m.\u001b[39mset_index(timestamp_column)\u001b[38;5;241m.\u001b[39msort_index()\n\u001b[0;32m     65\u001b[0m df_resampled \u001b[38;5;241m=\u001b[39m df_numeric\u001b[38;5;241m.\u001b[39mresample(\u001b[38;5;124m'\u001b[39m\u001b[38;5;124m1H\u001b[39m\u001b[38;5;124m'\u001b[39m)\u001b[38;5;241m.\u001b[39mmean()\n",
      "\u001b[1;31mTypeError\u001b[0m: can only concatenate list (not \"str\") to list"
     ]
    }
   ],
   "source": [
    "corrected_Gas = fix_dst_transitions(Gas, timestamp_column=\"Start der Messung\", value_columns=\"Gasverbrauch\", return_utc=True)\n",
    "print(\"\\nSample output:\")\n",
    "print(corrected_df.head())"
   ]
  },
  {
   "cell_type": "code",
   "execution_count": 15,
   "metadata": {},
   "outputs": [
    {
     "name": "stdout",
     "output_type": "stream",
     "text": [
      "           Start der Messung  Gasverbrauch       Datum   Zeit  Jahr  Monat  \\\n",
      "0  2023-10-18T23:00:00+00:00   185054.4299  2023-10-19  01:00  2023     10   \n",
      "1  2023-10-19T00:00:00+00:00   184888.9114  2023-10-19  02:00  2023     10   \n",
      "2  2023-10-19T01:00:00+00:00   196871.6645  2023-10-19  03:00  2023     10   \n",
      "3  2023-10-19T04:00:00+00:00   322512.8374  2023-10-19  06:00  2023     10   \n",
      "4  2023-10-19T05:00:00+00:00   348277.5490  2023-10-19  07:00  2023     10   \n",
      "\n",
      "   Tag  Wochentag  Tag des Jahres  Quartal  Woche des Jahres  \n",
      "0   19          3             292        4                42  \n",
      "1   19          3             292        4                42  \n",
      "2   19          3             292        4                42  \n",
      "3   19          3             292        4                42  \n",
      "4   19          3             292        4                42  \n",
      "Start der Messung     object\n",
      "Gasverbrauch         float64\n",
      "Datum                 object\n",
      "Zeit                  object\n",
      "Jahr                   int64\n",
      "Monat                  int64\n",
      "Tag                    int64\n",
      "Wochentag              int64\n",
      "Tag des Jahres         int64\n",
      "Quartal                int64\n",
      "Woche des Jahres       int64\n",
      "dtype: object\n"
     ]
    }
   ],
   "source": [
    "print(Gas.head())\n",
    "print(Gas.dtypes)"
   ]
  },
  {
   "cell_type": "markdown",
   "metadata": {},
   "source": [
    "Aufgrund der Zeitverschiebung haben sich die Daten in der CSV File verschoben. Nach langem Probieren hat es trotzdem nicht geklappt, weshalb ich es mit der parquet file probiert hatte, wo es auch komsich war aber einfacher zu lösen.\n"
   ]
  },
  {
   "cell_type": "code",
   "execution_count": 145,
   "metadata": {},
   "outputs": [],
   "source": [
    "Gas_new = pd.read_parquet(r\"C:\\Users\\maxd2\\OneDrive - Universitaet St.Gallen\\Desktop\\DSF\\Gasverbrauch_new_2411.parquet\")"
   ]
  },
  {
   "cell_type": "code",
   "execution_count": 143,
   "metadata": {},
   "outputs": [
    {
     "data": {
      "text/html": [
       "<div>\n",
       "<style scoped>\n",
       "    .dataframe tbody tr th:only-of-type {\n",
       "        vertical-align: middle;\n",
       "    }\n",
       "\n",
       "    .dataframe tbody tr th {\n",
       "        vertical-align: top;\n",
       "    }\n",
       "\n",
       "    .dataframe thead th {\n",
       "        text-align: right;\n",
       "    }\n",
       "</style>\n",
       "<table border=\"1\" class=\"dataframe\">\n",
       "  <thead>\n",
       "    <tr style=\"text-align: right;\">\n",
       "      <th></th>\n",
       "      <th>timestamp</th>\n",
       "      <th>value</th>\n",
       "      <th>date</th>\n",
       "      <th>time</th>\n",
       "      <th>year</th>\n",
       "      <th>month</th>\n",
       "      <th>day</th>\n",
       "      <th>weekday</th>\n",
       "      <th>dayofyear</th>\n",
       "      <th>quarter</th>\n",
       "      <th>weekofyear</th>\n",
       "    </tr>\n",
       "  </thead>\n",
       "  <tbody>\n",
       "    <tr>\n",
       "      <th>11037</th>\n",
       "      <td>2022-03-27 01:00:00+01:00</td>\n",
       "      <td>227953.7917</td>\n",
       "      <td>2022-03-27</td>\n",
       "      <td>01:00</td>\n",
       "      <td>2022</td>\n",
       "      <td>3</td>\n",
       "      <td>27</td>\n",
       "      <td>6</td>\n",
       "      <td>86</td>\n",
       "      <td>1</td>\n",
       "      <td>12</td>\n",
       "    </tr>\n",
       "  </tbody>\n",
       "</table>\n",
       "</div>"
      ],
      "text/plain": [
       "                      timestamp        value        date   time  year  month  \\\n",
       "11037 2022-03-27 01:00:00+01:00  227953.7917  2022-03-27  01:00  2022      3   \n",
       "\n",
       "       day  weekday  dayofyear  quarter  weekofyear  \n",
       "11037   27        6         86        1          12  "
      ]
     },
     "execution_count": 143,
     "metadata": {},
     "output_type": "execute_result"
    }
   ],
   "source": [
    "Gas_new[Gas_new[\"timestamp\"] == \"2022-03-27T01\"]"
   ]
  },
  {
   "cell_type": "code",
   "execution_count": 154,
   "metadata": {},
   "outputs": [
    {
     "data": {
      "text/html": [
       "<div>\n",
       "<style scoped>\n",
       "    .dataframe tbody tr th:only-of-type {\n",
       "        vertical-align: middle;\n",
       "    }\n",
       "\n",
       "    .dataframe tbody tr th {\n",
       "        vertical-align: top;\n",
       "    }\n",
       "\n",
       "    .dataframe thead th {\n",
       "        text-align: right;\n",
       "    }\n",
       "</style>\n",
       "<table border=\"1\" class=\"dataframe\">\n",
       "  <thead>\n",
       "    <tr style=\"text-align: right;\">\n",
       "      <th></th>\n",
       "      <th>timestamp</th>\n",
       "      <th>value</th>\n",
       "      <th>date</th>\n",
       "      <th>time</th>\n",
       "      <th>year</th>\n",
       "      <th>month</th>\n",
       "      <th>day</th>\n",
       "      <th>weekday</th>\n",
       "      <th>dayofyear</th>\n",
       "      <th>quarter</th>\n",
       "      <th>weekofyear</th>\n",
       "    </tr>\n",
       "  </thead>\n",
       "  <tbody>\n",
       "    <tr>\n",
       "      <th>11038</th>\n",
       "      <td>2022-03-27 03:00:00+02:00</td>\n",
       "      <td>251581.2461</td>\n",
       "      <td>2022-03-27</td>\n",
       "      <td>02:00</td>\n",
       "      <td>2022</td>\n",
       "      <td>3</td>\n",
       "      <td>27</td>\n",
       "      <td>6</td>\n",
       "      <td>86</td>\n",
       "      <td>1</td>\n",
       "      <td>12</td>\n",
       "    </tr>\n",
       "    <tr>\n",
       "      <th>26585</th>\n",
       "      <td>2022-03-27 03:00:00+02:00</td>\n",
       "      <td>346278.7600</td>\n",
       "      <td>2022-03-27</td>\n",
       "      <td>03:00</td>\n",
       "      <td>2022</td>\n",
       "      <td>3</td>\n",
       "      <td>27</td>\n",
       "      <td>6</td>\n",
       "      <td>86</td>\n",
       "      <td>1</td>\n",
       "      <td>12</td>\n",
       "    </tr>\n",
       "  </tbody>\n",
       "</table>\n",
       "</div>"
      ],
      "text/plain": [
       "                      timestamp        value        date   time  year  month  \\\n",
       "11038 2022-03-27 03:00:00+02:00  251581.2461  2022-03-27  02:00  2022      3   \n",
       "26585 2022-03-27 03:00:00+02:00  346278.7600  2022-03-27  03:00  2022      3   \n",
       "\n",
       "       day  weekday  dayofyear  quarter  weekofyear  \n",
       "11038   27        6         86        1          12  \n",
       "26585   27        6         86        1          12  "
      ]
     },
     "execution_count": 154,
     "metadata": {},
     "output_type": "execute_result"
    }
   ],
   "source": [
    "Gas_new[Gas_new[\"timestamp\"] == pd.Timestamp('2022-03-27 01:00:00+00:00')]"
   ]
  },
  {
   "cell_type": "code",
   "execution_count": 177,
   "metadata": {},
   "outputs": [
    {
     "name": "stdout",
     "output_type": "stream",
     "text": [
      "       year  month  day   time                 timestamp\n",
      "0      2023     10   19  05:00 2023-10-19 05:00:00+00:00\n",
      "1      2023     10   19  08:00 2023-10-19 08:00:00+00:00\n",
      "2      2023     10   19  10:00 2023-10-19 10:00:00+00:00\n",
      "3      2023     10   19  11:00 2023-10-19 11:00:00+00:00\n",
      "4      2023     10   19  19:00 2023-10-19 19:00:00+00:00\n",
      "...     ...    ...  ...    ...                       ...\n",
      "28316  2023     12   31  22:00 2023-12-31 22:00:00+00:00\n",
      "28317  2023      1    1  06:00 2023-01-01 06:00:00+00:00\n",
      "28318  2023      1    1  10:00 2023-01-01 10:00:00+00:00\n",
      "28319  2023      1    1  16:00 2023-01-01 16:00:00+00:00\n",
      "28320  2023      1    1  21:00 2023-01-01 21:00:00+00:00\n",
      "\n",
      "[28321 rows x 5 columns]\n"
     ]
    }
   ],
   "source": [
    "# so we import the data as usual, but drop the timestamp column as there are mistakes with the daylight saving time\n",
    "\n",
    "Gas_new = pd.read_parquet(r\"C:\\Users\\maxd2\\OneDrive - Universitaet St.Gallen\\Desktop\\DSF\\Gasverbrauch_new_2411.parquet\")\n",
    "\n",
    "Gas_new.drop(columns=[\"timestamp\"], inplace=True)\n",
    "\n",
    "\n",
    "# Assuming these columns exist in your DataFrame\n",
    "Gas_new['timestamp'] = pd.to_datetime(\n",
    "    Gas_new['year'].astype(str) + '-' + \n",
    "    Gas_new['month'].astype(str) + '-' + \n",
    "    Gas_new['day'].astype(str) + ' ' + \n",
    "    Gas_new['time'].astype(str),\n",
    "    format='%Y-%m-%d %H:%M',\n",
    "    errors='coerce', \n",
    "    utc=True\n",
    ")\n",
    "\n",
    "# Check the result\n",
    "print(Gas_new[['year', 'month', 'day', 'time', 'timestamp']])\n"
   ]
  },
  {
   "cell_type": "code",
   "execution_count": 178,
   "metadata": {},
   "outputs": [
    {
     "data": {
      "text/html": [
       "<div>\n",
       "<style scoped>\n",
       "    .dataframe tbody tr th:only-of-type {\n",
       "        vertical-align: middle;\n",
       "    }\n",
       "\n",
       "    .dataframe tbody tr th {\n",
       "        vertical-align: top;\n",
       "    }\n",
       "\n",
       "    .dataframe thead th {\n",
       "        text-align: right;\n",
       "    }\n",
       "</style>\n",
       "<table border=\"1\" class=\"dataframe\">\n",
       "  <thead>\n",
       "    <tr style=\"text-align: right;\">\n",
       "      <th></th>\n",
       "      <th>value</th>\n",
       "      <th>date</th>\n",
       "      <th>time</th>\n",
       "      <th>year</th>\n",
       "      <th>month</th>\n",
       "      <th>day</th>\n",
       "      <th>weekday</th>\n",
       "      <th>dayofyear</th>\n",
       "      <th>quarter</th>\n",
       "      <th>weekofyear</th>\n",
       "      <th>timestamp</th>\n",
       "    </tr>\n",
       "  </thead>\n",
       "  <tbody>\n",
       "    <tr>\n",
       "      <th>26585</th>\n",
       "      <td>346278.76</td>\n",
       "      <td>2022-03-27</td>\n",
       "      <td>03:00</td>\n",
       "      <td>2022</td>\n",
       "      <td>3</td>\n",
       "      <td>27</td>\n",
       "      <td>6</td>\n",
       "      <td>86</td>\n",
       "      <td>1</td>\n",
       "      <td>12</td>\n",
       "      <td>2022-03-27 03:00:00+00:00</td>\n",
       "    </tr>\n",
       "  </tbody>\n",
       "</table>\n",
       "</div>"
      ],
      "text/plain": [
       "           value        date   time  year  month  day  weekday  dayofyear  \\\n",
       "26585  346278.76  2022-03-27  03:00  2022      3   27        6         86   \n",
       "\n",
       "       quarter  weekofyear                 timestamp  \n",
       "26585        1          12 2022-03-27 03:00:00+00:00  "
      ]
     },
     "execution_count": 178,
     "metadata": {},
     "output_type": "execute_result"
    }
   ],
   "source": [
    "Gas_new[Gas_new[\"timestamp\"] == pd.Timestamp('2022-03-27 03:00:00+00:00')]"
   ]
  },
  {
   "cell_type": "code",
   "execution_count": 179,
   "metadata": {},
   "outputs": [],
   "source": [
    "Gas_new['timestamp'] = Gas_new['timestamp'] + pd.Timedelta(hours= -1)\n"
   ]
  },
  {
   "cell_type": "code",
   "execution_count": 180,
   "metadata": {},
   "outputs": [
    {
     "data": {
      "text/html": [
       "<div>\n",
       "<style scoped>\n",
       "    .dataframe tbody tr th:only-of-type {\n",
       "        vertical-align: middle;\n",
       "    }\n",
       "\n",
       "    .dataframe tbody tr th {\n",
       "        vertical-align: top;\n",
       "    }\n",
       "\n",
       "    .dataframe thead th {\n",
       "        text-align: right;\n",
       "    }\n",
       "</style>\n",
       "<table border=\"1\" class=\"dataframe\">\n",
       "  <thead>\n",
       "    <tr style=\"text-align: right;\">\n",
       "      <th></th>\n",
       "      <th>value</th>\n",
       "      <th>date</th>\n",
       "      <th>time</th>\n",
       "      <th>year</th>\n",
       "      <th>month</th>\n",
       "      <th>day</th>\n",
       "      <th>weekday</th>\n",
       "      <th>dayofyear</th>\n",
       "      <th>quarter</th>\n",
       "      <th>weekofyear</th>\n",
       "      <th>timestamp</th>\n",
       "    </tr>\n",
       "  </thead>\n",
       "  <tbody>\n",
       "    <tr>\n",
       "      <th>11037</th>\n",
       "      <td>227953.7917</td>\n",
       "      <td>2022-03-27</td>\n",
       "      <td>01:00</td>\n",
       "      <td>2022</td>\n",
       "      <td>3</td>\n",
       "      <td>27</td>\n",
       "      <td>6</td>\n",
       "      <td>86</td>\n",
       "      <td>1</td>\n",
       "      <td>12</td>\n",
       "      <td>2022-03-27 00:00:00+00:00</td>\n",
       "    </tr>\n",
       "  </tbody>\n",
       "</table>\n",
       "</div>"
      ],
      "text/plain": [
       "             value        date   time  year  month  day  weekday  dayofyear  \\\n",
       "11037  227953.7917  2022-03-27  01:00  2022      3   27        6         86   \n",
       "\n",
       "       quarter  weekofyear                 timestamp  \n",
       "11037        1          12 2022-03-27 00:00:00+00:00  "
      ]
     },
     "execution_count": 180,
     "metadata": {},
     "output_type": "execute_result"
    }
   ],
   "source": [
    "Gas_new[Gas_new[\"timestamp\"] == pd.Timestamp('2022-03-27 00:00:00+00:00')]"
   ]
  },
  {
   "cell_type": "code",
   "execution_count": 181,
   "metadata": {},
   "outputs": [],
   "source": [
    "Gas_new = Gas_new[Gas_new['timestamp'] >= '2022-01-01']"
   ]
  },
  {
   "cell_type": "code",
   "execution_count": 182,
   "metadata": {},
   "outputs": [],
   "source": [
    "Gas_new.drop(columns=[\"year\", \"month\", \"day\", \"time\", \"date\",\"weekday\",\"dayofyear\",\"quarter\",\"weekofyear\"], inplace=True)"
   ]
  },
  {
   "cell_type": "code",
   "execution_count": 187,
   "metadata": {},
   "outputs": [],
   "source": [
    "Gas_new.rename(columns={\"value\": \"Gasverbrauch\"}, inplace=True)\n",
    "Gas_new.rename(columns={\"timestamp\": \"Datum\"}, inplace=True)"
   ]
  },
  {
   "cell_type": "code",
   "execution_count": 1,
   "metadata": {},
   "outputs": [
    {
     "ename": "NameError",
     "evalue": "name 'Gas_new' is not defined",
     "output_type": "error",
     "traceback": [
      "\u001b[1;31m---------------------------------------------------------------------------\u001b[0m",
      "\u001b[1;31mNameError\u001b[0m                                 Traceback (most recent call last)",
      "Cell \u001b[1;32mIn[1], line 1\u001b[0m\n\u001b[1;32m----> 1\u001b[0m \u001b[43mGas_new\u001b[49m\u001b[38;5;241m.\u001b[39mto_csv(\u001b[38;5;124m\"\u001b[39m\u001b[38;5;124m../../02_Cleaned/Features/05Gasverbrauch_cleaned.csv\u001b[39m\u001b[38;5;124m\"\u001b[39m, index\u001b[38;5;241m=\u001b[39m\u001b[38;5;28;01mFalse\u001b[39;00m)\n",
      "\u001b[1;31mNameError\u001b[0m: name 'Gas_new' is not defined"
     ]
    }
   ],
   "source": [
    "Gas_new.to_csv(\"../../02_Cleaned/Features/05Gasverbrauch_cleaned.csv\", index=False)"
   ]
  },
  {
   "cell_type": "code",
   "execution_count": null,
   "metadata": {},
   "outputs": [],
   "source": []
  }
 ],
 "metadata": {
  "kernelspec": {
   "display_name": "Python 3",
   "language": "python",
   "name": "python3"
  },
  "language_info": {
   "codemirror_mode": {
    "name": "ipython",
    "version": 3
   },
   "file_extension": ".py",
   "mimetype": "text/x-python",
   "name": "python",
   "nbconvert_exporter": "python",
   "pygments_lexer": "ipython3",
   "version": "3.11.9"
  }
 },
 "nbformat": 4,
 "nbformat_minor": 2
}
