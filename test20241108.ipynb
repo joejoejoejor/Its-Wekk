import subprocess

def is_git_repo():
    try:
        subprocess.check_output(['git', 'rev-parse', '--is-inside-work-tree'])
        return True
    except subprocess.CalledProcessError:
        return False

if __name__ == "__main__":
    if is_git_repo():
        print("This is a Git repository.")
    else:
        print("This is not a Git repository.")