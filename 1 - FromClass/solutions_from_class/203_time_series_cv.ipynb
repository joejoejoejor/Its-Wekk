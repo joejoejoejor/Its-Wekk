{
 "cells": [
  {
   "cell_type": "markdown",
   "metadata": {},
   "source": [
    "# Model validation for time series data\n",
    "\n",
    "#### 🎯 Learning Goals\n",
    "\n",
    "1. **Model validation** for time series data\n",
    "2. Proper **data preprocessing** and feature engineering"
   ]
  },
  {
   "cell_type": "code",
   "execution_count": 15,
   "metadata": {},
   "outputs": [],
   "source": [
    "import numpy as np\n",
    "import pandas as pd\n",
    "import matplotlib.pyplot as plt\n",
    "from sklearn.linear_model import LinearRegression\n",
    "from sklearn.model_selection import TimeSeriesSplit\n",
    "from statsmodels.tsa.seasonal import seasonal_decompose\n",
    "import statsmodels.api as sm"
   ]
  },
  {
   "cell_type": "markdown",
   "metadata": {},
   "source": [
    "## Validation Strategies\n",
    "\n",
    "### Time Series specific challenges\n",
    "\n",
    "Time series data presents unique challenges for model validation due to its chronological nature. The K-Fold cross-validation method should be adjusted for time series because:\n",
    "\n",
    "(i) There is a dependency between the training and validation datasets, which can lead to overfitting.\n",
    "(ii) The model may be trained with future information, leading to unrealistic performance metrics.\n",
    "\n",
    "### Out-of-sample Evaluation (OOS)\n",
    "\n",
    "OOS evaluation is a widely-used and intuitive approach for time series. It involves selecting testing data that occurs after the training data. We explore two methods: the expanding window and the sliding window algorithms.\n",
    "\n",
    "#### Multiple Train-Test Splits\n",
    "\n",
    "The expanding window validation starts with a fixed base training set. In the first iteration, the model is tested on the initial test set. For each subsequent iteration, the previous test set is added to the training data, and a new test set of the same size is introduced. This process continues until the data is exhausted.\n",
    "\n",
    "<img src=\"img/expanding_window_validation.jpg\" alt=\"Expanding Window Validation\" width=\"600\"/>\n",
    "\n",
    "In the rolling or sliding window validation, the training data size remains constant. As the validation progresses, the start point of the training data is moved forward.\n",
    "\n",
    "<img src=\"img/rolling_window_validation.jpg\" alt=\"Expanding Window Validation\" width=\"600\"/>\n",
    "\n",
    "The performance evaluation is based on the aggregated loss from the predictions on the test segments."
   ]
  },
  {
   "cell_type": "markdown",
   "metadata": {},
   "source": [
    "____\n",
    "#### ➡️ ✏️ Task 1\n",
    "\n",
    "\n",
    "We want to learn the model for the time series data. In particular, we want to fit an AR(p) model for stationary $\\{y_t\\}$. We are unsure about $p$ and hence wish to perform model validation. \n",
    "\n",
    "+ Check model performance for $p \\in \\{0, 1, \\cdots, 3\\}$. Use the first  750 obsrvations for training and the remaining data for testing. \n",
    "+ Use `sm.tsa.ARIMA` to initialize an appropriate object. \n",
    "+ Use `statsmodels.tsa.arima.model.ARIMAResults.forecast` to forecast the values in the testing data.\n",
    "+ Record the mean-squared error (MSE) of your forecasts.\n",
    "+ Which model do you select?"
   ]
  },
  {
   "cell_type": "code",
   "execution_count": 16,
   "metadata": {},
   "outputs": [
    {
     "data": {
      "text/html": [
       "<div>\n",
       "<style scoped>\n",
       "    .dataframe tbody tr th:only-of-type {\n",
       "        vertical-align: middle;\n",
       "    }\n",
       "\n",
       "    .dataframe tbody tr th {\n",
       "        vertical-align: top;\n",
       "    }\n",
       "\n",
       "    .dataframe thead th {\n",
       "        text-align: right;\n",
       "    }\n",
       "</style>\n",
       "<table border=\"1\" class=\"dataframe\">\n",
       "  <thead>\n",
       "    <tr style=\"text-align: right;\">\n",
       "      <th></th>\n",
       "      <th>1</th>\n",
       "      <th>2</th>\n",
       "      <th>3</th>\n",
       "      <th>4</th>\n",
       "      <th>5</th>\n",
       "      <th>6</th>\n",
       "      <th>7</th>\n",
       "      <th>8</th>\n",
       "      <th>9</th>\n",
       "      <th>10</th>\n",
       "    </tr>\n",
       "  </thead>\n",
       "  <tbody>\n",
       "    <tr>\n",
       "      <th>0</th>\n",
       "      <td>2.971271</td>\n",
       "      <td>2.956747</td>\n",
       "      <td>2.957917</td>\n",
       "      <td>2.956365</td>\n",
       "      <td>2.953334</td>\n",
       "      <td>2.952907</td>\n",
       "      <td>2.953426</td>\n",
       "      <td>2.953159</td>\n",
       "      <td>2.953736</td>\n",
       "      <td>2.953729</td>\n",
       "    </tr>\n",
       "  </tbody>\n",
       "</table>\n",
       "</div>"
      ],
      "text/plain": [
       "         1         2         3         4         5         6         7    \n",
       "0  2.971271  2.956747  2.957917  2.956365  2.953334  2.952907  2.953426  \\\n",
       "\n",
       "         8         9         10  \n",
       "0  2.953159  2.953736  2.953729  "
      ]
     },
     "execution_count": 16,
     "metadata": {},
     "output_type": "execute_result"
    }
   ],
   "source": [
    "series1 = pd.read_csv(\"data/series1.csv\")\n",
    "\n",
    "results = pd.DataFrame(np.zeros((1, 10)))\n",
    "results.columns = np.arange(1, 11)\n",
    "training = series1[:750]\n",
    "testing = series1[750:]\n",
    "\n",
    "for p in range(1, 11):\n",
    "        mod = sm.tsa.ARIMA(training, order=(p, 0, 0))\n",
    "        res = mod.fit()\n",
    "        forecast = res.forecast(steps=250, signal_only=False)\n",
    "        results.loc[0, p] = ((testing.values - forecast.values)**2).mean()\n",
    "results"
   ]
  },
  {
   "cell_type": "markdown",
   "metadata": {},
   "source": [
    "____\n",
    "#### ➡️ ✏️ Task 2\n",
    "\n",
    "Redo you analysis, however, this time using an expanding window and 5 iterations in your validation process. \n",
    "\n",
    "+ Fix the first 750 observations for training and 50 observations to evaluate your model.\n",
    "+ Expand the window appropriately. \n",
    "+ Record the mean-squared error (MSE) of your forecasts.\n",
    "+ Which model do you select?"
   ]
  },
  {
   "cell_type": "code",
   "execution_count": 17,
   "metadata": {},
   "outputs": [
    {
     "data": {
      "text/html": [
       "<div>\n",
       "<style scoped>\n",
       "    .dataframe tbody tr th:only-of-type {\n",
       "        vertical-align: middle;\n",
       "    }\n",
       "\n",
       "    .dataframe tbody tr th {\n",
       "        vertical-align: top;\n",
       "    }\n",
       "\n",
       "    .dataframe thead th {\n",
       "        text-align: right;\n",
       "    }\n",
       "</style>\n",
       "<table border=\"1\" class=\"dataframe\">\n",
       "  <thead>\n",
       "    <tr style=\"text-align: right;\">\n",
       "      <th></th>\n",
       "      <th>1</th>\n",
       "      <th>2</th>\n",
       "      <th>3</th>\n",
       "      <th>4</th>\n",
       "      <th>5</th>\n",
       "      <th>6</th>\n",
       "      <th>7</th>\n",
       "      <th>8</th>\n",
       "      <th>9</th>\n",
       "      <th>10</th>\n",
       "    </tr>\n",
       "  </thead>\n",
       "  <tbody>\n",
       "    <tr>\n",
       "      <th>0</th>\n",
       "      <td>2.958453</td>\n",
       "      <td>2.923054</td>\n",
       "      <td>2.925235</td>\n",
       "      <td>2.922448</td>\n",
       "      <td>2.914851</td>\n",
       "      <td>2.913718</td>\n",
       "      <td>2.913722</td>\n",
       "      <td>2.913965</td>\n",
       "      <td>2.9149</td>\n",
       "      <td>2.915048</td>\n",
       "    </tr>\n",
       "  </tbody>\n",
       "</table>\n",
       "</div>"
      ],
      "text/plain": [
       "         1         2         3         4         5         6         7    \n",
       "0  2.958453  2.923054  2.925235  2.922448  2.914851  2.913718  2.913722  \\\n",
       "\n",
       "         8       9         10  \n",
       "0  2.913965  2.9149  2.915048  "
      ]
     },
     "execution_count": 17,
     "metadata": {},
     "output_type": "execute_result"
    }
   ],
   "source": [
    "# Your solution\n",
    "\n",
    "results = pd.DataFrame(np.zeros((1, 10)))\n",
    "results.columns = np.arange(1, 11)\n",
    "\n",
    "for iter in range(0, 5):\n",
    "    lim = 750 + 50*iter\n",
    "    lim_up = lim + 50\n",
    "    training = series1[:lim]\n",
    "    testing = series1[lim:lim_up]\n",
    "    for p in range(1, 11):\n",
    "        mod = sm.tsa.ARIMA(training, order=(p, 0, 0))\n",
    "        res = mod.fit()\n",
    "        forecast = res.forecast(steps=50, signal_only=False)\n",
    "        results.loc[0, p] = results.loc[0, p] + ((testing.values - forecast.values)**2).mean()\n",
    "results = results / 5\n",
    "results"
   ]
  },
  {
   "cell_type": "markdown",
   "metadata": {},
   "source": [
    "____\n",
    "#### ➡️ ✏️ Task 3\n",
    "\n",
    "Redo you analysis, however, this time using a rolling window and 5 iterations in your validation process. \n",
    "+ Fix the first 750 observations for training and the next 50 observations to evaluate your model. \n",
    "+ Shift the window appropriately. \n",
    "+ Record the mean-squared error (MSE) of your forecasts.\n",
    "+ Which model do you select?"
   ]
  },
  {
   "cell_type": "code",
   "execution_count": 18,
   "metadata": {},
   "outputs": [
    {
     "data": {
      "text/html": [
       "<div>\n",
       "<style scoped>\n",
       "    .dataframe tbody tr th:only-of-type {\n",
       "        vertical-align: middle;\n",
       "    }\n",
       "\n",
       "    .dataframe tbody tr th {\n",
       "        vertical-align: top;\n",
       "    }\n",
       "\n",
       "    .dataframe thead th {\n",
       "        text-align: right;\n",
       "    }\n",
       "</style>\n",
       "<table border=\"1\" class=\"dataframe\">\n",
       "  <thead>\n",
       "    <tr style=\"text-align: right;\">\n",
       "      <th></th>\n",
       "      <th>1</th>\n",
       "      <th>2</th>\n",
       "      <th>3</th>\n",
       "      <th>4</th>\n",
       "      <th>5</th>\n",
       "      <th>6</th>\n",
       "      <th>7</th>\n",
       "      <th>8</th>\n",
       "      <th>9</th>\n",
       "      <th>10</th>\n",
       "    </tr>\n",
       "  </thead>\n",
       "  <tbody>\n",
       "    <tr>\n",
       "      <th>0</th>\n",
       "      <td>2.947801</td>\n",
       "      <td>2.912059</td>\n",
       "      <td>2.914602</td>\n",
       "      <td>2.911747</td>\n",
       "      <td>2.903073</td>\n",
       "      <td>2.902098</td>\n",
       "      <td>2.902533</td>\n",
       "      <td>2.904302</td>\n",
       "      <td>2.904866</td>\n",
       "      <td>2.905075</td>\n",
       "    </tr>\n",
       "  </tbody>\n",
       "</table>\n",
       "</div>"
      ],
      "text/plain": [
       "         1         2         3         4         5         6         7    \n",
       "0  2.947801  2.912059  2.914602  2.911747  2.903073  2.902098  2.902533  \\\n",
       "\n",
       "         8         9         10  \n",
       "0  2.904302  2.904866  2.905075  "
      ]
     },
     "execution_count": 18,
     "metadata": {},
     "output_type": "execute_result"
    }
   ],
   "source": [
    "# Your solution\n",
    "\n",
    "results = pd.DataFrame(np.zeros((1, 10)))\n",
    "results.columns = np.arange(1, 11)\n",
    "\n",
    "for iter in range(0, 5):\n",
    "    start = 50*iter\n",
    "    lim = 750 + 50*iter\n",
    "    lim_up = lim + 50\n",
    "    training = series1[start:lim]\n",
    "    testing = series1[lim:lim_up]\n",
    "    for p in range(1, 11):\n",
    "        mod = sm.tsa.ARIMA(training, order=(p, 0, 0))\n",
    "        res = mod.fit()\n",
    "        forecast = res.forecast(steps=50, signal_only=False)\n",
    "        results.loc[0, p] = results.loc[0, p] + ((testing.values - forecast.values)**2).mean()\n",
    "results = results / 5\n",
    "results"
   ]
  }
 ],
 "metadata": {
  "kernelspec": {
   "display_name": "Python 3 (ipykernel)",
   "language": "python",
   "name": "python3"
  },
  "language_info": {
   "codemirror_mode": {
    "name": "ipython",
    "version": 3
   },
   "file_extension": ".py",
   "mimetype": "text/x-python",
   "name": "python",
   "nbconvert_exporter": "python",
   "pygments_lexer": "ipython3",
   "version": "3.10.12"
  }
 },
 "nbformat": 4,
 "nbformat_minor": 4
}
