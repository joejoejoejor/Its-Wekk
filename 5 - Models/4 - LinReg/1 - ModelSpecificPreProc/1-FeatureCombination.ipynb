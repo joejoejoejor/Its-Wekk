{
 "cells": [
  {
   "cell_type": "code",
   "execution_count": 3,
   "metadata": {},
   "outputs": [],
   "source": [
    "import pandas as pd\n",
    "features = pd.read_csv('/Users/johannessolibieda/Documents/GitHub/Its-Wekk/Fucking Final Data/Working_DataFrame.csv')\n",
    "target = pd.read_csv('/Users/johannessolibieda/Documents/GitHub/Its-Wekk/Fucking Final Data/CleanedFinal_Target_Data_Combined_resid_Trend')"
   ]
  },
  {
   "cell_type": "code",
   "execution_count": 6,
   "metadata": {},
   "outputs": [
    {
     "name": "stdout",
     "output_type": "stream",
     "text": [
      "Feature: Basel Temperature [2 m elevation corrected]_x_Basel Temperature [2 m elevation corrected], Correlation: 0.295880312664073\n",
      "Feature: Basel Temperature [2 m elevation corrected]_x_Basel Wind Speed [10 m], Correlation: 0.1649281135229291\n",
      "Feature: Basel Temperature [2 m elevation corrected]_x_660n_sumPW, Correlation: 0.11947271525695315\n",
      "Feature: Basel Temperature [2 m elevation corrected]_x_Gasverbrauch, Correlation: -0.33163000210476157\n",
      "Feature: Basel Temperature [2 m elevation corrected]_x_Traffic, Correlation: 0.10683501722873956\n",
      "Feature: Basel Precipitation Total_x_Hour, Correlation: -0.133496831045994\n",
      "Feature: Basel Wind Speed [10 m]_x_Basel Wind Speed [10 m], Correlation: -0.13793937770227843\n",
      "Feature: Basel Wind Speed [10 m]_x_Basel Wind Direction [10 m], Correlation: -0.10142799072307421\n",
      "Feature: Basel Wind Speed [10 m]_x_Gasverbrauch, Correlation: -0.16278068991896746\n",
      "Feature: Basel Wind Speed [10 m]_x_Hour, Correlation: -0.16034332300631474\n",
      "Feature: Basel Wind Direction [10 m]_x_Basel Wind Direction [10 m], Correlation: 0.10149467391953976\n",
      "Feature: Basel Wind Direction [10 m]_x_Hour, Correlation: -0.19458338375804493\n",
      "Feature: 406v_sumLW_x_408n_sumLief, Correlation: 0.10097329017128734\n",
      "Feature: 660n_sumPW_x_Gasverbrauch, Correlation: -0.12461866721463385\n",
      "Feature: Gasverbrauch_x_Gasverbrauch, Correlation: 0.27689993368339655\n",
      "Feature: Gasverbrauch_x_Hour, Correlation: 0.18156129606449214\n"
     ]
    }
   ],
   "source": [
    "import numpy as np\n",
    "\n",
    "# Define all features based on the columns of the features DataFrame\n",
    "all_features = features.columns.tolist()\n",
    "\n",
    "# Create a list to store the new features and their correlations\n",
    "new_feature_correlations = []\n",
    "\n",
    "# Create a set to keep track of added features\n",
    "added_features = set()\n",
    "\n",
    "# Dictionary to store new features\n",
    "new_features_dict = {}\n",
    "\n",
    "# Iterate over each pair of features to create new features\n",
    "for i in range(len(all_features)):\n",
    "    for j in range(i, len(all_features)):\n",
    "        feature1 = all_features[i]\n",
    "        feature2 = all_features[j]\n",
    "        \n",
    "        # Skip the 'Datum' column\n",
    "        if feature1 == 'Datum' or feature2 == 'Datum':\n",
    "            continue\n",
    "        \n",
    "        # Create new features by multiplying and calculating growth\n",
    "        new_feature_name = f'{feature1}_x_{feature2}'\n",
    "        new_feature_growth_name = f'{feature1}_growth'\n",
    "        \n",
    "        # Multiply features\n",
    "        new_features_dict[new_feature_name] = features[feature1] * features[feature2]\n",
    "        \n",
    "        # Calculate growth (difference to last period)\n",
    "        new_features_dict[new_feature_growth_name] = features[feature1].diff()\n",
    "\n",
    "        # Calculate growth (difference to last period) of the multiplied features\n",
    "        new_feature_mult_growth_name = f'{new_feature_name}_growth'\n",
    "        new_features_dict[new_feature_mult_growth_name] = new_features_dict[new_feature_name].diff()\n",
    "        \n",
    "        # Calculate correlations with the target variable\n",
    "        correlation_mult = new_features_dict[new_feature_name].corr(target['PM10_Combined_Trend_Residual'])\n",
    "        correlation_growth = new_features_dict[new_feature_growth_name].corr(target['PM10_Combined_Trend_Residual'])\n",
    "         \n",
    "        # Store the correlations if they are high and not already added\n",
    "        if abs(correlation_mult) > 0.1 and new_feature_name not in added_features:\n",
    "            new_feature_correlations.append((new_feature_name, correlation_mult))\n",
    "            added_features.add(new_feature_name)\n",
    "        if abs(correlation_growth) > 0.1 and new_feature_growth_name not in added_features:\n",
    "            new_feature_correlations.append((new_feature_growth_name, correlation_growth))\n",
    "            added_features.add(new_feature_growth_name)\n",
    "\n",
    "# Concatenate new features to the original DataFrame\n",
    "features = pd.concat([features, pd.DataFrame(new_features_dict)], axis=1)\n",
    "\n",
    "# Print the new features with high correlations\n",
    "for feature, corr in new_feature_correlations:\n",
    "    print(f'Feature: {feature}, Correlation: {corr}')\n"
   ]
  },
  {
   "cell_type": "code",
   "execution_count": 7,
   "metadata": {},
   "outputs": [],
   "source": [
    "MostImp = pd.read_csv('/Users/johannessolibieda/Documents/GitHub/Its-Wekk/5 - Models/4 - LinReg/0 - ModelData/50MostImpFeatures_DF.csv')"
   ]
  },
  {
   "cell_type": "code",
   "execution_count": 11,
   "metadata": {},
   "outputs": [
    {
     "name": "stdout",
     "output_type": "stream",
     "text": [
      "Index(['Datum', 'Basel Temperature [2 m elevation corrected]',\n",
      "       'Basel Precipitation Total', 'Basel Wind Speed [10 m]',\n",
      "       'Basel Wind Direction [10 m]', 'Stromverbrauch', '350n_sumLief',\n",
      "       '350v_sumLW', '352v_sumPW', '352v_sumLief',\n",
      "       ...\n",
      "       '402v_sumPW', '402v_sumLief', '402v_sumLW', '402n_sumPW',\n",
      "       '402n_sumLief', '402n_sumLW', '403n_sumPW', '403n_sumLief',\n",
      "       '403n_sumLW', '403v_sumPW'],\n",
      "      dtype='object', length=151)\n"
     ]
    }
   ],
   "source": [
    "# Select the most important features from the features dataframe\n",
    "important_features = features[top_50_features]\n",
    "\n",
    "# Concatenate the important features to the MostImp dataframe\n",
    "MostImp = pd.concat([MostImp, important_features], axis=1)\n",
    "\n",
    "print(MostImp.columns)"
   ]
  },
  {
   "cell_type": "code",
   "execution_count": 12,
   "metadata": {},
   "outputs": [],
   "source": [
    "MostImp.to_csv('50MostImp+CombinedFeatures.csv', index=False)"
   ]
  }
 ],
 "metadata": {
  "kernelspec": {
   "display_name": "Python 3",
   "language": "python",
   "name": "python3"
  },
  "language_info": {
   "codemirror_mode": {
    "name": "ipython",
    "version": 3
   },
   "file_extension": ".py",
   "mimetype": "text/x-python",
   "name": "python",
   "nbconvert_exporter": "python",
   "pygments_lexer": "ipython3",
   "version": "3.9.6"
  }
 },
 "nbformat": 4,
 "nbformat_minor": 2
}
