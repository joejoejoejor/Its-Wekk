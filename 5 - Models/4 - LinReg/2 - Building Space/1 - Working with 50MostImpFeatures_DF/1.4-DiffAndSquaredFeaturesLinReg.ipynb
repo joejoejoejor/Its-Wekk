{
 "cells": [
  {
   "cell_type": "code",
   "execution_count": 3,
   "metadata": {},
   "outputs": [],
   "source": [
    "import pandas as pd\n",
    "features = pd.read_csv('/Users/johannessolibieda/Documents/GitHub/Its-Wekk/5 - Models/4 - LinReg/0 - ModelData/50MostImpFeatures_DF.csv')\n",
    "target = pd.read_csv('/Users/johannessolibieda/Documents/GitHub/Its-Wekk/5 - Models/4 - LinReg/0 - ModelData/TargetCutto50MostImpFeatures_DF.csv')"
   ]
  },
  {
   "cell_type": "code",
   "execution_count": null,
   "metadata": {},
   "outputs": [
    {
     "name": "stdout",
     "output_type": "stream",
     "text": [
      "Fitting 5 folds for each of 192 candidates, totalling 960 fits\n",
      "[CV] END alpha=0.0001, eta0=0.001, learning_rate=constant, penalty=l2; total time=   0.1s\n",
      "[CV] END alpha=0.0001, eta0=0.001, learning_rate=constant, penalty=l2; total time=   0.1s\n",
      "[CV] END alpha=0.0001, eta0=0.001, learning_rate=constant, penalty=l1; total time=   0.1s\n",
      "[CV] END alpha=0.0001, eta0=0.001, learning_rate=constant, penalty=l2; total time=   0.1s\n",
      "[CV] END alpha=0.0001, eta0=0.001, learning_rate=constant, penalty=l2; total time=   0.1s\n",
      "[CV] END alpha=0.0001, eta0=0.001, learning_rate=constant, penalty=l2; total time=   0.2s\n",
      "[CV] END alpha=0.0001, eta0=0.001, learning_rate=constant, penalty=l1; total time=   0.1s\n",
      "[CV] END alpha=0.0001, eta0=0.001, learning_rate=constant, penalty=l1; total time=   0.1s\n",
      "[CV] END alpha=0.0001, eta0=0.001, learning_rate=constant, penalty=elasticnet; total time=   0.1s\n",
      "[CV] END alpha=0.0001, eta0=0.001, learning_rate=constant, penalty=l1; total time=   0.1s\n",
      "[CV] END alpha=0.0001, eta0=0.001, learning_rate=constant, penalty=l1; total time=   0.1s\n",
      "[CV] END alpha=0.0001, eta0=0.001, learning_rate=constant, penalty=elasticnet; total time=   0.1s\n",
      "[CV] END alpha=0.0001, eta0=0.001, learning_rate=constant, penalty=elasticnet; total time=   0.1s\n",
      "[CV] END alpha=0.0001, eta0=0.001, learning_rate=constant, penalty=elasticnet; total time=   0.1s\n",
      "[CV] END alpha=0.0001, eta0=0.001, learning_rate=constant, penalty=elasticnet; total time=   0.3s\n",
      "[CV] END alpha=0.0001, eta0=0.001, learning_rate=optimal, penalty=l2; total time=   1.1s\n",
      "[CV] END alpha=0.0001, eta0=0.001, learning_rate=optimal, penalty=l2; total time=   1.4s\n",
      "[CV] END alpha=0.0001, eta0=0.001, learning_rate=optimal, penalty=l2; total time=   1.6s\n",
      "[CV] END alpha=0.0001, eta0=0.001, learning_rate=optimal, penalty=l2; total time=   1.7s\n",
      "[CV] END alpha=0.0001, eta0=0.001, learning_rate=optimal, penalty=l2; total time=   2.1s\n",
      "[CV] END alpha=0.0001, eta0=0.001, learning_rate=optimal, penalty=l1; total time=   3.0s\n",
      "[CV] END alpha=0.0001, eta0=0.001, learning_rate=optimal, penalty=l1; total time=   2.9s\n",
      "[CV] END alpha=0.0001, eta0=0.001, learning_rate=optimal, penalty=l1; total time=   3.1s\n",
      "[CV] END alpha=0.0001, eta0=0.001, learning_rate=optimal, penalty=elasticnet; total time=   2.2s\n",
      "[CV] END alpha=0.0001, eta0=0.001, learning_rate=invscaling, penalty=l2; total time=   0.7s\n",
      "[CV] END alpha=0.0001, eta0=0.001, learning_rate=optimal, penalty=elasticnet; total time=   2.2s\n",
      "[CV] END alpha=0.0001, eta0=0.001, learning_rate=invscaling, penalty=l2; total time=   0.4s\n",
      "[CV] END alpha=0.0001, eta0=0.001, learning_rate=invscaling, penalty=l2; total time=   0.5s\n",
      "[CV] END alpha=0.0001, eta0=0.001, learning_rate=optimal, penalty=l1; total time=   3.3s\n",
      "[CV] END alpha=0.0001, eta0=0.001, learning_rate=optimal, penalty=l1; total time=   3.1s\n",
      "[CV] END alpha=0.0001, eta0=0.001, learning_rate=invscaling, penalty=l2; total time=   0.7s\n",
      "[CV] END alpha=0.0001, eta0=0.001, learning_rate=optimal, penalty=elasticnet; total time=   2.6s\n",
      "[CV] END alpha=0.0001, eta0=0.001, learning_rate=invscaling, penalty=l2; total time=   0.7s\n",
      "[CV] END alpha=0.0001, eta0=0.001, learning_rate=invscaling, penalty=l1; total time=   0.5s\n",
      "[CV] END alpha=0.0001, eta0=0.001, learning_rate=invscaling, penalty=l1; total time=   0.7s\n",
      "[CV] END alpha=0.0001, eta0=0.001, learning_rate=invscaling, penalty=l1; total time=   0.9s\n",
      "[CV] END alpha=0.0001, eta0=0.001, learning_rate=invscaling, penalty=l1; total time=   0.8s\n",
      "[CV] END alpha=0.0001, eta0=0.001, learning_rate=invscaling, penalty=l1; total time=   0.9s\n",
      "[CV] END alpha=0.0001, eta0=0.001, learning_rate=invscaling, penalty=elasticnet; total time=   0.6s\n",
      "[CV] END alpha=0.0001, eta0=0.001, learning_rate=invscaling, penalty=elasticnet; total time=   0.7s\n",
      "[CV] END alpha=0.0001, eta0=0.001, learning_rate=adaptive, penalty=l2; total time=   0.3s\n",
      "[CV] END alpha=0.0001, eta0=0.001, learning_rate=optimal, penalty=elasticnet; total time=   2.6s\n",
      "[CV] END alpha=0.0001, eta0=0.001, learning_rate=adaptive, penalty=l2; total time=   0.4s\n",
      "[CV] END alpha=0.0001, eta0=0.001, learning_rate=adaptive, penalty=l2; total time=   0.3s\n",
      "[CV] END alpha=0.0001, eta0=0.001, learning_rate=adaptive, penalty=l2; total time=   0.3s\n",
      "[CV] END alpha=0.0001, eta0=0.001, learning_rate=invscaling, penalty=elasticnet; total time=   0.8s\n",
      "[CV] END alpha=0.0001, eta0=0.001, learning_rate=invscaling, penalty=elasticnet; total time=   0.8s\n",
      "[CV] END alpha=0.0001, eta0=0.001, learning_rate=invscaling, penalty=elasticnet; total time=   0.8s\n",
      "[CV] END alpha=0.0001, eta0=0.001, learning_rate=optimal, penalty=elasticnet; total time=   3.1s\n",
      "[CV] END alpha=0.0001, eta0=0.001, learning_rate=adaptive, penalty=l2; total time=   0.6s\n",
      "[CV] END alpha=0.0001, eta0=0.001, learning_rate=adaptive, penalty=l1; total time=   0.5s\n",
      "[CV] END alpha=0.0001, eta0=0.001, learning_rate=adaptive, penalty=l1; total time=   0.5s\n",
      "[CV] END alpha=0.0001, eta0=0.001, learning_rate=adaptive, penalty=l1; total time=   0.6s\n",
      "[CV] END alpha=0.0001, eta0=0.001, learning_rate=adaptive, penalty=elasticnet; total time=   0.5s\n",
      "[CV] END alpha=0.0001, eta0=0.001, learning_rate=adaptive, penalty=elasticnet; total time=   0.5s\n",
      "[CV] END alpha=0.0001, eta0=0.001, learning_rate=adaptive, penalty=l1; total time=   0.5s\n",
      "[CV] END alpha=0.0001, eta0=0.01, learning_rate=constant, penalty=l2; total time=   0.1s\n",
      "[CV] END alpha=0.0001, eta0=0.01, learning_rate=constant, penalty=l2; total time=   0.1s\n",
      "[CV] END alpha=0.0001, eta0=0.01, learning_rate=constant, penalty=l2; total time=   0.1s\n",
      "[CV] END alpha=0.0001, eta0=0.01, learning_rate=constant, penalty=l2; total time=   0.1s\n",
      "[CV] END alpha=0.0001, eta0=0.001, learning_rate=adaptive, penalty=elasticnet; total time=   0.5s\n",
      "[CV] END alpha=0.0001, eta0=0.01, learning_rate=constant, penalty=l2; total time=   0.1s\n",
      "[CV] END alpha=0.0001, eta0=0.001, learning_rate=adaptive, penalty=l1; total time=   0.7s\n",
      "[CV] END alpha=0.0001, eta0=0.01, learning_rate=constant, penalty=l1; total time=   0.1s\n",
      "[CV] END alpha=0.0001, eta0=0.01, learning_rate=constant, penalty=l1; total time=   0.1s\n",
      "[CV] END alpha=0.0001, eta0=0.01, learning_rate=constant, penalty=l1; total time=   0.1s\n",
      "[CV] END alpha=0.0001, eta0=0.01, learning_rate=constant, penalty=l1; total time=   0.1s\n",
      "[CV] END alpha=0.0001, eta0=0.01, learning_rate=constant, penalty=l1; total time=   0.1s\n",
      "[CV] END alpha=0.0001, eta0=0.01, learning_rate=constant, penalty=elasticnet; total time=   0.1s\n",
      "[CV] END alpha=0.0001, eta0=0.01, learning_rate=constant, penalty=elasticnet; total time=   0.2s\n",
      "[CV] END alpha=0.0001, eta0=0.01, learning_rate=constant, penalty=elasticnet; total time=   0.1s\n",
      "[CV] END alpha=0.0001, eta0=0.01, learning_rate=constant, penalty=elasticnet; total time=   0.1s\n",
      "[CV] END alpha=0.0001, eta0=0.01, learning_rate=constant, penalty=elasticnet; total time=   0.2s\n",
      "[CV] END alpha=0.0001, eta0=0.001, learning_rate=adaptive, penalty=elasticnet; total time=   0.6s\n",
      "[CV] END alpha=0.0001, eta0=0.001, learning_rate=adaptive, penalty=elasticnet; total time=   1.0s\n",
      "[CV] END alpha=0.0001, eta0=0.01, learning_rate=optimal, penalty=l2; total time=   1.2s\n",
      "[CV] END alpha=0.0001, eta0=0.01, learning_rate=optimal, penalty=l2; total time=   1.5s\n",
      "[CV] END alpha=0.0001, eta0=0.01, learning_rate=optimal, penalty=l2; total time=   1.6s\n",
      "[CV] END alpha=0.0001, eta0=0.01, learning_rate=optimal, penalty=l2; total time=   1.8s\n",
      "[CV] END alpha=0.0001, eta0=0.01, learning_rate=optimal, penalty=l2; total time=   1.9s\n",
      "[CV] END alpha=0.0001, eta0=0.01, learning_rate=optimal, penalty=l1; total time=   2.2s\n",
      "[CV] END alpha=0.0001, eta0=0.01, learning_rate=optimal, penalty=l1; total time=   2.5s\n",
      "[CV] END alpha=0.0001, eta0=0.01, learning_rate=optimal, penalty=l1; total time=   3.0s\n",
      "[CV] END alpha=0.0001, eta0=0.01, learning_rate=invscaling, penalty=l2; total time=   0.1s\n",
      "[CV] END alpha=0.0001, eta0=0.01, learning_rate=invscaling, penalty=l2; total time=   0.1s\n",
      "[CV] END alpha=0.0001, eta0=0.01, learning_rate=invscaling, penalty=l2; total time=   0.1s\n",
      "[CV] END alpha=0.0001, eta0=0.01, learning_rate=invscaling, penalty=l2; total time=   0.3s\n",
      "[CV] END alpha=0.0001, eta0=0.01, learning_rate=optimal, penalty=elasticnet; total time=   2.3s\n",
      "[CV] END alpha=0.0001, eta0=0.01, learning_rate=optimal, penalty=elasticnet; total time=   2.1s\n",
      "[CV] END alpha=0.0001, eta0=0.01, learning_rate=optimal, penalty=l1; total time=   3.0s\n",
      "[CV] END alpha=0.0001, eta0=0.01, learning_rate=invscaling, penalty=l2; total time=   0.1s\n",
      "[CV] END alpha=0.0001, eta0=0.01, learning_rate=invscaling, penalty=l1; total time=   0.1s\n",
      "[CV] END alpha=0.0001, eta0=0.01, learning_rate=invscaling, penalty=l1; total time=   0.1s\n",
      "[CV] END alpha=0.0001, eta0=0.01, learning_rate=invscaling, penalty=l1; total time=   0.1s\n",
      "[CV] END alpha=0.0001, eta0=0.01, learning_rate=optimal, penalty=l1; total time=   2.7s\n",
      "[CV] END alpha=0.0001, eta0=0.01, learning_rate=invscaling, penalty=l1; total time=   0.1s\n",
      "[CV] END alpha=0.0001, eta0=0.01, learning_rate=invscaling, penalty=elasticnet; total time=   0.1s\n",
      "[CV] END alpha=0.0001, eta0=0.01, learning_rate=invscaling, penalty=elasticnet; total time=   0.1s\n",
      "[CV] END alpha=0.0001, eta0=0.01, learning_rate=invscaling, penalty=elasticnet; total time=   0.1s\n",
      "[CV] END alpha=0.0001, eta0=0.01, learning_rate=invscaling, penalty=elasticnet; total time=   0.1s\n",
      "[CV] END alpha=0.0001, eta0=0.01, learning_rate=optimal, penalty=elasticnet; total time=   2.9s\n",
      "[CV] END alpha=0.0001, eta0=0.01, learning_rate=invscaling, penalty=l1; total time=   0.6s\n",
      "[CV] END alpha=0.0001, eta0=0.01, learning_rate=invscaling, penalty=elasticnet; total time=   0.5s\n",
      "[CV] END alpha=0.0001, eta0=0.01, learning_rate=optimal, penalty=elasticnet; total time=   3.1s\n",
      "[CV] END alpha=0.0001, eta0=0.01, learning_rate=optimal, penalty=elasticnet; total time=   3.4s\n",
      "[CV] END alpha=0.0001, eta0=0.01, learning_rate=adaptive, penalty=l2; total time=   6.9s\n"
     ]
    },
    {
     "name": "stderr",
     "output_type": "stream",
     "text": [
      "/Users/johannessolibieda/Library/Python/3.9/lib/python/site-packages/sklearn/linear_model/_stochastic_gradient.py:1616: ConvergenceWarning: Maximum number of iteration reached before convergence. Consider increasing max_iter to improve the fit.\n",
      "  warnings.warn(\n",
      "/Users/johannessolibieda/Library/Python/3.9/lib/python/site-packages/sklearn/linear_model/_stochastic_gradient.py:1616: ConvergenceWarning: Maximum number of iteration reached before convergence. Consider increasing max_iter to improve the fit.\n",
      "  warnings.warn(\n"
     ]
    },
    {
     "name": "stdout",
     "output_type": "stream",
     "text": [
      "[CV] END alpha=0.0001, eta0=0.01, learning_rate=adaptive, penalty=l2; total time=  10.9s\n",
      "[CV] END alpha=0.0001, eta0=0.01, learning_rate=adaptive, penalty=l2; total time=  10.8s\n"
     ]
    },
    {
     "name": "stderr",
     "output_type": "stream",
     "text": [
      "/Users/johannessolibieda/Library/Python/3.9/lib/python/site-packages/sklearn/linear_model/_stochastic_gradient.py:1616: ConvergenceWarning: Maximum number of iteration reached before convergence. Consider increasing max_iter to improve the fit.\n",
      "  warnings.warn(\n"
     ]
    },
    {
     "name": "stdout",
     "output_type": "stream",
     "text": [
      "[CV] END alpha=0.0001, eta0=0.01, learning_rate=adaptive, penalty=l2; total time=  11.0s\n"
     ]
    },
    {
     "name": "stderr",
     "output_type": "stream",
     "text": [
      "/Users/johannessolibieda/Library/Python/3.9/lib/python/site-packages/sklearn/linear_model/_stochastic_gradient.py:1616: ConvergenceWarning: Maximum number of iteration reached before convergence. Consider increasing max_iter to improve the fit.\n",
      "  warnings.warn(\n"
     ]
    },
    {
     "name": "stdout",
     "output_type": "stream",
     "text": [
      "[CV] END alpha=0.0001, eta0=0.01, learning_rate=adaptive, penalty=l2; total time=  11.0s\n"
     ]
    },
    {
     "name": "stderr",
     "output_type": "stream",
     "text": [
      "/Users/johannessolibieda/Library/Python/3.9/lib/python/site-packages/sklearn/linear_model/_stochastic_gradient.py:1616: ConvergenceWarning: Maximum number of iteration reached before convergence. Consider increasing max_iter to improve the fit.\n",
      "  warnings.warn(\n"
     ]
    },
    {
     "name": "stdout",
     "output_type": "stream",
     "text": [
      "[CV] END alpha=0.0001, eta0=0.01, learning_rate=adaptive, penalty=l1; total time=  15.4s\n",
      "[CV] END alpha=0.0001, eta0=0.01, learning_rate=adaptive, penalty=l1; total time=   9.6s\n",
      "[CV] END alpha=0.0001, eta0=0.01, learning_rate=adaptive, penalty=l1; total time=  15.6s\n",
      "[CV] END alpha=0.0001, eta0=0.1, learning_rate=constant, penalty=l2; total time=   0.1s\n"
     ]
    },
    {
     "name": "stderr",
     "output_type": "stream",
     "text": [
      "/Users/johannessolibieda/Library/Python/3.9/lib/python/site-packages/sklearn/linear_model/_stochastic_gradient.py:1616: ConvergenceWarning: Maximum number of iteration reached before convergence. Consider increasing max_iter to improve the fit.\n",
      "  warnings.warn(\n"
     ]
    },
    {
     "name": "stdout",
     "output_type": "stream",
     "text": [
      "[CV] END alpha=0.0001, eta0=0.1, learning_rate=constant, penalty=l2; total time=   0.1s\n",
      "[CV] END alpha=0.0001, eta0=0.1, learning_rate=constant, penalty=l2; total time=   0.1s\n",
      "[CV] END alpha=0.0001, eta0=0.01, learning_rate=adaptive, penalty=l1; total time=  15.4s\n"
     ]
    },
    {
     "name": "stderr",
     "output_type": "stream",
     "text": [
      "/Users/johannessolibieda/Library/Python/3.9/lib/python/site-packages/sklearn/linear_model/_stochastic_gradient.py:1616: ConvergenceWarning: Maximum number of iteration reached before convergence. Consider increasing max_iter to improve the fit.\n",
      "  warnings.warn(\n"
     ]
    },
    {
     "name": "stdout",
     "output_type": "stream",
     "text": [
      "[CV] END alpha=0.0001, eta0=0.1, learning_rate=constant, penalty=l2; total time=   0.1s\n",
      "[CV] END alpha=0.0001, eta0=0.1, learning_rate=constant, penalty=l2; total time=   0.2s\n",
      "[CV] END alpha=0.0001, eta0=0.1, learning_rate=constant, penalty=l1; total time=   0.1s\n",
      "[CV] END alpha=0.0001, eta0=0.1, learning_rate=constant, penalty=l1; total time=   0.2s\n",
      "[CV] END alpha=0.0001, eta0=0.1, learning_rate=constant, penalty=l1; total time=   0.2s\n",
      "[CV] END alpha=0.0001, eta0=0.1, learning_rate=constant, penalty=l1; total time=   0.1s\n",
      "[CV] END alpha=0.0001, eta0=0.1, learning_rate=constant, penalty=l1; total time=   0.1s\n",
      "[CV] END alpha=0.0001, eta0=0.1, learning_rate=constant, penalty=elasticnet; total time=   0.1s\n",
      "[CV] END alpha=0.0001, eta0=0.1, learning_rate=constant, penalty=elasticnet; total time=   0.1s\n",
      "[CV] END alpha=0.0001, eta0=0.1, learning_rate=constant, penalty=elasticnet; total time=   0.2s\n",
      "[CV] END alpha=0.0001, eta0=0.1, learning_rate=constant, penalty=elasticnet; total time=   0.2s\n",
      "[CV] END alpha=0.0001, eta0=0.1, learning_rate=constant, penalty=elasticnet; total time=   0.1s\n",
      "[CV] END alpha=0.0001, eta0=0.1, learning_rate=optimal, penalty=l2; total time=   1.3s\n",
      "[CV] END alpha=0.0001, eta0=0.1, learning_rate=optimal, penalty=l2; total time=   1.5s\n",
      "[CV] END alpha=0.0001, eta0=0.1, learning_rate=optimal, penalty=l2; total time=   1.2s\n",
      "[CV] END alpha=0.0001, eta0=0.1, learning_rate=optimal, penalty=l2; total time=   1.9s\n",
      "[CV] END alpha=0.0001, eta0=0.1, learning_rate=optimal, penalty=l2; total time=   1.7s\n",
      "[CV] END alpha=0.0001, eta0=0.1, learning_rate=optimal, penalty=l1; total time=   2.0s\n",
      "[CV] END alpha=0.0001, eta0=0.1, learning_rate=optimal, penalty=l1; total time=   2.8s\n"
     ]
    },
    {
     "name": "stderr",
     "output_type": "stream",
     "text": [
      "/Users/johannessolibieda/Library/Python/3.9/lib/python/site-packages/sklearn/linear_model/_stochastic_gradient.py:1616: ConvergenceWarning: Maximum number of iteration reached before convergence. Consider increasing max_iter to improve the fit.\n",
      "  warnings.warn(\n",
      "/Users/johannessolibieda/Library/Python/3.9/lib/python/site-packages/sklearn/linear_model/_stochastic_gradient.py:1616: ConvergenceWarning: Maximum number of iteration reached before convergence. Consider increasing max_iter to improve the fit.\n",
      "  warnings.warn(\n"
     ]
    },
    {
     "name": "stdout",
     "output_type": "stream",
     "text": [
      "[CV] END alpha=0.0001, eta0=0.01, learning_rate=adaptive, penalty=l1; total time=  14.9s\n",
      "[CV] END alpha=0.0001, eta0=0.01, learning_rate=adaptive, penalty=elasticnet; total time=  15.0s\n",
      "[CV] END alpha=0.0001, eta0=0.1, learning_rate=optimal, penalty=l1; total time=   2.6s\n",
      "[CV] END alpha=0.0001, eta0=0.01, learning_rate=adaptive, penalty=elasticnet; total time=  10.4s\n"
     ]
    },
    {
     "name": "stderr",
     "output_type": "stream",
     "text": [
      "/Users/johannessolibieda/Library/Python/3.9/lib/python/site-packages/sklearn/linear_model/_stochastic_gradient.py:1616: ConvergenceWarning: Maximum number of iteration reached before convergence. Consider increasing max_iter to improve the fit.\n",
      "  warnings.warn(\n"
     ]
    },
    {
     "name": "stdout",
     "output_type": "stream",
     "text": [
      "[CV] END alpha=0.0001, eta0=0.01, learning_rate=adaptive, penalty=elasticnet; total time=  15.2s\n"
     ]
    },
    {
     "name": "stderr",
     "output_type": "stream",
     "text": [
      "/Users/johannessolibieda/Library/Python/3.9/lib/python/site-packages/sklearn/linear_model/_stochastic_gradient.py:1616: ConvergenceWarning: Maximum number of iteration reached before convergence. Consider increasing max_iter to improve the fit.\n",
      "  warnings.warn(\n"
     ]
    },
    {
     "name": "stdout",
     "output_type": "stream",
     "text": [
      "[CV] END alpha=0.0001, eta0=0.01, learning_rate=adaptive, penalty=elasticnet; total time=  15.2s\n",
      "[CV] END alpha=0.0001, eta0=0.1, learning_rate=optimal, penalty=elasticnet; total time=   2.0s\n",
      "[CV] END alpha=0.0001, eta0=0.1, learning_rate=invscaling, penalty=l2; total time=   0.3s\n",
      "[CV] END alpha=0.0001, eta0=0.1, learning_rate=optimal, penalty=l1; total time=   3.5s\n",
      "[CV] END alpha=0.0001, eta0=0.1, learning_rate=invscaling, penalty=l2; total time=   0.3s\n",
      "[CV] END alpha=0.0001, eta0=0.1, learning_rate=invscaling, penalty=l2; total time=   0.5s\n",
      "[CV] END alpha=0.0001, eta0=0.1, learning_rate=optimal, penalty=elasticnet; total time=   3.0s\n",
      "[CV] END alpha=0.0001, eta0=0.1, learning_rate=invscaling, penalty=l2; total time=   0.6s\n",
      "[CV] END alpha=0.0001, eta0=0.1, learning_rate=optimal, penalty=elasticnet; total time=   3.1s\n",
      "[CV] END alpha=0.0001, eta0=0.1, learning_rate=optimal, penalty=l1; total time=   3.6s\n",
      "[CV] END alpha=0.0001, eta0=0.1, learning_rate=optimal, penalty=elasticnet; total time=   3.4s\n",
      "[CV] END alpha=0.0001, eta0=0.1, learning_rate=invscaling, penalty=l1; total time=   0.6s\n",
      "[CV] END alpha=0.0001, eta0=0.1, learning_rate=invscaling, penalty=l2; total time=   0.7s\n",
      "[CV] END alpha=0.0001, eta0=0.1, learning_rate=invscaling, penalty=l1; total time=   1.0s\n",
      "[CV] END alpha=0.0001, eta0=0.1, learning_rate=invscaling, penalty=l1; total time=   0.7s\n",
      "[CV] END alpha=0.0001, eta0=0.1, learning_rate=invscaling, penalty=l1; total time=   0.9s\n",
      "[CV] END alpha=0.0001, eta0=0.1, learning_rate=invscaling, penalty=elasticnet; total time=   0.7s\n",
      "[CV] END alpha=0.0001, eta0=0.1, learning_rate=invscaling, penalty=elasticnet; total time=   0.7s\n",
      "[CV] END alpha=0.0001, eta0=0.1, learning_rate=optimal, penalty=elasticnet; total time=   4.0s\n",
      "[CV] END alpha=0.0001, eta0=0.1, learning_rate=invscaling, penalty=l1; total time=   1.0s\n",
      "[CV] END alpha=0.0001, eta0=0.1, learning_rate=invscaling, penalty=elasticnet; total time=   0.7s\n",
      "[CV] END alpha=0.0001, eta0=0.1, learning_rate=invscaling, penalty=elasticnet; total time=   0.6s\n",
      "[CV] END alpha=0.0001, eta0=0.1, learning_rate=invscaling, penalty=elasticnet; total time=   1.2s\n"
     ]
    },
    {
     "name": "stderr",
     "output_type": "stream",
     "text": [
      "/Users/johannessolibieda/Library/Python/3.9/lib/python/site-packages/sklearn/linear_model/_stochastic_gradient.py:1616: ConvergenceWarning: Maximum number of iteration reached before convergence. Consider increasing max_iter to improve the fit.\n",
      "  warnings.warn(\n"
     ]
    },
    {
     "name": "stdout",
     "output_type": "stream",
     "text": [
      "[CV] END alpha=0.0001, eta0=0.01, learning_rate=adaptive, penalty=elasticnet; total time=  15.3s\n",
      "[CV] END alpha=0.0001, eta0=0.1, learning_rate=adaptive, penalty=l2; total time=   4.3s\n"
     ]
    },
    {
     "name": "stderr",
     "output_type": "stream",
     "text": [
      "/Users/johannessolibieda/Library/Python/3.9/lib/python/site-packages/sklearn/linear_model/_stochastic_gradient.py:1616: ConvergenceWarning: Maximum number of iteration reached before convergence. Consider increasing max_iter to improve the fit.\n",
      "  warnings.warn(\n",
      "/Users/johannessolibieda/Library/Python/3.9/lib/python/site-packages/sklearn/linear_model/_stochastic_gradient.py:1616: ConvergenceWarning: Maximum number of iteration reached before convergence. Consider increasing max_iter to improve the fit.\n",
      "  warnings.warn(\n",
      "/Users/johannessolibieda/Library/Python/3.9/lib/python/site-packages/sklearn/linear_model/_stochastic_gradient.py:1616: ConvergenceWarning: Maximum number of iteration reached before convergence. Consider increasing max_iter to improve the fit.\n",
      "  warnings.warn(\n"
     ]
    },
    {
     "name": "stdout",
     "output_type": "stream",
     "text": [
      "[CV] END alpha=0.0001, eta0=0.1, learning_rate=adaptive, penalty=l2; total time=  10.7s\n",
      "[CV] END alpha=0.0001, eta0=0.1, learning_rate=adaptive, penalty=l2; total time=  10.5s\n",
      "[CV] END alpha=0.0001, eta0=0.1, learning_rate=adaptive, penalty=l2; total time=  10.8s\n"
     ]
    },
    {
     "name": "stderr",
     "output_type": "stream",
     "text": [
      "/Users/johannessolibieda/Library/Python/3.9/lib/python/site-packages/sklearn/linear_model/_stochastic_gradient.py:1616: ConvergenceWarning: Maximum number of iteration reached before convergence. Consider increasing max_iter to improve the fit.\n",
      "  warnings.warn(\n"
     ]
    },
    {
     "name": "stdout",
     "output_type": "stream",
     "text": [
      "[CV] END alpha=0.0001, eta0=0.1, learning_rate=adaptive, penalty=l2; total time=  10.8s\n",
      "[CV] END alpha=0.0001, eta0=0.1, learning_rate=adaptive, penalty=l1; total time=   6.6s\n"
     ]
    },
    {
     "name": "stderr",
     "output_type": "stream",
     "text": [
      "/Users/johannessolibieda/Library/Python/3.9/lib/python/site-packages/sklearn/linear_model/_stochastic_gradient.py:1616: ConvergenceWarning: Maximum number of iteration reached before convergence. Consider increasing max_iter to improve the fit.\n",
      "  warnings.warn(\n"
     ]
    },
    {
     "name": "stdout",
     "output_type": "stream",
     "text": [
      "[CV] END alpha=0.0001, eta0=0.1, learning_rate=adaptive, penalty=l1; total time=  15.5s\n"
     ]
    },
    {
     "name": "stderr",
     "output_type": "stream",
     "text": [
      "/Users/johannessolibieda/Library/Python/3.9/lib/python/site-packages/sklearn/linear_model/_stochastic_gradient.py:1616: ConvergenceWarning: Maximum number of iteration reached before convergence. Consider increasing max_iter to improve the fit.\n",
      "  warnings.warn(\n"
     ]
    },
    {
     "name": "stdout",
     "output_type": "stream",
     "text": [
      "[CV] END alpha=0.0001, eta0=0.1, learning_rate=adaptive, penalty=l1; total time=  15.6s\n",
      "[CV] END alpha=0.0001, eta0=1, learning_rate=constant, penalty=l2; total time=   0.1s\n",
      "[CV] END alpha=0.0001, eta0=1, learning_rate=constant, penalty=l2; total time=   0.1s\n",
      "[CV] END alpha=0.0001, eta0=1, learning_rate=constant, penalty=l2; total time=   0.1s\n",
      "[CV] END alpha=0.0001, eta0=1, learning_rate=constant, penalty=l2; total time=   0.1s\n",
      "[CV] END alpha=0.0001, eta0=1, learning_rate=constant, penalty=l2; total time=   0.1s\n",
      "[CV] END alpha=0.0001, eta0=0.1, learning_rate=adaptive, penalty=l1; total time=  15.6s\n",
      "[CV] END alpha=0.0001, eta0=1, learning_rate=constant, penalty=l1; total time=   0.1s\n"
     ]
    },
    {
     "name": "stderr",
     "output_type": "stream",
     "text": [
      "/Users/johannessolibieda/Library/Python/3.9/lib/python/site-packages/sklearn/linear_model/_stochastic_gradient.py:1616: ConvergenceWarning: Maximum number of iteration reached before convergence. Consider increasing max_iter to improve the fit.\n",
      "  warnings.warn(\n"
     ]
    },
    {
     "name": "stdout",
     "output_type": "stream",
     "text": [
      "[CV] END alpha=0.0001, eta0=1, learning_rate=constant, penalty=l1; total time=   0.2s\n",
      "[CV] END alpha=0.0001, eta0=1, learning_rate=constant, penalty=l1; total time=   0.1s\n",
      "[CV] END alpha=0.0001, eta0=0.1, learning_rate=adaptive, penalty=elasticnet; total time=   6.3s\n",
      "[CV] END alpha=0.0001, eta0=1, learning_rate=constant, penalty=l1; total time=   0.1s\n",
      "[CV] END alpha=0.0001, eta0=1, learning_rate=constant, penalty=elasticnet; total time=   0.1s\n",
      "[CV] END alpha=0.0001, eta0=1, learning_rate=constant, penalty=l1; total time=   0.2s\n",
      "[CV] END alpha=0.0001, eta0=1, learning_rate=constant, penalty=elasticnet; total time=   0.2s\n",
      "[CV] END alpha=0.0001, eta0=1, learning_rate=constant, penalty=elasticnet; total time=   0.3s\n",
      "[CV] END alpha=0.0001, eta0=1, learning_rate=constant, penalty=elasticnet; total time=   0.2s\n",
      "[CV] END alpha=0.0001, eta0=1, learning_rate=constant, penalty=elasticnet; total time=   0.2s\n",
      "[CV] END alpha=0.0001, eta0=1, learning_rate=optimal, penalty=l2; total time=   1.3s\n",
      "[CV] END alpha=0.0001, eta0=1, learning_rate=optimal, penalty=l2; total time=   1.7s\n",
      "[CV] END alpha=0.0001, eta0=1, learning_rate=optimal, penalty=l2; total time=   1.8s\n",
      "[CV] END alpha=0.0001, eta0=1, learning_rate=optimal, penalty=l2; total time=   2.2s\n",
      "[CV] END alpha=0.0001, eta0=1, learning_rate=optimal, penalty=l2; total time=   1.9s\n",
      "[CV] END alpha=0.0001, eta0=1, learning_rate=optimal, penalty=l1; total time=   3.4s\n",
      "[CV] END alpha=0.0001, eta0=1, learning_rate=optimal, penalty=l1; total time=   3.0s\n",
      "[CV] END alpha=0.0001, eta0=1, learning_rate=optimal, penalty=l1; total time=   3.7s\n"
     ]
    },
    {
     "name": "stderr",
     "output_type": "stream",
     "text": [
      "/Users/johannessolibieda/Library/Python/3.9/lib/python/site-packages/sklearn/linear_model/_stochastic_gradient.py:1616: ConvergenceWarning: Maximum number of iteration reached before convergence. Consider increasing max_iter to improve the fit.\n",
      "  warnings.warn(\n",
      "/Users/johannessolibieda/Library/Python/3.9/lib/python/site-packages/sklearn/linear_model/_stochastic_gradient.py:1616: ConvergenceWarning: Maximum number of iteration reached before convergence. Consider increasing max_iter to improve the fit.\n",
      "  warnings.warn(\n",
      "/Users/johannessolibieda/Library/Python/3.9/lib/python/site-packages/sklearn/linear_model/_stochastic_gradient.py:1616: ConvergenceWarning: Maximum number of iteration reached before convergence. Consider increasing max_iter to improve the fit.\n",
      "  warnings.warn(\n"
     ]
    },
    {
     "name": "stdout",
     "output_type": "stream",
     "text": [
      "[CV] END alpha=0.0001, eta0=0.1, learning_rate=adaptive, penalty=elasticnet; total time=  15.4s\n",
      "[CV] END alpha=0.0001, eta0=1, learning_rate=optimal, penalty=l1; total time=   2.2s\n",
      "[CV] END alpha=0.0001, eta0=0.1, learning_rate=adaptive, penalty=elasticnet; total time=  15.5s\n",
      "[CV] END alpha=0.0001, eta0=0.1, learning_rate=adaptive, penalty=l1; total time=  15.7s\n"
     ]
    },
    {
     "name": "stderr",
     "output_type": "stream",
     "text": [
      "/Users/johannessolibieda/Library/Python/3.9/lib/python/site-packages/sklearn/linear_model/_stochastic_gradient.py:1616: ConvergenceWarning: Maximum number of iteration reached before convergence. Consider increasing max_iter to improve the fit.\n",
      "  warnings.warn(\n"
     ]
    },
    {
     "name": "stdout",
     "output_type": "stream",
     "text": [
      "[CV] END alpha=0.0001, eta0=0.1, learning_rate=adaptive, penalty=elasticnet; total time=  15.6s\n",
      "[CV] END alpha=0.0001, eta0=1, learning_rate=optimal, penalty=l1; total time=   3.7s\n",
      "[CV] END alpha=0.0001, eta0=1, learning_rate=optimal, penalty=elasticnet; total time=   2.4s\n",
      "[CV] END alpha=0.0001, eta0=1, learning_rate=invscaling, penalty=l2; total time=   1.0s\n",
      "[CV] END alpha=0.0001, eta0=1, learning_rate=invscaling, penalty=l2; total time=   0.5s\n",
      "[CV] END alpha=0.0001, eta0=1, learning_rate=invscaling, penalty=l2; total time=   1.5s\n",
      "[CV] END alpha=0.0001, eta0=1, learning_rate=optimal, penalty=elasticnet; total time=   2.0s\n",
      "[CV] END alpha=0.0001, eta0=1, learning_rate=optimal, penalty=elasticnet; total time=   2.1s\n",
      "[CV] END alpha=0.0001, eta0=1, learning_rate=invscaling, penalty=l2; total time=   0.6s\n",
      "[CV] END alpha=0.0001, eta0=1, learning_rate=optimal, penalty=elasticnet; total time=   2.6s\n",
      "[CV] END alpha=0.0001, eta0=1, learning_rate=invscaling, penalty=l2; total time=   1.3s\n",
      "[CV] END alpha=0.0001, eta0=1, learning_rate=invscaling, penalty=l1; total time=   1.4s\n",
      "[CV] END alpha=0.0001, eta0=1, learning_rate=invscaling, penalty=l1; total time=   0.9s\n",
      "[CV] END alpha=0.0001, eta0=1, learning_rate=optimal, penalty=elasticnet; total time=   3.1s\n",
      "[CV] END alpha=0.0001, eta0=1, learning_rate=invscaling, penalty=l1; total time=   1.6s\n",
      "[CV] END alpha=0.0001, eta0=1, learning_rate=invscaling, penalty=l1; total time=   2.1s\n",
      "[CV] END alpha=0.0001, eta0=1, learning_rate=invscaling, penalty=l1; total time=   1.4s\n",
      "[CV] END alpha=0.0001, eta0=1, learning_rate=invscaling, penalty=elasticnet; total time=   1.7s\n"
     ]
    },
    {
     "name": "stderr",
     "output_type": "stream",
     "text": [
      "/Users/johannessolibieda/Library/Python/3.9/lib/python/site-packages/sklearn/linear_model/_stochastic_gradient.py:1616: ConvergenceWarning: Maximum number of iteration reached before convergence. Consider increasing max_iter to improve the fit.\n",
      "  warnings.warn(\n"
     ]
    },
    {
     "name": "stdout",
     "output_type": "stream",
     "text": [
      "[CV] END alpha=0.0001, eta0=1, learning_rate=invscaling, penalty=elasticnet; total time=   1.9s\n",
      "[CV] END alpha=0.0001, eta0=0.1, learning_rate=adaptive, penalty=elasticnet; total time=  15.5s\n",
      "[CV] END alpha=0.0001, eta0=1, learning_rate=invscaling, penalty=elasticnet; total time=   2.6s\n",
      "[CV] END alpha=0.0001, eta0=1, learning_rate=invscaling, penalty=elasticnet; total time=   2.0s\n",
      "[CV] END alpha=0.0001, eta0=1, learning_rate=invscaling, penalty=elasticnet; total time=   2.9s\n",
      "[CV] END alpha=0.0001, eta0=1, learning_rate=adaptive, penalty=l2; total time=   5.4s\n"
     ]
    },
    {
     "name": "stderr",
     "output_type": "stream",
     "text": [
      "/Users/johannessolibieda/Library/Python/3.9/lib/python/site-packages/sklearn/linear_model/_stochastic_gradient.py:1616: ConvergenceWarning: Maximum number of iteration reached before convergence. Consider increasing max_iter to improve the fit.\n",
      "  warnings.warn(\n",
      "/Users/johannessolibieda/Library/Python/3.9/lib/python/site-packages/sklearn/linear_model/_stochastic_gradient.py:1616: ConvergenceWarning: Maximum number of iteration reached before convergence. Consider increasing max_iter to improve the fit.\n",
      "  warnings.warn(\n"
     ]
    },
    {
     "name": "stdout",
     "output_type": "stream",
     "text": [
      "[CV] END alpha=0.0001, eta0=1, learning_rate=adaptive, penalty=l2; total time=  10.8s\n",
      "[CV] END alpha=0.0001, eta0=1, learning_rate=adaptive, penalty=l2; total time=  10.8s\n",
      "[CV] END alpha=0.0001, eta0=1, learning_rate=adaptive, penalty=l1; total time=   5.1s\n"
     ]
    },
    {
     "name": "stderr",
     "output_type": "stream",
     "text": [
      "/Users/johannessolibieda/Library/Python/3.9/lib/python/site-packages/sklearn/linear_model/_stochastic_gradient.py:1616: ConvergenceWarning: Maximum number of iteration reached before convergence. Consider increasing max_iter to improve the fit.\n",
      "  warnings.warn(\n"
     ]
    },
    {
     "name": "stdout",
     "output_type": "stream",
     "text": [
      "[CV] END alpha=0.0001, eta0=1, learning_rate=adaptive, penalty=l2; total time=  10.9s\n"
     ]
    },
    {
     "name": "stderr",
     "output_type": "stream",
     "text": [
      "/Users/johannessolibieda/Library/Python/3.9/lib/python/site-packages/sklearn/linear_model/_stochastic_gradient.py:1616: ConvergenceWarning: Maximum number of iteration reached before convergence. Consider increasing max_iter to improve the fit.\n",
      "  warnings.warn(\n"
     ]
    },
    {
     "name": "stdout",
     "output_type": "stream",
     "text": [
      "[CV] END alpha=0.0001, eta0=1, learning_rate=adaptive, penalty=l2; total time=  11.0s\n"
     ]
    },
    {
     "name": "stderr",
     "output_type": "stream",
     "text": [
      "/Users/johannessolibieda/Library/Python/3.9/lib/python/site-packages/sklearn/linear_model/_stochastic_gradient.py:1616: ConvergenceWarning: Maximum number of iteration reached before convergence. Consider increasing max_iter to improve the fit.\n",
      "  warnings.warn(\n"
     ]
    },
    {
     "name": "stdout",
     "output_type": "stream",
     "text": [
      "[CV] END alpha=0.0001, eta0=1, learning_rate=adaptive, penalty=l1; total time=  15.4s\n"
     ]
    },
    {
     "name": "stderr",
     "output_type": "stream",
     "text": [
      "/Users/johannessolibieda/Library/Python/3.9/lib/python/site-packages/sklearn/linear_model/_stochastic_gradient.py:1616: ConvergenceWarning: Maximum number of iteration reached before convergence. Consider increasing max_iter to improve the fit.\n",
      "  warnings.warn(\n",
      "/Users/johannessolibieda/Library/Python/3.9/lib/python/site-packages/sklearn/linear_model/_stochastic_gradient.py:1616: ConvergenceWarning: Maximum number of iteration reached before convergence. Consider increasing max_iter to improve the fit.\n",
      "  warnings.warn(\n"
     ]
    },
    {
     "name": "stdout",
     "output_type": "stream",
     "text": [
      "[CV] END alpha=0.0001, eta0=1, learning_rate=adaptive, penalty=l1; total time=  15.7s\n",
      "[CV] END alpha=0.0001, eta0=1, learning_rate=adaptive, penalty=l1; total time=  16.1s\n",
      "[CV] END alpha=0.001, eta0=0.001, learning_rate=constant, penalty=l2; total time=   0.1s\n",
      "[CV] END alpha=0.001, eta0=0.001, learning_rate=constant, penalty=l2; total time=   0.1s\n",
      "[CV] END alpha=0.001, eta0=0.001, learning_rate=constant, penalty=l2; total time=   0.1s\n",
      "[CV] END alpha=0.001, eta0=0.001, learning_rate=constant, penalty=l2; total time=   0.1s\n",
      "[CV] END alpha=0.001, eta0=0.001, learning_rate=constant, penalty=l2; total time=   0.3s\n",
      "[CV] END alpha=0.001, eta0=0.001, learning_rate=constant, penalty=l1; total time=   0.2s\n",
      "[CV] END alpha=0.001, eta0=0.001, learning_rate=constant, penalty=l1; total time=   0.1s\n",
      "[CV] END alpha=0.001, eta0=0.001, learning_rate=constant, penalty=l1; total time=   0.1s\n",
      "[CV] END alpha=0.001, eta0=0.001, learning_rate=constant, penalty=l1; total time=   0.1s\n",
      "[CV] END alpha=0.001, eta0=0.001, learning_rate=constant, penalty=elasticnet; total time=   0.1s\n",
      "[CV] END alpha=0.001, eta0=0.001, learning_rate=constant, penalty=elasticnet; total time=   0.1s\n",
      "[CV] END alpha=0.001, eta0=0.001, learning_rate=constant, penalty=l1; total time=   0.6s\n",
      "[CV] END alpha=0.001, eta0=0.001, learning_rate=constant, penalty=elasticnet; total time=   0.2s\n",
      "[CV] END alpha=0.001, eta0=0.001, learning_rate=constant, penalty=elasticnet; total time=   0.1s\n",
      "[CV] END alpha=0.001, eta0=0.001, learning_rate=constant, penalty=elasticnet; total time=   0.2s\n",
      "[CV] END alpha=0.001, eta0=0.001, learning_rate=optimal, penalty=l2; total time=   0.4s\n",
      "[CV] END alpha=0.001, eta0=0.001, learning_rate=optimal, penalty=l2; total time=   0.5s\n",
      "[CV] END alpha=0.001, eta0=0.001, learning_rate=optimal, penalty=l2; total time=   0.5s\n",
      "[CV] END alpha=0.001, eta0=0.001, learning_rate=optimal, penalty=l2; total time=   0.5s\n",
      "[CV] END alpha=0.001, eta0=0.001, learning_rate=optimal, penalty=l2; total time=   0.4s\n",
      "[CV] END alpha=0.001, eta0=0.001, learning_rate=optimal, penalty=l1; total time=   0.9s\n",
      "[CV] END alpha=0.001, eta0=0.001, learning_rate=optimal, penalty=l1; total time=   0.7s\n",
      "[CV] END alpha=0.001, eta0=0.001, learning_rate=optimal, penalty=l1; total time=   0.7s\n",
      "[CV] END alpha=0.001, eta0=0.001, learning_rate=optimal, penalty=l1; total time=   0.7s\n",
      "[CV] END alpha=0.001, eta0=0.001, learning_rate=optimal, penalty=l1; total time=   1.6s\n",
      "[CV] END alpha=0.001, eta0=0.001, learning_rate=optimal, penalty=elasticnet; total time=   0.7s\n",
      "[CV] END alpha=0.001, eta0=0.001, learning_rate=optimal, penalty=elasticnet; total time=   0.7s\n",
      "[CV] END alpha=0.001, eta0=0.001, learning_rate=optimal, penalty=elasticnet; total time=   1.0s\n",
      "[CV] END alpha=0.0001, eta0=1, learning_rate=adaptive, penalty=elasticnet; total time=  12.2s\n",
      "[CV] END alpha=0.001, eta0=0.001, learning_rate=optimal, penalty=elasticnet; total time=   0.6s\n",
      "[CV] END alpha=0.001, eta0=0.001, learning_rate=invscaling, penalty=l2; total time=   0.5s\n",
      "[CV] END alpha=0.001, eta0=0.001, learning_rate=invscaling, penalty=l2; total time=   0.4s\n",
      "[CV] END alpha=0.001, eta0=0.001, learning_rate=invscaling, penalty=l2; total time=   0.6s\n",
      "[CV] END alpha=0.001, eta0=0.001, learning_rate=invscaling, penalty=l2; total time=   0.5s\n",
      "[CV] END alpha=0.001, eta0=0.001, learning_rate=invscaling, penalty=l2; total time=   0.6s\n",
      "[CV] END alpha=0.001, eta0=0.001, learning_rate=invscaling, penalty=l1; total time=   0.7s\n",
      "[CV] END alpha=0.0001, eta0=1, learning_rate=adaptive, penalty=l1; total time=  15.7s\n"
     ]
    },
    {
     "name": "stderr",
     "output_type": "stream",
     "text": [
      "/Users/johannessolibieda/Library/Python/3.9/lib/python/site-packages/sklearn/linear_model/_stochastic_gradient.py:1616: ConvergenceWarning: Maximum number of iteration reached before convergence. Consider increasing max_iter to improve the fit.\n",
      "  warnings.warn(\n"
     ]
    },
    {
     "name": "stdout",
     "output_type": "stream",
     "text": [
      "[CV] END alpha=0.001, eta0=0.001, learning_rate=invscaling, penalty=l1; total time=   0.8s\n",
      "[CV] END alpha=0.0001, eta0=1, learning_rate=adaptive, penalty=elasticnet; total time=  16.0s\n"
     ]
    },
    {
     "name": "stderr",
     "output_type": "stream",
     "text": [
      "/Users/johannessolibieda/Library/Python/3.9/lib/python/site-packages/sklearn/linear_model/_stochastic_gradient.py:1616: ConvergenceWarning: Maximum number of iteration reached before convergence. Consider increasing max_iter to improve the fit.\n",
      "  warnings.warn(\n",
      "/Users/johannessolibieda/Library/Python/3.9/lib/python/site-packages/sklearn/linear_model/_stochastic_gradient.py:1616: ConvergenceWarning: Maximum number of iteration reached before convergence. Consider increasing max_iter to improve the fit.\n",
      "  warnings.warn(\n"
     ]
    },
    {
     "name": "stdout",
     "output_type": "stream",
     "text": [
      "[CV] END alpha=0.0001, eta0=1, learning_rate=adaptive, penalty=elasticnet; total time=  15.5s\n",
      "[CV] END alpha=0.001, eta0=0.001, learning_rate=invscaling, penalty=l1; total time=   0.7s\n",
      "[CV] END alpha=0.001, eta0=0.001, learning_rate=invscaling, penalty=l1; total time=   0.9s\n"
     ]
    },
    {
     "name": "stderr",
     "output_type": "stream",
     "text": [
      "/Users/johannessolibieda/Library/Python/3.9/lib/python/site-packages/sklearn/linear_model/_stochastic_gradient.py:1616: ConvergenceWarning: Maximum number of iteration reached before convergence. Consider increasing max_iter to improve the fit.\n",
      "  warnings.warn(\n"
     ]
    },
    {
     "name": "stdout",
     "output_type": "stream",
     "text": [
      "[CV] END alpha=0.0001, eta0=1, learning_rate=adaptive, penalty=elasticnet; total time=  15.7s\n",
      "[CV] END alpha=0.001, eta0=0.001, learning_rate=invscaling, penalty=l1; total time=   0.9s\n",
      "[CV] END alpha=0.001, eta0=0.001, learning_rate=invscaling, penalty=elasticnet; total time=   0.6s\n",
      "[CV] END alpha=0.001, eta0=0.001, learning_rate=adaptive, penalty=l2; total time=   0.3s\n",
      "[CV] END alpha=0.001, eta0=0.001, learning_rate=invscaling, penalty=elasticnet; total time=   1.1s\n",
      "[CV] END alpha=0.001, eta0=0.001, learning_rate=adaptive, penalty=l2; total time=   0.4s\n",
      "[CV] END alpha=0.001, eta0=0.001, learning_rate=invscaling, penalty=elasticnet; total time=   1.0s\n",
      "[CV] END alpha=0.001, eta0=0.001, learning_rate=adaptive, penalty=l2; total time=   0.3s\n",
      "[CV] END alpha=0.001, eta0=0.001, learning_rate=invscaling, penalty=elasticnet; total time=   0.8s\n",
      "[CV] END alpha=0.001, eta0=0.001, learning_rate=invscaling, penalty=elasticnet; total time=   0.9s\n",
      "[CV] END alpha=0.001, eta0=0.001, learning_rate=adaptive, penalty=l2; total time=   0.4s\n",
      "[CV] END alpha=0.001, eta0=0.001, learning_rate=adaptive, penalty=l2; total time=   0.7s\n",
      "[CV] END alpha=0.001, eta0=0.001, learning_rate=adaptive, penalty=l1; total time=   0.5s\n",
      "[CV] END alpha=0.001, eta0=0.001, learning_rate=adaptive, penalty=l1; total time=   0.5s\n",
      "[CV] END alpha=0.001, eta0=0.001, learning_rate=adaptive, penalty=l1; total time=   0.5s\n",
      "[CV] END alpha=0.001, eta0=0.001, learning_rate=adaptive, penalty=l1; total time=   0.5s\n",
      "[CV] END alpha=0.001, eta0=0.001, learning_rate=adaptive, penalty=elasticnet; total time=   0.5s\n",
      "[CV] END alpha=0.001, eta0=0.01, learning_rate=constant, penalty=l2; total time=   0.1s\n",
      "[CV] END alpha=0.001, eta0=0.001, learning_rate=adaptive, penalty=elasticnet; total time=   0.5s\n",
      "[CV] END alpha=0.001, eta0=0.01, learning_rate=constant, penalty=l2; total time=   0.1s\n",
      "[CV] END alpha=0.001, eta0=0.001, learning_rate=adaptive, penalty=elasticnet; total time=   0.5s\n",
      "[CV] END alpha=0.001, eta0=0.01, learning_rate=constant, penalty=l2; total time=   0.1s\n",
      "[CV] END alpha=0.001, eta0=0.01, learning_rate=constant, penalty=l2; total time=   0.1s\n",
      "[CV] END alpha=0.001, eta0=0.01, learning_rate=constant, penalty=l2; total time=   0.1s\n",
      "[CV] END alpha=0.001, eta0=0.001, learning_rate=adaptive, penalty=l1; total time=   1.1s\n",
      "[CV] END alpha=0.001, eta0=0.001, learning_rate=adaptive, penalty=elasticnet; total time=   0.6s\n",
      "[CV] END alpha=0.001, eta0=0.01, learning_rate=constant, penalty=l1; total time=   0.1s\n",
      "[CV] END alpha=0.001, eta0=0.01, learning_rate=constant, penalty=l1; total time=   0.1s\n",
      "[CV] END alpha=0.001, eta0=0.01, learning_rate=constant, penalty=l1; total time=   0.1s\n",
      "[CV] END alpha=0.001, eta0=0.01, learning_rate=constant, penalty=l1; total time=   0.1s\n",
      "[CV] END alpha=0.001, eta0=0.01, learning_rate=constant, penalty=elasticnet; total time=   0.1s\n",
      "[CV] END alpha=0.001, eta0=0.001, learning_rate=adaptive, penalty=elasticnet; total time=   0.9s\n",
      "[CV] END alpha=0.001, eta0=0.01, learning_rate=constant, penalty=elasticnet; total time=   0.1s\n",
      "[CV] END alpha=0.001, eta0=0.01, learning_rate=constant, penalty=elasticnet; total time=   0.1s\n",
      "[CV] END alpha=0.001, eta0=0.01, learning_rate=constant, penalty=elasticnet; total time=   0.1s\n",
      "[CV] END alpha=0.001, eta0=0.01, learning_rate=constant, penalty=elasticnet; total time=   0.1s\n",
      "[CV] END alpha=0.001, eta0=0.01, learning_rate=constant, penalty=l1; total time=   0.4s\n",
      "[CV] END alpha=0.001, eta0=0.01, learning_rate=optimal, penalty=l2; total time=   0.4s\n",
      "[CV] END alpha=0.001, eta0=0.01, learning_rate=optimal, penalty=l2; total time=   0.4s\n",
      "[CV] END alpha=0.001, eta0=0.01, learning_rate=optimal, penalty=l2; total time=   0.4s\n",
      "[CV] END alpha=0.001, eta0=0.01, learning_rate=optimal, penalty=l2; total time=   0.4s\n",
      "[CV] END alpha=0.001, eta0=0.01, learning_rate=optimal, penalty=l1; total time=   0.8s\n",
      "[CV] END alpha=0.001, eta0=0.01, learning_rate=optimal, penalty=l1; total time=   0.6s\n",
      "[CV] END alpha=0.001, eta0=0.01, learning_rate=optimal, penalty=l1; total time=   0.7s\n",
      "[CV] END alpha=0.001, eta0=0.01, learning_rate=optimal, penalty=l1; total time=   0.8s\n",
      "[CV] END alpha=0.001, eta0=0.001, learning_rate=optimal, penalty=elasticnet; total time=   8.2s\n",
      "[CV] END alpha=0.001, eta0=0.01, learning_rate=optimal, penalty=elasticnet; total time=   0.8s\n",
      "[CV] END alpha=0.001, eta0=0.01, learning_rate=optimal, penalty=elasticnet; total time=   0.8s\n",
      "[CV] END alpha=0.001, eta0=0.01, learning_rate=invscaling, penalty=l2; total time=   0.1s\n",
      "[CV] END alpha=0.001, eta0=0.01, learning_rate=optimal, penalty=elasticnet; total time=   0.7s\n",
      "[CV] END alpha=0.001, eta0=0.01, learning_rate=invscaling, penalty=l2; total time=   0.1s\n",
      "[CV] END alpha=0.001, eta0=0.01, learning_rate=invscaling, penalty=l2; total time=   0.1s\n",
      "[CV] END alpha=0.001, eta0=0.01, learning_rate=invscaling, penalty=l2; total time=   0.1s\n",
      "[CV] END alpha=0.001, eta0=0.01, learning_rate=optimal, penalty=elasticnet; total time=   0.8s\n",
      "[CV] END alpha=0.001, eta0=0.01, learning_rate=invscaling, penalty=l1; total time=   0.1s\n",
      "[CV] END alpha=0.001, eta0=0.01, learning_rate=invscaling, penalty=l1; total time=   0.1s\n",
      "[CV] END alpha=0.001, eta0=0.01, learning_rate=invscaling, penalty=l1; total time=   0.1s\n",
      "[CV] END alpha=0.001, eta0=0.01, learning_rate=invscaling, penalty=l2; total time=   0.3s\n",
      "[CV] END alpha=0.001, eta0=0.01, learning_rate=invscaling, penalty=l1; total time=   0.1s\n",
      "[CV] END alpha=0.001, eta0=0.01, learning_rate=invscaling, penalty=elasticnet; total time=   0.1s\n",
      "[CV] END alpha=0.001, eta0=0.01, learning_rate=invscaling, penalty=elasticnet; total time=   0.1s\n",
      "[CV] END alpha=0.001, eta0=0.01, learning_rate=invscaling, penalty=elasticnet; total time=   0.1s\n",
      "[CV] END alpha=0.001, eta0=0.01, learning_rate=optimal, penalty=elasticnet; total time=   0.7s\n",
      "[CV] END alpha=0.001, eta0=0.01, learning_rate=invscaling, penalty=elasticnet; total time=   0.1s\n",
      "[CV] END alpha=0.001, eta0=0.01, learning_rate=invscaling, penalty=l1; total time=   0.4s\n",
      "[CV] END alpha=0.001, eta0=0.01, learning_rate=invscaling, penalty=elasticnet; total time=   0.4s\n",
      "[CV] END alpha=0.001, eta0=0.01, learning_rate=optimal, penalty=l1; total time=   2.1s\n"
     ]
    },
    {
     "name": "stderr",
     "output_type": "stream",
     "text": [
      "/Users/johannessolibieda/Library/Python/3.9/lib/python/site-packages/sklearn/linear_model/_stochastic_gradient.py:1616: ConvergenceWarning: Maximum number of iteration reached before convergence. Consider increasing max_iter to improve the fit.\n",
      "  warnings.warn(\n"
     ]
    },
    {
     "name": "stdout",
     "output_type": "stream",
     "text": [
      "[CV] END alpha=0.0001, eta0=1, learning_rate=adaptive, penalty=elasticnet; total time=  16.1s\n",
      "[CV] END alpha=0.001, eta0=0.01, learning_rate=optimal, penalty=l2; total time=   4.7s\n",
      "[CV] END alpha=0.001, eta0=0.01, learning_rate=adaptive, penalty=l2; total time=   6.5s\n"
     ]
    },
    {
     "name": "stderr",
     "output_type": "stream",
     "text": [
      "/Users/johannessolibieda/Library/Python/3.9/lib/python/site-packages/sklearn/linear_model/_stochastic_gradient.py:1616: ConvergenceWarning: Maximum number of iteration reached before convergence. Consider increasing max_iter to improve the fit.\n",
      "  warnings.warn(\n",
      "/Users/johannessolibieda/Library/Python/3.9/lib/python/site-packages/sklearn/linear_model/_stochastic_gradient.py:1616: ConvergenceWarning: Maximum number of iteration reached before convergence. Consider increasing max_iter to improve the fit.\n",
      "  warnings.warn(\n"
     ]
    },
    {
     "name": "stdout",
     "output_type": "stream",
     "text": [
      "[CV] END alpha=0.001, eta0=0.01, learning_rate=adaptive, penalty=l2; total time=  11.3s\n",
      "[CV] END alpha=0.001, eta0=0.01, learning_rate=adaptive, penalty=l2; total time=  11.3s\n"
     ]
    },
    {
     "name": "stderr",
     "output_type": "stream",
     "text": [
      "/Users/johannessolibieda/Library/Python/3.9/lib/python/site-packages/sklearn/linear_model/_stochastic_gradient.py:1616: ConvergenceWarning: Maximum number of iteration reached before convergence. Consider increasing max_iter to improve the fit.\n",
      "  warnings.warn(\n",
      "/Users/johannessolibieda/Library/Python/3.9/lib/python/site-packages/sklearn/linear_model/_stochastic_gradient.py:1616: ConvergenceWarning: Maximum number of iteration reached before convergence. Consider increasing max_iter to improve the fit.\n",
      "  warnings.warn(\n"
     ]
    },
    {
     "name": "stdout",
     "output_type": "stream",
     "text": [
      "[CV] END alpha=0.001, eta0=0.01, learning_rate=adaptive, penalty=l2; total time=  11.6s\n",
      "[CV] END alpha=0.001, eta0=0.01, learning_rate=adaptive, penalty=l2; total time=  11.3s\n"
     ]
    },
    {
     "name": "stderr",
     "output_type": "stream",
     "text": [
      "/Users/johannessolibieda/Library/Python/3.9/lib/python/site-packages/sklearn/linear_model/_stochastic_gradient.py:1616: ConvergenceWarning: Maximum number of iteration reached before convergence. Consider increasing max_iter to improve the fit.\n",
      "  warnings.warn(\n"
     ]
    },
    {
     "name": "stdout",
     "output_type": "stream",
     "text": [
      "[CV] END alpha=0.001, eta0=0.01, learning_rate=adaptive, penalty=l1; total time=  15.8s\n"
     ]
    },
    {
     "name": "stderr",
     "output_type": "stream",
     "text": [
      "/Users/johannessolibieda/Library/Python/3.9/lib/python/site-packages/sklearn/linear_model/_stochastic_gradient.py:1616: ConvergenceWarning: Maximum number of iteration reached before convergence. Consider increasing max_iter to improve the fit.\n",
      "  warnings.warn(\n"
     ]
    },
    {
     "name": "stdout",
     "output_type": "stream",
     "text": [
      "[CV] END alpha=0.001, eta0=0.01, learning_rate=adaptive, penalty=l1; total time=  15.8s\n",
      "[CV] END alpha=0.001, eta0=0.01, learning_rate=adaptive, penalty=l1; total time=  10.6s\n",
      "[CV] END alpha=0.001, eta0=0.1, learning_rate=constant, penalty=l2; total time=   0.1s\n",
      "[CV] END alpha=0.001, eta0=0.1, learning_rate=constant, penalty=l2; total time=   0.1s\n",
      "[CV] END alpha=0.001, eta0=0.1, learning_rate=constant, penalty=l2; total time=   0.2s\n",
      "[CV] END alpha=0.001, eta0=0.1, learning_rate=constant, penalty=l2; total time=   0.1s\n",
      "[CV] END alpha=0.001, eta0=0.1, learning_rate=constant, penalty=l2; total time=   0.1s\n",
      "[CV] END alpha=0.001, eta0=0.1, learning_rate=constant, penalty=l1; total time=   0.1s\n",
      "[CV] END alpha=0.001, eta0=0.1, learning_rate=constant, penalty=l1; total time=   0.2s\n",
      "[CV] END alpha=0.001, eta0=0.1, learning_rate=constant, penalty=l1; total time=   0.2s\n",
      "[CV] END alpha=0.001, eta0=0.1, learning_rate=constant, penalty=l1; total time=   0.2s\n"
     ]
    },
    {
     "name": "stderr",
     "output_type": "stream",
     "text": [
      "/Users/johannessolibieda/Library/Python/3.9/lib/python/site-packages/sklearn/linear_model/_stochastic_gradient.py:1616: ConvergenceWarning: Maximum number of iteration reached before convergence. Consider increasing max_iter to improve the fit.\n",
      "  warnings.warn(\n"
     ]
    },
    {
     "name": "stdout",
     "output_type": "stream",
     "text": [
      "[CV] END alpha=0.001, eta0=0.01, learning_rate=adaptive, penalty=l1; total time=  16.2s\n",
      "[CV] END alpha=0.001, eta0=0.1, learning_rate=constant, penalty=l1; total time=   0.1s\n",
      "[CV] END alpha=0.001, eta0=0.1, learning_rate=constant, penalty=elasticnet; total time=   0.1s\n",
      "[CV] END alpha=0.001, eta0=0.1, learning_rate=constant, penalty=elasticnet; total time=   0.2s\n",
      "[CV] END alpha=0.001, eta0=0.1, learning_rate=constant, penalty=elasticnet; total time=   0.1s\n",
      "[CV] END alpha=0.001, eta0=0.1, learning_rate=constant, penalty=elasticnet; total time=   0.1s\n",
      "[CV] END alpha=0.001, eta0=0.1, learning_rate=constant, penalty=elasticnet; total time=   0.2s\n",
      "[CV] END alpha=0.001, eta0=0.1, learning_rate=optimal, penalty=l2; total time=   0.5s\n",
      "[CV] END alpha=0.001, eta0=0.1, learning_rate=optimal, penalty=l2; total time=   0.5s\n",
      "[CV] END alpha=0.001, eta0=0.1, learning_rate=optimal, penalty=l2; total time=   0.4s\n",
      "[CV] END alpha=0.001, eta0=0.1, learning_rate=optimal, penalty=l2; total time=   0.4s\n",
      "[CV] END alpha=0.001, eta0=0.1, learning_rate=optimal, penalty=l2; total time=   0.4s\n",
      "[CV] END alpha=0.001, eta0=0.1, learning_rate=optimal, penalty=l1; total time=   0.6s\n",
      "[CV] END alpha=0.001, eta0=0.1, learning_rate=optimal, penalty=l1; total time=   0.7s\n",
      "[CV] END alpha=0.001, eta0=0.1, learning_rate=optimal, penalty=l1; total time=   0.7s\n",
      "[CV] END alpha=0.001, eta0=0.1, learning_rate=optimal, penalty=l1; total time=   1.0s\n",
      "[CV] END alpha=0.001, eta0=0.1, learning_rate=optimal, penalty=elasticnet; total time=   0.9s\n",
      "[CV] END alpha=0.001, eta0=0.1, learning_rate=optimal, penalty=l1; total time=   1.2s\n",
      "[CV] END alpha=0.001, eta0=0.1, learning_rate=optimal, penalty=elasticnet; total time=   0.7s\n",
      "[CV] END alpha=0.001, eta0=0.1, learning_rate=optimal, penalty=elasticnet; total time=   1.0s\n",
      "[CV] END alpha=0.001, eta0=0.1, learning_rate=optimal, penalty=elasticnet; total time=   0.7s\n",
      "[CV] END alpha=0.001, eta0=0.1, learning_rate=invscaling, penalty=l2; total time=   0.4s\n",
      "[CV] END alpha=0.001, eta0=0.1, learning_rate=optimal, penalty=elasticnet; total time=   0.7s\n",
      "[CV] END alpha=0.001, eta0=0.1, learning_rate=invscaling, penalty=l2; total time=   0.5s\n",
      "[CV] END alpha=0.001, eta0=0.1, learning_rate=invscaling, penalty=l2; total time=   0.5s\n",
      "[CV] END alpha=0.001, eta0=0.1, learning_rate=invscaling, penalty=l2; total time=   0.6s\n",
      "[CV] END alpha=0.001, eta0=0.1, learning_rate=invscaling, penalty=l2; total time=   0.7s\n",
      "[CV] END alpha=0.001, eta0=0.01, learning_rate=adaptive, penalty=elasticnet; total time=  10.2s\n",
      "[CV] END alpha=0.001, eta0=0.1, learning_rate=invscaling, penalty=l1; total time=   0.5s\n",
      "[CV] END alpha=0.001, eta0=0.1, learning_rate=invscaling, penalty=l1; total time=   0.9s\n"
     ]
    },
    {
     "name": "stderr",
     "output_type": "stream",
     "text": [
      "/Users/johannessolibieda/Library/Python/3.9/lib/python/site-packages/sklearn/linear_model/_stochastic_gradient.py:1616: ConvergenceWarning: Maximum number of iteration reached before convergence. Consider increasing max_iter to improve the fit.\n",
      "  warnings.warn(\n",
      "/Users/johannessolibieda/Library/Python/3.9/lib/python/site-packages/sklearn/linear_model/_stochastic_gradient.py:1616: ConvergenceWarning: Maximum number of iteration reached before convergence. Consider increasing max_iter to improve the fit.\n",
      "  warnings.warn(\n",
      "/Users/johannessolibieda/Library/Python/3.9/lib/python/site-packages/sklearn/linear_model/_stochastic_gradient.py:1616: ConvergenceWarning: Maximum number of iteration reached before convergence. Consider increasing max_iter to improve the fit.\n",
      "  warnings.warn(\n"
     ]
    },
    {
     "name": "stdout",
     "output_type": "stream",
     "text": [
      "[CV] END alpha=0.001, eta0=0.01, learning_rate=adaptive, penalty=elasticnet; total time=  15.4s\n",
      "[CV] END alpha=0.001, eta0=0.01, learning_rate=adaptive, penalty=elasticnet; total time=  15.7s\n",
      "[CV] END alpha=0.001, eta0=0.1, learning_rate=invscaling, penalty=l1; total time=   0.6s\n",
      "[CV] END alpha=0.001, eta0=0.01, learning_rate=adaptive, penalty=l1; total time=  15.8s\n",
      "[CV] END alpha=0.001, eta0=0.1, learning_rate=invscaling, penalty=l1; total time=   0.9s\n",
      "[CV] END alpha=0.001, eta0=0.1, learning_rate=invscaling, penalty=l1; total time=   0.8s\n",
      "[CV] END alpha=0.001, eta0=0.1, learning_rate=invscaling, penalty=elasticnet; total time=   0.5s\n",
      "[CV] END alpha=0.001, eta0=0.01, learning_rate=adaptive, penalty=elasticnet; total time=  15.9s\n",
      "[CV] END alpha=0.001, eta0=0.1, learning_rate=invscaling, penalty=elasticnet; total time=   0.7s\n"
     ]
    },
    {
     "name": "stderr",
     "output_type": "stream",
     "text": [
      "/Users/johannessolibieda/Library/Python/3.9/lib/python/site-packages/sklearn/linear_model/_stochastic_gradient.py:1616: ConvergenceWarning: Maximum number of iteration reached before convergence. Consider increasing max_iter to improve the fit.\n",
      "  warnings.warn(\n"
     ]
    },
    {
     "name": "stdout",
     "output_type": "stream",
     "text": [
      "[CV] END alpha=0.001, eta0=0.1, learning_rate=invscaling, penalty=elasticnet; total time=   0.8s\n",
      "[CV] END alpha=0.001, eta0=0.1, learning_rate=invscaling, penalty=elasticnet; total time=   0.7s\n",
      "[CV] END alpha=0.001, eta0=0.1, learning_rate=invscaling, penalty=elasticnet; total time=   1.0s\n",
      "[CV] END alpha=0.001, eta0=0.1, learning_rate=adaptive, penalty=l2; total time=   3.6s\n"
     ]
    },
    {
     "name": "stderr",
     "output_type": "stream",
     "text": [
      "/Users/johannessolibieda/Library/Python/3.9/lib/python/site-packages/sklearn/linear_model/_stochastic_gradient.py:1616: ConvergenceWarning: Maximum number of iteration reached before convergence. Consider increasing max_iter to improve the fit.\n",
      "  warnings.warn(\n"
     ]
    },
    {
     "name": "stdout",
     "output_type": "stream",
     "text": [
      "[CV] END alpha=0.001, eta0=0.01, learning_rate=adaptive, penalty=elasticnet; total time=  16.3s\n"
     ]
    },
    {
     "name": "stderr",
     "output_type": "stream",
     "text": [
      "/Users/johannessolibieda/Library/Python/3.9/lib/python/site-packages/sklearn/linear_model/_stochastic_gradient.py:1616: ConvergenceWarning: Maximum number of iteration reached before convergence. Consider increasing max_iter to improve the fit.\n",
      "  warnings.warn(\n"
     ]
    },
    {
     "name": "stdout",
     "output_type": "stream",
     "text": [
      "[CV] END alpha=0.001, eta0=0.1, learning_rate=adaptive, penalty=l2; total time=  10.9s\n"
     ]
    },
    {
     "name": "stderr",
     "output_type": "stream",
     "text": [
      "/Users/johannessolibieda/Library/Python/3.9/lib/python/site-packages/sklearn/linear_model/_stochastic_gradient.py:1616: ConvergenceWarning: Maximum number of iteration reached before convergence. Consider increasing max_iter to improve the fit.\n",
      "  warnings.warn(\n",
      "/Users/johannessolibieda/Library/Python/3.9/lib/python/site-packages/sklearn/linear_model/_stochastic_gradient.py:1616: ConvergenceWarning: Maximum number of iteration reached before convergence. Consider increasing max_iter to improve the fit.\n",
      "  warnings.warn(\n"
     ]
    },
    {
     "name": "stdout",
     "output_type": "stream",
     "text": [
      "[CV] END alpha=0.001, eta0=0.1, learning_rate=adaptive, penalty=l2; total time=  10.9s\n",
      "[CV] END alpha=0.001, eta0=0.1, learning_rate=adaptive, penalty=l2; total time=  11.1s\n"
     ]
    },
    {
     "name": "stderr",
     "output_type": "stream",
     "text": [
      "/Users/johannessolibieda/Library/Python/3.9/lib/python/site-packages/sklearn/linear_model/_stochastic_gradient.py:1616: ConvergenceWarning: Maximum number of iteration reached before convergence. Consider increasing max_iter to improve the fit.\n",
      "  warnings.warn(\n"
     ]
    },
    {
     "name": "stdout",
     "output_type": "stream",
     "text": [
      "[CV] END alpha=0.001, eta0=0.1, learning_rate=adaptive, penalty=l2; total time=  10.9s\n",
      "[CV] END alpha=0.001, eta0=0.1, learning_rate=adaptive, penalty=l1; total time=   7.3s\n"
     ]
    },
    {
     "name": "stderr",
     "output_type": "stream",
     "text": [
      "/Users/johannessolibieda/Library/Python/3.9/lib/python/site-packages/sklearn/linear_model/_stochastic_gradient.py:1616: ConvergenceWarning: Maximum number of iteration reached before convergence. Consider increasing max_iter to improve the fit.\n",
      "  warnings.warn(\n",
      "/Users/johannessolibieda/Library/Python/3.9/lib/python/site-packages/sklearn/linear_model/_stochastic_gradient.py:1616: ConvergenceWarning: Maximum number of iteration reached before convergence. Consider increasing max_iter to improve the fit.\n",
      "  warnings.warn(\n"
     ]
    },
    {
     "name": "stdout",
     "output_type": "stream",
     "text": [
      "[CV] END alpha=0.001, eta0=0.1, learning_rate=adaptive, penalty=l1; total time=  15.8s\n",
      "[CV] END alpha=0.001, eta0=0.1, learning_rate=adaptive, penalty=l1; total time=  16.4s\n",
      "[CV] END alpha=0.001, eta0=1, learning_rate=constant, penalty=l2; total time=   0.1s\n",
      "[CV] END alpha=0.001, eta0=1, learning_rate=constant, penalty=l2; total time=   0.1s\n",
      "[CV] END alpha=0.001, eta0=1, learning_rate=constant, penalty=l2; total time=   0.1s\n",
      "[CV] END alpha=0.001, eta0=1, learning_rate=constant, penalty=l2; total time=   0.1s\n",
      "[CV] END alpha=0.001, eta0=1, learning_rate=constant, penalty=l2; total time=   0.1s\n",
      "[CV] END alpha=0.001, eta0=1, learning_rate=constant, penalty=l1; total time=   0.1s\n",
      "[CV] END alpha=0.001, eta0=1, learning_rate=constant, penalty=l1; total time=   0.2s\n",
      "[CV] END alpha=0.001, eta0=1, learning_rate=constant, penalty=l1; total time=   0.1s\n",
      "[CV] END alpha=0.001, eta0=1, learning_rate=constant, penalty=l1; total time=   0.1s\n",
      "[CV] END alpha=0.001, eta0=1, learning_rate=constant, penalty=l1; total time=   0.1s\n",
      "[CV] END alpha=0.001, eta0=1, learning_rate=constant, penalty=elasticnet; total time=   0.3s\n",
      "[CV] END alpha=0.001, eta0=1, learning_rate=constant, penalty=elasticnet; total time=   0.2s\n",
      "[CV] END alpha=0.001, eta0=1, learning_rate=constant, penalty=elasticnet; total time=   0.2s\n",
      "[CV] END alpha=0.001, eta0=1, learning_rate=constant, penalty=elasticnet; total time=   0.1s\n",
      "[CV] END alpha=0.001, eta0=0.1, learning_rate=adaptive, penalty=elasticnet; total time=   6.4s\n",
      "[CV] END alpha=0.001, eta0=1, learning_rate=constant, penalty=elasticnet; total time=   0.3s\n",
      "[CV] END alpha=0.001, eta0=1, learning_rate=optimal, penalty=l2; total time=   0.3s\n",
      "[CV] END alpha=0.001, eta0=1, learning_rate=optimal, penalty=l2; total time=   0.5s\n",
      "[CV] END alpha=0.001, eta0=0.1, learning_rate=adaptive, penalty=l1; total time=  16.0s\n"
     ]
    },
    {
     "name": "stderr",
     "output_type": "stream",
     "text": [
      "/Users/johannessolibieda/Library/Python/3.9/lib/python/site-packages/sklearn/linear_model/_stochastic_gradient.py:1616: ConvergenceWarning: Maximum number of iteration reached before convergence. Consider increasing max_iter to improve the fit.\n",
      "  warnings.warn(\n"
     ]
    },
    {
     "name": "stdout",
     "output_type": "stream",
     "text": [
      "[CV] END alpha=0.001, eta0=1, learning_rate=optimal, penalty=l2; total time=   0.6s\n",
      "[CV] END alpha=0.001, eta0=1, learning_rate=optimal, penalty=l2; total time=   0.4s\n",
      "[CV] END alpha=0.001, eta0=1, learning_rate=optimal, penalty=l1; total time=   0.6s\n",
      "[CV] END alpha=0.001, eta0=1, learning_rate=optimal, penalty=l1; total time=   0.9s\n",
      "[CV] END alpha=0.001, eta0=1, learning_rate=optimal, penalty=l1; total time=   1.6s\n",
      "[CV] END alpha=0.001, eta0=1, learning_rate=optimal, penalty=l1; total time=   0.6s\n",
      "[CV] END alpha=0.001, eta0=1, learning_rate=optimal, penalty=l1; total time=   0.7s\n",
      "[CV] END alpha=0.001, eta0=1, learning_rate=optimal, penalty=elasticnet; total time=   0.7s\n",
      "[CV] END alpha=0.001, eta0=1, learning_rate=optimal, penalty=elasticnet; total time=   0.8s\n",
      "[CV] END alpha=0.001, eta0=1, learning_rate=optimal, penalty=elasticnet; total time=   0.8s\n",
      "[CV] END alpha=0.001, eta0=1, learning_rate=optimal, penalty=elasticnet; total time=   0.7s\n",
      "[CV] END alpha=0.001, eta0=1, learning_rate=invscaling, penalty=l2; total time=   0.5s\n",
      "[CV] END alpha=0.001, eta0=1, learning_rate=optimal, penalty=elasticnet; total time=   1.0s\n",
      "[CV] END alpha=0.001, eta0=1, learning_rate=invscaling, penalty=l2; total time=   0.8s\n",
      "[CV] END alpha=0.001, eta0=1, learning_rate=optimal, penalty=l2; total time=   6.0s\n",
      "[CV] END alpha=0.001, eta0=1, learning_rate=invscaling, penalty=l2; total time=   1.2s\n",
      "[CV] END alpha=0.001, eta0=1, learning_rate=invscaling, penalty=l2; total time=   0.9s\n",
      "[CV] END alpha=0.001, eta0=1, learning_rate=invscaling, penalty=l2; total time=   0.9s\n"
     ]
    },
    {
     "name": "stderr",
     "output_type": "stream",
     "text": [
      "/Users/johannessolibieda/Library/Python/3.9/lib/python/site-packages/sklearn/linear_model/_stochastic_gradient.py:1616: ConvergenceWarning: Maximum number of iteration reached before convergence. Consider increasing max_iter to improve the fit.\n",
      "  warnings.warn(\n",
      "/Users/johannessolibieda/Library/Python/3.9/lib/python/site-packages/sklearn/linear_model/_stochastic_gradient.py:1616: ConvergenceWarning: Maximum number of iteration reached before convergence. Consider increasing max_iter to improve the fit.\n",
      "  warnings.warn(\n"
     ]
    },
    {
     "name": "stdout",
     "output_type": "stream",
     "text": [
      "[CV] END alpha=0.001, eta0=0.1, learning_rate=adaptive, penalty=l1; total time=  16.2s\n",
      "[CV] END alpha=0.001, eta0=0.1, learning_rate=adaptive, penalty=elasticnet; total time=  16.0s\n"
     ]
    },
    {
     "name": "stderr",
     "output_type": "stream",
     "text": [
      "/Users/johannessolibieda/Library/Python/3.9/lib/python/site-packages/sklearn/linear_model/_stochastic_gradient.py:1616: ConvergenceWarning: Maximum number of iteration reached before convergence. Consider increasing max_iter to improve the fit.\n",
      "  warnings.warn(\n"
     ]
    },
    {
     "name": "stdout",
     "output_type": "stream",
     "text": [
      "[CV] END alpha=0.001, eta0=0.1, learning_rate=adaptive, penalty=elasticnet; total time=  16.1s\n",
      "[CV] END alpha=0.001, eta0=1, learning_rate=invscaling, penalty=l1; total time=   1.0s\n",
      "[CV] END alpha=0.001, eta0=0.1, learning_rate=adaptive, penalty=elasticnet; total time=  16.3s\n"
     ]
    },
    {
     "name": "stderr",
     "output_type": "stream",
     "text": [
      "/Users/johannessolibieda/Library/Python/3.9/lib/python/site-packages/sklearn/linear_model/_stochastic_gradient.py:1616: ConvergenceWarning: Maximum number of iteration reached before convergence. Consider increasing max_iter to improve the fit.\n",
      "  warnings.warn(\n"
     ]
    },
    {
     "name": "stdout",
     "output_type": "stream",
     "text": [
      "[CV] END alpha=0.001, eta0=1, learning_rate=invscaling, penalty=l1; total time=   1.6s\n",
      "[CV] END alpha=0.001, eta0=1, learning_rate=invscaling, penalty=l1; total time=   1.7s\n",
      "[CV] END alpha=0.001, eta0=1, learning_rate=invscaling, penalty=elasticnet; total time=   1.3s\n",
      "[CV] END alpha=0.001, eta0=1, learning_rate=invscaling, penalty=elasticnet; total time=   1.7s\n",
      "[CV] END alpha=0.001, eta0=1, learning_rate=invscaling, penalty=l1; total time=   2.0s\n",
      "[CV] END alpha=0.001, eta0=1, learning_rate=invscaling, penalty=l1; total time=   1.9s\n",
      "[CV] END alpha=0.001, eta0=1, learning_rate=invscaling, penalty=elasticnet; total time=   1.7s\n",
      "[CV] END alpha=0.001, eta0=1, learning_rate=invscaling, penalty=elasticnet; total time=   2.2s\n",
      "[CV] END alpha=0.001, eta0=1, learning_rate=invscaling, penalty=elasticnet; total time=   1.8s\n"
     ]
    },
    {
     "name": "stderr",
     "output_type": "stream",
     "text": [
      "/Users/johannessolibieda/Library/Python/3.9/lib/python/site-packages/sklearn/linear_model/_stochastic_gradient.py:1616: ConvergenceWarning: Maximum number of iteration reached before convergence. Consider increasing max_iter to improve the fit.\n",
      "  warnings.warn(\n"
     ]
    },
    {
     "name": "stdout",
     "output_type": "stream",
     "text": [
      "[CV] END alpha=0.001, eta0=0.1, learning_rate=adaptive, penalty=elasticnet; total time=  16.1s\n",
      "[CV] END alpha=0.001, eta0=1, learning_rate=adaptive, penalty=l2; total time=   7.5s\n"
     ]
    },
    {
     "name": "stderr",
     "output_type": "stream",
     "text": [
      "/Users/johannessolibieda/Library/Python/3.9/lib/python/site-packages/sklearn/linear_model/_stochastic_gradient.py:1616: ConvergenceWarning: Maximum number of iteration reached before convergence. Consider increasing max_iter to improve the fit.\n",
      "  warnings.warn(\n"
     ]
    },
    {
     "name": "stdout",
     "output_type": "stream",
     "text": [
      "[CV] END alpha=0.001, eta0=1, learning_rate=adaptive, penalty=l2; total time=  10.9s\n"
     ]
    },
    {
     "name": "stderr",
     "output_type": "stream",
     "text": [
      "/Users/johannessolibieda/Library/Python/3.9/lib/python/site-packages/sklearn/linear_model/_stochastic_gradient.py:1616: ConvergenceWarning: Maximum number of iteration reached before convergence. Consider increasing max_iter to improve the fit.\n",
      "  warnings.warn(\n",
      "/Users/johannessolibieda/Library/Python/3.9/lib/python/site-packages/sklearn/linear_model/_stochastic_gradient.py:1616: ConvergenceWarning: Maximum number of iteration reached before convergence. Consider increasing max_iter to improve the fit.\n",
      "  warnings.warn(\n"
     ]
    },
    {
     "name": "stdout",
     "output_type": "stream",
     "text": [
      "[CV] END alpha=0.001, eta0=1, learning_rate=adaptive, penalty=l2; total time=  11.1s\n",
      "[CV] END alpha=0.001, eta0=1, learning_rate=adaptive, penalty=l2; total time=  11.3s\n"
     ]
    },
    {
     "name": "stderr",
     "output_type": "stream",
     "text": [
      "/Users/johannessolibieda/Library/Python/3.9/lib/python/site-packages/sklearn/linear_model/_stochastic_gradient.py:1616: ConvergenceWarning: Maximum number of iteration reached before convergence. Consider increasing max_iter to improve the fit.\n",
      "  warnings.warn(\n"
     ]
    },
    {
     "name": "stdout",
     "output_type": "stream",
     "text": [
      "[CV] END alpha=0.001, eta0=1, learning_rate=adaptive, penalty=l2; total time=  11.2s\n",
      "[CV] END alpha=0.001, eta0=1, learning_rate=adaptive, penalty=l1; total time=   6.1s\n"
     ]
    },
    {
     "name": "stderr",
     "output_type": "stream",
     "text": [
      "/Users/johannessolibieda/Library/Python/3.9/lib/python/site-packages/sklearn/linear_model/_stochastic_gradient.py:1616: ConvergenceWarning: Maximum number of iteration reached before convergence. Consider increasing max_iter to improve the fit.\n",
      "  warnings.warn(\n"
     ]
    },
    {
     "name": "stdout",
     "output_type": "stream",
     "text": [
      "[CV] END alpha=0.001, eta0=1, learning_rate=adaptive, penalty=l1; total time=  16.2s\n"
     ]
    },
    {
     "name": "stderr",
     "output_type": "stream",
     "text": [
      "/Users/johannessolibieda/Library/Python/3.9/lib/python/site-packages/sklearn/linear_model/_stochastic_gradient.py:1616: ConvergenceWarning: Maximum number of iteration reached before convergence. Consider increasing max_iter to improve the fit.\n",
      "  warnings.warn(\n"
     ]
    },
    {
     "name": "stdout",
     "output_type": "stream",
     "text": [
      "[CV] END alpha=0.001, eta0=1, learning_rate=adaptive, penalty=l1; total time=  16.6s\n",
      "[CV] END alpha=0.01, eta0=0.001, learning_rate=constant, penalty=l2; total time=   0.1s\n",
      "[CV] END alpha=0.01, eta0=0.001, learning_rate=constant, penalty=l2; total time=   0.1s\n",
      "[CV] END alpha=0.01, eta0=0.001, learning_rate=constant, penalty=l2; total time=   0.1s\n",
      "[CV] END alpha=0.01, eta0=0.001, learning_rate=constant, penalty=l2; total time=   0.1s\n",
      "[CV] END alpha=0.01, eta0=0.001, learning_rate=constant, penalty=l2; total time=   0.1s\n",
      "[CV] END alpha=0.01, eta0=0.001, learning_rate=constant, penalty=l1; total time=   0.1s\n",
      "[CV] END alpha=0.001, eta0=1, learning_rate=adaptive, penalty=elasticnet; total time=   5.1s\n",
      "[CV] END alpha=0.01, eta0=0.001, learning_rate=constant, penalty=l1; total time=   0.4s\n",
      "[CV] END alpha=0.01, eta0=0.001, learning_rate=constant, penalty=l1; total time=   0.2s\n",
      "[CV] END alpha=0.01, eta0=0.001, learning_rate=constant, penalty=l1; total time=   0.2s\n",
      "[CV] END alpha=0.01, eta0=0.001, learning_rate=constant, penalty=l1; total time=   0.3s\n",
      "[CV] END alpha=0.01, eta0=0.001, learning_rate=constant, penalty=elasticnet; total time=   0.1s\n",
      "[CV] END alpha=0.01, eta0=0.001, learning_rate=constant, penalty=elasticnet; total time=   0.1s\n",
      "[CV] END alpha=0.01, eta0=0.001, learning_rate=constant, penalty=elasticnet; total time=   0.2s\n",
      "[CV] END alpha=0.01, eta0=0.001, learning_rate=constant, penalty=elasticnet; total time=   0.2s\n"
     ]
    },
    {
     "name": "stderr",
     "output_type": "stream",
     "text": [
      "/Users/johannessolibieda/Library/Python/3.9/lib/python/site-packages/sklearn/linear_model/_stochastic_gradient.py:1616: ConvergenceWarning: Maximum number of iteration reached before convergence. Consider increasing max_iter to improve the fit.\n",
      "  warnings.warn(\n"
     ]
    },
    {
     "name": "stdout",
     "output_type": "stream",
     "text": [
      "[CV] END alpha=0.001, eta0=1, learning_rate=adaptive, penalty=l1; total time=  15.9s\n",
      "[CV] END alpha=0.01, eta0=0.001, learning_rate=optimal, penalty=l2; total time=   0.2s\n",
      "[CV] END alpha=0.01, eta0=0.001, learning_rate=constant, penalty=elasticnet; total time=   0.5s\n",
      "[CV] END alpha=0.01, eta0=0.001, learning_rate=optimal, penalty=l2; total time=   0.2s\n",
      "[CV] END alpha=0.01, eta0=0.001, learning_rate=optimal, penalty=l2; total time=   0.1s\n"
     ]
    },
    {
     "name": "stderr",
     "output_type": "stream",
     "text": [
      "/Users/johannessolibieda/Library/Python/3.9/lib/python/site-packages/sklearn/linear_model/_stochastic_gradient.py:1616: ConvergenceWarning: Maximum number of iteration reached before convergence. Consider increasing max_iter to improve the fit.\n",
      "  warnings.warn(\n"
     ]
    },
    {
     "name": "stdout",
     "output_type": "stream",
     "text": [
      "[CV] END alpha=0.001, eta0=1, learning_rate=adaptive, penalty=l1; total time=  16.1s\n"
     ]
    },
    {
     "name": "stderr",
     "output_type": "stream",
     "text": [
      "/Users/johannessolibieda/Library/Python/3.9/lib/python/site-packages/sklearn/linear_model/_stochastic_gradient.py:1616: ConvergenceWarning: Maximum number of iteration reached before convergence. Consider increasing max_iter to improve the fit.\n",
      "  warnings.warn(\n",
      "/Users/johannessolibieda/Library/Python/3.9/lib/python/site-packages/sklearn/linear_model/_stochastic_gradient.py:1616: ConvergenceWarning: Maximum number of iteration reached before convergence. Consider increasing max_iter to improve the fit.\n",
      "  warnings.warn(\n"
     ]
    },
    {
     "name": "stdout",
     "output_type": "stream",
     "text": [
      "[CV] END alpha=0.001, eta0=1, learning_rate=adaptive, penalty=elasticnet; total time=  16.3s\n",
      "[CV] END alpha=0.001, eta0=1, learning_rate=adaptive, penalty=elasticnet; total time=  16.2s\n"
     ]
    },
    {
     "name": "stderr",
     "output_type": "stream",
     "text": [
      "/Users/johannessolibieda/Library/Python/3.9/lib/python/site-packages/sklearn/linear_model/_stochastic_gradient.py:1616: ConvergenceWarning: Maximum number of iteration reached before convergence. Consider increasing max_iter to improve the fit.\n",
      "  warnings.warn(\n"
     ]
    },
    {
     "name": "stdout",
     "output_type": "stream",
     "text": [
      "[CV] END alpha=0.001, eta0=1, learning_rate=adaptive, penalty=elasticnet; total time=  16.2s\n"
     ]
    },
    {
     "name": "stderr",
     "output_type": "stream",
     "text": [
      "/Users/johannessolibieda/Library/Python/3.9/lib/python/site-packages/sklearn/linear_model/_stochastic_gradient.py:1616: ConvergenceWarning: Maximum number of iteration reached before convergence. Consider increasing max_iter to improve the fit.\n",
      "  warnings.warn(\n"
     ]
    },
    {
     "name": "stdout",
     "output_type": "stream",
     "text": [
      "[CV] END alpha=0.01, eta0=0.001, learning_rate=optimal, penalty=l2; total time=  11.0s\n"
     ]
    },
    {
     "name": "stderr",
     "output_type": "stream",
     "text": [
      "/Users/johannessolibieda/Library/Python/3.9/lib/python/site-packages/sklearn/linear_model/_stochastic_gradient.py:1616: ConvergenceWarning: Maximum number of iteration reached before convergence. Consider increasing max_iter to improve the fit.\n",
      "  warnings.warn(\n"
     ]
    },
    {
     "name": "stdout",
     "output_type": "stream",
     "text": [
      "[CV] END alpha=0.01, eta0=0.001, learning_rate=optimal, penalty=l2; total time=  11.1s\n",
      "[CV] END alpha=0.01, eta0=0.001, learning_rate=optimal, penalty=elasticnet; total time=   0.5s\n",
      "[CV] END alpha=0.01, eta0=0.001, learning_rate=optimal, penalty=elasticnet; total time=   0.4s\n"
     ]
    },
    {
     "name": "stderr",
     "output_type": "stream",
     "text": [
      "/Users/johannessolibieda/Library/Python/3.9/lib/python/site-packages/sklearn/linear_model/_stochastic_gradient.py:1616: ConvergenceWarning: Maximum number of iteration reached before convergence. Consider increasing max_iter to improve the fit.\n",
      "  warnings.warn(\n"
     ]
    },
    {
     "name": "stdout",
     "output_type": "stream",
     "text": [
      "[CV] END alpha=0.001, eta0=1, learning_rate=adaptive, penalty=elasticnet; total time=  16.1s\n",
      "[CV] END alpha=0.01, eta0=0.001, learning_rate=optimal, penalty=elasticnet; total time=   0.3s\n",
      "[CV] END alpha=0.01, eta0=0.001, learning_rate=invscaling, penalty=l2; total time=   0.5s\n",
      "[CV] END alpha=0.01, eta0=0.001, learning_rate=invscaling, penalty=l2; total time=   0.4s\n",
      "[CV] END alpha=0.01, eta0=0.001, learning_rate=invscaling, penalty=l2; total time=   0.5s\n",
      "[CV] END alpha=0.01, eta0=0.001, learning_rate=invscaling, penalty=l2; total time=   0.7s\n"
     ]
    },
    {
     "name": "stderr",
     "output_type": "stream",
     "text": [
      "/Users/johannessolibieda/Library/Python/3.9/lib/python/site-packages/sklearn/linear_model/_stochastic_gradient.py:1616: ConvergenceWarning: Maximum number of iteration reached before convergence. Consider increasing max_iter to improve the fit.\n",
      "  warnings.warn(\n"
     ]
    },
    {
     "name": "stdout",
     "output_type": "stream",
     "text": [
      "[CV] END alpha=0.01, eta0=0.001, learning_rate=optimal, penalty=l1; total time=  16.1s\n",
      "[CV] END alpha=0.01, eta0=0.001, learning_rate=invscaling, penalty=l2; total time=   0.4s\n",
      "[CV] END alpha=0.01, eta0=0.001, learning_rate=invscaling, penalty=l1; total time=   0.9s\n",
      "[CV] END alpha=0.01, eta0=0.001, learning_rate=invscaling, penalty=l1; total time=   1.1s\n",
      "[CV] END alpha=0.01, eta0=0.001, learning_rate=invscaling, penalty=l1; total time=   0.9s\n",
      "[CV] END alpha=0.01, eta0=0.001, learning_rate=invscaling, penalty=l1; total time=   0.8s\n",
      "[CV] END alpha=0.01, eta0=0.001, learning_rate=invscaling, penalty=l1; total time=   0.7s\n",
      "[CV] END alpha=0.01, eta0=0.001, learning_rate=invscaling, penalty=elasticnet; total time=   0.8s\n",
      "[CV] END alpha=0.01, eta0=0.001, learning_rate=invscaling, penalty=elasticnet; total time=   0.5s\n",
      "[CV] END alpha=0.01, eta0=0.001, learning_rate=invscaling, penalty=elasticnet; total time=   0.6s\n",
      "[CV] END alpha=0.01, eta0=0.001, learning_rate=invscaling, penalty=elasticnet; total time=   0.9s\n",
      "[CV] END alpha=0.01, eta0=0.001, learning_rate=invscaling, penalty=elasticnet; total time=   0.7s\n",
      "[CV] END alpha=0.01, eta0=0.001, learning_rate=adaptive, penalty=l2; total time=   0.3s\n",
      "[CV] END alpha=0.01, eta0=0.001, learning_rate=adaptive, penalty=l2; total time=   0.4s\n",
      "[CV] END alpha=0.01, eta0=0.001, learning_rate=adaptive, penalty=l2; total time=   0.4s\n",
      "[CV] END alpha=0.01, eta0=0.001, learning_rate=adaptive, penalty=l2; total time=   0.4s\n",
      "[CV] END alpha=0.01, eta0=0.001, learning_rate=adaptive, penalty=l2; total time=   0.7s\n",
      "[CV] END alpha=0.01, eta0=0.001, learning_rate=adaptive, penalty=l1; total time=   0.6s\n",
      "[CV] END alpha=0.01, eta0=0.001, learning_rate=adaptive, penalty=l1; total time=   0.7s\n",
      "[CV] END alpha=0.01, eta0=0.001, learning_rate=adaptive, penalty=l1; total time=   1.3s\n"
     ]
    },
    {
     "name": "stderr",
     "output_type": "stream",
     "text": [
      "/Users/johannessolibieda/Library/Python/3.9/lib/python/site-packages/sklearn/linear_model/_stochastic_gradient.py:1616: ConvergenceWarning: Maximum number of iteration reached before convergence. Consider increasing max_iter to improve the fit.\n",
      "  warnings.warn(\n"
     ]
    },
    {
     "name": "stdout",
     "output_type": "stream",
     "text": [
      "[CV] END alpha=0.01, eta0=0.001, learning_rate=optimal, penalty=l1; total time=  16.0s\n"
     ]
    },
    {
     "name": "stderr",
     "output_type": "stream",
     "text": [
      "/Users/johannessolibieda/Library/Python/3.9/lib/python/site-packages/sklearn/linear_model/_stochastic_gradient.py:1616: ConvergenceWarning: Maximum number of iteration reached before convergence. Consider increasing max_iter to improve the fit.\n",
      "  warnings.warn(\n"
     ]
    },
    {
     "name": "stdout",
     "output_type": "stream",
     "text": [
      "[CV] END alpha=0.01, eta0=0.001, learning_rate=optimal, penalty=l1; total time=  15.8s\n",
      "[CV] END alpha=0.01, eta0=0.001, learning_rate=adaptive, penalty=elasticnet; total time=   0.6s\n"
     ]
    },
    {
     "name": "stderr",
     "output_type": "stream",
     "text": [
      "/Users/johannessolibieda/Library/Python/3.9/lib/python/site-packages/sklearn/linear_model/_stochastic_gradient.py:1616: ConvergenceWarning: Maximum number of iteration reached before convergence. Consider increasing max_iter to improve the fit.\n",
      "  warnings.warn(\n",
      "/Users/johannessolibieda/Library/Python/3.9/lib/python/site-packages/sklearn/linear_model/_stochastic_gradient.py:1616: ConvergenceWarning: Maximum number of iteration reached before convergence. Consider increasing max_iter to improve the fit.\n",
      "  warnings.warn(\n"
     ]
    },
    {
     "name": "stdout",
     "output_type": "stream",
     "text": [
      "[CV] END alpha=0.01, eta0=0.001, learning_rate=optimal, penalty=l1; total time=  16.1s\n",
      "[CV] END alpha=0.01, eta0=0.001, learning_rate=optimal, penalty=l1; total time=  15.9s\n",
      "[CV] END alpha=0.01, eta0=0.001, learning_rate=adaptive, penalty=elasticnet; total time=   0.6s\n",
      "[CV] END alpha=0.01, eta0=0.001, learning_rate=adaptive, penalty=l1; total time=   1.3s\n",
      "[CV] END alpha=0.01, eta0=0.01, learning_rate=constant, penalty=l2; total time=   0.1s\n",
      "[CV] END alpha=0.01, eta0=0.01, learning_rate=constant, penalty=l2; total time=   0.1s\n",
      "[CV] END alpha=0.01, eta0=0.01, learning_rate=constant, penalty=l2; total time=   0.1s\n",
      "[CV] END alpha=0.01, eta0=0.01, learning_rate=constant, penalty=l2; total time=   0.1s\n",
      "[CV] END alpha=0.01, eta0=0.01, learning_rate=constant, penalty=l2; total time=   0.1s\n",
      "[CV] END alpha=0.01, eta0=0.001, learning_rate=adaptive, penalty=elasticnet; total time=   0.6s\n",
      "[CV] END alpha=0.01, eta0=0.01, learning_rate=constant, penalty=l1; total time=   0.1s\n",
      "[CV] END alpha=0.01, eta0=0.01, learning_rate=constant, penalty=l1; total time=   0.1s\n",
      "[CV] END alpha=0.01, eta0=0.01, learning_rate=constant, penalty=l1; total time=   0.1s\n",
      "[CV] END alpha=0.01, eta0=0.001, learning_rate=adaptive, penalty=l1; total time=   1.6s\n",
      "[CV] END alpha=0.01, eta0=0.001, learning_rate=adaptive, penalty=elasticnet; total time=   0.6s\n",
      "[CV] END alpha=0.01, eta0=0.01, learning_rate=constant, penalty=l1; total time=   0.1s\n",
      "[CV] END alpha=0.01, eta0=0.01, learning_rate=constant, penalty=elasticnet; total time=   0.1s\n",
      "[CV] END alpha=0.01, eta0=0.01, learning_rate=constant, penalty=elasticnet; total time=   0.1s\n",
      "[CV] END alpha=0.01, eta0=0.01, learning_rate=constant, penalty=elasticnet; total time=   0.2s\n",
      "[CV] END alpha=0.01, eta0=0.01, learning_rate=constant, penalty=elasticnet; total time=   0.1s\n",
      "[CV] END alpha=0.01, eta0=0.01, learning_rate=constant, penalty=l1; total time=   0.2s\n",
      "[CV] END alpha=0.01, eta0=0.01, learning_rate=constant, penalty=elasticnet; total time=   0.1s\n",
      "[CV] END alpha=0.01, eta0=0.001, learning_rate=adaptive, penalty=elasticnet; total time=   1.0s\n",
      "[CV] END alpha=0.01, eta0=0.01, learning_rate=optimal, penalty=l2; total time=   0.2s\n",
      "[CV] END alpha=0.01, eta0=0.01, learning_rate=optimal, penalty=l2; total time=   0.2s\n",
      "[CV] END alpha=0.01, eta0=0.01, learning_rate=optimal, penalty=l2; total time=   0.2s\n",
      "[CV] END alpha=0.01, eta0=0.01, learning_rate=optimal, penalty=l2; total time=   0.2s\n"
     ]
    },
    {
     "name": "stderr",
     "output_type": "stream",
     "text": [
      "/Users/johannessolibieda/Library/Python/3.9/lib/python/site-packages/sklearn/linear_model/_stochastic_gradient.py:1616: ConvergenceWarning: Maximum number of iteration reached before convergence. Consider increasing max_iter to improve the fit.\n",
      "  warnings.warn(\n"
     ]
    },
    {
     "name": "stdout",
     "output_type": "stream",
     "text": [
      "[CV] END alpha=0.01, eta0=0.001, learning_rate=optimal, penalty=elasticnet; total time=  16.2s\n"
     ]
    },
    {
     "name": "stderr",
     "output_type": "stream",
     "text": [
      "/Users/johannessolibieda/Library/Python/3.9/lib/python/site-packages/sklearn/linear_model/_stochastic_gradient.py:1616: ConvergenceWarning: Maximum number of iteration reached before convergence. Consider increasing max_iter to improve the fit.\n",
      "  warnings.warn(\n"
     ]
    },
    {
     "name": "stdout",
     "output_type": "stream",
     "text": [
      "[CV] END alpha=0.01, eta0=0.001, learning_rate=optimal, penalty=elasticnet; total time=  16.2s\n",
      "[CV] END alpha=0.01, eta0=0.01, learning_rate=optimal, penalty=elasticnet; total time=   0.5s\n",
      "[CV] END alpha=0.01, eta0=0.01, learning_rate=optimal, penalty=elasticnet; total time=   0.4s\n"
     ]
    },
    {
     "name": "stderr",
     "output_type": "stream",
     "text": [
      "/Users/johannessolibieda/Library/Python/3.9/lib/python/site-packages/sklearn/linear_model/_stochastic_gradient.py:1616: ConvergenceWarning: Maximum number of iteration reached before convergence. Consider increasing max_iter to improve the fit.\n",
      "  warnings.warn(\n"
     ]
    },
    {
     "name": "stdout",
     "output_type": "stream",
     "text": [
      "[CV] END alpha=0.01, eta0=0.01, learning_rate=optimal, penalty=l2; total time=  10.9s\n",
      "[CV] END alpha=0.01, eta0=0.01, learning_rate=optimal, penalty=elasticnet; total time=   0.2s\n",
      "[CV] END alpha=0.01, eta0=0.01, learning_rate=invscaling, penalty=l2; total time=   0.1s\n",
      "[CV] END alpha=0.01, eta0=0.01, learning_rate=invscaling, penalty=l2; total time=   0.1s\n",
      "[CV] END alpha=0.01, eta0=0.01, learning_rate=invscaling, penalty=l2; total time=   0.1s\n",
      "[CV] END alpha=0.01, eta0=0.01, learning_rate=invscaling, penalty=l2; total time=   0.4s\n",
      "[CV] END alpha=0.01, eta0=0.01, learning_rate=invscaling, penalty=l2; total time=   0.1s\n",
      "[CV] END alpha=0.01, eta0=0.01, learning_rate=invscaling, penalty=l1; total time=   0.2s\n",
      "[CV] END alpha=0.01, eta0=0.01, learning_rate=invscaling, penalty=l1; total time=   0.6s\n",
      "[CV] END alpha=0.01, eta0=0.01, learning_rate=invscaling, penalty=l1; total time=   0.7s\n",
      "[CV] END alpha=0.01, eta0=0.01, learning_rate=invscaling, penalty=l1; total time=   0.6s\n",
      "[CV] END alpha=0.01, eta0=0.01, learning_rate=invscaling, penalty=l1; total time=   0.2s\n",
      "[CV] END alpha=0.01, eta0=0.01, learning_rate=invscaling, penalty=elasticnet; total time=   0.1s\n",
      "[CV] END alpha=0.01, eta0=0.01, learning_rate=invscaling, penalty=elasticnet; total time=   0.1s\n",
      "[CV] END alpha=0.01, eta0=0.01, learning_rate=invscaling, penalty=elasticnet; total time=   0.2s\n",
      "[CV] END alpha=0.01, eta0=0.01, learning_rate=invscaling, penalty=elasticnet; total time=   0.5s\n",
      "[CV] END alpha=0.01, eta0=0.01, learning_rate=invscaling, penalty=elasticnet; total time=   0.1s\n"
     ]
    },
    {
     "name": "stderr",
     "output_type": "stream",
     "text": [
      "/Users/johannessolibieda/Library/Python/3.9/lib/python/site-packages/sklearn/linear_model/_stochastic_gradient.py:1616: ConvergenceWarning: Maximum number of iteration reached before convergence. Consider increasing max_iter to improve the fit.\n",
      "  warnings.warn(\n",
      "/Users/johannessolibieda/Library/Python/3.9/lib/python/site-packages/sklearn/linear_model/_stochastic_gradient.py:1616: ConvergenceWarning: Maximum number of iteration reached before convergence. Consider increasing max_iter to improve the fit.\n",
      "  warnings.warn(\n"
     ]
    },
    {
     "name": "stdout",
     "output_type": "stream",
     "text": [
      "[CV] END alpha=0.01, eta0=0.01, learning_rate=optimal, penalty=l1; total time=  15.9s\n",
      "[CV] END alpha=0.01, eta0=0.01, learning_rate=optimal, penalty=l1; total time=  15.9s\n"
     ]
    },
    {
     "name": "stderr",
     "output_type": "stream",
     "text": [
      "/Users/johannessolibieda/Library/Python/3.9/lib/python/site-packages/sklearn/linear_model/_stochastic_gradient.py:1616: ConvergenceWarning: Maximum number of iteration reached before convergence. Consider increasing max_iter to improve the fit.\n",
      "  warnings.warn(\n",
      "/Users/johannessolibieda/Library/Python/3.9/lib/python/site-packages/sklearn/linear_model/_stochastic_gradient.py:1616: ConvergenceWarning: Maximum number of iteration reached before convergence. Consider increasing max_iter to improve the fit.\n",
      "  warnings.warn(\n"
     ]
    },
    {
     "name": "stdout",
     "output_type": "stream",
     "text": [
      "[CV] END alpha=0.01, eta0=0.01, learning_rate=optimal, penalty=l1; total time=  16.1s\n",
      "[CV] END alpha=0.01, eta0=0.01, learning_rate=optimal, penalty=l1; total time=  16.0s\n"
     ]
    },
    {
     "name": "stderr",
     "output_type": "stream",
     "text": [
      "/Users/johannessolibieda/Library/Python/3.9/lib/python/site-packages/sklearn/linear_model/_stochastic_gradient.py:1616: ConvergenceWarning: Maximum number of iteration reached before convergence. Consider increasing max_iter to improve the fit.\n",
      "  warnings.warn(\n"
     ]
    },
    {
     "name": "stdout",
     "output_type": "stream",
     "text": [
      "[CV] END alpha=0.01, eta0=0.01, learning_rate=optimal, penalty=l1; total time=  16.3s\n"
     ]
    },
    {
     "name": "stderr",
     "output_type": "stream",
     "text": [
      "/Users/johannessolibieda/Library/Python/3.9/lib/python/site-packages/sklearn/linear_model/_stochastic_gradient.py:1616: ConvergenceWarning: Maximum number of iteration reached before convergence. Consider increasing max_iter to improve the fit.\n",
      "  warnings.warn(\n"
     ]
    },
    {
     "name": "stdout",
     "output_type": "stream",
     "text": [
      "[CV] END alpha=0.01, eta0=0.01, learning_rate=optimal, penalty=elasticnet; total time=  15.9s\n",
      "[CV] END alpha=0.01, eta0=0.01, learning_rate=adaptive, penalty=l2; total time=   2.4s\n"
     ]
    },
    {
     "name": "stderr",
     "output_type": "stream",
     "text": [
      "/Users/johannessolibieda/Library/Python/3.9/lib/python/site-packages/sklearn/linear_model/_stochastic_gradient.py:1616: ConvergenceWarning: Maximum number of iteration reached before convergence. Consider increasing max_iter to improve the fit.\n",
      "  warnings.warn(\n"
     ]
    },
    {
     "name": "stdout",
     "output_type": "stream",
     "text": [
      "[CV] END alpha=0.01, eta0=0.01, learning_rate=optimal, penalty=elasticnet; total time=  16.0s\n",
      "[CV] END alpha=0.01, eta0=0.01, learning_rate=adaptive, penalty=l2; total time=  10.8s\n"
     ]
    },
    {
     "name": "stderr",
     "output_type": "stream",
     "text": [
      "/Users/johannessolibieda/Library/Python/3.9/lib/python/site-packages/sklearn/linear_model/_stochastic_gradient.py:1616: ConvergenceWarning: Maximum number of iteration reached before convergence. Consider increasing max_iter to improve the fit.\n",
      "  warnings.warn(\n",
      "/Users/johannessolibieda/Library/Python/3.9/lib/python/site-packages/sklearn/linear_model/_stochastic_gradient.py:1616: ConvergenceWarning: Maximum number of iteration reached before convergence. Consider increasing max_iter to improve the fit.\n",
      "  warnings.warn(\n"
     ]
    },
    {
     "name": "stdout",
     "output_type": "stream",
     "text": [
      "[CV] END alpha=0.01, eta0=0.01, learning_rate=adaptive, penalty=l2; total time=  11.1s\n",
      "[CV] END alpha=0.01, eta0=0.01, learning_rate=adaptive, penalty=l2; total time=  11.2s\n"
     ]
    },
    {
     "name": "stderr",
     "output_type": "stream",
     "text": [
      "/Users/johannessolibieda/Library/Python/3.9/lib/python/site-packages/sklearn/linear_model/_stochastic_gradient.py:1616: ConvergenceWarning: Maximum number of iteration reached before convergence. Consider increasing max_iter to improve the fit.\n",
      "  warnings.warn(\n"
     ]
    },
    {
     "name": "stdout",
     "output_type": "stream",
     "text": [
      "[CV] END alpha=0.01, eta0=0.01, learning_rate=adaptive, penalty=l2; total time=  11.2s\n",
      "[CV] END alpha=0.01, eta0=0.01, learning_rate=adaptive, penalty=l1; total time=  11.5s\n"
     ]
    },
    {
     "name": "stderr",
     "output_type": "stream",
     "text": [
      "/Users/johannessolibieda/Library/Python/3.9/lib/python/site-packages/sklearn/linear_model/_stochastic_gradient.py:1616: ConvergenceWarning: Maximum number of iteration reached before convergence. Consider increasing max_iter to improve the fit.\n",
      "  warnings.warn(\n"
     ]
    },
    {
     "name": "stdout",
     "output_type": "stream",
     "text": [
      "[CV] END alpha=0.01, eta0=0.01, learning_rate=adaptive, penalty=l1; total time=  16.3s\n"
     ]
    },
    {
     "name": "stderr",
     "output_type": "stream",
     "text": [
      "/Users/johannessolibieda/Library/Python/3.9/lib/python/site-packages/sklearn/linear_model/_stochastic_gradient.py:1616: ConvergenceWarning: Maximum number of iteration reached before convergence. Consider increasing max_iter to improve the fit.\n",
      "  warnings.warn(\n",
      "/Users/johannessolibieda/Library/Python/3.9/lib/python/site-packages/sklearn/linear_model/_stochastic_gradient.py:1616: ConvergenceWarning: Maximum number of iteration reached before convergence. Consider increasing max_iter to improve the fit.\n",
      "  warnings.warn(\n"
     ]
    },
    {
     "name": "stdout",
     "output_type": "stream",
     "text": [
      "[CV] END alpha=0.01, eta0=0.01, learning_rate=adaptive, penalty=l1; total time=  16.2s\n",
      "[CV] END alpha=0.01, eta0=0.1, learning_rate=constant, penalty=l2; total time=   0.1s\n",
      "[CV] END alpha=0.01, eta0=0.01, learning_rate=adaptive, penalty=l1; total time=  15.9s\n",
      "[CV] END alpha=0.01, eta0=0.1, learning_rate=constant, penalty=l2; total time=   0.1s\n",
      "[CV] END alpha=0.01, eta0=0.1, learning_rate=constant, penalty=l2; total time=   0.2s\n",
      "[CV] END alpha=0.01, eta0=0.1, learning_rate=constant, penalty=l2; total time=   0.1s\n",
      "[CV] END alpha=0.01, eta0=0.1, learning_rate=constant, penalty=l2; total time=   0.1s\n",
      "[CV] END alpha=0.01, eta0=0.1, learning_rate=constant, penalty=l1; total time=   0.1s\n",
      "[CV] END alpha=0.01, eta0=0.1, learning_rate=constant, penalty=l1; total time=   0.2s\n",
      "[CV] END alpha=0.01, eta0=0.1, learning_rate=constant, penalty=l1; total time=   0.1s\n",
      "[CV] END alpha=0.01, eta0=0.1, learning_rate=constant, penalty=l1; total time=   0.2s\n",
      "[CV] END alpha=0.01, eta0=0.1, learning_rate=constant, penalty=l1; total time=   0.2s\n",
      "[CV] END alpha=0.01, eta0=0.1, learning_rate=constant, penalty=elasticnet; total time=   0.2s\n",
      "[CV] END alpha=0.01, eta0=0.1, learning_rate=constant, penalty=elasticnet; total time=   0.2s\n",
      "[CV] END alpha=0.01, eta0=0.1, learning_rate=constant, penalty=elasticnet; total time=   0.2s\n",
      "[CV] END alpha=0.01, eta0=0.1, learning_rate=constant, penalty=elasticnet; total time=   0.1s\n",
      "[CV] END alpha=0.01, eta0=0.1, learning_rate=constant, penalty=elasticnet; total time=   0.2s\n",
      "[CV] END alpha=0.01, eta0=0.1, learning_rate=optimal, penalty=l2; total time=   0.3s\n",
      "[CV] END alpha=0.01, eta0=0.1, learning_rate=optimal, penalty=l2; total time=   0.3s\n",
      "[CV] END alpha=0.01, eta0=0.1, learning_rate=optimal, penalty=l2; total time=   0.3s\n",
      "[CV] END alpha=0.01, eta0=0.01, learning_rate=adaptive, penalty=elasticnet; total time=   4.5s\n",
      "[CV] END alpha=0.01, eta0=0.1, learning_rate=optimal, penalty=l2; total time=   0.2s\n"
     ]
    },
    {
     "name": "stderr",
     "output_type": "stream",
     "text": [
      "/Users/johannessolibieda/Library/Python/3.9/lib/python/site-packages/sklearn/linear_model/_stochastic_gradient.py:1616: ConvergenceWarning: Maximum number of iteration reached before convergence. Consider increasing max_iter to improve the fit.\n",
      "  warnings.warn(\n"
     ]
    },
    {
     "name": "stdout",
     "output_type": "stream",
     "text": [
      "[CV] END alpha=0.01, eta0=0.01, learning_rate=adaptive, penalty=l1; total time=  16.5s\n"
     ]
    },
    {
     "name": "stderr",
     "output_type": "stream",
     "text": [
      "/Users/johannessolibieda/Library/Python/3.9/lib/python/site-packages/sklearn/linear_model/_stochastic_gradient.py:1616: ConvergenceWarning: Maximum number of iteration reached before convergence. Consider increasing max_iter to improve the fit.\n",
      "  warnings.warn(\n"
     ]
    },
    {
     "name": "stdout",
     "output_type": "stream",
     "text": [
      "[CV] END alpha=0.01, eta0=0.01, learning_rate=adaptive, penalty=elasticnet; total time=  16.9s\n",
      "[CV] END alpha=0.01, eta0=0.01, learning_rate=adaptive, penalty=elasticnet; total time=  17.1s\n"
     ]
    },
    {
     "name": "stderr",
     "output_type": "stream",
     "text": [
      "/Users/johannessolibieda/Library/Python/3.9/lib/python/site-packages/sklearn/linear_model/_stochastic_gradient.py:1616: ConvergenceWarning: Maximum number of iteration reached before convergence. Consider increasing max_iter to improve the fit.\n",
      "  warnings.warn(\n",
      "/Users/johannessolibieda/Library/Python/3.9/lib/python/site-packages/sklearn/linear_model/_stochastic_gradient.py:1616: ConvergenceWarning: Maximum number of iteration reached before convergence. Consider increasing max_iter to improve the fit.\n",
      "  warnings.warn(\n"
     ]
    },
    {
     "name": "stdout",
     "output_type": "stream",
     "text": [
      "[CV] END alpha=0.01, eta0=0.01, learning_rate=adaptive, penalty=elasticnet; total time=  17.1s\n",
      "[CV] END alpha=0.01, eta0=0.1, learning_rate=optimal, penalty=elasticnet; total time=   0.5s\n"
     ]
    },
    {
     "name": "stderr",
     "output_type": "stream",
     "text": [
      "/Users/johannessolibieda/Library/Python/3.9/lib/python/site-packages/sklearn/linear_model/_stochastic_gradient.py:1616: ConvergenceWarning: Maximum number of iteration reached before convergence. Consider increasing max_iter to improve the fit.\n",
      "  warnings.warn(\n"
     ]
    },
    {
     "name": "stdout",
     "output_type": "stream",
     "text": [
      "[CV] END alpha=0.01, eta0=0.1, learning_rate=optimal, penalty=l2; total time=  11.6s\n",
      "[CV] END alpha=0.01, eta0=0.1, learning_rate=optimal, penalty=elasticnet; total time=   0.4s\n"
     ]
    },
    {
     "name": "stderr",
     "output_type": "stream",
     "text": [
      "/Users/johannessolibieda/Library/Python/3.9/lib/python/site-packages/sklearn/linear_model/_stochastic_gradient.py:1616: ConvergenceWarning: Maximum number of iteration reached before convergence. Consider increasing max_iter to improve the fit.\n",
      "  warnings.warn(\n"
     ]
    },
    {
     "name": "stdout",
     "output_type": "stream",
     "text": [
      "[CV] END alpha=0.01, eta0=0.01, learning_rate=adaptive, penalty=elasticnet; total time=  16.9s\n",
      "[CV] END alpha=0.01, eta0=0.1, learning_rate=optimal, penalty=elasticnet; total time=   0.5s\n",
      "[CV] END alpha=0.01, eta0=0.1, learning_rate=invscaling, penalty=l2; total time=   0.3s\n",
      "[CV] END alpha=0.01, eta0=0.1, learning_rate=invscaling, penalty=l2; total time=   0.4s\n",
      "[CV] END alpha=0.01, eta0=0.1, learning_rate=invscaling, penalty=l2; total time=   0.6s\n",
      "[CV] END alpha=0.01, eta0=0.1, learning_rate=invscaling, penalty=l2; total time=   0.5s\n",
      "[CV] END alpha=0.01, eta0=0.1, learning_rate=invscaling, penalty=l2; total time=   0.6s\n"
     ]
    },
    {
     "name": "stderr",
     "output_type": "stream",
     "text": [
      "/Users/johannessolibieda/Library/Python/3.9/lib/python/site-packages/sklearn/linear_model/_stochastic_gradient.py:1616: ConvergenceWarning: Maximum number of iteration reached before convergence. Consider increasing max_iter to improve the fit.\n",
      "  warnings.warn(\n",
      "/Users/johannessolibieda/Library/Python/3.9/lib/python/site-packages/sklearn/linear_model/_stochastic_gradient.py:1616: ConvergenceWarning: Maximum number of iteration reached before convergence. Consider increasing max_iter to improve the fit.\n",
      "  warnings.warn(\n"
     ]
    },
    {
     "name": "stdout",
     "output_type": "stream",
     "text": [
      "[CV] END alpha=0.01, eta0=0.1, learning_rate=optimal, penalty=l1; total time=  16.5s\n",
      "[CV] END alpha=0.01, eta0=0.1, learning_rate=optimal, penalty=l1; total time=  16.5s\n",
      "[CV] END alpha=0.01, eta0=0.1, learning_rate=invscaling, penalty=l1; total time=   0.5s\n",
      "[CV] END alpha=0.01, eta0=0.1, learning_rate=invscaling, penalty=l1; total time=   0.6s\n",
      "[CV] END alpha=0.01, eta0=0.1, learning_rate=invscaling, penalty=l1; total time=   0.8s\n",
      "[CV] END alpha=0.01, eta0=0.1, learning_rate=invscaling, penalty=l1; total time=   0.7s\n",
      "[CV] END alpha=0.01, eta0=0.1, learning_rate=invscaling, penalty=l1; total time=   0.7s\n",
      "[CV] END alpha=0.01, eta0=0.1, learning_rate=invscaling, penalty=elasticnet; total time=   1.1s\n",
      "[CV] END alpha=0.01, eta0=0.1, learning_rate=invscaling, penalty=elasticnet; total time=   0.9s\n",
      "[CV] END alpha=0.01, eta0=0.1, learning_rate=invscaling, penalty=elasticnet; total time=   1.3s\n",
      "[CV] END alpha=0.01, eta0=0.1, learning_rate=invscaling, penalty=elasticnet; total time=   1.0s\n",
      "[CV] END alpha=0.01, eta0=0.1, learning_rate=invscaling, penalty=elasticnet; total time=   0.7s\n"
     ]
    },
    {
     "name": "stderr",
     "output_type": "stream",
     "text": [
      "/Users/johannessolibieda/Library/Python/3.9/lib/python/site-packages/sklearn/linear_model/_stochastic_gradient.py:1616: ConvergenceWarning: Maximum number of iteration reached before convergence. Consider increasing max_iter to improve the fit.\n",
      "  warnings.warn(\n"
     ]
    },
    {
     "name": "stdout",
     "output_type": "stream",
     "text": [
      "[CV] END alpha=0.01, eta0=0.1, learning_rate=optimal, penalty=l1; total time=  16.0s\n"
     ]
    },
    {
     "name": "stderr",
     "output_type": "stream",
     "text": [
      "/Users/johannessolibieda/Library/Python/3.9/lib/python/site-packages/sklearn/linear_model/_stochastic_gradient.py:1616: ConvergenceWarning: Maximum number of iteration reached before convergence. Consider increasing max_iter to improve the fit.\n",
      "  warnings.warn(\n"
     ]
    },
    {
     "name": "stdout",
     "output_type": "stream",
     "text": [
      "[CV] END alpha=0.01, eta0=0.1, learning_rate=optimal, penalty=l1; total time=  16.2s\n"
     ]
    },
    {
     "name": "stderr",
     "output_type": "stream",
     "text": [
      "/Users/johannessolibieda/Library/Python/3.9/lib/python/site-packages/sklearn/linear_model/_stochastic_gradient.py:1616: ConvergenceWarning: Maximum number of iteration reached before convergence. Consider increasing max_iter to improve the fit.\n",
      "  warnings.warn(\n"
     ]
    },
    {
     "name": "stdout",
     "output_type": "stream",
     "text": [
      "[CV] END alpha=0.01, eta0=0.1, learning_rate=optimal, penalty=l1; total time=  16.6s\n",
      "[CV] END alpha=0.01, eta0=0.1, learning_rate=adaptive, penalty=l2; total time=   2.3s\n"
     ]
    },
    {
     "name": "stderr",
     "output_type": "stream",
     "text": [
      "/Users/johannessolibieda/Library/Python/3.9/lib/python/site-packages/sklearn/linear_model/_stochastic_gradient.py:1616: ConvergenceWarning: Maximum number of iteration reached before convergence. Consider increasing max_iter to improve the fit.\n",
      "  warnings.warn(\n"
     ]
    },
    {
     "name": "stdout",
     "output_type": "stream",
     "text": [
      "[CV] END alpha=0.01, eta0=0.1, learning_rate=optimal, penalty=elasticnet; total time=  16.5s\n",
      "[CV] END alpha=0.01, eta0=0.1, learning_rate=adaptive, penalty=l2; total time=   7.4s\n",
      "[CV] END alpha=0.01, eta0=0.1, learning_rate=adaptive, penalty=l2; total time=   7.1s\n",
      "[CV] END alpha=0.01, eta0=0.1, learning_rate=adaptive, penalty=l2; total time=   7.3s\n"
     ]
    },
    {
     "name": "stderr",
     "output_type": "stream",
     "text": [
      "/Users/johannessolibieda/Library/Python/3.9/lib/python/site-packages/sklearn/linear_model/_stochastic_gradient.py:1616: ConvergenceWarning: Maximum number of iteration reached before convergence. Consider increasing max_iter to improve the fit.\n",
      "  warnings.warn(\n"
     ]
    },
    {
     "name": "stdout",
     "output_type": "stream",
     "text": [
      "[CV] END alpha=0.01, eta0=0.1, learning_rate=optimal, penalty=elasticnet; total time=  16.9s\n",
      "[CV] END alpha=0.01, eta0=0.1, learning_rate=adaptive, penalty=l2; total time=   7.0s\n",
      "[CV] END alpha=0.01, eta0=0.1, learning_rate=adaptive, penalty=l1; total time=   8.5s\n",
      "[CV] END alpha=0.01, eta0=0.1, learning_rate=adaptive, penalty=elasticnet; total time=   4.9s\n",
      "[CV] END alpha=0.01, eta0=0.1, learning_rate=adaptive, penalty=elasticnet; total time=  13.0s\n",
      "[CV] END alpha=0.01, eta0=1, learning_rate=constant, penalty=l2; total time=   0.1s\n",
      "[CV] END alpha=0.01, eta0=1, learning_rate=constant, penalty=l2; total time=   0.1s\n",
      "[CV] END alpha=0.01, eta0=1, learning_rate=constant, penalty=l2; total time=   0.1s\n",
      "[CV] END alpha=0.01, eta0=1, learning_rate=constant, penalty=l2; total time=   0.1s\n",
      "[CV] END alpha=0.01, eta0=1, learning_rate=constant, penalty=l2; total time=   0.1s\n",
      "[CV] END alpha=0.01, eta0=1, learning_rate=constant, penalty=l1; total time=   0.1s\n",
      "[CV] END alpha=0.01, eta0=1, learning_rate=constant, penalty=l1; total time=   0.2s\n",
      "[CV] END alpha=0.01, eta0=0.1, learning_rate=adaptive, penalty=elasticnet; total time=  12.4s\n",
      "[CV] END alpha=0.01, eta0=1, learning_rate=constant, penalty=l1; total time=   0.3s\n",
      "[CV] END alpha=0.01, eta0=1, learning_rate=constant, penalty=l1; total time=   0.1s\n",
      "[CV] END alpha=0.01, eta0=1, learning_rate=constant, penalty=l1; total time=   0.3s\n",
      "[CV] END alpha=0.01, eta0=1, learning_rate=constant, penalty=elasticnet; total time=   0.2s\n",
      "[CV] END alpha=0.01, eta0=1, learning_rate=constant, penalty=elasticnet; total time=   0.2s\n",
      "[CV] END alpha=0.01, eta0=1, learning_rate=constant, penalty=elasticnet; total time=   0.2s\n",
      "[CV] END alpha=0.01, eta0=1, learning_rate=constant, penalty=elasticnet; total time=   0.2s\n"
     ]
    },
    {
     "name": "stderr",
     "output_type": "stream",
     "text": [
      "/Users/johannessolibieda/Library/Python/3.9/lib/python/site-packages/sklearn/linear_model/_stochastic_gradient.py:1616: ConvergenceWarning: Maximum number of iteration reached before convergence. Consider increasing max_iter to improve the fit.\n",
      "  warnings.warn(\n",
      "/Users/johannessolibieda/Library/Python/3.9/lib/python/site-packages/sklearn/linear_model/_stochastic_gradient.py:1616: ConvergenceWarning: Maximum number of iteration reached before convergence. Consider increasing max_iter to improve the fit.\n",
      "  warnings.warn(\n"
     ]
    },
    {
     "name": "stdout",
     "output_type": "stream",
     "text": [
      "[CV] END alpha=0.01, eta0=0.1, learning_rate=adaptive, penalty=l1; total time=  17.2s\n",
      "[CV] END alpha=0.01, eta0=0.1, learning_rate=adaptive, penalty=l1; total time=  17.2s\n",
      "[CV] END alpha=0.01, eta0=1, learning_rate=optimal, penalty=l2; total time=   0.1s\n",
      "[CV] END alpha=0.01, eta0=1, learning_rate=optimal, penalty=l2; total time=   0.2s\n",
      "[CV] END alpha=0.01, eta0=1, learning_rate=constant, penalty=elasticnet; total time=   0.4s\n",
      "[CV] END alpha=0.01, eta0=1, learning_rate=optimal, penalty=l2; total time=   0.2s\n"
     ]
    },
    {
     "name": "stderr",
     "output_type": "stream",
     "text": [
      "/Users/johannessolibieda/Library/Python/3.9/lib/python/site-packages/sklearn/linear_model/_stochastic_gradient.py:1616: ConvergenceWarning: Maximum number of iteration reached before convergence. Consider increasing max_iter to improve the fit.\n",
      "  warnings.warn(\n"
     ]
    },
    {
     "name": "stdout",
     "output_type": "stream",
     "text": [
      "[CV] END alpha=0.01, eta0=0.1, learning_rate=adaptive, penalty=l1; total time=  16.9s\n"
     ]
    },
    {
     "name": "stderr",
     "output_type": "stream",
     "text": [
      "/Users/johannessolibieda/Library/Python/3.9/lib/python/site-packages/sklearn/linear_model/_stochastic_gradient.py:1616: ConvergenceWarning: Maximum number of iteration reached before convergence. Consider increasing max_iter to improve the fit.\n",
      "  warnings.warn(\n"
     ]
    },
    {
     "name": "stdout",
     "output_type": "stream",
     "text": [
      "[CV] END alpha=0.01, eta0=0.1, learning_rate=adaptive, penalty=l1; total time=  16.7s\n",
      "[CV] END alpha=0.01, eta0=0.1, learning_rate=adaptive, penalty=elasticnet; total time=  12.9s\n",
      "[CV] END alpha=0.01, eta0=0.1, learning_rate=adaptive, penalty=elasticnet; total time=  12.2s\n"
     ]
    },
    {
     "name": "stderr",
     "output_type": "stream",
     "text": [
      "/Users/johannessolibieda/Library/Python/3.9/lib/python/site-packages/sklearn/linear_model/_stochastic_gradient.py:1616: ConvergenceWarning: Maximum number of iteration reached before convergence. Consider increasing max_iter to improve the fit.\n",
      "  warnings.warn(\n",
      "/Users/johannessolibieda/Library/Python/3.9/lib/python/site-packages/sklearn/linear_model/_stochastic_gradient.py:1616: ConvergenceWarning: Maximum number of iteration reached before convergence. Consider increasing max_iter to improve the fit.\n",
      "  warnings.warn(\n"
     ]
    },
    {
     "name": "stdout",
     "output_type": "stream",
     "text": [
      "[CV] END alpha=0.01, eta0=1, learning_rate=optimal, penalty=l2; total time=  11.2s\n",
      "[CV] END alpha=0.01, eta0=1, learning_rate=optimal, penalty=l2; total time=  11.1s\n",
      "[CV] END alpha=0.01, eta0=1, learning_rate=optimal, penalty=elasticnet; total time=   0.4s\n",
      "[CV] END alpha=0.01, eta0=1, learning_rate=optimal, penalty=elasticnet; total time=   0.5s\n",
      "[CV] END alpha=0.01, eta0=1, learning_rate=optimal, penalty=elasticnet; total time=   0.3s\n",
      "[CV] END alpha=0.01, eta0=1, learning_rate=invscaling, penalty=l2; total time=   1.0s\n",
      "[CV] END alpha=0.01, eta0=1, learning_rate=invscaling, penalty=l2; total time=   1.3s\n",
      "[CV] END alpha=0.01, eta0=1, learning_rate=invscaling, penalty=l2; total time=   0.9s\n",
      "[CV] END alpha=0.01, eta0=1, learning_rate=invscaling, penalty=l2; total time=   1.0s\n",
      "[CV] END alpha=0.01, eta0=1, learning_rate=optimal, penalty=l1; total time=  16.1s\n"
     ]
    },
    {
     "name": "stderr",
     "output_type": "stream",
     "text": [
      "/Users/johannessolibieda/Library/Python/3.9/lib/python/site-packages/sklearn/linear_model/_stochastic_gradient.py:1616: ConvergenceWarning: Maximum number of iteration reached before convergence. Consider increasing max_iter to improve the fit.\n",
      "  warnings.warn(\n",
      "/Users/johannessolibieda/Library/Python/3.9/lib/python/site-packages/sklearn/linear_model/_stochastic_gradient.py:1616: ConvergenceWarning: Maximum number of iteration reached before convergence. Consider increasing max_iter to improve the fit.\n",
      "  warnings.warn(\n"
     ]
    },
    {
     "name": "stdout",
     "output_type": "stream",
     "text": [
      "[CV] END alpha=0.01, eta0=1, learning_rate=optimal, penalty=l1; total time=  16.1s\n"
     ]
    },
    {
     "name": "stderr",
     "output_type": "stream",
     "text": [
      "/Users/johannessolibieda/Library/Python/3.9/lib/python/site-packages/sklearn/linear_model/_stochastic_gradient.py:1616: ConvergenceWarning: Maximum number of iteration reached before convergence. Consider increasing max_iter to improve the fit.\n",
      "  warnings.warn(\n"
     ]
    },
    {
     "name": "stdout",
     "output_type": "stream",
     "text": [
      "[CV] END alpha=0.01, eta0=1, learning_rate=optimal, penalty=l1; total time=  16.3s\n",
      "[CV] END alpha=0.01, eta0=1, learning_rate=invscaling, penalty=l2; total time=   1.0s\n"
     ]
    },
    {
     "name": "stderr",
     "output_type": "stream",
     "text": [
      "/Users/johannessolibieda/Library/Python/3.9/lib/python/site-packages/sklearn/linear_model/_stochastic_gradient.py:1616: ConvergenceWarning: Maximum number of iteration reached before convergence. Consider increasing max_iter to improve the fit.\n",
      "  warnings.warn(\n"
     ]
    },
    {
     "name": "stdout",
     "output_type": "stream",
     "text": [
      "[CV] END alpha=0.01, eta0=1, learning_rate=optimal, penalty=l1; total time=  16.3s\n",
      "[CV] END alpha=0.01, eta0=1, learning_rate=invscaling, penalty=l1; total time=   1.7s\n",
      "[CV] END alpha=0.01, eta0=1, learning_rate=optimal, penalty=l1; total time=  16.2s\n"
     ]
    },
    {
     "name": "stderr",
     "output_type": "stream",
     "text": [
      "/Users/johannessolibieda/Library/Python/3.9/lib/python/site-packages/sklearn/linear_model/_stochastic_gradient.py:1616: ConvergenceWarning: Maximum number of iteration reached before convergence. Consider increasing max_iter to improve the fit.\n",
      "  warnings.warn(\n"
     ]
    },
    {
     "name": "stdout",
     "output_type": "stream",
     "text": [
      "[CV] END alpha=0.01, eta0=1, learning_rate=invscaling, penalty=l1; total time=   1.8s\n",
      "[CV] END alpha=0.01, eta0=1, learning_rate=invscaling, penalty=l1; total time=   1.6s\n",
      "[CV] END alpha=0.01, eta0=1, learning_rate=invscaling, penalty=l1; total time=   1.3s\n",
      "[CV] END alpha=0.01, eta0=1, learning_rate=invscaling, penalty=elasticnet; total time=   1.8s\n",
      "[CV] END alpha=0.01, eta0=1, learning_rate=invscaling, penalty=elasticnet; total time=   1.7s\n",
      "[CV] END alpha=0.01, eta0=1, learning_rate=invscaling, penalty=elasticnet; total time=   2.2s\n",
      "[CV] END alpha=0.01, eta0=1, learning_rate=invscaling, penalty=elasticnet; total time=   2.8s\n",
      "[CV] END alpha=0.01, eta0=1, learning_rate=invscaling, penalty=elasticnet; total time=   2.6s\n",
      "[CV] END alpha=0.01, eta0=1, learning_rate=invscaling, penalty=l1; total time=   3.5s\n",
      "[CV] END alpha=0.01, eta0=1, learning_rate=adaptive, penalty=l2; total time=   1.9s\n"
     ]
    },
    {
     "name": "stderr",
     "output_type": "stream",
     "text": [
      "/Users/johannessolibieda/Library/Python/3.9/lib/python/site-packages/sklearn/linear_model/_stochastic_gradient.py:1616: ConvergenceWarning: Maximum number of iteration reached before convergence. Consider increasing max_iter to improve the fit.\n",
      "  warnings.warn(\n"
     ]
    },
    {
     "name": "stdout",
     "output_type": "stream",
     "text": [
      "[CV] END alpha=0.01, eta0=1, learning_rate=optimal, penalty=elasticnet; total time=  16.3s\n"
     ]
    },
    {
     "name": "stderr",
     "output_type": "stream",
     "text": [
      "/Users/johannessolibieda/Library/Python/3.9/lib/python/site-packages/sklearn/linear_model/_stochastic_gradient.py:1616: ConvergenceWarning: Maximum number of iteration reached before convergence. Consider increasing max_iter to improve the fit.\n",
      "  warnings.warn(\n"
     ]
    },
    {
     "name": "stdout",
     "output_type": "stream",
     "text": [
      "[CV] END alpha=0.01, eta0=1, learning_rate=optimal, penalty=elasticnet; total time=  16.0s\n"
     ]
    },
    {
     "name": "stderr",
     "output_type": "stream",
     "text": [
      "/Users/johannessolibieda/Library/Python/3.9/lib/python/site-packages/sklearn/linear_model/_stochastic_gradient.py:1616: ConvergenceWarning: Maximum number of iteration reached before convergence. Consider increasing max_iter to improve the fit.\n",
      "  warnings.warn(\n"
     ]
    },
    {
     "name": "stdout",
     "output_type": "stream",
     "text": [
      "[CV] END alpha=0.01, eta0=1, learning_rate=adaptive, penalty=l2; total time=  11.3s\n"
     ]
    },
    {
     "name": "stderr",
     "output_type": "stream",
     "text": [
      "/Users/johannessolibieda/Library/Python/3.9/lib/python/site-packages/sklearn/linear_model/_stochastic_gradient.py:1616: ConvergenceWarning: Maximum number of iteration reached before convergence. Consider increasing max_iter to improve the fit.\n",
      "  warnings.warn(\n"
     ]
    },
    {
     "name": "stdout",
     "output_type": "stream",
     "text": [
      "[CV] END alpha=0.01, eta0=1, learning_rate=adaptive, penalty=l2; total time=  11.4s\n"
     ]
    },
    {
     "name": "stderr",
     "output_type": "stream",
     "text": [
      "/Users/johannessolibieda/Library/Python/3.9/lib/python/site-packages/sklearn/linear_model/_stochastic_gradient.py:1616: ConvergenceWarning: Maximum number of iteration reached before convergence. Consider increasing max_iter to improve the fit.\n",
      "  warnings.warn(\n",
      "/Users/johannessolibieda/Library/Python/3.9/lib/python/site-packages/sklearn/linear_model/_stochastic_gradient.py:1616: ConvergenceWarning: Maximum number of iteration reached before convergence. Consider increasing max_iter to improve the fit.\n",
      "  warnings.warn(\n"
     ]
    },
    {
     "name": "stdout",
     "output_type": "stream",
     "text": [
      "[CV] END alpha=0.01, eta0=1, learning_rate=adaptive, penalty=l2; total time=  11.4s\n",
      "[CV] END alpha=0.01, eta0=1, learning_rate=adaptive, penalty=l2; total time=  11.3s\n",
      "[CV] END alpha=0.01, eta0=1, learning_rate=adaptive, penalty=l1; total time=   5.6s\n",
      "[CV] END alpha=0.01, eta0=1, learning_rate=adaptive, penalty=elasticnet; total time=   3.8s\n"
     ]
    },
    {
     "name": "stderr",
     "output_type": "stream",
     "text": [
      "/Users/johannessolibieda/Library/Python/3.9/lib/python/site-packages/sklearn/linear_model/_stochastic_gradient.py:1616: ConvergenceWarning: Maximum number of iteration reached before convergence. Consider increasing max_iter to improve the fit.\n",
      "  warnings.warn(\n"
     ]
    },
    {
     "name": "stdout",
     "output_type": "stream",
     "text": [
      "[CV] END alpha=0.01, eta0=1, learning_rate=adaptive, penalty=l1; total time=  16.6s\n",
      "[CV] END alpha=0.1, eta0=0.001, learning_rate=constant, penalty=l2; total time=   0.1s\n",
      "[CV] END alpha=0.1, eta0=0.001, learning_rate=constant, penalty=l2; total time=   0.1s\n",
      "[CV] END alpha=0.1, eta0=0.001, learning_rate=constant, penalty=l2; total time=   0.2s\n",
      "[CV] END alpha=0.1, eta0=0.001, learning_rate=constant, penalty=l2; total time=   0.1s\n",
      "[CV] END alpha=0.1, eta0=0.001, learning_rate=constant, penalty=l2; total time=   0.1s\n",
      "[CV] END alpha=0.1, eta0=0.001, learning_rate=constant, penalty=l1; total time=   0.6s\n"
     ]
    },
    {
     "name": "stderr",
     "output_type": "stream",
     "text": [
      "/Users/johannessolibieda/Library/Python/3.9/lib/python/site-packages/sklearn/linear_model/_stochastic_gradient.py:1616: ConvergenceWarning: Maximum number of iteration reached before convergence. Consider increasing max_iter to improve the fit.\n",
      "  warnings.warn(\n"
     ]
    },
    {
     "name": "stdout",
     "output_type": "stream",
     "text": [
      "[CV] END alpha=0.01, eta0=1, learning_rate=adaptive, penalty=l1; total time=  16.5s\n",
      "[CV] END alpha=0.1, eta0=0.001, learning_rate=constant, penalty=l1; total time=   0.5s\n",
      "[CV] END alpha=0.1, eta0=0.001, learning_rate=constant, penalty=l1; total time=   0.4s\n",
      "[CV] END alpha=0.1, eta0=0.001, learning_rate=constant, penalty=l1; total time=   0.5s\n",
      "[CV] END alpha=0.1, eta0=0.001, learning_rate=constant, penalty=l1; total time=   0.4s\n",
      "[CV] END alpha=0.1, eta0=0.001, learning_rate=constant, penalty=elasticnet; total time=   0.3s\n",
      "[CV] END alpha=0.1, eta0=0.001, learning_rate=constant, penalty=elasticnet; total time=   0.4s\n",
      "[CV] END alpha=0.1, eta0=0.001, learning_rate=constant, penalty=elasticnet; total time=   0.6s\n",
      "[CV] END alpha=0.1, eta0=0.001, learning_rate=constant, penalty=elasticnet; total time=   0.4s\n",
      "[CV] END alpha=0.1, eta0=0.001, learning_rate=constant, penalty=elasticnet; total time=   0.3s\n"
     ]
    },
    {
     "name": "stderr",
     "output_type": "stream",
     "text": [
      "/Users/johannessolibieda/Library/Python/3.9/lib/python/site-packages/sklearn/linear_model/_stochastic_gradient.py:1616: ConvergenceWarning: Maximum number of iteration reached before convergence. Consider increasing max_iter to improve the fit.\n",
      "  warnings.warn(\n"
     ]
    },
    {
     "name": "stdout",
     "output_type": "stream",
     "text": [
      "[CV] END alpha=0.01, eta0=1, learning_rate=adaptive, penalty=l1; total time=  16.7s\n"
     ]
    },
    {
     "name": "stderr",
     "output_type": "stream",
     "text": [
      "/Users/johannessolibieda/Library/Python/3.9/lib/python/site-packages/sklearn/linear_model/_stochastic_gradient.py:1616: ConvergenceWarning: Maximum number of iteration reached before convergence. Consider increasing max_iter to improve the fit.\n",
      "  warnings.warn(\n"
     ]
    },
    {
     "name": "stdout",
     "output_type": "stream",
     "text": [
      "[CV] END alpha=0.01, eta0=1, learning_rate=adaptive, penalty=l1; total time=  16.4s\n"
     ]
    },
    {
     "name": "stderr",
     "output_type": "stream",
     "text": [
      "/Users/johannessolibieda/Library/Python/3.9/lib/python/site-packages/sklearn/linear_model/_stochastic_gradient.py:1616: ConvergenceWarning: Maximum number of iteration reached before convergence. Consider increasing max_iter to improve the fit.\n",
      "  warnings.warn(\n"
     ]
    },
    {
     "name": "stdout",
     "output_type": "stream",
     "text": [
      "[CV] END alpha=0.01, eta0=1, learning_rate=adaptive, penalty=elasticnet; total time=  16.7s\n"
     ]
    },
    {
     "name": "stderr",
     "output_type": "stream",
     "text": [
      "/Users/johannessolibieda/Library/Python/3.9/lib/python/site-packages/sklearn/linear_model/_stochastic_gradient.py:1616: ConvergenceWarning: Maximum number of iteration reached before convergence. Consider increasing max_iter to improve the fit.\n",
      "  warnings.warn(\n"
     ]
    },
    {
     "name": "stdout",
     "output_type": "stream",
     "text": [
      "[CV] END alpha=0.01, eta0=1, learning_rate=adaptive, penalty=elasticnet; total time=  16.6s\n"
     ]
    },
    {
     "name": "stderr",
     "output_type": "stream",
     "text": [
      "/Users/johannessolibieda/Library/Python/3.9/lib/python/site-packages/sklearn/linear_model/_stochastic_gradient.py:1616: ConvergenceWarning: Maximum number of iteration reached before convergence. Consider increasing max_iter to improve the fit.\n",
      "  warnings.warn(\n"
     ]
    },
    {
     "name": "stdout",
     "output_type": "stream",
     "text": [
      "[CV] END alpha=0.01, eta0=1, learning_rate=adaptive, penalty=elasticnet; total time=  17.2s\n"
     ]
    },
    {
     "name": "stderr",
     "output_type": "stream",
     "text": [
      "/Users/johannessolibieda/Library/Python/3.9/lib/python/site-packages/sklearn/linear_model/_stochastic_gradient.py:1616: ConvergenceWarning: Maximum number of iteration reached before convergence. Consider increasing max_iter to improve the fit.\n",
      "  warnings.warn(\n"
     ]
    },
    {
     "name": "stdout",
     "output_type": "stream",
     "text": [
      "[CV] END alpha=0.1, eta0=0.001, learning_rate=optimal, penalty=l2; total time=  11.3s\n"
     ]
    },
    {
     "name": "stderr",
     "output_type": "stream",
     "text": [
      "/Users/johannessolibieda/Library/Python/3.9/lib/python/site-packages/sklearn/linear_model/_stochastic_gradient.py:1616: ConvergenceWarning: Maximum number of iteration reached before convergence. Consider increasing max_iter to improve the fit.\n",
      "  warnings.warn(\n"
     ]
    },
    {
     "name": "stdout",
     "output_type": "stream",
     "text": [
      "[CV] END alpha=0.1, eta0=0.001, learning_rate=optimal, penalty=l2; total time=  11.4s\n"
     ]
    },
    {
     "name": "stderr",
     "output_type": "stream",
     "text": [
      "/Users/johannessolibieda/Library/Python/3.9/lib/python/site-packages/sklearn/linear_model/_stochastic_gradient.py:1616: ConvergenceWarning: Maximum number of iteration reached before convergence. Consider increasing max_iter to improve the fit.\n",
      "  warnings.warn(\n"
     ]
    },
    {
     "name": "stdout",
     "output_type": "stream",
     "text": [
      "[CV] END alpha=0.01, eta0=1, learning_rate=adaptive, penalty=elasticnet; total time=  16.9s\n"
     ]
    },
    {
     "name": "stderr",
     "output_type": "stream",
     "text": [
      "/Users/johannessolibieda/Library/Python/3.9/lib/python/site-packages/sklearn/linear_model/_stochastic_gradient.py:1616: ConvergenceWarning: Maximum number of iteration reached before convergence. Consider increasing max_iter to improve the fit.\n",
      "  warnings.warn(\n"
     ]
    },
    {
     "name": "stdout",
     "output_type": "stream",
     "text": [
      "[CV] END alpha=0.1, eta0=0.001, learning_rate=optimal, penalty=l2; total time=  11.3s\n"
     ]
    },
    {
     "name": "stderr",
     "output_type": "stream",
     "text": [
      "/Users/johannessolibieda/Library/Python/3.9/lib/python/site-packages/sklearn/linear_model/_stochastic_gradient.py:1616: ConvergenceWarning: Maximum number of iteration reached before convergence. Consider increasing max_iter to improve the fit.\n",
      "  warnings.warn(\n"
     ]
    },
    {
     "name": "stdout",
     "output_type": "stream",
     "text": [
      "[CV] END alpha=0.1, eta0=0.001, learning_rate=optimal, penalty=l2; total time=  11.4s\n"
     ]
    },
    {
     "name": "stderr",
     "output_type": "stream",
     "text": [
      "/Users/johannessolibieda/Library/Python/3.9/lib/python/site-packages/sklearn/linear_model/_stochastic_gradient.py:1616: ConvergenceWarning: Maximum number of iteration reached before convergence. Consider increasing max_iter to improve the fit.\n",
      "  warnings.warn(\n"
     ]
    },
    {
     "name": "stdout",
     "output_type": "stream",
     "text": [
      "[CV] END alpha=0.1, eta0=0.001, learning_rate=optimal, penalty=l2; total time=  11.2s\n"
     ]
    },
    {
     "name": "stderr",
     "output_type": "stream",
     "text": [
      "/Users/johannessolibieda/Library/Python/3.9/lib/python/site-packages/sklearn/linear_model/_stochastic_gradient.py:1616: ConvergenceWarning: Maximum number of iteration reached before convergence. Consider increasing max_iter to improve the fit.\n",
      "  warnings.warn(\n"
     ]
    },
    {
     "name": "stdout",
     "output_type": "stream",
     "text": [
      "[CV] END alpha=0.1, eta0=0.001, learning_rate=optimal, penalty=l1; total time=  16.1s\n"
     ]
    },
    {
     "name": "stderr",
     "output_type": "stream",
     "text": [
      "/Users/johannessolibieda/Library/Python/3.9/lib/python/site-packages/sklearn/linear_model/_stochastic_gradient.py:1616: ConvergenceWarning: Maximum number of iteration reached before convergence. Consider increasing max_iter to improve the fit.\n",
      "  warnings.warn(\n"
     ]
    },
    {
     "name": "stdout",
     "output_type": "stream",
     "text": [
      "[CV] END alpha=0.1, eta0=0.001, learning_rate=optimal, penalty=l1; total time=  16.5s\n"
     ]
    },
    {
     "name": "stderr",
     "output_type": "stream",
     "text": [
      "/Users/johannessolibieda/Library/Python/3.9/lib/python/site-packages/sklearn/linear_model/_stochastic_gradient.py:1616: ConvergenceWarning: Maximum number of iteration reached before convergence. Consider increasing max_iter to improve the fit.\n",
      "  warnings.warn(\n",
      "/Users/johannessolibieda/Library/Python/3.9/lib/python/site-packages/sklearn/linear_model/_stochastic_gradient.py:1616: ConvergenceWarning: Maximum number of iteration reached before convergence. Consider increasing max_iter to improve the fit.\n",
      "  warnings.warn(\n"
     ]
    },
    {
     "name": "stdout",
     "output_type": "stream",
     "text": [
      "[CV] END alpha=0.1, eta0=0.001, learning_rate=optimal, penalty=l1; total time=  16.2s\n",
      "[CV] END alpha=0.1, eta0=0.001, learning_rate=optimal, penalty=l1; total time=  16.0s\n",
      "[CV] END alpha=0.1, eta0=0.001, learning_rate=invscaling, penalty=l2; total time=   0.5s\n",
      "[CV] END alpha=0.1, eta0=0.001, learning_rate=invscaling, penalty=l2; total time=   0.4s\n",
      "[CV] END alpha=0.1, eta0=0.001, learning_rate=invscaling, penalty=l2; total time=   0.5s\n",
      "[CV] END alpha=0.1, eta0=0.001, learning_rate=invscaling, penalty=l2; total time=   0.5s\n",
      "[CV] END alpha=0.1, eta0=0.001, learning_rate=invscaling, penalty=l2; total time=   0.4s\n",
      "[CV] END alpha=0.1, eta0=0.001, learning_rate=optimal, penalty=l1; total time=  16.1s\n"
     ]
    },
    {
     "name": "stderr",
     "output_type": "stream",
     "text": [
      "/Users/johannessolibieda/Library/Python/3.9/lib/python/site-packages/sklearn/linear_model/_stochastic_gradient.py:1616: ConvergenceWarning: Maximum number of iteration reached before convergence. Consider increasing max_iter to improve the fit.\n",
      "  warnings.warn(\n",
      "/Users/johannessolibieda/Library/Python/3.9/lib/python/site-packages/sklearn/linear_model/_stochastic_gradient.py:1616: ConvergenceWarning: Maximum number of iteration reached before convergence. Consider increasing max_iter to improve the fit.\n",
      "  warnings.warn(\n"
     ]
    },
    {
     "name": "stdout",
     "output_type": "stream",
     "text": [
      "[CV] END alpha=0.1, eta0=0.001, learning_rate=optimal, penalty=elasticnet; total time=  16.2s\n",
      "[CV] END alpha=0.1, eta0=0.001, learning_rate=invscaling, penalty=l1; total time=   0.9s\n",
      "[CV] END alpha=0.1, eta0=0.001, learning_rate=invscaling, penalty=l1; total time=   0.7s\n",
      "[CV] END alpha=0.1, eta0=0.001, learning_rate=invscaling, penalty=l1; total time=   0.8s\n",
      "[CV] END alpha=0.1, eta0=0.001, learning_rate=invscaling, penalty=l1; total time=   0.7s\n",
      "[CV] END alpha=0.1, eta0=0.001, learning_rate=invscaling, penalty=elasticnet; total time=   0.7s\n",
      "[CV] END alpha=0.1, eta0=0.001, learning_rate=invscaling, penalty=elasticnet; total time=   0.7s\n",
      "[CV] END alpha=0.1, eta0=0.001, learning_rate=invscaling, penalty=l1; total time=   1.0s\n",
      "[CV] END alpha=0.1, eta0=0.001, learning_rate=invscaling, penalty=elasticnet; total time=   0.9s\n",
      "[CV] END alpha=0.1, eta0=0.001, learning_rate=invscaling, penalty=elasticnet; total time=   0.6s\n",
      "[CV] END alpha=0.1, eta0=0.001, learning_rate=invscaling, penalty=elasticnet; total time=   0.7s\n",
      "[CV] END alpha=0.1, eta0=0.001, learning_rate=adaptive, penalty=l2; total time=   0.7s\n",
      "[CV] END alpha=0.1, eta0=0.001, learning_rate=adaptive, penalty=l2; total time=   0.6s\n",
      "[CV] END alpha=0.1, eta0=0.001, learning_rate=adaptive, penalty=l2; total time=   0.8s\n",
      "[CV] END alpha=0.1, eta0=0.001, learning_rate=adaptive, penalty=l2; total time=   0.6s\n",
      "[CV] END alpha=0.1, eta0=0.001, learning_rate=adaptive, penalty=l2; total time=   0.7s\n",
      "[CV] END alpha=0.1, eta0=0.001, learning_rate=adaptive, penalty=l1; total time=   1.4s\n",
      "[CV] END alpha=0.1, eta0=0.001, learning_rate=adaptive, penalty=l1; total time=   1.2s\n",
      "[CV] END alpha=0.1, eta0=0.001, learning_rate=adaptive, penalty=l1; total time=   1.4s\n",
      "[CV] END alpha=0.1, eta0=0.001, learning_rate=adaptive, penalty=l1; total time=   1.4s\n",
      "[CV] END alpha=0.1, eta0=0.001, learning_rate=adaptive, penalty=elasticnet; total time=   1.1s\n",
      "[CV] END alpha=0.1, eta0=0.001, learning_rate=optimal, penalty=elasticnet; total time=  16.1s\n"
     ]
    },
    {
     "name": "stderr",
     "output_type": "stream",
     "text": [
      "/Users/johannessolibieda/Library/Python/3.9/lib/python/site-packages/sklearn/linear_model/_stochastic_gradient.py:1616: ConvergenceWarning: Maximum number of iteration reached before convergence. Consider increasing max_iter to improve the fit.\n",
      "  warnings.warn(\n"
     ]
    },
    {
     "name": "stdout",
     "output_type": "stream",
     "text": [
      "[CV] END alpha=0.1, eta0=0.001, learning_rate=adaptive, penalty=l1; total time=   1.3s\n",
      "[CV] END alpha=0.1, eta0=0.01, learning_rate=constant, penalty=l2; total time=   0.1s\n",
      "[CV] END alpha=0.1, eta0=0.01, learning_rate=constant, penalty=l2; total time=   0.1s\n",
      "[CV] END alpha=0.1, eta0=0.01, learning_rate=constant, penalty=l2; total time=   0.1s\n",
      "[CV] END alpha=0.1, eta0=0.001, learning_rate=adaptive, penalty=elasticnet; total time=   1.3s\n",
      "[CV] END alpha=0.1, eta0=0.01, learning_rate=constant, penalty=l2; total time=   0.1s\n",
      "[CV] END alpha=0.1, eta0=0.001, learning_rate=adaptive, penalty=elasticnet; total time=   1.5s\n",
      "[CV] END alpha=0.1, eta0=0.01, learning_rate=constant, penalty=l2; total time=   0.1s\n",
      "[CV] END alpha=0.1, eta0=0.001, learning_rate=optimal, penalty=elasticnet; total time=  16.3s\n"
     ]
    },
    {
     "name": "stderr",
     "output_type": "stream",
     "text": [
      "/Users/johannessolibieda/Library/Python/3.9/lib/python/site-packages/sklearn/linear_model/_stochastic_gradient.py:1616: ConvergenceWarning: Maximum number of iteration reached before convergence. Consider increasing max_iter to improve the fit.\n",
      "  warnings.warn(\n"
     ]
    },
    {
     "name": "stdout",
     "output_type": "stream",
     "text": [
      "[CV] END alpha=0.1, eta0=0.01, learning_rate=constant, penalty=l1; total time=   0.1s\n",
      "[CV] END alpha=0.1, eta0=0.01, learning_rate=constant, penalty=l1; total time=   0.1s\n",
      "[CV] END alpha=0.1, eta0=0.01, learning_rate=constant, penalty=l1; total time=   0.2s\n",
      "[CV] END alpha=0.1, eta0=0.01, learning_rate=constant, penalty=l1; total time=   0.2s\n",
      "[CV] END alpha=0.1, eta0=0.01, learning_rate=constant, penalty=l1; total time=   0.1s\n",
      "[CV] END alpha=0.1, eta0=0.01, learning_rate=constant, penalty=elasticnet; total time=   0.1s\n",
      "[CV] END alpha=0.1, eta0=0.01, learning_rate=constant, penalty=elasticnet; total time=   0.2s\n",
      "[CV] END alpha=0.1, eta0=0.01, learning_rate=constant, penalty=elasticnet; total time=   0.1s\n",
      "[CV] END alpha=0.1, eta0=0.01, learning_rate=constant, penalty=elasticnet; total time=   0.2s\n",
      "[CV] END alpha=0.1, eta0=0.01, learning_rate=constant, penalty=elasticnet; total time=   0.1s\n",
      "[CV] END alpha=0.1, eta0=0.001, learning_rate=adaptive, penalty=elasticnet; total time=   1.2s\n",
      "[CV] END alpha=0.1, eta0=0.001, learning_rate=adaptive, penalty=elasticnet; total time=   1.2s\n"
     ]
    },
    {
     "name": "stderr",
     "output_type": "stream",
     "text": [
      "/Users/johannessolibieda/Library/Python/3.9/lib/python/site-packages/sklearn/linear_model/_stochastic_gradient.py:1616: ConvergenceWarning: Maximum number of iteration reached before convergence. Consider increasing max_iter to improve the fit.\n",
      "  warnings.warn(\n"
     ]
    },
    {
     "name": "stdout",
     "output_type": "stream",
     "text": [
      "[CV] END alpha=0.1, eta0=0.001, learning_rate=optimal, penalty=elasticnet; total time=  16.4s\n"
     ]
    },
    {
     "name": "stderr",
     "output_type": "stream",
     "text": [
      "/Users/johannessolibieda/Library/Python/3.9/lib/python/site-packages/sklearn/linear_model/_stochastic_gradient.py:1616: ConvergenceWarning: Maximum number of iteration reached before convergence. Consider increasing max_iter to improve the fit.\n",
      "  warnings.warn(\n"
     ]
    },
    {
     "name": "stdout",
     "output_type": "stream",
     "text": [
      "[CV] END alpha=0.1, eta0=0.001, learning_rate=optimal, penalty=elasticnet; total time=  16.1s\n"
     ]
    },
    {
     "name": "stderr",
     "output_type": "stream",
     "text": [
      "/Users/johannessolibieda/Library/Python/3.9/lib/python/site-packages/sklearn/linear_model/_stochastic_gradient.py:1616: ConvergenceWarning: Maximum number of iteration reached before convergence. Consider increasing max_iter to improve the fit.\n",
      "  warnings.warn(\n",
      "/Users/johannessolibieda/Library/Python/3.9/lib/python/site-packages/sklearn/linear_model/_stochastic_gradient.py:1616: ConvergenceWarning: Maximum number of iteration reached before convergence. Consider increasing max_iter to improve the fit.\n",
      "  warnings.warn(\n"
     ]
    },
    {
     "name": "stdout",
     "output_type": "stream",
     "text": [
      "[CV] END alpha=0.1, eta0=0.01, learning_rate=optimal, penalty=l2; total time=  11.2s\n",
      "[CV] END alpha=0.1, eta0=0.01, learning_rate=optimal, penalty=l2; total time=  11.3s\n"
     ]
    },
    {
     "name": "stderr",
     "output_type": "stream",
     "text": [
      "/Users/johannessolibieda/Library/Python/3.9/lib/python/site-packages/sklearn/linear_model/_stochastic_gradient.py:1616: ConvergenceWarning: Maximum number of iteration reached before convergence. Consider increasing max_iter to improve the fit.\n",
      "  warnings.warn(\n",
      "/Users/johannessolibieda/Library/Python/3.9/lib/python/site-packages/sklearn/linear_model/_stochastic_gradient.py:1616: ConvergenceWarning: Maximum number of iteration reached before convergence. Consider increasing max_iter to improve the fit.\n",
      "  warnings.warn(\n"
     ]
    },
    {
     "name": "stdout",
     "output_type": "stream",
     "text": [
      "[CV] END alpha=0.1, eta0=0.01, learning_rate=optimal, penalty=l2; total time=  11.4s\n",
      "[CV] END alpha=0.1, eta0=0.01, learning_rate=optimal, penalty=l2; total time=  11.4s\n"
     ]
    },
    {
     "name": "stderr",
     "output_type": "stream",
     "text": [
      "/Users/johannessolibieda/Library/Python/3.9/lib/python/site-packages/sklearn/linear_model/_stochastic_gradient.py:1616: ConvergenceWarning: Maximum number of iteration reached before convergence. Consider increasing max_iter to improve the fit.\n",
      "  warnings.warn(\n"
     ]
    },
    {
     "name": "stdout",
     "output_type": "stream",
     "text": [
      "[CV] END alpha=0.1, eta0=0.01, learning_rate=optimal, penalty=l2; total time=  11.4s\n"
     ]
    },
    {
     "name": "stderr",
     "output_type": "stream",
     "text": [
      "/Users/johannessolibieda/Library/Python/3.9/lib/python/site-packages/sklearn/linear_model/_stochastic_gradient.py:1616: ConvergenceWarning: Maximum number of iteration reached before convergence. Consider increasing max_iter to improve the fit.\n",
      "  warnings.warn(\n"
     ]
    },
    {
     "name": "stdout",
     "output_type": "stream",
     "text": [
      "[CV] END alpha=0.1, eta0=0.01, learning_rate=optimal, penalty=l1; total time=  16.1s\n"
     ]
    },
    {
     "name": "stderr",
     "output_type": "stream",
     "text": [
      "/Users/johannessolibieda/Library/Python/3.9/lib/python/site-packages/sklearn/linear_model/_stochastic_gradient.py:1616: ConvergenceWarning: Maximum number of iteration reached before convergence. Consider increasing max_iter to improve the fit.\n",
      "  warnings.warn(\n"
     ]
    },
    {
     "name": "stdout",
     "output_type": "stream",
     "text": [
      "[CV] END alpha=0.1, eta0=0.01, learning_rate=optimal, penalty=l1; total time=  16.7s\n"
     ]
    },
    {
     "name": "stderr",
     "output_type": "stream",
     "text": [
      "/Users/johannessolibieda/Library/Python/3.9/lib/python/site-packages/sklearn/linear_model/_stochastic_gradient.py:1616: ConvergenceWarning: Maximum number of iteration reached before convergence. Consider increasing max_iter to improve the fit.\n",
      "  warnings.warn(\n"
     ]
    },
    {
     "name": "stdout",
     "output_type": "stream",
     "text": [
      "[CV] END alpha=0.1, eta0=0.01, learning_rate=optimal, penalty=l1; total time=  16.6s\n",
      "[CV] END alpha=0.1, eta0=0.01, learning_rate=invscaling, penalty=l2; total time=   0.1s\n",
      "[CV] END alpha=0.1, eta0=0.01, learning_rate=invscaling, penalty=l2; total time=   0.2s\n",
      "[CV] END alpha=0.1, eta0=0.01, learning_rate=invscaling, penalty=l2; total time=   0.1s\n",
      "[CV] END alpha=0.1, eta0=0.01, learning_rate=invscaling, penalty=l2; total time=   0.4s\n",
      "[CV] END alpha=0.1, eta0=0.01, learning_rate=invscaling, penalty=l2; total time=   0.2s\n",
      "[CV] END alpha=0.1, eta0=0.01, learning_rate=invscaling, penalty=l1; total time=   0.5s\n",
      "[CV] END alpha=0.1, eta0=0.01, learning_rate=invscaling, penalty=l1; total time=   0.6s\n",
      "[CV] END alpha=0.1, eta0=0.01, learning_rate=invscaling, penalty=l1; total time=   0.7s\n",
      "[CV] END alpha=0.1, eta0=0.01, learning_rate=invscaling, penalty=l1; total time=   0.4s\n",
      "[CV] END alpha=0.1, eta0=0.01, learning_rate=invscaling, penalty=l1; total time=   0.5s\n",
      "[CV] END alpha=0.1, eta0=0.01, learning_rate=invscaling, penalty=elasticnet; total time=   0.5s\n",
      "[CV] END alpha=0.1, eta0=0.01, learning_rate=invscaling, penalty=elasticnet; total time=   0.4s\n",
      "[CV] END alpha=0.1, eta0=0.01, learning_rate=invscaling, penalty=elasticnet; total time=   0.6s\n"
     ]
    },
    {
     "name": "stderr",
     "output_type": "stream",
     "text": [
      "/Users/johannessolibieda/Library/Python/3.9/lib/python/site-packages/sklearn/linear_model/_stochastic_gradient.py:1616: ConvergenceWarning: Maximum number of iteration reached before convergence. Consider increasing max_iter to improve the fit.\n",
      "  warnings.warn(\n"
     ]
    },
    {
     "name": "stdout",
     "output_type": "stream",
     "text": [
      "[CV] END alpha=0.1, eta0=0.01, learning_rate=optimal, penalty=l1; total time=  16.6s\n"
     ]
    },
    {
     "name": "stderr",
     "output_type": "stream",
     "text": [
      "/Users/johannessolibieda/Library/Python/3.9/lib/python/site-packages/sklearn/linear_model/_stochastic_gradient.py:1616: ConvergenceWarning: Maximum number of iteration reached before convergence. Consider increasing max_iter to improve the fit.\n",
      "  warnings.warn(\n"
     ]
    },
    {
     "name": "stdout",
     "output_type": "stream",
     "text": [
      "[CV] END alpha=0.1, eta0=0.01, learning_rate=optimal, penalty=l1; total time=  16.9s\n",
      "[CV] END alpha=0.1, eta0=0.01, learning_rate=invscaling, penalty=elasticnet; total time=   0.7s\n",
      "[CV] END alpha=0.1, eta0=0.01, learning_rate=invscaling, penalty=elasticnet; total time=   0.5s\n"
     ]
    },
    {
     "name": "stderr",
     "output_type": "stream",
     "text": [
      "/Users/johannessolibieda/Library/Python/3.9/lib/python/site-packages/sklearn/linear_model/_stochastic_gradient.py:1616: ConvergenceWarning: Maximum number of iteration reached before convergence. Consider increasing max_iter to improve the fit.\n",
      "  warnings.warn(\n",
      "/Users/johannessolibieda/Library/Python/3.9/lib/python/site-packages/sklearn/linear_model/_stochastic_gradient.py:1616: ConvergenceWarning: Maximum number of iteration reached before convergence. Consider increasing max_iter to improve the fit.\n",
      "  warnings.warn(\n",
      "/Users/johannessolibieda/Library/Python/3.9/lib/python/site-packages/sklearn/linear_model/_stochastic_gradient.py:1616: ConvergenceWarning: Maximum number of iteration reached before convergence. Consider increasing max_iter to improve the fit.\n",
      "  warnings.warn(\n"
     ]
    },
    {
     "name": "stdout",
     "output_type": "stream",
     "text": [
      "[CV] END alpha=0.1, eta0=0.01, learning_rate=optimal, penalty=elasticnet; total time=  17.0s\n",
      "[CV] END alpha=0.1, eta0=0.01, learning_rate=optimal, penalty=elasticnet; total time=  16.8s\n",
      "[CV] END alpha=0.1, eta0=0.01, learning_rate=optimal, penalty=elasticnet; total time=  17.0s\n",
      "[CV] END alpha=0.1, eta0=0.01, learning_rate=adaptive, penalty=l2; total time=   0.8s\n",
      "[CV] END alpha=0.1, eta0=0.01, learning_rate=adaptive, penalty=l2; total time=   1.1s\n",
      "[CV] END alpha=0.1, eta0=0.01, learning_rate=adaptive, penalty=l2; total time=   1.2s\n",
      "[CV] END alpha=0.1, eta0=0.01, learning_rate=adaptive, penalty=l2; total time=   0.9s\n",
      "[CV] END alpha=0.1, eta0=0.01, learning_rate=adaptive, penalty=l2; total time=   1.1s\n",
      "[CV] END alpha=0.1, eta0=0.01, learning_rate=adaptive, penalty=elasticnet; total time=   3.8s\n"
     ]
    },
    {
     "name": "stderr",
     "output_type": "stream",
     "text": [
      "/Users/johannessolibieda/Library/Python/3.9/lib/python/site-packages/sklearn/linear_model/_stochastic_gradient.py:1616: ConvergenceWarning: Maximum number of iteration reached before convergence. Consider increasing max_iter to improve the fit.\n",
      "  warnings.warn(\n"
     ]
    },
    {
     "name": "stdout",
     "output_type": "stream",
     "text": [
      "[CV] END alpha=0.1, eta0=0.01, learning_rate=optimal, penalty=elasticnet; total time=  17.0s\n",
      "[CV] END alpha=0.1, eta0=0.01, learning_rate=adaptive, penalty=elasticnet; total time=   2.4s\n",
      "[CV] END alpha=0.1, eta0=0.01, learning_rate=adaptive, penalty=elasticnet; total time=   3.9s\n",
      "[CV] END alpha=0.1, eta0=0.01, learning_rate=adaptive, penalty=elasticnet; total time=   2.2s\n",
      "[CV] END alpha=0.1, eta0=0.1, learning_rate=constant, penalty=l2; total time=   0.1s\n",
      "[CV] END alpha=0.1, eta0=0.1, learning_rate=constant, penalty=l2; total time=   0.1s\n",
      "[CV] END alpha=0.1, eta0=0.1, learning_rate=constant, penalty=l2; total time=   0.2s\n",
      "[CV] END alpha=0.1, eta0=0.1, learning_rate=constant, penalty=l2; total time=   0.1s\n",
      "[CV] END alpha=0.1, eta0=0.1, learning_rate=constant, penalty=l2; total time=   0.1s\n",
      "[CV] END alpha=0.1, eta0=0.1, learning_rate=constant, penalty=l1; total time=   0.1s\n",
      "[CV] END alpha=0.1, eta0=0.1, learning_rate=constant, penalty=l1; total time=   0.1s\n",
      "[CV] END alpha=0.1, eta0=0.01, learning_rate=optimal, penalty=elasticnet; total time=  16.6s\n",
      "[CV] END alpha=0.1, eta0=0.1, learning_rate=constant, penalty=l1; total time=   0.1s\n"
     ]
    },
    {
     "name": "stderr",
     "output_type": "stream",
     "text": [
      "/Users/johannessolibieda/Library/Python/3.9/lib/python/site-packages/sklearn/linear_model/_stochastic_gradient.py:1616: ConvergenceWarning: Maximum number of iteration reached before convergence. Consider increasing max_iter to improve the fit.\n",
      "  warnings.warn(\n"
     ]
    },
    {
     "name": "stdout",
     "output_type": "stream",
     "text": [
      "[CV] END alpha=0.1, eta0=0.1, learning_rate=constant, penalty=l1; total time=   0.2s\n",
      "[CV] END alpha=0.1, eta0=0.1, learning_rate=constant, penalty=l1; total time=   0.3s\n",
      "[CV] END alpha=0.1, eta0=0.1, learning_rate=constant, penalty=elasticnet; total time=   0.4s\n",
      "[CV] END alpha=0.1, eta0=0.1, learning_rate=constant, penalty=elasticnet; total time=   0.2s\n",
      "[CV] END alpha=0.1, eta0=0.1, learning_rate=constant, penalty=elasticnet; total time=   0.5s\n",
      "[CV] END alpha=0.1, eta0=0.01, learning_rate=adaptive, penalty=elasticnet; total time=   2.1s\n",
      "[CV] END alpha=0.1, eta0=0.1, learning_rate=constant, penalty=elasticnet; total time=   0.2s\n",
      "[CV] END alpha=0.1, eta0=0.1, learning_rate=constant, penalty=elasticnet; total time=   0.3s\n",
      "[CV] END alpha=0.1, eta0=0.01, learning_rate=adaptive, penalty=l1; total time=  12.1s\n"
     ]
    },
    {
     "name": "stderr",
     "output_type": "stream",
     "text": [
      "/Users/johannessolibieda/Library/Python/3.9/lib/python/site-packages/sklearn/linear_model/_stochastic_gradient.py:1616: ConvergenceWarning: Maximum number of iteration reached before convergence. Consider increasing max_iter to improve the fit.\n",
      "  warnings.warn(\n"
     ]
    },
    {
     "name": "stdout",
     "output_type": "stream",
     "text": [
      "[CV] END alpha=0.1, eta0=0.01, learning_rate=adaptive, penalty=l1; total time=  16.5s\n"
     ]
    },
    {
     "name": "stderr",
     "output_type": "stream",
     "text": [
      "/Users/johannessolibieda/Library/Python/3.9/lib/python/site-packages/sklearn/linear_model/_stochastic_gradient.py:1616: ConvergenceWarning: Maximum number of iteration reached before convergence. Consider increasing max_iter to improve the fit.\n",
      "  warnings.warn(\n"
     ]
    },
    {
     "name": "stdout",
     "output_type": "stream",
     "text": [
      "[CV] END alpha=0.1, eta0=0.01, learning_rate=adaptive, penalty=l1; total time=  16.2s\n"
     ]
    },
    {
     "name": "stderr",
     "output_type": "stream",
     "text": [
      "/Users/johannessolibieda/Library/Python/3.9/lib/python/site-packages/sklearn/linear_model/_stochastic_gradient.py:1616: ConvergenceWarning: Maximum number of iteration reached before convergence. Consider increasing max_iter to improve the fit.\n",
      "  warnings.warn(\n",
      "/Users/johannessolibieda/Library/Python/3.9/lib/python/site-packages/sklearn/linear_model/_stochastic_gradient.py:1616: ConvergenceWarning: Maximum number of iteration reached before convergence. Consider increasing max_iter to improve the fit.\n",
      "  warnings.warn(\n"
     ]
    },
    {
     "name": "stdout",
     "output_type": "stream",
     "text": [
      "[CV] END alpha=0.1, eta0=0.01, learning_rate=adaptive, penalty=l1; total time=  16.5s\n",
      "[CV] END alpha=0.1, eta0=0.01, learning_rate=adaptive, penalty=l1; total time=  16.5s\n"
     ]
    },
    {
     "name": "stderr",
     "output_type": "stream",
     "text": [
      "/Users/johannessolibieda/Library/Python/3.9/lib/python/site-packages/sklearn/linear_model/_stochastic_gradient.py:1616: ConvergenceWarning: Maximum number of iteration reached before convergence. Consider increasing max_iter to improve the fit.\n",
      "  warnings.warn(\n",
      "/Users/johannessolibieda/Library/Python/3.9/lib/python/site-packages/sklearn/linear_model/_stochastic_gradient.py:1616: ConvergenceWarning: Maximum number of iteration reached before convergence. Consider increasing max_iter to improve the fit.\n",
      "  warnings.warn(\n"
     ]
    },
    {
     "name": "stdout",
     "output_type": "stream",
     "text": [
      "[CV] END alpha=0.1, eta0=0.1, learning_rate=optimal, penalty=l2; total time=  11.9s\n",
      "[CV] END alpha=0.1, eta0=0.1, learning_rate=optimal, penalty=l2; total time=  11.7s\n"
     ]
    },
    {
     "name": "stderr",
     "output_type": "stream",
     "text": [
      "/Users/johannessolibieda/Library/Python/3.9/lib/python/site-packages/sklearn/linear_model/_stochastic_gradient.py:1616: ConvergenceWarning: Maximum number of iteration reached before convergence. Consider increasing max_iter to improve the fit.\n",
      "  warnings.warn(\n"
     ]
    },
    {
     "name": "stdout",
     "output_type": "stream",
     "text": [
      "[CV] END alpha=0.1, eta0=0.1, learning_rate=optimal, penalty=l2; total time=  12.1s\n"
     ]
    },
    {
     "name": "stderr",
     "output_type": "stream",
     "text": [
      "/Users/johannessolibieda/Library/Python/3.9/lib/python/site-packages/sklearn/linear_model/_stochastic_gradient.py:1616: ConvergenceWarning: Maximum number of iteration reached before convergence. Consider increasing max_iter to improve the fit.\n",
      "  warnings.warn(\n"
     ]
    },
    {
     "name": "stdout",
     "output_type": "stream",
     "text": [
      "[CV] END alpha=0.1, eta0=0.1, learning_rate=optimal, penalty=l2; total time=  11.8s\n"
     ]
    },
    {
     "name": "stderr",
     "output_type": "stream",
     "text": [
      "/Users/johannessolibieda/Library/Python/3.9/lib/python/site-packages/sklearn/linear_model/_stochastic_gradient.py:1616: ConvergenceWarning: Maximum number of iteration reached before convergence. Consider increasing max_iter to improve the fit.\n",
      "  warnings.warn(\n"
     ]
    },
    {
     "name": "stdout",
     "output_type": "stream",
     "text": [
      "[CV] END alpha=0.1, eta0=0.1, learning_rate=optimal, penalty=l2; total time=  11.7s\n"
     ]
    },
    {
     "name": "stderr",
     "output_type": "stream",
     "text": [
      "/Users/johannessolibieda/Library/Python/3.9/lib/python/site-packages/sklearn/linear_model/_stochastic_gradient.py:1616: ConvergenceWarning: Maximum number of iteration reached before convergence. Consider increasing max_iter to improve the fit.\n",
      "  warnings.warn(\n"
     ]
    },
    {
     "name": "stdout",
     "output_type": "stream",
     "text": [
      "[CV] END alpha=0.1, eta0=0.1, learning_rate=optimal, penalty=l1; total time=  16.3s\n"
     ]
    },
    {
     "name": "stderr",
     "output_type": "stream",
     "text": [
      "/Users/johannessolibieda/Library/Python/3.9/lib/python/site-packages/sklearn/linear_model/_stochastic_gradient.py:1616: ConvergenceWarning: Maximum number of iteration reached before convergence. Consider increasing max_iter to improve the fit.\n",
      "  warnings.warn(\n",
      "/Users/johannessolibieda/Library/Python/3.9/lib/python/site-packages/sklearn/linear_model/_stochastic_gradient.py:1616: ConvergenceWarning: Maximum number of iteration reached before convergence. Consider increasing max_iter to improve the fit.\n",
      "  warnings.warn(\n"
     ]
    },
    {
     "name": "stdout",
     "output_type": "stream",
     "text": [
      "[CV] END alpha=0.1, eta0=0.1, learning_rate=optimal, penalty=l1; total time=  16.4s\n",
      "[CV] END alpha=0.1, eta0=0.1, learning_rate=optimal, penalty=l1; total time=  16.6s\n",
      "[CV] END alpha=0.1, eta0=0.1, learning_rate=invscaling, penalty=l2; total time=   0.4s\n",
      "[CV] END alpha=0.1, eta0=0.1, learning_rate=invscaling, penalty=l2; total time=   0.4s\n",
      "[CV] END alpha=0.1, eta0=0.1, learning_rate=invscaling, penalty=l2; total time=   0.5s\n",
      "[CV] END alpha=0.1, eta0=0.1, learning_rate=invscaling, penalty=l2; total time=   0.5s\n",
      "[CV] END alpha=0.1, eta0=0.1, learning_rate=invscaling, penalty=l2; total time=   0.6s\n",
      "[CV] END alpha=0.1, eta0=0.1, learning_rate=invscaling, penalty=l1; total time=   0.8s\n",
      "[CV] END alpha=0.1, eta0=0.1, learning_rate=invscaling, penalty=l1; total time=   0.8s\n"
     ]
    },
    {
     "name": "stderr",
     "output_type": "stream",
     "text": [
      "/Users/johannessolibieda/Library/Python/3.9/lib/python/site-packages/sklearn/linear_model/_stochastic_gradient.py:1616: ConvergenceWarning: Maximum number of iteration reached before convergence. Consider increasing max_iter to improve the fit.\n",
      "  warnings.warn(\n"
     ]
    },
    {
     "name": "stdout",
     "output_type": "stream",
     "text": [
      "[CV] END alpha=0.1, eta0=0.1, learning_rate=optimal, penalty=l1; total time=  15.9s\n",
      "[CV] END alpha=0.1, eta0=0.1, learning_rate=invscaling, penalty=l1; total time=   0.9s\n"
     ]
    },
    {
     "name": "stderr",
     "output_type": "stream",
     "text": [
      "/Users/johannessolibieda/Library/Python/3.9/lib/python/site-packages/sklearn/linear_model/_stochastic_gradient.py:1616: ConvergenceWarning: Maximum number of iteration reached before convergence. Consider increasing max_iter to improve the fit.\n",
      "  warnings.warn(\n"
     ]
    },
    {
     "name": "stdout",
     "output_type": "stream",
     "text": [
      "[CV] END alpha=0.1, eta0=0.1, learning_rate=optimal, penalty=l1; total time=  16.3s\n"
     ]
    },
    {
     "name": "stderr",
     "output_type": "stream",
     "text": [
      "/Users/johannessolibieda/Library/Python/3.9/lib/python/site-packages/sklearn/linear_model/_stochastic_gradient.py:1616: ConvergenceWarning: Maximum number of iteration reached before convergence. Consider increasing max_iter to improve the fit.\n",
      "  warnings.warn(\n"
     ]
    },
    {
     "name": "stdout",
     "output_type": "stream",
     "text": [
      "[CV] END alpha=0.1, eta0=0.1, learning_rate=optimal, penalty=elasticnet; total time=  16.3s\n",
      "[CV] END alpha=0.1, eta0=0.1, learning_rate=invscaling, penalty=l1; total time=   0.9s\n",
      "[CV] END alpha=0.1, eta0=0.1, learning_rate=invscaling, penalty=l1; total time=   1.1s\n",
      "[CV] END alpha=0.1, eta0=0.1, learning_rate=invscaling, penalty=elasticnet; total time=   0.9s\n",
      "[CV] END alpha=0.1, eta0=0.1, learning_rate=invscaling, penalty=elasticnet; total time=   1.0s\n",
      "[CV] END alpha=0.1, eta0=0.1, learning_rate=invscaling, penalty=elasticnet; total time=   0.6s\n",
      "[CV] END alpha=0.1, eta0=0.1, learning_rate=invscaling, penalty=elasticnet; total time=   1.0s\n"
     ]
    },
    {
     "name": "stderr",
     "output_type": "stream",
     "text": [
      "/Users/johannessolibieda/Library/Python/3.9/lib/python/site-packages/sklearn/linear_model/_stochastic_gradient.py:1616: ConvergenceWarning: Maximum number of iteration reached before convergence. Consider increasing max_iter to improve the fit.\n",
      "  warnings.warn(\n"
     ]
    },
    {
     "name": "stdout",
     "output_type": "stream",
     "text": [
      "[CV] END alpha=0.1, eta0=0.1, learning_rate=optimal, penalty=elasticnet; total time=  16.3s\n",
      "[CV] END alpha=0.1, eta0=0.1, learning_rate=invscaling, penalty=elasticnet; total time=   0.8s\n",
      "[CV] END alpha=0.1, eta0=0.1, learning_rate=adaptive, penalty=l2; total time=   1.2s\n",
      "[CV] END alpha=0.1, eta0=0.1, learning_rate=adaptive, penalty=l2; total time=   1.7s\n",
      "[CV] END alpha=0.1, eta0=0.1, learning_rate=adaptive, penalty=l2; total time=   1.7s\n",
      "[CV] END alpha=0.1, eta0=0.1, learning_rate=adaptive, penalty=l2; total time=   1.8s\n",
      "[CV] END alpha=0.1, eta0=0.1, learning_rate=adaptive, penalty=l2; total time=   1.8s\n"
     ]
    },
    {
     "name": "stderr",
     "output_type": "stream",
     "text": [
      "/Users/johannessolibieda/Library/Python/3.9/lib/python/site-packages/sklearn/linear_model/_stochastic_gradient.py:1616: ConvergenceWarning: Maximum number of iteration reached before convergence. Consider increasing max_iter to improve the fit.\n",
      "  warnings.warn(\n"
     ]
    },
    {
     "name": "stdout",
     "output_type": "stream",
     "text": [
      "[CV] END alpha=0.1, eta0=0.1, learning_rate=optimal, penalty=elasticnet; total time=  16.6s\n",
      "[CV] END alpha=0.1, eta0=0.1, learning_rate=adaptive, penalty=elasticnet; total time=   3.3s\n"
     ]
    },
    {
     "name": "stderr",
     "output_type": "stream",
     "text": [
      "/Users/johannessolibieda/Library/Python/3.9/lib/python/site-packages/sklearn/linear_model/_stochastic_gradient.py:1616: ConvergenceWarning: Maximum number of iteration reached before convergence. Consider increasing max_iter to improve the fit.\n",
      "  warnings.warn(\n"
     ]
    },
    {
     "name": "stdout",
     "output_type": "stream",
     "text": [
      "[CV] END alpha=0.1, eta0=0.1, learning_rate=optimal, penalty=elasticnet; total time=  16.1s\n"
     ]
    },
    {
     "name": "stderr",
     "output_type": "stream",
     "text": [
      "/Users/johannessolibieda/Library/Python/3.9/lib/python/site-packages/sklearn/linear_model/_stochastic_gradient.py:1616: ConvergenceWarning: Maximum number of iteration reached before convergence. Consider increasing max_iter to improve the fit.\n",
      "  warnings.warn(\n"
     ]
    },
    {
     "name": "stdout",
     "output_type": "stream",
     "text": [
      "[CV] END alpha=0.1, eta0=0.1, learning_rate=optimal, penalty=elasticnet; total time=  16.1s\n",
      "[CV] END alpha=0.1, eta0=0.1, learning_rate=adaptive, penalty=l1; total time=   7.8s\n",
      "[CV] END alpha=0.1, eta0=0.1, learning_rate=adaptive, penalty=elasticnet; total time=   3.1s\n",
      "[CV] END alpha=0.1, eta0=1, learning_rate=constant, penalty=l2; total time=   0.1s\n",
      "[CV] END alpha=0.1, eta0=1, learning_rate=constant, penalty=l2; total time=   0.1s\n",
      "[CV] END alpha=0.1, eta0=1, learning_rate=constant, penalty=l2; total time=   0.2s\n",
      "[CV] END alpha=0.1, eta0=1, learning_rate=constant, penalty=l2; total time=   0.1s\n",
      "[CV] END alpha=0.1, eta0=1, learning_rate=constant, penalty=l2; total time=   0.1s\n",
      "[CV] END alpha=0.1, eta0=1, learning_rate=constant, penalty=l1; total time=   0.2s\n",
      "[CV] END alpha=0.1, eta0=1, learning_rate=constant, penalty=l1; total time=   0.1s\n",
      "[CV] END alpha=0.1, eta0=1, learning_rate=constant, penalty=l1; total time=   0.2s\n",
      "[CV] END alpha=0.1, eta0=1, learning_rate=constant, penalty=l1; total time=   0.2s\n",
      "[CV] END alpha=0.1, eta0=0.1, learning_rate=adaptive, penalty=elasticnet; total time=   2.7s\n",
      "[CV] END alpha=0.1, eta0=1, learning_rate=constant, penalty=l1; total time=   0.1s\n",
      "[CV] END alpha=0.1, eta0=0.1, learning_rate=adaptive, penalty=elasticnet; total time=   3.6s\n",
      "[CV] END alpha=0.1, eta0=1, learning_rate=constant, penalty=elasticnet; total time=   0.5s\n",
      "[CV] END alpha=0.1, eta0=1, learning_rate=constant, penalty=elasticnet; total time=   0.4s\n",
      "[CV] END alpha=0.1, eta0=1, learning_rate=constant, penalty=elasticnet; total time=   0.4s\n",
      "[CV] END alpha=0.1, eta0=1, learning_rate=constant, penalty=elasticnet; total time=   0.3s\n",
      "[CV] END alpha=0.1, eta0=1, learning_rate=constant, penalty=elasticnet; total time=   0.5s\n",
      "[CV] END alpha=0.1, eta0=0.1, learning_rate=adaptive, penalty=elasticnet; total time=   3.4s\n"
     ]
    },
    {
     "name": "stderr",
     "output_type": "stream",
     "text": [
      "/Users/johannessolibieda/Library/Python/3.9/lib/python/site-packages/sklearn/linear_model/_stochastic_gradient.py:1616: ConvergenceWarning: Maximum number of iteration reached before convergence. Consider increasing max_iter to improve the fit.\n",
      "  warnings.warn(\n"
     ]
    },
    {
     "name": "stdout",
     "output_type": "stream",
     "text": [
      "[CV] END alpha=0.1, eta0=0.1, learning_rate=adaptive, penalty=l1; total time=  16.7s\n"
     ]
    },
    {
     "name": "stderr",
     "output_type": "stream",
     "text": [
      "/Users/johannessolibieda/Library/Python/3.9/lib/python/site-packages/sklearn/linear_model/_stochastic_gradient.py:1616: ConvergenceWarning: Maximum number of iteration reached before convergence. Consider increasing max_iter to improve the fit.\n",
      "  warnings.warn(\n",
      "/Users/johannessolibieda/Library/Python/3.9/lib/python/site-packages/sklearn/linear_model/_stochastic_gradient.py:1616: ConvergenceWarning: Maximum number of iteration reached before convergence. Consider increasing max_iter to improve the fit.\n",
      "  warnings.warn(\n"
     ]
    },
    {
     "name": "stdout",
     "output_type": "stream",
     "text": [
      "[CV] END alpha=0.1, eta0=0.1, learning_rate=adaptive, penalty=l1; total time=  16.8s\n",
      "[CV] END alpha=0.1, eta0=0.1, learning_rate=adaptive, penalty=l1; total time=  16.9s\n"
     ]
    },
    {
     "name": "stderr",
     "output_type": "stream",
     "text": [
      "/Users/johannessolibieda/Library/Python/3.9/lib/python/site-packages/sklearn/linear_model/_stochastic_gradient.py:1616: ConvergenceWarning: Maximum number of iteration reached before convergence. Consider increasing max_iter to improve the fit.\n",
      "  warnings.warn(\n"
     ]
    },
    {
     "name": "stdout",
     "output_type": "stream",
     "text": [
      "[CV] END alpha=0.1, eta0=0.1, learning_rate=adaptive, penalty=l1; total time=  16.6s\n"
     ]
    },
    {
     "name": "stderr",
     "output_type": "stream",
     "text": [
      "/Users/johannessolibieda/Library/Python/3.9/lib/python/site-packages/sklearn/linear_model/_stochastic_gradient.py:1616: ConvergenceWarning: Maximum number of iteration reached before convergence. Consider increasing max_iter to improve the fit.\n",
      "  warnings.warn(\n",
      "/Users/johannessolibieda/Library/Python/3.9/lib/python/site-packages/sklearn/linear_model/_stochastic_gradient.py:1616: ConvergenceWarning: Maximum number of iteration reached before convergence. Consider increasing max_iter to improve the fit.\n",
      "  warnings.warn(\n",
      "/Users/johannessolibieda/Library/Python/3.9/lib/python/site-packages/sklearn/linear_model/_stochastic_gradient.py:1616: ConvergenceWarning: Maximum number of iteration reached before convergence. Consider increasing max_iter to improve the fit.\n",
      "  warnings.warn(\n",
      "/Users/johannessolibieda/Library/Python/3.9/lib/python/site-packages/sklearn/linear_model/_stochastic_gradient.py:1616: ConvergenceWarning: Maximum number of iteration reached before convergence. Consider increasing max_iter to improve the fit.\n",
      "  warnings.warn(\n"
     ]
    },
    {
     "name": "stdout",
     "output_type": "stream",
     "text": [
      "[CV] END alpha=0.1, eta0=1, learning_rate=optimal, penalty=l2; total time=  11.3s\n",
      "[CV] END alpha=0.1, eta0=1, learning_rate=optimal, penalty=l2; total time=  11.2s\n",
      "[CV] END alpha=0.1, eta0=1, learning_rate=optimal, penalty=l2; total time=  11.3s\n",
      "[CV] END alpha=0.1, eta0=1, learning_rate=optimal, penalty=l2; total time=  11.1s\n"
     ]
    },
    {
     "name": "stderr",
     "output_type": "stream",
     "text": [
      "/Users/johannessolibieda/Library/Python/3.9/lib/python/site-packages/sklearn/linear_model/_stochastic_gradient.py:1616: ConvergenceWarning: Maximum number of iteration reached before convergence. Consider increasing max_iter to improve the fit.\n",
      "  warnings.warn(\n"
     ]
    },
    {
     "name": "stdout",
     "output_type": "stream",
     "text": [
      "[CV] END alpha=0.1, eta0=1, learning_rate=optimal, penalty=l2; total time=  11.0s\n"
     ]
    },
    {
     "name": "stderr",
     "output_type": "stream",
     "text": [
      "/Users/johannessolibieda/Library/Python/3.9/lib/python/site-packages/sklearn/linear_model/_stochastic_gradient.py:1616: ConvergenceWarning: Maximum number of iteration reached before convergence. Consider increasing max_iter to improve the fit.\n",
      "  warnings.warn(\n",
      "/Users/johannessolibieda/Library/Python/3.9/lib/python/site-packages/sklearn/linear_model/_stochastic_gradient.py:1616: ConvergenceWarning: Maximum number of iteration reached before convergence. Consider increasing max_iter to improve the fit.\n",
      "  warnings.warn(\n"
     ]
    },
    {
     "name": "stdout",
     "output_type": "stream",
     "text": [
      "[CV] END alpha=0.1, eta0=1, learning_rate=optimal, penalty=l1; total time=  16.1s\n",
      "[CV] END alpha=0.1, eta0=1, learning_rate=optimal, penalty=l1; total time=  16.2s\n"
     ]
    },
    {
     "name": "stderr",
     "output_type": "stream",
     "text": [
      "/Users/johannessolibieda/Library/Python/3.9/lib/python/site-packages/sklearn/linear_model/_stochastic_gradient.py:1616: ConvergenceWarning: Maximum number of iteration reached before convergence. Consider increasing max_iter to improve the fit.\n",
      "  warnings.warn(\n"
     ]
    },
    {
     "name": "stdout",
     "output_type": "stream",
     "text": [
      "[CV] END alpha=0.1, eta0=1, learning_rate=optimal, penalty=l1; total time=  16.5s\n",
      "[CV] END alpha=0.1, eta0=1, learning_rate=invscaling, penalty=l2; total time=   1.2s\n",
      "[CV] END alpha=0.1, eta0=1, learning_rate=invscaling, penalty=l2; total time=   1.8s\n",
      "[CV] END alpha=0.1, eta0=1, learning_rate=invscaling, penalty=l2; total time=   1.1s\n"
     ]
    },
    {
     "name": "stderr",
     "output_type": "stream",
     "text": [
      "/Users/johannessolibieda/Library/Python/3.9/lib/python/site-packages/sklearn/linear_model/_stochastic_gradient.py:1616: ConvergenceWarning: Maximum number of iteration reached before convergence. Consider increasing max_iter to improve the fit.\n",
      "  warnings.warn(\n"
     ]
    },
    {
     "name": "stdout",
     "output_type": "stream",
     "text": [
      "[CV] END alpha=0.1, eta0=1, learning_rate=optimal, penalty=l1; total time=  16.0s\n",
      "[CV] END alpha=0.1, eta0=1, learning_rate=invscaling, penalty=l2; total time=   0.8s\n"
     ]
    },
    {
     "name": "stderr",
     "output_type": "stream",
     "text": [
      "/Users/johannessolibieda/Library/Python/3.9/lib/python/site-packages/sklearn/linear_model/_stochastic_gradient.py:1616: ConvergenceWarning: Maximum number of iteration reached before convergence. Consider increasing max_iter to improve the fit.\n",
      "  warnings.warn(\n",
      "/Users/johannessolibieda/Library/Python/3.9/lib/python/site-packages/sklearn/linear_model/_stochastic_gradient.py:1616: ConvergenceWarning: Maximum number of iteration reached before convergence. Consider increasing max_iter to improve the fit.\n",
      "  warnings.warn(\n",
      "/Users/johannessolibieda/Library/Python/3.9/lib/python/site-packages/sklearn/linear_model/_stochastic_gradient.py:1616: ConvergenceWarning: Maximum number of iteration reached before convergence. Consider increasing max_iter to improve the fit.\n",
      "  warnings.warn(\n"
     ]
    },
    {
     "name": "stdout",
     "output_type": "stream",
     "text": [
      "[CV] END alpha=0.1, eta0=1, learning_rate=optimal, penalty=l1; total time=  16.3s\n",
      "[CV] END alpha=0.1, eta0=1, learning_rate=optimal, penalty=elasticnet; total time=  16.3s\n",
      "[CV] END alpha=0.1, eta0=1, learning_rate=optimal, penalty=elasticnet; total time=  16.5s\n",
      "[CV] END alpha=0.1, eta0=1, learning_rate=invscaling, penalty=l2; total time=   0.9s\n",
      "[CV] END alpha=0.1, eta0=1, learning_rate=invscaling, penalty=l1; total time=   1.5s\n",
      "[CV] END alpha=0.1, eta0=1, learning_rate=invscaling, penalty=l1; total time=   1.6s\n",
      "[CV] END alpha=0.1, eta0=1, learning_rate=invscaling, penalty=l1; total time=   1.9s\n",
      "[CV] END alpha=0.1, eta0=1, learning_rate=invscaling, penalty=l1; total time=   1.6s\n",
      "[CV] END alpha=0.1, eta0=1, learning_rate=invscaling, penalty=l1; total time=   2.7s\n",
      "[CV] END alpha=0.1, eta0=1, learning_rate=invscaling, penalty=elasticnet; total time=   2.1s\n",
      "[CV] END alpha=0.1, eta0=1, learning_rate=invscaling, penalty=elasticnet; total time=   2.0s\n",
      "[CV] END alpha=0.1, eta0=1, learning_rate=invscaling, penalty=elasticnet; total time=   1.5s\n",
      "[CV] END alpha=0.1, eta0=1, learning_rate=invscaling, penalty=elasticnet; total time=   2.3s\n",
      "[CV] END alpha=0.1, eta0=1, learning_rate=invscaling, penalty=elasticnet; total time=   2.2s\n",
      "[CV] END alpha=0.1, eta0=1, learning_rate=adaptive, penalty=l2; total time=   1.5s\n"
     ]
    },
    {
     "name": "stderr",
     "output_type": "stream",
     "text": [
      "/Users/johannessolibieda/Library/Python/3.9/lib/python/site-packages/sklearn/linear_model/_stochastic_gradient.py:1616: ConvergenceWarning: Maximum number of iteration reached before convergence. Consider increasing max_iter to improve the fit.\n",
      "  warnings.warn(\n"
     ]
    },
    {
     "name": "stdout",
     "output_type": "stream",
     "text": [
      "[CV] END alpha=0.1, eta0=1, learning_rate=optimal, penalty=elasticnet; total time=  16.5s\n",
      "[CV] END alpha=0.1, eta0=1, learning_rate=adaptive, penalty=l2; total time=   1.3s\n",
      "[CV] END alpha=0.1, eta0=1, learning_rate=adaptive, penalty=l2; total time=   2.2s\n",
      "[CV] END alpha=0.1, eta0=1, learning_rate=adaptive, penalty=l2; total time=   2.6s\n",
      "[CV] END alpha=0.1, eta0=1, learning_rate=adaptive, penalty=l2; total time=   1.5s\n"
     ]
    },
    {
     "name": "stderr",
     "output_type": "stream",
     "text": [
      "/Users/johannessolibieda/Library/Python/3.9/lib/python/site-packages/sklearn/linear_model/_stochastic_gradient.py:1616: ConvergenceWarning: Maximum number of iteration reached before convergence. Consider increasing max_iter to improve the fit.\n",
      "  warnings.warn(\n",
      "/Users/johannessolibieda/Library/Python/3.9/lib/python/site-packages/sklearn/linear_model/_stochastic_gradient.py:1616: ConvergenceWarning: Maximum number of iteration reached before convergence. Consider increasing max_iter to improve the fit.\n",
      "  warnings.warn(\n"
     ]
    },
    {
     "name": "stdout",
     "output_type": "stream",
     "text": [
      "[CV] END alpha=0.1, eta0=1, learning_rate=optimal, penalty=elasticnet; total time=  16.1s\n",
      "[CV] END alpha=0.1, eta0=1, learning_rate=optimal, penalty=elasticnet; total time=  16.3s\n",
      "[CV] END alpha=0.1, eta0=1, learning_rate=adaptive, penalty=elasticnet; total time=   5.5s\n",
      "[CV] END alpha=0.1, eta0=1, learning_rate=adaptive, penalty=elasticnet; total time=   3.3s\n",
      "[CV] END alpha=0.1, eta0=1, learning_rate=adaptive, penalty=elasticnet; total time=   2.7s\n",
      "[CV] END alpha=0.1, eta0=1, learning_rate=adaptive, penalty=elasticnet; total time=   5.4s\n",
      "[CV] END alpha=0.1, eta0=1, learning_rate=adaptive, penalty=elasticnet; total time=   4.4s\n",
      "[CV] END alpha=0.1, eta0=1, learning_rate=adaptive, penalty=l1; total time=  14.8s\n",
      "[CV] END alpha=0.1, eta0=1, learning_rate=adaptive, penalty=l1; total time=  15.6s\n"
     ]
    },
    {
     "name": "stderr",
     "output_type": "stream",
     "text": [
      "/Users/johannessolibieda/Library/Python/3.9/lib/python/site-packages/sklearn/linear_model/_stochastic_gradient.py:1616: ConvergenceWarning: Maximum number of iteration reached before convergence. Consider increasing max_iter to improve the fit.\n",
      "  warnings.warn(\n",
      "/Users/johannessolibieda/Library/Python/3.9/lib/python/site-packages/sklearn/linear_model/_stochastic_gradient.py:1616: ConvergenceWarning: Maximum number of iteration reached before convergence. Consider increasing max_iter to improve the fit.\n",
      "  warnings.warn(\n"
     ]
    },
    {
     "name": "stdout",
     "output_type": "stream",
     "text": [
      "[CV] END alpha=0.1, eta0=1, learning_rate=adaptive, penalty=l1; total time=  15.7s\n",
      "[CV] END alpha=0.1, eta0=1, learning_rate=adaptive, penalty=l1; total time=  15.6s\n"
     ]
    },
    {
     "name": "stderr",
     "output_type": "stream",
     "text": [
      "/Users/johannessolibieda/Library/Python/3.9/lib/python/site-packages/sklearn/linear_model/_stochastic_gradient.py:1616: ConvergenceWarning: Maximum number of iteration reached before convergence. Consider increasing max_iter to improve the fit.\n",
      "  warnings.warn(\n",
      "/Users/johannessolibieda/Library/Python/3.9/lib/python/site-packages/sklearn/linear_model/_stochastic_gradient.py:1616: ConvergenceWarning: Maximum number of iteration reached before convergence. Consider increasing max_iter to improve the fit.\n",
      "  warnings.warn(\n"
     ]
    },
    {
     "name": "stdout",
     "output_type": "stream",
     "text": [
      "[CV] END alpha=0.1, eta0=1, learning_rate=adaptive, penalty=l1; total time=  15.3s\n"
     ]
    },
    {
     "name": "stderr",
     "output_type": "stream",
     "text": [
      "100%|██████████| 100/100 [00:00<00:00, 602629.89it/s]\n"
     ]
    },
    {
     "name": "stdout",
     "output_type": "stream",
     "text": [
      "Best Parameters: {'alpha': 0.01, 'eta0': 0.001, 'learning_rate': 'invscaling', 'penalty': 'l1'}\n",
      "Best Score: -35.73712680646632\n",
      "Mean Squared Error on Test Set: 52.514188609290755\n",
      "Mean Squared Error on Validation Set: 37.84375665882705\n",
      "Fold 1/5, MSE: 40.43596367322116\n",
      "Fold 2/5, MSE: 50.278694612437675\n",
      "Fold 3/5, MSE: 31.272217421511538\n",
      "Fold 4/5, MSE: 35.2320550435464\n",
      "Fold 5/5, MSE: 12.930791933906375\n"
     ]
    }
   ],
   "source": [
    "import numpy as np\n",
    "from sklearn.linear_model import SGDRegressor\n",
    "from sklearn.model_selection import train_test_split, GridSearchCV\n",
    "from sklearn.metrics import mean_squared_error\n",
    "from tqdm import tqdm\n",
    "import matplotlib.pyplot as plt\n",
    "from sklearn.preprocessing import StandardScaler\n",
    "import pickle\n",
    "from joblib import Parallel, delayed\n",
    "\n",
    "# Ensure the features and target dataframes are correctly assigned\n",
    "features = features.drop(columns=['Datum'])\n",
    "target = target['PM10_Combined_Trend_Residual']\n",
    "\n",
    "# Split the data into train, test, and validate sets\n",
    "train_data, temp_data, train_target, temp_target = train_test_split(features, target, test_size=0.3, random_state=42)\n",
    "test_data, validate_data, test_target, validate_target = train_test_split(temp_data, temp_target, test_size=0.3333, random_state=42)\n",
    "\n",
    "# Add difference (growth/decrease) features\n",
    "features_diff = features.diff().fillna(0)\n",
    "features = pd.concat([features, features_diff.add_suffix('_diff')], axis=1)\n",
    "\n",
    "# Add squared features\n",
    "features_squared = features ** 2\n",
    "features = pd.concat([features, features_squared.add_suffix('_squared')], axis=1)\n",
    "\n",
    "# Standardize the features\n",
    "scaler = StandardScaler()\n",
    "features_scaled = scaler.fit_transform(features)\n",
    "\n",
    "# Save the scaler using pickle\n",
    "with open('scaler.pkl', 'wb') as f:\n",
    "    pickle.dump(scaler, f)\n",
    "\n",
    "# Update the train, test, and validate sets with the scaled features\n",
    "train_data, temp_data, train_target, temp_target = train_test_split(features_scaled, target, test_size=0.3, random_state=42)\n",
    "test_data, validate_data, test_target, validate_target = train_test_split(temp_data, temp_target, test_size=0.3333, random_state=42)\n",
    "\n",
    "# Define the parameter grid for GridSearchCV\n",
    "param_grid = {\n",
    "    'alpha': [0.0001, 0.001, 0.01, 0.1],\n",
    "    'eta0': [0.001, 0.01, 0.1, 1],\n",
    "    'learning_rate': ['constant', 'optimal', 'invscaling', 'adaptive'],\n",
    "    'penalty': ['l2', 'l1', 'elasticnet']\n",
    "}\n",
    "\n",
    "# Initialize the SGDRegressor\n",
    "sgd = SGDRegressor(max_iter=1000, tol=1e-3)\n",
    "\n",
    "# Initialize GridSearchCV\n",
    "grid_search = GridSearchCV(sgd, param_grid, cv=5, scoring='neg_mean_squared_error', n_jobs=-1, verbose=2)\n",
    "\n",
    "# Fit the model\n",
    "grid_search.fit(train_data, train_target.values.ravel())\n",
    "\n",
    "# Get the best parameters and best score\n",
    "best_params = grid_search.best_params_\n",
    "best_score = grid_search.best_score_\n",
    "\n",
    "# Plot the progress bar\n",
    "progress_bar = tqdm(total=100)\n",
    "for i in range(100):\n",
    "    progress_bar.update(1)\n",
    "progress_bar.close()\n",
    "\n",
    "# Print the best parameters and best score\n",
    "print(\"Best Parameters:\", best_params)\n",
    "print(\"Best Score:\", best_score)\n",
    "\n",
    "# Evaluate the model on the test set\n",
    "predictions = grid_search.predict(test_data)\n",
    "mse = mean_squared_error(test_target, predictions)\n",
    "print(\"Mean Squared Error on Test Set:\", mse)\n",
    "\n",
    "# Evaluate the model on the validation set\n",
    "validate_predictions = grid_search.predict(validate_data)\n",
    "validate_mse = mean_squared_error(validate_target, validate_predictions)\n",
    "print(\"Mean Squared Error on Validation Set:\", validate_mse)\n",
    "\n",
    "# Function to train and evaluate model for each fold\n",
    "def train_and_evaluate(fold):\n",
    "    start_train_size = initial_train_size + fold * test_size\n",
    "    end_train_size = start_train_size + test_size\n",
    "\n",
    "    X_train_fold = train_data[:end_train_size]\n",
    "    y_train_fold = train_target[:end_train_size]\n",
    "    X_test_fold = train_data[end_train_size:end_train_size + test_size]\n",
    "    y_test_fold = train_target[end_train_size:end_train_size + test_size]\n",
    "\n",
    "    model = SGDRegressor(**best_params, max_iter=1000, tol=1e-3)\n",
    "    model.fit(X_train_fold, y_train_fold)\n",
    "    fold_predictions = model.predict(X_test_fold)\n",
    "    fold_mse = mean_squared_error(y_test_fold, fold_predictions)\n",
    "    return fold, fold_mse\n",
    "\n",
    "# Expanding CV Fold Sizes\n",
    "initial_train_size = int(0.5 * len(train_data))\n",
    "test_size = int(0.1 * len(train_data))\n",
    "num_folds = (len(train_data) - initial_train_size) // test_size\n",
    "\n",
    "# Use joblib to parallelize the computation\n",
    "results = Parallel(n_jobs=-1)(delayed(train_and_evaluate)(fold) for fold in range(num_folds))\n",
    "\n",
    "# Print the results for each fold\n",
    "for fold, fold_mse in results:\n",
    "    print(f\"Fold {fold + 1}/{num_folds}, MSE: {fold_mse}\")"
   ]
  },
  {
   "cell_type": "code",
   "execution_count": 4,
   "metadata": {},
   "outputs": [
    {
     "name": "stdout",
     "output_type": "stream",
     "text": [
      "Fitting 5 folds for each of 9 candidates, totalling 45 fits\n",
      "[CV] END alpha=0.005, eta0=0.001, learning_rate=invscaling, penalty=l1; total time=   0.6s\n",
      "[CV] END alpha=0.005, eta0=0.0005, learning_rate=invscaling, penalty=l1; total time=   0.8s\n",
      "[CV] END alpha=0.005, eta0=0.001, learning_rate=invscaling, penalty=l1; total time=   1.0s\n",
      "[CV] END alpha=0.005, eta0=0.001, learning_rate=invscaling, penalty=l1; total time=   1.0s\n",
      "[CV] END alpha=0.005, eta0=0.005, learning_rate=invscaling, penalty=l1; total time=   0.2s\n",
      "[CV] END alpha=0.005, eta0=0.0005, learning_rate=invscaling, penalty=l1; total time=   1.2s\n",
      "[CV] END alpha=0.005, eta0=0.0005, learning_rate=invscaling, penalty=l1; total time=   1.2s\n",
      "[CV] END alpha=0.005, eta0=0.0005, learning_rate=invscaling, penalty=l1; total time=   1.4s\n",
      "[CV] END alpha=0.005, eta0=0.005, learning_rate=invscaling, penalty=l1; total time=   0.3s\n",
      "[CV] END alpha=0.005, eta0=0.0005, learning_rate=invscaling, penalty=l1; total time=   1.5s\n",
      "[CV] END alpha=0.005, eta0=0.001, learning_rate=invscaling, penalty=l1; total time=   0.8s\n",
      "[CV] END alpha=0.005, eta0=0.001, learning_rate=invscaling, penalty=l1; total time=   1.0s\n",
      "[CV] END alpha=0.005, eta0=0.005, learning_rate=invscaling, penalty=l1; total time=   0.6s\n",
      "[CV] END alpha=0.005, eta0=0.005, learning_rate=invscaling, penalty=l1; total time=   0.6s\n",
      "[CV] END alpha=0.005, eta0=0.005, learning_rate=invscaling, penalty=l1; total time=   0.7s\n",
      "[CV] END alpha=0.01, eta0=0.001, learning_rate=invscaling, penalty=l1; total time=   0.9s\n",
      "[CV] END alpha=0.01, eta0=0.001, learning_rate=invscaling, penalty=l1; total time=   0.8s\n",
      "[CV] END alpha=0.01, eta0=0.0005, learning_rate=invscaling, penalty=l1; total time=   1.4s\n",
      "[CV] END alpha=0.01, eta0=0.0005, learning_rate=invscaling, penalty=l1; total time=   1.5s\n",
      "[CV] END alpha=0.01, eta0=0.0005, learning_rate=invscaling, penalty=l1; total time=   1.5s\n",
      "[CV] END alpha=0.01, eta0=0.0005, learning_rate=invscaling, penalty=l1; total time=   1.3s\n",
      "[CV] END alpha=0.01, eta0=0.0005, learning_rate=invscaling, penalty=l1; total time=   1.4s\n",
      "[CV] END alpha=0.01, eta0=0.005, learning_rate=invscaling, penalty=l1; total time=   0.2s\n",
      "[CV] END alpha=0.01, eta0=0.005, learning_rate=invscaling, penalty=l1; total time=   0.4s\n",
      "[CV] END alpha=0.01, eta0=0.005, learning_rate=invscaling, penalty=l1; total time=   0.5s\n",
      "[CV] END alpha=0.01, eta0=0.005, learning_rate=invscaling, penalty=l1; total time=   0.7s\n",
      "[CV] END alpha=0.01, eta0=0.001, learning_rate=invscaling, penalty=l1; total time=   1.7s\n",
      "[CV] END alpha=0.01, eta0=0.001, learning_rate=invscaling, penalty=l1; total time=   1.1s\n",
      "[CV] END alpha=0.01, eta0=0.005, learning_rate=invscaling, penalty=l1; total time=   0.9s\n",
      "[CV] END alpha=0.01, eta0=0.001, learning_rate=invscaling, penalty=l1; total time=   1.4s\n",
      "[CV] END alpha=0.05, eta0=0.0005, learning_rate=invscaling, penalty=l1; total time=   1.2s\n",
      "[CV] END alpha=0.05, eta0=0.001, learning_rate=invscaling, penalty=l1; total time=   1.0s\n",
      "[CV] END alpha=0.05, eta0=0.001, learning_rate=invscaling, penalty=l1; total time=   0.9s\n",
      "[CV] END alpha=0.05, eta0=0.0005, learning_rate=invscaling, penalty=l1; total time=   1.5s\n",
      "[CV] END alpha=0.05, eta0=0.001, learning_rate=invscaling, penalty=l1; total time=   1.5s\n",
      "[CV] END alpha=0.05, eta0=0.0005, learning_rate=invscaling, penalty=l1; total time=   1.8s\n",
      "[CV] END alpha=0.05, eta0=0.0005, learning_rate=invscaling, penalty=l1; total time=   2.3s\n",
      "[CV] END alpha=0.05, eta0=0.005, learning_rate=invscaling, penalty=l1; total time=   0.6s\n",
      "[CV] END alpha=0.05, eta0=0.001, learning_rate=invscaling, penalty=l1; total time=   0.9s\n",
      "[CV] END alpha=0.05, eta0=0.001, learning_rate=invscaling, penalty=l1; total time=   1.2s\n",
      "[CV] END alpha=0.05, eta0=0.005, learning_rate=invscaling, penalty=l1; total time=   0.5s\n",
      "[CV] END alpha=0.05, eta0=0.0005, learning_rate=invscaling, penalty=l1; total time=   2.0s\n",
      "[CV] END alpha=0.05, eta0=0.005, learning_rate=invscaling, penalty=l1; total time=   0.5s\n",
      "[CV] END alpha=0.05, eta0=0.005, learning_rate=invscaling, penalty=l1; total time=   0.4s\n",
      "[CV] END alpha=0.05, eta0=0.005, learning_rate=invscaling, penalty=l1; total time=   0.4s\n",
      "Refined Best Parameters: {'alpha': 0.01, 'eta0': 0.001, 'learning_rate': 'invscaling', 'penalty': 'l1'}\n",
      "Refined Best Score: -35.70777448261049\n",
      "Refined Mean Squared Error on Test Set: 52.459205512661846\n",
      "Refined Mean Squared Error on Validation Set: 37.95547635875546\n"
     ]
    }
   ],
   "source": [
    "# Define a more focused parameter grid for GridSearchCV based on the best parameters\n",
    "refined_param_grid = {\n",
    "    'alpha': [best_params['alpha'] * 0.5, best_params['alpha'], best_params['alpha'] * 5],\n",
    "    'eta0': [best_params['eta0'] * 0.5, best_params['eta0'], best_params['eta0'] * 5],\n",
    "    'learning_rate': [best_params['learning_rate']],\n",
    "    'penalty': [best_params['penalty']]\n",
    "}\n",
    "\n",
    "# Initialize a new GridSearchCV with the refined parameter grid\n",
    "refined_grid_search = GridSearchCV(sgd, refined_param_grid, cv=5, scoring='neg_mean_squared_error', n_jobs=-1, verbose=2)\n",
    "\n",
    "# Fit the model with the refined parameter grid\n",
    "refined_grid_search.fit(train_data, train_target.values.ravel())\n",
    "\n",
    "# Get the best parameters and best score from the refined search\n",
    "refined_best_params = refined_grid_search.best_params_\n",
    "refined_best_score = refined_grid_search.best_score_\n",
    "\n",
    "# Print the refined best parameters and best score\n",
    "print(\"Refined Best Parameters:\", refined_best_params)\n",
    "print(\"Refined Best Score:\", refined_best_score)\n",
    "\n",
    "# Evaluate the refined model on the test set\n",
    "refined_predictions = refined_grid_search.predict(test_data)\n",
    "refined_mse = mean_squared_error(test_target, refined_predictions)\n",
    "print(\"Refined Mean Squared Error on Test Set:\", refined_mse)\n",
    "\n",
    "# Evaluate the refined model on the validation set\n",
    "refined_validate_predictions = refined_grid_search.predict(validate_data)\n",
    "refined_validate_mse = mean_squared_error(validate_target, refined_validate_predictions)\n",
    "print(\"Refined Mean Squared Error on Validation Set:\", refined_validate_mse)"
   ]
  }
 ],
 "metadata": {
  "kernelspec": {
   "display_name": "Python 3",
   "language": "python",
   "name": "python3"
  },
  "language_info": {
   "codemirror_mode": {
    "name": "ipython",
    "version": 3
   },
   "file_extension": ".py",
   "mimetype": "text/x-python",
   "name": "python",
   "nbconvert_exporter": "python",
   "pygments_lexer": "ipython3",
   "version": "3.9.6"
  }
 },
 "nbformat": 4,
 "nbformat_minor": 2
}
