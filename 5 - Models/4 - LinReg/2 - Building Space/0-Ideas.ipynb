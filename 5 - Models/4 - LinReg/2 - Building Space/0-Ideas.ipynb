{
 "cells": [
  {
   "cell_type": "markdown",
   "metadata": {},
   "source": [
    "### Ideas for Stochastic Gradient Descent LinReg Specifications\n",
    "- split into 7 for expanding window validation\n",
    "- features squared\n",
    "- Ridge, Lasso and lamda regularization\n",
    "- learning rate\n",
    "- max iterations, convergence goal eta\n",
    "- Mean Absolute Percentage Error (MAPE): Measures the accuracy of the forecast as a percentage of the actual value.\n",
    "- Root Mean Squared Error (RMSE): Measures the average magnitude of the errors."
   ]
  },
  {
   "cell_type": "markdown",
   "metadata": {},
   "source": [
    "Create a stochastic gradient descent linear regression with the following specifications:\n",
    "\n",
    "- Train-Test-Validate Split\n",
    "- Train: 70% of the data.\n",
    "- Test: 20% of the data.\n",
    "- Validate: 10% of the data.\n",
    "- Expanding CV Fold Sizes:, Initial Train Size: 50% of the train set, Test Size (Fixed): 10% of the train set, Number of Folds: (total points - initial train set) // test size = 5.\n",
    "- Iterate for ridge/lasso penalty, lamda and different learning rate\n",
    "- Choose convergence goal wisely\n",
    "- Please print a bar that shows how much of computation has already been made\n",
    "- Make sure to respect all the given points"
   ]
  },
  {
   "cell_type": "markdown",
   "metadata": {},
   "source": [
    "- make sure lowest ist zero\n",
    "- stochastic gradient descent without regularization\n"
   ]
  }
 ],
 "metadata": {
  "language_info": {
   "name": "python"
  }
 },
 "nbformat": 4,
 "nbformat_minor": 2
}
