{
 "cells": [
  {
   "cell_type": "markdown",
   "metadata": {},
   "source": [
    "### Ideas for Stochastic Gradient Descent LinReg Specifications\n",
    "- split into 7 for expanding window validation\n",
    "- features squared\n",
    "- Ridge, Lasso and lamda regularization\n",
    "- learning rate\n",
    "- max iterations, convergence goal eta\n",
    "- Mean Absolute Percentage Error (MAPE): Measures the accuracy of the forecast as a percentage of the actual value.\n",
    "- Root Mean Squared Error (RMSE): Measures the average magnitude of the errors."
   ]
  }
 ],
 "metadata": {
  "language_info": {
   "name": "python"
  }
 },
 "nbformat": 4,
 "nbformat_minor": 2
}
