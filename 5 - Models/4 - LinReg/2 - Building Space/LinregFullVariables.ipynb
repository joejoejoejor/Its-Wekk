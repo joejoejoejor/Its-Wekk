{
 "cells": [
  {
   "cell_type": "code",
   "execution_count": 1,
   "metadata": {},
   "outputs": [],
   "source": [
    "import pandas as pd\n",
    "features = pd.read_csv('/Users/johannessolibieda/Documents/GitHub/Its-Wekk/Fucking Final Data/Working_DataFrame.csv')\n",
    "target = pd.read_csv('/Users/johannessolibieda/Documents/GitHub/Its-Wekk/Fucking Final Data/CleanedFinal_Target_Data_Combined_resid_Trend')"
   ]
  },
  {
   "cell_type": "code",
   "execution_count": 2,
   "metadata": {},
   "outputs": [
    {
     "name": "stdout",
     "output_type": "stream",
     "text": [
      "Length of features dataframe: 24574\n",
      "Length of target dataframe: 24574\n"
     ]
    }
   ],
   "source": [
    "# Ensure the features and target dataframes have similar lengths\n",
    "min_length = min(len(features), len(target))\n",
    "features = features.iloc[:min_length]\n",
    "target = target.iloc[:min_length]\n",
    "\n",
    "# Print the lengths to verify\n",
    "print(f\"Length of features dataframe: {len(features)}\")\n",
    "print(f\"Length of target dataframe: {len(target)}\")"
   ]
  },
  {
   "cell_type": "code",
   "execution_count": 3,
   "metadata": {},
   "outputs": [],
   "source": [
    "from sklearn.preprocessing import PolynomialFeatures\n",
    "from sklearn.model_selection import train_test_split\n",
    "\n",
    "# Ensure the features and target dataframes are correctly assigned\n",
    "features = features.drop(columns=['Datum'])\n",
    "target = target['PM10_Combined_Trend_Residual']\n",
    "\n",
    "# Add squared features\n",
    "poly = PolynomialFeatures(degree=2, include_bias=False)\n",
    "features_poly = poly.fit_transform(features)\n",
    "\n",
    "# Split the data into train, test, and validate sets\n",
    "train_data, temp_data, train_target, temp_target = train_test_split(features_poly, target, test_size=0.3, random_state=42)\n",
    "test_data, validate_data, test_target, validate_target = train_test_split(temp_data, temp_target, test_size=0.3333, random_state=42)"
   ]
  },
  {
   "cell_type": "code",
   "execution_count": null,
   "metadata": {},
   "outputs": [
    {
     "name": "stdout",
     "output_type": "stream",
     "text": [
      "Fitting 3 folds for each of 16 candidates, totalling 48 fits\n"
     ]
    },
    {
     "name": "stderr",
     "output_type": "stream",
     "text": [
      "Python(15911) MallocStackLogging: can't turn off malloc stack logging because it was not enabled.\n",
      "Python(15912) MallocStackLogging: can't turn off malloc stack logging because it was not enabled.\n",
      "Python(15913) MallocStackLogging: can't turn off malloc stack logging because it was not enabled.\n",
      "Python(15914) MallocStackLogging: can't turn off malloc stack logging because it was not enabled.\n",
      "Python(15915) MallocStackLogging: can't turn off malloc stack logging because it was not enabled.\n",
      "Python(15916) MallocStackLogging: can't turn off malloc stack logging because it was not enabled.\n",
      "Python(15917) MallocStackLogging: can't turn off malloc stack logging because it was not enabled.\n",
      "Python(15918) MallocStackLogging: can't turn off malloc stack logging because it was not enabled.\n",
      "Python(15919) MallocStackLogging: can't turn off malloc stack logging because it was not enabled.\n",
      "Python(15920) MallocStackLogging: can't turn off malloc stack logging because it was not enabled.\n"
     ]
    }
   ],
   "source": [
    "from sklearn.linear_model import SGDRegressor\n",
    "from sklearn.model_selection import GridSearchCV\n",
    "from sklearn.metrics import mean_squared_error\n",
    "from tqdm import tqdm\n",
    "\n",
    "# Define a smaller parameter grid for GridSearchCV\n",
    "param_grid = {\n",
    "    'alpha': [0.0001, 0.001],\n",
    "    'eta0': [0.01, 0.1],\n",
    "    'learning_rate': ['constant', 'optimal'],\n",
    "    'penalty': ['l2', 'l1']\n",
    "}\n",
    "\n",
    "# Initialize the SGDRegressor\n",
    "sgd = SGDRegressor(max_iter=1000, tol=1e-3)\n",
    "\n",
    "# Initialize GridSearchCV with fewer cross-validation folds\n",
    "grid_search = GridSearchCV(sgd, param_grid, cv=3, scoring='neg_mean_squared_error', n_jobs=-1, verbose=2)\n",
    "\n",
    "# Fit the model\n",
    "grid_search.fit(train_data, train_target.values.ravel())\n",
    "\n",
    "# Get the best parameters and best score\n",
    "best_params = grid_search.best_params_\n",
    "best_score = grid_search.best_score_\n",
    "\n",
    "# Plot the progress bar\n",
    "progress_bar = tqdm(total=100)\n",
    "for i in range(100):\n",
    "    progress_bar.update(1)\n",
    "progress_bar.close()\n",
    "\n",
    "# Print the best parameters and best score\n",
    "print(\"Best Parameters:\", best_params)\n",
    "print(\"Best Score:\", best_score)\n",
    "\n",
    "# Evaluate the model on the test set\n",
    "predictions = grid_search.predict(test_data)\n",
    "mse = mean_squared_error(test_target, predictions)\n",
    "print(\"Mean Squared Error on Test Set:\", mse)\n",
    "\n",
    "# Evaluate the model on the validation set\n",
    "validate_predictions = grid_search.predict(validate_data)\n",
    "validate_mse = mean_squared_error(validate_target, validate_predictions)\n",
    "print(\"Mean Squared Error on Validation Set:\", validate_mse)\n",
    "\n",
    "# Expanding CV Fold Sizes\n",
    "initial_train_size = int(0.5 * len(train_data))\n",
    "test_size = int(0.1 * len(train_data))\n",
    "num_folds = (len(train_data) - initial_train_size) // test_size\n",
    "\n",
    "for fold in range(num_folds):\n",
    "    start_train_size = initial_train_size + fold * test_size\n",
    "    end_train_size = start_train_size + test_size\n",
    "\n",
    "    X_train_fold = train_data[:end_train_size]\n",
    "    y_train_fold = train_target[:end_train_size]\n",
    "    X_test_fold = train_data[end_train_size:end_train_size + test_size]\n",
    "    y_test_fold = train_target[end_train_size:end_train_size + test_size]\n",
    "\n",
    "    model = SGDRegressor(**best_params, max_iter=1000, tol=1e-3)\n",
    "    model.fit(X_train_fold, y_train_fold)\n",
    "    fold_predictions = model.predict(X_test_fold)\n",
    "    fold_mse = mean_squared_error(y_test_fold, fold_predictions)\n",
    "    print(f\"Fold {fold + 1}/{num_folds}, MSE: {fold_mse}\")\n"
   ]
  }
 ],
 "metadata": {
  "kernelspec": {
   "display_name": "Python 3",
   "language": "python",
   "name": "python3"
  },
  "language_info": {
   "codemirror_mode": {
    "name": "ipython",
    "version": 3
   },
   "file_extension": ".py",
   "mimetype": "text/x-python",
   "name": "python",
   "nbconvert_exporter": "python",
   "pygments_lexer": "ipython3",
   "version": "3.9.6"
  }
 },
 "nbformat": 4,
 "nbformat_minor": 2
}
