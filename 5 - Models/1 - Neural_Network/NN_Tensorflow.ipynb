{
 "cells": [
  {
   "cell_type": "markdown",
   "metadata": {},
   "source": [
    "**Import Tensorflow as Neural Network package**"
   ]
  },
  {
   "cell_type": "code",
   "execution_count": 175,
   "metadata": {},
   "outputs": [],
   "source": [
    "import pandas as pd \n",
    "import numpy as np\n",
    "from tensorflow.keras.models import Sequential\n",
    "from tensorflow.keras.layers import Dense\n",
    "from tensorflow.keras.optimizers import Adam\n",
    "from tensorflow.keras.regularizers import l2\n",
    "from tensorflow.keras.layers import Dropout\n",
    "from tensorflow.keras.callbacks import EarlyStopping, ReduceLROnPlateau # take it out before handing in !!!!!!!!!!!!!!!!!!!!!!!!!!!!!!!!!!!!!!!!!!!!!!!!!!!!!!!!\n",
    "import tensorflow as tf"
   ]
  },
  {
   "cell_type": "code",
   "execution_count": 156,
   "metadata": {},
   "outputs": [
    {
     "name": "stdout",
     "output_type": "stream",
     "text": [
      "TensorFlow version:  2.18.0\n"
     ]
    }
   ],
   "source": [
    "print(\"TensorFlow version: \", tf.__version__)"
   ]
  },
  {
   "cell_type": "code",
   "execution_count": 157,
   "metadata": {},
   "outputs": [],
   "source": [
    "Data = pd.read_csv(r\"C:\\Users\\maxd2\\OneDrive - Universitaet St.Gallen\\Dokumente\\GitHub\\Its-Wekk\\4 - Data\\Working_DataFrame.csv\")\n",
    "Target = pd.read_csv(r\"C:\\Users\\maxd2\\OneDrive - Universitaet St.Gallen\\Dokumente\\GitHub\\Its-Wekk\\5 - Models\\Neural_Network\\Data\\Final_Target_Data_Combined_resid_Trend.csv\")"
   ]
  },
  {
   "cell_type": "code",
   "execution_count": 158,
   "metadata": {},
   "outputs": [
    {
     "data": {
      "text/html": [
       "<div>\n",
       "<style scoped>\n",
       "    .dataframe tbody tr th:only-of-type {\n",
       "        vertical-align: middle;\n",
       "    }\n",
       "\n",
       "    .dataframe tbody tr th {\n",
       "        vertical-align: top;\n",
       "    }\n",
       "\n",
       "    .dataframe thead th {\n",
       "        text-align: right;\n",
       "    }\n",
       "</style>\n",
       "<table border=\"1\" class=\"dataframe\">\n",
       "  <thead>\n",
       "    <tr style=\"text-align: right;\">\n",
       "      <th></th>\n",
       "      <th>Rebgassechange</th>\n",
       "      <th>Clarahuuschange</th>\n",
       "      <th>Citychange</th>\n",
       "      <th>Storchenchange</th>\n",
       "      <th>Post Baselchange</th>\n",
       "      <th>Aeschenchange</th>\n",
       "      <th>Bahnhof Südchange</th>\n",
       "      <th>Bad. Bahnhofchange</th>\n",
       "      <th>Europechange</th>\n",
       "      <th>Claramattechange</th>\n",
       "      <th>...</th>\n",
       "      <th>84111104v_sumPW</th>\n",
       "      <th>84111104v_sumLief</th>\n",
       "      <th>84111104v_sumLW</th>\n",
       "      <th>84111108n_sumPW</th>\n",
       "      <th>84111108n_sumLief</th>\n",
       "      <th>84111108n_sumLW</th>\n",
       "      <th>84111108v_sumPW</th>\n",
       "      <th>84111108v_sumLief</th>\n",
       "      <th>84111108v_sumLW</th>\n",
       "      <th>Gasverbrauch</th>\n",
       "    </tr>\n",
       "  </thead>\n",
       "  <tbody>\n",
       "    <tr>\n",
       "      <th>0</th>\n",
       "      <td>-0.489808</td>\n",
       "      <td>-1.162325</td>\n",
       "      <td>-0.163786</td>\n",
       "      <td>-1.110112</td>\n",
       "      <td>-0.000054</td>\n",
       "      <td>-0.258093</td>\n",
       "      <td>-0.245491</td>\n",
       "      <td>-0.158272</td>\n",
       "      <td>-0.151270</td>\n",
       "      <td>-1.607696</td>\n",
       "      <td>...</td>\n",
       "      <td>-1.36395</td>\n",
       "      <td>1.425346</td>\n",
       "      <td>-0.124348</td>\n",
       "      <td>-0.686018</td>\n",
       "      <td>-0.571421</td>\n",
       "      <td>-1.055084</td>\n",
       "      <td>-0.814853</td>\n",
       "      <td>-0.416962</td>\n",
       "      <td>-1.072471</td>\n",
       "      <td>0.294494</td>\n",
       "    </tr>\n",
       "    <tr>\n",
       "      <th>1</th>\n",
       "      <td>-0.489808</td>\n",
       "      <td>-0.193898</td>\n",
       "      <td>-0.043944</td>\n",
       "      <td>-0.525891</td>\n",
       "      <td>-0.191296</td>\n",
       "      <td>-0.000173</td>\n",
       "      <td>-0.000190</td>\n",
       "      <td>-0.000462</td>\n",
       "      <td>-0.000203</td>\n",
       "      <td>-0.000156</td>\n",
       "      <td>...</td>\n",
       "      <td>-1.36395</td>\n",
       "      <td>0.745474</td>\n",
       "      <td>-0.744920</td>\n",
       "      <td>-0.955306</td>\n",
       "      <td>-0.781539</td>\n",
       "      <td>-1.055084</td>\n",
       "      <td>-1.048762</td>\n",
       "      <td>-0.773270</td>\n",
       "      <td>-1.072471</td>\n",
       "      <td>0.357518</td>\n",
       "    </tr>\n",
       "    <tr>\n",
       "      <th>2</th>\n",
       "      <td>-0.279837</td>\n",
       "      <td>-0.000213</td>\n",
       "      <td>-0.011259</td>\n",
       "      <td>-0.058515</td>\n",
       "      <td>-0.000054</td>\n",
       "      <td>-0.000173</td>\n",
       "      <td>-0.122840</td>\n",
       "      <td>-0.000462</td>\n",
       "      <td>-0.000203</td>\n",
       "      <td>-0.000156</td>\n",
       "      <td>...</td>\n",
       "      <td>-1.36395</td>\n",
       "      <td>0.575505</td>\n",
       "      <td>-0.744920</td>\n",
       "      <td>-0.937353</td>\n",
       "      <td>-0.571421</td>\n",
       "      <td>-1.055084</td>\n",
       "      <td>-1.057758</td>\n",
       "      <td>-0.416962</td>\n",
       "      <td>-1.072471</td>\n",
       "      <td>0.385414</td>\n",
       "    </tr>\n",
       "    <tr>\n",
       "      <th>3</th>\n",
       "      <td>-0.209846</td>\n",
       "      <td>-0.000213</td>\n",
       "      <td>-0.011259</td>\n",
       "      <td>-0.350625</td>\n",
       "      <td>-0.000054</td>\n",
       "      <td>-0.000173</td>\n",
       "      <td>-0.000190</td>\n",
       "      <td>-0.000462</td>\n",
       "      <td>-0.000203</td>\n",
       "      <td>-0.000156</td>\n",
       "      <td>...</td>\n",
       "      <td>-1.36395</td>\n",
       "      <td>0.269563</td>\n",
       "      <td>-0.744920</td>\n",
       "      <td>-1.045068</td>\n",
       "      <td>-0.571421</td>\n",
       "      <td>-1.055084</td>\n",
       "      <td>-1.201702</td>\n",
       "      <td>-0.416962</td>\n",
       "      <td>-1.072471</td>\n",
       "      <td>0.617131</td>\n",
       "    </tr>\n",
       "    <tr>\n",
       "      <th>4</th>\n",
       "      <td>-0.139856</td>\n",
       "      <td>-0.000213</td>\n",
       "      <td>0.021425</td>\n",
       "      <td>0.116751</td>\n",
       "      <td>-0.000054</td>\n",
       "      <td>-0.000173</td>\n",
       "      <td>0.245112</td>\n",
       "      <td>-0.000462</td>\n",
       "      <td>0.150864</td>\n",
       "      <td>-0.000156</td>\n",
       "      <td>...</td>\n",
       "      <td>-1.36395</td>\n",
       "      <td>0.575505</td>\n",
       "      <td>-0.331206</td>\n",
       "      <td>-1.063021</td>\n",
       "      <td>-0.781539</td>\n",
       "      <td>-1.055084</td>\n",
       "      <td>-1.255681</td>\n",
       "      <td>-0.654501</td>\n",
       "      <td>-1.072471</td>\n",
       "      <td>1.109860</td>\n",
       "    </tr>\n",
       "  </tbody>\n",
       "</table>\n",
       "<p>5 rows × 148 columns</p>\n",
       "</div>"
      ],
      "text/plain": [
       "   Rebgassechange  Clarahuuschange  Citychange  Storchenchange  \\\n",
       "0       -0.489808        -1.162325   -0.163786       -1.110112   \n",
       "1       -0.489808        -0.193898   -0.043944       -0.525891   \n",
       "2       -0.279837        -0.000213   -0.011259       -0.058515   \n",
       "3       -0.209846        -0.000213   -0.011259       -0.350625   \n",
       "4       -0.139856        -0.000213    0.021425        0.116751   \n",
       "\n",
       "   Post Baselchange  Aeschenchange  Bahnhof Südchange  Bad. Bahnhofchange  \\\n",
       "0         -0.000054      -0.258093          -0.245491           -0.158272   \n",
       "1         -0.191296      -0.000173          -0.000190           -0.000462   \n",
       "2         -0.000054      -0.000173          -0.122840           -0.000462   \n",
       "3         -0.000054      -0.000173          -0.000190           -0.000462   \n",
       "4         -0.000054      -0.000173           0.245112           -0.000462   \n",
       "\n",
       "   Europechange  Claramattechange  ...  84111104v_sumPW  84111104v_sumLief  \\\n",
       "0     -0.151270         -1.607696  ...         -1.36395           1.425346   \n",
       "1     -0.000203         -0.000156  ...         -1.36395           0.745474   \n",
       "2     -0.000203         -0.000156  ...         -1.36395           0.575505   \n",
       "3     -0.000203         -0.000156  ...         -1.36395           0.269563   \n",
       "4      0.150864         -0.000156  ...         -1.36395           0.575505   \n",
       "\n",
       "   84111104v_sumLW  84111108n_sumPW  84111108n_sumLief  84111108n_sumLW  \\\n",
       "0        -0.124348        -0.686018          -0.571421        -1.055084   \n",
       "1        -0.744920        -0.955306          -0.781539        -1.055084   \n",
       "2        -0.744920        -0.937353          -0.571421        -1.055084   \n",
       "3        -0.744920        -1.045068          -0.571421        -1.055084   \n",
       "4        -0.331206        -1.063021          -0.781539        -1.055084   \n",
       "\n",
       "   84111108v_sumPW  84111108v_sumLief  84111108v_sumLW  Gasverbrauch  \n",
       "0        -0.814853          -0.416962        -1.072471      0.294494  \n",
       "1        -1.048762          -0.773270        -1.072471      0.357518  \n",
       "2        -1.057758          -0.416962        -1.072471      0.385414  \n",
       "3        -1.201702          -0.416962        -1.072471      0.617131  \n",
       "4        -1.255681          -0.654501        -1.072471      1.109860  \n",
       "\n",
       "[5 rows x 148 columns]"
      ]
     },
     "execution_count": 158,
     "metadata": {},
     "output_type": "execute_result"
    }
   ],
   "source": [
    "Target.head()\n",
    "\n",
    "Data.drop(columns = ['Datum'], inplace = True)\n",
    "Data.head()\n"
   ]
  },
  {
   "cell_type": "code",
   "execution_count": 159,
   "metadata": {},
   "outputs": [],
   "source": [
    "#Lag Feature einbauen, da die Feinstaubkonzentration häufig von den Werten der letzten Tage abhängt \n",
    "lag_hours = 24\n",
    "\n",
    "# Erstelle für jede Stunde in der Vergangenheit eine Lag-Feature-Spalte\n",
    "for lag in range(1, lag_hours + 1):  \n",
    "    Data[f'Feature_lag_{lag}'] = Target['PM10_Combined_Trend_Residual'].shift(lag)\n",
    "\n",
    "# Entfernen von Zeilen mit NaN-Werten, die durch das Verschieben der Daten entstehen\n",
    "Data.dropna(inplace=True)\n",
    "# Stelle sicher, dass du NaN-Werte aus beiden X und y entfernst\n",
    "\n",
    "# Stelle sicher, dass Target denselben Index hat wie Data\n",
    "Target = Target.loc[Data.index]\n",
    "\n"
   ]
  },
  {
   "cell_type": "code",
   "execution_count": 160,
   "metadata": {},
   "outputs": [],
   "source": [
    "from sklearn.preprocessing import StandardScaler\n",
    "scaler = StandardScaler()\n",
    "Data = scaler.fit_transform(Data)"
   ]
  },
  {
   "cell_type": "code",
   "execution_count": 161,
   "metadata": {},
   "outputs": [],
   "source": [
    "# Beispiel: Annahme, X.shape[0] = 1000 (1000 Zeitpunkte)\n",
    "n = Data.shape[0]\n",
    "X = Data.copy()\n",
    "y = Target[\"PM10_Combined_Trend_Residual\"].copy()\n",
    "\n",
    "# Split-Größen definieren\n",
    "train_size = int(n * 0.7)  # 70% Training\n",
    "val_size = int(n * 0.2)    # 20% Validierung\n",
    "test_size = n - train_size - val_size  # 10% Test\n",
    "\n",
    "# Training (älteste Daten)\n",
    "X_train, y_train = X[:train_size], y[:train_size]\n",
    "\n",
    "# Validierung (neuere Daten)\n",
    "X_val, y_val = X[train_size:train_size + val_size], y[train_size:train_size + val_size]\n",
    "\n",
    "# Test (neueste Daten)\n",
    "X_test, y_test = X[train_size + val_size:], y[train_size + val_size:]\n"
   ]
  },
  {
   "cell_type": "code",
   "execution_count": 162,
   "metadata": {},
   "outputs": [
    {
     "name": "stderr",
     "output_type": "stream",
     "text": [
      "C:\\Users\\maxd2\\AppData\\Local\\Packages\\PythonSoftwareFoundation.Python.3.11_qbz5n2kfra8p0\\LocalCache\\local-packages\\Python311\\site-packages\\keras\\src\\layers\\core\\dense.py:87: UserWarning: Do not pass an `input_shape`/`input_dim` argument to a layer. When using Sequential models, prefer using an `Input(shape)` object as the first layer in the model instead.\n",
      "  super().__init__(activity_regularizer=activity_regularizer, **kwargs)\n"
     ]
    }
   ],
   "source": [
    "model = Sequential([\n",
    "    Dense(256, activation='relu', input_shape=(Data.shape[1],), kernel_regularizer=l2(0.01)),\n",
    "    Dropout(0.2),\n",
    "    Dense(128, activation='relu'),\n",
    "    Dropout(0.3),\n",
    "    Dense(64, activation='relu'),\n",
    "    Dense(1, activation='linear'),\n",
    "])"
   ]
  },
  {
   "cell_type": "code",
   "execution_count": 163,
   "metadata": {},
   "outputs": [],
   "source": [
    "optimizer = Adam(learning_rate=0.002)\n",
    "model.compile(optimizer='adam', loss='mean_squared_error', metrics=['mae', 'mse'])"
   ]
  },
  {
   "cell_type": "code",
   "execution_count": 164,
   "metadata": {},
   "outputs": [],
   "source": [
    "# Early Stopping Callback\n",
    "early_stopping = EarlyStopping(\n",
    "    patience=20,  # Training stoppt, wenn sich der Validierungs-Loss 5 Epochs lang nicht verbessert\n",
    "    restore_best_weights=True  # Die besten Gewichte werden zurückgeladen\n",
    ")"
   ]
  },
  {
   "cell_type": "code",
   "execution_count": 165,
   "metadata": {},
   "outputs": [
    {
     "name": "stdout",
     "output_type": "stream",
     "text": [
      "Epoch 1/800\n",
      "\u001b[1m269/269\u001b[0m \u001b[32m━━━━━━━━━━━━━━━━━━━━\u001b[0m\u001b[37m\u001b[0m \u001b[1m1s\u001b[0m 2ms/step - loss: 45.1424 - mae: 4.5204 - mse: 43.0480 - val_loss: 23.9363 - val_mae: 2.7677 - val_mse: 21.9004\n",
      "Epoch 2/800\n",
      "\u001b[1m269/269\u001b[0m \u001b[32m━━━━━━━━━━━━━━━━━━━━\u001b[0m\u001b[37m\u001b[0m \u001b[1m1s\u001b[0m 2ms/step - loss: 12.8184 - mae: 2.3363 - mse: 10.8158 - val_loss: 23.5143 - val_mae: 2.8485 - val_mse: 21.6085\n",
      "Epoch 3/800\n",
      "\u001b[1m269/269\u001b[0m \u001b[32m━━━━━━━━━━━━━━━━━━━━\u001b[0m\u001b[37m\u001b[0m \u001b[1m0s\u001b[0m 2ms/step - loss: 11.5308 - mae: 2.2010 - mse: 9.6550 - val_loss: 25.6169 - val_mae: 3.0321 - val_mse: 23.8308\n",
      "Epoch 4/800\n",
      "\u001b[1m269/269\u001b[0m \u001b[32m━━━━━━━━━━━━━━━━━━━━\u001b[0m\u001b[37m\u001b[0m \u001b[1m0s\u001b[0m 2ms/step - loss: 11.7341 - mae: 2.1454 - mse: 9.9752 - val_loss: 26.9676 - val_mae: 3.3020 - val_mse: 25.2974\n",
      "Epoch 5/800\n",
      "\u001b[1m269/269\u001b[0m \u001b[32m━━━━━━━━━━━━━━━━━━━━\u001b[0m\u001b[37m\u001b[0m \u001b[1m1s\u001b[0m 2ms/step - loss: 10.7390 - mae: 2.0637 - mse: 9.0940 - val_loss: 23.7759 - val_mae: 2.8864 - val_mse: 22.2103\n",
      "Epoch 6/800\n",
      "\u001b[1m269/269\u001b[0m \u001b[32m━━━━━━━━━━━━━━━━━━━━\u001b[0m\u001b[37m\u001b[0m \u001b[1m0s\u001b[0m 2ms/step - loss: 11.2807 - mae: 2.0006 - mse: 9.7366 - val_loss: 22.5395 - val_mae: 2.7505 - val_mse: 21.0700\n",
      "Epoch 7/800\n",
      "\u001b[1m269/269\u001b[0m \u001b[32m━━━━━━━━━━━━━━━━━━━━\u001b[0m\u001b[37m\u001b[0m \u001b[1m1s\u001b[0m 2ms/step - loss: 9.1340 - mae: 1.9496 - mse: 7.6888 - val_loss: 20.5208 - val_mae: 2.5873 - val_mse: 19.1421\n",
      "Epoch 8/800\n",
      "\u001b[1m269/269\u001b[0m \u001b[32m━━━━━━━━━━━━━━━━━━━━\u001b[0m\u001b[37m\u001b[0m \u001b[1m0s\u001b[0m 2ms/step - loss: 10.7990 - mae: 1.9941 - mse: 9.4387 - val_loss: 20.1133 - val_mae: 2.6147 - val_mse: 18.8172\n",
      "Epoch 9/800\n",
      "\u001b[1m269/269\u001b[0m \u001b[32m━━━━━━━━━━━━━━━━━━━━\u001b[0m\u001b[37m\u001b[0m \u001b[1m0s\u001b[0m 2ms/step - loss: 8.8181 - mae: 1.8966 - mse: 7.5437 - val_loss: 19.7065 - val_mae: 2.5007 - val_mse: 18.4925\n",
      "Epoch 10/800\n",
      "\u001b[1m269/269\u001b[0m \u001b[32m━━━━━━━━━━━━━━━━━━━━\u001b[0m\u001b[37m\u001b[0m \u001b[1m0s\u001b[0m 2ms/step - loss: 9.3880 - mae: 1.9421 - mse: 8.1845 - val_loss: 19.0022 - val_mae: 2.4943 - val_mse: 17.8470\n",
      "Epoch 11/800\n",
      "\u001b[1m269/269\u001b[0m \u001b[32m━━━━━━━━━━━━━━━━━━━━\u001b[0m\u001b[37m\u001b[0m \u001b[1m1s\u001b[0m 2ms/step - loss: 8.8364 - mae: 1.8993 - mse: 7.6993 - val_loss: 19.8980 - val_mae: 2.5305 - val_mse: 18.8065\n",
      "Epoch 12/800\n",
      "\u001b[1m269/269\u001b[0m \u001b[32m━━━━━━━━━━━━━━━━━━━━\u001b[0m\u001b[37m\u001b[0m \u001b[1m0s\u001b[0m 2ms/step - loss: 9.1883 - mae: 1.8547 - mse: 8.1096 - val_loss: 21.1751 - val_mae: 2.8196 - val_mse: 20.1445\n",
      "Epoch 13/800\n",
      "\u001b[1m269/269\u001b[0m \u001b[32m━━━━━━━━━━━━━━━━━━━━\u001b[0m\u001b[37m\u001b[0m \u001b[1m0s\u001b[0m 2ms/step - loss: 9.6367 - mae: 1.8534 - mse: 8.6174 - val_loss: 18.8278 - val_mae: 2.4325 - val_mse: 17.8544\n",
      "Epoch 14/800\n",
      "\u001b[1m269/269\u001b[0m \u001b[32m━━━━━━━━━━━━━━━━━━━━\u001b[0m\u001b[37m\u001b[0m \u001b[1m0s\u001b[0m 2ms/step - loss: 9.2771 - mae: 1.8501 - mse: 8.3113 - val_loss: 20.2840 - val_mae: 2.6121 - val_mse: 19.3547\n",
      "Epoch 15/800\n",
      "\u001b[1m269/269\u001b[0m \u001b[32m━━━━━━━━━━━━━━━━━━━━\u001b[0m\u001b[37m\u001b[0m \u001b[1m0s\u001b[0m 2ms/step - loss: 7.7558 - mae: 1.7852 - mse: 6.8380 - val_loss: 20.6081 - val_mae: 2.6968 - val_mse: 19.7149\n",
      "Epoch 16/800\n",
      "\u001b[1m269/269\u001b[0m \u001b[32m━━━━━━━━━━━━━━━━━━━━\u001b[0m\u001b[37m\u001b[0m \u001b[1m0s\u001b[0m 2ms/step - loss: 7.5519 - mae: 1.7664 - mse: 6.6698 - val_loss: 21.8961 - val_mae: 2.8592 - val_mse: 21.0394\n",
      "Epoch 17/800\n",
      "\u001b[1m269/269\u001b[0m \u001b[32m━━━━━━━━━━━━━━━━━━━━\u001b[0m\u001b[37m\u001b[0m \u001b[1m0s\u001b[0m 2ms/step - loss: 7.8828 - mae: 1.8040 - mse: 7.0291 - val_loss: 22.8853 - val_mae: 2.8879 - val_mse: 22.0572\n",
      "Epoch 18/800\n",
      "\u001b[1m269/269\u001b[0m \u001b[32m━━━━━━━━━━━━━━━━━━━━\u001b[0m\u001b[37m\u001b[0m \u001b[1m1s\u001b[0m 2ms/step - loss: 7.6611 - mae: 1.7409 - mse: 6.8431 - val_loss: 22.4253 - val_mae: 2.8556 - val_mse: 21.6294\n",
      "Epoch 19/800\n",
      "\u001b[1m269/269\u001b[0m \u001b[32m━━━━━━━━━━━━━━━━━━━━\u001b[0m\u001b[37m\u001b[0m \u001b[1m0s\u001b[0m 2ms/step - loss: 7.2933 - mae: 1.7378 - mse: 6.5003 - val_loss: 18.7633 - val_mae: 2.4736 - val_mse: 17.9869\n",
      "Epoch 20/800\n",
      "\u001b[1m269/269\u001b[0m \u001b[32m━━━━━━━━━━━━━━━━━━━━\u001b[0m\u001b[37m\u001b[0m \u001b[1m1s\u001b[0m 2ms/step - loss: 7.2855 - mae: 1.7170 - mse: 6.5137 - val_loss: 22.7952 - val_mae: 2.8412 - val_mse: 22.0417\n",
      "Epoch 21/800\n",
      "\u001b[1m269/269\u001b[0m \u001b[32m━━━━━━━━━━━━━━━━━━━━\u001b[0m\u001b[37m\u001b[0m \u001b[1m1s\u001b[0m 2ms/step - loss: 7.6691 - mae: 1.7220 - mse: 6.9148 - val_loss: 21.1927 - val_mae: 2.7103 - val_mse: 20.4574\n",
      "Epoch 22/800\n",
      "\u001b[1m269/269\u001b[0m \u001b[32m━━━━━━━━━━━━━━━━━━━━\u001b[0m\u001b[37m\u001b[0m \u001b[1m1s\u001b[0m 2ms/step - loss: 7.8767 - mae: 1.7293 - mse: 7.1383 - val_loss: 18.9194 - val_mae: 2.4616 - val_mse: 18.2024\n",
      "Epoch 23/800\n",
      "\u001b[1m269/269\u001b[0m \u001b[32m━━━━━━━━━━━━━━━━━━━━\u001b[0m\u001b[37m\u001b[0m \u001b[1m1s\u001b[0m 2ms/step - loss: 6.5949 - mae: 1.6648 - mse: 5.8864 - val_loss: 22.4698 - val_mae: 2.8157 - val_mse: 21.7640\n",
      "Epoch 24/800\n",
      "\u001b[1m269/269\u001b[0m \u001b[32m━━━━━━━━━━━━━━━━━━━━\u001b[0m\u001b[37m\u001b[0m \u001b[1m0s\u001b[0m 2ms/step - loss: 7.1661 - mae: 1.6730 - mse: 6.4587 - val_loss: 24.6567 - val_mae: 2.9860 - val_mse: 23.9559\n",
      "Epoch 25/800\n",
      "\u001b[1m269/269\u001b[0m \u001b[32m━━━━━━━━━━━━━━━━━━━━\u001b[0m\u001b[37m\u001b[0m \u001b[1m1s\u001b[0m 2ms/step - loss: 7.4798 - mae: 1.7201 - mse: 6.7833 - val_loss: 20.5382 - val_mae: 2.6240 - val_mse: 19.8428\n",
      "Epoch 26/800\n",
      "\u001b[1m269/269\u001b[0m \u001b[32m━━━━━━━━━━━━━━━━━━━━\u001b[0m\u001b[37m\u001b[0m \u001b[1m0s\u001b[0m 2ms/step - loss: 6.7283 - mae: 1.6517 - mse: 6.0412 - val_loss: 22.1511 - val_mae: 2.7895 - val_mse: 21.4638\n",
      "Epoch 27/800\n",
      "\u001b[1m269/269\u001b[0m \u001b[32m━━━━━━━━━━━━━━━━━━━━\u001b[0m\u001b[37m\u001b[0m \u001b[1m0s\u001b[0m 2ms/step - loss: 6.6266 - mae: 1.6451 - mse: 5.9396 - val_loss: 20.9814 - val_mae: 2.6605 - val_mse: 20.3070\n",
      "Epoch 28/800\n",
      "\u001b[1m269/269\u001b[0m \u001b[32m━━━━━━━━━━━━━━━━━━━━\u001b[0m\u001b[37m\u001b[0m \u001b[1m0s\u001b[0m 2ms/step - loss: 6.6627 - mae: 1.6590 - mse: 5.9920 - val_loss: 23.0668 - val_mae: 2.9030 - val_mse: 22.3914\n",
      "Epoch 29/800\n",
      "\u001b[1m269/269\u001b[0m \u001b[32m━━━━━━━━━━━━━━━━━━━━\u001b[0m\u001b[37m\u001b[0m \u001b[1m0s\u001b[0m 2ms/step - loss: 7.2569 - mae: 1.6952 - mse: 6.5818 - val_loss: 21.2730 - val_mae: 2.7534 - val_mse: 20.6091\n",
      "Epoch 30/800\n",
      "\u001b[1m269/269\u001b[0m \u001b[32m━━━━━━━━━━━━━━━━━━━━\u001b[0m\u001b[37m\u001b[0m \u001b[1m1s\u001b[0m 2ms/step - loss: 6.3313 - mae: 1.6235 - mse: 5.6733 - val_loss: 21.7891 - val_mae: 2.7744 - val_mse: 21.1373\n",
      "Epoch 31/800\n",
      "\u001b[1m269/269\u001b[0m \u001b[32m━━━━━━━━━━━━━━━━━━━━\u001b[0m\u001b[37m\u001b[0m \u001b[1m0s\u001b[0m 2ms/step - loss: 6.5802 - mae: 1.6438 - mse: 5.9297 - val_loss: 22.0016 - val_mae: 2.7856 - val_mse: 21.3324\n",
      "Epoch 32/800\n",
      "\u001b[1m269/269\u001b[0m \u001b[32m━━━━━━━━━━━━━━━━━━━━\u001b[0m\u001b[37m\u001b[0m \u001b[1m1s\u001b[0m 2ms/step - loss: 6.9397 - mae: 1.7052 - mse: 6.2705 - val_loss: 23.2566 - val_mae: 2.8656 - val_mse: 22.6054\n",
      "Epoch 33/800\n",
      "\u001b[1m269/269\u001b[0m \u001b[32m━━━━━━━━━━━━━━━━━━━━\u001b[0m\u001b[37m\u001b[0m \u001b[1m0s\u001b[0m 2ms/step - loss: 7.4575 - mae: 1.6714 - mse: 6.8054 - val_loss: 21.5325 - val_mae: 2.7554 - val_mse: 20.8903\n",
      "Epoch 34/800\n",
      "\u001b[1m269/269\u001b[0m \u001b[32m━━━━━━━━━━━━━━━━━━━━\u001b[0m\u001b[37m\u001b[0m \u001b[1m0s\u001b[0m 2ms/step - loss: 6.2749 - mae: 1.6248 - mse: 5.6363 - val_loss: 20.3663 - val_mae: 2.5892 - val_mse: 19.7208\n",
      "Epoch 35/800\n",
      "\u001b[1m269/269\u001b[0m \u001b[32m━━━━━━━━━━━━━━━━━━━━\u001b[0m\u001b[37m\u001b[0m \u001b[1m0s\u001b[0m 2ms/step - loss: 6.9407 - mae: 1.6621 - mse: 6.2986 - val_loss: 19.8946 - val_mae: 2.5520 - val_mse: 19.2680\n",
      "Epoch 36/800\n",
      "\u001b[1m269/269\u001b[0m \u001b[32m━━━━━━━━━━━━━━━━━━━━\u001b[0m\u001b[37m\u001b[0m \u001b[1m0s\u001b[0m 2ms/step - loss: 6.3553 - mae: 1.6419 - mse: 5.7341 - val_loss: 21.7887 - val_mae: 2.8157 - val_mse: 21.1527\n",
      "Epoch 37/800\n",
      "\u001b[1m269/269\u001b[0m \u001b[32m━━━━━━━━━━━━━━━━━━━━\u001b[0m\u001b[37m\u001b[0m \u001b[1m0s\u001b[0m 2ms/step - loss: 6.8627 - mae: 1.6683 - mse: 6.2315 - val_loss: 21.2916 - val_mae: 2.7115 - val_mse: 20.6732\n",
      "Epoch 38/800\n",
      "\u001b[1m269/269\u001b[0m \u001b[32m━━━━━━━━━━━━━━━━━━━━\u001b[0m\u001b[37m\u001b[0m \u001b[1m0s\u001b[0m 2ms/step - loss: 7.7949 - mae: 1.6617 - mse: 7.1794 - val_loss: 19.6988 - val_mae: 2.6046 - val_mse: 19.0985\n",
      "Epoch 39/800\n",
      "\u001b[1m269/269\u001b[0m \u001b[32m━━━━━━━━━━━━━━━━━━━━\u001b[0m\u001b[37m\u001b[0m \u001b[1m1s\u001b[0m 2ms/step - loss: 6.2709 - mae: 1.5742 - mse: 5.6748 - val_loss: 20.2541 - val_mae: 2.5937 - val_mse: 19.6630\n"
     ]
    }
   ],
   "source": [
    "history = model.fit(X_train, y_train, validation_data=(X_val, y_val), epochs=800, batch_size=64, callbacks=[early_stopping])\n"
   ]
  },
  {
   "cell_type": "code",
   "execution_count": 166,
   "metadata": {},
   "outputs": [
    {
     "name": "stdout",
     "output_type": "stream",
     "text": [
      "(2455, 172)\n",
      "(2455,)\n"
     ]
    }
   ],
   "source": [
    "print(X_test.shape)  # Zeigt die Anzahl der Zeilen (Samples) in X_test\n",
    "print(y_test.shape)  # Zeigt die Anzahl der Zeilen (Samples) in y_test\n"
   ]
  },
  {
   "cell_type": "code",
   "execution_count": 167,
   "metadata": {},
   "outputs": [
    {
     "name": "stdout",
     "output_type": "stream",
     "text": [
      "\u001b[1m77/77\u001b[0m \u001b[32m━━━━━━━━━━━━━━━━━━━━\u001b[0m\u001b[37m\u001b[0m \u001b[1m0s\u001b[0m 926us/step - loss: 6.4641 - mae: 1.7532 - mse: 5.6876\n",
      "Test loss, Test MAE: [6.938469886779785, 1.802767038345337, 6.1619977951049805]\n"
     ]
    }
   ],
   "source": [
    "results = model.evaluate(X_test, y_test)\n",
    "print(\"Test loss, Test MAE:\", results)\n"
   ]
  },
  {
   "cell_type": "code",
   "execution_count": 168,
   "metadata": {},
   "outputs": [
    {
     "name": "stdout",
     "output_type": "stream",
     "text": [
      "Epoch 1/800\n"
     ]
    },
    {
     "name": "stderr",
     "output_type": "stream",
     "text": [
      "C:\\Users\\maxd2\\AppData\\Local\\Packages\\PythonSoftwareFoundation.Python.3.11_qbz5n2kfra8p0\\LocalCache\\local-packages\\Python311\\site-packages\\keras\\src\\layers\\core\\dense.py:87: UserWarning: Do not pass an `input_shape`/`input_dim` argument to a layer. When using Sequential models, prefer using an `Input(shape)` object as the first layer in the model instead.\n",
      "  super().__init__(activity_regularizer=activity_regularizer, **kwargs)\n"
     ]
    },
    {
     "name": "stdout",
     "output_type": "stream",
     "text": [
      "\u001b[1m269/269\u001b[0m \u001b[32m━━━━━━━━━━━━━━━━━━━━\u001b[0m\u001b[37m\u001b[0m \u001b[1m2s\u001b[0m 3ms/step - loss: 44.9092 - mae: 4.3710 - mse: 43.6052 - val_loss: 21.8295 - val_mae: 2.6568 - val_mse: 20.5449\n",
      "Epoch 2/800\n",
      "\u001b[1m269/269\u001b[0m \u001b[32m━━━━━━━━━━━━━━━━━━━━\u001b[0m\u001b[37m\u001b[0m \u001b[1m1s\u001b[0m 3ms/step - loss: 11.0782 - mae: 2.1772 - mse: 9.8046 - val_loss: 19.9190 - val_mae: 2.5083 - val_mse: 18.6803\n",
      "Epoch 3/800\n",
      "\u001b[1m269/269\u001b[0m \u001b[32m━━━━━━━━━━━━━━━━━━━━\u001b[0m\u001b[37m\u001b[0m \u001b[1m1s\u001b[0m 3ms/step - loss: 9.4304 - mae: 2.0218 - mse: 8.2045 - val_loss: 20.8532 - val_mae: 2.6913 - val_mse: 19.6577\n",
      "Epoch 4/800\n",
      "\u001b[1m269/269\u001b[0m \u001b[32m━━━━━━━━━━━━━━━━━━━━\u001b[0m\u001b[37m\u001b[0m \u001b[1m1s\u001b[0m 3ms/step - loss: 9.6697 - mae: 2.1069 - mse: 8.4843 - val_loss: 19.7614 - val_mae: 2.5696 - val_mse: 18.6117\n",
      "Epoch 5/800\n",
      "\u001b[1m269/269\u001b[0m \u001b[32m━━━━━━━━━━━━━━━━━━━━\u001b[0m\u001b[37m\u001b[0m \u001b[1m1s\u001b[0m 3ms/step - loss: 9.0881 - mae: 1.9649 - mse: 7.9516 - val_loss: 18.1119 - val_mae: 2.3826 - val_mse: 17.0069\n",
      "Epoch 6/800\n",
      "\u001b[1m269/269\u001b[0m \u001b[32m━━━━━━━━━━━━━━━━━━━━\u001b[0m\u001b[37m\u001b[0m \u001b[1m1s\u001b[0m 3ms/step - loss: 9.0566 - mae: 1.9854 - mse: 7.9614 - val_loss: 17.5725 - val_mae: 2.2416 - val_mse: 16.5167\n",
      "Epoch 7/800\n",
      "\u001b[1m269/269\u001b[0m \u001b[32m━━━━━━━━━━━━━━━━━━━━\u001b[0m\u001b[37m\u001b[0m \u001b[1m1s\u001b[0m 3ms/step - loss: 9.2525 - mae: 1.9664 - mse: 8.2057 - val_loss: 17.4349 - val_mae: 2.3124 - val_mse: 16.4168\n",
      "Epoch 8/800\n",
      "\u001b[1m269/269\u001b[0m \u001b[32m━━━━━━━━━━━━━━━━━━━━\u001b[0m\u001b[37m\u001b[0m \u001b[1m1s\u001b[0m 3ms/step - loss: 8.4972 - mae: 1.9382 - mse: 7.4895 - val_loss: 17.9612 - val_mae: 2.3357 - val_mse: 16.9850\n",
      "Epoch 9/800\n",
      "\u001b[1m269/269\u001b[0m \u001b[32m━━━━━━━━━━━━━━━━━━━━\u001b[0m\u001b[37m\u001b[0m \u001b[1m1s\u001b[0m 3ms/step - loss: 8.1635 - mae: 1.8848 - mse: 7.1969 - val_loss: 17.2381 - val_mae: 2.2278 - val_mse: 16.2967\n",
      "Epoch 10/800\n",
      "\u001b[1m269/269\u001b[0m \u001b[32m━━━━━━━━━━━━━━━━━━━━\u001b[0m\u001b[37m\u001b[0m \u001b[1m1s\u001b[0m 3ms/step - loss: 8.6998 - mae: 1.8468 - mse: 7.7671 - val_loss: 16.7650 - val_mae: 2.2399 - val_mse: 15.8558\n",
      "Epoch 11/800\n",
      "\u001b[1m269/269\u001b[0m \u001b[32m━━━━━━━━━━━━━━━━━━━━\u001b[0m\u001b[37m\u001b[0m \u001b[1m1s\u001b[0m 3ms/step - loss: 7.5894 - mae: 1.7891 - mse: 6.6907 - val_loss: 17.4580 - val_mae: 2.3962 - val_mse: 16.5810\n",
      "Epoch 12/800\n",
      "\u001b[1m269/269\u001b[0m \u001b[32m━━━━━━━━━━━━━━━━━━━━\u001b[0m\u001b[37m\u001b[0m \u001b[1m1s\u001b[0m 3ms/step - loss: 8.3991 - mae: 1.8422 - mse: 7.5297 - val_loss: 18.1738 - val_mae: 2.4013 - val_mse: 17.3321\n",
      "Epoch 13/800\n",
      "\u001b[1m269/269\u001b[0m \u001b[32m━━━━━━━━━━━━━━━━━━━━\u001b[0m\u001b[37m\u001b[0m \u001b[1m1s\u001b[0m 3ms/step - loss: 7.7758 - mae: 1.7953 - mse: 6.9417 - val_loss: 17.4779 - val_mae: 2.2567 - val_mse: 16.6651\n",
      "Epoch 14/800\n",
      "\u001b[1m269/269\u001b[0m \u001b[32m━━━━━━━━━━━━━━━━━━━━\u001b[0m\u001b[37m\u001b[0m \u001b[1m1s\u001b[0m 3ms/step - loss: 8.1407 - mae: 1.8257 - mse: 7.3325 - val_loss: 15.9670 - val_mae: 2.1126 - val_mse: 15.1782\n",
      "Epoch 15/800\n",
      "\u001b[1m269/269\u001b[0m \u001b[32m━━━━━━━━━━━━━━━━━━━━\u001b[0m\u001b[37m\u001b[0m \u001b[1m1s\u001b[0m 3ms/step - loss: 7.2084 - mae: 1.7399 - mse: 6.4271 - val_loss: 17.4466 - val_mae: 2.2806 - val_mse: 16.6793\n",
      "Epoch 16/800\n",
      "\u001b[1m269/269\u001b[0m \u001b[32m━━━━━━━━━━━━━━━━━━━━\u001b[0m\u001b[37m\u001b[0m \u001b[1m1s\u001b[0m 3ms/step - loss: 7.7473 - mae: 1.7873 - mse: 6.9847 - val_loss: 16.9636 - val_mae: 2.2745 - val_mse: 16.2183\n",
      "Epoch 17/800\n",
      "\u001b[1m269/269\u001b[0m \u001b[32m━━━━━━━━━━━━━━━━━━━━\u001b[0m\u001b[37m\u001b[0m \u001b[1m1s\u001b[0m 3ms/step - loss: 7.7133 - mae: 1.7720 - mse: 6.9691 - val_loss: 17.3268 - val_mae: 2.3288 - val_mse: 16.6010\n",
      "Epoch 18/800\n",
      "\u001b[1m269/269\u001b[0m \u001b[32m━━━━━━━━━━━━━━━━━━━━\u001b[0m\u001b[37m\u001b[0m \u001b[1m1s\u001b[0m 3ms/step - loss: 7.4369 - mae: 1.7471 - mse: 6.7135 - val_loss: 15.8634 - val_mae: 2.1819 - val_mse: 15.1508\n",
      "Epoch 19/800\n",
      "\u001b[1m269/269\u001b[0m \u001b[32m━━━━━━━━━━━━━━━━━━━━\u001b[0m\u001b[37m\u001b[0m \u001b[1m1s\u001b[0m 3ms/step - loss: 6.9593 - mae: 1.7243 - mse: 6.2524 - val_loss: 16.7767 - val_mae: 2.2900 - val_mse: 16.0799\n",
      "Epoch 20/800\n",
      "\u001b[1m269/269\u001b[0m \u001b[32m━━━━━━━━━━━━━━━━━━━━\u001b[0m\u001b[37m\u001b[0m \u001b[1m1s\u001b[0m 3ms/step - loss: 8.3982 - mae: 1.8108 - mse: 7.6802 - val_loss: 16.8428 - val_mae: 2.2948 - val_mse: 16.1374\n",
      "Epoch 21/800\n",
      "\u001b[1m269/269\u001b[0m \u001b[32m━━━━━━━━━━━━━━━━━━━━\u001b[0m\u001b[37m\u001b[0m \u001b[1m1s\u001b[0m 3ms/step - loss: 7.0798 - mae: 1.7222 - mse: 6.3775 - val_loss: 15.9007 - val_mae: 2.1319 - val_mse: 15.2021\n",
      "Epoch 22/800\n",
      "\u001b[1m269/269\u001b[0m \u001b[32m━━━━━━━━━━━━━━━━━━━━\u001b[0m\u001b[37m\u001b[0m \u001b[1m1s\u001b[0m 3ms/step - loss: 7.5386 - mae: 1.7465 - mse: 6.8421 - val_loss: 16.0457 - val_mae: 2.1537 - val_mse: 15.3591\n",
      "Epoch 23/800\n",
      "\u001b[1m269/269\u001b[0m \u001b[32m━━━━━━━━━━━━━━━━━━━━\u001b[0m\u001b[37m\u001b[0m \u001b[1m1s\u001b[0m 3ms/step - loss: 6.4818 - mae: 1.6517 - mse: 5.7952 - val_loss: 15.5054 - val_mae: 2.0954 - val_mse: 14.8196\n",
      "Epoch 24/800\n",
      "\u001b[1m269/269\u001b[0m \u001b[32m━━━━━━━━━━━━━━━━━━━━\u001b[0m\u001b[37m\u001b[0m \u001b[1m1s\u001b[0m 3ms/step - loss: 6.9883 - mae: 1.6873 - mse: 6.3068 - val_loss: 17.0445 - val_mae: 2.2471 - val_mse: 16.3548\n",
      "Epoch 25/800\n",
      "\u001b[1m269/269\u001b[0m \u001b[32m━━━━━━━━━━━━━━━━━━━━\u001b[0m\u001b[37m\u001b[0m \u001b[1m1s\u001b[0m 3ms/step - loss: 7.8386 - mae: 1.7409 - mse: 7.1412 - val_loss: 16.0360 - val_mae: 2.1490 - val_mse: 15.3483\n",
      "Epoch 26/800\n",
      "\u001b[1m269/269\u001b[0m \u001b[32m━━━━━━━━━━━━━━━━━━━━\u001b[0m\u001b[37m\u001b[0m \u001b[1m1s\u001b[0m 3ms/step - loss: 7.0531 - mae: 1.7235 - mse: 6.3718 - val_loss: 16.5728 - val_mae: 2.2404 - val_mse: 15.9061\n",
      "Epoch 27/800\n",
      "\u001b[1m269/269\u001b[0m \u001b[32m━━━━━━━━━━━━━━━━━━━━\u001b[0m\u001b[37m\u001b[0m \u001b[1m1s\u001b[0m 3ms/step - loss: 6.7386 - mae: 1.6702 - mse: 6.0776 - val_loss: 18.0830 - val_mae: 2.3427 - val_mse: 17.4309\n",
      "Epoch 28/800\n",
      "\u001b[1m269/269\u001b[0m \u001b[32m━━━━━━━━━━━━━━━━━━━━\u001b[0m\u001b[37m\u001b[0m \u001b[1m1s\u001b[0m 3ms/step - loss: 6.7101 - mae: 1.6371 - mse: 6.0612 - val_loss: 16.1419 - val_mae: 2.1671 - val_mse: 15.4857\n",
      "Epoch 29/800\n",
      "\u001b[1m269/269\u001b[0m \u001b[32m━━━━━━━━━━━━━━━━━━━━\u001b[0m\u001b[37m\u001b[0m \u001b[1m1s\u001b[0m 3ms/step - loss: 6.3427 - mae: 1.6563 - mse: 5.6907 - val_loss: 16.2428 - val_mae: 2.2127 - val_mse: 15.5986\n",
      "Epoch 30/800\n",
      "\u001b[1m269/269\u001b[0m \u001b[32m━━━━━━━━━━━━━━━━━━━━\u001b[0m\u001b[37m\u001b[0m \u001b[1m1s\u001b[0m 3ms/step - loss: 7.3041 - mae: 1.6476 - mse: 6.6651 - val_loss: 16.2718 - val_mae: 2.2134 - val_mse: 15.6460\n",
      "Epoch 31/800\n",
      "\u001b[1m269/269\u001b[0m \u001b[32m━━━━━━━━━━━━━━━━━━━━\u001b[0m\u001b[37m\u001b[0m \u001b[1m1s\u001b[0m 3ms/step - loss: 7.0314 - mae: 1.6778 - mse: 6.4085 - val_loss: 15.6972 - val_mae: 2.2209 - val_mse: 15.0803\n",
      "Epoch 32/800\n",
      "\u001b[1m269/269\u001b[0m \u001b[32m━━━━━━━━━━━━━━━━━━━━\u001b[0m\u001b[37m\u001b[0m \u001b[1m1s\u001b[0m 3ms/step - loss: 5.9898 - mae: 1.5885 - mse: 5.3758 - val_loss: 17.0561 - val_mae: 2.3168 - val_mse: 16.4429\n",
      "Epoch 33/800\n",
      "\u001b[1m269/269\u001b[0m \u001b[32m━━━━━━━━━━━━━━━━━━━━\u001b[0m\u001b[37m\u001b[0m \u001b[1m1s\u001b[0m 3ms/step - loss: 6.2052 - mae: 1.5781 - mse: 5.5918 - val_loss: 16.0845 - val_mae: 2.1488 - val_mse: 15.4662\n",
      "Epoch 34/800\n",
      "\u001b[1m269/269\u001b[0m \u001b[32m━━━━━━━━━━━━━━━━━━━━\u001b[0m\u001b[37m\u001b[0m \u001b[1m1s\u001b[0m 3ms/step - loss: 6.8097 - mae: 1.6644 - mse: 6.1906 - val_loss: 16.5845 - val_mae: 2.2150 - val_mse: 15.9612\n",
      "Epoch 35/800\n",
      "\u001b[1m269/269\u001b[0m \u001b[32m━━━━━━━━━━━━━━━━━━━━\u001b[0m\u001b[37m\u001b[0m \u001b[1m1s\u001b[0m 3ms/step - loss: 5.5197 - mae: 1.5489 - mse: 4.9038 - val_loss: 18.4778 - val_mae: 2.5039 - val_mse: 17.8560\n",
      "Epoch 36/800\n",
      "\u001b[1m269/269\u001b[0m \u001b[32m━━━━━━━━━━━━━━━━━━━━\u001b[0m\u001b[37m\u001b[0m \u001b[1m1s\u001b[0m 3ms/step - loss: 6.4545 - mae: 1.6096 - mse: 5.8295 - val_loss: 17.0840 - val_mae: 2.2661 - val_mse: 16.4667\n",
      "Epoch 37/800\n",
      "\u001b[1m269/269\u001b[0m \u001b[32m━━━━━━━━━━━━━━━━━━━━\u001b[0m\u001b[37m\u001b[0m \u001b[1m1s\u001b[0m 3ms/step - loss: 6.8831 - mae: 1.6170 - mse: 6.2680 - val_loss: 16.5364 - val_mae: 2.2195 - val_mse: 15.9310\n",
      "Epoch 38/800\n",
      "\u001b[1m269/269\u001b[0m \u001b[32m━━━━━━━━━━━━━━━━━━━━\u001b[0m\u001b[37m\u001b[0m \u001b[1m1s\u001b[0m 3ms/step - loss: 5.9417 - mae: 1.5717 - mse: 5.3407 - val_loss: 17.1692 - val_mae: 2.3578 - val_mse: 16.5738\n",
      "\u001b[1m77/77\u001b[0m \u001b[32m━━━━━━━━━━━━━━━━━━━━\u001b[0m\u001b[37m\u001b[0m \u001b[1m0s\u001b[0m 861us/step - loss: 6.4641 - mae: 1.7532 - mse: 5.6876\n",
      "Test loss, Test MAE: [6.938469886779785, 1.802767038345337, 6.1619977951049805]\n"
     ]
    }
   ],
   "source": [
    "model2 = Sequential([\n",
    "    Dense(512, activation='relu', input_shape=(Data.shape[1],), kernel_regularizer=l2(0.005)),\n",
    "    Dropout(0.2),\n",
    "    Dense(256, activation='relu'),\n",
    "    Dropout(0.3),\n",
    "    Dense(128, activation='relu'),\n",
    "    Dense(64, activation='relu'),\n",
    "    Dense(1, activation='linear'),\n",
    "])\n",
    "\n",
    "optimizer = Adam(learning_rate=0.0015)\n",
    "model2.compile(optimizer='adam', loss='mean_squared_error', metrics=['mae', 'mse'])\n",
    "# Early Stopping Callback\n",
    "early_stopping = EarlyStopping(\n",
    "    patience=15,  # Training stoppt, wenn sich der Validierungs-Loss 5 Epochs lang nicht verbessert\n",
    "    restore_best_weights=True  # Die besten Gewichte werden zurückgeladen\n",
    ")\n",
    "\n",
    "history2 = model2.fit(X_train, y_train, validation_data=(X_val, y_val), epochs=800, batch_size=64, callbacks=[early_stopping])\n",
    "\n",
    "results = model.evaluate(X_test, y_test)\n",
    "print(\"Test loss, Test MAE:\", results)\n"
   ]
  },
  {
   "cell_type": "code",
   "execution_count": 169,
   "metadata": {},
   "outputs": [
    {
     "data": {
      "image/png": "[encoded data removed]",
      "text/plain": [
       "<Figure size 640x480 with 1 Axes>"
      ]
     },
     "metadata": {},
     "output_type": "display_data"
    }
   ],
   "source": [
    "import matplotlib.pyplot as plt\n",
    "plt.plot(history2.history['loss'], label='Training loss')\n",
    "plt.plot(history2.history['val_loss'], label='Validation loss')\n",
    "plt.legend()\n",
    "plt.show()\n"
   ]
  },
  {
   "cell_type": "code",
   "execution_count": 174,
   "metadata": {},
   "outputs": [
    {
     "name": "stdout",
     "output_type": "stream",
     "text": [
      "Epoch 1/800\n"
     ]
    },
    {
     "name": "stderr",
     "output_type": "stream",
     "text": [
      "C:\\Users\\maxd2\\AppData\\Local\\Packages\\PythonSoftwareFoundation.Python.3.11_qbz5n2kfra8p0\\LocalCache\\local-packages\\Python311\\site-packages\\keras\\src\\layers\\core\\dense.py:87: UserWarning: Do not pass an `input_shape`/`input_dim` argument to a layer. When using Sequential models, prefer using an `Input(shape)` object as the first layer in the model instead.\n",
      "  super().__init__(activity_regularizer=activity_regularizer, **kwargs)\n"
     ]
    },
    {
     "name": "stdout",
     "output_type": "stream",
     "text": [
      "\u001b[1m1075/1075\u001b[0m \u001b[32m━━━━━━━━━━━━━━━━━━━━\u001b[0m\u001b[37m\u001b[0m \u001b[1m3s\u001b[0m 2ms/step - loss: 32.2016 - mae: 3.4402 - mse: 26.3055 - val_loss: 27.0133 - val_mae: 3.0104 - val_mse: 23.1089 - learning_rate: 0.0010\n",
      "Epoch 2/800\n",
      "\u001b[1m1075/1075\u001b[0m \u001b[32m━━━━━━━━━━━━━━━━━━━━\u001b[0m\u001b[37m\u001b[0m \u001b[1m2s\u001b[0m 2ms/step - loss: 13.9698 - mae: 2.2980 - mse: 10.5325 - val_loss: 21.2748 - val_mae: 2.5256 - val_mse: 18.9127 - learning_rate: 0.0010\n",
      "Epoch 3/800\n",
      "\u001b[1m1075/1075\u001b[0m \u001b[32m━━━━━━━━━━━━━━━━━━━━\u001b[0m\u001b[37m\u001b[0m \u001b[1m2s\u001b[0m 2ms/step - loss: 12.8297 - mae: 2.1854 - mse: 10.6629 - val_loss: 18.4240 - val_mae: 2.2506 - val_mse: 16.8011 - learning_rate: 0.0010\n",
      "Epoch 4/800\n",
      "\u001b[1m1075/1075\u001b[0m \u001b[32m━━━━━━━━━━━━━━━━━━━━\u001b[0m\u001b[37m\u001b[0m \u001b[1m2s\u001b[0m 2ms/step - loss: 11.0006 - mae: 2.1330 - mse: 9.4836 - val_loss: 19.5036 - val_mae: 2.4543 - val_mse: 18.2422 - learning_rate: 0.0010\n",
      "Epoch 5/800\n",
      "\u001b[1m1075/1075\u001b[0m \u001b[32m━━━━━━━━━━━━━━━━━━━━\u001b[0m\u001b[37m\u001b[0m \u001b[1m2s\u001b[0m 2ms/step - loss: 13.8522 - mae: 2.2237 - mse: 12.6060 - val_loss: 19.5559 - val_mae: 2.5234 - val_mse: 18.5059 - learning_rate: 0.0010\n",
      "Epoch 6/800\n",
      "\u001b[1m1075/1075\u001b[0m \u001b[32m━━━━━━━━━━━━━━━━━━━━\u001b[0m\u001b[37m\u001b[0m \u001b[1m2s\u001b[0m 2ms/step - loss: 9.2346 - mae: 1.9995 - mse: 8.2284 - val_loss: 17.4120 - val_mae: 2.3444 - val_mse: 16.4933 - learning_rate: 0.0010\n",
      "Epoch 7/800\n",
      "\u001b[1m1075/1075\u001b[0m \u001b[32m━━━━━━━━━━━━━━━━━━━━\u001b[0m\u001b[37m\u001b[0m \u001b[1m2s\u001b[0m 2ms/step - loss: 9.7312 - mae: 1.9801 - mse: 8.8365 - val_loss: 16.3321 - val_mae: 2.1868 - val_mse: 15.5204 - learning_rate: 0.0010\n",
      "Epoch 8/800\n",
      "\u001b[1m1075/1075\u001b[0m \u001b[32m━━━━━━━━━━━━━━━━━━━━\u001b[0m\u001b[37m\u001b[0m \u001b[1m2s\u001b[0m 2ms/step - loss: 10.0169 - mae: 2.0259 - mse: 9.1950 - val_loss: 16.2488 - val_mae: 2.1162 - val_mse: 15.4918 - learning_rate: 0.0010\n",
      "Epoch 9/800\n",
      "\u001b[1m1075/1075\u001b[0m \u001b[32m━━━━━━━━━━━━━━━━━━━━\u001b[0m\u001b[37m\u001b[0m \u001b[1m2s\u001b[0m 2ms/step - loss: 8.1762 - mae: 1.8748 - mse: 7.4450 - val_loss: 17.9866 - val_mae: 2.4321 - val_mse: 17.2697 - learning_rate: 0.0010\n",
      "Epoch 10/800\n",
      "\u001b[1m1075/1075\u001b[0m \u001b[32m━━━━━━━━━━━━━━━━━━━━\u001b[0m\u001b[37m\u001b[0m \u001b[1m2s\u001b[0m 2ms/step - loss: 9.0018 - mae: 1.9034 - mse: 8.2851 - val_loss: 16.2941 - val_mae: 2.1939 - val_mse: 15.6203 - learning_rate: 0.0010\n",
      "Epoch 11/800\n",
      "\u001b[1m1075/1075\u001b[0m \u001b[32m━━━━━━━━━━━━━━━━━━━━\u001b[0m\u001b[37m\u001b[0m \u001b[1m2s\u001b[0m 2ms/step - loss: 8.6361 - mae: 1.8851 - mse: 7.9634 - val_loss: 15.7098 - val_mae: 2.1134 - val_mse: 15.0418 - learning_rate: 0.0010\n",
      "Epoch 12/800\n",
      "\u001b[1m1075/1075\u001b[0m \u001b[32m━━━━━━━━━━━━━━━━━━━━\u001b[0m\u001b[37m\u001b[0m \u001b[1m2s\u001b[0m 2ms/step - loss: 8.1932 - mae: 1.8317 - mse: 7.5291 - val_loss: 16.2765 - val_mae: 2.2389 - val_mse: 15.6172 - learning_rate: 0.0010\n",
      "Epoch 13/800\n",
      "\u001b[1m1075/1075\u001b[0m \u001b[32m━━━━━━━━━━━━━━━━━━━━\u001b[0m\u001b[37m\u001b[0m \u001b[1m2s\u001b[0m 2ms/step - loss: 8.4019 - mae: 1.9112 - mse: 7.7274 - val_loss: 16.3777 - val_mae: 2.1571 - val_mse: 15.7111 - learning_rate: 0.0010\n",
      "Epoch 14/800\n",
      "\u001b[1m1075/1075\u001b[0m \u001b[32m━━━━━━━━━━━━━━━━━━━━\u001b[0m\u001b[37m\u001b[0m \u001b[1m2s\u001b[0m 2ms/step - loss: 7.8538 - mae: 1.8099 - mse: 7.1977 - val_loss: 16.0943 - val_mae: 2.2862 - val_mse: 15.4512 - learning_rate: 0.0010\n",
      "Epoch 15/800\n",
      "\u001b[1m1075/1075\u001b[0m \u001b[32m━━━━━━━━━━━━━━━━━━━━\u001b[0m\u001b[37m\u001b[0m \u001b[1m2s\u001b[0m 2ms/step - loss: 7.9901 - mae: 1.8016 - mse: 7.3274 - val_loss: 16.1752 - val_mae: 2.2715 - val_mse: 15.5069 - learning_rate: 0.0010\n",
      "Epoch 16/800\n",
      "\u001b[1m1075/1075\u001b[0m \u001b[32m━━━━━━━━━━━━━━━━━━━━\u001b[0m\u001b[37m\u001b[0m \u001b[1m2s\u001b[0m 2ms/step - loss: 7.8953 - mae: 1.7835 - mse: 7.2390 - val_loss: 16.2191 - val_mae: 2.2403 - val_mse: 15.5372 - learning_rate: 0.0010\n",
      "Epoch 17/800\n",
      "\u001b[1m1075/1075\u001b[0m \u001b[32m━━━━━━━━━━━━━━━━━━━━\u001b[0m\u001b[37m\u001b[0m \u001b[1m2s\u001b[0m 2ms/step - loss: 7.3345 - mae: 1.7674 - mse: 6.6758 - val_loss: 16.3617 - val_mae: 2.2558 - val_mse: 15.7157 - learning_rate: 0.0010\n",
      "Epoch 18/800\n",
      "\u001b[1m1075/1075\u001b[0m \u001b[32m━━━━━━━━━━━━━━━━━━━━\u001b[0m\u001b[37m\u001b[0m \u001b[1m2s\u001b[0m 2ms/step - loss: 7.3959 - mae: 1.7736 - mse: 6.7469 - val_loss: 15.6354 - val_mae: 2.2011 - val_mse: 14.9773 - learning_rate: 0.0010\n",
      "Epoch 19/800\n",
      "\u001b[1m1075/1075\u001b[0m \u001b[32m━━━━━━━━━━━━━━━━━━━━\u001b[0m\u001b[37m\u001b[0m \u001b[1m2s\u001b[0m 2ms/step - loss: 7.2328 - mae: 1.7164 - mse: 6.5871 - val_loss: 16.2120 - val_mae: 2.2822 - val_mse: 15.5606 - learning_rate: 0.0010\n",
      "Epoch 20/800\n",
      "\u001b[1m1075/1075\u001b[0m \u001b[32m━━━━━━━━━━━━━━━━━━━━\u001b[0m\u001b[37m\u001b[0m \u001b[1m2s\u001b[0m 2ms/step - loss: 7.4015 - mae: 1.7371 - mse: 6.7621 - val_loss: 16.8475 - val_mae: 2.3164 - val_mse: 16.1798 - learning_rate: 0.0010\n",
      "Epoch 21/800\n",
      "\u001b[1m1075/1075\u001b[0m \u001b[32m━━━━━━━━━━━━━━━━━━━━\u001b[0m\u001b[37m\u001b[0m \u001b[1m2s\u001b[0m 2ms/step - loss: 7.0542 - mae: 1.7226 - mse: 6.4029 - val_loss: 16.3001 - val_mae: 2.3266 - val_mse: 15.6651 - learning_rate: 0.0010\n",
      "Epoch 22/800\n",
      "\u001b[1m1075/1075\u001b[0m \u001b[32m━━━━━━━━━━━━━━━━━━━━\u001b[0m\u001b[37m\u001b[0m \u001b[1m2s\u001b[0m 2ms/step - loss: 8.4534 - mae: 1.7949 - mse: 7.8086 - val_loss: 16.3809 - val_mae: 2.2906 - val_mse: 15.7442 - learning_rate: 0.0010\n",
      "Epoch 23/800\n",
      "\u001b[1m1075/1075\u001b[0m \u001b[32m━━━━━━━━━━━━━━━━━━━━\u001b[0m\u001b[37m\u001b[0m \u001b[1m2s\u001b[0m 2ms/step - loss: 7.1345 - mae: 1.6975 - mse: 6.5028 - val_loss: 15.9154 - val_mae: 2.1992 - val_mse: 15.2563 - learning_rate: 0.0010\n",
      "Epoch 24/800\n",
      "\u001b[1m1075/1075\u001b[0m \u001b[32m━━━━━━━━━━━━━━━━━━━━\u001b[0m\u001b[37m\u001b[0m \u001b[1m2s\u001b[0m 2ms/step - loss: 6.8355 - mae: 1.7179 - mse: 6.1962 - val_loss: 16.4432 - val_mae: 2.3066 - val_mse: 15.8029 - learning_rate: 0.0010\n",
      "Epoch 25/800\n",
      "\u001b[1m1075/1075\u001b[0m \u001b[32m━━━━━━━━━━━━━━━━━━━━\u001b[0m\u001b[37m\u001b[0m \u001b[1m2s\u001b[0m 2ms/step - loss: 7.2051 - mae: 1.7530 - mse: 6.5736 - val_loss: 15.4917 - val_mae: 2.1551 - val_mse: 14.8589 - learning_rate: 0.0010\n",
      "Epoch 26/800\n",
      "\u001b[1m1075/1075\u001b[0m \u001b[32m━━━━━━━━━━━━━━━━━━━━\u001b[0m\u001b[37m\u001b[0m \u001b[1m2s\u001b[0m 2ms/step - loss: 7.4030 - mae: 1.7414 - mse: 6.7629 - val_loss: 16.4796 - val_mae: 2.3834 - val_mse: 15.8462 - learning_rate: 0.0010\n",
      "Epoch 27/800\n",
      "\u001b[1m1075/1075\u001b[0m \u001b[32m━━━━━━━━━━━━━━━━━━━━\u001b[0m\u001b[37m\u001b[0m \u001b[1m2s\u001b[0m 2ms/step - loss: 6.8210 - mae: 1.7169 - mse: 6.1950 - val_loss: 16.7939 - val_mae: 2.3592 - val_mse: 16.1540 - learning_rate: 0.0010\n",
      "Epoch 28/800\n",
      "\u001b[1m1075/1075\u001b[0m \u001b[32m━━━━━━━━━━━━━━━━━━━━\u001b[0m\u001b[37m\u001b[0m \u001b[1m2s\u001b[0m 2ms/step - loss: 7.0100 - mae: 1.6937 - mse: 6.3790 - val_loss: 15.8455 - val_mae: 2.1836 - val_mse: 15.2203 - learning_rate: 0.0010\n",
      "Epoch 29/800\n",
      "\u001b[1m1075/1075\u001b[0m \u001b[32m━━━━━━━━━━━━━━━━━━━━\u001b[0m\u001b[37m\u001b[0m \u001b[1m2s\u001b[0m 2ms/step - loss: 8.9922 - mae: 1.7781 - mse: 8.3615 - val_loss: 15.6704 - val_mae: 2.1959 - val_mse: 15.0442 - learning_rate: 0.0010\n",
      "Epoch 30/800\n",
      "\u001b[1m1075/1075\u001b[0m \u001b[32m━━━━━━━━━━━━━━━━━━━━\u001b[0m\u001b[37m\u001b[0m \u001b[1m2s\u001b[0m 2ms/step - loss: 6.8651 - mae: 1.6972 - mse: 6.2436 - val_loss: 16.5110 - val_mae: 2.3134 - val_mse: 15.8770 - learning_rate: 0.0010\n",
      "Epoch 31/800\n",
      "\u001b[1m1075/1075\u001b[0m \u001b[32m━━━━━━━━━━━━━━━━━━━━\u001b[0m\u001b[37m\u001b[0m \u001b[1m2s\u001b[0m 2ms/step - loss: 7.6127 - mae: 1.7395 - mse: 6.9895 - val_loss: 16.6029 - val_mae: 2.3463 - val_mse: 15.9809 - learning_rate: 0.0010\n",
      "Epoch 32/800\n",
      "\u001b[1m1075/1075\u001b[0m \u001b[32m━━━━━━━━━━━━━━━━━━━━\u001b[0m\u001b[37m\u001b[0m \u001b[1m2s\u001b[0m 2ms/step - loss: 7.0796 - mae: 1.7033 - mse: 6.4570 - val_loss: 15.9858 - val_mae: 2.2772 - val_mse: 15.3763 - learning_rate: 0.0010\n",
      "Epoch 33/800\n",
      "\u001b[1m1075/1075\u001b[0m \u001b[32m━━━━━━━━━━━━━━━━━━━━\u001b[0m\u001b[37m\u001b[0m \u001b[1m2s\u001b[0m 2ms/step - loss: 8.8127 - mae: 1.7452 - mse: 8.1873 - val_loss: 16.0396 - val_mae: 2.2842 - val_mse: 15.4279 - learning_rate: 0.0010\n",
      "Epoch 34/800\n",
      "\u001b[1m1075/1075\u001b[0m \u001b[32m━━━━━━━━━━━━━━━━━━━━\u001b[0m\u001b[37m\u001b[0m \u001b[1m2s\u001b[0m 2ms/step - loss: 6.9272 - mae: 1.7019 - mse: 6.3150 - val_loss: 16.3677 - val_mae: 2.3308 - val_mse: 15.7400 - learning_rate: 0.0010\n",
      "Epoch 35/800\n",
      "\u001b[1m1075/1075\u001b[0m \u001b[32m━━━━━━━━━━━━━━━━━━━━\u001b[0m\u001b[37m\u001b[0m \u001b[1m2s\u001b[0m 2ms/step - loss: 7.5566 - mae: 1.7125 - mse: 6.9221 - val_loss: 17.7983 - val_mae: 2.5299 - val_mse: 17.1694 - learning_rate: 0.0010\n",
      "Epoch 36/800\n",
      "\u001b[1m1075/1075\u001b[0m \u001b[32m━━━━━━━━━━━━━━━━━━━━\u001b[0m\u001b[37m\u001b[0m \u001b[1m2s\u001b[0m 2ms/step - loss: 6.2558 - mae: 1.5913 - mse: 5.6399 - val_loss: 16.7516 - val_mae: 2.4305 - val_mse: 16.1705 - learning_rate: 3.8000e-04\n",
      "Epoch 37/800\n",
      "\u001b[1m1075/1075\u001b[0m \u001b[32m━━━━━━━━━━━━━━━━━━━━\u001b[0m\u001b[37m\u001b[0m \u001b[1m2s\u001b[0m 2ms/step - loss: 6.2854 - mae: 1.5889 - mse: 5.7117 - val_loss: 16.4343 - val_mae: 2.4033 - val_mse: 15.8804 - learning_rate: 3.8000e-04\n",
      "Epoch 38/800\n",
      "\u001b[1m1075/1075\u001b[0m \u001b[32m━━━━━━━━━━━━━━━━━━━━\u001b[0m\u001b[37m\u001b[0m \u001b[1m2s\u001b[0m 2ms/step - loss: 5.8508 - mae: 1.5576 - mse: 5.3044 - val_loss: 16.5422 - val_mae: 2.4096 - val_mse: 16.0144 - learning_rate: 3.8000e-04\n",
      "Epoch 39/800\n",
      "\u001b[1m1075/1075\u001b[0m \u001b[32m━━━━━━━━━━━━━━━━━━━━\u001b[0m\u001b[37m\u001b[0m \u001b[1m2s\u001b[0m 2ms/step - loss: 5.8474 - mae: 1.5623 - mse: 5.3232 - val_loss: 16.4019 - val_mae: 2.3948 - val_mse: 15.8917 - learning_rate: 3.8000e-04\n",
      "Epoch 40/800\n",
      "\u001b[1m1075/1075\u001b[0m \u001b[32m━━━━━━━━━━━━━━━━━━━━\u001b[0m\u001b[37m\u001b[0m \u001b[1m2s\u001b[0m 2ms/step - loss: 6.5485 - mae: 1.5869 - mse: 6.0414 - val_loss: 16.2700 - val_mae: 2.3591 - val_mse: 15.7722 - learning_rate: 3.8000e-04\n",
      "Epoch 41/800\n",
      "\u001b[1m1075/1075\u001b[0m \u001b[32m━━━━━━━━━━━━━━━━━━━━\u001b[0m\u001b[37m\u001b[0m \u001b[1m2s\u001b[0m 2ms/step - loss: 6.4095 - mae: 1.5690 - mse: 5.9144 - val_loss: 16.0465 - val_mae: 2.3337 - val_mse: 15.5588 - learning_rate: 3.8000e-04\n",
      "Epoch 42/800\n",
      "\u001b[1m1075/1075\u001b[0m \u001b[32m━━━━━━━━━━━━━━━━━━━━\u001b[0m\u001b[37m\u001b[0m \u001b[1m2s\u001b[0m 2ms/step - loss: 7.1276 - mae: 1.5704 - mse: 6.6424 - val_loss: 16.2450 - val_mae: 2.3860 - val_mse: 15.7665 - learning_rate: 3.8000e-04\n",
      "Epoch 43/800\n",
      "\u001b[1m1075/1075\u001b[0m \u001b[32m━━━━━━━━━━━━━━━━━━━━\u001b[0m\u001b[37m\u001b[0m \u001b[1m2s\u001b[0m 2ms/step - loss: 6.3212 - mae: 1.5663 - mse: 5.8450 - val_loss: 16.2252 - val_mae: 2.3693 - val_mse: 15.7527 - learning_rate: 3.8000e-04\n",
      "Epoch 44/800\n",
      "\u001b[1m1075/1075\u001b[0m \u001b[32m━━━━━━━━━━━━━━━━━━━━\u001b[0m\u001b[37m\u001b[0m \u001b[1m2s\u001b[0m 2ms/step - loss: 6.3111 - mae: 1.5925 - mse: 5.8415 - val_loss: 16.8751 - val_mae: 2.5139 - val_mse: 16.4118 - learning_rate: 3.8000e-04\n",
      "Epoch 45/800\n",
      "\u001b[1m1075/1075\u001b[0m \u001b[32m━━━━━━━━━━━━━━━━━━━━\u001b[0m\u001b[37m\u001b[0m \u001b[1m2s\u001b[0m 2ms/step - loss: 6.3345 - mae: 1.5657 - mse: 5.8705 - val_loss: 16.4435 - val_mae: 2.4251 - val_mse: 15.9826 - learning_rate: 3.8000e-04\n",
      "Epoch 46/800\n",
      "\u001b[1m1075/1075\u001b[0m \u001b[32m━━━━━━━━━━━━━━━━━━━━\u001b[0m\u001b[37m\u001b[0m \u001b[1m2s\u001b[0m 2ms/step - loss: 6.2299 - mae: 1.5264 - mse: 5.7717 - val_loss: 16.4871 - val_mae: 2.4352 - val_mse: 16.0350 - learning_rate: 1.4440e-04\n",
      "Epoch 47/800\n",
      "\u001b[1m1075/1075\u001b[0m \u001b[32m━━━━━━━━━━━━━━━━━━━━\u001b[0m\u001b[37m\u001b[0m \u001b[1m2s\u001b[0m 2ms/step - loss: 5.5155 - mae: 1.5075 - mse: 5.0657 - val_loss: 16.7505 - val_mae: 2.4729 - val_mse: 16.3057 - learning_rate: 1.4440e-04\n",
      "Epoch 48/800\n",
      "\u001b[1m1075/1075\u001b[0m \u001b[32m━━━━━━━━━━━━━━━━━━━━\u001b[0m\u001b[37m\u001b[0m \u001b[1m2s\u001b[0m 2ms/step - loss: 6.6852 - mae: 1.5181 - mse: 6.2427 - val_loss: 16.6463 - val_mae: 2.4697 - val_mse: 16.2091 - learning_rate: 1.4440e-04\n",
      "Epoch 49/800\n",
      "\u001b[1m1075/1075\u001b[0m \u001b[32m━━━━━━━━━━━━━━━━━━━━\u001b[0m\u001b[37m\u001b[0m \u001b[1m2s\u001b[0m 2ms/step - loss: 5.7544 - mae: 1.5080 - mse: 5.3197 - val_loss: 16.5510 - val_mae: 2.4575 - val_mse: 16.1205 - learning_rate: 1.4440e-04\n",
      "Epoch 50/800\n",
      "\u001b[1m1075/1075\u001b[0m \u001b[32m━━━━━━━━━━━━━━━━━━━━\u001b[0m\u001b[37m\u001b[0m \u001b[1m2s\u001b[0m 2ms/step - loss: 5.6466 - mae: 1.4953 - mse: 5.2180 - val_loss: 16.5020 - val_mae: 2.4317 - val_mse: 16.0768 - learning_rate: 1.4440e-04\n",
      "Epoch 51/800\n",
      "\u001b[1m1075/1075\u001b[0m \u001b[32m━━━━━━━━━━━━━━━━━━━━\u001b[0m\u001b[37m\u001b[0m \u001b[1m2s\u001b[0m 2ms/step - loss: 5.5663 - mae: 1.5035 - mse: 5.1430 - val_loss: 16.8582 - val_mae: 2.5085 - val_mse: 16.4391 - learning_rate: 1.4440e-04\n",
      "Epoch 52/800\n",
      "\u001b[1m1075/1075\u001b[0m \u001b[32m━━━━━━━━━━━━━━━━━━━━\u001b[0m\u001b[37m\u001b[0m \u001b[1m2s\u001b[0m 2ms/step - loss: 6.0825 - mae: 1.5067 - mse: 5.6644 - val_loss: 16.6260 - val_mae: 2.4755 - val_mse: 16.2122 - learning_rate: 1.4440e-04\n",
      "Epoch 53/800\n",
      "\u001b[1m1075/1075\u001b[0m \u001b[32m━━━━━━━━━━━━━━━━━━━━\u001b[0m\u001b[37m\u001b[0m \u001b[1m2s\u001b[0m 2ms/step - loss: 5.8919 - mae: 1.5331 - mse: 5.4781 - val_loss: 16.7644 - val_mae: 2.5151 - val_mse: 16.3544 - learning_rate: 1.4440e-04\n",
      "Epoch 54/800\n",
      "\u001b[1m1075/1075\u001b[0m \u001b[32m━━━━━━━━━━━━━━━━━━━━\u001b[0m\u001b[37m\u001b[0m \u001b[1m2s\u001b[0m 2ms/step - loss: 6.0298 - mae: 1.5212 - mse: 5.6197 - val_loss: 16.5444 - val_mae: 2.4486 - val_mse: 16.1380 - learning_rate: 1.4440e-04\n",
      "Epoch 55/800\n",
      "\u001b[1m1075/1075\u001b[0m \u001b[32m━━━━━━━━━━━━━━━━━━━━\u001b[0m\u001b[37m\u001b[0m \u001b[1m3s\u001b[0m 2ms/step - loss: 5.8770 - mae: 1.4950 - mse: 5.4714 - val_loss: 16.5601 - val_mae: 2.4698 - val_mse: 16.1580 - learning_rate: 1.4440e-04\n",
      "Epoch 56/800\n",
      "\u001b[1m1075/1075\u001b[0m \u001b[32m━━━━━━━━━━━━━━━━━━━━\u001b[0m\u001b[37m\u001b[0m \u001b[1m3s\u001b[0m 2ms/step - loss: 5.2296 - mae: 1.4565 - mse: 4.8281 - val_loss: 16.5325 - val_mae: 2.4624 - val_mse: 16.1324 - learning_rate: 5.4872e-05\n",
      "Epoch 57/800\n",
      "\u001b[1m1075/1075\u001b[0m \u001b[32m━━━━━━━━━━━━━━━━━━━━\u001b[0m\u001b[37m\u001b[0m \u001b[1m3s\u001b[0m 3ms/step - loss: 5.9146 - mae: 1.4842 - mse: 5.5150 - val_loss: 16.5201 - val_mae: 2.4597 - val_mse: 16.1224 - learning_rate: 5.4872e-05\n",
      "Epoch 58/800\n",
      "\u001b[1m1075/1075\u001b[0m \u001b[32m━━━━━━━━━━━━━━━━━━━━\u001b[0m\u001b[37m\u001b[0m \u001b[1m3s\u001b[0m 2ms/step - loss: 5.9455 - mae: 1.4775 - mse: 5.5480 - val_loss: 16.5245 - val_mae: 2.4673 - val_mse: 16.1293 - learning_rate: 5.4872e-05\n",
      "Epoch 59/800\n",
      "\u001b[1m1075/1075\u001b[0m \u001b[32m━━━━━━━━━━━━━━━━━━━━\u001b[0m\u001b[37m\u001b[0m \u001b[1m3s\u001b[0m 3ms/step - loss: 5.8320 - mae: 1.4497 - mse: 5.4366 - val_loss: 16.6453 - val_mae: 2.4881 - val_mse: 16.2512 - learning_rate: 5.4872e-05\n",
      "Epoch 60/800\n",
      "\u001b[1m1075/1075\u001b[0m \u001b[32m━━━━━━━━━━━━━━━━━━━━\u001b[0m\u001b[37m\u001b[0m \u001b[1m3s\u001b[0m 2ms/step - loss: 5.7209 - mae: 1.4934 - mse: 5.3274 - val_loss: 16.5476 - val_mae: 2.4723 - val_mse: 16.1555 - learning_rate: 5.4872e-05\n",
      "Epoch 61/800\n",
      "\u001b[1m1075/1075\u001b[0m \u001b[32m━━━━━━━━━━━━━━━━━━━━\u001b[0m\u001b[37m\u001b[0m \u001b[1m3s\u001b[0m 2ms/step - loss: 5.6058 - mae: 1.4819 - mse: 5.2144 - val_loss: 16.4923 - val_mae: 2.4542 - val_mse: 16.1024 - learning_rate: 5.4872e-05\n",
      "Epoch 62/800\n",
      "\u001b[1m1075/1075\u001b[0m \u001b[32m━━━━━━━━━━━━━━━━━━━━\u001b[0m\u001b[37m\u001b[0m \u001b[1m2s\u001b[0m 2ms/step - loss: 5.2545 - mae: 1.4658 - mse: 4.8650 - val_loss: 16.5250 - val_mae: 2.4724 - val_mse: 16.1373 - learning_rate: 5.4872e-05\n",
      "Epoch 63/800\n",
      "\u001b[1m1075/1075\u001b[0m \u001b[32m━━━━━━━━━━━━━━━━━━━━\u001b[0m\u001b[37m\u001b[0m \u001b[1m2s\u001b[0m 2ms/step - loss: 6.7756 - mae: 1.4803 - mse: 6.3879 - val_loss: 16.3984 - val_mae: 2.4432 - val_mse: 16.0124 - learning_rate: 5.4872e-05\n",
      "\u001b[1m77/77\u001b[0m \u001b[32m━━━━━━━━━━━━━━━━━━━━\u001b[0m\u001b[37m\u001b[0m \u001b[1m0s\u001b[0m 1ms/step - loss: 6.4641 - mae: 1.7532 - mse: 5.6876  \n",
      "Test loss, Test MAE: [6.938469886779785, 1.802767038345337, 6.1619977951049805]\n"
     ]
    }
   ],
   "source": [
    "model3 = Sequential([\n",
    "    Dense(512, activation='relu', input_shape=(Data.shape[1],), kernel_regularizer=l2(0.025)),\n",
    "    Dropout(0.15),\n",
    "    Dense(256, activation='relu'),\n",
    "    Dropout(0.38),\n",
    "    Dense(128, activation='relu'),\n",
    "    Dense(64, activation='relu'),\n",
    "    Dense(1, activation='linear'),\n",
    "])\n",
    "\n",
    "optimizer = Adam(learning_rate=0.001)\n",
    "model3.compile(optimizer='adam', loss='mean_squared_error', metrics=['mae', 'mse'])\n",
    "# Early Stopping Callback\n",
    "early_stopping = EarlyStopping(\n",
    "    patience=38,  # Training stoppt, wenn sich der Validierungs-Loss 15 Epochen lang nicht verbessert\n",
    "    restore_best_weights=True  # Die besten Gewichte werden zurückgeladen\n",
    ")\n",
    "\n",
    "lr_scheduler = ReduceLROnPlateau(monitor='val_loss', factor=0.38, patience=10, min_lr=1e-6)\n",
    "\n",
    "\n",
    "\n",
    "history3 = model3.fit(X_train, y_train, validation_data=(X_val, y_val), epochs=800, batch_size=16, callbacks=[early_stopping, lr_scheduler])\n",
    "\n",
    "results = model.evaluate(X_test, y_test)\n",
    "print(\"Test loss, Test MAE:\", results)"
   ]
  },
  {
   "cell_type": "markdown",
   "metadata": {},
   "source": [
    "77/77 ━━━━━━━━━━━━━━━━━━━━ 0s 1ms/step - loss: 4.7661 - mae: 1.4841 - mse: 4.2201  \n",
    "Test loss, Test MAE: [5.42454195022583, 1.6282896995544434, 4.878493785858154]"
   ]
  },
  {
   "cell_type": "code",
   "execution_count": 173,
   "metadata": {},
   "outputs": [
    {
     "data": {
      "image/png": "[encoded data removed]",
      "text/plain": [
       "<Figure size 640x480 with 1 Axes>"
      ]
     },
     "metadata": {},
     "output_type": "display_data"
    }
   ],
   "source": [
    "import matplotlib.pyplot as plt\n",
    "plt.plot(history3.history['loss'], label='Training loss')\n",
    "plt.plot(history3.history['val_loss'], label='Validation loss')\n",
    "plt.legend()\n",
    "plt.show()\n"
   ]
  },
  {
   "cell_type": "code",
   "execution_count": 177,
   "metadata": {},
   "outputs": [
    {
     "data": {
      "image/png": "[encoded data removed]",
      "text/plain": [
       "<Figure size 640x480 with 1 Axes>"
      ]
     },
     "metadata": {},
     "output_type": "display_data"
    }
   ],
   "source": [
    "import matplotlib.pyplot as plt\n",
    "plt.plot(history3.history['loss'], label='Training loss')\n",
    "plt.plot(history3.history['val_loss'], label='Validation loss')\n",
    "plt.legend()\n",
    "plt.show()"
   ]
  },
  {
   "cell_type": "code",
   "execution_count": 176,
   "metadata": {},
   "outputs": [
    {
     "name": "stdout",
     "output_type": "stream",
     "text": [
      "Available GPUs: []\n"
     ]
    }
   ],
   "source": [
    "\n",
    "print(\"Available GPUs:\", tf.config.list_physical_devices('GPU'))\n"
   ]
  },
  {
   "cell_type": "code",
   "execution_count": null,
   "metadata": {},
   "outputs": [],
   "source": []
  }
 ],
 "metadata": {
  "kernelspec": {
   "display_name": "Python 3",
   "language": "python",
   "name": "python3"
  },
  "language_info": {
   "codemirror_mode": {
    "name": "ipython",
    "version": 3
   },
   "file_extension": ".py",
   "mimetype": "text/x-python",
   "name": "python",
   "nbconvert_exporter": "python",
   "pygments_lexer": "ipython3",
   "version": "3.11.9"
  }
 },
 "nbformat": 4,
 "nbformat_minor": 2
}
