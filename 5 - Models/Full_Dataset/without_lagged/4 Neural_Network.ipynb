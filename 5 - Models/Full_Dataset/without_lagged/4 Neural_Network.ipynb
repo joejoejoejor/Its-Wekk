{
 "cells": [
  {
   "cell_type": "markdown",
   "metadata": {},
   "source": [
    "**Import Tensorflow as Neural Network package**"
   ]
  },
  {
   "cell_type": "code",
   "execution_count": null,
   "metadata": {},
   "outputs": [],
   "source": [
    "import pandas as pd \n",
    "import numpy as np\n",
    "from tensorflow.keras.models import Sequential\n",
    "from tensorflow.keras.layers import Dense\n",
    "from tensorflow.keras.optimizers import Adam\n",
    "from tensorflow.keras.regularizers import l2\n",
    "from tensorflow.keras.layers import Dropout\n",
    "from tensorflow.keras.callbacks import EarlyStopping, ReduceLROnPlateau \n",
    "import tensorflow as tf"
   ]
  },
  {
   "cell_type": "code",
   "execution_count": 11,
   "metadata": {},
   "outputs": [
    {
     "name": "stdout",
     "output_type": "stream",
     "text": [
      "TensorFlow version:  2.18.0\n"
     ]
    }
   ],
   "source": [
    "print(\"TensorFlow version: \", tf.__version__)"
   ]
  },
  {
   "cell_type": "code",
   "execution_count": 12,
   "metadata": {},
   "outputs": [],
   "source": [
    "Data = pd.read_csv(\"../../4 - Data/04_WorkingDatasets/NormalDataLaggedTarget/WDFTargetLagged.csv\")\n",
    "Target = pd.read_csv(\"../../4 - Data/04_WorkingDatasets/NormalDataLaggedTarget/TargetOutliersTreated.csv\")"
   ]
  },
  {
   "cell_type": "code",
   "execution_count": 13,
   "metadata": {},
   "outputs": [
    {
     "data": {
      "text/html": [
       "<div>\n",
       "<style scoped>\n",
       "    .dataframe tbody tr th:only-of-type {\n",
       "        vertical-align: middle;\n",
       "    }\n",
       "\n",
       "    .dataframe tbody tr th {\n",
       "        vertical-align: top;\n",
       "    }\n",
       "\n",
       "    .dataframe thead th {\n",
       "        text-align: right;\n",
       "    }\n",
       "</style>\n",
       "<table border=\"1\" class=\"dataframe\">\n",
       "  <thead>\n",
       "    <tr style=\"text-align: right;\">\n",
       "      <th></th>\n",
       "      <th>Rebgassechange</th>\n",
       "      <th>Clarahuuschange</th>\n",
       "      <th>Citychange</th>\n",
       "      <th>Storchenchange</th>\n",
       "      <th>Post Baselchange</th>\n",
       "      <th>Aeschenchange</th>\n",
       "      <th>Bahnhof Südchange</th>\n",
       "      <th>Bad. Bahnhofchange</th>\n",
       "      <th>Europechange</th>\n",
       "      <th>Claramattechange</th>\n",
       "      <th>...</th>\n",
       "      <th>PM2.5 [ug/m3]</th>\n",
       "      <th>CPC [1/cm3]</th>\n",
       "      <th>PREC [mm]</th>\n",
       "      <th>RAD [W/m2]</th>\n",
       "      <th>SO2 [ug/m3]</th>\n",
       "      <th>NOX [ug/m3 eq. NO2]</th>\n",
       "      <th>TEMP [C]</th>\n",
       "      <th>PM10_1h_lag</th>\n",
       "      <th>PM10_2h_lag</th>\n",
       "      <th>PM10_24h_lag</th>\n",
       "    </tr>\n",
       "  </thead>\n",
       "  <tbody>\n",
       "    <tr>\n",
       "      <th>0</th>\n",
       "      <td>-0.069723</td>\n",
       "      <td>-0.000039</td>\n",
       "      <td>-0.010908</td>\n",
       "      <td>-0.175172</td>\n",
       "      <td>0.000008</td>\n",
       "      <td>0.000005</td>\n",
       "      <td>-0.245170</td>\n",
       "      <td>-0.052815</td>\n",
       "      <td>-0.000129</td>\n",
       "      <td>9.531997e-17</td>\n",
       "      <td>...</td>\n",
       "      <td>1.069597</td>\n",
       "      <td>0.510222</td>\n",
       "      <td>-0.152269</td>\n",
       "      <td>-0.639512</td>\n",
       "      <td>0.295487</td>\n",
       "      <td>1.099745</td>\n",
       "      <td>-1.039634</td>\n",
       "      <td>0.096166</td>\n",
       "      <td>0.010001</td>\n",
       "      <td>5.637085</td>\n",
       "    </tr>\n",
       "    <tr>\n",
       "      <th>1</th>\n",
       "      <td>0.000222</td>\n",
       "      <td>-0.000039</td>\n",
       "      <td>-0.000018</td>\n",
       "      <td>0.000017</td>\n",
       "      <td>0.000008</td>\n",
       "      <td>0.000005</td>\n",
       "      <td>0.000040</td>\n",
       "      <td>-0.000251</td>\n",
       "      <td>-0.000129</td>\n",
       "      <td>9.531997e-17</td>\n",
       "      <td>...</td>\n",
       "      <td>0.826050</td>\n",
       "      <td>0.216428</td>\n",
       "      <td>-0.152269</td>\n",
       "      <td>-0.639512</td>\n",
       "      <td>0.295487</td>\n",
       "      <td>0.836950</td>\n",
       "      <td>-1.052245</td>\n",
       "      <td>0.017932</td>\n",
       "      <td>0.096179</td>\n",
       "      <td>3.190429</td>\n",
       "    </tr>\n",
       "    <tr>\n",
       "      <th>2</th>\n",
       "      <td>0.000222</td>\n",
       "      <td>-0.000039</td>\n",
       "      <td>-0.000018</td>\n",
       "      <td>-0.058380</td>\n",
       "      <td>0.000008</td>\n",
       "      <td>0.000005</td>\n",
       "      <td>0.490459</td>\n",
       "      <td>0.104878</td>\n",
       "      <td>-0.000129</td>\n",
       "      <td>9.531997e-17</td>\n",
       "      <td>...</td>\n",
       "      <td>0.754418</td>\n",
       "      <td>0.090215</td>\n",
       "      <td>-0.152269</td>\n",
       "      <td>-0.639512</td>\n",
       "      <td>0.168683</td>\n",
       "      <td>0.774379</td>\n",
       "      <td>-1.115300</td>\n",
       "      <td>-0.185601</td>\n",
       "      <td>0.017946</td>\n",
       "      <td>1.511672</td>\n",
       "    </tr>\n",
       "    <tr>\n",
       "      <th>3</th>\n",
       "      <td>0.000222</td>\n",
       "      <td>-0.000039</td>\n",
       "      <td>0.010872</td>\n",
       "      <td>0.058413</td>\n",
       "      <td>0.000008</td>\n",
       "      <td>0.000005</td>\n",
       "      <td>0.245250</td>\n",
       "      <td>0.104878</td>\n",
       "      <td>0.150828</td>\n",
       "      <td>9.531997e-17</td>\n",
       "      <td>...</td>\n",
       "      <td>0.725766</td>\n",
       "      <td>0.447317</td>\n",
       "      <td>-0.152269</td>\n",
       "      <td>-0.639512</td>\n",
       "      <td>0.422291</td>\n",
       "      <td>0.993376</td>\n",
       "      <td>-1.216189</td>\n",
       "      <td>-0.296032</td>\n",
       "      <td>-0.185588</td>\n",
       "      <td>-0.690209</td>\n",
       "    </tr>\n",
       "    <tr>\n",
       "      <th>4</th>\n",
       "      <td>0.140113</td>\n",
       "      <td>-0.000039</td>\n",
       "      <td>0.903873</td>\n",
       "      <td>-0.058380</td>\n",
       "      <td>0.382243</td>\n",
       "      <td>0.000005</td>\n",
       "      <td>0.000040</td>\n",
       "      <td>-0.157943</td>\n",
       "      <td>0.150828</td>\n",
       "      <td>9.531997e-17</td>\n",
       "      <td>...</td>\n",
       "      <td>0.697113</td>\n",
       "      <td>0.316550</td>\n",
       "      <td>-0.152269</td>\n",
       "      <td>-0.639512</td>\n",
       "      <td>0.295487</td>\n",
       "      <td>1.093488</td>\n",
       "      <td>-1.291856</td>\n",
       "      <td>-0.490289</td>\n",
       "      <td>-0.296019</td>\n",
       "      <td>-1.257621</td>\n",
       "    </tr>\n",
       "  </tbody>\n",
       "</table>\n",
       "<p>5 rows × 167 columns</p>\n",
       "</div>"
      ],
      "text/plain": [
       "   Rebgassechange  Clarahuuschange  Citychange  Storchenchange  \\\n",
       "0       -0.069723        -0.000039   -0.010908       -0.175172   \n",
       "1        0.000222        -0.000039   -0.000018        0.000017   \n",
       "2        0.000222        -0.000039   -0.000018       -0.058380   \n",
       "3        0.000222        -0.000039    0.010872        0.058413   \n",
       "4        0.140113        -0.000039    0.903873       -0.058380   \n",
       "\n",
       "   Post Baselchange  Aeschenchange  Bahnhof Südchange  Bad. Bahnhofchange  \\\n",
       "0          0.000008       0.000005          -0.245170           -0.052815   \n",
       "1          0.000008       0.000005           0.000040           -0.000251   \n",
       "2          0.000008       0.000005           0.490459            0.104878   \n",
       "3          0.000008       0.000005           0.245250            0.104878   \n",
       "4          0.382243       0.000005           0.000040           -0.157943   \n",
       "\n",
       "   Europechange  Claramattechange  ...  PM2.5 [ug/m3]  CPC [1/cm3]  PREC [mm]  \\\n",
       "0     -0.000129      9.531997e-17  ...       1.069597     0.510222  -0.152269   \n",
       "1     -0.000129      9.531997e-17  ...       0.826050     0.216428  -0.152269   \n",
       "2     -0.000129      9.531997e-17  ...       0.754418     0.090215  -0.152269   \n",
       "3      0.150828      9.531997e-17  ...       0.725766     0.447317  -0.152269   \n",
       "4      0.150828      9.531997e-17  ...       0.697113     0.316550  -0.152269   \n",
       "\n",
       "   RAD [W/m2]  SO2 [ug/m3]  NOX [ug/m3 eq. NO2]  TEMP [C]  PM10_1h_lag  \\\n",
       "0   -0.639512     0.295487             1.099745 -1.039634     0.096166   \n",
       "1   -0.639512     0.295487             0.836950 -1.052245     0.017932   \n",
       "2   -0.639512     0.168683             0.774379 -1.115300    -0.185601   \n",
       "3   -0.639512     0.422291             0.993376 -1.216189    -0.296032   \n",
       "4   -0.639512     0.295487             1.093488 -1.291856    -0.490289   \n",
       "\n",
       "   PM10_2h_lag  PM10_24h_lag  \n",
       "0     0.010001      5.637085  \n",
       "1     0.096179      3.190429  \n",
       "2     0.017946      1.511672  \n",
       "3    -0.185588     -0.690209  \n",
       "4    -0.296019     -1.257621  \n",
       "\n",
       "[5 rows x 167 columns]"
      ]
     },
     "execution_count": 13,
     "metadata": {},
     "output_type": "execute_result"
    }
   ],
   "source": [
    "Target.head()\n",
    "\n",
    "#Data.drop(columns = ['Datum'], inplace = True)\n",
    "Data.head()\n"
   ]
  },
  {
   "cell_type": "code",
   "execution_count": 14,
   "metadata": {},
   "outputs": [],
   "source": [
    "#Lag Feature einbauen, da die Feinstaubkonzentration häufig von den Werten der letzten Tage abhängt \n",
    "lag_hours = 24\n",
    "\n",
    "# Erstelle für jede Stunde in der Vergangenheit eine Lag-Feature-Spalte\n",
    "for lag in range(1, lag_hours + 1):  \n",
    "    Data[f'Feature_lag_{lag}'] = Target['PM10_Combined_Trend_Residual'].shift(lag)\n",
    "\n",
    "# Entfernen von Zeilen mit NaN-Werten, die durch das Verschieben der Daten entstehen\n",
    "Data.dropna(inplace=True)\n",
    "# Stelle sicher, dass du NaN-Werte aus beiden X und y entfernst\n",
    "\n",
    "# Stelle sicher, dass Target denselben Index hat wie Data\n",
    "Target = Target.loc[Data.index]\n",
    "\n"
   ]
  },
  {
   "cell_type": "code",
   "execution_count": 15,
   "metadata": {},
   "outputs": [],
   "source": [
    "from sklearn.preprocessing import StandardScaler\n",
    "scaler = StandardScaler()\n",
    "Data = scaler.fit_transform(Data)"
   ]
  },
  {
   "cell_type": "code",
   "execution_count": 16,
   "metadata": {},
   "outputs": [],
   "source": [
    "# Beispiel: Annahme, X.shape[0] = 1000 (1000 Zeitpunkte)\n",
    "n = Data.shape[0]\n",
    "X = Data.copy()\n",
    "y = Target[\"PM10_Combined_Trend_Residual\"].copy()\n",
    "\n",
    "# Split-Größen definieren\n",
    "train_size = int(n * 0.7)  # 70% Training\n",
    "val_size = int(n * 0.2)    # 20% Validierung\n",
    "test_size = n - train_size - val_size  # 10% Test\n",
    "\n",
    "# Training (älteste Daten)\n",
    "X_train, y_train = X[:train_size], y[:train_size]\n",
    "\n",
    "# Validierung (neuere Daten)\n",
    "X_val, y_val = X[train_size:train_size + val_size], y[train_size:train_size + val_size]\n",
    "\n",
    "# Test (neueste Daten)\n",
    "X_test, y_test = X[train_size + val_size:], y[train_size + val_size:]\n"
   ]
  },
  {
   "cell_type": "code",
   "execution_count": 17,
   "metadata": {},
   "outputs": [
    {
     "name": "stderr",
     "output_type": "stream",
     "text": [
      "C:\\Users\\maxd2\\AppData\\Local\\Packages\\PythonSoftwareFoundation.Python.3.11_qbz5n2kfra8p0\\LocalCache\\local-packages\\Python311\\site-packages\\keras\\src\\layers\\core\\dense.py:87: UserWarning: Do not pass an `input_shape`/`input_dim` argument to a layer. When using Sequential models, prefer using an `Input(shape)` object as the first layer in the model instead.\n",
      "  super().__init__(activity_regularizer=activity_regularizer, **kwargs)\n"
     ]
    }
   ],
   "source": [
    "model = Sequential([\n",
    "    Dense(256, activation='relu', input_shape=(Data.shape[1],), kernel_regularizer=l2(0.01)),\n",
    "    Dropout(0.2),\n",
    "    Dense(128, activation='relu'),\n",
    "    Dropout(0.3),\n",
    "    Dense(64, activation='relu'),\n",
    "    Dense(1, activation='linear'),\n",
    "])"
   ]
  },
  {
   "cell_type": "code",
   "execution_count": 18,
   "metadata": {},
   "outputs": [],
   "source": [
    "optimizer = Adam(learning_rate=0.002)\n",
    "model.compile(optimizer='adam', loss='mean_squared_error', metrics=['mae', 'mse'])"
   ]
  },
  {
   "cell_type": "code",
   "execution_count": 19,
   "metadata": {},
   "outputs": [],
   "source": [
    "# Early Stopping Callback\n",
    "early_stopping = EarlyStopping(\n",
    "    patience=20,  # Training stoppt, wenn sich der Validierungs-Loss 5 Epochs lang nicht verbessert\n",
    "    restore_best_weights=True  # Die besten Gewichte werden zurückgeladen\n",
    ")"
   ]
  },
  {
   "cell_type": "code",
   "execution_count": 20,
   "metadata": {},
   "outputs": [
    {
     "name": "stdout",
     "output_type": "stream",
     "text": [
      "Epoch 1/800\n",
      "\u001b[1m269/269\u001b[0m \u001b[32m━━━━━━━━━━━━━━━━━━━━\u001b[0m\u001b[37m\u001b[0m \u001b[1m2s\u001b[0m 2ms/step - loss: 51.6486 - mae: 4.7630 - mse: 49.4305 - val_loss: 21.4920 - val_mae: 2.5430 - val_mse: 19.3399\n",
      "Epoch 2/800\n",
      "\u001b[1m269/269\u001b[0m \u001b[32m━━━━━━━━━━━━━━━━━━━━\u001b[0m\u001b[37m\u001b[0m \u001b[1m1s\u001b[0m 2ms/step - loss: 11.6974 - mae: 2.2496 - mse: 9.5823 - val_loss: 20.9267 - val_mae: 2.5553 - val_mse: 18.9102\n",
      "Epoch 3/800\n",
      "\u001b[1m269/269\u001b[0m \u001b[32m━━━━━━━━━━━━━━━━━━━━\u001b[0m\u001b[37m\u001b[0m \u001b[1m1s\u001b[0m 2ms/step - loss: 10.3569 - mae: 2.0897 - mse: 8.3758 - val_loss: 20.6541 - val_mae: 2.6588 - val_mse: 18.7830\n",
      "Epoch 4/800\n",
      "\u001b[1m269/269\u001b[0m \u001b[32m━━━━━━━━━━━━━━━━━━━━\u001b[0m\u001b[37m\u001b[0m \u001b[1m1s\u001b[0m 2ms/step - loss: 10.0634 - mae: 2.0277 - mse: 8.2231 - val_loss: 18.1109 - val_mae: 2.3608 - val_mse: 16.3689\n",
      "Epoch 5/800\n",
      "\u001b[1m269/269\u001b[0m \u001b[32m━━━━━━━━━━━━━━━━━━━━\u001b[0m\u001b[37m\u001b[0m \u001b[1m1s\u001b[0m 2ms/step - loss: 9.0048 - mae: 1.9457 - mse: 7.2983 - val_loss: 18.9688 - val_mae: 2.5489 - val_mse: 17.3550\n",
      "Epoch 6/800\n",
      "\u001b[1m269/269\u001b[0m \u001b[32m━━━━━━━━━━━━━━━━━━━━\u001b[0m\u001b[37m\u001b[0m \u001b[1m1s\u001b[0m 2ms/step - loss: 8.7865 - mae: 1.9047 - mse: 7.2023 - val_loss: 18.8889 - val_mae: 2.6373 - val_mse: 17.3926\n",
      "Epoch 7/800\n",
      "\u001b[1m269/269\u001b[0m \u001b[32m━━━━━━━━━━━━━━━━━━━━\u001b[0m\u001b[37m\u001b[0m \u001b[1m1s\u001b[0m 2ms/step - loss: 8.7980 - mae: 1.9139 - mse: 7.3291 - val_loss: 18.0853 - val_mae: 2.3770 - val_mse: 16.7011\n",
      "Epoch 8/800\n",
      "\u001b[1m269/269\u001b[0m \u001b[32m━━━━━━━━━━━━━━━━━━━━\u001b[0m\u001b[37m\u001b[0m \u001b[1m1s\u001b[0m 2ms/step - loss: 7.6340 - mae: 1.7972 - mse: 6.2781 - val_loss: 23.4644 - val_mae: 3.1497 - val_mse: 22.1844\n",
      "Epoch 9/800\n",
      "\u001b[1m269/269\u001b[0m \u001b[32m━━━━━━━━━━━━━━━━━━━━\u001b[0m\u001b[37m\u001b[0m \u001b[1m1s\u001b[0m 2ms/step - loss: 8.7308 - mae: 1.9667 - mse: 7.4649 - val_loss: 16.7728 - val_mae: 2.2830 - val_mse: 15.5642\n",
      "Epoch 10/800\n",
      "\u001b[1m269/269\u001b[0m \u001b[32m━━━━━━━━━━━━━━━━━━━━\u001b[0m\u001b[37m\u001b[0m \u001b[1m1s\u001b[0m 2ms/step - loss: 7.6332 - mae: 1.7912 - mse: 6.4480 - val_loss: 16.5175 - val_mae: 2.2781 - val_mse: 15.3953\n",
      "Epoch 11/800\n",
      "\u001b[1m269/269\u001b[0m \u001b[32m━━━━━━━━━━━━━━━━━━━━\u001b[0m\u001b[37m\u001b[0m \u001b[1m1s\u001b[0m 2ms/step - loss: 7.7576 - mae: 1.8208 - mse: 6.6512 - val_loss: 17.0546 - val_mae: 2.3663 - val_mse: 16.0042\n",
      "Epoch 12/800\n",
      "\u001b[1m269/269\u001b[0m \u001b[32m━━━━━━━━━━━━━━━━━━━━\u001b[0m\u001b[37m\u001b[0m \u001b[1m1s\u001b[0m 2ms/step - loss: 7.4027 - mae: 1.7943 - mse: 6.3654 - val_loss: 15.1277 - val_mae: 2.1680 - val_mse: 14.1361\n",
      "Epoch 13/800\n",
      "\u001b[1m269/269\u001b[0m \u001b[32m━━━━━━━━━━━━━━━━━━━━\u001b[0m\u001b[37m\u001b[0m \u001b[1m1s\u001b[0m 2ms/step - loss: 6.6494 - mae: 1.7077 - mse: 5.6775 - val_loss: 16.5965 - val_mae: 2.3797 - val_mse: 15.6683\n",
      "Epoch 14/800\n",
      "\u001b[1m269/269\u001b[0m \u001b[32m━━━━━━━━━━━━━━━━━━━━\u001b[0m\u001b[37m\u001b[0m \u001b[1m1s\u001b[0m 2ms/step - loss: 6.2851 - mae: 1.6803 - mse: 5.3729 - val_loss: 15.1128 - val_mae: 2.1602 - val_mse: 14.2355\n",
      "Epoch 15/800\n",
      "\u001b[1m269/269\u001b[0m \u001b[32m━━━━━━━━━━━━━━━━━━━━\u001b[0m\u001b[37m\u001b[0m \u001b[1m1s\u001b[0m 2ms/step - loss: 6.6801 - mae: 1.7345 - mse: 5.8132 - val_loss: 21.2345 - val_mae: 3.0617 - val_mse: 20.3979\n",
      "Epoch 16/800\n",
      "\u001b[1m269/269\u001b[0m \u001b[32m━━━━━━━━━━━━━━━━━━━━\u001b[0m\u001b[37m\u001b[0m \u001b[1m1s\u001b[0m 2ms/step - loss: 6.8244 - mae: 1.7052 - mse: 5.9937 - val_loss: 17.3465 - val_mae: 2.5406 - val_mse: 16.5464\n",
      "Epoch 17/800\n",
      "\u001b[1m269/269\u001b[0m \u001b[32m━━━━━━━━━━━━━━━━━━━━\u001b[0m\u001b[37m\u001b[0m \u001b[1m1s\u001b[0m 2ms/step - loss: 5.9581 - mae: 1.6118 - mse: 5.1679 - val_loss: 19.0394 - val_mae: 2.6615 - val_mse: 18.2762\n",
      "Epoch 18/800\n",
      "\u001b[1m269/269\u001b[0m \u001b[32m━━━━━━━━━━━━━━━━━━━━\u001b[0m\u001b[37m\u001b[0m \u001b[1m1s\u001b[0m 2ms/step - loss: 6.7491 - mae: 1.6569 - mse: 5.9898 - val_loss: 19.7999 - val_mae: 2.8023 - val_mse: 19.0652\n",
      "Epoch 19/800\n",
      "\u001b[1m269/269\u001b[0m \u001b[32m━━━━━━━━━━━━━━━━━━━━\u001b[0m\u001b[37m\u001b[0m \u001b[1m1s\u001b[0m 2ms/step - loss: 5.9835 - mae: 1.6036 - mse: 5.2572 - val_loss: 19.9035 - val_mae: 2.7310 - val_mse: 19.1986\n",
      "Epoch 20/800\n",
      "\u001b[1m269/269\u001b[0m \u001b[32m━━━━━━━━━━━━━━━━━━━━\u001b[0m\u001b[37m\u001b[0m \u001b[1m1s\u001b[0m 2ms/step - loss: 5.8107 - mae: 1.6026 - mse: 5.1134 - val_loss: 21.1421 - val_mae: 2.8541 - val_mse: 20.4617\n",
      "Epoch 21/800\n",
      "\u001b[1m269/269\u001b[0m \u001b[32m━━━━━━━━━━━━━━━━━━━━\u001b[0m\u001b[37m\u001b[0m \u001b[1m1s\u001b[0m 2ms/step - loss: 5.7804 - mae: 1.5933 - mse: 5.1031 - val_loss: 18.6485 - val_mae: 2.7062 - val_mse: 17.9821\n",
      "Epoch 22/800\n",
      "\u001b[1m269/269\u001b[0m \u001b[32m━━━━━━━━━━━━━━━━━━━━\u001b[0m\u001b[37m\u001b[0m \u001b[1m1s\u001b[0m 2ms/step - loss: 5.9378 - mae: 1.5995 - mse: 5.2755 - val_loss: 24.0867 - val_mae: 3.1667 - val_mse: 23.4486\n",
      "Epoch 23/800\n",
      "\u001b[1m269/269\u001b[0m \u001b[32m━━━━━━━━━━━━━━━━━━━━\u001b[0m\u001b[37m\u001b[0m \u001b[1m1s\u001b[0m 2ms/step - loss: 5.6532 - mae: 1.5741 - mse: 5.0147 - val_loss: 16.7452 - val_mae: 2.4996 - val_mse: 16.1192\n",
      "Epoch 24/800\n",
      "\u001b[1m269/269\u001b[0m \u001b[32m━━━━━━━━━━━━━━━━━━━━\u001b[0m\u001b[37m\u001b[0m \u001b[1m1s\u001b[0m 2ms/step - loss: 5.4443 - mae: 1.5413 - mse: 4.8246 - val_loss: 18.4011 - val_mae: 2.5980 - val_mse: 17.7842\n",
      "Epoch 25/800\n",
      "\u001b[1m269/269\u001b[0m \u001b[32m━━━━━━━━━━━━━━━━━━━━\u001b[0m\u001b[37m\u001b[0m \u001b[1m1s\u001b[0m 2ms/step - loss: 5.6118 - mae: 1.5578 - mse: 4.9989 - val_loss: 19.0208 - val_mae: 2.6830 - val_mse: 18.4118\n",
      "Epoch 26/800\n",
      "\u001b[1m269/269\u001b[0m \u001b[32m━━━━━━━━━━━━━━━━━━━━\u001b[0m\u001b[37m\u001b[0m \u001b[1m1s\u001b[0m 2ms/step - loss: 5.6666 - mae: 1.5656 - mse: 5.0631 - val_loss: 17.4607 - val_mae: 2.5272 - val_mse: 16.8649\n",
      "Epoch 27/800\n",
      "\u001b[1m269/269\u001b[0m \u001b[32m━━━━━━━━━━━━━━━━━━━━\u001b[0m\u001b[37m\u001b[0m \u001b[1m1s\u001b[0m 2ms/step - loss: 5.3849 - mae: 1.5200 - mse: 4.7917 - val_loss: 18.6199 - val_mae: 2.6582 - val_mse: 18.0338\n",
      "Epoch 28/800\n",
      "\u001b[1m269/269\u001b[0m \u001b[32m━━━━━━━━━━━━━━━━━━━━\u001b[0m\u001b[37m\u001b[0m \u001b[1m1s\u001b[0m 2ms/step - loss: 5.2331 - mae: 1.5317 - mse: 4.6496 - val_loss: 17.7712 - val_mae: 2.5526 - val_mse: 17.1876\n",
      "Epoch 29/800\n",
      "\u001b[1m269/269\u001b[0m \u001b[32m━━━━━━━━━━━━━━━━━━━━\u001b[0m\u001b[37m\u001b[0m \u001b[1m1s\u001b[0m 2ms/step - loss: 5.6759 - mae: 1.5653 - mse: 5.0890 - val_loss: 19.4194 - val_mae: 2.6663 - val_mse: 18.8388\n",
      "Epoch 30/800\n",
      "\u001b[1m269/269\u001b[0m \u001b[32m━━━━━━━━━━━━━━━━━━━━\u001b[0m\u001b[37m\u001b[0m \u001b[1m1s\u001b[0m 2ms/step - loss: 5.3498 - mae: 1.5345 - mse: 4.7757 - val_loss: 18.3577 - val_mae: 2.6113 - val_mse: 17.7877\n",
      "Epoch 31/800\n",
      "\u001b[1m269/269\u001b[0m \u001b[32m━━━━━━━━━━━━━━━━━━━━\u001b[0m\u001b[37m\u001b[0m \u001b[1m1s\u001b[0m 2ms/step - loss: 4.9474 - mae: 1.4718 - mse: 4.3825 - val_loss: 19.4912 - val_mae: 2.7675 - val_mse: 18.9251\n",
      "Epoch 32/800\n",
      "\u001b[1m269/269\u001b[0m \u001b[32m━━━━━━━━━━━━━━━━━━━━\u001b[0m\u001b[37m\u001b[0m \u001b[1m1s\u001b[0m 2ms/step - loss: 5.3698 - mae: 1.5409 - mse: 4.7999 - val_loss: 18.2564 - val_mae: 2.5933 - val_mse: 17.6842\n",
      "Epoch 33/800\n",
      "\u001b[1m269/269\u001b[0m \u001b[32m━━━━━━━━━━━━━━━━━━━━\u001b[0m\u001b[37m\u001b[0m \u001b[1m1s\u001b[0m 2ms/step - loss: 4.9842 - mae: 1.4858 - mse: 4.4187 - val_loss: 18.0443 - val_mae: 2.5601 - val_mse: 17.4907\n",
      "Epoch 34/800\n",
      "\u001b[1m269/269\u001b[0m \u001b[32m━━━━━━━━━━━━━━━━━━━━\u001b[0m\u001b[37m\u001b[0m \u001b[1m1s\u001b[0m 2ms/step - loss: 5.1439 - mae: 1.5001 - mse: 4.5913 - val_loss: 17.9369 - val_mae: 2.5350 - val_mse: 17.3786\n"
     ]
    }
   ],
   "source": [
    "history = model.fit(X_train, y_train, validation_data=(X_val, y_val), epochs=800, batch_size=64, callbacks=[early_stopping])\n"
   ]
  },
  {
   "cell_type": "code",
   "execution_count": 21,
   "metadata": {},
   "outputs": [
    {
     "name": "stdout",
     "output_type": "stream",
     "text": [
      "(2453, 191)\n",
      "(2453,)\n"
     ]
    }
   ],
   "source": [
    "print(X_test.shape)  # Zeigt die Anzahl der Zeilen (Samples) in X_test\n",
    "print(y_test.shape)  # Zeigt die Anzahl der Zeilen (Samples) in y_test\n"
   ]
  },
  {
   "cell_type": "code",
   "execution_count": 22,
   "metadata": {},
   "outputs": [
    {
     "name": "stdout",
     "output_type": "stream",
     "text": [
      "\u001b[1m77/77\u001b[0m \u001b[32m━━━━━━━━━━━━━━━━━━━━\u001b[0m\u001b[37m\u001b[0m \u001b[1m0s\u001b[0m 1ms/step - loss: 6.3691 - mae: 1.7407 - mse: 5.4919  \n",
      "Test loss, Test MAE: [6.462099552154541, 1.7464323043823242, 5.584897518157959]\n"
     ]
    }
   ],
   "source": [
    "results = model.evaluate(X_test, y_test)\n",
    "print(\"Test loss, Test MAE:\", results)\n"
   ]
  },
  {
   "cell_type": "code",
   "execution_count": 23,
   "metadata": {},
   "outputs": [
    {
     "name": "stdout",
     "output_type": "stream",
     "text": [
      "Epoch 1/800\n"
     ]
    },
    {
     "name": "stderr",
     "output_type": "stream",
     "text": [
      "C:\\Users\\maxd2\\AppData\\Local\\Packages\\PythonSoftwareFoundation.Python.3.11_qbz5n2kfra8p0\\LocalCache\\local-packages\\Python311\\site-packages\\keras\\src\\layers\\core\\dense.py:87: UserWarning: Do not pass an `input_shape`/`input_dim` argument to a layer. When using Sequential models, prefer using an `Input(shape)` object as the first layer in the model instead.\n",
      "  super().__init__(activity_regularizer=activity_regularizer, **kwargs)\n"
     ]
    },
    {
     "name": "stdout",
     "output_type": "stream",
     "text": [
      "\u001b[1m269/269\u001b[0m \u001b[32m━━━━━━━━━━━━━━━━━━━━\u001b[0m\u001b[37m\u001b[0m \u001b[1m2s\u001b[0m 4ms/step - loss: 39.1984 - mae: 4.0685 - mse: 37.7842 - val_loss: 20.3935 - val_mae: 2.5761 - val_mse: 19.0001\n",
      "Epoch 2/800\n",
      "\u001b[1m269/269\u001b[0m \u001b[32m━━━━━━━━━━━━━━━━━━━━\u001b[0m\u001b[37m\u001b[0m \u001b[1m1s\u001b[0m 3ms/step - loss: 9.6905 - mae: 2.0643 - mse: 8.3095 - val_loss: 22.5522 - val_mae: 2.9427 - val_mse: 21.2076\n",
      "Epoch 3/800\n",
      "\u001b[1m269/269\u001b[0m \u001b[32m━━━━━━━━━━━━━━━━━━━━\u001b[0m\u001b[37m\u001b[0m \u001b[1m1s\u001b[0m 3ms/step - loss: 9.3384 - mae: 1.9868 - mse: 8.0082 - val_loss: 18.0288 - val_mae: 2.4151 - val_mse: 16.7389\n",
      "Epoch 4/800\n",
      "\u001b[1m269/269\u001b[0m \u001b[32m━━━━━━━━━━━━━━━━━━━━\u001b[0m\u001b[37m\u001b[0m \u001b[1m1s\u001b[0m 3ms/step - loss: 8.6622 - mae: 1.9429 - mse: 7.3875 - val_loss: 18.6856 - val_mae: 2.4502 - val_mse: 17.4608\n",
      "Epoch 5/800\n",
      "\u001b[1m269/269\u001b[0m \u001b[32m━━━━━━━━━━━━━━━━━━━━\u001b[0m\u001b[37m\u001b[0m \u001b[1m1s\u001b[0m 3ms/step - loss: 8.3613 - mae: 1.8581 - mse: 7.1508 - val_loss: 18.3356 - val_mae: 2.5585 - val_mse: 17.1731\n",
      "Epoch 6/800\n",
      "\u001b[1m269/269\u001b[0m \u001b[32m━━━━━━━━━━━━━━━━━━━━\u001b[0m\u001b[37m\u001b[0m \u001b[1m1s\u001b[0m 3ms/step - loss: 7.8324 - mae: 1.8203 - mse: 6.6843 - val_loss: 19.3176 - val_mae: 2.6335 - val_mse: 18.2182\n",
      "Epoch 7/800\n",
      "\u001b[1m269/269\u001b[0m \u001b[32m━━━━━━━━━━━━━━━━━━━━\u001b[0m\u001b[37m\u001b[0m \u001b[1m1s\u001b[0m 3ms/step - loss: 7.6972 - mae: 1.8248 - mse: 6.6068 - val_loss: 16.6208 - val_mae: 2.3498 - val_mse: 15.5663\n",
      "Epoch 8/800\n",
      "\u001b[1m269/269\u001b[0m \u001b[32m━━━━━━━━━━━━━━━━━━━━\u001b[0m\u001b[37m\u001b[0m \u001b[1m1s\u001b[0m 3ms/step - loss: 8.3188 - mae: 1.8433 - mse: 7.2753 - val_loss: 16.6777 - val_mae: 2.3505 - val_mse: 15.6757\n",
      "Epoch 9/800\n",
      "\u001b[1m269/269\u001b[0m \u001b[32m━━━━━━━━━━━━━━━━━━━━\u001b[0m\u001b[37m\u001b[0m \u001b[1m1s\u001b[0m 3ms/step - loss: 6.7286 - mae: 1.7031 - mse: 5.7394 - val_loss: 20.2756 - val_mae: 2.8748 - val_mse: 19.3208\n",
      "Epoch 10/800\n",
      "\u001b[1m269/269\u001b[0m \u001b[32m━━━━━━━━━━━━━━━━━━━━\u001b[0m\u001b[37m\u001b[0m \u001b[1m1s\u001b[0m 3ms/step - loss: 6.6345 - mae: 1.7000 - mse: 5.6902 - val_loss: 16.9721 - val_mae: 2.3858 - val_mse: 16.0592\n",
      "Epoch 11/800\n",
      "\u001b[1m269/269\u001b[0m \u001b[32m━━━━━━━━━━━━━━━━━━━━\u001b[0m\u001b[37m\u001b[0m \u001b[1m1s\u001b[0m 3ms/step - loss: 6.9439 - mae: 1.7056 - mse: 6.0409 - val_loss: 17.1915 - val_mae: 2.4058 - val_mse: 16.3181\n",
      "Epoch 12/800\n",
      "\u001b[1m269/269\u001b[0m \u001b[32m━━━━━━━━━━━━━━━━━━━━\u001b[0m\u001b[37m\u001b[0m \u001b[1m1s\u001b[0m 4ms/step - loss: 6.7163 - mae: 1.6931 - mse: 5.8495 - val_loss: 15.4728 - val_mae: 2.2697 - val_mse: 14.6300\n",
      "Epoch 13/800\n",
      "\u001b[1m269/269\u001b[0m \u001b[32m━━━━━━━━━━━━━━━━━━━━\u001b[0m\u001b[37m\u001b[0m \u001b[1m1s\u001b[0m 3ms/step - loss: 6.5716 - mae: 1.7015 - mse: 5.7406 - val_loss: 17.2497 - val_mae: 2.4999 - val_mse: 16.4426\n",
      "Epoch 14/800\n",
      "\u001b[1m269/269\u001b[0m \u001b[32m━━━━━━━━━━━━━━━━━━━━\u001b[0m\u001b[37m\u001b[0m \u001b[1m1s\u001b[0m 3ms/step - loss: 6.6060 - mae: 1.6683 - mse: 5.8042 - val_loss: 20.7176 - val_mae: 2.9677 - val_mse: 19.9392\n",
      "Epoch 15/800\n",
      "\u001b[1m269/269\u001b[0m \u001b[32m━━━━━━━━━━━━━━━━━━━━\u001b[0m\u001b[37m\u001b[0m \u001b[1m1s\u001b[0m 3ms/step - loss: 6.5647 - mae: 1.6791 - mse: 5.7870 - val_loss: 16.5024 - val_mae: 2.3791 - val_mse: 15.7439\n",
      "Epoch 16/800\n",
      "\u001b[1m269/269\u001b[0m \u001b[32m━━━━━━━━━━━━━━━━━━━━\u001b[0m\u001b[37m\u001b[0m \u001b[1m1s\u001b[0m 3ms/step - loss: 6.2616 - mae: 1.6410 - mse: 5.5070 - val_loss: 19.1882 - val_mae: 2.7574 - val_mse: 18.4531\n",
      "Epoch 17/800\n",
      "\u001b[1m269/269\u001b[0m \u001b[32m━━━━━━━━━━━━━━━━━━━━\u001b[0m\u001b[37m\u001b[0m \u001b[1m1s\u001b[0m 3ms/step - loss: 5.6583 - mae: 1.5680 - mse: 4.9285 - val_loss: 19.1936 - val_mae: 2.7055 - val_mse: 18.4724\n",
      "Epoch 18/800\n",
      "\u001b[1m269/269\u001b[0m \u001b[32m━━━━━━━━━━━━━━━━━━━━\u001b[0m\u001b[37m\u001b[0m \u001b[1m1s\u001b[0m 3ms/step - loss: 5.5375 - mae: 1.5523 - mse: 4.8225 - val_loss: 19.3670 - val_mae: 2.8480 - val_mse: 18.6688\n",
      "Epoch 19/800\n",
      "\u001b[1m269/269\u001b[0m \u001b[32m━━━━━━━━━━━━━━━━━━━━\u001b[0m\u001b[37m\u001b[0m \u001b[1m1s\u001b[0m 3ms/step - loss: 5.2196 - mae: 1.5227 - mse: 4.5267 - val_loss: 19.8089 - val_mae: 2.6364 - val_mse: 19.1123\n",
      "Epoch 20/800\n",
      "\u001b[1m269/269\u001b[0m \u001b[32m━━━━━━━━━━━━━━━━━━━━\u001b[0m\u001b[37m\u001b[0m \u001b[1m1s\u001b[0m 3ms/step - loss: 6.8160 - mae: 1.6305 - mse: 6.1205 - val_loss: 17.9877 - val_mae: 2.5790 - val_mse: 17.3152\n",
      "Epoch 21/800\n",
      "\u001b[1m269/269\u001b[0m \u001b[32m━━━━━━━━━━━━━━━━━━━━\u001b[0m\u001b[37m\u001b[0m \u001b[1m1s\u001b[0m 3ms/step - loss: 5.5199 - mae: 1.5212 - mse: 4.8540 - val_loss: 19.7007 - val_mae: 2.7833 - val_mse: 19.0418\n",
      "Epoch 22/800\n",
      "\u001b[1m269/269\u001b[0m \u001b[32m━━━━━━━━━━━━━━━━━━━━\u001b[0m\u001b[37m\u001b[0m \u001b[1m1s\u001b[0m 3ms/step - loss: 5.6308 - mae: 1.5383 - mse: 4.9756 - val_loss: 18.1004 - val_mae: 2.6265 - val_mse: 17.4537\n",
      "Epoch 23/800\n",
      "\u001b[1m269/269\u001b[0m \u001b[32m━━━━━━━━━━━━━━━━━━━━\u001b[0m\u001b[37m\u001b[0m \u001b[1m1s\u001b[0m 3ms/step - loss: 5.0781 - mae: 1.4860 - mse: 4.4353 - val_loss: 18.6904 - val_mae: 2.7036 - val_mse: 18.0444\n",
      "Epoch 24/800\n",
      "\u001b[1m269/269\u001b[0m \u001b[32m━━━━━━━━━━━━━━━━━━━━\u001b[0m\u001b[37m\u001b[0m \u001b[1m1s\u001b[0m 3ms/step - loss: 5.1591 - mae: 1.5004 - mse: 4.5087 - val_loss: 18.6327 - val_mae: 2.6873 - val_mse: 17.9670\n",
      "Epoch 25/800\n",
      "\u001b[1m269/269\u001b[0m \u001b[32m━━━━━━━━━━━━━━━━━━━━\u001b[0m\u001b[37m\u001b[0m \u001b[1m1s\u001b[0m 3ms/step - loss: 5.1994 - mae: 1.4881 - mse: 4.5396 - val_loss: 18.1194 - val_mae: 2.5369 - val_mse: 17.4727\n",
      "Epoch 26/800\n",
      "\u001b[1m269/269\u001b[0m \u001b[32m━━━━━━━━━━━━━━━━━━━━\u001b[0m\u001b[37m\u001b[0m \u001b[1m1s\u001b[0m 3ms/step - loss: 5.2306 - mae: 1.4840 - mse: 4.5908 - val_loss: 18.1683 - val_mae: 2.5861 - val_mse: 17.5474\n",
      "Epoch 27/800\n",
      "\u001b[1m269/269\u001b[0m \u001b[32m━━━━━━━━━━━━━━━━━━━━\u001b[0m\u001b[37m\u001b[0m \u001b[1m1s\u001b[0m 3ms/step - loss: 5.3316 - mae: 1.4968 - mse: 4.7132 - val_loss: 17.9695 - val_mae: 2.5191 - val_mse: 17.3376\n",
      "\u001b[1m77/77\u001b[0m \u001b[32m━━━━━━━━━━━━━━━━━━━━\u001b[0m\u001b[37m\u001b[0m \u001b[1m0s\u001b[0m 1ms/step - loss: 6.3691 - mae: 1.7407 - mse: 5.4919  \n",
      "Test loss, Test MAE: [6.462099552154541, 1.7464323043823242, 5.584897518157959]\n"
     ]
    }
   ],
   "source": [
    "model2 = Sequential([\n",
    "    Dense(512, activation='relu', input_shape=(Data.shape[1],), kernel_regularizer=l2(0.005)),\n",
    "    Dropout(0.2),\n",
    "    Dense(256, activation='relu'),\n",
    "    Dropout(0.3),\n",
    "    Dense(128, activation='relu'),\n",
    "    Dense(64, activation='relu'),\n",
    "    Dense(1, activation='linear'),\n",
    "])\n",
    "\n",
    "optimizer = Adam(learning_rate=0.0015)\n",
    "model2.compile(optimizer='adam', loss='mean_squared_error', metrics=['mae', 'mse'])\n",
    "# Early Stopping Callback\n",
    "early_stopping = EarlyStopping(\n",
    "    patience=15,  # Training stoppt, wenn sich der Validierungs-Loss 5 Epochs lang nicht verbessert\n",
    "    restore_best_weights=True  # Die besten Gewichte werden zurückgeladen\n",
    ")\n",
    "\n",
    "history2 = model2.fit(X_train, y_train, validation_data=(X_val, y_val), epochs=800, batch_size=64, callbacks=[early_stopping])\n",
    "\n",
    "results = model.evaluate(X_test, y_test)\n",
    "print(\"Test loss, Test MAE:\", results)\n"
   ]
  },
  {
   "cell_type": "code",
   "execution_count": 24,
   "metadata": {},
   "outputs": [
    {
     "data": {
      "image/png": "[encoded data removed]",
      "text/plain": [
       "<Figure size 640x480 with 1 Axes>"
      ]
     },
     "metadata": {},
     "output_type": "display_data"
    }
   ],
   "source": [
    "import matplotlib.pyplot as plt\n",
    "plt.plot(history2.history['loss'], label='Training loss')\n",
    "plt.plot(history2.history['val_loss'], label='Validation loss')\n",
    "plt.legend()\n",
    "plt.show()\n"
   ]
  },
  {
   "cell_type": "code",
   "execution_count": null,
   "metadata": {},
   "outputs": [
    {
     "name": "stdout",
     "output_type": "stream",
     "text": [
      "Epoch 1/800\n"
     ]
    },
    {
     "name": "stderr",
     "output_type": "stream",
     "text": [
      "C:\\Users\\maxd2\\AppData\\Local\\Packages\\PythonSoftwareFoundation.Python.3.11_qbz5n2kfra8p0\\LocalCache\\local-packages\\Python311\\site-packages\\keras\\src\\layers\\core\\dense.py:87: UserWarning: Do not pass an `input_shape`/`input_dim` argument to a layer. When using Sequential models, prefer using an `Input(shape)` object as the first layer in the model instead.\n",
      "  super().__init__(activity_regularizer=activity_regularizer, **kwargs)\n"
     ]
    },
    {
     "name": "stdout",
     "output_type": "stream",
     "text": [
      "\u001b[1m1073/1073\u001b[0m \u001b[32m━━━━━━━━━━━━━━━━━━━━\u001b[0m\u001b[37m\u001b[0m \u001b[1m3s\u001b[0m 2ms/step - loss: 27.4327 - mae: 3.1243 - mse: 21.2076 - val_loss: 21.0502 - val_mae: 2.2349 - val_mse: 17.1433 - learning_rate: 0.0010\n",
      "Epoch 2/800\n",
      "\u001b[1m1073/1073\u001b[0m \u001b[32m━━━━━━━━━━━━━━━━━━━━\u001b[0m\u001b[37m\u001b[0m \u001b[1m2s\u001b[0m 2ms/step - loss: 12.0281 - mae: 2.1396 - mse: 8.6598 - val_loss: 30.0546 - val_mae: 3.6331 - val_mse: 27.8017 - learning_rate: 0.0010\n",
      "Epoch 3/800\n",
      "\u001b[1m1073/1073\u001b[0m \u001b[32m━━━━━━━━━━━━━━━━━━━━\u001b[0m\u001b[37m\u001b[0m \u001b[1m2s\u001b[0m 2ms/step - loss: 14.0026 - mae: 2.3556 - mse: 11.8724 - val_loss: 17.3834 - val_mae: 2.1669 - val_mse: 15.8526 - learning_rate: 0.0010\n",
      "Epoch 4/800\n",
      "\u001b[1m1073/1073\u001b[0m \u001b[32m━━━━━━━━━━━━━━━━━━━━\u001b[0m\u001b[37m\u001b[0m \u001b[1m2s\u001b[0m 2ms/step - loss: 8.6979 - mae: 1.9583 - mse: 7.2725 - val_loss: 17.0228 - val_mae: 2.3431 - val_mse: 15.7550 - learning_rate: 0.0010\n",
      "Epoch 5/800\n",
      "\u001b[1m1073/1073\u001b[0m \u001b[32m━━━━━━━━━━━━━━━━━━━━\u001b[0m\u001b[37m\u001b[0m \u001b[1m2s\u001b[0m 2ms/step - loss: 8.7705 - mae: 1.9447 - mse: 7.5657 - val_loss: 16.3272 - val_mae: 2.1953 - val_mse: 15.2373 - learning_rate: 0.0010\n",
      "Epoch 6/800\n",
      "\u001b[1m1073/1073\u001b[0m \u001b[32m━━━━━━━━━━━━━━━━━━━━\u001b[0m\u001b[37m\u001b[0m \u001b[1m2s\u001b[0m 2ms/step - loss: 7.5824 - mae: 1.8359 - mse: 6.5752 - val_loss: 16.0219 - val_mae: 2.1152 - val_mse: 15.0011 - learning_rate: 0.0010\n",
      "Epoch 7/800\n",
      "\u001b[1m1073/1073\u001b[0m \u001b[32m━━━━━━━━━━━━━━━━━━━━\u001b[0m\u001b[37m\u001b[0m \u001b[1m2s\u001b[0m 2ms/step - loss: 8.7539 - mae: 1.9132 - mse: 7.7706 - val_loss: 15.4660 - val_mae: 2.0346 - val_mse: 14.6093 - learning_rate: 0.0010\n",
      "Epoch 8/800\n",
      "\u001b[1m1073/1073\u001b[0m \u001b[32m━━━━━━━━━━━━━━━━━━━━\u001b[0m\u001b[37m\u001b[0m \u001b[1m2s\u001b[0m 2ms/step - loss: 8.0071 - mae: 1.7963 - mse: 7.1483 - val_loss: 14.8812 - val_mae: 2.0513 - val_mse: 14.0505 - learning_rate: 0.0010\n",
      "Epoch 9/800\n",
      "\u001b[1m1073/1073\u001b[0m \u001b[32m━━━━━━━━━━━━━━━━━━━━\u001b[0m\u001b[37m\u001b[0m \u001b[1m2s\u001b[0m 2ms/step - loss: 7.4168 - mae: 1.7872 - mse: 6.6025 - val_loss: 14.8157 - val_mae: 2.0352 - val_mse: 14.0472 - learning_rate: 0.0010\n",
      "Epoch 10/800\n",
      "\u001b[1m1073/1073\u001b[0m \u001b[32m━━━━━━━━━━━━━━━━━━━━\u001b[0m\u001b[37m\u001b[0m \u001b[1m2s\u001b[0m 2ms/step - loss: 6.9711 - mae: 1.7313 - mse: 6.2126 - val_loss: 14.4622 - val_mae: 1.9356 - val_mse: 13.7001 - learning_rate: 0.0010\n",
      "Epoch 11/800\n",
      "\u001b[1m1073/1073\u001b[0m \u001b[32m━━━━━━━━━━━━━━━━━━━━\u001b[0m\u001b[37m\u001b[0m \u001b[1m2s\u001b[0m 2ms/step - loss: 6.5985 - mae: 1.7041 - mse: 5.8493 - val_loss: 14.4964 - val_mae: 1.9634 - val_mse: 13.7523 - learning_rate: 0.0010\n",
      "Epoch 12/800\n",
      "\u001b[1m1073/1073\u001b[0m \u001b[32m━━━━━━━━━━━━━━━━━━━━\u001b[0m\u001b[37m\u001b[0m \u001b[1m2s\u001b[0m 2ms/step - loss: 6.6790 - mae: 1.6493 - mse: 5.9381 - val_loss: 13.7728 - val_mae: 1.9155 - val_mse: 13.0508 - learning_rate: 0.0010\n",
      "Epoch 13/800\n",
      "\u001b[1m1073/1073\u001b[0m \u001b[32m━━━━━━━━━━━━━━━━━━━━\u001b[0m\u001b[37m\u001b[0m \u001b[1m2s\u001b[0m 2ms/step - loss: 7.0420 - mae: 1.6863 - mse: 6.3087 - val_loss: 13.9319 - val_mae: 1.9300 - val_mse: 13.2259 - learning_rate: 0.0010\n",
      "Epoch 14/800\n",
      "\u001b[1m1073/1073\u001b[0m \u001b[32m━━━━━━━━━━━━━━━━━━━━\u001b[0m\u001b[37m\u001b[0m \u001b[1m2s\u001b[0m 2ms/step - loss: 6.4126 - mae: 1.6478 - mse: 5.7130 - val_loss: 14.5874 - val_mae: 2.0599 - val_mse: 13.8415 - learning_rate: 0.0010\n",
      "Epoch 15/800\n",
      "\u001b[1m1073/1073\u001b[0m \u001b[32m━━━━━━━━━━━━━━━━━━━━\u001b[0m\u001b[37m\u001b[0m \u001b[1m2s\u001b[0m 2ms/step - loss: 6.8181 - mae: 1.6543 - mse: 6.0913 - val_loss: 14.5326 - val_mae: 2.0693 - val_mse: 13.8335 - learning_rate: 0.0010\n",
      "Epoch 16/800\n",
      "\u001b[1m1073/1073\u001b[0m \u001b[32m━━━━━━━━━━━━━━━━━━━━\u001b[0m\u001b[37m\u001b[0m \u001b[1m2s\u001b[0m 2ms/step - loss: 6.3995 - mae: 1.6303 - mse: 5.7076 - val_loss: 13.8174 - val_mae: 1.8922 - val_mse: 13.0974 - learning_rate: 0.0010\n",
      "Epoch 17/800\n",
      "\u001b[1m1073/1073\u001b[0m \u001b[32m━━━━━━━━━━━━━━━━━━━━\u001b[0m\u001b[37m\u001b[0m \u001b[1m2s\u001b[0m 2ms/step - loss: 6.8194 - mae: 1.6209 - mse: 6.1177 - val_loss: 13.9699 - val_mae: 1.9710 - val_mse: 13.2832 - learning_rate: 0.0010\n",
      "Epoch 18/800\n",
      "\u001b[1m1073/1073\u001b[0m \u001b[32m━━━━━━━━━━━━━━━━━━━━\u001b[0m\u001b[37m\u001b[0m \u001b[1m2s\u001b[0m 2ms/step - loss: 7.7633 - mae: 1.7128 - mse: 7.0756 - val_loss: 14.1275 - val_mae: 2.0452 - val_mse: 13.4355 - learning_rate: 0.0010\n",
      "Epoch 19/800\n",
      "\u001b[1m1073/1073\u001b[0m \u001b[32m━━━━━━━━━━━━━━━━━━━━\u001b[0m\u001b[37m\u001b[0m \u001b[1m2s\u001b[0m 2ms/step - loss: 6.9014 - mae: 1.6208 - mse: 6.2076 - val_loss: 14.9279 - val_mae: 2.1613 - val_mse: 14.2397 - learning_rate: 0.0010\n",
      "Epoch 20/800\n",
      "\u001b[1m1073/1073\u001b[0m \u001b[32m━━━━━━━━━━━━━━━━━━━━\u001b[0m\u001b[37m\u001b[0m \u001b[1m2s\u001b[0m 2ms/step - loss: 6.7127 - mae: 1.5982 - mse: 6.0278 - val_loss: 14.4709 - val_mae: 2.1000 - val_mse: 13.7874 - learning_rate: 0.0010\n",
      "Epoch 21/800\n",
      "\u001b[1m1073/1073\u001b[0m \u001b[32m━━━━━━━━━━━━━━━━━━━━\u001b[0m\u001b[37m\u001b[0m \u001b[1m2s\u001b[0m 2ms/step - loss: 7.0073 - mae: 1.6654 - mse: 6.3199 - val_loss: 14.1327 - val_mae: 1.9950 - val_mse: 13.4641 - learning_rate: 0.0010\n",
      "Epoch 22/800\n",
      "\u001b[1m1073/1073\u001b[0m \u001b[32m━━━━━━━━━━━━━━━━━━━━\u001b[0m\u001b[37m\u001b[0m \u001b[1m2s\u001b[0m 2ms/step - loss: 6.8152 - mae: 1.6202 - mse: 6.1347 - val_loss: 13.8656 - val_mae: 1.9796 - val_mse: 13.1979 - learning_rate: 0.0010\n",
      "Epoch 23/800\n",
      "\u001b[1m1073/1073\u001b[0m \u001b[32m━━━━━━━━━━━━━━━━━━━━\u001b[0m\u001b[37m\u001b[0m \u001b[1m2s\u001b[0m 2ms/step - loss: 5.8363 - mae: 1.5265 - mse: 5.1925 - val_loss: 13.2560 - val_mae: 1.9025 - val_mse: 12.6635 - learning_rate: 3.8000e-04\n",
      "Epoch 24/800\n",
      "\u001b[1m1073/1073\u001b[0m \u001b[32m━━━━━━━━━━━━━━━━━━━━\u001b[0m\u001b[37m\u001b[0m \u001b[1m2s\u001b[0m 2ms/step - loss: 5.3702 - mae: 1.4904 - mse: 4.7891 - val_loss: 13.4795 - val_mae: 1.9574 - val_mse: 12.9185 - learning_rate: 3.8000e-04\n",
      "Epoch 25/800\n",
      "\u001b[1m1073/1073\u001b[0m \u001b[32m━━━━━━━━━━━━━━━━━━━━\u001b[0m\u001b[37m\u001b[0m \u001b[1m2s\u001b[0m 2ms/step - loss: 6.4829 - mae: 1.5059 - mse: 5.9292 - val_loss: 13.0456 - val_mae: 1.8828 - val_mse: 12.5161 - learning_rate: 3.8000e-04\n",
      "Epoch 26/800\n",
      "\u001b[1m1073/1073\u001b[0m \u001b[32m━━━━━━━━━━━━━━━━━━━━\u001b[0m\u001b[37m\u001b[0m \u001b[1m2s\u001b[0m 2ms/step - loss: 5.7530 - mae: 1.4799 - mse: 5.2277 - val_loss: 13.6717 - val_mae: 1.9958 - val_mse: 13.1626 - learning_rate: 3.8000e-04\n",
      "Epoch 27/800\n",
      "\u001b[1m1073/1073\u001b[0m \u001b[32m━━━━━━━━━━━━━━━━━━━━\u001b[0m\u001b[37m\u001b[0m \u001b[1m2s\u001b[0m 2ms/step - loss: 5.4606 - mae: 1.4816 - mse: 4.9532 - val_loss: 13.4271 - val_mae: 1.9930 - val_mse: 12.9263 - learning_rate: 3.8000e-04\n",
      "Epoch 28/800\n",
      "\u001b[1m1073/1073\u001b[0m \u001b[32m━━━━━━━━━━━━━━━━━━━━\u001b[0m\u001b[37m\u001b[0m \u001b[1m2s\u001b[0m 2ms/step - loss: 5.2732 - mae: 1.4956 - mse: 4.7782 - val_loss: 13.3703 - val_mae: 1.8971 - val_mse: 12.8765 - learning_rate: 3.8000e-04\n",
      "Epoch 29/800\n",
      "\u001b[1m1073/1073\u001b[0m \u001b[32m━━━━━━━━━━━━━━━━━━━━\u001b[0m\u001b[37m\u001b[0m \u001b[1m2s\u001b[0m 2ms/step - loss: 5.8711 - mae: 1.5072 - mse: 5.3796 - val_loss: 13.4274 - val_mae: 2.0090 - val_mse: 12.9502 - learning_rate: 3.8000e-04\n",
      "Epoch 30/800\n",
      "\u001b[1m1073/1073\u001b[0m \u001b[32m━━━━━━━━━━━━━━━━━━━━\u001b[0m\u001b[37m\u001b[0m \u001b[1m2s\u001b[0m 2ms/step - loss: 5.1563 - mae: 1.4547 - mse: 4.6810 - val_loss: 13.3394 - val_mae: 1.9916 - val_mse: 12.8682 - learning_rate: 3.8000e-04\n",
      "Epoch 31/800\n",
      "\u001b[1m1073/1073\u001b[0m \u001b[32m━━━━━━━━━━━━━━━━━━━━\u001b[0m\u001b[37m\u001b[0m \u001b[1m2s\u001b[0m 2ms/step - loss: 5.5033 - mae: 1.4672 - mse: 5.0309 - val_loss: 13.2596 - val_mae: 2.0156 - val_mse: 12.7922 - learning_rate: 3.8000e-04\n",
      "Epoch 32/800\n",
      "\u001b[1m1073/1073\u001b[0m \u001b[32m━━━━━━━━━━━━━━━━━━━━\u001b[0m\u001b[37m\u001b[0m \u001b[1m2s\u001b[0m 2ms/step - loss: 5.7634 - mae: 1.4732 - mse: 5.2961 - val_loss: 13.5553 - val_mae: 2.0037 - val_mse: 13.0958 - learning_rate: 3.8000e-04\n",
      "Epoch 33/800\n",
      "\u001b[1m1073/1073\u001b[0m \u001b[32m━━━━━━━━━━━━━━━━━━━━\u001b[0m\u001b[37m\u001b[0m \u001b[1m2s\u001b[0m 2ms/step - loss: 4.9396 - mae: 1.4636 - mse: 4.4841 - val_loss: 13.2780 - val_mae: 2.0075 - val_mse: 12.8249 - learning_rate: 3.8000e-04\n",
      "Epoch 34/800\n",
      "\u001b[1m1073/1073\u001b[0m \u001b[32m━━━━━━━━━━━━━━━━━━━━\u001b[0m\u001b[37m\u001b[0m \u001b[1m2s\u001b[0m 2ms/step - loss: 5.2329 - mae: 1.4785 - mse: 4.7811 - val_loss: 13.2531 - val_mae: 1.9374 - val_mse: 12.7971 - learning_rate: 3.8000e-04\n",
      "Epoch 35/800\n",
      "\u001b[1m1073/1073\u001b[0m \u001b[32m━━━━━━━━━━━━━━━━━━━━\u001b[0m\u001b[37m\u001b[0m \u001b[1m2s\u001b[0m 2ms/step - loss: 5.0546 - mae: 1.4627 - mse: 4.6020 - val_loss: 13.3221 - val_mae: 2.0169 - val_mse: 12.8677 - learning_rate: 3.8000e-04\n",
      "Epoch 36/800\n",
      "\u001b[1m1073/1073\u001b[0m \u001b[32m━━━━━━━━━━━━━━━━━━━━\u001b[0m\u001b[37m\u001b[0m \u001b[1m2s\u001b[0m 2ms/step - loss: 5.1528 - mae: 1.4261 - mse: 4.7026 - val_loss: 13.0605 - val_mae: 1.9971 - val_mse: 12.6218 - learning_rate: 1.4440e-04\n",
      "Epoch 37/800\n",
      "\u001b[1m1073/1073\u001b[0m \u001b[32m━━━━━━━━━━━━━━━━━━━━\u001b[0m\u001b[37m\u001b[0m \u001b[1m2s\u001b[0m 2ms/step - loss: 4.6609 - mae: 1.3770 - mse: 4.2252 - val_loss: 12.8532 - val_mae: 1.9570 - val_mse: 12.4273 - learning_rate: 1.4440e-04\n",
      "Epoch 38/800\n",
      "\u001b[1m1073/1073\u001b[0m \u001b[32m━━━━━━━━━━━━━━━━━━━━\u001b[0m\u001b[37m\u001b[0m \u001b[1m2s\u001b[0m 2ms/step - loss: 4.5947 - mae: 1.3883 - mse: 4.1707 - val_loss: 12.8379 - val_mae: 1.9638 - val_mse: 12.4205 - learning_rate: 1.4440e-04\n",
      "Epoch 39/800\n",
      "\u001b[1m1073/1073\u001b[0m \u001b[32m━━━━━━━━━━━━━━━━━━━━\u001b[0m\u001b[37m\u001b[0m \u001b[1m2s\u001b[0m 2ms/step - loss: 4.4678 - mae: 1.3751 - mse: 4.0518 - val_loss: 13.0918 - val_mae: 1.9916 - val_mse: 12.6801 - learning_rate: 1.4440e-04\n",
      "Epoch 40/800\n",
      "\u001b[1m1073/1073\u001b[0m \u001b[32m━━━━━━━━━━━━━━━━━━━━\u001b[0m\u001b[37m\u001b[0m \u001b[1m2s\u001b[0m 2ms/step - loss: 4.9129 - mae: 1.4001 - mse: 4.5027 - val_loss: 12.7128 - val_mae: 1.9431 - val_mse: 12.3082 - learning_rate: 1.4440e-04\n",
      "Epoch 41/800\n",
      "\u001b[1m1073/1073\u001b[0m \u001b[32m━━━━━━━━━━━━━━━━━━━━\u001b[0m\u001b[37m\u001b[0m \u001b[1m2s\u001b[0m 2ms/step - loss: 4.6101 - mae: 1.3952 - mse: 4.2066 - val_loss: 12.8637 - val_mae: 2.0007 - val_mse: 12.4651 - learning_rate: 1.4440e-04\n",
      "Epoch 42/800\n",
      "\u001b[1m1073/1073\u001b[0m \u001b[32m━━━━━━━━━━━━━━━━━━━━\u001b[0m\u001b[37m\u001b[0m \u001b[1m2s\u001b[0m 2ms/step - loss: 4.6999 - mae: 1.4137 - mse: 4.3020 - val_loss: 12.9247 - val_mae: 1.9949 - val_mse: 12.5306 - learning_rate: 1.4440e-04\n",
      "Epoch 43/800\n",
      "\u001b[1m1073/1073\u001b[0m \u001b[32m━━━━━━━━━━━━━━━━━━━━\u001b[0m\u001b[37m\u001b[0m \u001b[1m2s\u001b[0m 2ms/step - loss: 4.8506 - mae: 1.4103 - mse: 4.4566 - val_loss: 12.7876 - val_mae: 1.9735 - val_mse: 12.3972 - learning_rate: 1.4440e-04\n",
      "Epoch 44/800\n",
      "\u001b[1m1073/1073\u001b[0m \u001b[32m━━━━━━━━━━━━━━━━━━━━\u001b[0m\u001b[37m\u001b[0m \u001b[1m2s\u001b[0m 2ms/step - loss: 4.2887 - mae: 1.3511 - mse: 3.9000 - val_loss: 12.7530 - val_mae: 1.9544 - val_mse: 12.3661 - learning_rate: 1.4440e-04\n",
      "Epoch 45/800\n",
      "\u001b[1m1073/1073\u001b[0m \u001b[32m━━━━━━━━━━━━━━━━━━━━\u001b[0m\u001b[37m\u001b[0m \u001b[1m2s\u001b[0m 2ms/step - loss: 4.4884 - mae: 1.3853 - mse: 4.1034 - val_loss: 12.9764 - val_mae: 2.0040 - val_mse: 12.5938 - learning_rate: 1.4440e-04\n",
      "Epoch 46/800\n",
      "\u001b[1m1073/1073\u001b[0m \u001b[32m━━━━━━━━━━━━━━━━━━━━\u001b[0m\u001b[37m\u001b[0m \u001b[1m2s\u001b[0m 2ms/step - loss: 4.4455 - mae: 1.3815 - mse: 4.0636 - val_loss: 12.7057 - val_mae: 1.9717 - val_mse: 12.3261 - learning_rate: 1.4440e-04\n",
      "Epoch 47/800\n",
      "\u001b[1m1073/1073\u001b[0m \u001b[32m━━━━━━━━━━━━━━━━━━━━\u001b[0m\u001b[37m\u001b[0m \u001b[1m2s\u001b[0m 2ms/step - loss: 4.8773 - mae: 1.4012 - mse: 4.4978 - val_loss: 12.6290 - val_mae: 1.9218 - val_mse: 12.2518 - learning_rate: 1.4440e-04\n",
      "Epoch 48/800\n",
      "\u001b[1m1073/1073\u001b[0m \u001b[32m━━━━━━━━━━━━━━━━━━━━\u001b[0m\u001b[37m\u001b[0m \u001b[1m2s\u001b[0m 2ms/step - loss: 4.2826 - mae: 1.3421 - mse: 3.9068 - val_loss: 12.7393 - val_mae: 1.9690 - val_mse: 12.3655 - learning_rate: 1.4440e-04\n",
      "Epoch 49/800\n",
      "\u001b[1m1073/1073\u001b[0m \u001b[32m━━━━━━━━━━━━━━━━━━━━\u001b[0m\u001b[37m\u001b[0m \u001b[1m2s\u001b[0m 2ms/step - loss: 4.3814 - mae: 1.3653 - mse: 4.0086 - val_loss: 12.7374 - val_mae: 2.0134 - val_mse: 12.3667 - learning_rate: 1.4440e-04\n",
      "Epoch 50/800\n",
      "\u001b[1m1073/1073\u001b[0m \u001b[32m━━━━━━━━━━━━━━━━━━━━\u001b[0m\u001b[37m\u001b[0m \u001b[1m2s\u001b[0m 2ms/step - loss: 4.3709 - mae: 1.3613 - mse: 4.0005 - val_loss: 12.9503 - val_mae: 2.0117 - val_mse: 12.5809 - learning_rate: 1.4440e-04\n",
      "Epoch 51/800\n",
      "\u001b[1m1073/1073\u001b[0m \u001b[32m━━━━━━━━━━━━━━━━━━━━\u001b[0m\u001b[37m\u001b[0m \u001b[1m2s\u001b[0m 2ms/step - loss: 4.8139 - mae: 1.3964 - mse: 4.4444 - val_loss: 12.9979 - val_mae: 2.0530 - val_mse: 12.6330 - learning_rate: 1.4440e-04\n",
      "Epoch 52/800\n",
      "\u001b[1m1073/1073\u001b[0m \u001b[32m━━━━━━━━━━━━━━━━━━━━\u001b[0m\u001b[37m\u001b[0m \u001b[1m2s\u001b[0m 2ms/step - loss: 4.2353 - mae: 1.3645 - mse: 3.8693 - val_loss: 12.7329 - val_mae: 2.0116 - val_mse: 12.3692 - learning_rate: 1.4440e-04\n",
      "Epoch 53/800\n",
      "\u001b[1m1073/1073\u001b[0m \u001b[32m━━━━━━━━━━━━━━━━━━━━\u001b[0m\u001b[37m\u001b[0m \u001b[1m2s\u001b[0m 2ms/step - loss: 4.4642 - mae: 1.3894 - mse: 4.1000 - val_loss: 12.6309 - val_mae: 1.9786 - val_mse: 12.2683 - learning_rate: 1.4440e-04\n",
      "Epoch 54/800\n",
      "\u001b[1m1073/1073\u001b[0m \u001b[32m━━━━━━━━━━━━━━━━━━━━\u001b[0m\u001b[37m\u001b[0m \u001b[1m2s\u001b[0m 2ms/step - loss: 4.3663 - mae: 1.3652 - mse: 4.0044 - val_loss: 12.8335 - val_mae: 2.0155 - val_mse: 12.4724 - learning_rate: 1.4440e-04\n",
      "Epoch 55/800\n",
      "\u001b[1m1073/1073\u001b[0m \u001b[32m━━━━━━━━━━━━━━━━━━━━\u001b[0m\u001b[37m\u001b[0m \u001b[1m2s\u001b[0m 2ms/step - loss: 4.4940 - mae: 1.3783 - mse: 4.1330 - val_loss: 12.5598 - val_mae: 1.9683 - val_mse: 12.2004 - learning_rate: 1.4440e-04\n",
      "Epoch 56/800\n",
      "\u001b[1m1073/1073\u001b[0m \u001b[32m━━━━━━━━━━━━━━━━━━━━\u001b[0m\u001b[37m\u001b[0m \u001b[1m2s\u001b[0m 2ms/step - loss: 4.5047 - mae: 1.3624 - mse: 4.1454 - val_loss: 12.5791 - val_mae: 1.9991 - val_mse: 12.2216 - learning_rate: 1.4440e-04\n",
      "Epoch 57/800\n",
      "\u001b[1m1073/1073\u001b[0m \u001b[32m━━━━━━━━━━━━━━━━━━━━\u001b[0m\u001b[37m\u001b[0m \u001b[1m2s\u001b[0m 2ms/step - loss: 4.2408 - mae: 1.3521 - mse: 3.8832 - val_loss: 12.6208 - val_mae: 1.9829 - val_mse: 12.2637 - learning_rate: 1.4440e-04\n",
      "Epoch 58/800\n",
      "\u001b[1m1073/1073\u001b[0m \u001b[32m━━━━━━━━━━━━━━━━━━━━\u001b[0m\u001b[37m\u001b[0m \u001b[1m2s\u001b[0m 2ms/step - loss: 4.2849 - mae: 1.3644 - mse: 3.9282 - val_loss: 12.5277 - val_mae: 1.9914 - val_mse: 12.1709 - learning_rate: 1.4440e-04\n",
      "Epoch 59/800\n",
      "\u001b[1m1073/1073\u001b[0m \u001b[32m━━━━━━━━━━━━━━━━━━━━\u001b[0m\u001b[37m\u001b[0m \u001b[1m2s\u001b[0m 2ms/step - loss: 4.3974 - mae: 1.3600 - mse: 4.0404 - val_loss: 12.5345 - val_mae: 1.9757 - val_mse: 12.1774 - learning_rate: 1.4440e-04\n",
      "Epoch 60/800\n",
      "\u001b[1m1073/1073\u001b[0m \u001b[32m━━━━━━━━━━━━━━━━━━━━\u001b[0m\u001b[37m\u001b[0m \u001b[1m2s\u001b[0m 2ms/step - loss: 4.3332 - mae: 1.3767 - mse: 3.9769 - val_loss: 12.7227 - val_mae: 2.0222 - val_mse: 12.3669 - learning_rate: 1.4440e-04\n",
      "Epoch 61/800\n",
      "\u001b[1m1073/1073\u001b[0m \u001b[32m━━━━━━━━━━━━━━━━━━━━\u001b[0m\u001b[37m\u001b[0m \u001b[1m2s\u001b[0m 2ms/step - loss: 4.5331 - mae: 1.3749 - mse: 4.1776 - val_loss: 12.8545 - val_mae: 2.0456 - val_mse: 12.4994 - learning_rate: 1.4440e-04\n",
      "Epoch 62/800\n",
      "\u001b[1m1073/1073\u001b[0m \u001b[32m━━━━━━━━━━━━━━━━━━━━\u001b[0m\u001b[37m\u001b[0m \u001b[1m2s\u001b[0m 2ms/step - loss: 4.4853 - mae: 1.3673 - mse: 4.1291 - val_loss: 12.5451 - val_mae: 2.0007 - val_mse: 12.1905 - learning_rate: 1.4440e-04\n",
      "Epoch 63/800\n",
      "\u001b[1m1073/1073\u001b[0m \u001b[32m━━━━━━━━━━━━━━━━━━━━\u001b[0m\u001b[37m\u001b[0m \u001b[1m2s\u001b[0m 2ms/step - loss: 4.0801 - mae: 1.3350 - mse: 3.7258 - val_loss: 12.8171 - val_mae: 2.0365 - val_mse: 12.4635 - learning_rate: 1.4440e-04\n",
      "Epoch 64/800\n",
      "\u001b[1m1073/1073\u001b[0m \u001b[32m━━━━━━━━━━━━━━━━━━━━\u001b[0m\u001b[37m\u001b[0m \u001b[1m2s\u001b[0m 2ms/step - loss: 4.9312 - mae: 1.3720 - mse: 4.5760 - val_loss: 12.5301 - val_mae: 1.9795 - val_mse: 12.1755 - learning_rate: 1.4440e-04\n",
      "Epoch 65/800\n",
      "\u001b[1m1073/1073\u001b[0m \u001b[32m━━━━━━━━━━━━━━━━━━━━\u001b[0m\u001b[37m\u001b[0m \u001b[1m2s\u001b[0m 2ms/step - loss: 4.2323 - mae: 1.3480 - mse: 3.8779 - val_loss: 12.6486 - val_mae: 2.0201 - val_mse: 12.2941 - learning_rate: 1.4440e-04\n",
      "Epoch 66/800\n",
      "\u001b[1m1073/1073\u001b[0m \u001b[32m━━━━━━━━━━━━━━━━━━━━\u001b[0m\u001b[37m\u001b[0m \u001b[1m2s\u001b[0m 2ms/step - loss: 4.4165 - mae: 1.3549 - mse: 4.0623 - val_loss: 12.6349 - val_mae: 1.9994 - val_mse: 12.2818 - learning_rate: 1.4440e-04\n",
      "Epoch 67/800\n",
      "\u001b[1m1073/1073\u001b[0m \u001b[32m━━━━━━━━━━━━━━━━━━━━\u001b[0m\u001b[37m\u001b[0m \u001b[1m2s\u001b[0m 2ms/step - loss: 3.9774 - mae: 1.3333 - mse: 3.6247 - val_loss: 12.7841 - val_mae: 2.0131 - val_mse: 12.4308 - learning_rate: 1.4440e-04\n",
      "Epoch 68/800\n",
      "\u001b[1m1073/1073\u001b[0m \u001b[32m━━━━━━━━━━━━━━━━━━━━\u001b[0m\u001b[37m\u001b[0m \u001b[1m2s\u001b[0m 2ms/step - loss: 4.5100 - mae: 1.3649 - mse: 4.1558 - val_loss: 12.8243 - val_mae: 2.0440 - val_mse: 12.4700 - learning_rate: 1.4440e-04\n",
      "Epoch 69/800\n",
      "\u001b[1m1073/1073\u001b[0m \u001b[32m━━━━━━━━━━━━━━━━━━━━\u001b[0m\u001b[37m\u001b[0m \u001b[1m2s\u001b[0m 2ms/step - loss: 4.4314 - mae: 1.3211 - mse: 4.0774 - val_loss: 12.6218 - val_mae: 2.0029 - val_mse: 12.2693 - learning_rate: 5.4872e-05\n",
      "Epoch 70/800\n",
      "\u001b[1m1073/1073\u001b[0m \u001b[32m━━━━━━━━━━━━━━━━━━━━\u001b[0m\u001b[37m\u001b[0m \u001b[1m2s\u001b[0m 2ms/step - loss: 3.8896 - mae: 1.2956 - mse: 3.5377 - val_loss: 12.5890 - val_mae: 2.0026 - val_mse: 12.2384 - learning_rate: 5.4872e-05\n",
      "Epoch 71/800\n",
      "\u001b[1m1073/1073\u001b[0m \u001b[32m━━━━━━━━━━━━━━━━━━━━\u001b[0m\u001b[37m\u001b[0m \u001b[1m2s\u001b[0m 2ms/step - loss: 4.5579 - mae: 1.3110 - mse: 4.2073 - val_loss: 12.5588 - val_mae: 1.9965 - val_mse: 12.2094 - learning_rate: 5.4872e-05\n",
      "Epoch 72/800\n",
      "\u001b[1m1073/1073\u001b[0m \u001b[32m━━━━━━━━━━━━━━━━━━━━\u001b[0m\u001b[37m\u001b[0m \u001b[1m2s\u001b[0m 2ms/step - loss: 3.7877 - mae: 1.2961 - mse: 3.4388 - val_loss: 12.5867 - val_mae: 1.9950 - val_mse: 12.2386 - learning_rate: 5.4872e-05\n",
      "Epoch 73/800\n",
      "\u001b[1m1073/1073\u001b[0m \u001b[32m━━━━━━━━━━━━━━━━━━━━\u001b[0m\u001b[37m\u001b[0m \u001b[1m2s\u001b[0m 2ms/step - loss: 3.9512 - mae: 1.2959 - mse: 3.6035 - val_loss: 12.5181 - val_mae: 2.0014 - val_mse: 12.1718 - learning_rate: 5.4872e-05\n",
      "Epoch 74/800\n",
      "\u001b[1m1073/1073\u001b[0m \u001b[32m━━━━━━━━━━━━━━━━━━━━\u001b[0m\u001b[37m\u001b[0m \u001b[1m2s\u001b[0m 2ms/step - loss: 3.9830 - mae: 1.2936 - mse: 3.6368 - val_loss: 12.6385 - val_mae: 2.0249 - val_mse: 12.2924 - learning_rate: 5.4872e-05\n",
      "Epoch 75/800\n",
      "\u001b[1m1073/1073\u001b[0m \u001b[32m━━━━━━━━━━━━━━━━━━━━\u001b[0m\u001b[37m\u001b[0m \u001b[1m2s\u001b[0m 2ms/step - loss: 3.8279 - mae: 1.2883 - mse: 3.4823 - val_loss: 12.8301 - val_mae: 2.0747 - val_mse: 12.4853 - learning_rate: 5.4872e-05\n",
      "Epoch 76/800\n",
      "\u001b[1m1073/1073\u001b[0m \u001b[32m━━━━━━━━━━━━━━━━━━━━\u001b[0m\u001b[37m\u001b[0m \u001b[1m2s\u001b[0m 2ms/step - loss: 4.1185 - mae: 1.3016 - mse: 3.7736 - val_loss: 12.6718 - val_mae: 2.0297 - val_mse: 12.3276 - learning_rate: 5.4872e-05\n",
      "Epoch 77/800\n",
      "\u001b[1m1073/1073\u001b[0m \u001b[32m━━━━━━━━━━━━━━━━━━━━\u001b[0m\u001b[37m\u001b[0m \u001b[1m2s\u001b[0m 2ms/step - loss: 3.9747 - mae: 1.2809 - mse: 3.6307 - val_loss: 12.4555 - val_mae: 1.9839 - val_mse: 12.1128 - learning_rate: 5.4872e-05\n",
      "Epoch 78/800\n",
      "\u001b[1m1073/1073\u001b[0m \u001b[32m━━━━━━━━━━━━━━━━━━━━\u001b[0m\u001b[37m\u001b[0m \u001b[1m2s\u001b[0m 2ms/step - loss: 3.7215 - mae: 1.2786 - mse: 3.3789 - val_loss: 12.5894 - val_mae: 2.0179 - val_mse: 12.2476 - learning_rate: 5.4872e-05\n",
      "Epoch 79/800\n",
      "\u001b[1m1073/1073\u001b[0m \u001b[32m━━━━━━━━━━━━━━━━━━━━\u001b[0m\u001b[37m\u001b[0m \u001b[1m2s\u001b[0m 2ms/step - loss: 3.7751 - mae: 1.2835 - mse: 3.4338 - val_loss: 12.5964 - val_mae: 2.0250 - val_mse: 12.2557 - learning_rate: 5.4872e-05\n",
      "Epoch 80/800\n",
      "\u001b[1m1073/1073\u001b[0m \u001b[32m━━━━━━━━━━━━━━━━━━━━\u001b[0m\u001b[37m\u001b[0m \u001b[1m2s\u001b[0m 2ms/step - loss: 3.7967 - mae: 1.2921 - mse: 3.4563 - val_loss: 12.5892 - val_mae: 2.0265 - val_mse: 12.2498 - learning_rate: 5.4872e-05\n",
      "Epoch 81/800\n",
      "\u001b[1m1073/1073\u001b[0m \u001b[32m━━━━━━━━━━━━━━━━━━━━\u001b[0m\u001b[37m\u001b[0m \u001b[1m2s\u001b[0m 2ms/step - loss: 3.7648 - mae: 1.2715 - mse: 3.4258 - val_loss: 12.6753 - val_mae: 2.0340 - val_mse: 12.3362 - learning_rate: 5.4872e-05\n",
      "Epoch 82/800\n",
      "\u001b[1m1073/1073\u001b[0m \u001b[32m━━━━━━━━━━━━━━━━━━━━\u001b[0m\u001b[37m\u001b[0m \u001b[1m2s\u001b[0m 2ms/step - loss: 4.0813 - mae: 1.2876 - mse: 3.7422 - val_loss: 12.6538 - val_mae: 2.0572 - val_mse: 12.3157 - learning_rate: 5.4872e-05\n",
      "Epoch 83/800\n",
      "\u001b[1m1073/1073\u001b[0m \u001b[32m━━━━━━━━━━━━━━━━━━━━\u001b[0m\u001b[37m\u001b[0m \u001b[1m2s\u001b[0m 2ms/step - loss: 3.6917 - mae: 1.2761 - mse: 3.3538 - val_loss: 12.6975 - val_mae: 2.0458 - val_mse: 12.3598 - learning_rate: 5.4872e-05\n",
      "Epoch 84/800\n",
      "\u001b[1m1073/1073\u001b[0m \u001b[32m━━━━━━━━━━━━━━━━━━━━\u001b[0m\u001b[37m\u001b[0m \u001b[1m2s\u001b[0m 2ms/step - loss: 3.6683 - mae: 1.2779 - mse: 3.3313 - val_loss: 12.5938 - val_mae: 2.0177 - val_mse: 12.2566 - learning_rate: 5.4872e-05\n",
      "Epoch 85/800\n",
      "\u001b[1m1073/1073\u001b[0m \u001b[32m━━━━━━━━━━━━━━━━━━━━\u001b[0m\u001b[37m\u001b[0m \u001b[1m2s\u001b[0m 2ms/step - loss: 3.7536 - mae: 1.2547 - mse: 3.4171 - val_loss: 12.5506 - val_mae: 2.0346 - val_mse: 12.2149 - learning_rate: 5.4872e-05\n",
      "Epoch 86/800\n",
      "\u001b[1m1073/1073\u001b[0m \u001b[32m━━━━━━━━━━━━━━━━━━━━\u001b[0m\u001b[37m\u001b[0m \u001b[1m2s\u001b[0m 2ms/step - loss: 3.8926 - mae: 1.2786 - mse: 3.5571 - val_loss: 12.6439 - val_mae: 2.0491 - val_mse: 12.3084 - learning_rate: 5.4872e-05\n",
      "Epoch 87/800\n",
      "\u001b[1m1073/1073\u001b[0m \u001b[32m━━━━━━━━━━━━━━━━━━━━\u001b[0m\u001b[37m\u001b[0m \u001b[1m2s\u001b[0m 2ms/step - loss: 3.5916 - mae: 1.2657 - mse: 3.2565 - val_loss: 12.4690 - val_mae: 2.0097 - val_mse: 12.1339 - learning_rate: 5.4872e-05\n",
      "Epoch 88/800\n",
      "\u001b[1m1073/1073\u001b[0m \u001b[32m━━━━━━━━━━━━━━━━━━━━\u001b[0m\u001b[37m\u001b[0m \u001b[1m2s\u001b[0m 2ms/step - loss: 3.5645 - mae: 1.2509 - mse: 3.2296 - val_loss: 12.5215 - val_mae: 2.0256 - val_mse: 12.1871 - learning_rate: 2.0851e-05\n",
      "Epoch 89/800\n",
      "\u001b[1m1073/1073\u001b[0m \u001b[32m━━━━━━━━━━━━━━━━━━━━\u001b[0m\u001b[37m\u001b[0m \u001b[1m2s\u001b[0m 2ms/step - loss: 3.6266 - mae: 1.2537 - mse: 3.2925 - val_loss: 12.5644 - val_mae: 2.0354 - val_mse: 12.2305 - learning_rate: 2.0851e-05\n",
      "Epoch 90/800\n",
      "\u001b[1m1073/1073\u001b[0m \u001b[32m━━━━━━━━━━━━━━━━━━━━\u001b[0m\u001b[37m\u001b[0m \u001b[1m2s\u001b[0m 2ms/step - loss: 3.6423 - mae: 1.2400 - mse: 3.3086 - val_loss: 12.5445 - val_mae: 2.0333 - val_mse: 12.2111 - learning_rate: 2.0851e-05\n",
      "Epoch 91/800\n",
      "\u001b[1m1073/1073\u001b[0m \u001b[32m━━━━━━━━━━━━━━━━━━━━\u001b[0m\u001b[37m\u001b[0m \u001b[1m2s\u001b[0m 2ms/step - loss: 3.6087 - mae: 1.2541 - mse: 3.2755 - val_loss: 12.5668 - val_mae: 2.0367 - val_mse: 12.2337 - learning_rate: 2.0851e-05\n",
      "Epoch 92/800\n",
      "\u001b[1m1073/1073\u001b[0m \u001b[32m━━━━━━━━━━━━━━━━━━━━\u001b[0m\u001b[37m\u001b[0m \u001b[1m2s\u001b[0m 2ms/step - loss: 3.7115 - mae: 1.2546 - mse: 3.3785 - val_loss: 12.5286 - val_mae: 2.0364 - val_mse: 12.1961 - learning_rate: 2.0851e-05\n",
      "Epoch 93/800\n",
      "\u001b[1m1073/1073\u001b[0m \u001b[32m━━━━━━━━━━━━━━━━━━━━\u001b[0m\u001b[37m\u001b[0m \u001b[1m2s\u001b[0m 2ms/step - loss: 3.4851 - mae: 1.2450 - mse: 3.1528 - val_loss: 12.5883 - val_mae: 2.0380 - val_mse: 12.2563 - learning_rate: 2.0851e-05\n",
      "Epoch 94/800\n",
      "\u001b[1m1073/1073\u001b[0m \u001b[32m━━━━━━━━━━━━━━━━━━━━\u001b[0m\u001b[37m\u001b[0m \u001b[1m2s\u001b[0m 2ms/step - loss: 3.6626 - mae: 1.2455 - mse: 3.3306 - val_loss: 12.5438 - val_mae: 2.0271 - val_mse: 12.2122 - learning_rate: 2.0851e-05\n",
      "Epoch 95/800\n",
      "\u001b[1m1073/1073\u001b[0m \u001b[32m━━━━━━━━━━━━━━━━━━━━\u001b[0m\u001b[37m\u001b[0m \u001b[1m2s\u001b[0m 2ms/step - loss: 3.5431 - mae: 1.2455 - mse: 3.2119 - val_loss: 12.5954 - val_mae: 2.0380 - val_mse: 12.2642 - learning_rate: 2.0851e-05\n",
      "Epoch 96/800\n",
      "\u001b[1m1073/1073\u001b[0m \u001b[32m━━━━━━━━━━━━━━━━━━━━\u001b[0m\u001b[37m\u001b[0m \u001b[1m2s\u001b[0m 2ms/step - loss: 3.5098 - mae: 1.2378 - mse: 3.1789 - val_loss: 12.6635 - val_mae: 2.0535 - val_mse: 12.3329 - learning_rate: 2.0851e-05\n",
      "Epoch 97/800\n",
      "\u001b[1m1073/1073\u001b[0m \u001b[32m━━━━━━━━━━━━━━━━━━━━\u001b[0m\u001b[37m\u001b[0m \u001b[1m2s\u001b[0m 2ms/step - loss: 3.5416 - mae: 1.2351 - mse: 3.2110 - val_loss: 12.6921 - val_mae: 2.0595 - val_mse: 12.3619 - learning_rate: 2.0851e-05\n",
      "Epoch 98/800\n",
      "\u001b[1m1073/1073\u001b[0m \u001b[32m━━━━━━━━━━━━━━━━━━━━\u001b[0m\u001b[37m\u001b[0m \u001b[1m2s\u001b[0m 2ms/step - loss: 3.5900 - mae: 1.2306 - mse: 3.2597 - val_loss: 12.6191 - val_mae: 2.0397 - val_mse: 12.2889 - learning_rate: 7.9235e-06\n",
      "Epoch 99/800\n",
      "\u001b[1m1073/1073\u001b[0m \u001b[32m━━━━━━━━━━━━━━━━━━━━\u001b[0m\u001b[37m\u001b[0m \u001b[1m2s\u001b[0m 2ms/step - loss: 3.6813 - mae: 1.2590 - mse: 3.3513 - val_loss: 12.6158 - val_mae: 2.0421 - val_mse: 12.2858 - learning_rate: 7.9235e-06\n",
      "Epoch 100/800\n",
      "\u001b[1m1073/1073\u001b[0m \u001b[32m━━━━━━━━━━━━━━━━━━━━\u001b[0m\u001b[37m\u001b[0m \u001b[1m2s\u001b[0m 2ms/step - loss: 3.4397 - mae: 1.2263 - mse: 3.1098 - val_loss: 12.6400 - val_mae: 2.0503 - val_mse: 12.3103 - learning_rate: 7.9235e-06\n",
      "Epoch 101/800\n",
      "\u001b[1m1073/1073\u001b[0m \u001b[32m━━━━━━━━━━━━━━━━━━━━\u001b[0m\u001b[37m\u001b[0m \u001b[1m2s\u001b[0m 2ms/step - loss: 3.4006 - mae: 1.2285 - mse: 3.0710 - val_loss: 12.6029 - val_mae: 2.0412 - val_mse: 12.2735 - learning_rate: 7.9235e-06\n",
      "Epoch 102/800\n",
      "\u001b[1m1073/1073\u001b[0m \u001b[32m━━━━━━━━━━━━━━━━━━━━\u001b[0m\u001b[37m\u001b[0m \u001b[1m2s\u001b[0m 2ms/step - loss: 3.6168 - mae: 1.2579 - mse: 3.2874 - val_loss: 12.6204 - val_mae: 2.0474 - val_mse: 12.2911 - learning_rate: 7.9235e-06\n",
      "Epoch 103/800\n",
      "\u001b[1m1073/1073\u001b[0m \u001b[32m━━━━━━━━━━━━━━━━━━━━\u001b[0m\u001b[37m\u001b[0m \u001b[1m2s\u001b[0m 2ms/step - loss: 3.4309 - mae: 1.2251 - mse: 3.1018 - val_loss: 12.6214 - val_mae: 2.0497 - val_mse: 12.2925 - learning_rate: 7.9235e-06\n",
      "Epoch 104/800\n",
      "\u001b[1m1073/1073\u001b[0m \u001b[32m━━━━━━━━━━━━━━━━━━━━\u001b[0m\u001b[37m\u001b[0m \u001b[1m2s\u001b[0m 2ms/step - loss: 3.4641 - mae: 1.2277 - mse: 3.1351 - val_loss: 12.5802 - val_mae: 2.0379 - val_mse: 12.2513 - learning_rate: 7.9235e-06\n",
      "Epoch 105/800\n",
      "\u001b[1m1073/1073\u001b[0m \u001b[32m━━━━━━━━━━━━━━━━━━━━\u001b[0m\u001b[37m\u001b[0m \u001b[1m2s\u001b[0m 2ms/step - loss: 3.2213 - mae: 1.1956 - mse: 2.8926 - val_loss: 12.6313 - val_mae: 2.0518 - val_mse: 12.3028 - learning_rate: 7.9235e-06\n",
      "Epoch 106/800\n",
      "\u001b[1m1073/1073\u001b[0m \u001b[32m━━━━━━━━━━━━━━━━━━━━\u001b[0m\u001b[37m\u001b[0m \u001b[1m2s\u001b[0m 2ms/step - loss: 3.9831 - mae: 1.2505 - mse: 3.6545 - val_loss: 12.5967 - val_mae: 2.0404 - val_mse: 12.2684 - learning_rate: 7.9235e-06\n",
      "Epoch 107/800\n",
      "\u001b[1m1073/1073\u001b[0m \u001b[32m━━━━━━━━━━━━━━━━━━━━\u001b[0m\u001b[37m\u001b[0m \u001b[1m2s\u001b[0m 2ms/step - loss: 3.5876 - mae: 1.2432 - mse: 3.2592 - val_loss: 12.6229 - val_mae: 2.0478 - val_mse: 12.2948 - learning_rate: 7.9235e-06\n",
      "Epoch 108/800\n",
      "\u001b[1m1073/1073\u001b[0m \u001b[32m━━━━━━━━━━━━━━━━━━━━\u001b[0m\u001b[37m\u001b[0m \u001b[1m2s\u001b[0m 2ms/step - loss: 3.4091 - mae: 1.2326 - mse: 3.0809 - val_loss: 12.6225 - val_mae: 2.0461 - val_mse: 12.2944 - learning_rate: 3.0109e-06\n",
      "Epoch 109/800\n",
      "\u001b[1m1073/1073\u001b[0m \u001b[32m━━━━━━━━━━━━━━━━━━━━\u001b[0m\u001b[37m\u001b[0m \u001b[1m2s\u001b[0m 2ms/step - loss: 3.4852 - mae: 1.2269 - mse: 3.1571 - val_loss: 12.6177 - val_mae: 2.0457 - val_mse: 12.2897 - learning_rate: 3.0109e-06\n",
      "Epoch 110/800\n",
      "\u001b[1m1073/1073\u001b[0m \u001b[32m━━━━━━━━━━━━━━━━━━━━\u001b[0m\u001b[37m\u001b[0m \u001b[1m2s\u001b[0m 2ms/step - loss: 3.7623 - mae: 1.2571 - mse: 3.4344 - val_loss: 12.6442 - val_mae: 2.0506 - val_mse: 12.3163 - learning_rate: 3.0109e-06\n",
      "Epoch 111/800\n",
      "\u001b[1m1073/1073\u001b[0m \u001b[32m━━━━━━━━━━━━━━━━━━━━\u001b[0m\u001b[37m\u001b[0m \u001b[1m2s\u001b[0m 2ms/step - loss: 3.5082 - mae: 1.2344 - mse: 3.1803 - val_loss: 12.6539 - val_mae: 2.0489 - val_mse: 12.3260 - learning_rate: 3.0109e-06\n",
      "Epoch 112/800\n",
      "\u001b[1m1073/1073\u001b[0m \u001b[32m━━━━━━━━━━━━━━━━━━━━\u001b[0m\u001b[37m\u001b[0m \u001b[1m2s\u001b[0m 2ms/step - loss: 3.4941 - mae: 1.2371 - mse: 3.1662 - val_loss: 12.6435 - val_mae: 2.0497 - val_mse: 12.3157 - learning_rate: 3.0109e-06\n",
      "Epoch 113/800\n",
      "\u001b[1m1073/1073\u001b[0m \u001b[32m━━━━━━━━━━━━━━━━━━━━\u001b[0m\u001b[37m\u001b[0m \u001b[1m2s\u001b[0m 2ms/step - loss: 3.6162 - mae: 1.2277 - mse: 3.2884 - val_loss: 12.6593 - val_mae: 2.0524 - val_mse: 12.3315 - learning_rate: 3.0109e-06\n",
      "Epoch 114/800\n",
      "\u001b[1m1073/1073\u001b[0m \u001b[32m━━━━━━━━━━━━━━━━━━━━\u001b[0m\u001b[37m\u001b[0m \u001b[1m2s\u001b[0m 2ms/step - loss: 3.3810 - mae: 1.2295 - mse: 3.0533 - val_loss: 12.6285 - val_mae: 2.0467 - val_mse: 12.3009 - learning_rate: 3.0109e-06\n",
      "Epoch 115/800\n",
      "\u001b[1m1073/1073\u001b[0m \u001b[32m━━━━━━━━━━━━━━━━━━━━\u001b[0m\u001b[37m\u001b[0m \u001b[1m2s\u001b[0m 2ms/step - loss: 3.3532 - mae: 1.2162 - mse: 3.0256 - val_loss: 12.6351 - val_mae: 2.0469 - val_mse: 12.3075 - learning_rate: 3.0109e-06\n",
      "\u001b[1m77/77\u001b[0m \u001b[32m━━━━━━━━━━━━━━━━━━━━\u001b[0m\u001b[37m\u001b[0m \u001b[1m0s\u001b[0m 995us/step - loss: 6.3691 - mae: 1.7407 - mse: 5.4919\n",
      "Test loss, Test MAE: [6.462099552154541, 1.7464323043823242, 5.584897518157959]\n"
     ]
    }
   ],
   "source": [
    "model3 = Sequential([\n",
    "    Dense(512, activation='relu', input_shape=(Data.shape[1],), kernel_regularizer=l2(0.025)),\n",
    "    Dropout(0.15),\n",
    "    Dense(256, activation='relu'),\n",
    "    Dropout(0.38),\n",
    "    Dense(128, activation='relu'),\n",
    "    Dense(64, activation='relu'),\n",
    "    Dense(1, activation='linear'),\n",
    "])\n",
    "\n",
    "optimizer = Adam(learning_rate=0.001)\n",
    "model3.compile(optimizer='adam', loss='mean_squared_error', metrics=['mae', 'mse'])\n",
    "# Early Stopping Callback\n",
    "early_stopping = EarlyStopping(\n",
    "    patience=38,  # Training stoppt, wenn sich der Validierungs-Loss 15 Epochen lang nicht verbessert\n",
    "    restore_best_weights=True  # Die besten Gewichte werden zurückgeladen\n",
    ")\n",
    "\n",
    "lr_scheduler = ReduceLROnPlateau(monitor='val_loss', factor=0.38, patience=10, min_lr=1e-6) # Vorschläge aus dem Internet testen\n",
    "\n",
    "\n",
    "\n",
    "history3 = model3.fit(X_train, y_train, validation_data=(X_val, y_val), epochs=800, batch_size=16, callbacks=[early_stopping, lr_scheduler])\n",
    "\n",
    "results = model.evaluate(X_test, y_test)\n",
    "print(\"Test loss, Test MAE:\", results)"
   ]
  },
  {
   "cell_type": "markdown",
   "metadata": {},
   "source": [
    "77/77 ━━━━━━━━━━━━━━━━━━━━ 0s 1ms/step - loss: 4.7661 - mae: 1.4841 - mse: 4.2201  \n",
    "Test loss, Test MAE: [5.42454195022583, 1.6282896995544434, 4.878493785858154]"
   ]
  },
  {
   "cell_type": "code",
   "execution_count": null,
   "metadata": {},
   "outputs": [],
   "source": []
  },
  {
   "cell_type": "code",
   "execution_count": 26,
   "metadata": {},
   "outputs": [
    {
     "data": {
      "image/png": "[encoded data removed]",
      "text/plain": [
       "<Figure size 640x480 with 1 Axes>"
      ]
     },
     "metadata": {},
     "output_type": "display_data"
    }
   ],
   "source": [
    "import matplotlib.pyplot as plt\n",
    "plt.plot(history3.history['loss'], label='Training loss')\n",
    "plt.plot(history3.history['val_loss'], label='Validation loss')\n",
    "plt.legend()\n",
    "plt.show()\n"
   ]
  },
  {
   "cell_type": "code",
   "execution_count": 27,
   "metadata": {},
   "outputs": [
    {
     "data": {
      "image/png": "[encoded data removed]",
      "text/plain": [
       "<Figure size 640x480 with 1 Axes>"
      ]
     },
     "metadata": {},
     "output_type": "display_data"
    }
   ],
   "source": [
    "import matplotlib.pyplot as plt\n",
    "plt.plot(history3.history['loss'], label='Training loss')\n",
    "plt.plot(history3.history['val_loss'], label='Validation loss')\n",
    "plt.legend()\n",
    "plt.show()"
   ]
  },
  {
   "cell_type": "code",
   "execution_count": 33,
   "metadata": {},
   "outputs": [
    {
     "name": "stdout",
     "output_type": "stream",
     "text": [
      "Testing with L2: 0.01, LR: 0.001, Patience: 72, Batch size: 32\n"
     ]
    },
    {
     "name": "stderr",
     "output_type": "stream",
     "text": [
      "C:\\Users\\maxd2\\AppData\\Local\\Packages\\PythonSoftwareFoundation.Python.3.11_qbz5n2kfra8p0\\LocalCache\\local-packages\\Python311\\site-packages\\keras\\src\\layers\\core\\dense.py:87: UserWarning: Do not pass an `input_shape`/`input_dim` argument to a layer. When using Sequential models, prefer using an `Input(shape)` object as the first layer in the model instead.\n",
      "  super().__init__(activity_regularizer=activity_regularizer, **kwargs)\n",
      "C:\\Users\\maxd2\\AppData\\Local\\Packages\\PythonSoftwareFoundation.Python.3.11_qbz5n2kfra8p0\\LocalCache\\local-packages\\Python311\\site-packages\\keras\\src\\layers\\core\\dense.py:87: UserWarning: Do not pass an `input_shape`/`input_dim` argument to a layer. When using Sequential models, prefer using an `Input(shape)` object as the first layer in the model instead.\n",
      "  super().__init__(activity_regularizer=activity_regularizer, **kwargs)\n",
      "C:\\Users\\maxd2\\AppData\\Local\\Packages\\PythonSoftwareFoundation.Python.3.11_qbz5n2kfra8p0\\LocalCache\\local-packages\\Python311\\site-packages\\keras\\src\\layers\\core\\dense.py:87: UserWarning: Do not pass an `input_shape`/`input_dim` argument to a layer. When using Sequential models, prefer using an `Input(shape)` object as the first layer in the model instead.\n",
      "  super().__init__(activity_regularizer=activity_regularizer, **kwargs)\n",
      "C:\\Users\\maxd2\\AppData\\Local\\Packages\\PythonSoftwareFoundation.Python.3.11_qbz5n2kfra8p0\\LocalCache\\local-packages\\Python311\\site-packages\\keras\\src\\layers\\core\\dense.py:87: UserWarning: Do not pass an `input_shape`/`input_dim` argument to a layer. When using Sequential models, prefer using an `Input(shape)` object as the first layer in the model instead.\n",
      "  super().__init__(activity_regularizer=activity_regularizer, **kwargs)\n",
      "C:\\Users\\maxd2\\AppData\\Local\\Packages\\PythonSoftwareFoundation.Python.3.11_qbz5n2kfra8p0\\LocalCache\\local-packages\\Python311\\site-packages\\keras\\src\\layers\\core\\dense.py:87: UserWarning: Do not pass an `input_shape`/`input_dim` argument to a layer. When using Sequential models, prefer using an `Input(shape)` object as the first layer in the model instead.\n",
      "  super().__init__(activity_regularizer=activity_regularizer, **kwargs)\n"
     ]
    },
    {
     "name": "stdout",
     "output_type": "stream",
     "text": [
      "Mean Validation Loss: 9.647037696838378\n",
      "Testing with L2: 0.01, LR: 0.002, Patience: 72, Batch size: 32\n"
     ]
    },
    {
     "name": "stderr",
     "output_type": "stream",
     "text": [
      "C:\\Users\\maxd2\\AppData\\Local\\Packages\\PythonSoftwareFoundation.Python.3.11_qbz5n2kfra8p0\\LocalCache\\local-packages\\Python311\\site-packages\\keras\\src\\layers\\core\\dense.py:87: UserWarning: Do not pass an `input_shape`/`input_dim` argument to a layer. When using Sequential models, prefer using an `Input(shape)` object as the first layer in the model instead.\n",
      "  super().__init__(activity_regularizer=activity_regularizer, **kwargs)\n",
      "C:\\Users\\maxd2\\AppData\\Local\\Packages\\PythonSoftwareFoundation.Python.3.11_qbz5n2kfra8p0\\LocalCache\\local-packages\\Python311\\site-packages\\keras\\src\\layers\\core\\dense.py:87: UserWarning: Do not pass an `input_shape`/`input_dim` argument to a layer. When using Sequential models, prefer using an `Input(shape)` object as the first layer in the model instead.\n",
      "  super().__init__(activity_regularizer=activity_regularizer, **kwargs)\n",
      "C:\\Users\\maxd2\\AppData\\Local\\Packages\\PythonSoftwareFoundation.Python.3.11_qbz5n2kfra8p0\\LocalCache\\local-packages\\Python311\\site-packages\\keras\\src\\layers\\core\\dense.py:87: UserWarning: Do not pass an `input_shape`/`input_dim` argument to a layer. When using Sequential models, prefer using an `Input(shape)` object as the first layer in the model instead.\n",
      "  super().__init__(activity_regularizer=activity_regularizer, **kwargs)\n",
      "C:\\Users\\maxd2\\AppData\\Local\\Packages\\PythonSoftwareFoundation.Python.3.11_qbz5n2kfra8p0\\LocalCache\\local-packages\\Python311\\site-packages\\keras\\src\\layers\\core\\dense.py:87: UserWarning: Do not pass an `input_shape`/`input_dim` argument to a layer. When using Sequential models, prefer using an `Input(shape)` object as the first layer in the model instead.\n",
      "  super().__init__(activity_regularizer=activity_regularizer, **kwargs)\n",
      "C:\\Users\\maxd2\\AppData\\Local\\Packages\\PythonSoftwareFoundation.Python.3.11_qbz5n2kfra8p0\\LocalCache\\local-packages\\Python311\\site-packages\\keras\\src\\layers\\core\\dense.py:87: UserWarning: Do not pass an `input_shape`/`input_dim` argument to a layer. When using Sequential models, prefer using an `Input(shape)` object as the first layer in the model instead.\n",
      "  super().__init__(activity_regularizer=activity_regularizer, **kwargs)\n"
     ]
    },
    {
     "name": "stdout",
     "output_type": "stream",
     "text": [
      "Mean Validation Loss: 8.72642240524292\n",
      "Testing with L2: 0.01, LR: 0.004, Patience: 72, Batch size: 32\n"
     ]
    },
    {
     "name": "stderr",
     "output_type": "stream",
     "text": [
      "C:\\Users\\maxd2\\AppData\\Local\\Packages\\PythonSoftwareFoundation.Python.3.11_qbz5n2kfra8p0\\LocalCache\\local-packages\\Python311\\site-packages\\keras\\src\\layers\\core\\dense.py:87: UserWarning: Do not pass an `input_shape`/`input_dim` argument to a layer. When using Sequential models, prefer using an `Input(shape)` object as the first layer in the model instead.\n",
      "  super().__init__(activity_regularizer=activity_regularizer, **kwargs)\n",
      "C:\\Users\\maxd2\\AppData\\Local\\Packages\\PythonSoftwareFoundation.Python.3.11_qbz5n2kfra8p0\\LocalCache\\local-packages\\Python311\\site-packages\\keras\\src\\layers\\core\\dense.py:87: UserWarning: Do not pass an `input_shape`/`input_dim` argument to a layer. When using Sequential models, prefer using an `Input(shape)` object as the first layer in the model instead.\n",
      "  super().__init__(activity_regularizer=activity_regularizer, **kwargs)\n",
      "C:\\Users\\maxd2\\AppData\\Local\\Packages\\PythonSoftwareFoundation.Python.3.11_qbz5n2kfra8p0\\LocalCache\\local-packages\\Python311\\site-packages\\keras\\src\\layers\\core\\dense.py:87: UserWarning: Do not pass an `input_shape`/`input_dim` argument to a layer. When using Sequential models, prefer using an `Input(shape)` object as the first layer in the model instead.\n",
      "  super().__init__(activity_regularizer=activity_regularizer, **kwargs)\n",
      "C:\\Users\\maxd2\\AppData\\Local\\Packages\\PythonSoftwareFoundation.Python.3.11_qbz5n2kfra8p0\\LocalCache\\local-packages\\Python311\\site-packages\\keras\\src\\layers\\core\\dense.py:87: UserWarning: Do not pass an `input_shape`/`input_dim` argument to a layer. When using Sequential models, prefer using an `Input(shape)` object as the first layer in the model instead.\n",
      "  super().__init__(activity_regularizer=activity_regularizer, **kwargs)\n",
      "C:\\Users\\maxd2\\AppData\\Local\\Packages\\PythonSoftwareFoundation.Python.3.11_qbz5n2kfra8p0\\LocalCache\\local-packages\\Python311\\site-packages\\keras\\src\\layers\\core\\dense.py:87: UserWarning: Do not pass an `input_shape`/`input_dim` argument to a layer. When using Sequential models, prefer using an `Input(shape)` object as the first layer in the model instead.\n",
      "  super().__init__(activity_regularizer=activity_regularizer, **kwargs)\n"
     ]
    },
    {
     "name": "stdout",
     "output_type": "stream",
     "text": [
      "Mean Validation Loss: 9.002140522003174\n",
      "Testing with L2: 0.01, LR: 0.006, Patience: 72, Batch size: 32\n"
     ]
    },
    {
     "name": "stderr",
     "output_type": "stream",
     "text": [
      "C:\\Users\\maxd2\\AppData\\Local\\Packages\\PythonSoftwareFoundation.Python.3.11_qbz5n2kfra8p0\\LocalCache\\local-packages\\Python311\\site-packages\\keras\\src\\layers\\core\\dense.py:87: UserWarning: Do not pass an `input_shape`/`input_dim` argument to a layer. When using Sequential models, prefer using an `Input(shape)` object as the first layer in the model instead.\n",
      "  super().__init__(activity_regularizer=activity_regularizer, **kwargs)\n",
      "C:\\Users\\maxd2\\AppData\\Local\\Packages\\PythonSoftwareFoundation.Python.3.11_qbz5n2kfra8p0\\LocalCache\\local-packages\\Python311\\site-packages\\keras\\src\\layers\\core\\dense.py:87: UserWarning: Do not pass an `input_shape`/`input_dim` argument to a layer. When using Sequential models, prefer using an `Input(shape)` object as the first layer in the model instead.\n",
      "  super().__init__(activity_regularizer=activity_regularizer, **kwargs)\n",
      "C:\\Users\\maxd2\\AppData\\Local\\Packages\\PythonSoftwareFoundation.Python.3.11_qbz5n2kfra8p0\\LocalCache\\local-packages\\Python311\\site-packages\\keras\\src\\layers\\core\\dense.py:87: UserWarning: Do not pass an `input_shape`/`input_dim` argument to a layer. When using Sequential models, prefer using an `Input(shape)` object as the first layer in the model instead.\n",
      "  super().__init__(activity_regularizer=activity_regularizer, **kwargs)\n",
      "C:\\Users\\maxd2\\AppData\\Local\\Packages\\PythonSoftwareFoundation.Python.3.11_qbz5n2kfra8p0\\LocalCache\\local-packages\\Python311\\site-packages\\keras\\src\\layers\\core\\dense.py:87: UserWarning: Do not pass an `input_shape`/`input_dim` argument to a layer. When using Sequential models, prefer using an `Input(shape)` object as the first layer in the model instead.\n",
      "  super().__init__(activity_regularizer=activity_regularizer, **kwargs)\n",
      "C:\\Users\\maxd2\\AppData\\Local\\Packages\\PythonSoftwareFoundation.Python.3.11_qbz5n2kfra8p0\\LocalCache\\local-packages\\Python311\\site-packages\\keras\\src\\layers\\core\\dense.py:87: UserWarning: Do not pass an `input_shape`/`input_dim` argument to a layer. When using Sequential models, prefer using an `Input(shape)` object as the first layer in the model instead.\n",
      "  super().__init__(activity_regularizer=activity_regularizer, **kwargs)\n"
     ]
    },
    {
     "name": "stdout",
     "output_type": "stream",
     "text": [
      "Mean Validation Loss: 10.211145401000977\n",
      "Testing with L2: 0.01, LR: 0.008, Patience: 72, Batch size: 32\n"
     ]
    },
    {
     "name": "stderr",
     "output_type": "stream",
     "text": [
      "C:\\Users\\maxd2\\AppData\\Local\\Packages\\PythonSoftwareFoundation.Python.3.11_qbz5n2kfra8p0\\LocalCache\\local-packages\\Python311\\site-packages\\keras\\src\\layers\\core\\dense.py:87: UserWarning: Do not pass an `input_shape`/`input_dim` argument to a layer. When using Sequential models, prefer using an `Input(shape)` object as the first layer in the model instead.\n",
      "  super().__init__(activity_regularizer=activity_regularizer, **kwargs)\n",
      "C:\\Users\\maxd2\\AppData\\Local\\Packages\\PythonSoftwareFoundation.Python.3.11_qbz5n2kfra8p0\\LocalCache\\local-packages\\Python311\\site-packages\\keras\\src\\layers\\core\\dense.py:87: UserWarning: Do not pass an `input_shape`/`input_dim` argument to a layer. When using Sequential models, prefer using an `Input(shape)` object as the first layer in the model instead.\n",
      "  super().__init__(activity_regularizer=activity_regularizer, **kwargs)\n",
      "C:\\Users\\maxd2\\AppData\\Local\\Packages\\PythonSoftwareFoundation.Python.3.11_qbz5n2kfra8p0\\LocalCache\\local-packages\\Python311\\site-packages\\keras\\src\\layers\\core\\dense.py:87: UserWarning: Do not pass an `input_shape`/`input_dim` argument to a layer. When using Sequential models, prefer using an `Input(shape)` object as the first layer in the model instead.\n",
      "  super().__init__(activity_regularizer=activity_regularizer, **kwargs)\n",
      "C:\\Users\\maxd2\\AppData\\Local\\Packages\\PythonSoftwareFoundation.Python.3.11_qbz5n2kfra8p0\\LocalCache\\local-packages\\Python311\\site-packages\\keras\\src\\layers\\core\\dense.py:87: UserWarning: Do not pass an `input_shape`/`input_dim` argument to a layer. When using Sequential models, prefer using an `Input(shape)` object as the first layer in the model instead.\n",
      "  super().__init__(activity_regularizer=activity_regularizer, **kwargs)\n",
      "C:\\Users\\maxd2\\AppData\\Local\\Packages\\PythonSoftwareFoundation.Python.3.11_qbz5n2kfra8p0\\LocalCache\\local-packages\\Python311\\site-packages\\keras\\src\\layers\\core\\dense.py:87: UserWarning: Do not pass an `input_shape`/`input_dim` argument to a layer. When using Sequential models, prefer using an `Input(shape)` object as the first layer in the model instead.\n",
      "  super().__init__(activity_regularizer=activity_regularizer, **kwargs)\n"
     ]
    },
    {
     "name": "stdout",
     "output_type": "stream",
     "text": [
      "Mean Validation Loss: 11.298348808288575\n",
      "Testing with L2: 0.025, LR: 0.001, Patience: 72, Batch size: 32\n"
     ]
    },
    {
     "name": "stderr",
     "output_type": "stream",
     "text": [
      "C:\\Users\\maxd2\\AppData\\Local\\Packages\\PythonSoftwareFoundation.Python.3.11_qbz5n2kfra8p0\\LocalCache\\local-packages\\Python311\\site-packages\\keras\\src\\layers\\core\\dense.py:87: UserWarning: Do not pass an `input_shape`/`input_dim` argument to a layer. When using Sequential models, prefer using an `Input(shape)` object as the first layer in the model instead.\n",
      "  super().__init__(activity_regularizer=activity_regularizer, **kwargs)\n",
      "C:\\Users\\maxd2\\AppData\\Local\\Packages\\PythonSoftwareFoundation.Python.3.11_qbz5n2kfra8p0\\LocalCache\\local-packages\\Python311\\site-packages\\keras\\src\\layers\\core\\dense.py:87: UserWarning: Do not pass an `input_shape`/`input_dim` argument to a layer. When using Sequential models, prefer using an `Input(shape)` object as the first layer in the model instead.\n",
      "  super().__init__(activity_regularizer=activity_regularizer, **kwargs)\n",
      "C:\\Users\\maxd2\\AppData\\Local\\Packages\\PythonSoftwareFoundation.Python.3.11_qbz5n2kfra8p0\\LocalCache\\local-packages\\Python311\\site-packages\\keras\\src\\layers\\core\\dense.py:87: UserWarning: Do not pass an `input_shape`/`input_dim` argument to a layer. When using Sequential models, prefer using an `Input(shape)` object as the first layer in the model instead.\n",
      "  super().__init__(activity_regularizer=activity_regularizer, **kwargs)\n",
      "C:\\Users\\maxd2\\AppData\\Local\\Packages\\PythonSoftwareFoundation.Python.3.11_qbz5n2kfra8p0\\LocalCache\\local-packages\\Python311\\site-packages\\keras\\src\\layers\\core\\dense.py:87: UserWarning: Do not pass an `input_shape`/`input_dim` argument to a layer. When using Sequential models, prefer using an `Input(shape)` object as the first layer in the model instead.\n",
      "  super().__init__(activity_regularizer=activity_regularizer, **kwargs)\n",
      "C:\\Users\\maxd2\\AppData\\Local\\Packages\\PythonSoftwareFoundation.Python.3.11_qbz5n2kfra8p0\\LocalCache\\local-packages\\Python311\\site-packages\\keras\\src\\layers\\core\\dense.py:87: UserWarning: Do not pass an `input_shape`/`input_dim` argument to a layer. When using Sequential models, prefer using an `Input(shape)` object as the first layer in the model instead.\n",
      "  super().__init__(activity_regularizer=activity_regularizer, **kwargs)\n"
     ]
    },
    {
     "name": "stdout",
     "output_type": "stream",
     "text": [
      "Mean Validation Loss: 8.811642360687255\n",
      "Testing with L2: 0.025, LR: 0.002, Patience: 72, Batch size: 32\n"
     ]
    },
    {
     "name": "stderr",
     "output_type": "stream",
     "text": [
      "C:\\Users\\maxd2\\AppData\\Local\\Packages\\PythonSoftwareFoundation.Python.3.11_qbz5n2kfra8p0\\LocalCache\\local-packages\\Python311\\site-packages\\keras\\src\\layers\\core\\dense.py:87: UserWarning: Do not pass an `input_shape`/`input_dim` argument to a layer. When using Sequential models, prefer using an `Input(shape)` object as the first layer in the model instead.\n",
      "  super().__init__(activity_regularizer=activity_regularizer, **kwargs)\n",
      "C:\\Users\\maxd2\\AppData\\Local\\Packages\\PythonSoftwareFoundation.Python.3.11_qbz5n2kfra8p0\\LocalCache\\local-packages\\Python311\\site-packages\\keras\\src\\layers\\core\\dense.py:87: UserWarning: Do not pass an `input_shape`/`input_dim` argument to a layer. When using Sequential models, prefer using an `Input(shape)` object as the first layer in the model instead.\n",
      "  super().__init__(activity_regularizer=activity_regularizer, **kwargs)\n",
      "C:\\Users\\maxd2\\AppData\\Local\\Packages\\PythonSoftwareFoundation.Python.3.11_qbz5n2kfra8p0\\LocalCache\\local-packages\\Python311\\site-packages\\keras\\src\\layers\\core\\dense.py:87: UserWarning: Do not pass an `input_shape`/`input_dim` argument to a layer. When using Sequential models, prefer using an `Input(shape)` object as the first layer in the model instead.\n",
      "  super().__init__(activity_regularizer=activity_regularizer, **kwargs)\n",
      "C:\\Users\\maxd2\\AppData\\Local\\Packages\\PythonSoftwareFoundation.Python.3.11_qbz5n2kfra8p0\\LocalCache\\local-packages\\Python311\\site-packages\\keras\\src\\layers\\core\\dense.py:87: UserWarning: Do not pass an `input_shape`/`input_dim` argument to a layer. When using Sequential models, prefer using an `Input(shape)` object as the first layer in the model instead.\n",
      "  super().__init__(activity_regularizer=activity_regularizer, **kwargs)\n",
      "C:\\Users\\maxd2\\AppData\\Local\\Packages\\PythonSoftwareFoundation.Python.3.11_qbz5n2kfra8p0\\LocalCache\\local-packages\\Python311\\site-packages\\keras\\src\\layers\\core\\dense.py:87: UserWarning: Do not pass an `input_shape`/`input_dim` argument to a layer. When using Sequential models, prefer using an `Input(shape)` object as the first layer in the model instead.\n",
      "  super().__init__(activity_regularizer=activity_regularizer, **kwargs)\n"
     ]
    },
    {
     "name": "stdout",
     "output_type": "stream",
     "text": [
      "Mean Validation Loss: 8.822599983215332\n",
      "Testing with L2: 0.025, LR: 0.004, Patience: 72, Batch size: 32\n"
     ]
    },
    {
     "name": "stderr",
     "output_type": "stream",
     "text": [
      "C:\\Users\\maxd2\\AppData\\Local\\Packages\\PythonSoftwareFoundation.Python.3.11_qbz5n2kfra8p0\\LocalCache\\local-packages\\Python311\\site-packages\\keras\\src\\layers\\core\\dense.py:87: UserWarning: Do not pass an `input_shape`/`input_dim` argument to a layer. When using Sequential models, prefer using an `Input(shape)` object as the first layer in the model instead.\n",
      "  super().__init__(activity_regularizer=activity_regularizer, **kwargs)\n",
      "C:\\Users\\maxd2\\AppData\\Local\\Packages\\PythonSoftwareFoundation.Python.3.11_qbz5n2kfra8p0\\LocalCache\\local-packages\\Python311\\site-packages\\keras\\src\\layers\\core\\dense.py:87: UserWarning: Do not pass an `input_shape`/`input_dim` argument to a layer. When using Sequential models, prefer using an `Input(shape)` object as the first layer in the model instead.\n",
      "  super().__init__(activity_regularizer=activity_regularizer, **kwargs)\n",
      "C:\\Users\\maxd2\\AppData\\Local\\Packages\\PythonSoftwareFoundation.Python.3.11_qbz5n2kfra8p0\\LocalCache\\local-packages\\Python311\\site-packages\\keras\\src\\layers\\core\\dense.py:87: UserWarning: Do not pass an `input_shape`/`input_dim` argument to a layer. When using Sequential models, prefer using an `Input(shape)` object as the first layer in the model instead.\n",
      "  super().__init__(activity_regularizer=activity_regularizer, **kwargs)\n",
      "C:\\Users\\maxd2\\AppData\\Local\\Packages\\PythonSoftwareFoundation.Python.3.11_qbz5n2kfra8p0\\LocalCache\\local-packages\\Python311\\site-packages\\keras\\src\\layers\\core\\dense.py:87: UserWarning: Do not pass an `input_shape`/`input_dim` argument to a layer. When using Sequential models, prefer using an `Input(shape)` object as the first layer in the model instead.\n",
      "  super().__init__(activity_regularizer=activity_regularizer, **kwargs)\n",
      "C:\\Users\\maxd2\\AppData\\Local\\Packages\\PythonSoftwareFoundation.Python.3.11_qbz5n2kfra8p0\\LocalCache\\local-packages\\Python311\\site-packages\\keras\\src\\layers\\core\\dense.py:87: UserWarning: Do not pass an `input_shape`/`input_dim` argument to a layer. When using Sequential models, prefer using an `Input(shape)` object as the first layer in the model instead.\n",
      "  super().__init__(activity_regularizer=activity_regularizer, **kwargs)\n"
     ]
    },
    {
     "name": "stdout",
     "output_type": "stream",
     "text": [
      "Mean Validation Loss: 8.649894523620606\n",
      "Testing with L2: 0.025, LR: 0.006, Patience: 72, Batch size: 32\n"
     ]
    },
    {
     "name": "stderr",
     "output_type": "stream",
     "text": [
      "C:\\Users\\maxd2\\AppData\\Local\\Packages\\PythonSoftwareFoundation.Python.3.11_qbz5n2kfra8p0\\LocalCache\\local-packages\\Python311\\site-packages\\keras\\src\\layers\\core\\dense.py:87: UserWarning: Do not pass an `input_shape`/`input_dim` argument to a layer. When using Sequential models, prefer using an `Input(shape)` object as the first layer in the model instead.\n",
      "  super().__init__(activity_regularizer=activity_regularizer, **kwargs)\n",
      "C:\\Users\\maxd2\\AppData\\Local\\Packages\\PythonSoftwareFoundation.Python.3.11_qbz5n2kfra8p0\\LocalCache\\local-packages\\Python311\\site-packages\\keras\\src\\layers\\core\\dense.py:87: UserWarning: Do not pass an `input_shape`/`input_dim` argument to a layer. When using Sequential models, prefer using an `Input(shape)` object as the first layer in the model instead.\n",
      "  super().__init__(activity_regularizer=activity_regularizer, **kwargs)\n",
      "C:\\Users\\maxd2\\AppData\\Local\\Packages\\PythonSoftwareFoundation.Python.3.11_qbz5n2kfra8p0\\LocalCache\\local-packages\\Python311\\site-packages\\keras\\src\\layers\\core\\dense.py:87: UserWarning: Do not pass an `input_shape`/`input_dim` argument to a layer. When using Sequential models, prefer using an `Input(shape)` object as the first layer in the model instead.\n",
      "  super().__init__(activity_regularizer=activity_regularizer, **kwargs)\n",
      "C:\\Users\\maxd2\\AppData\\Local\\Packages\\PythonSoftwareFoundation.Python.3.11_qbz5n2kfra8p0\\LocalCache\\local-packages\\Python311\\site-packages\\keras\\src\\layers\\core\\dense.py:87: UserWarning: Do not pass an `input_shape`/`input_dim` argument to a layer. When using Sequential models, prefer using an `Input(shape)` object as the first layer in the model instead.\n",
      "  super().__init__(activity_regularizer=activity_regularizer, **kwargs)\n",
      "C:\\Users\\maxd2\\AppData\\Local\\Packages\\PythonSoftwareFoundation.Python.3.11_qbz5n2kfra8p0\\LocalCache\\local-packages\\Python311\\site-packages\\keras\\src\\layers\\core\\dense.py:87: UserWarning: Do not pass an `input_shape`/`input_dim` argument to a layer. When using Sequential models, prefer using an `Input(shape)` object as the first layer in the model instead.\n",
      "  super().__init__(activity_regularizer=activity_regularizer, **kwargs)\n"
     ]
    },
    {
     "name": "stdout",
     "output_type": "stream",
     "text": [
      "Mean Validation Loss: 9.45808811187744\n",
      "Testing with L2: 0.025, LR: 0.008, Patience: 72, Batch size: 32\n"
     ]
    },
    {
     "name": "stderr",
     "output_type": "stream",
     "text": [
      "C:\\Users\\maxd2\\AppData\\Local\\Packages\\PythonSoftwareFoundation.Python.3.11_qbz5n2kfra8p0\\LocalCache\\local-packages\\Python311\\site-packages\\keras\\src\\layers\\core\\dense.py:87: UserWarning: Do not pass an `input_shape`/`input_dim` argument to a layer. When using Sequential models, prefer using an `Input(shape)` object as the first layer in the model instead.\n",
      "  super().__init__(activity_regularizer=activity_regularizer, **kwargs)\n",
      "C:\\Users\\maxd2\\AppData\\Local\\Packages\\PythonSoftwareFoundation.Python.3.11_qbz5n2kfra8p0\\LocalCache\\local-packages\\Python311\\site-packages\\keras\\src\\layers\\core\\dense.py:87: UserWarning: Do not pass an `input_shape`/`input_dim` argument to a layer. When using Sequential models, prefer using an `Input(shape)` object as the first layer in the model instead.\n",
      "  super().__init__(activity_regularizer=activity_regularizer, **kwargs)\n",
      "C:\\Users\\maxd2\\AppData\\Local\\Packages\\PythonSoftwareFoundation.Python.3.11_qbz5n2kfra8p0\\LocalCache\\local-packages\\Python311\\site-packages\\keras\\src\\layers\\core\\dense.py:87: UserWarning: Do not pass an `input_shape`/`input_dim` argument to a layer. When using Sequential models, prefer using an `Input(shape)` object as the first layer in the model instead.\n",
      "  super().__init__(activity_regularizer=activity_regularizer, **kwargs)\n",
      "C:\\Users\\maxd2\\AppData\\Local\\Packages\\PythonSoftwareFoundation.Python.3.11_qbz5n2kfra8p0\\LocalCache\\local-packages\\Python311\\site-packages\\keras\\src\\layers\\core\\dense.py:87: UserWarning: Do not pass an `input_shape`/`input_dim` argument to a layer. When using Sequential models, prefer using an `Input(shape)` object as the first layer in the model instead.\n",
      "  super().__init__(activity_regularizer=activity_regularizer, **kwargs)\n",
      "C:\\Users\\maxd2\\AppData\\Local\\Packages\\PythonSoftwareFoundation.Python.3.11_qbz5n2kfra8p0\\LocalCache\\local-packages\\Python311\\site-packages\\keras\\src\\layers\\core\\dense.py:87: UserWarning: Do not pass an `input_shape`/`input_dim` argument to a layer. When using Sequential models, prefer using an `Input(shape)` object as the first layer in the model instead.\n",
      "  super().__init__(activity_regularizer=activity_regularizer, **kwargs)\n"
     ]
    },
    {
     "name": "stdout",
     "output_type": "stream",
     "text": [
      "Mean Validation Loss: 9.927186584472656\n",
      "Testing with L2: 0.05, LR: 0.001, Patience: 72, Batch size: 32\n"
     ]
    },
    {
     "name": "stderr",
     "output_type": "stream",
     "text": [
      "C:\\Users\\maxd2\\AppData\\Local\\Packages\\PythonSoftwareFoundation.Python.3.11_qbz5n2kfra8p0\\LocalCache\\local-packages\\Python311\\site-packages\\keras\\src\\layers\\core\\dense.py:87: UserWarning: Do not pass an `input_shape`/`input_dim` argument to a layer. When using Sequential models, prefer using an `Input(shape)` object as the first layer in the model instead.\n",
      "  super().__init__(activity_regularizer=activity_regularizer, **kwargs)\n",
      "C:\\Users\\maxd2\\AppData\\Local\\Packages\\PythonSoftwareFoundation.Python.3.11_qbz5n2kfra8p0\\LocalCache\\local-packages\\Python311\\site-packages\\keras\\src\\layers\\core\\dense.py:87: UserWarning: Do not pass an `input_shape`/`input_dim` argument to a layer. When using Sequential models, prefer using an `Input(shape)` object as the first layer in the model instead.\n",
      "  super().__init__(activity_regularizer=activity_regularizer, **kwargs)\n",
      "C:\\Users\\maxd2\\AppData\\Local\\Packages\\PythonSoftwareFoundation.Python.3.11_qbz5n2kfra8p0\\LocalCache\\local-packages\\Python311\\site-packages\\keras\\src\\layers\\core\\dense.py:87: UserWarning: Do not pass an `input_shape`/`input_dim` argument to a layer. When using Sequential models, prefer using an `Input(shape)` object as the first layer in the model instead.\n",
      "  super().__init__(activity_regularizer=activity_regularizer, **kwargs)\n",
      "C:\\Users\\maxd2\\AppData\\Local\\Packages\\PythonSoftwareFoundation.Python.3.11_qbz5n2kfra8p0\\LocalCache\\local-packages\\Python311\\site-packages\\keras\\src\\layers\\core\\dense.py:87: UserWarning: Do not pass an `input_shape`/`input_dim` argument to a layer. When using Sequential models, prefer using an `Input(shape)` object as the first layer in the model instead.\n",
      "  super().__init__(activity_regularizer=activity_regularizer, **kwargs)\n",
      "C:\\Users\\maxd2\\AppData\\Local\\Packages\\PythonSoftwareFoundation.Python.3.11_qbz5n2kfra8p0\\LocalCache\\local-packages\\Python311\\site-packages\\keras\\src\\layers\\core\\dense.py:87: UserWarning: Do not pass an `input_shape`/`input_dim` argument to a layer. When using Sequential models, prefer using an `Input(shape)` object as the first layer in the model instead.\n",
      "  super().__init__(activity_regularizer=activity_regularizer, **kwargs)\n"
     ]
    },
    {
     "name": "stdout",
     "output_type": "stream",
     "text": [
      "Mean Validation Loss: 10.486581420898437\n",
      "Testing with L2: 0.05, LR: 0.002, Patience: 72, Batch size: 32\n"
     ]
    },
    {
     "name": "stderr",
     "output_type": "stream",
     "text": [
      "C:\\Users\\maxd2\\AppData\\Local\\Packages\\PythonSoftwareFoundation.Python.3.11_qbz5n2kfra8p0\\LocalCache\\local-packages\\Python311\\site-packages\\keras\\src\\layers\\core\\dense.py:87: UserWarning: Do not pass an `input_shape`/`input_dim` argument to a layer. When using Sequential models, prefer using an `Input(shape)` object as the first layer in the model instead.\n",
      "  super().__init__(activity_regularizer=activity_regularizer, **kwargs)\n",
      "C:\\Users\\maxd2\\AppData\\Local\\Packages\\PythonSoftwareFoundation.Python.3.11_qbz5n2kfra8p0\\LocalCache\\local-packages\\Python311\\site-packages\\keras\\src\\layers\\core\\dense.py:87: UserWarning: Do not pass an `input_shape`/`input_dim` argument to a layer. When using Sequential models, prefer using an `Input(shape)` object as the first layer in the model instead.\n",
      "  super().__init__(activity_regularizer=activity_regularizer, **kwargs)\n",
      "C:\\Users\\maxd2\\AppData\\Local\\Packages\\PythonSoftwareFoundation.Python.3.11_qbz5n2kfra8p0\\LocalCache\\local-packages\\Python311\\site-packages\\keras\\src\\layers\\core\\dense.py:87: UserWarning: Do not pass an `input_shape`/`input_dim` argument to a layer. When using Sequential models, prefer using an `Input(shape)` object as the first layer in the model instead.\n",
      "  super().__init__(activity_regularizer=activity_regularizer, **kwargs)\n",
      "C:\\Users\\maxd2\\AppData\\Local\\Packages\\PythonSoftwareFoundation.Python.3.11_qbz5n2kfra8p0\\LocalCache\\local-packages\\Python311\\site-packages\\keras\\src\\layers\\core\\dense.py:87: UserWarning: Do not pass an `input_shape`/`input_dim` argument to a layer. When using Sequential models, prefer using an `Input(shape)` object as the first layer in the model instead.\n",
      "  super().__init__(activity_regularizer=activity_regularizer, **kwargs)\n",
      "C:\\Users\\maxd2\\AppData\\Local\\Packages\\PythonSoftwareFoundation.Python.3.11_qbz5n2kfra8p0\\LocalCache\\local-packages\\Python311\\site-packages\\keras\\src\\layers\\core\\dense.py:87: UserWarning: Do not pass an `input_shape`/`input_dim` argument to a layer. When using Sequential models, prefer using an `Input(shape)` object as the first layer in the model instead.\n",
      "  super().__init__(activity_regularizer=activity_regularizer, **kwargs)\n"
     ]
    },
    {
     "name": "stdout",
     "output_type": "stream",
     "text": [
      "Mean Validation Loss: 7.993391418457032\n",
      "Testing with L2: 0.05, LR: 0.004, Patience: 72, Batch size: 32\n"
     ]
    },
    {
     "name": "stderr",
     "output_type": "stream",
     "text": [
      "C:\\Users\\maxd2\\AppData\\Local\\Packages\\PythonSoftwareFoundation.Python.3.11_qbz5n2kfra8p0\\LocalCache\\local-packages\\Python311\\site-packages\\keras\\src\\layers\\core\\dense.py:87: UserWarning: Do not pass an `input_shape`/`input_dim` argument to a layer. When using Sequential models, prefer using an `Input(shape)` object as the first layer in the model instead.\n",
      "  super().__init__(activity_regularizer=activity_regularizer, **kwargs)\n",
      "C:\\Users\\maxd2\\AppData\\Local\\Packages\\PythonSoftwareFoundation.Python.3.11_qbz5n2kfra8p0\\LocalCache\\local-packages\\Python311\\site-packages\\keras\\src\\layers\\core\\dense.py:87: UserWarning: Do not pass an `input_shape`/`input_dim` argument to a layer. When using Sequential models, prefer using an `Input(shape)` object as the first layer in the model instead.\n",
      "  super().__init__(activity_regularizer=activity_regularizer, **kwargs)\n",
      "C:\\Users\\maxd2\\AppData\\Local\\Packages\\PythonSoftwareFoundation.Python.3.11_qbz5n2kfra8p0\\LocalCache\\local-packages\\Python311\\site-packages\\keras\\src\\layers\\core\\dense.py:87: UserWarning: Do not pass an `input_shape`/`input_dim` argument to a layer. When using Sequential models, prefer using an `Input(shape)` object as the first layer in the model instead.\n",
      "  super().__init__(activity_regularizer=activity_regularizer, **kwargs)\n",
      "C:\\Users\\maxd2\\AppData\\Local\\Packages\\PythonSoftwareFoundation.Python.3.11_qbz5n2kfra8p0\\LocalCache\\local-packages\\Python311\\site-packages\\keras\\src\\layers\\core\\dense.py:87: UserWarning: Do not pass an `input_shape`/`input_dim` argument to a layer. When using Sequential models, prefer using an `Input(shape)` object as the first layer in the model instead.\n",
      "  super().__init__(activity_regularizer=activity_regularizer, **kwargs)\n",
      "C:\\Users\\maxd2\\AppData\\Local\\Packages\\PythonSoftwareFoundation.Python.3.11_qbz5n2kfra8p0\\LocalCache\\local-packages\\Python311\\site-packages\\keras\\src\\layers\\core\\dense.py:87: UserWarning: Do not pass an `input_shape`/`input_dim` argument to a layer. When using Sequential models, prefer using an `Input(shape)` object as the first layer in the model instead.\n",
      "  super().__init__(activity_regularizer=activity_regularizer, **kwargs)\n"
     ]
    },
    {
     "name": "stdout",
     "output_type": "stream",
     "text": [
      "Mean Validation Loss: 8.597807788848877\n",
      "Testing with L2: 0.05, LR: 0.006, Patience: 72, Batch size: 32\n"
     ]
    },
    {
     "name": "stderr",
     "output_type": "stream",
     "text": [
      "C:\\Users\\maxd2\\AppData\\Local\\Packages\\PythonSoftwareFoundation.Python.3.11_qbz5n2kfra8p0\\LocalCache\\local-packages\\Python311\\site-packages\\keras\\src\\layers\\core\\dense.py:87: UserWarning: Do not pass an `input_shape`/`input_dim` argument to a layer. When using Sequential models, prefer using an `Input(shape)` object as the first layer in the model instead.\n",
      "  super().__init__(activity_regularizer=activity_regularizer, **kwargs)\n",
      "C:\\Users\\maxd2\\AppData\\Local\\Packages\\PythonSoftwareFoundation.Python.3.11_qbz5n2kfra8p0\\LocalCache\\local-packages\\Python311\\site-packages\\keras\\src\\layers\\core\\dense.py:87: UserWarning: Do not pass an `input_shape`/`input_dim` argument to a layer. When using Sequential models, prefer using an `Input(shape)` object as the first layer in the model instead.\n",
      "  super().__init__(activity_regularizer=activity_regularizer, **kwargs)\n",
      "C:\\Users\\maxd2\\AppData\\Local\\Packages\\PythonSoftwareFoundation.Python.3.11_qbz5n2kfra8p0\\LocalCache\\local-packages\\Python311\\site-packages\\keras\\src\\layers\\core\\dense.py:87: UserWarning: Do not pass an `input_shape`/`input_dim` argument to a layer. When using Sequential models, prefer using an `Input(shape)` object as the first layer in the model instead.\n",
      "  super().__init__(activity_regularizer=activity_regularizer, **kwargs)\n",
      "C:\\Users\\maxd2\\AppData\\Local\\Packages\\PythonSoftwareFoundation.Python.3.11_qbz5n2kfra8p0\\LocalCache\\local-packages\\Python311\\site-packages\\keras\\src\\layers\\core\\dense.py:87: UserWarning: Do not pass an `input_shape`/`input_dim` argument to a layer. When using Sequential models, prefer using an `Input(shape)` object as the first layer in the model instead.\n",
      "  super().__init__(activity_regularizer=activity_regularizer, **kwargs)\n",
      "C:\\Users\\maxd2\\AppData\\Local\\Packages\\PythonSoftwareFoundation.Python.3.11_qbz5n2kfra8p0\\LocalCache\\local-packages\\Python311\\site-packages\\keras\\src\\layers\\core\\dense.py:87: UserWarning: Do not pass an `input_shape`/`input_dim` argument to a layer. When using Sequential models, prefer using an `Input(shape)` object as the first layer in the model instead.\n",
      "  super().__init__(activity_regularizer=activity_regularizer, **kwargs)\n"
     ]
    },
    {
     "name": "stdout",
     "output_type": "stream",
     "text": [
      "Mean Validation Loss: 9.949887371063232\n",
      "Testing with L2: 0.05, LR: 0.008, Patience: 72, Batch size: 32\n"
     ]
    },
    {
     "name": "stderr",
     "output_type": "stream",
     "text": [
      "C:\\Users\\maxd2\\AppData\\Local\\Packages\\PythonSoftwareFoundation.Python.3.11_qbz5n2kfra8p0\\LocalCache\\local-packages\\Python311\\site-packages\\keras\\src\\layers\\core\\dense.py:87: UserWarning: Do not pass an `input_shape`/`input_dim` argument to a layer. When using Sequential models, prefer using an `Input(shape)` object as the first layer in the model instead.\n",
      "  super().__init__(activity_regularizer=activity_regularizer, **kwargs)\n",
      "C:\\Users\\maxd2\\AppData\\Local\\Packages\\PythonSoftwareFoundation.Python.3.11_qbz5n2kfra8p0\\LocalCache\\local-packages\\Python311\\site-packages\\keras\\src\\layers\\core\\dense.py:87: UserWarning: Do not pass an `input_shape`/`input_dim` argument to a layer. When using Sequential models, prefer using an `Input(shape)` object as the first layer in the model instead.\n",
      "  super().__init__(activity_regularizer=activity_regularizer, **kwargs)\n",
      "C:\\Users\\maxd2\\AppData\\Local\\Packages\\PythonSoftwareFoundation.Python.3.11_qbz5n2kfra8p0\\LocalCache\\local-packages\\Python311\\site-packages\\keras\\src\\layers\\core\\dense.py:87: UserWarning: Do not pass an `input_shape`/`input_dim` argument to a layer. When using Sequential models, prefer using an `Input(shape)` object as the first layer in the model instead.\n",
      "  super().__init__(activity_regularizer=activity_regularizer, **kwargs)\n",
      "C:\\Users\\maxd2\\AppData\\Local\\Packages\\PythonSoftwareFoundation.Python.3.11_qbz5n2kfra8p0\\LocalCache\\local-packages\\Python311\\site-packages\\keras\\src\\layers\\core\\dense.py:87: UserWarning: Do not pass an `input_shape`/`input_dim` argument to a layer. When using Sequential models, prefer using an `Input(shape)` object as the first layer in the model instead.\n",
      "  super().__init__(activity_regularizer=activity_regularizer, **kwargs)\n",
      "C:\\Users\\maxd2\\AppData\\Local\\Packages\\PythonSoftwareFoundation.Python.3.11_qbz5n2kfra8p0\\LocalCache\\local-packages\\Python311\\site-packages\\keras\\src\\layers\\core\\dense.py:87: UserWarning: Do not pass an `input_shape`/`input_dim` argument to a layer. When using Sequential models, prefer using an `Input(shape)` object as the first layer in the model instead.\n",
      "  super().__init__(activity_regularizer=activity_regularizer, **kwargs)\n"
     ]
    },
    {
     "name": "stdout",
     "output_type": "stream",
     "text": [
      "Mean Validation Loss: 11.37825698852539\n",
      "Testing with L2: 0.08, LR: 0.001, Patience: 72, Batch size: 32\n"
     ]
    },
    {
     "name": "stderr",
     "output_type": "stream",
     "text": [
      "C:\\Users\\maxd2\\AppData\\Local\\Packages\\PythonSoftwareFoundation.Python.3.11_qbz5n2kfra8p0\\LocalCache\\local-packages\\Python311\\site-packages\\keras\\src\\layers\\core\\dense.py:87: UserWarning: Do not pass an `input_shape`/`input_dim` argument to a layer. When using Sequential models, prefer using an `Input(shape)` object as the first layer in the model instead.\n",
      "  super().__init__(activity_regularizer=activity_regularizer, **kwargs)\n",
      "C:\\Users\\maxd2\\AppData\\Local\\Packages\\PythonSoftwareFoundation.Python.3.11_qbz5n2kfra8p0\\LocalCache\\local-packages\\Python311\\site-packages\\keras\\src\\layers\\core\\dense.py:87: UserWarning: Do not pass an `input_shape`/`input_dim` argument to a layer. When using Sequential models, prefer using an `Input(shape)` object as the first layer in the model instead.\n",
      "  super().__init__(activity_regularizer=activity_regularizer, **kwargs)\n",
      "C:\\Users\\maxd2\\AppData\\Local\\Packages\\PythonSoftwareFoundation.Python.3.11_qbz5n2kfra8p0\\LocalCache\\local-packages\\Python311\\site-packages\\keras\\src\\layers\\core\\dense.py:87: UserWarning: Do not pass an `input_shape`/`input_dim` argument to a layer. When using Sequential models, prefer using an `Input(shape)` object as the first layer in the model instead.\n",
      "  super().__init__(activity_regularizer=activity_regularizer, **kwargs)\n",
      "C:\\Users\\maxd2\\AppData\\Local\\Packages\\PythonSoftwareFoundation.Python.3.11_qbz5n2kfra8p0\\LocalCache\\local-packages\\Python311\\site-packages\\keras\\src\\layers\\core\\dense.py:87: UserWarning: Do not pass an `input_shape`/`input_dim` argument to a layer. When using Sequential models, prefer using an `Input(shape)` object as the first layer in the model instead.\n",
      "  super().__init__(activity_regularizer=activity_regularizer, **kwargs)\n",
      "C:\\Users\\maxd2\\AppData\\Local\\Packages\\PythonSoftwareFoundation.Python.3.11_qbz5n2kfra8p0\\LocalCache\\local-packages\\Python311\\site-packages\\keras\\src\\layers\\core\\dense.py:87: UserWarning: Do not pass an `input_shape`/`input_dim` argument to a layer. When using Sequential models, prefer using an `Input(shape)` object as the first layer in the model instead.\n",
      "  super().__init__(activity_regularizer=activity_regularizer, **kwargs)\n"
     ]
    },
    {
     "name": "stdout",
     "output_type": "stream",
     "text": [
      "Mean Validation Loss: 8.822166156768798\n",
      "Testing with L2: 0.08, LR: 0.002, Patience: 72, Batch size: 32\n"
     ]
    },
    {
     "name": "stderr",
     "output_type": "stream",
     "text": [
      "C:\\Users\\maxd2\\AppData\\Local\\Packages\\PythonSoftwareFoundation.Python.3.11_qbz5n2kfra8p0\\LocalCache\\local-packages\\Python311\\site-packages\\keras\\src\\layers\\core\\dense.py:87: UserWarning: Do not pass an `input_shape`/`input_dim` argument to a layer. When using Sequential models, prefer using an `Input(shape)` object as the first layer in the model instead.\n",
      "  super().__init__(activity_regularizer=activity_regularizer, **kwargs)\n",
      "C:\\Users\\maxd2\\AppData\\Local\\Packages\\PythonSoftwareFoundation.Python.3.11_qbz5n2kfra8p0\\LocalCache\\local-packages\\Python311\\site-packages\\keras\\src\\layers\\core\\dense.py:87: UserWarning: Do not pass an `input_shape`/`input_dim` argument to a layer. When using Sequential models, prefer using an `Input(shape)` object as the first layer in the model instead.\n",
      "  super().__init__(activity_regularizer=activity_regularizer, **kwargs)\n",
      "C:\\Users\\maxd2\\AppData\\Local\\Packages\\PythonSoftwareFoundation.Python.3.11_qbz5n2kfra8p0\\LocalCache\\local-packages\\Python311\\site-packages\\keras\\src\\layers\\core\\dense.py:87: UserWarning: Do not pass an `input_shape`/`input_dim` argument to a layer. When using Sequential models, prefer using an `Input(shape)` object as the first layer in the model instead.\n",
      "  super().__init__(activity_regularizer=activity_regularizer, **kwargs)\n",
      "C:\\Users\\maxd2\\AppData\\Local\\Packages\\PythonSoftwareFoundation.Python.3.11_qbz5n2kfra8p0\\LocalCache\\local-packages\\Python311\\site-packages\\keras\\src\\layers\\core\\dense.py:87: UserWarning: Do not pass an `input_shape`/`input_dim` argument to a layer. When using Sequential models, prefer using an `Input(shape)` object as the first layer in the model instead.\n",
      "  super().__init__(activity_regularizer=activity_regularizer, **kwargs)\n",
      "C:\\Users\\maxd2\\AppData\\Local\\Packages\\PythonSoftwareFoundation.Python.3.11_qbz5n2kfra8p0\\LocalCache\\local-packages\\Python311\\site-packages\\keras\\src\\layers\\core\\dense.py:87: UserWarning: Do not pass an `input_shape`/`input_dim` argument to a layer. When using Sequential models, prefer using an `Input(shape)` object as the first layer in the model instead.\n",
      "  super().__init__(activity_regularizer=activity_regularizer, **kwargs)\n"
     ]
    },
    {
     "name": "stdout",
     "output_type": "stream",
     "text": [
      "Mean Validation Loss: 9.56208324432373\n",
      "Testing with L2: 0.08, LR: 0.004, Patience: 72, Batch size: 32\n"
     ]
    },
    {
     "name": "stderr",
     "output_type": "stream",
     "text": [
      "C:\\Users\\maxd2\\AppData\\Local\\Packages\\PythonSoftwareFoundation.Python.3.11_qbz5n2kfra8p0\\LocalCache\\local-packages\\Python311\\site-packages\\keras\\src\\layers\\core\\dense.py:87: UserWarning: Do not pass an `input_shape`/`input_dim` argument to a layer. When using Sequential models, prefer using an `Input(shape)` object as the first layer in the model instead.\n",
      "  super().__init__(activity_regularizer=activity_regularizer, **kwargs)\n",
      "C:\\Users\\maxd2\\AppData\\Local\\Packages\\PythonSoftwareFoundation.Python.3.11_qbz5n2kfra8p0\\LocalCache\\local-packages\\Python311\\site-packages\\keras\\src\\layers\\core\\dense.py:87: UserWarning: Do not pass an `input_shape`/`input_dim` argument to a layer. When using Sequential models, prefer using an `Input(shape)` object as the first layer in the model instead.\n",
      "  super().__init__(activity_regularizer=activity_regularizer, **kwargs)\n",
      "C:\\Users\\maxd2\\AppData\\Local\\Packages\\PythonSoftwareFoundation.Python.3.11_qbz5n2kfra8p0\\LocalCache\\local-packages\\Python311\\site-packages\\keras\\src\\layers\\core\\dense.py:87: UserWarning: Do not pass an `input_shape`/`input_dim` argument to a layer. When using Sequential models, prefer using an `Input(shape)` object as the first layer in the model instead.\n",
      "  super().__init__(activity_regularizer=activity_regularizer, **kwargs)\n",
      "C:\\Users\\maxd2\\AppData\\Local\\Packages\\PythonSoftwareFoundation.Python.3.11_qbz5n2kfra8p0\\LocalCache\\local-packages\\Python311\\site-packages\\keras\\src\\layers\\core\\dense.py:87: UserWarning: Do not pass an `input_shape`/`input_dim` argument to a layer. When using Sequential models, prefer using an `Input(shape)` object as the first layer in the model instead.\n",
      "  super().__init__(activity_regularizer=activity_regularizer, **kwargs)\n",
      "C:\\Users\\maxd2\\AppData\\Local\\Packages\\PythonSoftwareFoundation.Python.3.11_qbz5n2kfra8p0\\LocalCache\\local-packages\\Python311\\site-packages\\keras\\src\\layers\\core\\dense.py:87: UserWarning: Do not pass an `input_shape`/`input_dim` argument to a layer. When using Sequential models, prefer using an `Input(shape)` object as the first layer in the model instead.\n",
      "  super().__init__(activity_regularizer=activity_regularizer, **kwargs)\n"
     ]
    },
    {
     "name": "stdout",
     "output_type": "stream",
     "text": [
      "Mean Validation Loss: 10.337921237945556\n",
      "Testing with L2: 0.08, LR: 0.006, Patience: 72, Batch size: 32\n"
     ]
    },
    {
     "name": "stderr",
     "output_type": "stream",
     "text": [
      "C:\\Users\\maxd2\\AppData\\Local\\Packages\\PythonSoftwareFoundation.Python.3.11_qbz5n2kfra8p0\\LocalCache\\local-packages\\Python311\\site-packages\\keras\\src\\layers\\core\\dense.py:87: UserWarning: Do not pass an `input_shape`/`input_dim` argument to a layer. When using Sequential models, prefer using an `Input(shape)` object as the first layer in the model instead.\n",
      "  super().__init__(activity_regularizer=activity_regularizer, **kwargs)\n",
      "C:\\Users\\maxd2\\AppData\\Local\\Packages\\PythonSoftwareFoundation.Python.3.11_qbz5n2kfra8p0\\LocalCache\\local-packages\\Python311\\site-packages\\keras\\src\\layers\\core\\dense.py:87: UserWarning: Do not pass an `input_shape`/`input_dim` argument to a layer. When using Sequential models, prefer using an `Input(shape)` object as the first layer in the model instead.\n",
      "  super().__init__(activity_regularizer=activity_regularizer, **kwargs)\n",
      "C:\\Users\\maxd2\\AppData\\Local\\Packages\\PythonSoftwareFoundation.Python.3.11_qbz5n2kfra8p0\\LocalCache\\local-packages\\Python311\\site-packages\\keras\\src\\layers\\core\\dense.py:87: UserWarning: Do not pass an `input_shape`/`input_dim` argument to a layer. When using Sequential models, prefer using an `Input(shape)` object as the first layer in the model instead.\n",
      "  super().__init__(activity_regularizer=activity_regularizer, **kwargs)\n",
      "C:\\Users\\maxd2\\AppData\\Local\\Packages\\PythonSoftwareFoundation.Python.3.11_qbz5n2kfra8p0\\LocalCache\\local-packages\\Python311\\site-packages\\keras\\src\\layers\\core\\dense.py:87: UserWarning: Do not pass an `input_shape`/`input_dim` argument to a layer. When using Sequential models, prefer using an `Input(shape)` object as the first layer in the model instead.\n",
      "  super().__init__(activity_regularizer=activity_regularizer, **kwargs)\n",
      "C:\\Users\\maxd2\\AppData\\Local\\Packages\\PythonSoftwareFoundation.Python.3.11_qbz5n2kfra8p0\\LocalCache\\local-packages\\Python311\\site-packages\\keras\\src\\layers\\core\\dense.py:87: UserWarning: Do not pass an `input_shape`/`input_dim` argument to a layer. When using Sequential models, prefer using an `Input(shape)` object as the first layer in the model instead.\n",
      "  super().__init__(activity_regularizer=activity_regularizer, **kwargs)\n"
     ]
    },
    {
     "name": "stdout",
     "output_type": "stream",
     "text": [
      "Mean Validation Loss: 10.619470310211181\n",
      "Testing with L2: 0.08, LR: 0.008, Patience: 72, Batch size: 32\n"
     ]
    },
    {
     "name": "stderr",
     "output_type": "stream",
     "text": [
      "C:\\Users\\maxd2\\AppData\\Local\\Packages\\PythonSoftwareFoundation.Python.3.11_qbz5n2kfra8p0\\LocalCache\\local-packages\\Python311\\site-packages\\keras\\src\\layers\\core\\dense.py:87: UserWarning: Do not pass an `input_shape`/`input_dim` argument to a layer. When using Sequential models, prefer using an `Input(shape)` object as the first layer in the model instead.\n",
      "  super().__init__(activity_regularizer=activity_regularizer, **kwargs)\n",
      "C:\\Users\\maxd2\\AppData\\Local\\Packages\\PythonSoftwareFoundation.Python.3.11_qbz5n2kfra8p0\\LocalCache\\local-packages\\Python311\\site-packages\\keras\\src\\layers\\core\\dense.py:87: UserWarning: Do not pass an `input_shape`/`input_dim` argument to a layer. When using Sequential models, prefer using an `Input(shape)` object as the first layer in the model instead.\n",
      "  super().__init__(activity_regularizer=activity_regularizer, **kwargs)\n",
      "C:\\Users\\maxd2\\AppData\\Local\\Packages\\PythonSoftwareFoundation.Python.3.11_qbz5n2kfra8p0\\LocalCache\\local-packages\\Python311\\site-packages\\keras\\src\\layers\\core\\dense.py:87: UserWarning: Do not pass an `input_shape`/`input_dim` argument to a layer. When using Sequential models, prefer using an `Input(shape)` object as the first layer in the model instead.\n",
      "  super().__init__(activity_regularizer=activity_regularizer, **kwargs)\n",
      "C:\\Users\\maxd2\\AppData\\Local\\Packages\\PythonSoftwareFoundation.Python.3.11_qbz5n2kfra8p0\\LocalCache\\local-packages\\Python311\\site-packages\\keras\\src\\layers\\core\\dense.py:87: UserWarning: Do not pass an `input_shape`/`input_dim` argument to a layer. When using Sequential models, prefer using an `Input(shape)` object as the first layer in the model instead.\n",
      "  super().__init__(activity_regularizer=activity_regularizer, **kwargs)\n",
      "C:\\Users\\maxd2\\AppData\\Local\\Packages\\PythonSoftwareFoundation.Python.3.11_qbz5n2kfra8p0\\LocalCache\\local-packages\\Python311\\site-packages\\keras\\src\\layers\\core\\dense.py:87: UserWarning: Do not pass an `input_shape`/`input_dim` argument to a layer. When using Sequential models, prefer using an `Input(shape)` object as the first layer in the model instead.\n",
      "  super().__init__(activity_regularizer=activity_regularizer, **kwargs)\n"
     ]
    },
    {
     "name": "stdout",
     "output_type": "stream",
     "text": [
      "Mean Validation Loss: 11.099500751495361\n",
      "Best Hyperparameters:\n",
      "{'l2': 0.05, 'learning_rate': 0.002, 'patience': 72, 'batch_size': 32}\n",
      "Best Loss: 7.993391418457032\n",
      "Epoch 1/800\n"
     ]
    },
    {
     "name": "stderr",
     "output_type": "stream",
     "text": [
      "C:\\Users\\maxd2\\AppData\\Local\\Packages\\PythonSoftwareFoundation.Python.3.11_qbz5n2kfra8p0\\LocalCache\\local-packages\\Python311\\site-packages\\keras\\src\\layers\\core\\dense.py:87: UserWarning: Do not pass an `input_shape`/`input_dim` argument to a layer. When using Sequential models, prefer using an `Input(shape)` object as the first layer in the model instead.\n",
      "  super().__init__(activity_regularizer=activity_regularizer, **kwargs)\n"
     ]
    },
    {
     "name": "stdout",
     "output_type": "stream",
     "text": [
      "\u001b[1m639/639\u001b[0m \u001b[32m━━━━━━━━━━━━━━━━━━━━\u001b[0m\u001b[37m\u001b[0m \u001b[1m4s\u001b[0m 4ms/step - loss: 35.8918 - mae: 3.3866 - mse: 25.5044 - val_loss: 11.7940 - val_mae: 2.2392 - val_mse: 8.2275\n",
      "Epoch 2/800\n",
      "\u001b[1m639/639\u001b[0m \u001b[32m━━━━━━━━━━━━━━━━━━━━\u001b[0m\u001b[37m\u001b[0m \u001b[1m2s\u001b[0m 3ms/step - loss: 15.5433 - mae: 2.4308 - mse: 12.4879 - val_loss: 9.5969 - val_mae: 2.1894 - val_mse: 7.5981\n",
      "Epoch 3/800\n",
      "\u001b[1m639/639\u001b[0m \u001b[32m━━━━━━━━━━━━━━━━━━━━\u001b[0m\u001b[37m\u001b[0m \u001b[1m2s\u001b[0m 3ms/step - loss: 13.2404 - mae: 2.2800 - mse: 11.3319 - val_loss: 8.2532 - val_mae: 1.9274 - val_mse: 6.6347\n",
      "Epoch 4/800\n",
      "\u001b[1m639/639\u001b[0m \u001b[32m━━━━━━━━━━━━━━━━━━━━\u001b[0m\u001b[37m\u001b[0m \u001b[1m2s\u001b[0m 3ms/step - loss: 10.5298 - mae: 2.0949 - mse: 9.0086 - val_loss: 8.9416 - val_mae: 2.0481 - val_mse: 7.1751\n",
      "Epoch 5/800\n",
      "\u001b[1m639/639\u001b[0m \u001b[32m━━━━━━━━━━━━━━━━━━━━\u001b[0m\u001b[37m\u001b[0m \u001b[1m2s\u001b[0m 3ms/step - loss: 13.3247 - mae: 2.2140 - mse: 11.6415 - val_loss: 6.4943 - val_mae: 1.6389 - val_mse: 5.0972\n",
      "Epoch 6/800\n",
      "\u001b[1m639/639\u001b[0m \u001b[32m━━━━━━━━━━━━━━━━━━━━\u001b[0m\u001b[37m\u001b[0m \u001b[1m2s\u001b[0m 3ms/step - loss: 10.0102 - mae: 1.9938 - mse: 8.6835 - val_loss: 9.4894 - val_mae: 2.1987 - val_mse: 8.2778\n",
      "Epoch 7/800\n",
      "\u001b[1m639/639\u001b[0m \u001b[32m━━━━━━━━━━━━━━━━━━━━\u001b[0m\u001b[37m\u001b[0m \u001b[1m2s\u001b[0m 3ms/step - loss: 10.5651 - mae: 2.0407 - mse: 9.3572 - val_loss: 7.8338 - val_mae: 1.8817 - val_mse: 6.6332\n",
      "Epoch 8/800\n",
      "\u001b[1m639/639\u001b[0m \u001b[32m━━━━━━━━━━━━━━━━━━━━\u001b[0m\u001b[37m\u001b[0m \u001b[1m2s\u001b[0m 3ms/step - loss: 10.9811 - mae: 2.0555 - mse: 9.7182 - val_loss: 9.9658 - val_mae: 2.2065 - val_mse: 8.7561\n",
      "Epoch 9/800\n",
      "\u001b[1m639/639\u001b[0m \u001b[32m━━━━━━━━━━━━━━━━━━━━\u001b[0m\u001b[37m\u001b[0m \u001b[1m2s\u001b[0m 3ms/step - loss: 10.4728 - mae: 2.0098 - mse: 9.2692 - val_loss: 7.6172 - val_mae: 1.8964 - val_mse: 6.3050\n",
      "Epoch 10/800\n",
      "\u001b[1m639/639\u001b[0m \u001b[32m━━━━━━━━━━━━━━━━━━━━\u001b[0m\u001b[37m\u001b[0m \u001b[1m2s\u001b[0m 3ms/step - loss: 10.9309 - mae: 1.9521 - mse: 9.6605 - val_loss: 10.0364 - val_mae: 2.2808 - val_mse: 8.8274\n",
      "Epoch 11/800\n",
      "\u001b[1m639/639\u001b[0m \u001b[32m━━━━━━━━━━━━━━━━━━━━\u001b[0m\u001b[37m\u001b[0m \u001b[1m2s\u001b[0m 3ms/step - loss: 9.0240 - mae: 1.9047 - mse: 7.8313 - val_loss: 9.6385 - val_mae: 2.1796 - val_mse: 8.2871\n",
      "Epoch 12/800\n",
      "\u001b[1m639/639\u001b[0m \u001b[32m━━━━━━━━━━━━━━━━━━━━\u001b[0m\u001b[37m\u001b[0m \u001b[1m2s\u001b[0m 3ms/step - loss: 9.4782 - mae: 1.8812 - mse: 8.2232 - val_loss: 9.3359 - val_mae: 2.1643 - val_mse: 8.3076\n",
      "Epoch 13/800\n",
      "\u001b[1m639/639\u001b[0m \u001b[32m━━━━━━━━━━━━━━━━━━━━\u001b[0m\u001b[37m\u001b[0m \u001b[1m2s\u001b[0m 3ms/step - loss: 10.4825 - mae: 1.9033 - mse: 9.3415 - val_loss: 7.8568 - val_mae: 1.8883 - val_mse: 6.5739\n",
      "Epoch 14/800\n",
      "\u001b[1m639/639\u001b[0m \u001b[32m━━━━━━━━━━━━━━━━━━━━\u001b[0m\u001b[37m\u001b[0m \u001b[1m2s\u001b[0m 3ms/step - loss: 8.9603 - mae: 1.8509 - mse: 7.7198 - val_loss: 8.9873 - val_mae: 2.1111 - val_mse: 7.8359\n",
      "Epoch 15/800\n",
      "\u001b[1m639/639\u001b[0m \u001b[32m━━━━━━━━━━━━━━━━━━━━\u001b[0m\u001b[37m\u001b[0m \u001b[1m2s\u001b[0m 3ms/step - loss: 8.9157 - mae: 1.8006 - mse: 7.7791 - val_loss: 9.1462 - val_mae: 2.1216 - val_mse: 8.0072\n",
      "Epoch 16/800\n",
      "\u001b[1m639/639\u001b[0m \u001b[32m━━━━━━━━━━━━━━━━━━━━\u001b[0m\u001b[37m\u001b[0m \u001b[1m2s\u001b[0m 3ms/step - loss: 11.3943 - mae: 1.8826 - mse: 10.1999 - val_loss: 9.4181 - val_mae: 2.1822 - val_mse: 8.2346\n",
      "Epoch 17/800\n",
      "\u001b[1m639/639\u001b[0m \u001b[32m━━━━━━━━━━━━━━━━━━━━\u001b[0m\u001b[37m\u001b[0m \u001b[1m2s\u001b[0m 3ms/step - loss: 8.9639 - mae: 1.7698 - mse: 7.7126 - val_loss: 12.0047 - val_mae: 2.4662 - val_mse: 10.6479\n",
      "Epoch 18/800\n",
      "\u001b[1m639/639\u001b[0m \u001b[32m━━━━━━━━━━━━━━━━━━━━\u001b[0m\u001b[37m\u001b[0m \u001b[1m2s\u001b[0m 3ms/step - loss: 8.9575 - mae: 1.8336 - mse: 7.6961 - val_loss: 10.8967 - val_mae: 2.3341 - val_mse: 9.6268\n",
      "Epoch 19/800\n",
      "\u001b[1m639/639\u001b[0m \u001b[32m━━━━━━━━━━━━━━━━━━━━\u001b[0m\u001b[37m\u001b[0m \u001b[1m2s\u001b[0m 3ms/step - loss: 10.6003 - mae: 1.8745 - mse: 9.3709 - val_loss: 9.1342 - val_mae: 2.1014 - val_mse: 7.9143\n",
      "Epoch 20/800\n",
      "\u001b[1m639/639\u001b[0m \u001b[32m━━━━━━━━━━━━━━━━━━━━\u001b[0m\u001b[37m\u001b[0m \u001b[1m2s\u001b[0m 3ms/step - loss: 9.8946 - mae: 1.7653 - mse: 8.7497 - val_loss: 8.2921 - val_mae: 1.9764 - val_mse: 7.1999\n",
      "Epoch 21/800\n",
      "\u001b[1m639/639\u001b[0m \u001b[32m━━━━━━━━━━━━━━━━━━━━\u001b[0m\u001b[37m\u001b[0m \u001b[1m2s\u001b[0m 4ms/step - loss: 8.1542 - mae: 1.7437 - mse: 7.0585 - val_loss: 9.7289 - val_mae: 2.1656 - val_mse: 8.5177\n",
      "Epoch 22/800\n",
      "\u001b[1m639/639\u001b[0m \u001b[32m━━━━━━━━━━━━━━━━━━━━\u001b[0m\u001b[37m\u001b[0m \u001b[1m2s\u001b[0m 3ms/step - loss: 10.6638 - mae: 1.8880 - mse: 9.4901 - val_loss: 9.0733 - val_mae: 2.1315 - val_mse: 7.9889\n",
      "Epoch 23/800\n",
      "\u001b[1m639/639\u001b[0m \u001b[32m━━━━━━━━━━━━━━━━━━━━\u001b[0m\u001b[37m\u001b[0m \u001b[1m2s\u001b[0m 3ms/step - loss: 9.1600 - mae: 1.8006 - mse: 8.0656 - val_loss: 7.1108 - val_mae: 1.8302 - val_mse: 5.9004\n",
      "Epoch 24/800\n",
      "\u001b[1m639/639\u001b[0m \u001b[32m━━━━━━━━━━━━━━━━━━━━\u001b[0m\u001b[37m\u001b[0m \u001b[1m2s\u001b[0m 3ms/step - loss: 9.8106 - mae: 1.8958 - mse: 8.5530 - val_loss: 9.2469 - val_mae: 2.1038 - val_mse: 8.1049\n",
      "Epoch 25/800\n",
      "\u001b[1m639/639\u001b[0m \u001b[32m━━━━━━━━━━━━━━━━━━━━\u001b[0m\u001b[37m\u001b[0m \u001b[1m2s\u001b[0m 3ms/step - loss: 8.3646 - mae: 1.7351 - mse: 7.1695 - val_loss: 10.1660 - val_mae: 2.2003 - val_mse: 8.7020\n",
      "Epoch 26/800\n",
      "\u001b[1m639/639\u001b[0m \u001b[32m━━━━━━━━━━━━━━━━━━━━\u001b[0m\u001b[37m\u001b[0m \u001b[1m2s\u001b[0m 3ms/step - loss: 8.8528 - mae: 1.7764 - mse: 7.5568 - val_loss: 9.1240 - val_mae: 2.0509 - val_mse: 7.8128\n",
      "Epoch 27/800\n",
      "\u001b[1m639/639\u001b[0m \u001b[32m━━━━━━━━━━━━━━━━━━━━\u001b[0m\u001b[37m\u001b[0m \u001b[1m2s\u001b[0m 4ms/step - loss: 8.7674 - mae: 1.7648 - mse: 7.5247 - val_loss: 12.7821 - val_mae: 2.5387 - val_mse: 11.3936\n",
      "Epoch 28/800\n",
      "\u001b[1m639/639\u001b[0m \u001b[32m━━━━━━━━━━━━━━━━━━━━\u001b[0m\u001b[37m\u001b[0m \u001b[1m2s\u001b[0m 3ms/step - loss: 10.0060 - mae: 1.8327 - mse: 8.5723 - val_loss: 8.2533 - val_mae: 1.9921 - val_mse: 7.0887\n",
      "Epoch 29/800\n",
      "\u001b[1m639/639\u001b[0m \u001b[32m━━━━━━━━━━━━━━━━━━━━\u001b[0m\u001b[37m\u001b[0m \u001b[1m2s\u001b[0m 3ms/step - loss: 7.8501 - mae: 1.7174 - mse: 6.7399 - val_loss: 8.6235 - val_mae: 1.9971 - val_mse: 7.3961\n",
      "Epoch 30/800\n",
      "\u001b[1m639/639\u001b[0m \u001b[32m━━━━━━━━━━━━━━━━━━━━\u001b[0m\u001b[37m\u001b[0m \u001b[1m2s\u001b[0m 3ms/step - loss: 8.8388 - mae: 1.7756 - mse: 7.4842 - val_loss: 10.1364 - val_mae: 2.1506 - val_mse: 8.4509\n",
      "Epoch 31/800\n",
      "\u001b[1m639/639\u001b[0m \u001b[32m━━━━━━━━━━━━━━━━━━━━\u001b[0m\u001b[37m\u001b[0m \u001b[1m2s\u001b[0m 3ms/step - loss: 8.4996 - mae: 1.7851 - mse: 6.9582 - val_loss: 8.9173 - val_mae: 2.0498 - val_mse: 7.6748\n",
      "Epoch 32/800\n",
      "\u001b[1m639/639\u001b[0m \u001b[32m━━━━━━━━━━━━━━━━━━━━\u001b[0m\u001b[37m\u001b[0m \u001b[1m2s\u001b[0m 3ms/step - loss: 11.2634 - mae: 1.7942 - mse: 10.0436 - val_loss: 8.9311 - val_mae: 2.0398 - val_mse: 7.7632\n",
      "Epoch 33/800\n",
      "\u001b[1m639/639\u001b[0m \u001b[32m━━━━━━━━━━━━━━━━━━━━\u001b[0m\u001b[37m\u001b[0m \u001b[1m2s\u001b[0m 3ms/step - loss: 8.1990 - mae: 1.7626 - mse: 7.0809 - val_loss: 8.4421 - val_mae: 1.9841 - val_mse: 7.3144\n",
      "Epoch 34/800\n",
      "\u001b[1m639/639\u001b[0m \u001b[32m━━━━━━━━━━━━━━━━━━━━\u001b[0m\u001b[37m\u001b[0m \u001b[1m2s\u001b[0m 3ms/step - loss: 8.1174 - mae: 1.7647 - mse: 6.9969 - val_loss: 8.1437 - val_mae: 1.9597 - val_mse: 6.8274\n",
      "Epoch 35/800\n",
      "\u001b[1m639/639\u001b[0m \u001b[32m━━━━━━━━━━━━━━━━━━━━\u001b[0m\u001b[37m\u001b[0m \u001b[1m2s\u001b[0m 3ms/step - loss: 10.2336 - mae: 1.8671 - mse: 8.8082 - val_loss: 8.2971 - val_mae: 1.9932 - val_mse: 7.1923\n",
      "Epoch 36/800\n",
      "\u001b[1m639/639\u001b[0m \u001b[32m━━━━━━━━━━━━━━━━━━━━\u001b[0m\u001b[37m\u001b[0m \u001b[1m2s\u001b[0m 3ms/step - loss: 8.3325 - mae: 1.7623 - mse: 7.1079 - val_loss: 8.6413 - val_mae: 2.0026 - val_mse: 7.2836\n",
      "Epoch 37/800\n",
      "\u001b[1m639/639\u001b[0m \u001b[32m━━━━━━━━━━━━━━━━━━━━\u001b[0m\u001b[37m\u001b[0m \u001b[1m2s\u001b[0m 3ms/step - loss: 9.0945 - mae: 1.7980 - mse: 7.6454 - val_loss: 8.7668 - val_mae: 2.0053 - val_mse: 7.4708\n",
      "Epoch 38/800\n",
      "\u001b[1m639/639\u001b[0m \u001b[32m━━━━━━━━━━━━━━━━━━━━\u001b[0m\u001b[37m\u001b[0m \u001b[1m2s\u001b[0m 3ms/step - loss: 10.7356 - mae: 1.8280 - mse: 9.4932 - val_loss: 8.5741 - val_mae: 2.0270 - val_mse: 7.4884\n",
      "Epoch 39/800\n",
      "\u001b[1m639/639\u001b[0m \u001b[32m━━━━━━━━━━━━━━━━━━━━\u001b[0m\u001b[37m\u001b[0m \u001b[1m2s\u001b[0m 3ms/step - loss: 7.4388 - mae: 1.6788 - mse: 6.3574 - val_loss: 7.5290 - val_mae: 1.8356 - val_mse: 6.3135\n",
      "Epoch 40/800\n",
      "\u001b[1m639/639\u001b[0m \u001b[32m━━━━━━━━━━━━━━━━━━━━\u001b[0m\u001b[37m\u001b[0m \u001b[1m2s\u001b[0m 3ms/step - loss: 8.8247 - mae: 1.7353 - mse: 7.5890 - val_loss: 9.1333 - val_mae: 2.0945 - val_mse: 7.8527\n",
      "Epoch 41/800\n",
      "\u001b[1m639/639\u001b[0m \u001b[32m━━━━━━━━━━━━━━━━━━━━\u001b[0m\u001b[37m\u001b[0m \u001b[1m2s\u001b[0m 3ms/step - loss: 9.5742 - mae: 1.7924 - mse: 8.2508 - val_loss: 9.7722 - val_mae: 2.1699 - val_mse: 8.5947\n",
      "Epoch 42/800\n",
      "\u001b[1m639/639\u001b[0m \u001b[32m━━━━━━━━━━━━━━━━━━━━\u001b[0m\u001b[37m\u001b[0m \u001b[1m2s\u001b[0m 4ms/step - loss: 8.9854 - mae: 1.7843 - mse: 7.7708 - val_loss: 8.2655 - val_mae: 1.9713 - val_mse: 7.0556\n",
      "Epoch 43/800\n",
      "\u001b[1m639/639\u001b[0m \u001b[32m━━━━━━━━━━━━━━━━━━━━\u001b[0m\u001b[37m\u001b[0m \u001b[1m2s\u001b[0m 3ms/step - loss: 8.4794 - mae: 1.8069 - mse: 7.2243 - val_loss: 9.7711 - val_mae: 2.1918 - val_mse: 8.1881\n",
      "Epoch 44/800\n",
      "\u001b[1m639/639\u001b[0m \u001b[32m━━━━━━━━━━━━━━━━━━━━\u001b[0m\u001b[37m\u001b[0m \u001b[1m2s\u001b[0m 3ms/step - loss: 9.6535 - mae: 1.8311 - mse: 8.1669 - val_loss: 8.3461 - val_mae: 1.9576 - val_mse: 7.1315\n",
      "Epoch 45/800\n",
      "\u001b[1m639/639\u001b[0m \u001b[32m━━━━━━━━━━━━━━━━━━━━\u001b[0m\u001b[37m\u001b[0m \u001b[1m2s\u001b[0m 3ms/step - loss: 9.4954 - mae: 1.7405 - mse: 8.2992 - val_loss: 8.1155 - val_mae: 1.9280 - val_mse: 6.9311\n",
      "Epoch 46/800\n",
      "\u001b[1m639/639\u001b[0m \u001b[32m━━━━━━━━━━━━━━━━━━━━\u001b[0m\u001b[37m\u001b[0m \u001b[1m2s\u001b[0m 4ms/step - loss: 7.9335 - mae: 1.7355 - mse: 6.7928 - val_loss: 10.6710 - val_mae: 2.1751 - val_mse: 8.4332\n",
      "Epoch 47/800\n",
      "\u001b[1m639/639\u001b[0m \u001b[32m━━━━━━━━━━━━━━━━━━━━\u001b[0m\u001b[37m\u001b[0m \u001b[1m2s\u001b[0m 3ms/step - loss: 10.1305 - mae: 1.8431 - mse: 8.3989 - val_loss: 10.3153 - val_mae: 2.2006 - val_mse: 9.1598\n",
      "Epoch 48/800\n",
      "\u001b[1m639/639\u001b[0m \u001b[32m━━━━━━━━━━━━━━━━━━━━\u001b[0m\u001b[37m\u001b[0m \u001b[1m2s\u001b[0m 3ms/step - loss: 8.3642 - mae: 1.7459 - mse: 7.2304 - val_loss: 8.2135 - val_mae: 1.9730 - val_mse: 7.1345\n",
      "Epoch 49/800\n",
      "\u001b[1m639/639\u001b[0m \u001b[32m━━━━━━━━━━━━━━━━━━━━\u001b[0m\u001b[37m\u001b[0m \u001b[1m2s\u001b[0m 3ms/step - loss: 7.6310 - mae: 1.7137 - mse: 6.5512 - val_loss: 7.0595 - val_mae: 1.7606 - val_mse: 5.8803\n",
      "Epoch 50/800\n",
      "\u001b[1m639/639\u001b[0m \u001b[32m━━━━━━━━━━━━━━━━━━━━\u001b[0m\u001b[37m\u001b[0m \u001b[1m2s\u001b[0m 3ms/step - loss: 9.6733 - mae: 1.7700 - mse: 8.5464 - val_loss: 8.5649 - val_mae: 2.0009 - val_mse: 7.2662\n",
      "Epoch 51/800\n",
      "\u001b[1m639/639\u001b[0m \u001b[32m━━━━━━━━━━━━━━━━━━━━\u001b[0m\u001b[37m\u001b[0m \u001b[1m2s\u001b[0m 3ms/step - loss: 8.4318 - mae: 1.7391 - mse: 7.2347 - val_loss: 8.2199 - val_mae: 1.9265 - val_mse: 6.9621\n",
      "Epoch 52/800\n",
      "\u001b[1m639/639\u001b[0m \u001b[32m━━━━━━━━━━━━━━━━━━━━\u001b[0m\u001b[37m\u001b[0m \u001b[1m2s\u001b[0m 3ms/step - loss: 9.1248 - mae: 1.7726 - mse: 7.9570 - val_loss: 8.0546 - val_mae: 1.9331 - val_mse: 6.8638\n",
      "Epoch 53/800\n",
      "\u001b[1m639/639\u001b[0m \u001b[32m━━━━━━━━━━━━━━━━━━━━\u001b[0m\u001b[37m\u001b[0m \u001b[1m2s\u001b[0m 3ms/step - loss: 8.8027 - mae: 1.7918 - mse: 7.5590 - val_loss: 8.3421 - val_mae: 1.9755 - val_mse: 7.1376\n",
      "Epoch 54/800\n",
      "\u001b[1m639/639\u001b[0m \u001b[32m━━━━━━━━━━━━━━━━━━━━\u001b[0m\u001b[37m\u001b[0m \u001b[1m2s\u001b[0m 3ms/step - loss: 8.7123 - mae: 1.7693 - mse: 7.4982 - val_loss: 7.5759 - val_mae: 1.8676 - val_mse: 6.3209\n",
      "Epoch 55/800\n",
      "\u001b[1m639/639\u001b[0m \u001b[32m━━━━━━━━━━━━━━━━━━━━\u001b[0m\u001b[37m\u001b[0m \u001b[1m2s\u001b[0m 3ms/step - loss: 8.4013 - mae: 1.7263 - mse: 7.1864 - val_loss: 10.0121 - val_mae: 2.1303 - val_mse: 8.3753\n",
      "Epoch 56/800\n",
      "\u001b[1m639/639\u001b[0m \u001b[32m━━━━━━━━━━━━━━━━━━━━\u001b[0m\u001b[37m\u001b[0m \u001b[1m2s\u001b[0m 3ms/step - loss: 9.0385 - mae: 1.7460 - mse: 7.6896 - val_loss: 8.1643 - val_mae: 1.9866 - val_mse: 7.0517\n",
      "Epoch 57/800\n",
      "\u001b[1m639/639\u001b[0m \u001b[32m━━━━━━━━━━━━━━━━━━━━\u001b[0m\u001b[37m\u001b[0m \u001b[1m2s\u001b[0m 3ms/step - loss: 8.1713 - mae: 1.7382 - mse: 7.0343 - val_loss: 8.9599 - val_mae: 2.0457 - val_mse: 7.8521\n",
      "Epoch 58/800\n",
      "\u001b[1m639/639\u001b[0m \u001b[32m━━━━━━━━━━━━━━━━━━━━\u001b[0m\u001b[37m\u001b[0m \u001b[1m2s\u001b[0m 3ms/step - loss: 8.5389 - mae: 1.7585 - mse: 7.4652 - val_loss: 8.8431 - val_mae: 2.0257 - val_mse: 7.2392\n",
      "Epoch 59/800\n",
      "\u001b[1m639/639\u001b[0m \u001b[32m━━━━━━━━━━━━━━━━━━━━\u001b[0m\u001b[37m\u001b[0m \u001b[1m2s\u001b[0m 3ms/step - loss: 10.3698 - mae: 1.8391 - mse: 8.8588 - val_loss: 7.8146 - val_mae: 1.8858 - val_mse: 6.6524\n",
      "Epoch 60/800\n",
      "\u001b[1m639/639\u001b[0m \u001b[32m━━━━━━━━━━━━━━━━━━━━\u001b[0m\u001b[37m\u001b[0m \u001b[1m2s\u001b[0m 3ms/step - loss: 10.0518 - mae: 1.8214 - mse: 8.8314 - val_loss: 8.4322 - val_mae: 1.9778 - val_mse: 7.1096\n",
      "Epoch 61/800\n",
      "\u001b[1m639/639\u001b[0m \u001b[32m━━━━━━━━━━━━━━━━━━━━\u001b[0m\u001b[37m\u001b[0m \u001b[1m2s\u001b[0m 3ms/step - loss: 9.3299 - mae: 1.7870 - mse: 8.0786 - val_loss: 7.0103 - val_mae: 1.7973 - val_mse: 5.8381\n",
      "Epoch 62/800\n",
      "\u001b[1m639/639\u001b[0m \u001b[32m━━━━━━━━━━━━━━━━━━━━\u001b[0m\u001b[37m\u001b[0m \u001b[1m2s\u001b[0m 3ms/step - loss: 8.1609 - mae: 1.7472 - mse: 6.9843 - val_loss: 7.2765 - val_mae: 1.7888 - val_mse: 6.0914\n",
      "Epoch 63/800\n",
      "\u001b[1m639/639\u001b[0m \u001b[32m━━━━━━━━━━━━━━━━━━━━\u001b[0m\u001b[37m\u001b[0m \u001b[1m2s\u001b[0m 3ms/step - loss: 8.8772 - mae: 1.7975 - mse: 7.6675 - val_loss: 7.8056 - val_mae: 1.8870 - val_mse: 6.4672\n",
      "Epoch 64/800\n",
      "\u001b[1m639/639\u001b[0m \u001b[32m━━━━━━━━━━━━━━━━━━━━\u001b[0m\u001b[37m\u001b[0m \u001b[1m2s\u001b[0m 3ms/step - loss: 8.2642 - mae: 1.7334 - mse: 7.0323 - val_loss: 6.8812 - val_mae: 1.7040 - val_mse: 5.5558\n",
      "Epoch 65/800\n",
      "\u001b[1m639/639\u001b[0m \u001b[32m━━━━━━━━━━━━━━━━━━━━\u001b[0m\u001b[37m\u001b[0m \u001b[1m2s\u001b[0m 3ms/step - loss: 9.5186 - mae: 1.7823 - mse: 8.1543 - val_loss: 7.6835 - val_mae: 1.8649 - val_mse: 6.5384\n",
      "Epoch 66/800\n",
      "\u001b[1m639/639\u001b[0m \u001b[32m━━━━━━━━━━━━━━━━━━━━\u001b[0m\u001b[37m\u001b[0m \u001b[1m2s\u001b[0m 3ms/step - loss: 9.0276 - mae: 1.7570 - mse: 7.7188 - val_loss: 8.2809 - val_mae: 2.0135 - val_mse: 7.0180\n",
      "Epoch 67/800\n",
      "\u001b[1m639/639\u001b[0m \u001b[32m━━━━━━━━━━━━━━━━━━━━\u001b[0m\u001b[37m\u001b[0m \u001b[1m2s\u001b[0m 3ms/step - loss: 9.5761 - mae: 1.7894 - mse: 8.2091 - val_loss: 7.9546 - val_mae: 1.9035 - val_mse: 6.7042\n",
      "Epoch 68/800\n",
      "\u001b[1m639/639\u001b[0m \u001b[32m━━━━━━━━━━━━━━━━━━━━\u001b[0m\u001b[37m\u001b[0m \u001b[1m2s\u001b[0m 3ms/step - loss: 8.6961 - mae: 1.7260 - mse: 7.4878 - val_loss: 8.0726 - val_mae: 1.9372 - val_mse: 6.8075\n",
      "Epoch 69/800\n",
      "\u001b[1m639/639\u001b[0m \u001b[32m━━━━━━━━━━━━━━━━━━━━\u001b[0m\u001b[37m\u001b[0m \u001b[1m2s\u001b[0m 4ms/step - loss: 8.9298 - mae: 1.7986 - mse: 7.6831 - val_loss: 7.9191 - val_mae: 1.9179 - val_mse: 6.6821\n",
      "Epoch 70/800\n",
      "\u001b[1m639/639\u001b[0m \u001b[32m━━━━━━━━━━━━━━━━━━━━\u001b[0m\u001b[37m\u001b[0m \u001b[1m2s\u001b[0m 3ms/step - loss: 9.3528 - mae: 1.7843 - mse: 8.1500 - val_loss: 7.7730 - val_mae: 1.8248 - val_mse: 6.2147\n",
      "Epoch 71/800\n",
      "\u001b[1m639/639\u001b[0m \u001b[32m━━━━━━━━━━━━━━━━━━━━\u001b[0m\u001b[37m\u001b[0m \u001b[1m2s\u001b[0m 3ms/step - loss: 8.8984 - mae: 1.7790 - mse: 7.4339 - val_loss: 7.3062 - val_mae: 1.8194 - val_mse: 6.0234\n",
      "Epoch 72/800\n",
      "\u001b[1m639/639\u001b[0m \u001b[32m━━━━━━━━━━━━━━━━━━━━\u001b[0m\u001b[37m\u001b[0m \u001b[1m2s\u001b[0m 4ms/step - loss: 8.3839 - mae: 1.7475 - mse: 7.0702 - val_loss: 7.6207 - val_mae: 1.7959 - val_mse: 6.1467\n",
      "Epoch 73/800\n",
      "\u001b[1m639/639\u001b[0m \u001b[32m━━━━━━━━━━━━━━━━━━━━\u001b[0m\u001b[37m\u001b[0m \u001b[1m2s\u001b[0m 3ms/step - loss: 9.3884 - mae: 1.8478 - mse: 7.8695 - val_loss: 7.2393 - val_mae: 1.7654 - val_mse: 5.8862\n",
      "Epoch 74/800\n",
      "\u001b[1m639/639\u001b[0m \u001b[32m━━━━━━━━━━━━━━━━━━━━\u001b[0m\u001b[37m\u001b[0m \u001b[1m2s\u001b[0m 3ms/step - loss: 9.6935 - mae: 1.7448 - mse: 8.4420 - val_loss: 7.0506 - val_mae: 1.7868 - val_mse: 5.9828\n",
      "Epoch 75/800\n",
      "\u001b[1m639/639\u001b[0m \u001b[32m━━━━━━━━━━━━━━━━━━━━\u001b[0m\u001b[37m\u001b[0m \u001b[1m2s\u001b[0m 3ms/step - loss: 8.3379 - mae: 1.7446 - mse: 7.1454 - val_loss: 8.2192 - val_mae: 2.0258 - val_mse: 7.0463\n",
      "Epoch 76/800\n",
      "\u001b[1m639/639\u001b[0m \u001b[32m━━━━━━━━━━━━━━━━━━━━\u001b[0m\u001b[37m\u001b[0m \u001b[1m2s\u001b[0m 3ms/step - loss: 8.9918 - mae: 1.7464 - mse: 7.8090 - val_loss: 7.1242 - val_mae: 1.8073 - val_mse: 5.7875\n",
      "Epoch 77/800\n",
      "\u001b[1m639/639\u001b[0m \u001b[32m━━━━━━━━━━━━━━━━━━━━\u001b[0m\u001b[37m\u001b[0m \u001b[1m2s\u001b[0m 3ms/step - loss: 9.1026 - mae: 1.7704 - mse: 7.8971 - val_loss: 7.6621 - val_mae: 1.8201 - val_mse: 6.3952\n",
      "\u001b[1m77/77\u001b[0m \u001b[32m━━━━━━━━━━━━━━━━━━━━\u001b[0m\u001b[37m\u001b[0m \u001b[1m0s\u001b[0m 2ms/step - loss: 6.2825 - mae: 1.6061 - mse: 4.8853\n",
      "Test Loss: 6.388777256011963, Test MAE: 1.6144944429397583, Test MSE: 4.9916181564331055\n"
     ]
    }
   ],
   "source": [
    "from keras.models import Sequential\n",
    "from keras.layers import Dense, Dropout\n",
    "from keras.optimizers import Adam\n",
    "from keras.regularizers import l2\n",
    "from keras.callbacks import EarlyStopping\n",
    "from sklearn.model_selection import TimeSeriesSplit\n",
    "import numpy as np\n",
    "\n",
    "# Beispiel: Zeitreihen-Daten\n",
    "n_splits = 5\n",
    "tscv = TimeSeriesSplit(n_splits=n_splits)\n",
    "\n",
    "X = pd.DataFrame(X)\n",
    "y = pd.DataFrame(y)\n",
    "\n",
    "# Hyperparameter-Suchraum\n",
    "l2_values = [0.01, 0.025, 0.05, 0.08]\n",
    "learning_rates = [0.001, 0.002, 0.004, 0.006, 0.008]\n",
    "patience_values = [72]\n",
    "batch_sizes = [32]\n",
    "\n",
    "# Ergebnis speichern\n",
    "best_params = None\n",
    "best_loss = float(\"inf\")\n",
    "\n",
    "# Schleife über den Suchraum\n",
    "for l2_value in l2_values:\n",
    "    for lr in learning_rates:\n",
    "        for patience in patience_values:\n",
    "            for batch_size in batch_sizes:\n",
    "                print(f\"Testing with L2: {l2_value}, LR: {lr}, Patience: {patience}, Batch size: {batch_size}\")\n",
    "                \n",
    "                # Cross-Validation\n",
    "                fold_losses = []\n",
    "                for train_index, val_index in tscv.split(X):\n",
    "                    X_train, X_val = X.iloc[train_index], X.iloc[val_index]\n",
    "                    y_train, y_val = y.iloc[train_index], y.iloc[val_index]\n",
    "\n",
    "                    # Modell definieren\n",
    "                    model = Sequential([\n",
    "                        Dense(512, activation='relu', input_shape=(X_train.shape[1],), kernel_regularizer=l2(l2_value)),\n",
    "                        Dropout(0.15),\n",
    "                        Dense(256, activation='relu'),\n",
    "                        Dropout(0.38),\n",
    "                        Dense(128, activation='relu'),\n",
    "                        Dense(64, activation='relu'),\n",
    "                        Dense(1, activation='relu'),\n",
    "                    ])\n",
    "                    \n",
    "                    # Optimizer und Kompilierung\n",
    "                    optimizer = Adam(learning_rate=lr)\n",
    "                    model.compile(optimizer=optimizer, loss='mean_squared_error', metrics=['mae', 'mse'])\n",
    "\n",
    "                    # Early Stopping Callback\n",
    "                    early_stopping = EarlyStopping(patience=patience, restore_best_weights=True)\n",
    "\n",
    "                    # Trainieren\n",
    "                    history = model.fit(\n",
    "                        X_train, y_train,\n",
    "                        validation_data=(X_val, y_val),\n",
    "                        epochs=800,\n",
    "                        batch_size=batch_size,\n",
    "                        callbacks=[early_stopping],\n",
    "                        verbose=0\n",
    "                    )\n",
    "\n",
    "                    # Validierungsergebnis\n",
    "                    val_loss = model.evaluate(X_val, y_val, verbose=0)[0]\n",
    "                    fold_losses.append(val_loss)\n",
    "\n",
    "                # Durchschnittlicher Loss für alle Folds\n",
    "                mean_loss = np.mean(fold_losses)\n",
    "                print(f\"Mean Validation Loss: {mean_loss}\")\n",
    "\n",
    "                # Beste Hyperparameter speichern\n",
    "                if mean_loss < best_loss:\n",
    "                    best_loss = mean_loss\n",
    "                    best_params = {\n",
    "                        'l2': l2_value,\n",
    "                        'learning_rate': lr,\n",
    "                        'patience': patience,\n",
    "                        'batch_size': batch_size\n",
    "                    }\n",
    "\n",
    "# Ergebnisse\n",
    "print(\"Best Hyperparameters:\")\n",
    "print(best_params)\n",
    "print(f\"Best Loss: {best_loss}\")\n",
    "\n",
    "# Trainieren mit den besten Hyperparametern auf Train+Validation und Test auf Testdaten\n",
    "final_model = Sequential([\n",
    "    Dense(512, activation='relu', input_shape=(X_train.shape[1],), kernel_regularizer=l2(best_params['l2'])),\n",
    "    Dropout(0.15),\n",
    "    Dense(256, activation='relu'),\n",
    "    Dropout(0.38),\n",
    "    Dense(128, activation='relu'),\n",
    "    Dense(64, activation='relu'),\n",
    "    Dense(1, activation='relu'),\n",
    "])\n",
    "\n",
    "final_optimizer = Adam(learning_rate=best_params['learning_rate'])\n",
    "final_model.compile(optimizer=final_optimizer, loss='mean_squared_error', metrics=['mae', 'mse'])\n",
    "final_early_stopping = EarlyStopping(patience=best_params['patience'], restore_best_weights=True)\n",
    "\n",
    "final_model.fit(\n",
    "    X_train, y_train,\n",
    "    validation_data=(X_val, y_val),\n",
    "    epochs=800,\n",
    "    batch_size=best_params['batch_size'],\n",
    "    callbacks=[final_early_stopping],\n",
    "    verbose=1\n",
    ")\n",
    "\n",
    "# Testdaten auswerten\n",
    "test_loss = final_model.evaluate(X_test, y_test)\n",
    "print(f\"Test Loss: {test_loss[0]}, Test MAE: {test_loss[1]}, Test MSE: {test_loss[2]}\")\n"
   ]
  },
  {
   "cell_type": "code",
   "execution_count": null,
   "metadata": {},
   "outputs": [],
   "source": []
  }
 ],
 "metadata": {
  "kernelspec": {
   "display_name": "Python 3",
   "language": "python",
   "name": "python3"
  },
  "language_info": {
   "codemirror_mode": {
    "name": "ipython",
    "version": 3
   },
   "file_extension": ".py",
   "mimetype": "text/x-python",
   "name": "python",
   "nbconvert_exporter": "python",
   "pygments_lexer": "ipython3",
   "version": "3.11.9"
  }
 },
 "nbformat": 4,
 "nbformat_minor": 2
}
