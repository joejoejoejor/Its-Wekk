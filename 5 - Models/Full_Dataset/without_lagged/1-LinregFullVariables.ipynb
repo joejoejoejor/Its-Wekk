{
 "cells": [
  {
   "cell_type": "code",
   "execution_count": 8,
   "metadata": {},
   "outputs": [],
   "source": [
    "import pandas as pd\n",
    "features = pd.read_csv('../../../4 - Data/04_WorkingDatasets/01 NormalComb/NormalCombined.csv')\n",
    "target = pd.read_csv('../../../4 - Data/04_WorkingDatasets/02 NormalCombLagged/TargetOutliersTreated.csv')"
   ]
  },
  {
   "cell_type": "code",
   "execution_count": 9,
   "metadata": {},
   "outputs": [
    {
     "name": "stdout",
     "output_type": "stream",
     "text": [
      "Length of features dataframe: 24549\n",
      "Length of target dataframe: 24549\n"
     ]
    }
   ],
   "source": [
    "# Ensure the features and target dataframes have similar lengths\n",
    "min_length = min(len(features), len(target))\n",
    "features = features.iloc[:min_length]\n",
    "target = target.iloc[:min_length]\n",
    "\n",
    "# Print the lengths to verify\n",
    "print(f\"Length of features dataframe: {len(features)}\")\n",
    "print(f\"Length of target dataframe: {len(target)}\")"
   ]
  },
  {
   "cell_type": "code",
   "execution_count": 10,
   "metadata": {},
   "outputs": [],
   "source": [
    "from sklearn.model_selection import train_test_split\n",
    "\n",
    "# Ensure the features and target dataframes are correctly assigned\n",
    "if 'Datum' in features.columns:\n",
    "\tfeatures = features.drop(columns=['Datum'])\n",
    "target = target['PM10_Combined_Trend_Residual']\n",
    "\n",
    "\n",
    "# Split the data into train, test, and validate sets\n",
    "train_data, temp_data, train_target, temp_target = train_test_split(features, target, test_size=0.3, random_state=11)# letter K in Alphabet\n",
    "test_data, validate_data, test_target, validate_target = train_test_split(temp_data, temp_target, test_size=0.3333, random_state=11)# letter K in Alphabet"
   ]
  },
  {
   "cell_type": "code",
   "execution_count": 11,
   "metadata": {},
   "outputs": [
    {
     "name": "stdout",
     "output_type": "stream",
     "text": [
      "Fitting 3 folds for each of 24 candidates, totalling 72 fits\n"
     ]
    },
    {
     "name": "stderr",
     "output_type": "stream",
     "text": [
      "100%|██████████| 100/100 [00:00<?, ?it/s]\n"
     ]
    },
    {
     "name": "stdout",
     "output_type": "stream",
     "text": [
      "Best Parameters: {'alpha': 0.001, 'eta0': 0.01, 'learning_rate': 'optimal', 'penalty': 'l1'}\n",
      "Best Score: -8.188233022925147e+18\n",
      "Mean Squared Error on Test Set: 26.98447306427011\n",
      "Mean Squared Error on Validation Set: 21.499411663729205\n",
      "Fold 1/5, MSE: 31.18971570755038\n",
      "Fold 2/5, MSE: 5051070939.51388\n",
      "Fold 3/5, MSE: 22.37158022052497\n",
      "Fold 4/5, MSE: 22.65090509695628\n",
      "Fold 5/5, MSE: 8.055481547702928e+18\n"
     ]
    }
   ],
   "source": [
    "from sklearn.linear_model import SGDRegressor\n",
    "from sklearn.model_selection import GridSearchCV\n",
    "from sklearn.metrics import mean_squared_error\n",
    "from tqdm import tqdm\n",
    "from joblib import Parallel, delayed\n",
    "import numpy as np\n",
    "\n",
    "# Define a smaller parameter grid for GridSearchCV\n",
    "param_grid = {\n",
    "    'alpha': [0.0001, 0.001],\n",
    "    'eta0': [0.01, 0.1],\n",
    "    'learning_rate': ['constant', 'optimal'],\n",
    "    'penalty': ['l2', 'l1', None]\n",
    "}\n",
    "\n",
    "# Initialize the SGDRegressor\n",
    "sgd = SGDRegressor(max_iter=1000, tol=1e-3)\n",
    "\n",
    "# Initialize GridSearchCV with fewer cross-validation folds\n",
    "grid_search = GridSearchCV(sgd, param_grid, cv=3, scoring='neg_mean_squared_error', n_jobs=-1, verbose=2)\n",
    "\n",
    "# Fit the model\n",
    "grid_search.fit(train_data, train_target.values.ravel())\n",
    "\n",
    "# Get the best parameters and best score\n",
    "best_params = grid_search.best_params_\n",
    "best_score = grid_search.best_score_\n",
    "\n",
    "# Plot the progress bar\n",
    "progress_bar = tqdm(total=100)\n",
    "for i in range(100):\n",
    "    progress_bar.update(1)\n",
    "progress_bar.close()\n",
    "\n",
    "# Print the best parameters and best score\n",
    "print(\"Best Parameters:\", best_params)\n",
    "print(\"Best Score:\", best_score)\n",
    "\n",
    "# Evaluate the model on the test set\n",
    "predictions = grid_search.predict(test_data)\n",
    "predictions = np.maximum(predictions, 0)  # Ensure predictions are not lower than zero\n",
    "mse = mean_squared_error(test_target, predictions)\n",
    "print(\"Mean Squared Error on Test Set:\", mse)\n",
    "\n",
    "# Evaluate the model on the validation set\n",
    "validate_predictions = grid_search.predict(validate_data)\n",
    "validate_predictions = np.maximum(validate_predictions, 0)  # Ensure predictions are not lower than zero\n",
    "validate_mse = mean_squared_error(validate_target, validate_predictions)\n",
    "print(\"Mean Squared Error on Validation Set:\", validate_mse)\n",
    "\n",
    "# Expanding CV Fold Sizes\n",
    "initial_train_size = int(0.5 * len(train_data))\n",
    "test_size = int(0.1 * len(train_data))\n",
    "num_folds = (len(train_data) - initial_train_size) // test_size\n",
    "\n",
    "def train_and_evaluate_fold(fold):\n",
    "    start_train_size = initial_train_size + fold * test_size\n",
    "    end_train_size = start_train_size + test_size\n",
    "\n",
    "    X_train_fold = train_data[:end_train_size]\n",
    "    y_train_fold = train_target[:end_train_size]\n",
    "    X_test_fold = train_data[end_train_size:end_train_size + test_size]\n",
    "    y_test_fold = train_target[end_train_size:end_train_size + test_size]\n",
    "\n",
    "    model = SGDRegressor(**best_params, max_iter=1000, tol=1e-3)\n",
    "    model.fit(X_train_fold, y_train_fold)\n",
    "    fold_predictions = model.predict(X_test_fold)\n",
    "    fold_predictions = np.maximum(fold_predictions, 0)  # Ensure predictions are not lower than zero\n",
    "    fold_mse = mean_squared_error(y_test_fold, fold_predictions)\n",
    "    return fold, fold_mse\n",
    "\n",
    "results = Parallel(n_jobs=-1)(delayed(train_and_evaluate_fold)(fold) for fold in range(num_folds))\n",
    "\n",
    "for fold, fold_mse in results:\n",
    "    print(f\"Fold {fold + 1}/{num_folds}, MSE: {fold_mse}\")"
   ]
  },
  {
   "cell_type": "code",
   "execution_count": 12,
   "metadata": {},
   "outputs": [
    {
     "name": "stdout",
     "output_type": "stream",
     "text": [
      "Fitting 5 folds for each of 9 candidates, totalling 45 fits\n",
      "Refined Best Parameters: {'alpha': 0.005, 'eta0': 0.005, 'learning_rate': 'optimal', 'penalty': 'l1'}\n",
      "Refined Best Score: -5304060629504.533\n",
      "Refined Mean Squared Error on Test Set: 3352299658699.8857\n",
      "Refined Mean Squared Error on Validation Set: 3499032963406.478\n"
     ]
    },
    {
     "name": "stderr",
     "output_type": "stream",
     "text": [
      "C:\\Users\\maxd2\\AppData\\Local\\Packages\\PythonSoftwareFoundation.Python.3.11_qbz5n2kfra8p0\\LocalCache\\local-packages\\Python311\\site-packages\\sklearn\\linear_model\\_stochastic_gradient.py:1616: ConvergenceWarning: Maximum number of iteration reached before convergence. Consider increasing max_iter to improve the fit.\n",
      "  warnings.warn(\n"
     ]
    }
   ],
   "source": [
    "# Define a more focused parameter grid for GridSearchCV based on the best parameters\n",
    "refined_param_grid = {\n",
    "    'alpha': [best_params['alpha'] * 0.5, best_params['alpha'], best_params['alpha'] * 5],\n",
    "    'eta0': [best_params['eta0'] * 0.5, best_params['eta0'], best_params['eta0'] * 5],\n",
    "    'learning_rate': [best_params['learning_rate']],\n",
    "    'penalty': [best_params['penalty']]\n",
    "}\n",
    "\n",
    "# Initialize a new GridSearchCV with the refined parameter grid\n",
    "refined_grid_search = GridSearchCV(sgd, refined_param_grid, cv=5, scoring='neg_mean_squared_error', n_jobs=-1, verbose=2)\n",
    "\n",
    "# Fit the model with the refined parameter grid\n",
    "refined_grid_search.fit(train_data, train_target.values.ravel())\n",
    "\n",
    "# Get the best parameters and best score from the refined search\n",
    "refined_best_params = refined_grid_search.best_params_\n",
    "refined_best_score = refined_grid_search.best_score_\n",
    "\n",
    "# Print the refined best parameters and best score\n",
    "print(\"Refined Best Parameters:\", refined_best_params)\n",
    "print(\"Refined Best Score:\", refined_best_score)\n",
    "\n",
    "# Evaluate the refined model on the test set\n",
    "refined_predictions = refined_grid_search.predict(test_data)\n",
    "refined_mse = mean_squared_error(test_target, refined_predictions)\n",
    "print(\"Refined Mean Squared Error on Test Set:\", refined_mse)\n",
    "\n",
    "# Evaluate the refined model on the validation set\n",
    "refined_validate_predictions = refined_grid_search.predict(validate_data)\n",
    "refined_validate_mse = mean_squared_error(validate_target, refined_validate_predictions)\n",
    "print(\"Refined Mean Squared Error on Validation Set:\", refined_validate_mse)"
   ]
  },
  {
   "cell_type": "code",
   "execution_count": null,
   "metadata": {},
   "outputs": [],
   "source": []
  }
 ],
 "metadata": {
  "kernelspec": {
   "display_name": "Python 3",
   "language": "python",
   "name": "python3"
  },
  "language_info": {
   "codemirror_mode": {
    "name": "ipython",
    "version": 3
   },
   "file_extension": ".py",
   "mimetype": "text/x-python",
   "name": "python",
   "nbconvert_exporter": "python",
   "pygments_lexer": "ipython3",
   "version": "3.11.9"
  }
 },
 "nbformat": 4,
 "nbformat_minor": 2
}
