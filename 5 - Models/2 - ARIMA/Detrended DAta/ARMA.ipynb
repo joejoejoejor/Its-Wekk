{
 "cells": [
  {
   "cell_type": "code",
   "execution_count": 5,
   "metadata": {},
   "outputs": [
    {
     "data": {
      "text/html": [
       "<div>\n",
       "<style scoped>\n",
       "    .dataframe tbody tr th:only-of-type {\n",
       "        vertical-align: middle;\n",
       "    }\n",
       "\n",
       "    .dataframe tbody tr th {\n",
       "        vertical-align: top;\n",
       "    }\n",
       "\n",
       "    .dataframe thead th {\n",
       "        text-align: right;\n",
       "    }\n",
       "</style>\n",
       "<table border=\"1\" class=\"dataframe\">\n",
       "  <thead>\n",
       "    <tr style=\"text-align: right;\">\n",
       "      <th></th>\n",
       "      <th>Datum</th>\n",
       "      <th>PM10_Combined_Trend_Residual</th>\n",
       "    </tr>\n",
       "  </thead>\n",
       "  <tbody>\n",
       "    <tr>\n",
       "      <th>0</th>\n",
       "      <td>2022-01-02 01:00:00+00:00</td>\n",
       "      <td>14.547155</td>\n",
       "    </tr>\n",
       "    <tr>\n",
       "      <th>1</th>\n",
       "      <td>2022-01-02 02:00:00+00:00</td>\n",
       "      <td>13.151571</td>\n",
       "    </tr>\n",
       "    <tr>\n",
       "      <th>2</th>\n",
       "      <td>2022-01-02 03:00:00+00:00</td>\n",
       "      <td>12.394376</td>\n",
       "    </tr>\n",
       "    <tr>\n",
       "      <th>3</th>\n",
       "      <td>2022-01-02 04:00:00+00:00</td>\n",
       "      <td>11.062399</td>\n",
       "    </tr>\n",
       "    <tr>\n",
       "      <th>4</th>\n",
       "      <td>2022-01-02 05:00:00+00:00</td>\n",
       "      <td>11.068747</td>\n",
       "    </tr>\n",
       "  </tbody>\n",
       "</table>\n",
       "</div>"
      ],
      "text/plain": [
       "                       Datum  PM10_Combined_Trend_Residual\n",
       "0  2022-01-02 01:00:00+00:00                     14.547155\n",
       "1  2022-01-02 02:00:00+00:00                     13.151571\n",
       "2  2022-01-02 03:00:00+00:00                     12.394376\n",
       "3  2022-01-02 04:00:00+00:00                     11.062399\n",
       "4  2022-01-02 05:00:00+00:00                     11.068747"
      ]
     },
     "execution_count": 5,
     "metadata": {},
     "output_type": "execute_result"
    }
   ],
   "source": [
    "import numpy as np\n",
    "import pandas as pd\n",
    "import matplotlib.pyplot as plt\n",
    "from sklearn.linear_model import LinearRegression\n",
    "from sklearn.model_selection import TimeSeriesSplit\n",
    "from statsmodels.tsa.seasonal import seasonal_decompose\n",
    "import statsmodels.api as sm\n",
    "\n",
    "# Load the CSV file into a DataFrame\n",
    "y = pd.read_csv('../../../4 - Data/04_WorkingDatasets/Top50CombLagged/TargetOutliersTreated.csv')\n",
    "\n",
    "# Display the DataFrame\n",
    "y.head()"
   ]
  },
  {
   "cell_type": "code",
   "execution_count": 6,
   "metadata": {},
   "outputs": [],
   "source": [
    "# Spliting the data\n",
    "def train_test_val_split(data, train_ratio=0.7, test_ratio=0.2):\n",
    "    \"\"\"\n",
    "    Splits the dataset into Train, Test, and Validation sets.\n",
    "    Parameters:\n",
    "        data: DataFrame - The full dataset to split.\n",
    "        train_ratio: float - Proportion of data to use for training.\n",
    "        test_ratio: float - Proportion of data to use for testing.\n",
    "    Returns:\n",
    "        train_data, test_data, val_data - DataFrames for train, test, and validation splits.\n",
    "    \"\"\"\n",
    "    train_size = int(len(data) * train_ratio)\n",
    "    test_size = int(len(data) * test_ratio)\n",
    "    train_data = data[:train_size]\n",
    "    test_data = data[train_size:train_size + test_size]\n",
    "    val_data = data[train_size + test_size:]\n",
    "    return train_data, test_data, val_data\n",
    "\n",
    "# Call the function to split the data\n",
    "train_data, test_data, val_data = train_test_val_split(y)\n"
   ]
  },
  {
   "cell_type": "markdown",
   "metadata": {},
   "source": [
    "AR model"
   ]
  },
  {
   "cell_type": "code",
   "execution_count": 7,
   "metadata": {},
   "outputs": [
    {
     "name": "stdout",
     "output_type": "stream",
     "text": [
      "                       1          2          3          4          5          6          7          8          9          10         11         12         13         14         15         16         17         18         19         20         21         22         23         24\n",
      "Test MSE        61.930831  61.947062  61.930869  61.922946  61.902523  61.892474  61.866535  61.841601  61.806615   61.75651  61.689672  61.577971  61.455022  61.360658  61.256401  61.106079  60.981563  60.898779  60.792723  60.706564  60.665212  60.661094  60.689441  60.705818\n",
      "Test MAE          6.07293    6.07417   6.073069   6.072476   6.071044   6.070367   6.068653    6.06709   6.065009   6.061971   6.057913    6.05061   6.042295   6.035739   6.028223   6.016793   6.006584   5.998967   5.988018   5.976469   5.966079   5.958028   5.948168   5.944483\n",
      "Validation MSE  35.774269  35.807177  35.776423  35.761724   35.72696  35.710942  35.671789  35.637521  35.594155  35.535317  35.462714  35.335865  35.194413  35.082714  34.954759  34.758896  34.577766  34.429063  34.207962  33.940235  33.647473   33.36925   32.96317  32.797998\n",
      "Validation MAE   5.130173   5.132786   5.130448   5.129204   5.126226   5.124825   5.121303   5.118165   5.114182   5.108514   5.101181   5.087874   5.072649   5.060167   5.045599   5.022871   5.001091   4.982981    4.95539   4.921759   4.885549   4.852246   4.806481   4.788761\n"
     ]
    }
   ],
   "source": [
    "from joblib import Parallel, delayed\n",
    "\n",
    "\n",
    "# Initialize Results DataFrames\n",
    "results_test = pd.DataFrame(index=[\"Test MSE\", \"Test MAE\"], columns=np.arange(1, 25))\n",
    "results_validate = pd.DataFrame(index=[\"Validation MSE\", \"Validation MAE\"], columns=np.arange(1, 25))\n",
    "\n",
    "# AR Model Fitting and Error Calculation\n",
    "def fit_ar_model(p, train_data, test_data, val_data):\n",
    "    try:\n",
    "        # Fit AR model\n",
    "        model = sm.tsa.ARIMA(train_data[\"PM10_Combined_Trend_Residual\"], order=(p, 0, 0))\n",
    "        res = model.fit()\n",
    "\n",
    "        # Forecast for test set\n",
    "        test_forecast = res.forecast(steps=len(test_data))\n",
    "        test_mse = ((test_data[\"PM10_Combined_Trend_Residual\"].values - test_forecast.values) ** 2).mean()\n",
    "        test_mae = np.abs(test_data[\"PM10_Combined_Trend_Residual\"].values - test_forecast.values).mean()\n",
    "\n",
    "        # Forecast for validation set\n",
    "        val_forecast = res.forecast(steps=len(val_data))\n",
    "        val_mse = ((val_data[\"PM10_Combined_Trend_Residual\"].values - val_forecast.values) ** 2).mean()\n",
    "        val_mae = np.abs(val_data[\"PM10_Combined_Trend_Residual\"].values - val_forecast.values).mean()\n",
    "\n",
    "        return test_mse, test_mae, val_mse, val_mae\n",
    "    except Exception as e:\n",
    "        print(f\"Error for p={p}: {e}\")\n",
    "        return np.nan, np.nan, np.nan, np.nan\n",
    "\n",
    "# Run in parallel for AR lags (p) from 1 to 24\n",
    "results = Parallel(n_jobs=-1)(delayed(fit_ar_model)(p, train_data, test_data, val_data) for p in range(1, 25))\n",
    "\n",
    "# Store results in DataFrames\n",
    "for idx, (test_mse, test_mae, val_mse, val_mae) in enumerate(results):\n",
    "    p_value = idx + 1\n",
    "    results_test.loc[\"Test MSE\", p_value] = test_mse\n",
    "    results_test.loc[\"Test MAE\", p_value] = test_mae\n",
    "    results_validate.loc[\"Validation MSE\", p_value] = val_mse\n",
    "    results_validate.loc[\"Validation MAE\", p_value] = val_mae\n",
    "\n",
    "# Combine results into a single DataFrame for display\n",
    "final_results = pd.concat([results_test, results_validate], axis=0)\n",
    "print(final_results.to_string(index=True))\n"
   ]
  },
  {
   "cell_type": "markdown",
   "metadata": {},
   "source": [
    "MA Model \n"
   ]
  },
  {
   "cell_type": "code",
   "execution_count": 8,
   "metadata": {},
   "outputs": [
    {
     "name": "stdout",
     "output_type": "stream",
     "text": [
      "                       1          2          3          4          5          6          7          8          9          10         11         12         13         14         15         16         17         18         19         20         21         22         23         24\n",
      "Test MSE        62.040636  62.037588  62.032478  62.027896  62.022965  62.017749  62.012089  62.010461   62.01218  62.009351  62.003946  62.000367  61.996788  61.991409  61.988509  61.991837  61.993119  61.993922  61.997359  62.000175  62.002868  62.003292  62.003328  62.001253\n",
      "Test MAE         6.083365   6.082871   6.082268   6.081859   6.081445   6.080972   6.080593   6.080632    6.08077   6.080389   6.079798   6.079431    6.07908   6.078534   6.078172   6.078517   6.078421   6.078296   6.078567   6.078816   6.079145   6.079271   6.079289   6.079217\n",
      "Validation MSE  36.030657  36.023074  36.011583  36.001435  35.991232  35.980948  35.970705  35.968954  35.971517  35.964011  35.952047  35.944068  35.936009  35.923727  35.916131   35.92212  35.922587  35.923065  35.930347  35.936497  35.942949   35.94455  35.944738  35.940851\n",
      "Validation MAE   5.151723    5.15075    5.14954   5.148719   5.147891   5.146944   5.146185    5.14626   5.146533   5.145772   5.144591   5.143858   5.143157   5.142066   5.141342   5.142039   5.141919   5.141717   5.142351   5.142916   5.143442    5.14357   5.143593   5.143431\n"
     ]
    }
   ],
   "source": [
    "# Initialize Results DataFrames\n",
    "results_test = pd.DataFrame(index=[\"Test MSE\", \"Test MAE\"], columns=np.arange(1, 25))\n",
    "results_validate = pd.DataFrame(index=[\"Validation MSE\", \"Validation MAE\"], columns=np.arange(1, 25))\n",
    "\n",
    "# MA Model Fitting and Error Calculation\n",
    "def fit_ma_model(q, train_data, test_data, val_data):\n",
    "    try:\n",
    "        # Fit MA model\n",
    "        model = sm.tsa.ARIMA(train_data[\"PM10_Combined_Trend_Residual\"], order=(0, 0, q))\n",
    "        res = model.fit()\n",
    "\n",
    "        # Forecast for test set\n",
    "        test_forecast = res.forecast(steps=len(test_data))\n",
    "        test_mse = ((test_data[\"PM10_Combined_Trend_Residual\"].values - test_forecast.values) ** 2).mean()\n",
    "        test_mae = np.abs(test_data[\"PM10_Combined_Trend_Residual\"].values - test_forecast.values).mean()\n",
    "\n",
    "        # Forecast for validation set\n",
    "        val_forecast = res.forecast(steps=len(val_data))\n",
    "        val_mse = ((val_data[\"PM10_Combined_Trend_Residual\"].values - val_forecast.values) ** 2).mean()\n",
    "        val_mae = np.abs(val_data[\"PM10_Combined_Trend_Residual\"].values - val_forecast.values).mean()\n",
    "\n",
    "        return test_mse, test_mae, val_mse, val_mae\n",
    "    except Exception as e:\n",
    "        print(f\"Error for q={q}: {e}\")\n",
    "        return np.nan, np.nan, np.nan, np.nan\n",
    "\n",
    "# Run in parallel for MA lags (q) from 1 to 24\n",
    "results = Parallel(n_jobs=-1)(delayed(fit_ma_model)(q, train_data, test_data, val_data) for q in range(1, 25))\n",
    "\n",
    "# Store results in DataFrames\n",
    "for idx, (test_mse, test_mae, val_mse, val_mae) in enumerate(results):\n",
    "    q_value = idx + 1\n",
    "    results_test.loc[\"Test MSE\", q_value] = test_mse\n",
    "    results_test.loc[\"Test MAE\", q_value] = test_mae\n",
    "    results_validate.loc[\"Validation MSE\", q_value] = val_mse\n",
    "    results_validate.loc[\"Validation MAE\", q_value] = val_mae\n",
    "\n",
    "# Combine results into a single DataFrame for display\n",
    "final_results = pd.concat([results_test, results_validate], axis=0)\n",
    "print(final_results.to_string(index=True))\n"
   ]
  },
  {
   "cell_type": "markdown",
   "metadata": {},
   "source": [
    "ARMA model für mein laptop aktuell nur mit p und q bis 5"
   ]
  },
  {
   "cell_type": "code",
   "execution_count": null,
   "metadata": {},
   "outputs": [
    {
     "name": "stdout",
     "output_type": "stream",
     "text": [
      "p                       1                                                      2                                                      3                                                      4                                                      5                                            \n",
      "q                       1          2          3          4          5          1          2          3          4          5          1          2          3          4          5          1          2          3          4          5          1          2          3          4          5\n",
      "Test MSE        61.947282  61.926323  61.900502  60.734364  60.709878     61.936  60.295419  60.525735  60.453936  59.138063  59.981875  59.855782    60.7378  55.590106  60.764156  57.233036  54.631598  60.448655  60.734262  60.787439  59.972893  53.551927  60.698533  60.707324  60.780982\n",
      "Test MAE         6.074183   6.072719    6.07085   5.928816   5.920261   6.073303   5.881446   5.962621   5.894402   5.816255   5.849886   5.881043   5.926337   5.214562   5.923398   5.571186    5.11517   5.825876   5.938326   5.897255   5.845918   4.968084   5.919803   5.934968    5.93557\n",
      "Validation MSE  35.809056  35.769265  35.725176  32.136253  31.865902  35.791061  31.389348  33.965178  31.501629  31.520036  30.950515  32.317055  32.050259  21.522342  31.871165  27.542401  21.056872  28.888095  32.519134  30.771798  30.819409  20.274795  31.890122  32.454966  32.305019\n",
      "Validation MAE   5.132942   5.129887   5.126143   4.730491   4.704496   5.131618   4.666151   4.962666   4.673619   4.718254   4.631876   4.763287   4.718751    3.77381   4.701597   4.361934   3.734635   4.434009   4.763945   4.601887   4.620708   3.650525   4.704777   4.758567   4.742099\n"
     ]
    }
   ],
   "source": [
    "# Initialize Results DataFrames\n",
    "#results_test = pd.DataFrame(index=[\"Test MSE\", \"Test MAE\"], columns=[(p, q) for p in range(1, 6) for q in range(1, 6)])\n",
    "#results_validate = pd.DataFrame(index=[\"Validation MSE\", \"Validation MAE\"], columns=[(p, q) for p in range(1, 6) for q in range(1, 6)])\n",
    "\n",
    "results_test = pd.DataFrame(index=[\"Test MSE\", \"Test MAE\"], columns=pd.MultiIndex.from_product([range(1, 25), range(1, 25)], names=[\"p\", \"q\"]))\n",
    "results_validate = pd.DataFrame(index=[\"Validation MSE\", \"Validation MAE\"], columns=pd.MultiIndex.from_product([range(1, 25), range(1, 25)], names=[\"p\", \"q\"]))\n",
    "\n",
    "\n",
    "# ARMA Model Fitting and Error Calculation\n",
    "def fit_arma_model(p, q, train_data, test_data, val_data):\n",
    "    try:\n",
    "        # Fit ARMA model\n",
    "        model = sm.tsa.ARIMA(train_data[\"PM10_Combined_Trend_Residual\"], order=(p, 0, q))\n",
    "        res = model.fit()\n",
    "\n",
    "        # Forecast for test set\n",
    "        test_forecast = res.forecast(steps=len(test_data))\n",
    "        test_mse = ((test_data[\"PM10_Combined_Trend_Residual\"].values - test_forecast.values) ** 2).mean()\n",
    "        test_mae = np.abs(test_data[\"PM10_Combined_Trend_Residual\"].values - test_forecast.values).mean()\n",
    "\n",
    "        # Forecast for validation set\n",
    "        val_forecast = res.forecast(steps=len(val_data))\n",
    "        val_mse = ((val_data[\"PM10_Combined_Trend_Residual\"].values - val_forecast.values) ** 2).mean()\n",
    "        val_mae = np.abs(val_data[\"PM10_Combined_Trend_Residual\"].values - val_forecast.values).mean()\n",
    "\n",
    "        return test_mse, test_mae, val_mse, val_mae\n",
    "    except Exception as e:\n",
    "        print(f\"Error for (p, q)=({p}, {q}): {e}\")\n",
    "        return np.nan, np.nan, np.nan, np.nan\n",
    "\n",
    "# Run in parallel for ARMA combinations (p, q) from (1, 1) to (5, 5)\n",
    "results = Parallel(n_jobs=-1)(\n",
    "    delayed(fit_arma_model)(p, q, train_data, test_data, val_data) \n",
    "    for p in range(1, 6) for q in range(1, 6)\n",
    ")\n",
    "\n",
    "# Store results in DataFrames\n",
    "for idx, (test_mse, test_mae, val_mse, val_mae) in enumerate(results):\n",
    "    p, q = results_test.columns[idx]\n",
    "    results_test.loc[\"Test MSE\", (p, q)] = test_mse\n",
    "    results_test.loc[\"Test MAE\", (p, q)] = test_mae\n",
    "    results_validate.loc[\"Validation MSE\", (p, q)] = val_mse\n",
    "    results_validate.loc[\"Validation MAE\", (p, q)] = val_mae\n",
    "\n",
    "# Combine results into a single DataFrame for display\n",
    "final_results = pd.concat([results_test, results_validate], axis=0)\n",
    "print(final_results.to_string(index=True))\n"
   ]
  },
  {
   "cell_type": "code",
   "execution_count": null,
   "metadata": {},
   "outputs": [],
   "source": []
  }
 ],
 "metadata": {
  "kernelspec": {
   "display_name": "Python 3",
   "language": "python",
   "name": "python3"
  },
  "language_info": {
   "codemirror_mode": {
    "name": "ipython",
    "version": 3
   },
   "file_extension": ".py",
   "mimetype": "text/x-python",
   "name": "python",
   "nbconvert_exporter": "python",
   "pygments_lexer": "ipython3",
   "version": "3.11.9"
  }
 },
 "nbformat": 4,
 "nbformat_minor": 2
}
