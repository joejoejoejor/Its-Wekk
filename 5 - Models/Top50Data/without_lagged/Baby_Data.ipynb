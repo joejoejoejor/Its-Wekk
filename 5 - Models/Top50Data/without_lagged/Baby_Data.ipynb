{
 "cells": [
  {
   "cell_type": "markdown",
   "metadata": {},
   "source": [
    "# Decision Tree"
   ]
  },
  {
   "cell_type": "code",
   "execution_count": 1,
   "metadata": {},
   "outputs": [],
   "source": [
    "# Load our libraries\n",
    "import numpy as np\n",
    "import pandas as pd\n",
    "import matplotlib.pyplot as plt\n",
    "\n",
    "# Use a nicer style for plots\n",
    "plt.style.use(\"seaborn-v0_8-muted\")\n",
    "\n",
    "# Import the regression tree from scikit-learn and a plotting helper\n",
    "from sklearn.tree import DecisionTreeRegressor, plot_tree\n",
    "# Import our train_test_split helper\n",
    "from sklearn.model_selection import train_test_split"
   ]
  },
  {
   "cell_type": "markdown",
   "metadata": {},
   "source": [
    "## Prepare Dataset into target and features and split them into test train Validation"
   ]
  },
  {
   "cell_type": "code",
   "execution_count": 2,
   "metadata": {},
   "outputs": [],
   "source": [
    "\n",
    "features_data = pd.read_csv('../../../4 - Data/04_WorkingDatasets/Top50Combined/50MostImp+CombinedFeatures.csv') #Top 50 Feature + comination Features without Lagged Target\n",
    "target_data = pd.read_csv('../../../4 - Data/04_WorkingDatasets/02 NormalCombLagged/TargetOutliersTreated.csv')"
   ]
  },
  {
   "cell_type": "code",
   "execution_count": 3,
   "metadata": {},
   "outputs": [],
   "source": [
    "# Konvertiere die Datumsspalte in einen datetime-Index (falls nicht bereits)\n",
    "target_data['Datum'] = pd.to_datetime(target_data['Datum'])\n",
    "\n",
    "# Definiere das Cut-Off-Datum\n",
    "cutoff_date = pd.Timestamp('2024-10-20 21:00:00+00:00')\n",
    "\n",
    "# Filtere das Dataset auf Einträge bis einschließlich des Cut-Off-Datums\n",
    "target_data_cutted = target_data[target_data['Datum'] <= cutoff_date]\n",
    "\n",
    "\n",
    "features_data = features_data[features_data['Datum'] >= '2022-01-02 01:00:00+00:00']\n"
   ]
  },
  {
   "cell_type": "code",
   "execution_count": 4,
   "metadata": {},
   "outputs": [
    {
     "name": "stdout",
     "output_type": "stream",
     "text": [
      "Train Size: 17184\n",
      "Validation Size: 2455\n",
      "Test Size: 4910\n"
     ]
    }
   ],
   "source": [
    "# Split our data intro features and targets\n",
    "# Teile das Dataset in Features und Zielvariable\n",
    "y = target_data_cutted[\"PM10_Combined_Trend_Residual\"]  # Zielvariable\n",
    "X = features_data.drop(columns=[\"Datum\"])  # Alle Spalten außer der Zielvariable\n",
    "\n",
    "X.head(10)\n",
    "\n",
    "# Daten splitten\n",
    "X_train_val, X_test, y_train_val, y_test = train_test_split(X, y, test_size=0.2, random_state=11) # letter K in Alphabet\n",
    "X_train, X_val, y_train, y_val = train_test_split(X_train_val, y_train_val, test_size=0.125, random_state=11)  # 10% von Gesamt  # letter K in Alphabet\n",
    "\n",
    "print(\"Train Size:\", len(X_train))\n",
    "print(\"Validation Size:\", len(X_val))\n",
    "print(\"Test Size:\", len(X_test))"
   ]
  },
  {
   "cell_type": "markdown",
   "metadata": {},
   "source": [
    "## Decision Tree Regressor"
   ]
  },
  {
   "cell_type": "code",
   "execution_count": 5,
   "metadata": {},
   "outputs": [
    {
     "name": "stdout",
     "output_type": "stream",
     "text": [
      "Fold 1: MSE = 35.012882161617725\n",
      "Fold 2: MSE = 27.397413473942656\n",
      "Fold 3: MSE = 32.31868703707104\n",
      "Fold 4: MSE = 38.53738290918496\n",
      "Fold 5: MSE = 41.19610601628755\n",
      "Durchschnittlicher MSE über alle Folds: 34.89249431962079\n"
     ]
    }
   ],
   "source": [
    "from sklearn.model_selection import TimeSeriesSplit\n",
    "from sklearn.metrics import mean_squared_error\n",
    "import numpy as np\n",
    "from sklearn.tree import DecisionTreeRegressor\n",
    "\n",
    "np.random.seed(11)\n",
    "\n",
    "# Expanding Cross-Validation (5 Splits)\n",
    "tscv = TimeSeriesSplit(n_splits=5)\n",
    "results = []\n",
    "\n",
    "# Use the initial 50% of the data for training (optional, but keeps your requirement in mind)\n",
    "train_size = int(0.5 * len(X_train))\n",
    "X_train_init = X_train.iloc[:train_size]\n",
    "y_train_init = y_train.iloc[:train_size]\n",
    "\n",
    "# Perform expanding window cross-validation\n",
    "for fold, (train_index, val_index) in enumerate(tscv.split(X_train_init)):\n",
    "    # Expanding training data with each fold\n",
    "    X_train_fold = X_train_init.iloc[train_index]\n",
    "    y_train_fold = y_train_init.iloc[train_index]\n",
    "    \n",
    "    # Validation data stays fixed (next chunk after the training data)\n",
    "    X_val_fold = X_train_init.iloc[val_index]\n",
    "    y_val_fold = y_train_init.iloc[val_index]\n",
    "    \n",
    "    # Train the model\n",
    "    model = DecisionTreeRegressor()\n",
    "    model.fit(X_train_fold, y_train_fold)\n",
    "    \n",
    "    # Predict and calculate MSE\n",
    "    y_pred = model.predict(X_val_fold)\n",
    "    mse = mean_squared_error(y_val_fold, y_pred)\n",
    "    results.append(mse)\n",
    "    print(f\"Fold {fold + 1}: MSE = {mse}\")\n",
    "\n",
    "# Average MSE across all folds\n",
    "average_mse = np.mean(results)\n",
    "print(f\"Durchschnittlicher MSE über alle Folds: {average_mse}\")"
   ]
  },
  {
   "cell_type": "markdown",
   "metadata": {},
   "source": [
    "## Use ccp_alpha (and other parameters) to optimize the Decision Tree for example when it comes to overfitting\n",
    "\n",
    "[`DecisionTreeRegressor`](https://scikit-learn.org/stable/modules/generated/sklearn.tree.DecisionTreeRegressor.html)"
   ]
  },
  {
   "cell_type": "code",
   "execution_count": 6,
   "metadata": {},
   "outputs": [
    {
     "name": "stdout",
     "output_type": "stream",
     "text": [
      "Fold 1: MSE = 34.0608748241713\n",
      "Fold 2: MSE = 25.427671936330295\n",
      "Fold 3: MSE = 28.878495715379877\n",
      "Fold 4: MSE = 34.39542451206701\n",
      "Fold 5: MSE = 36.74267270406781\n",
      "Durchschnittlicher MSE über alle Folds: 31.901027938403256\n"
     ]
    }
   ],
   "source": [
    "np.random.seed(11)\n",
    "\n",
    "# Expanding Cross Validation mit 5 Folds\n",
    "tscv = TimeSeriesSplit(n_splits=5)\n",
    "\n",
    "# Liste zur Speicherung der Ergebnisse\n",
    "results_ccp = []\n",
    "\n",
    "# Use the initial 50% of the data for training (optional, but keeps your requirement in mind)\n",
    "train_size = int(0.5 * len(X_train))\n",
    "X_train_init = X_train.iloc[:train_size]\n",
    "y_train_init = y_train.iloc[:train_size]\n",
    "\n",
    "# Perform expanding window cross-validation\n",
    "for fold, (train_index, val_index) in enumerate(tscv.split(X_train_init)):\n",
    "    # Expanding training data with each fold\n",
    "    X_train_fold = X_train_init.iloc[train_index]\n",
    "    y_train_fold = y_train_init.iloc[train_index]\n",
    "    \n",
    "    # Validation data stays fixed (next chunk after the training data)\n",
    "    X_val_fold = X_train_init.iloc[val_index]\n",
    "    y_val_fold = y_train_init.iloc[val_index]\n",
    "    \n",
    "    # Modell trainieren\n",
    "    tree_ccp = DecisionTreeRegressor(ccp_alpha=0.01)\n",
    "    tree_ccp.fit(X_train_fold, y_train_fold)\n",
    "    \n",
    "    # Vorhersagen machen\n",
    "    y_pred_ccp = tree_ccp.predict(X_val_fold)\n",
    "    \n",
    "    # Berechne den Fehler\n",
    "    mse_ccp = mean_squared_error(y_val_fold, y_pred_ccp)\n",
    "    results_ccp.append(mse_ccp)\n",
    "    \n",
    "    print(f\"Fold {fold + 1}: MSE = {mse_ccp}\")\n",
    "\n",
    "# Durchschnittlichen Fehler über alle Folds berechnen\n",
    "average_mse_ccp = np.mean(results_ccp)\n",
    "print(f\"Durchschnittlicher MSE über alle Folds: {average_mse_ccp}\")\n"
   ]
  },
  {
   "cell_type": "markdown",
   "metadata": {},
   "source": [
    "## Crossvalidation to find best alpha \n",
    "\n",
    " Geht nicht mit so vielen Features"
   ]
  },
  {
   "cell_type": "code",
   "execution_count": 7,
   "metadata": {},
   "outputs": [],
   "source": [
    "# Import our tools for model selection\n",
    "from sklearn.model_selection import cross_validate, KFold"
   ]
  },
  {
   "cell_type": "code",
   "execution_count": 8,
   "metadata": {},
   "outputs": [
    {
     "name": "stdout",
     "output_type": "stream",
     "text": [
      "Optimales ccp_alpha: 0.3906939937054613\n"
     ]
    }
   ],
   "source": [
    "from sklearn.model_selection import cross_val_score, KFold\n",
    "from sklearn.tree import DecisionTreeRegressor\n",
    "import numpy as np\n",
    "\n",
    "np.random.seed(11)\n",
    "\n",
    "# Definiere die Werte für ccp_alpha (Cost Complexity Pruning)\n",
    "alphas = np.logspace(-4, 0, 50)  # Werte zwischen 10^-4 und 10^0\n",
    "\n",
    "# Initialisiere Cross-Validation\n",
    "cv = KFold(n_splits=5, shuffle=True, random_state=11)\n",
    "\n",
    "# Speicher für Ergebnisse\n",
    "scores = []  # Durchschnittliche MSE für jedes ccp_alpha\n",
    "scores_std = []  # Standardabweichung der Scores für Stabilitätsanalyse\n",
    "\n",
    "# Cross-Validation für jedes ccp_alpha\n",
    "for alpha in alphas:\n",
    "    # Decision Tree mit aktuellem ccp_alpha-Wert\n",
    "    tree_cv = DecisionTreeRegressor(ccp_alpha=alpha, random_state=11)\n",
    "    \n",
    "    # Negative MSE, da cross_val_score maximiert; wir wollen minimieren\n",
    "    mse_scores = cross_val_score(tree_cv, X_train, y_train, cv=cv, scoring=\"neg_mean_squared_error\")\n",
    "    \n",
    "    # Durchschnittlichen MSE speichern (negativ, daher multiplizieren mit -1)\n",
    "    scores.append(-mse_scores.mean())\n",
    "    scores_std.append(mse_scores.std())\n",
    "\n",
    "# Optimiere ccp_alpha: Der Wert mit dem niedrigsten MSE\n",
    "optimal_alpha = alphas[np.argmin(scores)]\n",
    "\n",
    "print(f\"Optimales ccp_alpha: {optimal_alpha}\")"
   ]
  },
  {
   "cell_type": "code",
   "execution_count": 9,
   "metadata": {},
   "outputs": [
    {
     "name": "stdout",
     "output_type": "stream",
     "text": [
      "Fold 1: MSE = 26.293112579009044\n",
      "Fold 2: MSE = 18.689389204635603\n",
      "Fold 3: MSE = 19.127079163400527\n",
      "Fold 4: MSE = 31.132382482568005\n",
      "Fold 5: MSE = 33.53230122031796\n",
      "Durchschnittlicher MSE über alle Folds: 25.754852929986225\n"
     ]
    }
   ],
   "source": [
    "np.random.seed(11)\n",
    "\n",
    "# Expanding Cross Validation mit 5 Folds\n",
    "tscv = TimeSeriesSplit(n_splits=5)\n",
    "\n",
    "# Liste zur Speicherung der Ergebnisse\n",
    "results_ccp = []\n",
    "\n",
    "# Use the initial 50% of the data for training (optional, but keeps your requirement in mind)\n",
    "train_size = int(0.5 * len(X_train))\n",
    "X_train_init = X_train.iloc[:train_size]\n",
    "y_train_init = y_train.iloc[:train_size]\n",
    "\n",
    "# Perform expanding window cross-validation\n",
    "for fold, (train_index, val_index) in enumerate(tscv.split(X_train_init)):\n",
    "    # Expanding training data with each fold\n",
    "    X_train_fold = X_train_init.iloc[train_index]\n",
    "    y_train_fold = y_train_init.iloc[train_index]\n",
    "    \n",
    "    # Validation data stays fixed (next chunk after the training data)\n",
    "    X_val_fold = X_train_init.iloc[val_index]\n",
    "    y_val_fold = y_train_init.iloc[val_index]\n",
    "    \n",
    "    # Modell trainieren\n",
    "    tree_ccp = DecisionTreeRegressor(ccp_alpha=optimal_alpha)\n",
    "    tree_ccp.fit(X_train_fold, y_train_fold)\n",
    "    \n",
    "    # Vorhersagen machen\n",
    "    y_pred_ccp = tree_ccp.predict(X_val_fold)\n",
    "    \n",
    "    # Berechne den Fehler\n",
    "    mse_ccp = mean_squared_error(y_val_fold, y_pred_ccp)\n",
    "    results_ccp.append(mse_ccp)\n",
    "    \n",
    "    print(f\"Fold {fold + 1}: MSE = {mse_ccp}\")\n",
    "\n",
    "# Durchschnittlichen Fehler über alle Folds berechnen\n",
    "average_mse_ccp = np.mean(results_ccp)\n",
    "print(f\"Durchschnittlicher MSE über alle Folds: {average_mse_ccp}\")\n"
   ]
  },
  {
   "cell_type": "markdown",
   "metadata": {},
   "source": [
    "## Bagging\n",
    "\n",
    "Bagging (Bootstrap Aggregating) ist eine Technik, um die Stabilität und Genauigkeit von Machine-Learning-Algorithmen zu verbessern, insbesondere bei Modellen wie Entscheidungsbäumen, die anfällig für hohe Varianz sind. Es basiert auf dem Bootstrapping-Prinzip, bei dem mehrere Trainingssets durch Zufallsstichproben mit Zurücklegen erzeugt werden.\n",
    "\n",
    "Jeder Baum wird auf einem dieser zufälligen Datensets trainiert, und die Vorhersagen der B Modelle werden durch Mittelung kombiniert. Mathematisch reduziert Bagging die Varianz der Modelle, weil unabhängige Fehler über die Modelle hinweg geglättet werden. So wird die Vorhersage insgesamt stabiler und robuster gegen Variationen in den Trainingsdaten.\n",
    "\n",
    "Das Ziel ist, Vorhersagefehler durch Mittelung der Outputs der individuellen Modelle zu minimieren, was insgesamt zu einer besseren Modellleistung führt."
   ]
  },
  {
   "cell_type": "code",
   "execution_count": 10,
   "metadata": {},
   "outputs": [
    {
     "name": "stdout",
     "output_type": "stream",
     "text": [
      "Fold 1: MSE = 17.616725832748273\n",
      "Fold 2: MSE = 15.656685714047107\n",
      "Fold 3: MSE = 15.795348037553648\n",
      "Fold 4: MSE = 23.1325619115698\n",
      "Fold 5: MSE = 12.30917056856395\n",
      "Durchschnittlicher MSE über alle Folds: 16.902098412896557\n"
     ]
    }
   ],
   "source": [
    "# Import the regression tree from scikit-learn and a plotting helper\n",
    "from sklearn.tree import DecisionTreeRegressor, plot_tree\n",
    "# Import our train_test_split helper\n",
    "from sklearn.model_selection import train_test_split\n",
    "# Import the mean_squared_error function under the alias mse\n",
    "from sklearn.metrics import mean_squared_error as mse\n",
    "# Import the resampling helper\n",
    "from sklearn.utils import resample\n",
    "# Import the sklearn implementation of bagging\n",
    "from sklearn.ensemble import BaggingRegressor\n",
    "\n",
    "np.random.seed(11)\n",
    "\n",
    "# Expanding Cross Validation mit 5 Folds\n",
    "tscv = TimeSeriesSplit(n_splits=5)\n",
    "\n",
    "# Liste zur Speicherung der Ergebnisse\n",
    "results_bag = []\n",
    "\n",
    "# Use the initial 50% of the data for training (optional, but keeps your requirement in mind)\n",
    "train_size = int(0.5 * len(X_train))\n",
    "X_train_init = X_train.iloc[:train_size]\n",
    "y_train_init = y_train.iloc[:train_size]\n",
    "\n",
    "# Perform expanding window cross-validation\n",
    "for fold, (train_index, val_index) in enumerate(tscv.split(X_train_init)):\n",
    "    # Expanding training data with each fold\n",
    "    X_train_fold = X_train_init.iloc[train_index]\n",
    "    y_train_fold = y_train_init.iloc[train_index]\n",
    "    \n",
    "    # Validation data stays fixed (next chunk after the training data)\n",
    "    X_val_fold = X_train_init.iloc[val_index]\n",
    "    y_val_fold = y_train_init.iloc[val_index]\n",
    "\n",
    "    # Create a bagged tree estimator with B=100 trees\n",
    "    bagged_trees = BaggingRegressor(DecisionTreeRegressor(), n_estimators=100)\n",
    "    \n",
    "    # Modell trainieren\n",
    "    bagged_trees.fit(X_train_fold, y_train_fold)\n",
    "    \n",
    "    # Vorhersagen machen\n",
    "    y_pred = bagged_trees.predict(X_val_fold)\n",
    "    \n",
    "    # Berechne den Fehler\n",
    "    mse = mean_squared_error(y_val_fold, y_pred)\n",
    "    results_bag.append(mse)\n",
    "    \n",
    "    print(f\"Fold {fold + 1}: MSE = {mse}\")\n",
    "\n",
    "# Durchschnittlichen Fehler über alle Folds berechnen\n",
    "average_mse_bag = np.mean(results_bag)\n",
    "print(f\"Durchschnittlicher MSE über alle Folds: {average_mse_bag}\")\n"
   ]
  },
  {
   "cell_type": "markdown",
   "metadata": {},
   "source": [
    "## Random Forrest\n",
    "\n",
    "Random Forests erweitern Bagging, indem sie jedem Baum eine zusätzliche Zufallskomponente hinzufügen. Jeder Baum wird mit einem bootstrap-Sample der Trainingsdaten trainiert, wobei nur ein zufälliger Teil der Features für die Konstruktion des Baums verwendet wird. Dadurch unterscheidet sich Random Forests von klassischem Bagging, bei dem alle Features verfügbar sind.\n",
    "\n",
    "Die zufällige Auswahl der Features reduziert die Korrelation zwischen den Bäumen und verbessert die Generalisierung des Modells. Üblicherweise wird die Anzahl der verwendeten Features  m  so gewählt, dass  m \\approx \\sqrt{p} , wobei  p  die Gesamtzahl der Features ist. Wenn  m = p  gesetzt wird, ist Random Forest gleichbedeutend mit einem Bagging-Modell."
   ]
  },
  {
   "cell_type": "code",
   "execution_count": 11,
   "metadata": {},
   "outputs": [
    {
     "name": "stdout",
     "output_type": "stream",
     "text": [
      "Fold 1: MSE = 15.150875343219154\n",
      "Fold 2: MSE = 16.178351354276355\n",
      "Fold 3: MSE = 15.276565434926503\n",
      "Fold 4: MSE = 22.62332978650491\n",
      "Fold 5: MSE = 11.504084660508042\n",
      "Durchschnittlicher MSE über alle Folds: 16.146641315886992\n"
     ]
    }
   ],
   "source": [
    "# Import the random forest regressor\n",
    "from sklearn.ensemble import RandomForestRegressor\n",
    "\n",
    "np.random.seed(11)\n",
    "\n",
    "# Expanding Cross Validation mit 5 Folds\n",
    "tscv = TimeSeriesSplit(n_splits=5)\n",
    "\n",
    "# Liste zur Speicherung der Ergebnisse\n",
    "results_rf = []\n",
    "\n",
    "# Use the initial 50% of the data for training (optional, but keeps your requirement in mind)\n",
    "train_size = int(0.5 * len(X_train))\n",
    "X_train_init = X_train.iloc[:train_size]\n",
    "y_train_init = y_train.iloc[:train_size]\n",
    "\n",
    "# Perform expanding window cross-validation\n",
    "for fold, (train_index, val_index) in enumerate(tscv.split(X_train_init)):\n",
    "    X_train_fold, X_val_fold = X_train_init.iloc[train_index], X_train_init.iloc[val_index]\n",
    "    y_train_fold, y_val_fold = y_train_init.iloc[train_index], y_train_init.iloc[val_index]\n",
    "\n",
    "    # Initialize the random forest regressor\n",
    "    rf = RandomForestRegressor(n_estimators=100, max_features=\"sqrt\")\n",
    "    \n",
    "    # Modell trainieren\n",
    "    rf.fit(X_train_fold, y_train_fold)\n",
    "    \n",
    "    # Vorhersagen machen\n",
    "    y_pred = rf.predict(X_val_fold)\n",
    "    \n",
    "    # Berechne den Fehler\n",
    "    fold_mse = mean_squared_error(y_val_fold, y_pred)\n",
    "    results_rf.append(fold_mse)\n",
    "    \n",
    "    print(f\"Fold {fold + 1}: MSE = {fold_mse}\")\n",
    "\n",
    "# Durchschnittlichen Fehler über alle Folds berechnen\n",
    "average_mse_rf = np.mean(results_rf)\n",
    "print(f\"Durchschnittlicher MSE über alle Folds: {average_mse_rf}\")"
   ]
  },
  {
   "cell_type": "markdown",
   "metadata": {},
   "source": [
    "Der Unterschied zwischen der Verwendung eines Integers oder eines Floats bei der Angabe von max_features in einem Random Forest Modell (wie in Scikit-learn) liegt in der Bedeutung des Parameters und wie die Anzahl der maximal zu betrachtenden Features berechnet wird:\n",
    "\n",
    "1. Wenn max_features ein Integer ist:\n",
    "\n",
    "\t•\tDer Wert gibt die exakte Anzahl der maximal zu betrachtenden Features an, die bei der Teilung eines Knotens in jedem Decision Tree berücksichtigt werden sollen.\n",
    "\t•\tBeispiel: max_features=3 bedeutet, dass 3 Features aus dem gesamten Feature-Set zufällig ausgewählt werden, um die beste Teilung zu bestimmen.\n",
    "\n",
    "2. Wenn max_features ein Float ist:\n",
    "\n",
    "\t•\tDer Wert gibt einen Prozentsatz der verfügbaren Features an, die verwendet werden sollen. Der Float-Wert muss zwischen 0.0 und 1.0 liegen.\n",
    "\t•\tBeispiel: max_features=0.5 bedeutet, dass 50 % der Features (aufgerundet) zufällig ausgewählt werden, um die beste Teilung zu bestimmen.\n",
    "    "
   ]
  },
  {
   "cell_type": "markdown",
   "metadata": {},
   "source": [
    "# Lagged Variable mit 1h lag"
   ]
  },
  {
   "cell_type": "code",
   "execution_count": 12,
   "metadata": {},
   "outputs": [
    {
     "data": {
      "text/html": [
       "<div>\n",
       "<style scoped>\n",
       "    .dataframe tbody tr th:only-of-type {\n",
       "        vertical-align: middle;\n",
       "    }\n",
       "\n",
       "    .dataframe tbody tr th {\n",
       "        vertical-align: top;\n",
       "    }\n",
       "\n",
       "    .dataframe thead th {\n",
       "        text-align: right;\n",
       "    }\n",
       "</style>\n",
       "<table border=\"1\" class=\"dataframe\">\n",
       "  <thead>\n",
       "    <tr style=\"text-align: right;\">\n",
       "      <th></th>\n",
       "      <th>Datum</th>\n",
       "      <th>PM10_Combined_Trend_Residual</th>\n",
       "    </tr>\n",
       "  </thead>\n",
       "  <tbody>\n",
       "    <tr>\n",
       "      <th>0</th>\n",
       "      <td>2022-01-02 00:00:00+00:00</td>\n",
       "      <td>14.547155</td>\n",
       "    </tr>\n",
       "    <tr>\n",
       "      <th>1</th>\n",
       "      <td>2022-01-02 01:00:00+00:00</td>\n",
       "      <td>13.151571</td>\n",
       "    </tr>\n",
       "    <tr>\n",
       "      <th>2</th>\n",
       "      <td>2022-01-02 02:00:00+00:00</td>\n",
       "      <td>12.394376</td>\n",
       "    </tr>\n",
       "    <tr>\n",
       "      <th>3</th>\n",
       "      <td>2022-01-02 03:00:00+00:00</td>\n",
       "      <td>11.062399</td>\n",
       "    </tr>\n",
       "    <tr>\n",
       "      <th>4</th>\n",
       "      <td>2022-01-02 04:00:00+00:00</td>\n",
       "      <td>11.068747</td>\n",
       "    </tr>\n",
       "  </tbody>\n",
       "</table>\n",
       "</div>"
      ],
      "text/plain": [
       "                      Datum  PM10_Combined_Trend_Residual\n",
       "0 2022-01-02 00:00:00+00:00                     14.547155\n",
       "1 2022-01-02 01:00:00+00:00                     13.151571\n",
       "2 2022-01-02 02:00:00+00:00                     12.394376\n",
       "3 2022-01-02 03:00:00+00:00                     11.062399\n",
       "4 2022-01-02 04:00:00+00:00                     11.068747"
      ]
     },
     "execution_count": 12,
     "metadata": {},
     "output_type": "execute_result"
    }
   ],
   "source": [
    "# Ensure 'Datum' column is in datetime format\n",
    "target_data_cutted['Datum'] = pd.to_datetime(target_data_cutted['Datum']).copy()\n",
    "\n",
    "# Create a copy of target_data to apply the offset\n",
    "lagged_target_variable_1h = target_data.copy()\n",
    "\n",
    "\n",
    "# Offset von -1 Stunde anwenden\n",
    "lagged_target_variable_1h['Datum'] = target_data['Datum'] + pd.Timedelta(hours=-1)\n",
    "\n",
    "\n",
    "\n",
    "lagged_target_variable_1h.head()\n"
   ]
  },
  {
   "cell_type": "markdown",
   "metadata": {},
   "source": [
    "# Ensure 'Datum' column in features_data is in datetime format\n",
    "features_data['Datum'] = pd.to_datetime(features_data['Datum'])\n",
    "\n",
    "# Merge the dataframes\n",
    "features_data_lagged = pd.merge(features_data, lagged_target_variable_1h, on=\"Datum\", how=\"left\")\n",
    "\n",
    "features_data_lagged.head(5)"
   ]
  },
  {
   "cell_type": "markdown",
   "metadata": {},
   "source": [
    "# Models mit Lagged Value trainieren"
   ]
  },
  {
   "cell_type": "code",
   "execution_count": 13,
   "metadata": {},
   "outputs": [
    {
     "name": "stdout",
     "output_type": "stream",
     "text": [
      "Train Size: 17184\n",
      "Validation Size: 2455\n",
      "Test Size: 4910\n"
     ]
    }
   ],
   "source": [
    "# Split our data intro features and targets\n",
    "# Teile das Dataset in Features und Zielvariable\n",
    "y = target_data_cutted[\"PM10_Combined_Trend_Residual\"]  # Zielvariable\n",
    "L = features_data.drop(columns=[\"Datum\"])  # Alle Spalten außer der Zielvariable\n",
    "\n",
    "X.head(10)\n",
    "\n",
    "# Split into training and test sets\n",
    "#L_train, L_test, y_train, y_test = train_test_split(L, y, random_state=72)\n",
    "\n",
    "# Daten splitten\n",
    "L_train_val, L_test, y_train_val, y_test = train_test_split(L, y, test_size=0.2, random_state=11)\n",
    "L_train, L_val, y_train, y_val = train_test_split(L_train_val, y_train_val, test_size=0.125, random_state=11)  # 10% von Gesamt\n",
    "\n",
    "print(\"Train Size:\", len(L_train))\n",
    "print(\"Validation Size:\", len(L_val))\n",
    "print(\"Test Size:\", len(L_test))"
   ]
  },
  {
   "cell_type": "markdown",
   "metadata": {},
   "source": [
    "## Normaler Decision Tree"
   ]
  },
  {
   "cell_type": "code",
   "execution_count": 14,
   "metadata": {},
   "outputs": [
    {
     "name": "stdout",
     "output_type": "stream",
     "text": [
      "Fold 1: MSE = 35.012882161617725\n",
      "Fold 2: MSE = 27.397413473942656\n",
      "Fold 3: MSE = 32.31868703707104\n",
      "Fold 4: MSE = 38.53738290918496\n",
      "Fold 5: MSE = 41.19610601628755\n",
      "Durchschnittlicher MSE über alle Folds: 34.89249431962079\n"
     ]
    }
   ],
   "source": [
    "from sklearn.model_selection import TimeSeriesSplit\n",
    "from sklearn.metrics import mean_squared_error\n",
    "import numpy as np\n",
    "from sklearn.tree import DecisionTreeRegressor\n",
    "\n",
    "np.random.seed(11)\n",
    "\n",
    "\n",
    "# Expanding Cross-Validation (5 Splits)\n",
    "tscv = TimeSeriesSplit(n_splits=5)\n",
    "L_results = []\n",
    "\n",
    "# Use the initial 50% of the data for training (optional, but keeps your requirement in mind)\n",
    "train_size = int(0.5 * len(X_train))\n",
    "L_train_init = L_train.iloc[:train_size]\n",
    "y_train_init = y_train.iloc[:train_size]\n",
    "\n",
    "# Perform expanding window cross-validation\n",
    "for fold, (train_index, val_index) in enumerate(tscv.split(L_train_init)):\n",
    "    # Expanding training data with each fold\n",
    "    L_train_fold = L_train_init.iloc[train_index]\n",
    "    y_train_fold = y_train_init.iloc[train_index]\n",
    "    \n",
    "    # Validation data stays fixed (next chunk after the training data)\n",
    "    L_val_fold = L_train_init.iloc[val_index]\n",
    "    y_val_fold = y_train_init.iloc[val_index]\n",
    "    \n",
    "    # Train the model\n",
    "    L_model = DecisionTreeRegressor()\n",
    "    L_model.fit(L_train_fold, y_train_fold)\n",
    "    \n",
    "    # Predict and calculate MSE\n",
    "    L_y_pred = L_model.predict(L_val_fold)\n",
    "    L_mse = mean_squared_error(y_val_fold, L_y_pred)\n",
    "    L_results.append(L_mse)\n",
    "    print(f\"Fold {fold + 1}: MSE = {L_mse}\")\n",
    "\n",
    "# Average MSE across all folds\n",
    "L_average_mse = np.mean(L_results)\n",
    "print(f\"Durchschnittlicher MSE über alle Folds: {L_average_mse}\")"
   ]
  },
  {
   "cell_type": "markdown",
   "metadata": {},
   "source": [
    "## Decision Tree mit Optimierung ccp_alpha"
   ]
  },
  {
   "cell_type": "code",
   "execution_count": 15,
   "metadata": {},
   "outputs": [
    {
     "name": "stdout",
     "output_type": "stream",
     "text": [
      "Fold 1: MSE = 29.907372697085165\n",
      "Fold 2: MSE = 26.764386012081125\n",
      "Fold 3: MSE = 25.465132169502457\n",
      "Fold 4: MSE = 24.196121496633403\n",
      "Fold 5: MSE = 30.107317724422092\n",
      "Durchschnittlicher MSE über alle Folds: 27.288066019944853\n"
     ]
    }
   ],
   "source": [
    "import pandas as pd\n",
    "from sklearn.model_selection import TimeSeriesSplit\n",
    "from sklearn.metrics import mean_squared_error\n",
    "import numpy as np\n",
    "\n",
    "np.random.seed(11)\n",
    "\n",
    "# Expanding Cross Validation mit 5 Folds\n",
    "tscv = TimeSeriesSplit(n_splits=5)\n",
    "\n",
    "# Liste zur Speicherung der Ergebnisse\n",
    "L_results_ccp = []\n",
    "\n",
    "for fold, (train_index, val_index) in enumerate(tscv.split(L_train_init)):\n",
    "    # Expanding training data with each fold\n",
    "    L_train_fold = L_train_init.iloc[train_index]\n",
    "    y_train_fold = y_train_init.iloc[train_index]\n",
    "    \n",
    "    # Validation data stays fixed (next chunk after the training data)\n",
    "    L_val_fold = L_train_init.iloc[val_index]\n",
    "    y_val_fold = y_train_init.iloc[val_index]\n",
    "    \n",
    "    # Train the model\n",
    "    L_tree_ccp = DecisionTreeRegressor(ccp_alpha=0.01)\n",
    "    L_tree_ccp.fit(L_train_fold, y_train_fold)\n",
    "    \n",
    "    # Vorhersagen machen\n",
    "    L_y_pred_ccp = L_tree_ccp.predict(L_test)\n",
    "    \n",
    "    # Berechne den Fehler\n",
    "    L_mse_ccp = mean_squared_error(y_test, L_y_pred_ccp)\n",
    "    L_results_ccp.append(L_mse_ccp)\n",
    "    \n",
    "    print(f\"Fold {fold + 1}: MSE = {L_mse_ccp}\")\n",
    "\n",
    "# Durchschnittlichen Fehler über alle Folds berechnen\n",
    "L_average_mse_ccp = np.mean(L_results_ccp)\n",
    "print(f\"Durchschnittlicher MSE über alle Folds: {L_average_mse_ccp}\")"
   ]
  },
  {
   "cell_type": "markdown",
   "metadata": {},
   "source": [
    "## Bagging"
   ]
  },
  {
   "cell_type": "code",
   "execution_count": 16,
   "metadata": {},
   "outputs": [
    {
     "name": "stdout",
     "output_type": "stream",
     "text": [
      "Fold 1: MSE = 17.34089783606704\n",
      "Fold 2: MSE = 16.001991921256188\n",
      "Fold 3: MSE = 15.190018250532802\n",
      "Fold 4: MSE = 14.657692879759935\n",
      "Fold 5: MSE = 14.921165143275346\n",
      "Durchschnittlicher MSE über alle Folds: 15.622353206178264\n"
     ]
    }
   ],
   "source": [
    "# Import the regression tree from scikit-learn and a plotting helper\n",
    "from sklearn.tree import DecisionTreeRegressor, plot_tree\n",
    "# Import our train_test_split helper\n",
    "from sklearn.model_selection import train_test_split\n",
    "# Import the mean_squared_error function under the alias mse\n",
    "from sklearn.metrics import mean_squared_error as mse\n",
    "# Import the resampling helper\n",
    "from sklearn.utils import resample\n",
    "# Import the sklearn implementation of bagging\n",
    "from sklearn.ensemble import BaggingRegressor\n",
    "\n",
    "np.random.seed(11)\n",
    "\n",
    "B = 100\n",
    "\n",
    "\n",
    "# Expanding Cross Validation mit 5 Folds\n",
    "tscv = TimeSeriesSplit(n_splits=5)\n",
    "\n",
    "# Liste zur Speicherung der Ergebnisse\n",
    "L_results_bag = []\n",
    "\n",
    "\n",
    "for fold, (train_index, val_index) in enumerate(tscv.split(L_train_init)):\n",
    "    # Expanding training data with each fold\n",
    "    L_train_fold = L_train_init.iloc[train_index]\n",
    "    y_train_fold = y_train_init.iloc[train_index]\n",
    "    \n",
    "    # Validation data stays fixed (next chunk after the training data)\n",
    "    L_val_fold = L_train_init.iloc[val_index]\n",
    "    y_val_fold = y_train_init.iloc[val_index]\n",
    "    \n",
    "    # Train the model\n",
    "    L_bagged_trees = BaggingRegressor(DecisionTreeRegressor(), n_estimators=B, random_state=11)\n",
    "    L_bagged_trees.fit(L_train_fold, y_train_fold)\n",
    "    \n",
    "    # Vorhersagen machen\n",
    "    L_y_pred = L_bagged_trees.predict(L_test)\n",
    "    \n",
    "    # Berechne den Fehler\n",
    "    L_mse = mean_squared_error(y_test, L_y_pred)\n",
    "    L_results_bag.append(L_mse)\n",
    "    \n",
    "    print(f\"Fold {fold + 1}: MSE = {L_mse}\")\n",
    "\n",
    "# Durchschnittlichen Fehler über alle Folds berechnen\n",
    "L_average_mse_bag = np.mean(L_results_bag)\n",
    "print(f\"Durchschnittlicher MSE über alle Folds: {L_average_mse_bag}\")"
   ]
  },
  {
   "cell_type": "markdown",
   "metadata": {},
   "source": [
    "## Random Forest"
   ]
  },
  {
   "cell_type": "code",
   "execution_count": 17,
   "metadata": {},
   "outputs": [
    {
     "name": "stdout",
     "output_type": "stream",
     "text": [
      "Fold 1: MSE = 17.133052145756942\n",
      "Fold 2: MSE = 15.696427731244139\n",
      "Fold 3: MSE = 15.176288428949169\n",
      "Fold 4: MSE = 14.552103896333223\n",
      "Fold 5: MSE = 14.150360605511285\n",
      "Durchschnittlicher MSE über alle Folds: 15.341646561558951\n"
     ]
    }
   ],
   "source": [
    "# Import the random forest regressor\n",
    "from sklearn.ensemble import RandomForestRegressor\n",
    "\n",
    "# Expanding Cross Validation mit 5 Folds\n",
    "tscv = TimeSeriesSplit(n_splits=5)\n",
    "\n",
    "# Liste zur Speicherung der Ergebnisse\n",
    "L_results_rf = []\n",
    "\n",
    "for fold, (train_index, val_index) in enumerate(tscv.split(L_train_init)):\n",
    "    # Expanding training data with each fold\n",
    "    L_train_fold = L_train_init.iloc[train_index]\n",
    "    y_train_fold = y_train_init.iloc[train_index]\n",
    "    \n",
    "    # Validation data stays fixed (next chunk after the training data)\n",
    "    L_val_fold = L_train_init.iloc[val_index]\n",
    "    y_val_fold = y_train_init.iloc[val_index]\n",
    "    \n",
    "    # Train the model\n",
    "    L_rf = RandomForestRegressor(n_estimators=B, max_features=\"sqrt\", random_state=11)\n",
    "    L_rf.fit(L_train_fold, y_train_fold)\n",
    "\n",
    "    # Vorhersagen machen\n",
    "    L_y_pred = L_rf.predict(L_test)\n",
    "    \n",
    "    # Berechne den Fehler\n",
    "    L_fold_mse = mean_squared_error(y_test, L_y_pred)\n",
    "    L_results_rf.append(L_fold_mse)\n",
    "    \n",
    "    print(f\"Fold {fold + 1}: MSE = {L_fold_mse}\")\n",
    "\n",
    "# Durchschnittlichen Fehler über alle Folds berechnen\n",
    "L_average_mse_rf = np.mean(L_results_rf)\n",
    "print(f\"Durchschnittlicher MSE über alle Folds: {L_average_mse_rf}\")"
   ]
  }
 ],
 "metadata": {
  "kernelspec": {
   "display_name": "Python 3",
   "language": "python",
   "name": "python3"
  },
  "language_info": {
   "codemirror_mode": {
    "name": "ipython",
    "version": 3
   },
   "file_extension": ".py",
   "mimetype": "text/x-python",
   "name": "python",
   "nbconvert_exporter": "python",
   "pygments_lexer": "ipython3",
   "version": "3.11.9"
  }
 },
 "nbformat": 4,
 "nbformat_minor": 2
}
