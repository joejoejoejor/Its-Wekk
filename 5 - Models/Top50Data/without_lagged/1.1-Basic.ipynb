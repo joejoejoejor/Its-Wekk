{
 "cells": [
  {
   "cell_type": "code",
   "execution_count": 6,
   "metadata": {},
   "outputs": [],
   "source": [
    "import pandas as pd\n",
    "features = pd.read_csv('../../../4 - Data/04_WorkingDatasets/Top50Combined/50MostImp+CombinedFeatures.csv') #Top 50 Feature + comination Features without Lagged Target\n",
    "target = pd.read_csv('../../../4 - Data/04_WorkingDatasets/Top50Combined/TargetCutto50MostImpFeatures_DF.csv')"
   ]
  },
  {
   "cell_type": "code",
   "execution_count": 7,
   "metadata": {},
   "outputs": [
    {
     "data": {
      "text/plain": [
       "(24574, 67)"
      ]
     },
     "execution_count": 7,
     "metadata": {},
     "output_type": "execute_result"
    }
   ],
   "source": [
    "features.shape"
   ]
  },
  {
   "cell_type": "code",
   "execution_count": 8,
   "metadata": {},
   "outputs": [
    {
     "name": "stdout",
     "output_type": "stream",
     "text": [
      "Fitting 5 folds for each of 256 candidates, totalling 1280 fits\n",
      "[CV] END alpha=0.0001, eta0=0.001, learning_rate=constant, penalty=None; total time=   0.1s\n",
      "[CV] END alpha=0.0001, eta0=0.001, learning_rate=constant, penalty=l2; total time=   0.2s\n",
      "[CV] END alpha=0.0001, eta0=0.001, learning_rate=constant, penalty=l1; total time=   0.2s\n",
      "[CV] END alpha=0.0001, eta0=0.001, learning_rate=constant, penalty=l2; total time=   0.3s\n",
      "[CV] END alpha=0.0001, eta0=0.001, learning_rate=constant, penalty=l1; total time=   0.3s\n",
      "[CV] END alpha=0.0001, eta0=0.001, learning_rate=constant, penalty=l1; total time=   0.3s\n",
      "[CV] END alpha=0.0001, eta0=0.001, learning_rate=constant, penalty=l2; total time=   0.3s\n",
      "[CV] END alpha=0.0001, eta0=0.001, learning_rate=constant, penalty=l1; total time=   0.4s\n",
      "[CV] END alpha=0.0001, eta0=0.001, learning_rate=constant, penalty=None; total time=   0.0s\n",
      "[CV] END alpha=0.0001, eta0=0.001, learning_rate=constant, penalty=elasticnet; total time=   0.4s\n",
      "[CV] END alpha=0.0001, eta0=0.001, learning_rate=constant, penalty=elasticnet; total time=   0.4s\n",
      "[CV] END alpha=0.0001, eta0=0.001, learning_rate=constant, penalty=elasticnet; total time=   0.4s\n",
      "[CV] END alpha=0.0001, eta0=0.001, learning_rate=constant, penalty=None; total time=   0.2s\n",
      "[CV] END alpha=0.0001, eta0=0.001, learning_rate=constant, penalty=None; total time=   0.2s\n",
      "[CV] END alpha=0.0001, eta0=0.001, learning_rate=constant, penalty=l1; total time=   0.5s\n",
      "[CV] END alpha=0.0001, eta0=0.001, learning_rate=constant, penalty=None; total time=   0.4s\n",
      "[CV] END alpha=0.0001, eta0=0.001, learning_rate=constant, penalty=l2; total time=   1.1s\n",
      "[CV] END alpha=0.0001, eta0=0.001, learning_rate=constant, penalty=elasticnet; total time=   1.1s\n",
      "[CV] END alpha=0.0001, eta0=0.001, learning_rate=constant, penalty=l2; total time=   1.2s\n",
      "[CV] END alpha=0.0001, eta0=0.001, learning_rate=constant, penalty=elasticnet; total time=   1.1s\n",
      "[CV] END alpha=0.0001, eta0=0.001, learning_rate=optimal, penalty=l2; total time=   1.4s[CV] END alpha=0.0001, eta0=0.001, learning_rate=optimal, penalty=l2; total time=   1.5s\n",
      "\n",
      "[CV] END alpha=0.0001, eta0=0.001, learning_rate=optimal, penalty=l1; total time=   1.5s\n",
      "[CV] END alpha=0.0001, eta0=0.001, learning_rate=optimal, penalty=l2; total time=   1.5s\n",
      "[CV] END alpha=0.0001, eta0=0.001, learning_rate=optimal, penalty=l1; total time=   1.4s\n",
      "[CV] END alpha=0.0001, eta0=0.001, learning_rate=optimal, penalty=l2; total time=   1.5s\n",
      "[CV] END alpha=0.0001, eta0=0.001, learning_rate=optimal, penalty=l1; total time=   1.4s\n",
      "[CV] END alpha=0.0001, eta0=0.001, learning_rate=optimal, penalty=l2; total time=   1.5s\n",
      "[CV] END alpha=0.0001, eta0=0.001, learning_rate=optimal, penalty=l1; total time=   1.9s\n",
      "[CV] END alpha=0.0001, eta0=0.001, learning_rate=invscaling, penalty=l2; total time=   0.4s\n",
      "[CV] END alpha=0.0001, eta0=0.001, learning_rate=invscaling, penalty=l2; total time=   0.6s\n",
      "[CV] END alpha=0.0001, eta0=0.001, learning_rate=invscaling, penalty=l2; total time=   0.7s\n",
      "[CV] END alpha=0.0001, eta0=0.001, learning_rate=optimal, penalty=None; total time=   0.8s\n",
      "[CV] END alpha=0.0001, eta0=0.001, learning_rate=invscaling, penalty=l2; total time=   0.4s\n",
      "[CV] END alpha=0.0001, eta0=0.001, learning_rate=invscaling, penalty=l2; total time=   0.9s\n",
      "[CV] END alpha=0.0001, eta0=0.001, learning_rate=optimal, penalty=l1; total time=   2.5s\n",
      "[CV] END alpha=0.0001, eta0=0.001, learning_rate=optimal, penalty=elasticnet; total time=   2.2s\n",
      "[CV] END alpha=0.0001, eta0=0.001, learning_rate=optimal, penalty=None; total time=   1.0s\n",
      "[CV] END alpha=0.0001, eta0=0.001, learning_rate=optimal, penalty=None; total time=   1.2s\n",
      "[CV] END alpha=0.0001, eta0=0.001, learning_rate=optimal, penalty=None; total time=   1.2s\n",
      "[CV] END alpha=0.0001, eta0=0.001, learning_rate=optimal, penalty=elasticnet; total time=   2.8s\n",
      "[CV] END alpha=0.0001, eta0=0.001, learning_rate=invscaling, penalty=l1; total time=   0.8s\n",
      "[CV] END alpha=0.0001, eta0=0.001, learning_rate=invscaling, penalty=l1; total time=   0.8s\n",
      "[CV] END alpha=0.0001, eta0=0.001, learning_rate=invscaling, penalty=l1; total time=   1.3s\n",
      "[CV] END alpha=0.0001, eta0=0.001, learning_rate=invscaling, penalty=elasticnet; total time=   0.7s\n",
      "[CV] END alpha=0.0001, eta0=0.001, learning_rate=invscaling, penalty=l1; total time=   0.9s\n",
      "[CV] END alpha=0.0001, eta0=0.001, learning_rate=invscaling, penalty=None; total time=   0.5s\n",
      "[CV] END alpha=0.0001, eta0=0.001, learning_rate=invscaling, penalty=elasticnet; total time=   0.9s\n",
      "[CV] END alpha=0.0001, eta0=0.001, learning_rate=invscaling, penalty=None; total time=   0.4s\n",
      "[CV] END alpha=0.0001, eta0=0.001, learning_rate=invscaling, penalty=None; total time=   0.4s\n",
      "[CV] END alpha=0.0001, eta0=0.001, learning_rate=invscaling, penalty=l1; total time=   1.1s\n",
      "[CV] END alpha=0.0001, eta0=0.001, learning_rate=invscaling, penalty=elasticnet; total time=   1.0s\n",
      "[CV] END alpha=0.0001, eta0=0.001, learning_rate=invscaling, penalty=None; total time=   0.5s\n",
      "[CV] END alpha=0.0001, eta0=0.001, learning_rate=invscaling, penalty=elasticnet; total time=   1.1s\n",
      "[CV] END alpha=0.0001, eta0=0.001, learning_rate=invscaling, penalty=elasticnet; total time=   1.1s\n",
      "[CV] END alpha=0.0001, eta0=0.001, learning_rate=invscaling, penalty=None; total time=   0.5s\n",
      "[CV] END alpha=0.0001, eta0=0.001, learning_rate=adaptive, penalty=l2; total time=   0.6s\n",
      "[CV] END alpha=0.0001, eta0=0.001, learning_rate=adaptive, penalty=l2; total time=   0.6s\n",
      "[CV] END alpha=0.0001, eta0=0.001, learning_rate=adaptive, penalty=l2; total time=   0.7s\n",
      "[CV] END alpha=0.0001, eta0=0.001, learning_rate=adaptive, penalty=l2; total time=   1.0s\n",
      "[CV] END alpha=0.0001, eta0=0.001, learning_rate=adaptive, penalty=l2; total time=   0.9s\n",
      "[CV] END alpha=0.0001, eta0=0.001, learning_rate=adaptive, penalty=l1; total time=   1.0s\n",
      "[CV] END alpha=0.0001, eta0=0.001, learning_rate=adaptive, penalty=l1; total time=   1.2s\n",
      "[CV] END alpha=0.0001, eta0=0.001, learning_rate=adaptive, penalty=l1; total time=   1.1s\n",
      "[CV] END alpha=0.0001, eta0=0.001, learning_rate=adaptive, penalty=elasticnet; total time=   1.1s\n",
      "[CV] END alpha=0.0001, eta0=0.001, learning_rate=adaptive, penalty=l1; total time=   1.2s\n",
      "[CV] END alpha=0.0001, eta0=0.001, learning_rate=adaptive, penalty=None; total time=   0.6s\n",
      "[CV] END alpha=0.0001, eta0=0.001, learning_rate=adaptive, penalty=elasticnet; total time=   1.1s\n",
      "[CV] END alpha=0.0001, eta0=0.001, learning_rate=adaptive, penalty=elasticnet; total time=   1.2s\n",
      "[CV] END alpha=0.0001, eta0=0.001, learning_rate=adaptive, penalty=l1; total time=   1.3s\n",
      "[CV] END alpha=0.0001, eta0=0.01, learning_rate=constant, penalty=l2; total time=   0.1s\n",
      "[CV] END alpha=0.0001, eta0=0.001, learning_rate=adaptive, penalty=elasticnet; total time=   1.0s\n",
      "[CV] END alpha=0.0001, eta0=0.01, learning_rate=constant, penalty=l2; total time=   0.0s\n",
      "[CV] END alpha=0.0001, eta0=0.01, learning_rate=constant, penalty=l2; total time=   0.2s\n",
      "[CV] END alpha=0.0001, eta0=0.01, learning_rate=constant, penalty=l2; total time=   0.1s\n",
      "[CV] END alpha=0.0001, eta0=0.001, learning_rate=adaptive, penalty=None; total time=   0.8s\n",
      "[CV] END alpha=0.0001, eta0=0.01, learning_rate=constant, penalty=l1; total time=   0.1s\n",
      "[CV] END alpha=0.0001, eta0=0.001, learning_rate=adaptive, penalty=None; total time=   0.7s\n",
      "[CV] END alpha=0.0001, eta0=0.001, learning_rate=adaptive, penalty=elasticnet; total time=   1.1s\n",
      "[CV] END alpha=0.0001, eta0=0.01, learning_rate=constant, penalty=l2; total time=   0.2s\n",
      "[CV] END alpha=0.0001, eta0=0.01, learning_rate=constant, penalty=l1; total time=   0.2s\n",
      "[CV] END alpha=0.0001, eta0=0.01, learning_rate=constant, penalty=elasticnet; total time=   0.1s\n",
      "[CV] END alpha=0.0001, eta0=0.001, learning_rate=adaptive, penalty=None; total time=   0.7s\n",
      "[CV] END alpha=0.0001, eta0=0.001, learning_rate=adaptive, penalty=None; total time=   0.6s\n",
      "[CV] END alpha=0.0001, eta0=0.01, learning_rate=constant, penalty=l1; total time=   0.3s\n",
      "[CV] END alpha=0.0001, eta0=0.01, learning_rate=constant, penalty=elasticnet; total time=   0.1s\n",
      "[CV] END alpha=0.0001, eta0=0.01, learning_rate=constant, penalty=None; total time=   0.1s\n",
      "[CV] END alpha=0.0001, eta0=0.01, learning_rate=constant, penalty=None; total time=   0.1s\n",
      "[CV] END alpha=0.0001, eta0=0.01, learning_rate=constant, penalty=None; total time=   0.0s\n",
      "[CV] END alpha=0.0001, eta0=0.01, learning_rate=constant, penalty=None; total time=   0.1s\n",
      "[CV] END alpha=0.0001, eta0=0.01, learning_rate=constant, penalty=elasticnet; total time=   0.2s\n",
      "[CV] END alpha=0.0001, eta0=0.01, learning_rate=constant, penalty=None; total time=   0.1s\n",
      "[CV] END alpha=0.0001, eta0=0.01, learning_rate=constant, penalty=elasticnet; total time=   0.4s\n",
      "[CV] END alpha=0.0001, eta0=0.01, learning_rate=constant, penalty=l1; total time=   0.6s\n",
      "[CV] END alpha=0.0001, eta0=0.01, learning_rate=constant, penalty=elasticnet; total time=   0.4s\n",
      "[CV] END alpha=0.0001, eta0=0.01, learning_rate=constant, penalty=l1; total time=   0.8s\n",
      "[CV] END alpha=0.0001, eta0=0.01, learning_rate=optimal, penalty=l2; total time=   0.9s\n",
      "[CV] END alpha=0.0001, eta0=0.01, learning_rate=optimal, penalty=l2; total time=   0.8s\n",
      "[CV] END alpha=0.0001, eta0=0.01, learning_rate=optimal, penalty=l2; total time=   0.9s\n",
      "[CV] END alpha=0.0001, eta0=0.01, learning_rate=optimal, penalty=l2; total time=   1.2s\n",
      "[CV] END alpha=0.0001, eta0=0.01, learning_rate=optimal, penalty=l2; total time=   1.4s\n",
      "[CV] END alpha=0.0001, eta0=0.01, learning_rate=optimal, penalty=l1; total time=   1.8s\n",
      "[CV] END alpha=0.0001, eta0=0.01, learning_rate=optimal, penalty=l1; total time=   1.8s\n",
      "[CV] END alpha=0.0001, eta0=0.01, learning_rate=optimal, penalty=l1; total time=   1.9s\n",
      "[CV] END alpha=0.0001, eta0=0.01, learning_rate=optimal, penalty=elasticnet; total time=   1.3s\n",
      "[CV] END alpha=0.0001, eta0=0.01, learning_rate=optimal, penalty=l1; total time=   2.0s\n",
      "[CV] END alpha=0.0001, eta0=0.001, learning_rate=optimal, penalty=None; total time=   7.2s\n",
      "[CV] END alpha=0.0001, eta0=0.01, learning_rate=optimal, penalty=l1; total time=   2.3s\n",
      "[CV] END alpha=0.0001, eta0=0.01, learning_rate=optimal, penalty=None; total time=   1.1s\n",
      "[CV] END alpha=0.0001, eta0=0.01, learning_rate=invscaling, penalty=l2; total time=   0.2s\n",
      "[CV] END alpha=0.0001, eta0=0.01, learning_rate=optimal, penalty=elasticnet; total time=   1.6s\n",
      "[CV] END alpha=0.0001, eta0=0.01, learning_rate=optimal, penalty=None; total time=   0.6s\n",
      "[CV] END alpha=0.0001, eta0=0.01, learning_rate=invscaling, penalty=l2; total time=   0.2s\n",
      "[CV] END alpha=0.0001, eta0=0.01, learning_rate=invscaling, penalty=l2; total time=   0.4s\n",
      "[CV] END alpha=0.0001, eta0=0.01, learning_rate=optimal, penalty=None; total time=   1.2s\n",
      "[CV] END alpha=0.0001, eta0=0.01, learning_rate=optimal, penalty=None; total time=   0.8s\n",
      "[CV] END alpha=0.0001, eta0=0.01, learning_rate=invscaling, penalty=l2; total time=   0.3s\n",
      "[CV] END alpha=0.0001, eta0=0.01, learning_rate=invscaling, penalty=l1; total time=   0.2s\n",
      "[CV] END alpha=0.0001, eta0=0.01, learning_rate=optimal, penalty=None; total time=   0.8s\n",
      "[CV] END alpha=0.0001, eta0=0.01, learning_rate=invscaling, penalty=l1; total time=   0.2s\n",
      "[CV] END alpha=0.0001, eta0=0.01, learning_rate=optimal, penalty=elasticnet; total time=   2.8s\n",
      "[CV] END alpha=0.0001, eta0=0.01, learning_rate=optimal, penalty=elasticnet; total time=   2.7s\n",
      "[CV] END alpha=0.0001, eta0=0.01, learning_rate=invscaling, penalty=l1; total time=   0.6s\n",
      "[CV] END alpha=0.0001, eta0=0.01, learning_rate=optimal, penalty=elasticnet; total time=   2.3s\n",
      "[CV] END alpha=0.0001, eta0=0.01, learning_rate=invscaling, penalty=elasticnet; total time=   0.4s\n",
      "[CV] END alpha=0.0001, eta0=0.01, learning_rate=invscaling, penalty=l1; total time=   0.5s\n",
      "[CV] END alpha=0.0001, eta0=0.01, learning_rate=invscaling, penalty=l1; total time=   0.5s\n",
      "[CV] END alpha=0.0001, eta0=0.01, learning_rate=invscaling, penalty=elasticnet; total time=   0.4s\n",
      "[CV] END alpha=0.0001, eta0=0.01, learning_rate=invscaling, penalty=elasticnet; total time=   0.4s\n",
      "[CV] END alpha=0.0001, eta0=0.01, learning_rate=invscaling, penalty=None; total time=   0.2s\n",
      "[CV] END alpha=0.0001, eta0=0.01, learning_rate=invscaling, penalty=None; total time=   0.3s\n",
      "[CV] END alpha=0.0001, eta0=0.01, learning_rate=invscaling, penalty=None; total time=   0.2s\n",
      "[CV] END alpha=0.0001, eta0=0.01, learning_rate=invscaling, penalty=None; total time=   0.3s[CV] END alpha=0.0001, eta0=0.01, learning_rate=invscaling, penalty=None; total time=   0.3s\n",
      "\n",
      "[CV] END alpha=0.0001, eta0=0.01, learning_rate=invscaling, penalty=elasticnet; total time=   0.5s\n",
      "[CV] END alpha=0.0001, eta0=0.01, learning_rate=invscaling, penalty=elasticnet; total time=   0.7s\n",
      "[CV] END alpha=0.0001, eta0=0.01, learning_rate=adaptive, penalty=l2; total time=   0.5s\n",
      "[CV] END alpha=0.0001, eta0=0.01, learning_rate=invscaling, penalty=l2; total time=   1.6s\n",
      "[CV] END alpha=0.0001, eta0=0.01, learning_rate=adaptive, penalty=l2; total time=   0.6s\n",
      "[CV] END alpha=0.0001, eta0=0.01, learning_rate=adaptive, penalty=l2; total time=   1.0s\n",
      "[CV] END alpha=0.0001, eta0=0.01, learning_rate=adaptive, penalty=l1; total time=   1.0s\n",
      "[CV] END alpha=0.0001, eta0=0.01, learning_rate=adaptive, penalty=l2; total time=   1.2s\n",
      "[CV] END alpha=0.0001, eta0=0.01, learning_rate=adaptive, penalty=elasticnet; total time=   1.0s[CV] END alpha=0.0001, eta0=0.01, learning_rate=adaptive, penalty=l2; total time=   1.4s\n",
      "\n",
      "[CV] END alpha=0.0001, eta0=0.01, learning_rate=adaptive, penalty=l1; total time=   1.6s\n",
      "[CV] END alpha=0.0001, eta0=0.01, learning_rate=adaptive, penalty=None; total time=   0.5s\n",
      "[CV] END alpha=0.0001, eta0=0.01, learning_rate=adaptive, penalty=l1; total time=   1.8s\n",
      "[CV] END alpha=0.0001, eta0=0.01, learning_rate=adaptive, penalty=l1; total time=   1.6s\n",
      "[CV] END alpha=0.0001, eta0=0.1, learning_rate=constant, penalty=l2; total time=   0.1s\n",
      "[CV] END alpha=0.0001, eta0=0.1, learning_rate=constant, penalty=l2; total time=   0.0s\n",
      "[CV] END alpha=0.0001, eta0=0.01, learning_rate=adaptive, penalty=elasticnet; total time=   1.7s\n",
      "[CV] END alpha=0.0001, eta0=0.1, learning_rate=constant, penalty=l2; total time=   0.0s\n",
      "[CV] END alpha=0.0001, eta0=0.01, learning_rate=adaptive, penalty=elasticnet; total time=   1.3s\n",
      "[CV] END alpha=0.0001, eta0=0.1, learning_rate=constant, penalty=l2; total time=   0.1s\n",
      "[CV] END alpha=0.0001, eta0=0.01, learning_rate=adaptive, penalty=elasticnet; total time=   1.4s\n",
      "[CV] END alpha=0.0001, eta0=0.01, learning_rate=adaptive, penalty=None; total time=   1.0s\n",
      "[CV] END alpha=0.0001, eta0=0.1, learning_rate=constant, penalty=l2; total time=   0.0s\n",
      "[CV] END alpha=0.0001, eta0=0.01, learning_rate=adaptive, penalty=None; total time=   0.6s\n",
      "[CV] END alpha=0.0001, eta0=0.01, learning_rate=adaptive, penalty=l1; total time=   1.8s\n",
      "[CV] END alpha=0.0001, eta0=0.1, learning_rate=constant, penalty=l1; total time=   0.0s\n",
      "[CV] END alpha=0.0001, eta0=0.1, learning_rate=constant, penalty=l1; total time=   0.0s\n",
      "[CV] END alpha=0.0001, eta0=0.1, learning_rate=constant, penalty=l1; total time=   0.1s\n",
      "[CV] END alpha=0.0001, eta0=0.1, learning_rate=constant, penalty=l1; total time=   0.2s\n",
      "[CV] END alpha=0.0001, eta0=0.1, learning_rate=constant, penalty=None; total time=   0.1s\n",
      "[CV] END alpha=0.0001, eta0=0.1, learning_rate=constant, penalty=None; total time=   0.0s\n",
      "[CV] END alpha=0.0001, eta0=0.01, learning_rate=adaptive, penalty=None; total time=   0.8s\n",
      "[CV] END alpha=0.0001, eta0=0.1, learning_rate=constant, penalty=elasticnet; total time=   0.2s\n",
      "[CV] END alpha=0.0001, eta0=0.1, learning_rate=constant, penalty=None; total time=   0.0s\n",
      "[CV] END alpha=0.0001, eta0=0.1, learning_rate=constant, penalty=elasticnet; total time=   0.1s\n",
      "[CV] END alpha=0.0001, eta0=0.01, learning_rate=adaptive, penalty=None; total time=   1.0s\n",
      "[CV] END alpha=0.0001, eta0=0.1, learning_rate=constant, penalty=elasticnet; total time=   0.1s\n",
      "[CV] END alpha=0.0001, eta0=0.1, learning_rate=constant, penalty=l1; total time=   0.2s\n",
      "[CV] END alpha=0.0001, eta0=0.1, learning_rate=constant, penalty=elasticnet; total time=   0.2s\n",
      "[CV] END alpha=0.0001, eta0=0.1, learning_rate=constant, penalty=None; total time=   0.0s\n",
      "[CV] END alpha=0.0001, eta0=0.1, learning_rate=constant, penalty=None; total time=   0.2s\n",
      "[CV] END alpha=0.0001, eta0=0.1, learning_rate=constant, penalty=elasticnet; total time=   0.4s\n",
      "[CV] END alpha=0.0001, eta0=0.001, learning_rate=optimal, penalty=elasticnet; total time=  11.2s\n",
      "[CV] END alpha=0.0001, eta0=0.1, learning_rate=optimal, penalty=l2; total time=   1.0s\n",
      "[CV] END alpha=0.0001, eta0=0.1, learning_rate=optimal, penalty=l2; total time=   1.1s\n",
      "[CV] END alpha=0.0001, eta0=0.1, learning_rate=optimal, penalty=l2; total time=   1.2s\n",
      "[CV] END alpha=0.0001, eta0=0.1, learning_rate=optimal, penalty=l2; total time=   1.2s\n",
      "[CV] END alpha=0.0001, eta0=0.1, learning_rate=optimal, penalty=l2; total time=   1.2s\n",
      "[CV] END alpha=0.0001, eta0=0.1, learning_rate=optimal, penalty=l1; total time=   1.5s\n",
      "[CV] END alpha=0.0001, eta0=0.1, learning_rate=optimal, penalty=l1; total time=   2.0s\n",
      "[CV] END alpha=0.0001, eta0=0.1, learning_rate=optimal, penalty=l1; total time=   2.1s\n",
      "[CV] END alpha=0.0001, eta0=0.1, learning_rate=optimal, penalty=elasticnet; total time=   1.9s\n",
      "[CV] END alpha=0.0001, eta0=0.001, learning_rate=optimal, penalty=elasticnet; total time=  13.1s\n",
      "[CV] END alpha=0.0001, eta0=0.1, learning_rate=optimal, penalty=None; total time=   1.0s\n",
      "[CV] END alpha=0.0001, eta0=0.1, learning_rate=optimal, penalty=l1; total time=   2.3s\n",
      "[CV] END alpha=0.0001, eta0=0.1, learning_rate=optimal, penalty=None; total time=   1.1s\n",
      "[CV] END alpha=0.0001, eta0=0.1, learning_rate=optimal, penalty=l1; total time=   2.4s\n",
      "[CV] END alpha=0.0001, eta0=0.1, learning_rate=optimal, penalty=None; total time=   1.4s\n",
      "[CV] END alpha=0.0001, eta0=0.1, learning_rate=invscaling, penalty=l2; total time=   0.5s\n",
      "[CV] END alpha=0.0001, eta0=0.1, learning_rate=invscaling, penalty=l2; total time=   0.3s\n",
      "[CV] END alpha=0.0001, eta0=0.1, learning_rate=optimal, penalty=None; total time=   1.2s\n",
      "[CV] END alpha=0.0001, eta0=0.1, learning_rate=optimal, penalty=elasticnet; total time=   2.6s\n",
      "[CV] END alpha=0.0001, eta0=0.1, learning_rate=invscaling, penalty=l1; total time=   0.7s\n",
      "[CV] END alpha=0.0001, eta0=0.1, learning_rate=invscaling, penalty=l2; total time=   0.7s\n",
      "[CV] END alpha=0.0001, eta0=0.1, learning_rate=optimal, penalty=elasticnet; total time=   2.1s\n",
      "[CV] END alpha=0.0001, eta0=0.1, learning_rate=invscaling, penalty=l1; total time=   0.5s\n",
      "[CV] END alpha=0.0001, eta0=0.1, learning_rate=invscaling, penalty=l1; total time=   0.7s\n",
      "[CV] END alpha=0.0001, eta0=0.1, learning_rate=invscaling, penalty=l2; total time=   1.0s\n",
      "[CV] END alpha=0.0001, eta0=0.001, learning_rate=optimal, penalty=elasticnet; total time=  14.2s\n",
      "[CV] END alpha=0.0001, eta0=0.1, learning_rate=optimal, penalty=None; total time=   1.3s\n",
      "[CV] END alpha=0.0001, eta0=0.1, learning_rate=invscaling, penalty=l1; total time=   0.6s\n",
      "[CV] END alpha=0.0001, eta0=0.1, learning_rate=invscaling, penalty=elasticnet; total time=   0.5s\n",
      "[CV] END alpha=0.0001, eta0=0.1, learning_rate=invscaling, penalty=l1; total time=   0.8s\n",
      "[CV] END alpha=0.0001, eta0=0.1, learning_rate=invscaling, penalty=None; total time=   0.3s\n",
      "[CV] END alpha=0.0001, eta0=0.1, learning_rate=invscaling, penalty=None; total time=   0.3s\n",
      "[CV] END alpha=0.0001, eta0=0.1, learning_rate=invscaling, penalty=elasticnet; total time=   0.8s\n",
      "[CV] END alpha=0.0001, eta0=0.1, learning_rate=invscaling, penalty=None; total time=   0.4s\n",
      "[CV] END alpha=0.0001, eta0=0.1, learning_rate=invscaling, penalty=None; total time=   0.3s\n",
      "[CV] END alpha=0.0001, eta0=0.1, learning_rate=invscaling, penalty=elasticnet; total time=   0.5s\n",
      "[CV] END alpha=0.0001, eta0=0.1, learning_rate=invscaling, penalty=elasticnet; total time=   0.7s\n",
      "[CV] END alpha=0.0001, eta0=0.1, learning_rate=optimal, penalty=elasticnet; total time=   2.9s\n",
      "[CV] END alpha=0.0001, eta0=0.1, learning_rate=invscaling, penalty=elasticnet; total time=   0.9s\n",
      "[CV] END alpha=0.0001, eta0=0.1, learning_rate=invscaling, penalty=l2; total time=   1.9s\n",
      "[CV] END alpha=0.0001, eta0=0.1, learning_rate=invscaling, penalty=None; total time=   1.0s\n",
      "[CV] END alpha=0.0001, eta0=0.1, learning_rate=adaptive, penalty=l2; total time=   1.3s\n",
      "[CV] END alpha=0.0001, eta0=0.1, learning_rate=adaptive, penalty=l2; total time=   1.7s\n",
      "[CV] END alpha=0.0001, eta0=0.1, learning_rate=adaptive, penalty=l2; total time=   1.7s\n",
      "[CV] END alpha=0.0001, eta0=0.1, learning_rate=adaptive, penalty=l2; total time=   1.7s\n",
      "[CV] END alpha=0.0001, eta0=0.1, learning_rate=adaptive, penalty=l2; total time=   1.9s\n",
      "[CV] END alpha=0.0001, eta0=0.1, learning_rate=adaptive, penalty=l1; total time=   2.6s\n",
      "[CV] END alpha=0.0001, eta0=0.01, learning_rate=adaptive, penalty=elasticnet; total time=   8.5s\n",
      "[CV] END alpha=0.0001, eta0=0.1, learning_rate=adaptive, penalty=l1; total time=   2.9s\n",
      "[CV] END alpha=0.0001, eta0=0.1, learning_rate=adaptive, penalty=l1; total time=   2.9s\n",
      "[CV] END alpha=0.0001, eta0=0.1, learning_rate=adaptive, penalty=l1; total time=   2.8s\n",
      "[CV] END alpha=0.0001, eta0=0.1, learning_rate=adaptive, penalty=None; total time=   1.2s\n",
      "[CV] END alpha=0.0001, eta0=1, learning_rate=constant, penalty=l2; total time=   0.1s\n",
      "[CV] END alpha=0.0001, eta0=0.1, learning_rate=adaptive, penalty=None; total time=   1.6s\n",
      "[CV] END alpha=0.0001, eta0=1, learning_rate=constant, penalty=l2; total time=   0.1s\n",
      "[CV] END alpha=0.0001, eta0=1, learning_rate=constant, penalty=l2; total time=   0.0s\n",
      "[CV] END alpha=0.0001, eta0=0.1, learning_rate=adaptive, penalty=None; total time=   1.5s\n",
      "[CV] END alpha=0.0001, eta0=0.1, learning_rate=adaptive, penalty=l1; total time=   3.1s\n",
      "[CV] END alpha=0.0001, eta0=1, learning_rate=constant, penalty=l2; total time=   0.1s\n",
      "[CV] END alpha=0.0001, eta0=0.1, learning_rate=adaptive, penalty=elasticnet; total time=   2.9s\n",
      "[CV] END alpha=0.0001, eta0=1, learning_rate=constant, penalty=l1; total time=   0.1s\n",
      "[CV] END alpha=0.0001, eta0=1, learning_rate=constant, penalty=l1; total time=   0.1s\n",
      "[CV] END alpha=0.0001, eta0=0.1, learning_rate=adaptive, penalty=None; total time=   1.9s\n",
      "[CV] END alpha=0.0001, eta0=1, learning_rate=constant, penalty=l1; total time=   0.2s\n",
      "[CV] END alpha=0.0001, eta0=1, learning_rate=constant, penalty=l1; total time=   0.2s\n",
      "[CV] END alpha=0.0001, eta0=1, learning_rate=constant, penalty=elasticnet; total time=   0.2s\n",
      "[CV] END alpha=0.0001, eta0=1, learning_rate=constant, penalty=elasticnet; total time=   0.1s\n",
      "[CV] END alpha=0.0001, eta0=1, learning_rate=constant, penalty=l1; total time=   0.2s\n",
      "[CV] END alpha=0.0001, eta0=0.1, learning_rate=adaptive, penalty=elasticnet; total time=   3.2s\n",
      "[CV] END alpha=0.0001, eta0=1, learning_rate=constant, penalty=None; total time=   0.0s\n",
      "[CV] END alpha=0.0001, eta0=1, learning_rate=constant, penalty=None; total time=   0.0s\n",
      "[CV] END alpha=0.0001, eta0=1, learning_rate=constant, penalty=elasticnet; total time=   0.2s\n",
      "[CV] END alpha=0.0001, eta0=1, learning_rate=constant, penalty=None; total time=   0.0s\n",
      "[CV] END alpha=0.0001, eta0=1, learning_rate=constant, penalty=elasticnet; total time=   0.2s\n",
      "[CV] END alpha=0.0001, eta0=1, learning_rate=constant, penalty=None; total time=   0.1s\n",
      "[CV] END alpha=0.0001, eta0=1, learning_rate=constant, penalty=None; total time=   0.1s\n",
      "[CV] END alpha=0.0001, eta0=0.1, learning_rate=adaptive, penalty=elasticnet; total time=   2.3s\n",
      "[CV] END alpha=0.0001, eta0=1, learning_rate=constant, penalty=elasticnet; total time=   0.4s\n",
      "[CV] END alpha=0.0001, eta0=1, learning_rate=constant, penalty=l2; total time=   1.2s\n",
      "[CV] END alpha=0.0001, eta0=0.1, learning_rate=optimal, penalty=elasticnet; total time=   8.0s\n",
      "[CV] END alpha=0.0001, eta0=1, learning_rate=optimal, penalty=l2; total time=   0.9s\n",
      "[CV] END alpha=0.0001, eta0=1, learning_rate=optimal, penalty=l2; total time=   0.9s\n",
      "[CV] END alpha=0.0001, eta0=0.1, learning_rate=adaptive, penalty=None; total time=   1.7s\n",
      "[CV] END alpha=0.0001, eta0=1, learning_rate=optimal, penalty=l2; total time=   0.9s\n",
      "[CV] END alpha=0.0001, eta0=1, learning_rate=optimal, penalty=l2; total time=   1.0s\n",
      "[CV] END alpha=0.0001, eta0=1, learning_rate=optimal, penalty=l2; total time=   1.1s\n",
      "[CV] END alpha=0.0001, eta0=1, learning_rate=optimal, penalty=elasticnet; total time=   1.3s\n",
      "[CV] END alpha=0.0001, eta0=1, learning_rate=optimal, penalty=None; total time=   0.8s[CV] END alpha=0.0001, eta0=1, learning_rate=optimal, penalty=l1; total time=   1.8s\n",
      "\n",
      "[CV] END alpha=0.0001, eta0=1, learning_rate=optimal, penalty=l1; total time=   1.9s\n",
      "[CV] END alpha=0.0001, eta0=1, learning_rate=optimal, penalty=None; total time=   0.9s\n",
      "[CV] END alpha=0.0001, eta0=1, learning_rate=optimal, penalty=None; total time=   0.8s\n",
      "[CV] END alpha=0.0001, eta0=1, learning_rate=optimal, penalty=None; total time=   1.0s\n",
      "[CV] END alpha=0.0001, eta0=1, learning_rate=optimal, penalty=l1; total time=   2.0s\n",
      "[CV] END alpha=0.0001, eta0=1, learning_rate=optimal, penalty=l1; total time=   2.1s\n",
      "[CV] END alpha=0.0001, eta0=1, learning_rate=optimal, penalty=l1; total time=   2.2s\n",
      "[CV] END alpha=0.0001, eta0=1, learning_rate=optimal, penalty=None; total time=   1.0s\n",
      "[CV] END alpha=0.0001, eta0=1, learning_rate=optimal, penalty=elasticnet; total time=   1.9s\n",
      "[CV] END alpha=0.0001, eta0=1, learning_rate=optimal, penalty=elasticnet; total time=   2.1s\n",
      "[CV] END alpha=0.0001, eta0=1, learning_rate=invscaling, penalty=l2; total time=   1.2s\n",
      "[CV] END alpha=0.0001, eta0=1, learning_rate=invscaling, penalty=l2; total time=   1.4s\n",
      "[CV] END alpha=0.0001, eta0=1, learning_rate=invscaling, penalty=l2; total time=   1.5s\n",
      "[CV] END alpha=0.0001, eta0=1, learning_rate=invscaling, penalty=l2; total time=   1.6s\n",
      "[CV] END alpha=0.0001, eta0=1, learning_rate=invscaling, penalty=l2; total time=   1.8s\n",
      "[CV] END alpha=0.0001, eta0=1, learning_rate=invscaling, penalty=l1; total time=   1.6s\n",
      "[CV] END alpha=0.0001, eta0=1, learning_rate=invscaling, penalty=l1; total time=   1.9s\n",
      "[CV] END alpha=0.0001, eta0=1, learning_rate=invscaling, penalty=l1; total time=   1.9s\n",
      "[CV] END alpha=0.0001, eta0=1, learning_rate=invscaling, penalty=None; total time=   1.0s\n",
      "[CV] END alpha=0.0001, eta0=1, learning_rate=invscaling, penalty=None; total time=   1.2s\n",
      "[CV] END alpha=0.0001, eta0=1, learning_rate=invscaling, penalty=elasticnet; total time=   1.7s\n",
      "[CV] END alpha=0.0001, eta0=1, learning_rate=invscaling, penalty=l1; total time=   2.8s\n",
      "[CV] END alpha=0.0001, eta0=1, learning_rate=invscaling, penalty=l1; total time=   2.8s\n",
      "[CV] END alpha=0.0001, eta0=1, learning_rate=invscaling, penalty=elasticnet; total time=   2.2s\n",
      "[CV] END alpha=0.0001, eta0=1, learning_rate=invscaling, penalty=None; total time=   1.2s\n",
      "[CV] END alpha=0.0001, eta0=1, learning_rate=invscaling, penalty=elasticnet; total time=   1.8s\n",
      "[CV] END alpha=0.0001, eta0=1, learning_rate=invscaling, penalty=None; total time=   1.4s\n",
      "[CV] END alpha=0.0001, eta0=1, learning_rate=adaptive, penalty=l2; total time=   1.0s\n",
      "[CV] END alpha=0.0001, eta0=1, learning_rate=invscaling, penalty=elasticnet; total time=   2.9s\n",
      "[CV] END alpha=0.0001, eta0=1, learning_rate=adaptive, penalty=l2; total time=   1.2s\n",
      "[CV] END alpha=0.0001, eta0=1, learning_rate=adaptive, penalty=l2; total time=   1.2s\n",
      "[CV] END alpha=0.0001, eta0=1, learning_rate=invscaling, penalty=None; total time=   1.7s\n",
      "[CV] END alpha=0.0001, eta0=1, learning_rate=invscaling, penalty=elasticnet; total time=   2.9s\n",
      "[CV] END alpha=0.0001, eta0=1, learning_rate=adaptive, penalty=l2; total time=   1.4s\n",
      "[CV] END alpha=0.0001, eta0=1, learning_rate=adaptive, penalty=l2; total time=   1.9s\n",
      "[CV] END alpha=0.0001, eta0=1, learning_rate=adaptive, penalty=l1; total time=   2.5s\n",
      "[CV] END alpha=0.0001, eta0=1, learning_rate=adaptive, penalty=l1; total time=   2.6s\n",
      "[CV] END alpha=0.0001, eta0=1, learning_rate=optimal, penalty=elasticnet; total time=   6.9s\n",
      "[CV] END alpha=0.0001, eta0=1, learning_rate=adaptive, penalty=l1; total time=   2.3s\n",
      "[CV] END alpha=0.0001, eta0=1, learning_rate=adaptive, penalty=None; total time=   1.5s\n",
      "[CV] END alpha=0.001, eta0=0.001, learning_rate=constant, penalty=l2; total time=   0.0s\n",
      "[CV] END alpha=0.001, eta0=0.001, learning_rate=constant, penalty=l2; total time=   0.1s\n",
      "[CV] END alpha=0.0001, eta0=1, learning_rate=adaptive, penalty=None; total time=   1.3s\n",
      "[CV] END alpha=0.001, eta0=0.001, learning_rate=constant, penalty=l2; total time=   0.1s\n",
      "[CV] END alpha=0.001, eta0=0.001, learning_rate=constant, penalty=l2; total time=   0.1s\n",
      "[CV] END alpha=0.0001, eta0=1, learning_rate=adaptive, penalty=elasticnet; total time=   2.3s\n",
      "[CV] END alpha=0.001, eta0=0.001, learning_rate=constant, penalty=l2; total time=   0.0s\n",
      "[CV] END alpha=0.0001, eta0=1, learning_rate=adaptive, penalty=l1; total time=   3.2s\n",
      "[CV] END alpha=0.0001, eta0=1, learning_rate=adaptive, penalty=l1; total time=   2.5s\n",
      "[CV] END alpha=0.0001, eta0=1, learning_rate=adaptive, penalty=elasticnet; total time=   2.2s\n",
      "[CV] END alpha=0.0001, eta0=1, learning_rate=adaptive, penalty=elasticnet; total time=   2.5s\n",
      "[CV] END alpha=0.001, eta0=0.001, learning_rate=constant, penalty=l1; total time=   0.2s\n",
      "[CV] END alpha=0.0001, eta0=1, learning_rate=adaptive, penalty=elasticnet; total time=   2.5s\n",
      "[CV] END alpha=0.001, eta0=0.001, learning_rate=constant, penalty=l1; total time=   0.2s\n",
      "[CV] END alpha=0.0001, eta0=1, learning_rate=adaptive, penalty=elasticnet; total time=   2.3s\n",
      "[CV] END alpha=0.001, eta0=0.001, learning_rate=constant, penalty=l1; total time=   0.2s\n",
      "[CV] END alpha=0.0001, eta0=1, learning_rate=optimal, penalty=elasticnet; total time=   8.4s\n",
      "[CV] END alpha=0.001, eta0=0.001, learning_rate=constant, penalty=elasticnet; total time=   0.2s\n",
      "[CV] END alpha=0.001, eta0=0.001, learning_rate=constant, penalty=elasticnet; total time=   0.2s\n",
      "[CV] END alpha=0.001, eta0=0.001, learning_rate=constant, penalty=None; total time=   0.1s\n",
      "[CV] END alpha=0.001, eta0=0.001, learning_rate=constant, penalty=elasticnet; total time=   0.2s\n",
      "[CV] END alpha=0.001, eta0=0.001, learning_rate=constant, penalty=l1; total time=   0.4s\n",
      "[CV] END alpha=0.001, eta0=0.001, learning_rate=constant, penalty=None; total time=   0.1s\n",
      "[CV] END alpha=0.001, eta0=0.001, learning_rate=constant, penalty=elasticnet; total time=   0.2s\n",
      "[CV] END alpha=0.001, eta0=0.001, learning_rate=constant, penalty=None; total time=   0.2s\n",
      "[CV] END alpha=0.001, eta0=0.001, learning_rate=constant, penalty=elasticnet; total time=   0.2s\n",
      "[CV] END alpha=0.001, eta0=0.001, learning_rate=constant, penalty=l1; total time=   0.4s\n",
      "[CV] END alpha=0.0001, eta0=1, learning_rate=adaptive, penalty=None; total time=   1.3s\n",
      "[CV] END alpha=0.001, eta0=0.001, learning_rate=constant, penalty=None; total time=   0.1s\n",
      "[CV] END alpha=0.0001, eta0=1, learning_rate=adaptive, penalty=None; total time=   1.4s\n",
      "[CV] END alpha=0.001, eta0=0.001, learning_rate=optimal, penalty=l2; total time=   0.4s\n",
      "[CV] END alpha=0.001, eta0=0.001, learning_rate=optimal, penalty=l2; total time=   0.5s\n",
      "[CV] END alpha=0.001, eta0=0.001, learning_rate=optimal, penalty=l2; total time=   0.6s\n",
      "[CV] END alpha=0.001, eta0=0.001, learning_rate=optimal, penalty=l2; total time=   0.6s\n",
      "[CV] END alpha=0.001, eta0=0.001, learning_rate=optimal, penalty=l1; total time=   0.6s\n",
      "[CV] END alpha=0.001, eta0=0.001, learning_rate=optimal, penalty=l2; total time=   0.8s\n",
      "[CV] END alpha=0.001, eta0=0.001, learning_rate=optimal, penalty=l1; total time=   0.8s\n",
      "[CV] END alpha=0.001, eta0=0.001, learning_rate=optimal, penalty=l1; total time=   0.9s\n",
      "[CV] END alpha=0.001, eta0=0.001, learning_rate=constant, penalty=None; total time=   1.2s\n",
      "[CV] END alpha=0.001, eta0=0.001, learning_rate=optimal, penalty=None; total time=   0.3s\n",
      "[CV] END alpha=0.001, eta0=0.001, learning_rate=optimal, penalty=elasticnet; total time=   1.1s\n",
      "[CV] END alpha=0.001, eta0=0.001, learning_rate=optimal, penalty=None; total time=   0.4s\n",
      "[CV] END alpha=0.001, eta0=0.001, learning_rate=optimal, penalty=elasticnet; total time=   0.7s\n",
      "[CV] END alpha=0.001, eta0=0.001, learning_rate=optimal, penalty=None; total time=   0.6s\n",
      "[CV] END alpha=0.001, eta0=0.001, learning_rate=optimal, penalty=elasticnet; total time=   1.4s\n",
      "[CV] END alpha=0.001, eta0=0.001, learning_rate=optimal, penalty=l1; total time=   1.5s\n",
      "[CV] END alpha=0.001, eta0=0.001, learning_rate=optimal, penalty=elasticnet; total time=   1.1s\n",
      "[CV] END alpha=0.001, eta0=0.001, learning_rate=optimal, penalty=l1; total time=   1.5s\n",
      "[CV] END alpha=0.0001, eta0=0.1, learning_rate=adaptive, penalty=elasticnet; total time=  13.9s\n",
      "[CV] END alpha=0.001, eta0=0.001, learning_rate=invscaling, penalty=l2; total time=   0.6s\n",
      "[CV] END alpha=0.001, eta0=0.001, learning_rate=invscaling, penalty=l2; total time=   0.6s\n",
      "[CV] END alpha=0.001, eta0=0.001, learning_rate=invscaling, penalty=l2; total time=   0.6s\n",
      "[CV] END alpha=0.001, eta0=0.001, learning_rate=invscaling, penalty=l2; total time=   0.8s\n",
      "[CV] END alpha=0.001, eta0=0.001, learning_rate=optimal, penalty=elasticnet; total time=   1.4s\n",
      "[CV] END alpha=0.001, eta0=0.001, learning_rate=optimal, penalty=None; total time=   1.1s\n",
      "[CV] END alpha=0.001, eta0=0.001, learning_rate=optimal, penalty=None; total time=   1.0s\n",
      "[CV] END alpha=0.001, eta0=0.001, learning_rate=invscaling, penalty=l1; total time=   0.6s\n",
      "[CV] END alpha=0.001, eta0=0.001, learning_rate=invscaling, penalty=l1; total time=   0.6s\n",
      "[CV] END alpha=0.001, eta0=0.001, learning_rate=invscaling, penalty=l1; total time=   0.7s\n",
      "[CV] END alpha=0.001, eta0=0.001, learning_rate=invscaling, penalty=l1; total time=   0.8s\n",
      "[CV] END alpha=0.001, eta0=0.001, learning_rate=invscaling, penalty=l1; total time=   1.0s\n",
      "[CV] END alpha=0.001, eta0=0.001, learning_rate=invscaling, penalty=None; total time=   0.5s\n",
      "[CV] END alpha=0.001, eta0=0.001, learning_rate=invscaling, penalty=None; total time=   0.3s\n",
      "[CV] END alpha=0.001, eta0=0.001, learning_rate=invscaling, penalty=None; total time=   0.6s\n",
      "[CV] END alpha=0.001, eta0=0.001, learning_rate=invscaling, penalty=elasticnet; total time=   0.7s\n",
      "[CV] END alpha=0.0001, eta0=0.1, learning_rate=adaptive, penalty=elasticnet; total time=  14.5s\n",
      "[CV] END alpha=0.001, eta0=0.001, learning_rate=invscaling, penalty=None; total time=   0.4s\n",
      "[CV] END alpha=0.001, eta0=0.001, learning_rate=invscaling, penalty=elasticnet; total time=   0.7s\n",
      "[CV] END alpha=0.001, eta0=0.001, learning_rate=invscaling, penalty=elasticnet; total time=   0.7s\n",
      "[CV] END alpha=0.001, eta0=0.001, learning_rate=invscaling, penalty=None; total time=   0.8s\n",
      "[CV] END alpha=0.001, eta0=0.001, learning_rate=invscaling, penalty=elasticnet; total time=   0.9s\n",
      "[CV] END alpha=0.001, eta0=0.001, learning_rate=adaptive, penalty=l2; total time=   0.6s\n",
      "[CV] END alpha=0.001, eta0=0.001, learning_rate=adaptive, penalty=l2; total time=   0.6s\n",
      "[CV] END alpha=0.001, eta0=0.001, learning_rate=adaptive, penalty=l2; total time=   0.5s\n",
      "[CV] END alpha=0.001, eta0=0.001, learning_rate=adaptive, penalty=l2; total time=   0.7s\n",
      "[CV] END alpha=0.001, eta0=0.001, learning_rate=adaptive, penalty=l2; total time=   0.8s\n",
      "[CV] END alpha=0.001, eta0=0.001, learning_rate=adaptive, penalty=l1; total time=   0.8s\n",
      "[CV] END alpha=0.001, eta0=0.001, learning_rate=adaptive, penalty=l1; total time=   0.9s\n",
      "[CV] END alpha=0.001, eta0=0.001, learning_rate=adaptive, penalty=l1; total time=   0.9s\n",
      "[CV] END alpha=0.001, eta0=0.001, learning_rate=adaptive, penalty=l1; total time=   0.9s\n",
      "[CV] END alpha=0.001, eta0=0.01, learning_rate=constant, penalty=l2; total time=   0.0s\n",
      "[CV] END alpha=0.001, eta0=0.001, learning_rate=adaptive, penalty=None; total time=   0.6s\n",
      "[CV] END alpha=0.001, eta0=0.001, learning_rate=invscaling, penalty=l2; total time=   3.2s[CV] END alpha=0.001, eta0=0.001, learning_rate=adaptive, penalty=elasticnet; total time=   1.2s\n",
      "\n",
      "[CV] END alpha=0.001, eta0=0.001, learning_rate=adaptive, penalty=None; total time=   0.5s\n",
      "[CV] END alpha=0.001, eta0=0.001, learning_rate=adaptive, penalty=elasticnet; total time=   1.4s\n",
      "[CV] END alpha=0.001, eta0=0.001, learning_rate=adaptive, penalty=None; total time=   1.0s\n",
      "[CV] END alpha=0.001, eta0=0.01, learning_rate=constant, penalty=l2; total time=   0.3s\n",
      "[CV] END alpha=0.001, eta0=0.01, learning_rate=constant, penalty=l2; total time=   0.4s\n",
      "[CV] END alpha=0.001, eta0=0.001, learning_rate=adaptive, penalty=None; total time=   0.7s\n",
      "[CV] END alpha=0.001, eta0=0.001, learning_rate=adaptive, penalty=elasticnet; total time=   1.2s\n",
      "[CV] END alpha=0.001, eta0=0.001, learning_rate=adaptive, penalty=elasticnet; total time=   1.3s\n",
      "[CV] END alpha=0.001, eta0=0.001, learning_rate=adaptive, penalty=None; total time=   0.6s\n",
      "[CV] END alpha=0.001, eta0=0.001, learning_rate=adaptive, penalty=elasticnet; total time=   1.3s\n",
      "[CV] END alpha=0.001, eta0=0.01, learning_rate=constant, penalty=l2; total time=   0.0s\n",
      "[CV] END alpha=0.001, eta0=0.01, learning_rate=constant, penalty=None; total time=   0.0s\n",
      "[CV] END alpha=0.001, eta0=0.01, learning_rate=constant, penalty=l2; total time=   0.6s\n",
      "[CV] END alpha=0.001, eta0=0.01, learning_rate=constant, penalty=None; total time=   0.0s\n",
      "[CV] END alpha=0.001, eta0=0.01, learning_rate=constant, penalty=elasticnet; total time=   0.2s\n",
      "[CV] END alpha=0.001, eta0=0.01, learning_rate=constant, penalty=None; total time=   0.2s\n",
      "[CV] END alpha=0.001, eta0=0.01, learning_rate=constant, penalty=elasticnet; total time=   0.2s\n",
      "[CV] END alpha=0.001, eta0=0.01, learning_rate=constant, penalty=elasticnet; total time=   0.3s\n",
      "[CV] END alpha=0.001, eta0=0.01, learning_rate=constant, penalty=elasticnet; total time=   0.3s\n",
      "[CV] END alpha=0.001, eta0=0.01, learning_rate=constant, penalty=None; total time=   0.0s\n",
      "[CV] END alpha=0.001, eta0=0.01, learning_rate=constant, penalty=None; total time=   0.1s\n",
      "[CV] END alpha=0.001, eta0=0.01, learning_rate=constant, penalty=l1; total time=   0.5s\n",
      "[CV] END alpha=0.001, eta0=0.01, learning_rate=constant, penalty=l1; total time=   0.5s\n",
      "[CV] END alpha=0.001, eta0=0.01, learning_rate=constant, penalty=l1; total time=   0.6s\n",
      "[CV] END alpha=0.001, eta0=0.01, learning_rate=constant, penalty=l1; total time=   0.6s\n",
      "[CV] END alpha=0.001, eta0=0.01, learning_rate=optimal, penalty=l2; total time=   0.5s\n",
      "[CV] END alpha=0.001, eta0=0.01, learning_rate=constant, penalty=elasticnet; total time=   0.9s\n",
      "[CV] END alpha=0.001, eta0=0.01, learning_rate=optimal, penalty=l2; total time=   0.6s\n",
      "[CV] END alpha=0.001, eta0=0.01, learning_rate=optimal, penalty=l2; total time=   0.6s\n",
      "[CV] END alpha=0.001, eta0=0.01, learning_rate=optimal, penalty=l2; total time=   0.7s\n",
      "[CV] END alpha=0.001, eta0=0.01, learning_rate=optimal, penalty=l2; total time=   1.0s\n",
      "[CV] END alpha=0.001, eta0=0.01, learning_rate=optimal, penalty=l1; total time=   0.9s\n",
      "[CV] END alpha=0.001, eta0=0.01, learning_rate=optimal, penalty=l1; total time=   0.9s\n",
      "[CV] END alpha=0.001, eta0=0.01, learning_rate=optimal, penalty=l1; total time=   1.0s\n",
      "[CV] END alpha=0.001, eta0=0.01, learning_rate=optimal, penalty=l1; total time=   1.2s\n",
      "[CV] END alpha=0.001, eta0=0.01, learning_rate=optimal, penalty=None; total time=   0.8s[CV] END alpha=0.001, eta0=0.01, learning_rate=optimal, penalty=None; total time=   0.5s\n",
      "\n",
      "[CV] END alpha=0.001, eta0=0.01, learning_rate=optimal, penalty=elasticnet; total time=   1.0s\n",
      "[CV] END alpha=0.001, eta0=0.01, learning_rate=optimal, penalty=None; total time=   0.7s\n",
      "[CV] END alpha=0.001, eta0=0.01, learning_rate=optimal, penalty=None; total time=   0.3s\n",
      "[CV] END alpha=0.001, eta0=0.01, learning_rate=optimal, penalty=elasticnet; total time=   1.3s[CV] END alpha=0.001, eta0=0.01, learning_rate=invscaling, penalty=l2; total time=   0.4s\n",
      "[CV] END alpha=0.001, eta0=0.01, learning_rate=optimal, penalty=None; total time=   0.7s\n",
      "\n",
      "[CV] END alpha=0.001, eta0=0.01, learning_rate=constant, penalty=l1; total time=   2.4s\n",
      "[CV] END alpha=0.001, eta0=0.01, learning_rate=invscaling, penalty=l2; total time=   0.2s\n",
      "[CV] END alpha=0.001, eta0=0.01, learning_rate=invscaling, penalty=l2; total time=   0.3s\n",
      "[CV] END alpha=0.001, eta0=0.01, learning_rate=invscaling, penalty=l2; total time=   0.5s\n",
      "[CV] END alpha=0.001, eta0=0.01, learning_rate=optimal, penalty=elasticnet; total time=   1.9s\n",
      "[CV] END alpha=0.001, eta0=0.01, learning_rate=invscaling, penalty=l1; total time=   0.5s\n",
      "[CV] END alpha=0.001, eta0=0.01, learning_rate=invscaling, penalty=l2; total time=   0.6s\n",
      "[CV] END alpha=0.001, eta0=0.01, learning_rate=invscaling, penalty=l1; total time=   0.4s\n",
      "[CV] END alpha=0.001, eta0=0.01, learning_rate=invscaling, penalty=l1; total time=   0.5s\n",
      "[CV] END alpha=0.001, eta0=0.01, learning_rate=optimal, penalty=elasticnet; total time=   1.9s\n",
      "[CV] END alpha=0.001, eta0=0.01, learning_rate=invscaling, penalty=l1; total time=   0.6s\n",
      "[CV] END alpha=0.001, eta0=0.01, learning_rate=invscaling, penalty=elasticnet; total time=   0.5s\n",
      "[CV] END alpha=0.001, eta0=0.01, learning_rate=invscaling, penalty=None; total time=   0.1s\n",
      "[CV] END alpha=0.001, eta0=0.01, learning_rate=optimal, penalty=elasticnet; total time=   2.0s\n",
      "[CV] END alpha=0.001, eta0=0.01, learning_rate=optimal, penalty=l1; total time=   2.6s\n",
      "[CV] END alpha=0.001, eta0=0.01, learning_rate=invscaling, penalty=elasticnet; total time=   0.3s\n",
      "[CV] END alpha=0.001, eta0=0.01, learning_rate=invscaling, penalty=elasticnet; total time=   0.6s\n",
      "[CV] END alpha=0.001, eta0=0.01, learning_rate=invscaling, penalty=None; total time=   0.3s\n",
      "[CV] END alpha=0.0001, eta0=1, learning_rate=adaptive, penalty=None; total time=   8.9s\n",
      "[CV] END alpha=0.001, eta0=0.01, learning_rate=invscaling, penalty=None; total time=   0.2s\n",
      "[CV] END alpha=0.001, eta0=0.01, learning_rate=invscaling, penalty=None; total time=   0.2s\n",
      "[CV] END alpha=0.001, eta0=0.01, learning_rate=invscaling, penalty=elasticnet; total time=   0.5s\n",
      "[CV] END alpha=0.001, eta0=0.01, learning_rate=invscaling, penalty=None; total time=   0.3s\n",
      "[CV] END alpha=0.001, eta0=0.01, learning_rate=invscaling, penalty=elasticnet; total time=   0.9s\n",
      "[CV] END alpha=0.001, eta0=0.001, learning_rate=invscaling, penalty=elasticnet; total time=   6.5s\n",
      "[CV] END alpha=0.001, eta0=0.01, learning_rate=adaptive, penalty=l2; total time=   1.0s[CV] END alpha=0.001, eta0=0.01, learning_rate=adaptive, penalty=l2; total time=   1.0s\n",
      "\n",
      "[CV] END alpha=0.001, eta0=0.01, learning_rate=adaptive, penalty=l2; total time=   1.0s\n",
      "[CV] END alpha=0.001, eta0=0.01, learning_rate=adaptive, penalty=l2; total time=   1.0s\n",
      "[CV] END alpha=0.001, eta0=0.01, learning_rate=adaptive, penalty=l2; total time=   1.0s\n",
      "[CV] END alpha=0.001, eta0=0.01, learning_rate=invscaling, penalty=l1; total time=   2.3s\n",
      "[CV] END alpha=0.001, eta0=0.01, learning_rate=adaptive, penalty=l1; total time=   1.5s\n",
      "[CV] END alpha=0.001, eta0=0.01, learning_rate=adaptive, penalty=elasticnet; total time=   1.4s\n",
      "[CV] END alpha=0.001, eta0=0.1, learning_rate=constant, penalty=l2; total time=   0.1s\n",
      "[CV] END alpha=0.001, eta0=0.01, learning_rate=adaptive, penalty=None; total time=   0.7s\n",
      "[CV] END alpha=0.001, eta0=0.01, learning_rate=adaptive, penalty=None; total time=   0.7s\n",
      "[CV] END alpha=0.001, eta0=0.01, learning_rate=adaptive, penalty=elasticnet; total time=   1.6s\n",
      "[CV] END alpha=0.001, eta0=0.1, learning_rate=constant, penalty=l2; total time=   0.1s\n",
      "[CV] END alpha=0.001, eta0=0.01, learning_rate=adaptive, penalty=l1; total time=   1.7s\n",
      "[CV] END alpha=0.001, eta0=0.01, learning_rate=adaptive, penalty=None; total time=   0.8s\n",
      "[CV] END alpha=0.001, eta0=0.1, learning_rate=constant, penalty=l2; total time=   0.0s\n",
      "[CV] END alpha=0.001, eta0=0.1, learning_rate=constant, penalty=l2; total time=   0.1s\n",
      "[CV] END alpha=0.001, eta0=0.01, learning_rate=adaptive, penalty=None; total time=   1.0s\n",
      "[CV] END alpha=0.001, eta0=0.1, learning_rate=constant, penalty=l2; total time=   0.2s\n",
      "[CV] END alpha=0.001, eta0=0.1, learning_rate=constant, penalty=l1; total time=   0.1s\n",
      "[CV] END alpha=0.001, eta0=0.1, learning_rate=constant, penalty=l1; total time=   0.1s\n",
      "[CV] END alpha=0.001, eta0=0.1, learning_rate=constant, penalty=l1; total time=   0.1s\n",
      "[CV] END alpha=0.001, eta0=0.1, learning_rate=constant, penalty=l1; total time=   0.2s\n",
      "[CV] END alpha=0.001, eta0=0.01, learning_rate=adaptive, penalty=elasticnet; total time=   1.8s\n",
      "[CV] END alpha=0.001, eta0=0.1, learning_rate=constant, penalty=elasticnet; total time=   0.1s\n",
      "[CV] END alpha=0.001, eta0=0.1, learning_rate=constant, penalty=None; total time=   0.0s\n",
      "[CV] END alpha=0.001, eta0=0.01, learning_rate=adaptive, penalty=l1; total time=   2.2s\n",
      "[CV] END alpha=0.001, eta0=0.01, learning_rate=adaptive, penalty=l1; total time=   2.1s\n",
      "[CV] END alpha=0.001, eta0=0.1, learning_rate=constant, penalty=None; total time=   0.1s\n",
      "[CV] END alpha=0.001, eta0=0.1, learning_rate=constant, penalty=l1; total time=   0.3s\n",
      "[CV] END alpha=0.001, eta0=0.1, learning_rate=constant, penalty=None; total time=   0.0s\n",
      "[CV] END alpha=0.001, eta0=0.1, learning_rate=constant, penalty=elasticnet; total time=   0.1s\n",
      "[CV] END alpha=0.001, eta0=0.1, learning_rate=constant, penalty=None; total time=   0.0s\n",
      "[CV] END alpha=0.001, eta0=0.1, learning_rate=constant, penalty=None; total time=   0.1s\n",
      "[CV] END alpha=0.001, eta0=0.1, learning_rate=constant, penalty=elasticnet; total time=   0.2s\n",
      "[CV] END alpha=0.001, eta0=0.1, learning_rate=constant, penalty=elasticnet; total time=   0.4s\n",
      "[CV] END alpha=0.001, eta0=0.1, learning_rate=constant, penalty=elasticnet; total time=   0.4s\n",
      "[CV] END alpha=0.001, eta0=0.1, learning_rate=optimal, penalty=l2; total time=   0.4s[CV] END alpha=0.001, eta0=0.001, learning_rate=adaptive, penalty=l1; total time=   7.5s\n",
      "\n",
      "[CV] END alpha=0.001, eta0=0.1, learning_rate=optimal, penalty=l2; total time=   0.5s\n",
      "[CV] END alpha=0.001, eta0=0.1, learning_rate=optimal, penalty=l2; total time=   0.5s\n",
      "[CV] END alpha=0.001, eta0=0.1, learning_rate=optimal, penalty=l2; total time=   0.6s\n",
      "[CV] END alpha=0.001, eta0=0.1, learning_rate=optimal, penalty=l2; total time=   0.7s\n",
      "[CV] END alpha=0.001, eta0=0.1, learning_rate=optimal, penalty=l1; total time=   0.7s\n",
      "[CV] END alpha=0.001, eta0=0.01, learning_rate=adaptive, penalty=elasticnet; total time=   2.1s\n",
      "[CV] END alpha=0.001, eta0=0.1, learning_rate=optimal, penalty=l1; total time=   0.8s\n",
      "[CV] END alpha=0.001, eta0=0.1, learning_rate=optimal, penalty=l1; total time=   1.0s\n",
      "[CV] END alpha=0.001, eta0=0.1, learning_rate=optimal, penalty=l1; total time=   1.0s\n",
      "[CV] END alpha=0.001, eta0=0.1, learning_rate=optimal, penalty=None; total time=   0.4s\n",
      "[CV] END alpha=0.001, eta0=0.1, learning_rate=optimal, penalty=elasticnet; total time=   0.8s\n",
      "[CV] END alpha=0.001, eta0=0.1, learning_rate=optimal, penalty=elasticnet; total time=   0.8s\n",
      "[CV] END alpha=0.001, eta0=0.1, learning_rate=invscaling, penalty=l2; total time=   0.2s\n",
      "[CV] END alpha=0.001, eta0=0.1, learning_rate=optimal, penalty=None; total time=   0.4s\n",
      "[CV] END alpha=0.001, eta0=0.1, learning_rate=optimal, penalty=None; total time=   0.6s\n",
      "[CV] END alpha=0.001, eta0=0.1, learning_rate=optimal, penalty=None; total time=   0.6s\n",
      "[CV] END alpha=0.001, eta0=0.1, learning_rate=invscaling, penalty=l2; total time=   0.3s\n",
      "[CV] END alpha=0.001, eta0=0.1, learning_rate=optimal, penalty=None; total time=   0.8s\n",
      "[CV] END alpha=0.001, eta0=0.1, learning_rate=invscaling, penalty=l2; total time=   0.3s\n",
      "[CV] END alpha=0.001, eta0=0.1, learning_rate=invscaling, penalty=l2; total time=   0.3s\n",
      "[CV] END alpha=0.001, eta0=0.1, learning_rate=optimal, penalty=elasticnet; total time=   1.5s\n",
      "[CV] END alpha=0.001, eta0=0.1, learning_rate=invscaling, penalty=l2; total time=   0.4s\n",
      "[CV] END alpha=0.001, eta0=0.1, learning_rate=optimal, penalty=elasticnet; total time=   1.2s\n",
      "[CV] END alpha=0.001, eta0=0.1, learning_rate=invscaling, penalty=l1; total time=   0.6s\n",
      "[CV] END alpha=0.001, eta0=0.1, learning_rate=invscaling, penalty=l1; total time=   0.6s\n",
      "[CV] END alpha=0.001, eta0=0.1, learning_rate=invscaling, penalty=l1; total time=   0.6s\n",
      "[CV] END alpha=0.001, eta0=0.1, learning_rate=optimal, penalty=l1; total time=   2.2s\n",
      "[CV] END alpha=0.001, eta0=0.1, learning_rate=invscaling, penalty=l1; total time=   0.6s\n",
      "[CV] END alpha=0.001, eta0=0.1, learning_rate=invscaling, penalty=None; total time=   0.1s\n",
      "[CV] END alpha=0.001, eta0=0.1, learning_rate=invscaling, penalty=None; total time=   0.5s\n",
      "[CV] END alpha=0.001, eta0=0.1, learning_rate=invscaling, penalty=elasticnet; total time=   0.6s\n",
      "[CV] END alpha=0.001, eta0=0.1, learning_rate=invscaling, penalty=l1; total time=   0.9s\n",
      "[CV] END alpha=0.001, eta0=0.1, learning_rate=invscaling, penalty=None; total time=   0.3s\n",
      "[CV] END alpha=0.001, eta0=0.1, learning_rate=invscaling, penalty=elasticnet; total time=   0.8s\n",
      "[CV] END alpha=0.001, eta0=0.1, learning_rate=invscaling, penalty=None; total time=   0.3s\n",
      "[CV] END alpha=0.001, eta0=0.1, learning_rate=invscaling, penalty=None; total time=   0.4s\n",
      "[CV] END alpha=0.001, eta0=0.1, learning_rate=invscaling, penalty=elasticnet; total time=   0.9s\n",
      "[CV] END alpha=0.001, eta0=0.1, learning_rate=invscaling, penalty=elasticnet; total time=   1.0s\n",
      "[CV] END alpha=0.001, eta0=0.1, learning_rate=invscaling, penalty=elasticnet; total time=   1.3s\n",
      "[CV] END alpha=0.001, eta0=0.1, learning_rate=adaptive, penalty=l2; total time=   1.6s\n",
      "[CV] END alpha=0.001, eta0=0.1, learning_rate=adaptive, penalty=l2; total time=   1.4s\n",
      "[CV] END alpha=0.001, eta0=0.1, learning_rate=adaptive, penalty=l2; total time=   1.5s\n",
      "[CV] END alpha=0.001, eta0=0.1, learning_rate=adaptive, penalty=l2; total time=   1.5s\n",
      "[CV] END alpha=0.001, eta0=0.1, learning_rate=adaptive, penalty=l2; total time=   1.6s\n",
      "[CV] END alpha=0.001, eta0=0.01, learning_rate=adaptive, penalty=None; total time=   4.9s\n",
      "[CV] END alpha=0.001, eta0=0.1, learning_rate=adaptive, penalty=l1; total time=   2.5s\n",
      "[CV] END alpha=0.001, eta0=0.1, learning_rate=adaptive, penalty=elasticnet; total time=   2.3s\n",
      "[CV] END alpha=0.001, eta0=0.1, learning_rate=adaptive, penalty=l1; total time=   2.6s\n",
      "[CV] END alpha=0.001, eta0=1, learning_rate=constant, penalty=l2; total time=   0.0s\n",
      "[CV] END alpha=0.001, eta0=0.1, learning_rate=adaptive, penalty=None; total time=   1.3s\n",
      "[CV] END alpha=0.001, eta0=1, learning_rate=constant, penalty=l2; total time=   0.0s\n",
      "[CV] END alpha=0.001, eta0=0.1, learning_rate=adaptive, penalty=None; total time=   1.5s\n",
      "[CV] END alpha=0.001, eta0=1, learning_rate=constant, penalty=l2; total time=   0.0s\n",
      "[CV] END alpha=0.001, eta0=1, learning_rate=constant, penalty=l2; total time=   0.0s\n",
      "[CV] END alpha=0.001, eta0=0.1, learning_rate=adaptive, penalty=l1; total time=   3.2s\n",
      "[CV] END alpha=0.001, eta0=0.1, learning_rate=adaptive, penalty=l1; total time=   3.1s\n",
      "[CV] END alpha=0.001, eta0=1, learning_rate=constant, penalty=l2; total time=   0.1s\n",
      "[CV] END alpha=0.001, eta0=0.1, learning_rate=adaptive, penalty=elasticnet; total time=   2.8s\n",
      "[CV] END alpha=0.001, eta0=1, learning_rate=constant, penalty=l1; total time=   0.2s\n",
      "[CV] END alpha=0.001, eta0=1, learning_rate=constant, penalty=l1; total time=   0.2s\n",
      "[CV] END alpha=0.001, eta0=1, learning_rate=constant, penalty=l1; total time=   0.1s\n",
      "[CV] END alpha=0.001, eta0=1, learning_rate=constant, penalty=l1; total time=   0.2s\n",
      "[CV] END alpha=0.001, eta0=0.1, learning_rate=adaptive, penalty=l1; total time=   3.3s\n",
      "[CV] END alpha=0.001, eta0=1, learning_rate=constant, penalty=elasticnet; total time=   0.1s\n",
      "[CV] END alpha=0.001, eta0=1, learning_rate=constant, penalty=elasticnet; total time=   0.3s\n",
      "[CV] END alpha=0.001, eta0=1, learning_rate=constant, penalty=elasticnet; total time=   0.2s\n",
      "[CV] END alpha=0.001, eta0=1, learning_rate=constant, penalty=None; total time=   0.0s\n",
      "[CV] END alpha=0.001, eta0=1, learning_rate=constant, penalty=l1; total time=   0.3s\n",
      "[CV] END alpha=0.001, eta0=0.1, learning_rate=adaptive, penalty=elasticnet; total time=   2.2s\n",
      "[CV] END alpha=0.001, eta0=1, learning_rate=constant, penalty=None; total time=   0.0s\n",
      "[CV] END alpha=0.001, eta0=1, learning_rate=constant, penalty=elasticnet; total time=   0.1s\n",
      "[CV] END alpha=0.001, eta0=1, learning_rate=constant, penalty=None; total time=   0.0s\n",
      "[CV] END alpha=0.001, eta0=1, learning_rate=constant, penalty=None; total time=   0.0s\n",
      "[CV] END alpha=0.001, eta0=1, learning_rate=constant, penalty=None; total time=   0.1s\n",
      "[CV] END alpha=0.001, eta0=1, learning_rate=constant, penalty=elasticnet; total time=   0.3s\n",
      "[CV] END alpha=0.001, eta0=0.1, learning_rate=adaptive, penalty=elasticnet; total time=   2.5s\n",
      "[CV] END alpha=0.001, eta0=0.1, learning_rate=adaptive, penalty=None; total time=   1.3s\n",
      "[CV] END alpha=0.001, eta0=0.1, learning_rate=adaptive, penalty=elasticnet; total time=   2.4s\n",
      "[CV] END alpha=0.001, eta0=0.1, learning_rate=adaptive, penalty=None; total time=   1.4s\n",
      "[CV] END alpha=0.001, eta0=1, learning_rate=optimal, penalty=l2; total time=   0.3s\n",
      "[CV] END alpha=0.001, eta0=1, learning_rate=optimal, penalty=l2; total time=   0.4s\n",
      "[CV] END alpha=0.001, eta0=0.01, learning_rate=adaptive, penalty=elasticnet; total time=   8.6s\n",
      "[CV] END alpha=0.001, eta0=1, learning_rate=optimal, penalty=l2; total time=   0.5s\n",
      "[CV] END alpha=0.001, eta0=1, learning_rate=optimal, penalty=l2; total time=   0.5s\n",
      "[CV] END alpha=0.001, eta0=1, learning_rate=optimal, penalty=l2; total time=   0.6s\n",
      "[CV] END alpha=0.001, eta0=1, learning_rate=optimal, penalty=None; total time=   0.4s[CV] END alpha=0.001, eta0=1, learning_rate=optimal, penalty=l1; total time=   0.8s\n",
      "\n",
      "[CV] END alpha=0.001, eta0=0.1, learning_rate=optimal, penalty=elasticnet; total time=   7.0s\n",
      "[CV] END alpha=0.001, eta0=1, learning_rate=optimal, penalty=None; total time=   0.5s\n",
      "[CV] END alpha=0.001, eta0=1, learning_rate=optimal, penalty=l1; total time=   1.0s\n",
      "[CV] END alpha=0.001, eta0=1, learning_rate=optimal, penalty=None; total time=   0.4s\n",
      "[CV] END alpha=0.001, eta0=1, learning_rate=optimal, penalty=l1; total time=   0.9s\n",
      "[CV] END alpha=0.001, eta0=1, learning_rate=optimal, penalty=elasticnet; total time=   0.9s\n",
      "[CV] END alpha=0.001, eta0=1, learning_rate=optimal, penalty=l1; total time=   1.2s\n",
      "[CV] END alpha=0.001, eta0=1, learning_rate=optimal, penalty=elasticnet; total time=   0.8s\n",
      "[CV] END alpha=0.001, eta0=1, learning_rate=optimal, penalty=elasticnet; total time=   1.2s\n",
      "[CV] END alpha=0.001, eta0=1, learning_rate=optimal, penalty=None; total time=   0.4s\n",
      "[CV] END alpha=0.001, eta0=1, learning_rate=optimal, penalty=l1; total time=   1.5s\n",
      "[CV] END alpha=0.001, eta0=1, learning_rate=optimal, penalty=elasticnet; total time=   1.1s\n",
      "[CV] END alpha=0.001, eta0=1, learning_rate=optimal, penalty=None; total time=   0.6s\n",
      "[CV] END alpha=0.001, eta0=0.01, learning_rate=adaptive, penalty=l1; total time=  10.5s\n",
      "[CV] END alpha=0.001, eta0=1, learning_rate=invscaling, penalty=l2; total time=   1.0s\n",
      "[CV] END alpha=0.001, eta0=1, learning_rate=invscaling, penalty=l2; total time=   1.4s\n",
      "[CV] END alpha=0.001, eta0=1, learning_rate=invscaling, penalty=l2; total time=   1.5s\n",
      "[CV] END alpha=0.001, eta0=1, learning_rate=invscaling, penalty=l2; total time=   1.7s\n",
      "[CV] END alpha=0.001, eta0=1, learning_rate=invscaling, penalty=elasticnet; total time=   1.2s\n",
      "[CV] END alpha=0.001, eta0=1, learning_rate=invscaling, penalty=l1; total time=   1.7s\n",
      "[CV] END alpha=0.001, eta0=1, learning_rate=invscaling, penalty=elasticnet; total time=   1.9s\n",
      "[CV] END alpha=0.001, eta0=1, learning_rate=invscaling, penalty=l1; total time=   2.2s\n",
      "[CV] END alpha=0.001, eta0=1, learning_rate=invscaling, penalty=elasticnet; total time=   2.2s\n",
      "[CV] END alpha=0.001, eta0=1, learning_rate=invscaling, penalty=None; total time=   0.8s\n",
      "[CV] END alpha=0.001, eta0=1, learning_rate=invscaling, penalty=None; total time=   1.1s\n",
      "[CV] END alpha=0.001, eta0=1, learning_rate=invscaling, penalty=l1; total time=   2.7s\n",
      "[CV] END alpha=0.001, eta0=1, learning_rate=invscaling, penalty=None; total time=   1.5s\n",
      "[CV] END alpha=0.001, eta0=1, learning_rate=invscaling, penalty=None; total time=   1.2s\n",
      "[CV] END alpha=0.001, eta0=1, learning_rate=invscaling, penalty=None; total time=   1.6s\n",
      "[CV] END alpha=0.001, eta0=1, learning_rate=invscaling, penalty=l1; total time=   3.0s\n",
      "[CV] END alpha=0.001, eta0=1, learning_rate=optimal, penalty=elasticnet; total time=   4.0s\n",
      "[CV] END alpha=0.001, eta0=1, learning_rate=invscaling, penalty=l1; total time=   3.5s\n",
      "[CV] END alpha=0.001, eta0=1, learning_rate=adaptive, penalty=l2; total time=   1.5s\n",
      "[CV] END alpha=0.001, eta0=1, learning_rate=adaptive, penalty=l2; total time=   1.3s\n",
      "[CV] END alpha=0.001, eta0=1, learning_rate=adaptive, penalty=l2; total time=   1.1s\n",
      "[CV] END alpha=0.001, eta0=1, learning_rate=adaptive, penalty=l2; total time=   1.3s\n",
      "[CV] END alpha=0.001, eta0=1, learning_rate=invscaling, penalty=elasticnet; total time=   3.1s\n",
      "[CV] END alpha=0.001, eta0=0.1, learning_rate=adaptive, penalty=None; total time=   7.8s\n",
      "[CV] END alpha=0.001, eta0=1, learning_rate=adaptive, penalty=l2; total time=   1.5s\n",
      "[CV] END alpha=0.001, eta0=1, learning_rate=adaptive, penalty=l1; total time=   2.4s\n",
      "[CV] END alpha=0.001, eta0=1, learning_rate=adaptive, penalty=l1; total time=   2.5s\n",
      "[CV] END alpha=0.001, eta0=1, learning_rate=adaptive, penalty=None; total time=   1.4s\n",
      "[CV] END alpha=0.001, eta0=1, learning_rate=adaptive, penalty=None; total time=   1.4s\n",
      "[CV] END alpha=0.01, eta0=0.001, learning_rate=constant, penalty=l2; total time=   0.1s\n",
      "[CV] END alpha=0.01, eta0=0.001, learning_rate=constant, penalty=l2; total time=   0.1s\n",
      "[CV] END alpha=0.001, eta0=1, learning_rate=adaptive, penalty=None; total time=   1.2s\n",
      "[CV] END alpha=0.001, eta0=1, learning_rate=adaptive, penalty=l1; total time=   2.8s\n",
      "[CV] END alpha=0.01, eta0=0.001, learning_rate=constant, penalty=l2; total time=   0.1s\n",
      "[CV] END alpha=0.001, eta0=1, learning_rate=adaptive, penalty=l1; total time=   2.6s\n",
      "[CV] END alpha=0.01, eta0=0.001, learning_rate=constant, penalty=l2; total time=   0.0s\n",
      "[CV] END alpha=0.01, eta0=0.001, learning_rate=constant, penalty=l2; total time=   0.1s\n",
      "[CV] END alpha=0.01, eta0=0.001, learning_rate=constant, penalty=l1; total time=   0.2s\n",
      "[CV] END alpha=0.01, eta0=0.001, learning_rate=constant, penalty=elasticnet; total time=   0.1s\n",
      "[CV] END alpha=0.001, eta0=1, learning_rate=adaptive, penalty=l1; total time=   2.9s\n",
      "[CV] END alpha=0.01, eta0=0.001, learning_rate=constant, penalty=l1; total time=   0.3s\n",
      "[CV] END alpha=0.001, eta0=1, learning_rate=adaptive, penalty=elasticnet; total time=   2.3s\n",
      "[CV] END alpha=0.01, eta0=0.001, learning_rate=constant, penalty=l1; total time=   0.3s\n",
      "[CV] END alpha=0.01, eta0=0.001, learning_rate=constant, penalty=None; total time=   0.0s\n",
      "[CV] END alpha=0.01, eta0=0.001, learning_rate=constant, penalty=l1; total time=   0.5s\n",
      "[CV] END alpha=0.01, eta0=0.001, learning_rate=constant, penalty=elasticnet; total time=   0.2s[CV] END alpha=0.01, eta0=0.001, learning_rate=constant, penalty=l1; total time=   0.5s\n",
      "\n",
      "[CV] END alpha=0.01, eta0=0.001, learning_rate=constant, penalty=None; total time=   0.1s\n",
      "[CV] END alpha=0.01, eta0=0.001, learning_rate=constant, penalty=elasticnet; total time=   0.2s\n",
      "[CV] END alpha=0.01, eta0=0.001, learning_rate=constant, penalty=None; total time=   0.0s\n",
      "[CV] END alpha=0.01, eta0=0.001, learning_rate=constant, penalty=elasticnet; total time=   0.2s\n",
      "[CV] END alpha=0.001, eta0=1, learning_rate=adaptive, penalty=elasticnet; total time=   2.5s\n",
      "[CV] END alpha=0.001, eta0=1, learning_rate=adaptive, penalty=elasticnet; total time=   2.8s\n",
      "[CV] END alpha=0.01, eta0=0.001, learning_rate=constant, penalty=None; total time=   0.1s\n",
      "[CV] END alpha=0.01, eta0=0.001, learning_rate=constant, penalty=None; total time=   0.1s\n",
      "[CV] END alpha=0.01, eta0=0.001, learning_rate=constant, penalty=elasticnet; total time=   0.4s\n",
      "[CV] END alpha=0.001, eta0=1, learning_rate=adaptive, penalty=None; total time=   1.2s\n",
      "[CV] END alpha=0.001, eta0=1, learning_rate=adaptive, penalty=elasticnet; total time=   2.9s\n",
      "[CV] END alpha=0.001, eta0=1, learning_rate=invscaling, penalty=l2; total time=   9.8s\n",
      "[CV] END alpha=0.001, eta0=1, learning_rate=adaptive, penalty=None; total time=   7.5s\n"
     ]
    },
    {
     "name": "stderr",
     "output_type": "stream",
     "text": [
      "C:\\Users\\maxd2\\AppData\\Local\\Packages\\PythonSoftwareFoundation.Python.3.11_qbz5n2kfra8p0\\LocalCache\\local-packages\\Python311\\site-packages\\sklearn\\linear_model\\_stochastic_gradient.py:1616: ConvergenceWarning: Maximum number of iteration reached before convergence. Consider increasing max_iter to improve the fit.\n",
      "  warnings.warn(\n",
      "C:\\Users\\maxd2\\AppData\\Local\\Packages\\PythonSoftwareFoundation.Python.3.11_qbz5n2kfra8p0\\LocalCache\\local-packages\\Python311\\site-packages\\sklearn\\linear_model\\_stochastic_gradient.py:1616: ConvergenceWarning: Maximum number of iteration reached before convergence. Consider increasing max_iter to improve the fit.\n",
      "  warnings.warn(\n"
     ]
    },
    {
     "name": "stdout",
     "output_type": "stream",
     "text": [
      "[CV] END alpha=0.01, eta0=0.001, learning_rate=optimal, penalty=l2; total time=  13.0s\n",
      "[CV] END alpha=0.001, eta0=1, learning_rate=adaptive, penalty=elasticnet; total time=  16.1s\n",
      "[CV] END alpha=0.01, eta0=0.001, learning_rate=optimal, penalty=l2; total time=  12.9s\n"
     ]
    },
    {
     "name": "stderr",
     "output_type": "stream",
     "text": [
      "C:\\Users\\maxd2\\AppData\\Local\\Packages\\PythonSoftwareFoundation.Python.3.11_qbz5n2kfra8p0\\LocalCache\\local-packages\\Python311\\site-packages\\sklearn\\linear_model\\_stochastic_gradient.py:1616: ConvergenceWarning: Maximum number of iteration reached before convergence. Consider increasing max_iter to improve the fit.\n",
      "  warnings.warn(\n"
     ]
    },
    {
     "name": "stdout",
     "output_type": "stream",
     "text": [
      "[CV] END alpha=0.01, eta0=0.001, learning_rate=optimal, penalty=l2; total time=  13.2s\n"
     ]
    },
    {
     "name": "stderr",
     "output_type": "stream",
     "text": [
      "C:\\Users\\maxd2\\AppData\\Local\\Packages\\PythonSoftwareFoundation.Python.3.11_qbz5n2kfra8p0\\LocalCache\\local-packages\\Python311\\site-packages\\sklearn\\linear_model\\_stochastic_gradient.py:1616: ConvergenceWarning: Maximum number of iteration reached before convergence. Consider increasing max_iter to improve the fit.\n",
      "  warnings.warn(\n",
      "C:\\Users\\maxd2\\AppData\\Local\\Packages\\PythonSoftwareFoundation.Python.3.11_qbz5n2kfra8p0\\LocalCache\\local-packages\\Python311\\site-packages\\sklearn\\linear_model\\_stochastic_gradient.py:1616: ConvergenceWarning: Maximum number of iteration reached before convergence. Consider increasing max_iter to improve the fit.\n",
      "  warnings.warn(\n"
     ]
    },
    {
     "name": "stdout",
     "output_type": "stream",
     "text": [
      "[CV] END alpha=0.01, eta0=0.001, learning_rate=optimal, penalty=l2; total time=  13.5s\n",
      "[CV] END alpha=0.01, eta0=0.001, learning_rate=optimal, penalty=l2; total time=  13.5s\n",
      "[CV] END alpha=0.001, eta0=1, learning_rate=invscaling, penalty=elasticnet; total time=  19.6s\n",
      "[CV] END alpha=0.01, eta0=0.001, learning_rate=invscaling, penalty=l2; total time=   2.9s\n"
     ]
    },
    {
     "name": "stderr",
     "output_type": "stream",
     "text": [
      "C:\\Users\\maxd2\\AppData\\Local\\Packages\\PythonSoftwareFoundation.Python.3.11_qbz5n2kfra8p0\\LocalCache\\local-packages\\Python311\\site-packages\\sklearn\\linear_model\\_stochastic_gradient.py:1616: ConvergenceWarning: Maximum number of iteration reached before convergence. Consider increasing max_iter to improve the fit.\n",
      "  warnings.warn(\n"
     ]
    },
    {
     "name": "stdout",
     "output_type": "stream",
     "text": [
      "[CV] END alpha=0.01, eta0=0.001, learning_rate=optimal, penalty=l1; total time=  18.2s\n",
      "[CV] END alpha=0.01, eta0=0.001, learning_rate=invscaling, penalty=l2; total time=   0.2s\n"
     ]
    },
    {
     "name": "stderr",
     "output_type": "stream",
     "text": [
      "C:\\Users\\maxd2\\AppData\\Local\\Packages\\PythonSoftwareFoundation.Python.3.11_qbz5n2kfra8p0\\LocalCache\\local-packages\\Python311\\site-packages\\sklearn\\linear_model\\_stochastic_gradient.py:1616: ConvergenceWarning: Maximum number of iteration reached before convergence. Consider increasing max_iter to improve the fit.\n",
      "  warnings.warn(\n",
      "C:\\Users\\maxd2\\AppData\\Local\\Packages\\PythonSoftwareFoundation.Python.3.11_qbz5n2kfra8p0\\LocalCache\\local-packages\\Python311\\site-packages\\sklearn\\linear_model\\_stochastic_gradient.py:1616: ConvergenceWarning: Maximum number of iteration reached before convergence. Consider increasing max_iter to improve the fit.\n",
      "  warnings.warn(\n"
     ]
    },
    {
     "name": "stdout",
     "output_type": "stream",
     "text": [
      "[CV] END alpha=0.01, eta0=0.001, learning_rate=optimal, penalty=elasticnet; total time=  18.3s\n",
      "[CV] END alpha=0.01, eta0=0.001, learning_rate=optimal, penalty=l1; total time=  18.8s\n",
      "[CV] END alpha=0.01, eta0=0.001, learning_rate=invscaling, penalty=l2; total time=   0.2s\n",
      "[CV] END alpha=0.01, eta0=0.001, learning_rate=invscaling, penalty=l2; total time=   0.2s\n",
      "[CV] END alpha=0.01, eta0=0.001, learning_rate=invscaling, penalty=l1; total time=   0.6s\n",
      "[CV] END alpha=0.01, eta0=0.001, learning_rate=invscaling, penalty=l1; total time=   0.6s\n",
      "[CV] END alpha=0.01, eta0=0.001, learning_rate=invscaling, penalty=l1; total time=   0.4s\n",
      "[CV] END alpha=0.01, eta0=0.001, learning_rate=invscaling, penalty=l1; total time=   0.4s\n",
      "[CV] END alpha=0.01, eta0=0.001, learning_rate=invscaling, penalty=l1; total time=   0.6s\n",
      "[CV] END alpha=0.01, eta0=0.001, learning_rate=invscaling, penalty=elasticnet; total time=   0.7s\n",
      "[CV] END alpha=0.01, eta0=0.001, learning_rate=invscaling, penalty=elasticnet; total time=   0.5s\n"
     ]
    },
    {
     "name": "stderr",
     "output_type": "stream",
     "text": [
      "C:\\Users\\maxd2\\AppData\\Local\\Packages\\PythonSoftwareFoundation.Python.3.11_qbz5n2kfra8p0\\LocalCache\\local-packages\\Python311\\site-packages\\sklearn\\linear_model\\_stochastic_gradient.py:1616: ConvergenceWarning: Maximum number of iteration reached before convergence. Consider increasing max_iter to improve the fit.\n",
      "  warnings.warn(\n"
     ]
    },
    {
     "name": "stdout",
     "output_type": "stream",
     "text": [
      "[CV] END alpha=0.01, eta0=0.001, learning_rate=optimal, penalty=elasticnet; total time=  20.4s\n",
      "[CV] END alpha=0.01, eta0=0.001, learning_rate=invscaling, penalty=elasticnet; total time=   0.6s\n",
      "[CV] END alpha=0.01, eta0=0.001, learning_rate=invscaling, penalty=l2; total time=   4.0s\n",
      "[CV] END alpha=0.01, eta0=0.001, learning_rate=invscaling, penalty=elasticnet; total time=   0.5s\n"
     ]
    },
    {
     "name": "stderr",
     "output_type": "stream",
     "text": [
      "C:\\Users\\maxd2\\AppData\\Local\\Packages\\PythonSoftwareFoundation.Python.3.11_qbz5n2kfra8p0\\LocalCache\\local-packages\\Python311\\site-packages\\sklearn\\linear_model\\_stochastic_gradient.py:1616: ConvergenceWarning: Maximum number of iteration reached before convergence. Consider increasing max_iter to improve the fit.\n",
      "  warnings.warn(\n",
      "C:\\Users\\maxd2\\AppData\\Local\\Packages\\PythonSoftwareFoundation.Python.3.11_qbz5n2kfra8p0\\LocalCache\\local-packages\\Python311\\site-packages\\sklearn\\linear_model\\_stochastic_gradient.py:1616: ConvergenceWarning: Maximum number of iteration reached before convergence. Consider increasing max_iter to improve the fit.\n",
      "  warnings.warn(\n"
     ]
    },
    {
     "name": "stdout",
     "output_type": "stream",
     "text": [
      "[CV] END alpha=0.01, eta0=0.001, learning_rate=optimal, penalty=l1; total time=  20.9s\n",
      "[CV] END alpha=0.01, eta0=0.001, learning_rate=invscaling, penalty=elasticnet; total time=   0.3s\n",
      "[CV] END alpha=0.01, eta0=0.001, learning_rate=invscaling, penalty=None; total time=   0.1s\n",
      "[CV] END alpha=0.01, eta0=0.001, learning_rate=optimal, penalty=l1; total time=  21.0s\n",
      "[CV] END alpha=0.01, eta0=0.001, learning_rate=invscaling, penalty=None; total time=   0.3s\n",
      "[CV] END alpha=0.01, eta0=0.001, learning_rate=invscaling, penalty=None; total time=   0.5s\n",
      "[CV] END alpha=0.01, eta0=0.001, learning_rate=adaptive, penalty=l2; total time=   0.3s\n",
      "[CV] END alpha=0.01, eta0=0.001, learning_rate=invscaling, penalty=None; total time=   0.4s\n",
      "[CV] END alpha=0.01, eta0=0.001, learning_rate=adaptive, penalty=l2; total time=   0.4s\n",
      "[CV] END alpha=0.01, eta0=0.001, learning_rate=adaptive, penalty=l2; total time=   0.3s\n"
     ]
    },
    {
     "name": "stderr",
     "output_type": "stream",
     "text": [
      "C:\\Users\\maxd2\\AppData\\Local\\Packages\\PythonSoftwareFoundation.Python.3.11_qbz5n2kfra8p0\\LocalCache\\local-packages\\Python311\\site-packages\\sklearn\\linear_model\\_stochastic_gradient.py:1616: ConvergenceWarning: Maximum number of iteration reached before convergence. Consider increasing max_iter to improve the fit.\n",
      "  warnings.warn(\n"
     ]
    },
    {
     "name": "stdout",
     "output_type": "stream",
     "text": [
      "[CV] END alpha=0.01, eta0=0.001, learning_rate=optimal, penalty=None; total time=   8.6s\n",
      "[CV] END alpha=0.01, eta0=0.001, learning_rate=adaptive, penalty=l2; total time=   0.5s\n",
      "[CV] END alpha=0.01, eta0=0.001, learning_rate=adaptive, penalty=l2; total time=   0.7s\n",
      "[CV] END alpha=0.01, eta0=0.001, learning_rate=adaptive, penalty=l1; total time=   0.6s\n",
      "[CV] END alpha=0.01, eta0=0.001, learning_rate=adaptive, penalty=l1; total time=   0.7s\n",
      "[CV] END alpha=0.01, eta0=0.001, learning_rate=adaptive, penalty=l1; total time=   0.6s\n",
      "[CV] END alpha=0.01, eta0=0.001, learning_rate=optimal, penalty=l1; total time=  22.3s\n",
      "[CV] END alpha=0.01, eta0=0.001, learning_rate=adaptive, penalty=l1; total time=   0.8s\n"
     ]
    },
    {
     "name": "stderr",
     "output_type": "stream",
     "text": [
      "C:\\Users\\maxd2\\AppData\\Local\\Packages\\PythonSoftwareFoundation.Python.3.11_qbz5n2kfra8p0\\LocalCache\\local-packages\\Python311\\site-packages\\sklearn\\linear_model\\_stochastic_gradient.py:1616: ConvergenceWarning: Maximum number of iteration reached before convergence. Consider increasing max_iter to improve the fit.\n",
      "  warnings.warn(\n"
     ]
    },
    {
     "name": "stdout",
     "output_type": "stream",
     "text": [
      "[CV] END alpha=0.01, eta0=0.001, learning_rate=adaptive, penalty=l1; total time=   1.1s\n",
      "[CV] END alpha=0.01, eta0=0.001, learning_rate=adaptive, penalty=elasticnet; total time=   1.0s\n",
      "[CV] END alpha=0.01, eta0=0.001, learning_rate=adaptive, penalty=None; total time=   0.6s\n",
      "[CV] END alpha=0.01, eta0=0.001, learning_rate=adaptive, penalty=None; total time=   0.6s\n",
      "[CV] END alpha=0.01, eta0=0.001, learning_rate=adaptive, penalty=elasticnet; total time=   1.3s\n",
      "[CV] END alpha=0.01, eta0=0.001, learning_rate=adaptive, penalty=elasticnet; total time=   1.2s\n",
      "[CV] END alpha=0.01, eta0=0.001, learning_rate=adaptive, penalty=elasticnet; total time=   0.8s\n",
      "[CV] END alpha=0.01, eta0=0.001, learning_rate=adaptive, penalty=None; total time=   0.6s\n",
      "[CV] END alpha=0.01, eta0=0.01, learning_rate=constant, penalty=l2; total time=   0.1s\n",
      "[CV] END alpha=0.01, eta0=0.01, learning_rate=constant, penalty=l2; total time=   0.0s\n",
      "[CV] END alpha=0.01, eta0=0.01, learning_rate=constant, penalty=l2; total time=   0.1s\n",
      "[CV] END alpha=0.01, eta0=0.001, learning_rate=adaptive, penalty=elasticnet; total time=   1.0s\n",
      "[CV] END alpha=0.01, eta0=0.01, learning_rate=constant, penalty=l2; total time=   0.1s\n",
      "[CV] END alpha=0.01, eta0=0.01, learning_rate=constant, penalty=l2; total time=   0.2s\n",
      "[CV] END alpha=0.01, eta0=0.01, learning_rate=constant, penalty=l1; total time=   0.2s\n",
      "[CV] END alpha=0.01, eta0=0.001, learning_rate=adaptive, penalty=None; total time=   0.5s\n",
      "[CV] END alpha=0.01, eta0=0.01, learning_rate=constant, penalty=l1; total time=   0.2s\n",
      "[CV] END alpha=0.01, eta0=0.01, learning_rate=constant, penalty=l1; total time=   0.4s\n",
      "[CV] END alpha=0.01, eta0=0.01, learning_rate=constant, penalty=l1; total time=   0.4s\n",
      "[CV] END alpha=0.01, eta0=0.001, learning_rate=adaptive, penalty=None; total time=   0.7s\n",
      "[CV] END alpha=0.01, eta0=0.01, learning_rate=constant, penalty=l1; total time=   0.4s\n",
      "[CV] END alpha=0.01, eta0=0.001, learning_rate=invscaling, penalty=None; total time=   3.1s\n",
      "[CV] END alpha=0.01, eta0=0.01, learning_rate=constant, penalty=None; total time=   0.0s\n",
      "[CV] END alpha=0.01, eta0=0.01, learning_rate=constant, penalty=elasticnet; total time=   0.2s\n",
      "[CV] END alpha=0.01, eta0=0.01, learning_rate=constant, penalty=None; total time=   0.1s\n",
      "[CV] END alpha=0.01, eta0=0.01, learning_rate=constant, penalty=elasticnet; total time=   0.4s\n",
      "[CV] END alpha=0.01, eta0=0.01, learning_rate=constant, penalty=None; total time=   0.0s\n",
      "[CV] END alpha=0.01, eta0=0.01, learning_rate=constant, penalty=None; total time=   0.1s\n",
      "[CV] END alpha=0.01, eta0=0.01, learning_rate=constant, penalty=elasticnet; total time=   0.5s\n",
      "[CV] END alpha=0.01, eta0=0.01, learning_rate=constant, penalty=elasticnet; total time=   0.5s\n",
      "[CV] END alpha=0.01, eta0=0.01, learning_rate=constant, penalty=elasticnet; total time=   0.6s\n",
      "[CV] END alpha=0.01, eta0=0.01, learning_rate=constant, penalty=None; total time=   0.8s\n",
      "[CV] END alpha=0.01, eta0=0.001, learning_rate=optimal, penalty=None; total time=  11.8s\n"
     ]
    },
    {
     "name": "stderr",
     "output_type": "stream",
     "text": [
      "C:\\Users\\maxd2\\AppData\\Local\\Packages\\PythonSoftwareFoundation.Python.3.11_qbz5n2kfra8p0\\LocalCache\\local-packages\\Python311\\site-packages\\sklearn\\linear_model\\_stochastic_gradient.py:1616: ConvergenceWarning: Maximum number of iteration reached before convergence. Consider increasing max_iter to improve the fit.\n",
      "  warnings.warn(\n",
      "C:\\Users\\maxd2\\AppData\\Local\\Packages\\PythonSoftwareFoundation.Python.3.11_qbz5n2kfra8p0\\LocalCache\\local-packages\\Python311\\site-packages\\sklearn\\linear_model\\_stochastic_gradient.py:1616: ConvergenceWarning: Maximum number of iteration reached before convergence. Consider increasing max_iter to improve the fit.\n",
      "  warnings.warn(\n"
     ]
    },
    {
     "name": "stdout",
     "output_type": "stream",
     "text": [
      "[CV] END alpha=0.01, eta0=0.001, learning_rate=optimal, penalty=None; total time=  12.1s\n"
     ]
    },
    {
     "name": "stderr",
     "output_type": "stream",
     "text": [
      "C:\\Users\\maxd2\\AppData\\Local\\Packages\\PythonSoftwareFoundation.Python.3.11_qbz5n2kfra8p0\\LocalCache\\local-packages\\Python311\\site-packages\\sklearn\\linear_model\\_stochastic_gradient.py:1616: ConvergenceWarning: Maximum number of iteration reached before convergence. Consider increasing max_iter to improve the fit.\n",
      "  warnings.warn(\n"
     ]
    },
    {
     "name": "stdout",
     "output_type": "stream",
     "text": [
      "[CV] END alpha=0.01, eta0=0.001, learning_rate=optimal, penalty=None; total time=  12.4s\n"
     ]
    },
    {
     "name": "stderr",
     "output_type": "stream",
     "text": [
      "C:\\Users\\maxd2\\AppData\\Local\\Packages\\PythonSoftwareFoundation.Python.3.11_qbz5n2kfra8p0\\LocalCache\\local-packages\\Python311\\site-packages\\sklearn\\linear_model\\_stochastic_gradient.py:1616: ConvergenceWarning: Maximum number of iteration reached before convergence. Consider increasing max_iter to improve the fit.\n",
      "  warnings.warn(\n",
      "C:\\Users\\maxd2\\AppData\\Local\\Packages\\PythonSoftwareFoundation.Python.3.11_qbz5n2kfra8p0\\LocalCache\\local-packages\\Python311\\site-packages\\sklearn\\linear_model\\_stochastic_gradient.py:1616: ConvergenceWarning: Maximum number of iteration reached before convergence. Consider increasing max_iter to improve the fit.\n",
      "  warnings.warn(\n"
     ]
    },
    {
     "name": "stdout",
     "output_type": "stream",
     "text": [
      "[CV] END alpha=0.01, eta0=0.01, learning_rate=optimal, penalty=l2; total time=  10.4s\n",
      "[CV] END alpha=0.01, eta0=0.01, learning_rate=optimal, penalty=l2; total time=  10.7s\n"
     ]
    },
    {
     "name": "stderr",
     "output_type": "stream",
     "text": [
      "C:\\Users\\maxd2\\AppData\\Local\\Packages\\PythonSoftwareFoundation.Python.3.11_qbz5n2kfra8p0\\LocalCache\\local-packages\\Python311\\site-packages\\sklearn\\linear_model\\_stochastic_gradient.py:1616: ConvergenceWarning: Maximum number of iteration reached before convergence. Consider increasing max_iter to improve the fit.\n",
      "  warnings.warn(\n"
     ]
    },
    {
     "name": "stdout",
     "output_type": "stream",
     "text": [
      "[CV] END alpha=0.01, eta0=0.01, learning_rate=optimal, penalty=l2; total time=  10.8s\n"
     ]
    },
    {
     "name": "stderr",
     "output_type": "stream",
     "text": [
      "C:\\Users\\maxd2\\AppData\\Local\\Packages\\PythonSoftwareFoundation.Python.3.11_qbz5n2kfra8p0\\LocalCache\\local-packages\\Python311\\site-packages\\sklearn\\linear_model\\_stochastic_gradient.py:1616: ConvergenceWarning: Maximum number of iteration reached before convergence. Consider increasing max_iter to improve the fit.\n",
      "  warnings.warn(\n"
     ]
    },
    {
     "name": "stdout",
     "output_type": "stream",
     "text": [
      "[CV] END alpha=0.01, eta0=0.001, learning_rate=optimal, penalty=elasticnet; total time=  22.2s\n"
     ]
    },
    {
     "name": "stderr",
     "output_type": "stream",
     "text": [
      "C:\\Users\\maxd2\\AppData\\Local\\Packages\\PythonSoftwareFoundation.Python.3.11_qbz5n2kfra8p0\\LocalCache\\local-packages\\Python311\\site-packages\\sklearn\\linear_model\\_stochastic_gradient.py:1616: ConvergenceWarning: Maximum number of iteration reached before convergence. Consider increasing max_iter to improve the fit.\n",
      "  warnings.warn(\n"
     ]
    },
    {
     "name": "stdout",
     "output_type": "stream",
     "text": [
      "[CV] END alpha=0.01, eta0=0.01, learning_rate=optimal, penalty=l2; total time=  12.5s\n"
     ]
    },
    {
     "name": "stderr",
     "output_type": "stream",
     "text": [
      "C:\\Users\\maxd2\\AppData\\Local\\Packages\\PythonSoftwareFoundation.Python.3.11_qbz5n2kfra8p0\\LocalCache\\local-packages\\Python311\\site-packages\\sklearn\\linear_model\\_stochastic_gradient.py:1616: ConvergenceWarning: Maximum number of iteration reached before convergence. Consider increasing max_iter to improve the fit.\n",
      "  warnings.warn(\n"
     ]
    },
    {
     "name": "stdout",
     "output_type": "stream",
     "text": [
      "[CV] END alpha=0.01, eta0=0.01, learning_rate=optimal, penalty=l2; total time=  12.8s\n"
     ]
    },
    {
     "name": "stderr",
     "output_type": "stream",
     "text": [
      "C:\\Users\\maxd2\\AppData\\Local\\Packages\\PythonSoftwareFoundation.Python.3.11_qbz5n2kfra8p0\\LocalCache\\local-packages\\Python311\\site-packages\\sklearn\\linear_model\\_stochastic_gradient.py:1616: ConvergenceWarning: Maximum number of iteration reached before convergence. Consider increasing max_iter to improve the fit.\n",
      "  warnings.warn(\n"
     ]
    },
    {
     "name": "stdout",
     "output_type": "stream",
     "text": [
      "[CV] END alpha=0.01, eta0=0.01, learning_rate=optimal, penalty=l1; total time=  17.3s\n"
     ]
    },
    {
     "name": "stderr",
     "output_type": "stream",
     "text": [
      "C:\\Users\\maxd2\\AppData\\Local\\Packages\\PythonSoftwareFoundation.Python.3.11_qbz5n2kfra8p0\\LocalCache\\local-packages\\Python311\\site-packages\\sklearn\\linear_model\\_stochastic_gradient.py:1616: ConvergenceWarning: Maximum number of iteration reached before convergence. Consider increasing max_iter to improve the fit.\n",
      "  warnings.warn(\n"
     ]
    },
    {
     "name": "stdout",
     "output_type": "stream",
     "text": [
      "[CV] END alpha=0.01, eta0=0.01, learning_rate=optimal, penalty=l1; total time=  17.1s\n"
     ]
    },
    {
     "name": "stderr",
     "output_type": "stream",
     "text": [
      "C:\\Users\\maxd2\\AppData\\Local\\Packages\\PythonSoftwareFoundation.Python.3.11_qbz5n2kfra8p0\\LocalCache\\local-packages\\Python311\\site-packages\\sklearn\\linear_model\\_stochastic_gradient.py:1616: ConvergenceWarning: Maximum number of iteration reached before convergence. Consider increasing max_iter to improve the fit.\n",
      "  warnings.warn(\n"
     ]
    },
    {
     "name": "stdout",
     "output_type": "stream",
     "text": [
      "[CV] END alpha=0.01, eta0=0.01, learning_rate=optimal, penalty=l1; total time=  18.1s\n",
      "[CV] END alpha=0.01, eta0=0.01, learning_rate=invscaling, penalty=l2; total time=   0.3s\n",
      "[CV] END alpha=0.01, eta0=0.01, learning_rate=optimal, penalty=elasticnet; total time=  17.6s\n"
     ]
    },
    {
     "name": "stderr",
     "output_type": "stream",
     "text": [
      "C:\\Users\\maxd2\\AppData\\Local\\Packages\\PythonSoftwareFoundation.Python.3.11_qbz5n2kfra8p0\\LocalCache\\local-packages\\Python311\\site-packages\\sklearn\\linear_model\\_stochastic_gradient.py:1616: ConvergenceWarning: Maximum number of iteration reached before convergence. Consider increasing max_iter to improve the fit.\n",
      "  warnings.warn(\n"
     ]
    },
    {
     "name": "stdout",
     "output_type": "stream",
     "text": [
      "[CV] END alpha=0.01, eta0=0.01, learning_rate=invscaling, penalty=l2; total time=   0.2s\n",
      "[CV] END alpha=0.01, eta0=0.01, learning_rate=invscaling, penalty=l2; total time=   0.1s\n",
      "[CV] END alpha=0.01, eta0=0.01, learning_rate=invscaling, penalty=l2; total time=   0.2s\n",
      "[CV] END alpha=0.01, eta0=0.01, learning_rate=invscaling, penalty=l2; total time=   0.3s\n"
     ]
    },
    {
     "name": "stderr",
     "output_type": "stream",
     "text": [
      "C:\\Users\\maxd2\\AppData\\Local\\Packages\\PythonSoftwareFoundation.Python.3.11_qbz5n2kfra8p0\\LocalCache\\local-packages\\Python311\\site-packages\\sklearn\\linear_model\\_stochastic_gradient.py:1616: ConvergenceWarning: Maximum number of iteration reached before convergence. Consider increasing max_iter to improve the fit.\n",
      "  warnings.warn(\n"
     ]
    },
    {
     "name": "stdout",
     "output_type": "stream",
     "text": [
      "[CV] END alpha=0.01, eta0=0.01, learning_rate=optimal, penalty=elasticnet; total time=  18.1s\n",
      "[CV] END alpha=0.01, eta0=0.01, learning_rate=invscaling, penalty=l1; total time=   0.4s\n",
      "[CV] END alpha=0.01, eta0=0.01, learning_rate=invscaling, penalty=l1; total time=   0.3s\n",
      "[CV] END alpha=0.01, eta0=0.01, learning_rate=invscaling, penalty=l1; total time=   0.2s\n",
      "[CV] END alpha=0.01, eta0=0.01, learning_rate=invscaling, penalty=l1; total time=   0.2s\n",
      "[CV] END alpha=0.01, eta0=0.01, learning_rate=invscaling, penalty=l1; total time=   0.2s\n",
      "[CV] END alpha=0.01, eta0=0.01, learning_rate=invscaling, penalty=elasticnet; total time=   0.2s\n",
      "[CV] END alpha=0.01, eta0=0.01, learning_rate=invscaling, penalty=elasticnet; total time=   0.2s\n",
      "[CV] END alpha=0.01, eta0=0.01, learning_rate=invscaling, penalty=elasticnet; total time=   0.3s\n",
      "[CV] END alpha=0.01, eta0=0.01, learning_rate=invscaling, penalty=elasticnet; total time=   0.2s\n",
      "[CV] END alpha=0.01, eta0=0.01, learning_rate=invscaling, penalty=None; total time=   0.2s\n",
      "[CV] END alpha=0.01, eta0=0.01, learning_rate=optimal, penalty=l1; total time=  21.0s\n"
     ]
    },
    {
     "name": "stderr",
     "output_type": "stream",
     "text": [
      "C:\\Users\\maxd2\\AppData\\Local\\Packages\\PythonSoftwareFoundation.Python.3.11_qbz5n2kfra8p0\\LocalCache\\local-packages\\Python311\\site-packages\\sklearn\\linear_model\\_stochastic_gradient.py:1616: ConvergenceWarning: Maximum number of iteration reached before convergence. Consider increasing max_iter to improve the fit.\n",
      "  warnings.warn(\n"
     ]
    },
    {
     "name": "stdout",
     "output_type": "stream",
     "text": [
      "[CV] END alpha=0.01, eta0=0.01, learning_rate=invscaling, penalty=elasticnet; total time=   0.4s\n",
      "[CV] END alpha=0.01, eta0=0.01, learning_rate=invscaling, penalty=None; total time=   0.1s\n",
      "[CV] END alpha=0.01, eta0=0.01, learning_rate=invscaling, penalty=None; total time=   0.2s\n",
      "[CV] END alpha=0.01, eta0=0.01, learning_rate=invscaling, penalty=None; total time=   0.4s\n",
      "[CV] END alpha=0.01, eta0=0.01, learning_rate=invscaling, penalty=None; total time=   0.2s\n",
      "[CV] END alpha=0.01, eta0=0.01, learning_rate=adaptive, penalty=l2; total time=   0.6s\n",
      "[CV] END alpha=0.01, eta0=0.01, learning_rate=adaptive, penalty=l2; total time=   0.7s\n",
      "[CV] END alpha=0.01, eta0=0.01, learning_rate=adaptive, penalty=l2; total time=   0.9s\n",
      "[CV] END alpha=0.01, eta0=0.01, learning_rate=adaptive, penalty=l2; total time=   0.8s\n",
      "[CV] END alpha=0.01, eta0=0.01, learning_rate=adaptive, penalty=l2; total time=   0.6s\n",
      "[CV] END alpha=0.01, eta0=0.01, learning_rate=adaptive, penalty=l1; total time=   1.1s\n",
      "[CV] END alpha=0.01, eta0=0.01, learning_rate=adaptive, penalty=l1; total time=   1.2s\n",
      "[CV] END alpha=0.01, eta0=0.01, learning_rate=adaptive, penalty=l1; total time=   1.1s\n",
      "[CV] END alpha=0.01, eta0=0.01, learning_rate=adaptive, penalty=l1; total time=   1.6s\n",
      "[CV] END alpha=0.01, eta0=0.01, learning_rate=optimal, penalty=None; total time=  13.1s\n"
     ]
    },
    {
     "name": "stderr",
     "output_type": "stream",
     "text": [
      "C:\\Users\\maxd2\\AppData\\Local\\Packages\\PythonSoftwareFoundation.Python.3.11_qbz5n2kfra8p0\\LocalCache\\local-packages\\Python311\\site-packages\\sklearn\\linear_model\\_stochastic_gradient.py:1616: ConvergenceWarning: Maximum number of iteration reached before convergence. Consider increasing max_iter to improve the fit.\n",
      "  warnings.warn(\n"
     ]
    },
    {
     "name": "stdout",
     "output_type": "stream",
     "text": [
      "[CV] END alpha=0.01, eta0=0.01, learning_rate=adaptive, penalty=l1; total time=   1.1s\n"
     ]
    },
    {
     "name": "stderr",
     "output_type": "stream",
     "text": [
      "C:\\Users\\maxd2\\AppData\\Local\\Packages\\PythonSoftwareFoundation.Python.3.11_qbz5n2kfra8p0\\LocalCache\\local-packages\\Python311\\site-packages\\sklearn\\linear_model\\_stochastic_gradient.py:1616: ConvergenceWarning: Maximum number of iteration reached before convergence. Consider increasing max_iter to improve the fit.\n",
      "  warnings.warn(\n"
     ]
    },
    {
     "name": "stdout",
     "output_type": "stream",
     "text": [
      "[CV] END alpha=0.01, eta0=0.01, learning_rate=optimal, penalty=None; total time=  12.4s\n",
      "[CV] END alpha=0.01, eta0=0.01, learning_rate=adaptive, penalty=elasticnet; total time=   1.4s\n",
      "[CV] END alpha=0.01, eta0=0.01, learning_rate=adaptive, penalty=elasticnet; total time=   1.4s\n",
      "[CV] END alpha=0.01, eta0=0.01, learning_rate=optimal, penalty=None; total time=  13.0s\n",
      "[CV] END alpha=0.01, eta0=0.01, learning_rate=adaptive, penalty=elasticnet; total time=   1.4s\n"
     ]
    },
    {
     "name": "stderr",
     "output_type": "stream",
     "text": [
      "C:\\Users\\maxd2\\AppData\\Local\\Packages\\PythonSoftwareFoundation.Python.3.11_qbz5n2kfra8p0\\LocalCache\\local-packages\\Python311\\site-packages\\sklearn\\linear_model\\_stochastic_gradient.py:1616: ConvergenceWarning: Maximum number of iteration reached before convergence. Consider increasing max_iter to improve the fit.\n",
      "  warnings.warn(\n"
     ]
    },
    {
     "name": "stdout",
     "output_type": "stream",
     "text": [
      "[CV] END alpha=0.01, eta0=0.01, learning_rate=adaptive, penalty=elasticnet; total time=   1.2s\n",
      "[CV] END alpha=0.01, eta0=0.01, learning_rate=adaptive, penalty=None; total time=   0.5s\n",
      "[CV] END alpha=0.01, eta0=0.1, learning_rate=constant, penalty=l2; total time=   0.0s\n",
      "[CV] END alpha=0.01, eta0=0.1, learning_rate=constant, penalty=l2; total time=   0.0s\n",
      "[CV] END alpha=0.01, eta0=0.01, learning_rate=adaptive, penalty=elasticnet; total time=   1.9s\n",
      "[CV] END alpha=0.01, eta0=0.01, learning_rate=adaptive, penalty=None; total time=   0.8s\n",
      "[CV] END alpha=0.01, eta0=0.1, learning_rate=constant, penalty=l2; total time=   0.0s\n",
      "[CV] END alpha=0.01, eta0=0.1, learning_rate=constant, penalty=l2; total time=   0.0s\n",
      "[CV] END alpha=0.01, eta0=0.1, learning_rate=constant, penalty=l2; total time=   0.0s\n",
      "[CV] END alpha=0.01, eta0=0.01, learning_rate=adaptive, penalty=None; total time=   0.7s\n",
      "[CV] END alpha=0.01, eta0=0.01, learning_rate=adaptive, penalty=None; total time=   0.6s\n",
      "[CV] END alpha=0.01, eta0=0.1, learning_rate=constant, penalty=l1; total time=   0.0s\n",
      "[CV] END alpha=0.01, eta0=0.1, learning_rate=constant, penalty=l1; total time=   0.1s\n",
      "[CV] END alpha=0.01, eta0=0.01, learning_rate=adaptive, penalty=None; total time=   0.7s\n",
      "[CV] END alpha=0.01, eta0=0.1, learning_rate=constant, penalty=l1; total time=   0.1s\n",
      "[CV] END alpha=0.01, eta0=0.1, learning_rate=constant, penalty=elasticnet; total time=   0.1s\n",
      "[CV] END alpha=0.01, eta0=0.1, learning_rate=constant, penalty=l1; total time=   0.3s\n",
      "[CV] END alpha=0.01, eta0=0.1, learning_rate=constant, penalty=l1; total time=   0.2s\n",
      "[CV] END alpha=0.01, eta0=0.1, learning_rate=constant, penalty=elasticnet; total time=   0.1s\n",
      "[CV] END alpha=0.01, eta0=0.1, learning_rate=constant, penalty=None; total time=   0.0s\n",
      "[CV] END alpha=0.01, eta0=0.1, learning_rate=constant, penalty=elasticnet; total time=   0.1s\n",
      "[CV] END alpha=0.01, eta0=0.1, learning_rate=constant, penalty=None; total time=   0.0s\n",
      "[CV] END alpha=0.01, eta0=0.1, learning_rate=constant, penalty=elasticnet; total time=   0.2s\n",
      "[CV] END alpha=0.01, eta0=0.1, learning_rate=constant, penalty=None; total time=   0.0s\n",
      "[CV] END alpha=0.01, eta0=0.1, learning_rate=constant, penalty=None; total time=   0.1s\n",
      "[CV] END alpha=0.01, eta0=0.1, learning_rate=constant, penalty=elasticnet; total time=   0.2s\n",
      "[CV] END alpha=0.01, eta0=0.1, learning_rate=constant, penalty=None; total time=   0.1s\n"
     ]
    },
    {
     "name": "stderr",
     "output_type": "stream",
     "text": [
      "C:\\Users\\maxd2\\AppData\\Local\\Packages\\PythonSoftwareFoundation.Python.3.11_qbz5n2kfra8p0\\LocalCache\\local-packages\\Python311\\site-packages\\sklearn\\linear_model\\_stochastic_gradient.py:1616: ConvergenceWarning: Maximum number of iteration reached before convergence. Consider increasing max_iter to improve the fit.\n",
      "  warnings.warn(\n",
      "C:\\Users\\maxd2\\AppData\\Local\\Packages\\PythonSoftwareFoundation.Python.3.11_qbz5n2kfra8p0\\LocalCache\\local-packages\\Python311\\site-packages\\sklearn\\linear_model\\_stochastic_gradient.py:1616: ConvergenceWarning: Maximum number of iteration reached before convergence. Consider increasing max_iter to improve the fit.\n",
      "  warnings.warn(\n"
     ]
    },
    {
     "name": "stdout",
     "output_type": "stream",
     "text": [
      "[CV] END alpha=0.01, eta0=0.01, learning_rate=optimal, penalty=None; total time=  10.0s\n",
      "[CV] END alpha=0.01, eta0=0.01, learning_rate=optimal, penalty=elasticnet; total time=  17.4s\n"
     ]
    },
    {
     "name": "stderr",
     "output_type": "stream",
     "text": [
      "C:\\Users\\maxd2\\AppData\\Local\\Packages\\PythonSoftwareFoundation.Python.3.11_qbz5n2kfra8p0\\LocalCache\\local-packages\\Python311\\site-packages\\sklearn\\linear_model\\_stochastic_gradient.py:1616: ConvergenceWarning: Maximum number of iteration reached before convergence. Consider increasing max_iter to improve the fit.\n",
      "  warnings.warn(\n"
     ]
    },
    {
     "name": "stdout",
     "output_type": "stream",
     "text": [
      "[CV] END alpha=0.01, eta0=0.01, learning_rate=optimal, penalty=elasticnet; total time=  17.6s\n"
     ]
    },
    {
     "name": "stderr",
     "output_type": "stream",
     "text": [
      "C:\\Users\\maxd2\\AppData\\Local\\Packages\\PythonSoftwareFoundation.Python.3.11_qbz5n2kfra8p0\\LocalCache\\local-packages\\Python311\\site-packages\\sklearn\\linear_model\\_stochastic_gradient.py:1616: ConvergenceWarning: Maximum number of iteration reached before convergence. Consider increasing max_iter to improve the fit.\n",
      "  warnings.warn(\n",
      "C:\\Users\\maxd2\\AppData\\Local\\Packages\\PythonSoftwareFoundation.Python.3.11_qbz5n2kfra8p0\\LocalCache\\local-packages\\Python311\\site-packages\\sklearn\\linear_model\\_stochastic_gradient.py:1616: ConvergenceWarning: Maximum number of iteration reached before convergence. Consider increasing max_iter to improve the fit.\n",
      "  warnings.warn(\n"
     ]
    },
    {
     "name": "stdout",
     "output_type": "stream",
     "text": [
      "[CV] END alpha=0.01, eta0=0.01, learning_rate=optimal, penalty=elasticnet; total time=  18.2s\n",
      "[CV] END alpha=0.01, eta0=0.01, learning_rate=optimal, penalty=None; total time=  10.9s\n"
     ]
    },
    {
     "name": "stderr",
     "output_type": "stream",
     "text": [
      "C:\\Users\\maxd2\\AppData\\Local\\Packages\\PythonSoftwareFoundation.Python.3.11_qbz5n2kfra8p0\\LocalCache\\local-packages\\Python311\\site-packages\\sklearn\\linear_model\\_stochastic_gradient.py:1616: ConvergenceWarning: Maximum number of iteration reached before convergence. Consider increasing max_iter to improve the fit.\n",
      "  warnings.warn(\n"
     ]
    },
    {
     "name": "stdout",
     "output_type": "stream",
     "text": [
      "[CV] END alpha=0.01, eta0=0.1, learning_rate=optimal, penalty=l2; total time=   9.9s\n"
     ]
    },
    {
     "name": "stderr",
     "output_type": "stream",
     "text": [
      "C:\\Users\\maxd2\\AppData\\Local\\Packages\\PythonSoftwareFoundation.Python.3.11_qbz5n2kfra8p0\\LocalCache\\local-packages\\Python311\\site-packages\\sklearn\\linear_model\\_stochastic_gradient.py:1616: ConvergenceWarning: Maximum number of iteration reached before convergence. Consider increasing max_iter to improve the fit.\n",
      "  warnings.warn(\n"
     ]
    },
    {
     "name": "stdout",
     "output_type": "stream",
     "text": [
      "[CV] END alpha=0.01, eta0=0.1, learning_rate=optimal, penalty=l2; total time=  10.4s\n"
     ]
    },
    {
     "name": "stderr",
     "output_type": "stream",
     "text": [
      "C:\\Users\\maxd2\\AppData\\Local\\Packages\\PythonSoftwareFoundation.Python.3.11_qbz5n2kfra8p0\\LocalCache\\local-packages\\Python311\\site-packages\\sklearn\\linear_model\\_stochastic_gradient.py:1616: ConvergenceWarning: Maximum number of iteration reached before convergence. Consider increasing max_iter to improve the fit.\n",
      "  warnings.warn(\n",
      "C:\\Users\\maxd2\\AppData\\Local\\Packages\\PythonSoftwareFoundation.Python.3.11_qbz5n2kfra8p0\\LocalCache\\local-packages\\Python311\\site-packages\\sklearn\\linear_model\\_stochastic_gradient.py:1616: ConvergenceWarning: Maximum number of iteration reached before convergence. Consider increasing max_iter to improve the fit.\n",
      "  warnings.warn(\n"
     ]
    },
    {
     "name": "stdout",
     "output_type": "stream",
     "text": [
      "[CV] END alpha=0.01, eta0=0.1, learning_rate=optimal, penalty=l2; total time=  12.4s\n",
      "[CV] END alpha=0.01, eta0=0.1, learning_rate=optimal, penalty=l2; total time=  12.5s\n"
     ]
    },
    {
     "name": "stderr",
     "output_type": "stream",
     "text": [
      "C:\\Users\\maxd2\\AppData\\Local\\Packages\\PythonSoftwareFoundation.Python.3.11_qbz5n2kfra8p0\\LocalCache\\local-packages\\Python311\\site-packages\\sklearn\\linear_model\\_stochastic_gradient.py:1616: ConvergenceWarning: Maximum number of iteration reached before convergence. Consider increasing max_iter to improve the fit.\n",
      "  warnings.warn(\n"
     ]
    },
    {
     "name": "stdout",
     "output_type": "stream",
     "text": [
      "[CV] END alpha=0.01, eta0=0.1, learning_rate=optimal, penalty=l2; total time=  12.9s\n"
     ]
    },
    {
     "name": "stderr",
     "output_type": "stream",
     "text": [
      "C:\\Users\\maxd2\\AppData\\Local\\Packages\\PythonSoftwareFoundation.Python.3.11_qbz5n2kfra8p0\\LocalCache\\local-packages\\Python311\\site-packages\\sklearn\\linear_model\\_stochastic_gradient.py:1616: ConvergenceWarning: Maximum number of iteration reached before convergence. Consider increasing max_iter to improve the fit.\n",
      "  warnings.warn(\n"
     ]
    },
    {
     "name": "stdout",
     "output_type": "stream",
     "text": [
      "[CV] END alpha=0.01, eta0=0.1, learning_rate=optimal, penalty=l1; total time=  15.9s\n"
     ]
    },
    {
     "name": "stderr",
     "output_type": "stream",
     "text": [
      "C:\\Users\\maxd2\\AppData\\Local\\Packages\\PythonSoftwareFoundation.Python.3.11_qbz5n2kfra8p0\\LocalCache\\local-packages\\Python311\\site-packages\\sklearn\\linear_model\\_stochastic_gradient.py:1616: ConvergenceWarning: Maximum number of iteration reached before convergence. Consider increasing max_iter to improve the fit.\n",
      "  warnings.warn(\n"
     ]
    },
    {
     "name": "stdout",
     "output_type": "stream",
     "text": [
      "[CV] END alpha=0.01, eta0=0.1, learning_rate=optimal, penalty=l1; total time=  16.9s\n"
     ]
    },
    {
     "name": "stderr",
     "output_type": "stream",
     "text": [
      "C:\\Users\\maxd2\\AppData\\Local\\Packages\\PythonSoftwareFoundation.Python.3.11_qbz5n2kfra8p0\\LocalCache\\local-packages\\Python311\\site-packages\\sklearn\\linear_model\\_stochastic_gradient.py:1616: ConvergenceWarning: Maximum number of iteration reached before convergence. Consider increasing max_iter to improve the fit.\n",
      "  warnings.warn(\n",
      "C:\\Users\\maxd2\\AppData\\Local\\Packages\\PythonSoftwareFoundation.Python.3.11_qbz5n2kfra8p0\\LocalCache\\local-packages\\Python311\\site-packages\\sklearn\\linear_model\\_stochastic_gradient.py:1616: ConvergenceWarning: Maximum number of iteration reached before convergence. Consider increasing max_iter to improve the fit.\n",
      "  warnings.warn(\n"
     ]
    },
    {
     "name": "stdout",
     "output_type": "stream",
     "text": [
      "[CV] END alpha=0.01, eta0=0.1, learning_rate=optimal, penalty=l1; total time=  16.5s\n",
      "[CV] END alpha=0.01, eta0=0.1, learning_rate=optimal, penalty=elasticnet; total time=  16.1s\n"
     ]
    },
    {
     "name": "stderr",
     "output_type": "stream",
     "text": [
      "C:\\Users\\maxd2\\AppData\\Local\\Packages\\PythonSoftwareFoundation.Python.3.11_qbz5n2kfra8p0\\LocalCache\\local-packages\\Python311\\site-packages\\sklearn\\linear_model\\_stochastic_gradient.py:1616: ConvergenceWarning: Maximum number of iteration reached before convergence. Consider increasing max_iter to improve the fit.\n",
      "  warnings.warn(\n"
     ]
    },
    {
     "name": "stdout",
     "output_type": "stream",
     "text": [
      "[CV] END alpha=0.01, eta0=0.1, learning_rate=optimal, penalty=l1; total time=  17.5s\n",
      "[CV] END alpha=0.01, eta0=0.1, learning_rate=invscaling, penalty=l2; total time=   0.4s\n",
      "[CV] END alpha=0.01, eta0=0.1, learning_rate=invscaling, penalty=l2; total time=   0.2s\n",
      "[CV] END alpha=0.01, eta0=0.1, learning_rate=invscaling, penalty=l2; total time=   0.3s\n",
      "[CV] END alpha=0.01, eta0=0.1, learning_rate=invscaling, penalty=l2; total time=   0.1s\n",
      "[CV] END alpha=0.01, eta0=0.1, learning_rate=invscaling, penalty=l2; total time=   0.3s\n",
      "[CV] END alpha=0.01, eta0=0.1, learning_rate=invscaling, penalty=l1; total time=   0.4s\n",
      "[CV] END alpha=0.01, eta0=0.1, learning_rate=invscaling, penalty=l1; total time=   0.6s\n",
      "[CV] END alpha=0.01, eta0=0.1, learning_rate=invscaling, penalty=l1; total time=   0.3s\n",
      "[CV] END alpha=0.01, eta0=0.1, learning_rate=optimal, penalty=elasticnet; total time=  18.2s\n"
     ]
    },
    {
     "name": "stderr",
     "output_type": "stream",
     "text": [
      "C:\\Users\\maxd2\\AppData\\Local\\Packages\\PythonSoftwareFoundation.Python.3.11_qbz5n2kfra8p0\\LocalCache\\local-packages\\Python311\\site-packages\\sklearn\\linear_model\\_stochastic_gradient.py:1616: ConvergenceWarning: Maximum number of iteration reached before convergence. Consider increasing max_iter to improve the fit.\n",
      "  warnings.warn(\n"
     ]
    },
    {
     "name": "stdout",
     "output_type": "stream",
     "text": [
      "[CV] END alpha=0.01, eta0=0.1, learning_rate=invscaling, penalty=l1; total time=   0.5s\n",
      "[CV] END alpha=0.01, eta0=0.1, learning_rate=invscaling, penalty=l1; total time=   0.3s\n",
      "[CV] END alpha=0.01, eta0=0.1, learning_rate=invscaling, penalty=elasticnet; total time=   0.3s\n",
      "[CV] END alpha=0.01, eta0=0.1, learning_rate=optimal, penalty=l1; total time=  20.9s\n"
     ]
    },
    {
     "name": "stderr",
     "output_type": "stream",
     "text": [
      "C:\\Users\\maxd2\\AppData\\Local\\Packages\\PythonSoftwareFoundation.Python.3.11_qbz5n2kfra8p0\\LocalCache\\local-packages\\Python311\\site-packages\\sklearn\\linear_model\\_stochastic_gradient.py:1616: ConvergenceWarning: Maximum number of iteration reached before convergence. Consider increasing max_iter to improve the fit.\n",
      "  warnings.warn(\n"
     ]
    },
    {
     "name": "stdout",
     "output_type": "stream",
     "text": [
      "[CV] END alpha=0.01, eta0=0.1, learning_rate=invscaling, penalty=elasticnet; total time=   0.4s\n",
      "[CV] END alpha=0.01, eta0=0.1, learning_rate=invscaling, penalty=elasticnet; total time=   0.3s\n",
      "[CV] END alpha=0.01, eta0=0.1, learning_rate=invscaling, penalty=elasticnet; total time=   1.0s\n",
      "[CV] END alpha=0.01, eta0=0.1, learning_rate=invscaling, penalty=elasticnet; total time=   0.3s\n",
      "[CV] END alpha=0.01, eta0=0.1, learning_rate=invscaling, penalty=None; total time=   0.1s\n",
      "[CV] END alpha=0.01, eta0=0.1, learning_rate=invscaling, penalty=None; total time=   0.1s\n",
      "[CV] END alpha=0.01, eta0=0.1, learning_rate=invscaling, penalty=None; total time=   0.5s\n",
      "[CV] END alpha=0.01, eta0=0.1, learning_rate=invscaling, penalty=None; total time=   0.3s\n",
      "[CV] END alpha=0.01, eta0=0.1, learning_rate=invscaling, penalty=None; total time=   0.1s\n",
      "[CV] END alpha=0.01, eta0=0.1, learning_rate=adaptive, penalty=l2; total time=   1.0s\n",
      "[CV] END alpha=0.01, eta0=0.1, learning_rate=adaptive, penalty=l2; total time=   0.8s\n",
      "[CV] END alpha=0.01, eta0=0.1, learning_rate=adaptive, penalty=l2; total time=   1.0s\n",
      "[CV] END alpha=0.01, eta0=0.1, learning_rate=adaptive, penalty=l2; total time=   1.2s\n",
      "[CV] END alpha=0.01, eta0=0.1, learning_rate=adaptive, penalty=l2; total time=   0.8s\n",
      "[CV] END alpha=0.01, eta0=0.1, learning_rate=adaptive, penalty=l1; total time=   1.6s\n",
      "[CV] END alpha=0.01, eta0=0.1, learning_rate=optimal, penalty=None; total time=   8.6s\n"
     ]
    },
    {
     "name": "stderr",
     "output_type": "stream",
     "text": [
      "C:\\Users\\maxd2\\AppData\\Local\\Packages\\PythonSoftwareFoundation.Python.3.11_qbz5n2kfra8p0\\LocalCache\\local-packages\\Python311\\site-packages\\sklearn\\linear_model\\_stochastic_gradient.py:1616: ConvergenceWarning: Maximum number of iteration reached before convergence. Consider increasing max_iter to improve the fit.\n",
      "  warnings.warn(\n"
     ]
    },
    {
     "name": "stdout",
     "output_type": "stream",
     "text": [
      "[CV] END alpha=0.01, eta0=0.1, learning_rate=adaptive, penalty=l1; total time=   1.9s\n",
      "[CV] END alpha=0.01, eta0=0.1, learning_rate=optimal, penalty=None; total time=  12.4s\n"
     ]
    },
    {
     "name": "stderr",
     "output_type": "stream",
     "text": [
      "C:\\Users\\maxd2\\AppData\\Local\\Packages\\PythonSoftwareFoundation.Python.3.11_qbz5n2kfra8p0\\LocalCache\\local-packages\\Python311\\site-packages\\sklearn\\linear_model\\_stochastic_gradient.py:1616: ConvergenceWarning: Maximum number of iteration reached before convergence. Consider increasing max_iter to improve the fit.\n",
      "  warnings.warn(\n",
      "C:\\Users\\maxd2\\AppData\\Local\\Packages\\PythonSoftwareFoundation.Python.3.11_qbz5n2kfra8p0\\LocalCache\\local-packages\\Python311\\site-packages\\sklearn\\linear_model\\_stochastic_gradient.py:1616: ConvergenceWarning: Maximum number of iteration reached before convergence. Consider increasing max_iter to improve the fit.\n",
      "  warnings.warn(\n"
     ]
    },
    {
     "name": "stdout",
     "output_type": "stream",
     "text": [
      "[CV] END alpha=0.01, eta0=0.1, learning_rate=optimal, penalty=elasticnet; total time=  15.1s\n"
     ]
    },
    {
     "name": "stderr",
     "output_type": "stream",
     "text": [
      "C:\\Users\\maxd2\\AppData\\Local\\Packages\\PythonSoftwareFoundation.Python.3.11_qbz5n2kfra8p0\\LocalCache\\local-packages\\Python311\\site-packages\\sklearn\\linear_model\\_stochastic_gradient.py:1616: ConvergenceWarning: Maximum number of iteration reached before convergence. Consider increasing max_iter to improve the fit.\n",
      "  warnings.warn(\n"
     ]
    },
    {
     "name": "stdout",
     "output_type": "stream",
     "text": [
      "[CV] END alpha=0.01, eta0=0.1, learning_rate=optimal, penalty=elasticnet; total time=  14.9s\n",
      "[CV] END alpha=0.01, eta0=0.1, learning_rate=adaptive, penalty=l1; total time=   1.8s\n",
      "[CV] END alpha=0.01, eta0=0.1, learning_rate=adaptive, penalty=l1; total time=   2.3s\n"
     ]
    },
    {
     "name": "stderr",
     "output_type": "stream",
     "text": [
      "C:\\Users\\maxd2\\AppData\\Local\\Packages\\PythonSoftwareFoundation.Python.3.11_qbz5n2kfra8p0\\LocalCache\\local-packages\\Python311\\site-packages\\sklearn\\linear_model\\_stochastic_gradient.py:1616: ConvergenceWarning: Maximum number of iteration reached before convergence. Consider increasing max_iter to improve the fit.\n",
      "  warnings.warn(\n"
     ]
    },
    {
     "name": "stdout",
     "output_type": "stream",
     "text": [
      "[CV] END alpha=0.01, eta0=0.1, learning_rate=optimal, penalty=None; total time=  13.1s\n",
      "[CV] END alpha=0.01, eta0=0.1, learning_rate=adaptive, penalty=elasticnet; total time=   1.5s\n",
      "[CV] END alpha=0.01, eta0=0.1, learning_rate=adaptive, penalty=l1; total time=   1.7s\n",
      "[CV] END alpha=0.01, eta0=0.1, learning_rate=adaptive, penalty=None; total time=   0.8s\n",
      "[CV] END alpha=0.01, eta0=1, learning_rate=constant, penalty=l2; total time=   0.0s\n",
      "[CV] END alpha=0.01, eta0=1, learning_rate=constant, penalty=l2; total time=   0.0s\n",
      "[CV] END alpha=0.01, eta0=1, learning_rate=constant, penalty=l2; total time=   0.0s\n",
      "[CV] END alpha=0.01, eta0=0.1, learning_rate=adaptive, penalty=elasticnet; total time=   1.5s\n",
      "[CV] END alpha=0.01, eta0=0.1, learning_rate=adaptive, penalty=elasticnet; total time=   1.8s\n",
      "[CV] END alpha=0.01, eta0=1, learning_rate=constant, penalty=l2; total time=   0.0s\n",
      "[CV] END alpha=0.01, eta0=1, learning_rate=constant, penalty=l1; total time=   0.0s\n",
      "[CV] END alpha=0.01, eta0=1, learning_rate=constant, penalty=l2; total time=   0.1s\n",
      "[CV] END alpha=0.01, eta0=0.1, learning_rate=adaptive, penalty=elasticnet; total time=   1.4s\n",
      "[CV] END alpha=0.01, eta0=1, learning_rate=constant, penalty=l1; total time=   0.0s\n",
      "[CV] END alpha=0.01, eta0=1, learning_rate=constant, penalty=l1; total time=   0.0s\n",
      "[CV] END alpha=0.01, eta0=1, learning_rate=constant, penalty=l1; total time=   0.1s\n",
      "[CV] END alpha=0.01, eta0=1, learning_rate=constant, penalty=elasticnet; total time=   0.1s\n",
      "[CV] END alpha=0.01, eta0=0.1, learning_rate=adaptive, penalty=None; total time=   0.8s\n",
      "[CV] END alpha=0.01, eta0=1, learning_rate=constant, penalty=l1; total time=   0.2s\n",
      "[CV] END alpha=0.01, eta0=0.1, learning_rate=adaptive, penalty=None; total time=   1.5s\n",
      "[CV] END alpha=0.01, eta0=1, learning_rate=constant, penalty=elasticnet; total time=   0.2s\n",
      "[CV] END alpha=0.01, eta0=1, learning_rate=constant, penalty=elasticnet; total time=   0.1s\n",
      "[CV] END alpha=0.01, eta0=1, learning_rate=constant, penalty=elasticnet; total time=   0.1s\n",
      "[CV] END alpha=0.01, eta0=1, learning_rate=constant, penalty=None; total time=   0.0s\n",
      "[CV] END alpha=0.01, eta0=0.1, learning_rate=adaptive, penalty=None; total time=   0.9s\n",
      "[CV] END alpha=0.01, eta0=1, learning_rate=constant, penalty=None; total time=   0.0s\n",
      "[CV] END alpha=0.01, eta0=1, learning_rate=constant, penalty=None; total time=   0.0s\n",
      "[CV] END alpha=0.01, eta0=1, learning_rate=constant, penalty=None; total time=   0.0s\n",
      "[CV] END alpha=0.01, eta0=0.1, learning_rate=adaptive, penalty=elasticnet; total time=   2.3s\n",
      "[CV] END alpha=0.01, eta0=1, learning_rate=constant, penalty=None; total time=   0.0s\n",
      "[CV] END alpha=0.01, eta0=0.1, learning_rate=optimal, penalty=None; total time=   9.5s\n",
      "[CV] END alpha=0.01, eta0=1, learning_rate=constant, penalty=elasticnet; total time=   0.2s\n",
      "[CV] END alpha=0.01, eta0=0.1, learning_rate=adaptive, penalty=None; total time=   1.4s\n"
     ]
    },
    {
     "name": "stderr",
     "output_type": "stream",
     "text": [
      "C:\\Users\\maxd2\\AppData\\Local\\Packages\\PythonSoftwareFoundation.Python.3.11_qbz5n2kfra8p0\\LocalCache\\local-packages\\Python311\\site-packages\\sklearn\\linear_model\\_stochastic_gradient.py:1616: ConvergenceWarning: Maximum number of iteration reached before convergence. Consider increasing max_iter to improve the fit.\n",
      "  warnings.warn(\n",
      "C:\\Users\\maxd2\\AppData\\Local\\Packages\\PythonSoftwareFoundation.Python.3.11_qbz5n2kfra8p0\\LocalCache\\local-packages\\Python311\\site-packages\\sklearn\\linear_model\\_stochastic_gradient.py:1616: ConvergenceWarning: Maximum number of iteration reached before convergence. Consider increasing max_iter to improve the fit.\n",
      "  warnings.warn(\n"
     ]
    },
    {
     "name": "stdout",
     "output_type": "stream",
     "text": [
      "[CV] END alpha=0.01, eta0=0.1, learning_rate=optimal, penalty=None; total time=   9.3s\n"
     ]
    },
    {
     "name": "stderr",
     "output_type": "stream",
     "text": [
      "C:\\Users\\maxd2\\AppData\\Local\\Packages\\PythonSoftwareFoundation.Python.3.11_qbz5n2kfra8p0\\LocalCache\\local-packages\\Python311\\site-packages\\sklearn\\linear_model\\_stochastic_gradient.py:1616: ConvergenceWarning: Maximum number of iteration reached before convergence. Consider increasing max_iter to improve the fit.\n",
      "  warnings.warn(\n"
     ]
    },
    {
     "name": "stdout",
     "output_type": "stream",
     "text": [
      "[CV] END alpha=0.01, eta0=0.1, learning_rate=optimal, penalty=elasticnet; total time=  22.1s\n"
     ]
    },
    {
     "name": "stderr",
     "output_type": "stream",
     "text": [
      "C:\\Users\\maxd2\\AppData\\Local\\Packages\\PythonSoftwareFoundation.Python.3.11_qbz5n2kfra8p0\\LocalCache\\local-packages\\Python311\\site-packages\\sklearn\\linear_model\\_stochastic_gradient.py:1616: ConvergenceWarning: Maximum number of iteration reached before convergence. Consider increasing max_iter to improve the fit.\n",
      "  warnings.warn(\n"
     ]
    },
    {
     "name": "stdout",
     "output_type": "stream",
     "text": [
      "[CV] END alpha=0.01, eta0=1, learning_rate=optimal, penalty=l2; total time=   8.4s\n"
     ]
    },
    {
     "name": "stderr",
     "output_type": "stream",
     "text": [
      "C:\\Users\\maxd2\\AppData\\Local\\Packages\\PythonSoftwareFoundation.Python.3.11_qbz5n2kfra8p0\\LocalCache\\local-packages\\Python311\\site-packages\\sklearn\\linear_model\\_stochastic_gradient.py:1616: ConvergenceWarning: Maximum number of iteration reached before convergence. Consider increasing max_iter to improve the fit.\n",
      "  warnings.warn(\n"
     ]
    },
    {
     "name": "stdout",
     "output_type": "stream",
     "text": [
      "[CV] END alpha=0.01, eta0=1, learning_rate=optimal, penalty=l2; total time=   8.7s\n"
     ]
    },
    {
     "name": "stderr",
     "output_type": "stream",
     "text": [
      "C:\\Users\\maxd2\\AppData\\Local\\Packages\\PythonSoftwareFoundation.Python.3.11_qbz5n2kfra8p0\\LocalCache\\local-packages\\Python311\\site-packages\\sklearn\\linear_model\\_stochastic_gradient.py:1616: ConvergenceWarning: Maximum number of iteration reached before convergence. Consider increasing max_iter to improve the fit.\n",
      "  warnings.warn(\n",
      "C:\\Users\\maxd2\\AppData\\Local\\Packages\\PythonSoftwareFoundation.Python.3.11_qbz5n2kfra8p0\\LocalCache\\local-packages\\Python311\\site-packages\\sklearn\\linear_model\\_stochastic_gradient.py:1616: ConvergenceWarning: Maximum number of iteration reached before convergence. Consider increasing max_iter to improve the fit.\n",
      "  warnings.warn(\n"
     ]
    },
    {
     "name": "stdout",
     "output_type": "stream",
     "text": [
      "[CV] END alpha=0.01, eta0=1, learning_rate=optimal, penalty=l2; total time=   9.2s\n",
      "[CV] END alpha=0.01, eta0=1, learning_rate=optimal, penalty=l2; total time=   9.2s\n"
     ]
    },
    {
     "name": "stderr",
     "output_type": "stream",
     "text": [
      "C:\\Users\\maxd2\\AppData\\Local\\Packages\\PythonSoftwareFoundation.Python.3.11_qbz5n2kfra8p0\\LocalCache\\local-packages\\Python311\\site-packages\\sklearn\\linear_model\\_stochastic_gradient.py:1616: ConvergenceWarning: Maximum number of iteration reached before convergence. Consider increasing max_iter to improve the fit.\n",
      "  warnings.warn(\n"
     ]
    },
    {
     "name": "stdout",
     "output_type": "stream",
     "text": [
      "[CV] END alpha=0.01, eta0=1, learning_rate=optimal, penalty=l2; total time=  12.9s\n"
     ]
    },
    {
     "name": "stderr",
     "output_type": "stream",
     "text": [
      "C:\\Users\\maxd2\\AppData\\Local\\Packages\\PythonSoftwareFoundation.Python.3.11_qbz5n2kfra8p0\\LocalCache\\local-packages\\Python311\\site-packages\\sklearn\\linear_model\\_stochastic_gradient.py:1616: ConvergenceWarning: Maximum number of iteration reached before convergence. Consider increasing max_iter to improve the fit.\n",
      "  warnings.warn(\n",
      "C:\\Users\\maxd2\\AppData\\Local\\Packages\\PythonSoftwareFoundation.Python.3.11_qbz5n2kfra8p0\\LocalCache\\local-packages\\Python311\\site-packages\\sklearn\\linear_model\\_stochastic_gradient.py:1616: ConvergenceWarning: Maximum number of iteration reached before convergence. Consider increasing max_iter to improve the fit.\n",
      "  warnings.warn(\n"
     ]
    },
    {
     "name": "stdout",
     "output_type": "stream",
     "text": [
      "[CV] END alpha=0.01, eta0=1, learning_rate=optimal, penalty=l1; total time=  13.9s\n",
      "[CV] END alpha=0.01, eta0=1, learning_rate=optimal, penalty=elasticnet; total time=  13.8s\n"
     ]
    },
    {
     "name": "stderr",
     "output_type": "stream",
     "text": [
      "C:\\Users\\maxd2\\AppData\\Local\\Packages\\PythonSoftwareFoundation.Python.3.11_qbz5n2kfra8p0\\LocalCache\\local-packages\\Python311\\site-packages\\sklearn\\linear_model\\_stochastic_gradient.py:1616: ConvergenceWarning: Maximum number of iteration reached before convergence. Consider increasing max_iter to improve the fit.\n",
      "  warnings.warn(\n"
     ]
    },
    {
     "name": "stdout",
     "output_type": "stream",
     "text": [
      "[CV] END alpha=0.01, eta0=1, learning_rate=optimal, penalty=l1; total time=  14.7s\n"
     ]
    },
    {
     "name": "stderr",
     "output_type": "stream",
     "text": [
      "C:\\Users\\maxd2\\AppData\\Local\\Packages\\PythonSoftwareFoundation.Python.3.11_qbz5n2kfra8p0\\LocalCache\\local-packages\\Python311\\site-packages\\sklearn\\linear_model\\_stochastic_gradient.py:1616: ConvergenceWarning: Maximum number of iteration reached before convergence. Consider increasing max_iter to improve the fit.\n",
      "  warnings.warn(\n"
     ]
    },
    {
     "name": "stdout",
     "output_type": "stream",
     "text": [
      "[CV] END alpha=0.01, eta0=1, learning_rate=optimal, penalty=l1; total time=  15.2s\n",
      "[CV] END alpha=0.01, eta0=1, learning_rate=invscaling, penalty=l2; total time=   0.9s\n",
      "[CV] END alpha=0.01, eta0=1, learning_rate=invscaling, penalty=l2; total time=   0.6s\n"
     ]
    },
    {
     "name": "stderr",
     "output_type": "stream",
     "text": [
      "C:\\Users\\maxd2\\AppData\\Local\\Packages\\PythonSoftwareFoundation.Python.3.11_qbz5n2kfra8p0\\LocalCache\\local-packages\\Python311\\site-packages\\sklearn\\linear_model\\_stochastic_gradient.py:1616: ConvergenceWarning: Maximum number of iteration reached before convergence. Consider increasing max_iter to improve the fit.\n",
      "  warnings.warn(\n"
     ]
    },
    {
     "name": "stdout",
     "output_type": "stream",
     "text": [
      "[CV] END alpha=0.01, eta0=1, learning_rate=optimal, penalty=None; total time=   8.8s\n",
      "[CV] END alpha=0.01, eta0=1, learning_rate=invscaling, penalty=l2; total time=   1.0s\n",
      "[CV] END alpha=0.01, eta0=1, learning_rate=invscaling, penalty=l2; total time=   0.8s\n",
      "[CV] END alpha=0.01, eta0=1, learning_rate=invscaling, penalty=l2; total time=   0.7s\n",
      "[CV] END alpha=0.01, eta0=1, learning_rate=invscaling, penalty=l1; total time=   1.8s\n",
      "[CV] END alpha=0.01, eta0=1, learning_rate=invscaling, penalty=l1; total time=   1.8s\n"
     ]
    },
    {
     "name": "stderr",
     "output_type": "stream",
     "text": [
      "C:\\Users\\maxd2\\AppData\\Local\\Packages\\PythonSoftwareFoundation.Python.3.11_qbz5n2kfra8p0\\LocalCache\\local-packages\\Python311\\site-packages\\sklearn\\linear_model\\_stochastic_gradient.py:1616: ConvergenceWarning: Maximum number of iteration reached before convergence. Consider increasing max_iter to improve the fit.\n",
      "  warnings.warn(\n",
      "C:\\Users\\maxd2\\AppData\\Local\\Packages\\PythonSoftwareFoundation.Python.3.11_qbz5n2kfra8p0\\LocalCache\\local-packages\\Python311\\site-packages\\sklearn\\linear_model\\_stochastic_gradient.py:1616: ConvergenceWarning: Maximum number of iteration reached before convergence. Consider increasing max_iter to improve the fit.\n",
      "  warnings.warn(\n"
     ]
    },
    {
     "name": "stdout",
     "output_type": "stream",
     "text": [
      "[CV] END alpha=0.01, eta0=1, learning_rate=optimal, penalty=l1; total time=  21.2s\n",
      "[CV] END alpha=0.01, eta0=1, learning_rate=optimal, penalty=l1; total time=  21.6s\n",
      "[CV] END alpha=0.01, eta0=1, learning_rate=invscaling, penalty=l1; total time=   1.2s\n",
      "[CV] END alpha=0.01, eta0=1, learning_rate=invscaling, penalty=l1; total time=   1.4s\n"
     ]
    },
    {
     "name": "stderr",
     "output_type": "stream",
     "text": [
      "C:\\Users\\maxd2\\AppData\\Local\\Packages\\PythonSoftwareFoundation.Python.3.11_qbz5n2kfra8p0\\LocalCache\\local-packages\\Python311\\site-packages\\sklearn\\linear_model\\_stochastic_gradient.py:1616: ConvergenceWarning: Maximum number of iteration reached before convergence. Consider increasing max_iter to improve the fit.\n",
      "  warnings.warn(\n"
     ]
    },
    {
     "name": "stdout",
     "output_type": "stream",
     "text": [
      "[CV] END alpha=0.01, eta0=1, learning_rate=optimal, penalty=None; total time=   8.6s\n"
     ]
    },
    {
     "name": "stderr",
     "output_type": "stream",
     "text": [
      "C:\\Users\\maxd2\\AppData\\Local\\Packages\\PythonSoftwareFoundation.Python.3.11_qbz5n2kfra8p0\\LocalCache\\local-packages\\Python311\\site-packages\\sklearn\\linear_model\\_stochastic_gradient.py:1616: ConvergenceWarning: Maximum number of iteration reached before convergence. Consider increasing max_iter to improve the fit.\n",
      "  warnings.warn(\n",
      "C:\\Users\\maxd2\\AppData\\Local\\Packages\\PythonSoftwareFoundation.Python.3.11_qbz5n2kfra8p0\\LocalCache\\local-packages\\Python311\\site-packages\\sklearn\\linear_model\\_stochastic_gradient.py:1616: ConvergenceWarning: Maximum number of iteration reached before convergence. Consider increasing max_iter to improve the fit.\n",
      "  warnings.warn(\n",
      "C:\\Users\\maxd2\\AppData\\Local\\Packages\\PythonSoftwareFoundation.Python.3.11_qbz5n2kfra8p0\\LocalCache\\local-packages\\Python311\\site-packages\\sklearn\\linear_model\\_stochastic_gradient.py:1616: ConvergenceWarning: Maximum number of iteration reached before convergence. Consider increasing max_iter to improve the fit.\n",
      "  warnings.warn(\n"
     ]
    },
    {
     "name": "stdout",
     "output_type": "stream",
     "text": [
      "[CV] END alpha=0.01, eta0=1, learning_rate=optimal, penalty=elasticnet; total time=  14.4s\n",
      "[CV] END alpha=0.01, eta0=1, learning_rate=optimal, penalty=None; total time=   8.9s\n",
      "[CV] END alpha=0.01, eta0=1, learning_rate=invscaling, penalty=l1; total time=   1.7s\n",
      "[CV] END alpha=0.01, eta0=1, learning_rate=optimal, penalty=elasticnet; total time=  14.8s\n"
     ]
    },
    {
     "name": "stderr",
     "output_type": "stream",
     "text": [
      "C:\\Users\\maxd2\\AppData\\Local\\Packages\\PythonSoftwareFoundation.Python.3.11_qbz5n2kfra8p0\\LocalCache\\local-packages\\Python311\\site-packages\\sklearn\\linear_model\\_stochastic_gradient.py:1616: ConvergenceWarning: Maximum number of iteration reached before convergence. Consider increasing max_iter to improve the fit.\n",
      "  warnings.warn(\n"
     ]
    },
    {
     "name": "stdout",
     "output_type": "stream",
     "text": [
      "[CV] END alpha=0.01, eta0=1, learning_rate=optimal, penalty=None; total time=   8.5s\n",
      "[CV] END alpha=0.01, eta0=1, learning_rate=invscaling, penalty=None; total time=   0.6s\n",
      "[CV] END alpha=0.01, eta0=1, learning_rate=invscaling, penalty=elasticnet; total time=   2.2s\n",
      "[CV] END alpha=0.01, eta0=1, learning_rate=invscaling, penalty=elasticnet; total time=   1.8s\n",
      "[CV] END alpha=0.01, eta0=1, learning_rate=invscaling, penalty=elasticnet; total time=   1.9s\n",
      "[CV] END alpha=0.01, eta0=1, learning_rate=invscaling, penalty=None; total time=   1.4s[CV] END alpha=0.01, eta0=1, learning_rate=invscaling, penalty=None; total time=   1.1s\n",
      "\n",
      "[CV] END alpha=0.01, eta0=1, learning_rate=invscaling, penalty=None; total time=   0.8s\n",
      "[CV] END alpha=0.01, eta0=1, learning_rate=invscaling, penalty=None; total time=   1.4s\n"
     ]
    },
    {
     "name": "stderr",
     "output_type": "stream",
     "text": [
      "C:\\Users\\maxd2\\AppData\\Local\\Packages\\PythonSoftwareFoundation.Python.3.11_qbz5n2kfra8p0\\LocalCache\\local-packages\\Python311\\site-packages\\sklearn\\linear_model\\_stochastic_gradient.py:1616: ConvergenceWarning: Maximum number of iteration reached before convergence. Consider increasing max_iter to improve the fit.\n",
      "  warnings.warn(\n",
      "C:\\Users\\maxd2\\AppData\\Local\\Packages\\PythonSoftwareFoundation.Python.3.11_qbz5n2kfra8p0\\LocalCache\\local-packages\\Python311\\site-packages\\sklearn\\linear_model\\_stochastic_gradient.py:1616: ConvergenceWarning: Maximum number of iteration reached before convergence. Consider increasing max_iter to improve the fit.\n",
      "  warnings.warn(\n",
      "C:\\Users\\maxd2\\AppData\\Local\\Packages\\PythonSoftwareFoundation.Python.3.11_qbz5n2kfra8p0\\LocalCache\\local-packages\\Python311\\site-packages\\sklearn\\linear_model\\_stochastic_gradient.py:1616: ConvergenceWarning: Maximum number of iteration reached before convergence. Consider increasing max_iter to improve the fit.\n",
      "  warnings.warn(\n"
     ]
    },
    {
     "name": "stdout",
     "output_type": "stream",
     "text": [
      "[CV] END alpha=0.01, eta0=1, learning_rate=invscaling, penalty=elasticnet; total time=   2.4s\n",
      "[CV] END alpha=0.01, eta0=0.001, learning_rate=optimal, penalty=None; total time= 1.5min\n",
      "[CV] END alpha=0.01, eta0=1, learning_rate=adaptive, penalty=l2; total time=   1.3s\n",
      "[CV] END alpha=0.01, eta0=1, learning_rate=adaptive, penalty=l2; total time=   0.8s\n",
      "[CV] END alpha=0.01, eta0=1, learning_rate=optimal, penalty=elasticnet; total time=  16.0s\n",
      "[CV] END alpha=0.01, eta0=1, learning_rate=adaptive, penalty=l2; total time=   1.1s\n",
      "[CV] END alpha=0.01, eta0=1, learning_rate=optimal, penalty=None; total time=  12.3s\n",
      "[CV] END alpha=0.01, eta0=1, learning_rate=invscaling, penalty=elasticnet; total time=   2.2s\n",
      "[CV] END alpha=0.01, eta0=1, learning_rate=adaptive, penalty=l2; total time=   0.8s\n",
      "[CV] END alpha=0.01, eta0=1, learning_rate=adaptive, penalty=l2; total time=   1.1s\n",
      "[CV] END alpha=0.01, eta0=1, learning_rate=adaptive, penalty=l1; total time=   1.8s\n",
      "[CV] END alpha=0.01, eta0=1, learning_rate=adaptive, penalty=None; total time=   1.1s\n",
      "[CV] END alpha=0.01, eta0=1, learning_rate=adaptive, penalty=l1; total time=   2.3s\n",
      "[CV] END alpha=0.01, eta0=1, learning_rate=adaptive, penalty=None; total time=   1.3s\n",
      "[CV] END alpha=0.1, eta0=0.001, learning_rate=constant, penalty=l2; total time=   0.0s\n",
      "[CV] END alpha=0.01, eta0=1, learning_rate=adaptive, penalty=elasticnet; total time=   2.0s\n",
      "[CV] END alpha=0.01, eta0=1, learning_rate=adaptive, penalty=elasticnet; total time=   2.1s\n",
      "[CV] END alpha=0.1, eta0=0.001, learning_rate=constant, penalty=l2; total time=   0.0s[CV] END alpha=0.1, eta0=0.001, learning_rate=constant, penalty=l2; total time=   0.1s\n",
      "\n",
      "[CV] END alpha=0.01, eta0=1, learning_rate=adaptive, penalty=elasticnet; total time=   2.1s\n",
      "[CV] END alpha=0.01, eta0=1, learning_rate=adaptive, penalty=elasticnet; total time=   2.3s\n",
      "[CV] END alpha=0.1, eta0=0.001, learning_rate=constant, penalty=l2; total time=   0.2s\n",
      "[CV] END alpha=0.01, eta0=1, learning_rate=adaptive, penalty=None; total time=   1.1s\n",
      "[CV] END alpha=0.1, eta0=0.001, learning_rate=constant, penalty=l1; total time=   0.2s\n",
      "[CV] END alpha=0.1, eta0=0.001, learning_rate=constant, penalty=l2; total time=   0.2s\n",
      "[CV] END alpha=0.1, eta0=0.001, learning_rate=constant, penalty=l1; total time=   0.2s\n",
      "[CV] END alpha=0.01, eta0=1, learning_rate=adaptive, penalty=l1; total time=   2.6s\n",
      "[CV] END alpha=0.01, eta0=1, learning_rate=adaptive, penalty=elasticnet; total time=   2.6s\n",
      "[CV] END alpha=0.1, eta0=0.001, learning_rate=constant, penalty=l1; total time=   0.2s\n",
      "[CV] END alpha=0.01, eta0=1, learning_rate=adaptive, penalty=l1; total time=   2.7s\n",
      "[CV] END alpha=0.1, eta0=0.001, learning_rate=constant, penalty=l1; total time=   0.2s\n",
      "[CV] END alpha=0.01, eta0=1, learning_rate=adaptive, penalty=None; total time=   1.3s\n",
      "[CV] END alpha=0.1, eta0=0.001, learning_rate=constant, penalty=elasticnet; total time=   0.2s\n",
      "[CV] END alpha=0.01, eta0=1, learning_rate=adaptive, penalty=None; total time=   1.0s\n",
      "[CV] END alpha=0.1, eta0=0.001, learning_rate=constant, penalty=None; total time=   0.0s\n",
      "[CV] END alpha=0.1, eta0=0.001, learning_rate=constant, penalty=None; total time=   0.0s\n",
      "[CV] END alpha=0.1, eta0=0.001, learning_rate=constant, penalty=None; total time=   0.1s\n",
      "[CV] END alpha=0.1, eta0=0.001, learning_rate=constant, penalty=None; total time=   0.1s[CV] END alpha=0.1, eta0=0.001, learning_rate=constant, penalty=l1; total time=   0.3s\n",
      "[CV] END alpha=0.1, eta0=0.001, learning_rate=constant, penalty=None; total time=   0.0s\n",
      "[CV] END alpha=0.1, eta0=0.001, learning_rate=constant, penalty=elasticnet; total time=   0.2s\n",
      "\n",
      "[CV] END alpha=0.1, eta0=0.001, learning_rate=constant, penalty=elasticnet; total time=   0.3s\n",
      "[CV] END alpha=0.1, eta0=0.001, learning_rate=constant, penalty=elasticnet; total time=   0.3s\n",
      "[CV] END alpha=0.1, eta0=0.001, learning_rate=constant, penalty=elasticnet; total time=   0.5s\n"
     ]
    },
    {
     "name": "stderr",
     "output_type": "stream",
     "text": [
      "C:\\Users\\maxd2\\AppData\\Local\\Packages\\PythonSoftwareFoundation.Python.3.11_qbz5n2kfra8p0\\LocalCache\\local-packages\\Python311\\site-packages\\sklearn\\linear_model\\_stochastic_gradient.py:1616: ConvergenceWarning: Maximum number of iteration reached before convergence. Consider increasing max_iter to improve the fit.\n",
      "  warnings.warn(\n"
     ]
    },
    {
     "name": "stdout",
     "output_type": "stream",
     "text": [
      "[CV] END alpha=0.01, eta0=1, learning_rate=optimal, penalty=elasticnet; total time=  21.9s\n"
     ]
    },
    {
     "name": "stderr",
     "output_type": "stream",
     "text": [
      "C:\\Users\\maxd2\\AppData\\Local\\Packages\\PythonSoftwareFoundation.Python.3.11_qbz5n2kfra8p0\\LocalCache\\local-packages\\Python311\\site-packages\\sklearn\\linear_model\\_stochastic_gradient.py:1616: ConvergenceWarning: Maximum number of iteration reached before convergence. Consider increasing max_iter to improve the fit.\n",
      "  warnings.warn(\n"
     ]
    },
    {
     "name": "stdout",
     "output_type": "stream",
     "text": [
      "[CV] END alpha=0.01, eta0=0.01, learning_rate=optimal, penalty=l1; total time= 1.5min\n"
     ]
    },
    {
     "name": "stderr",
     "output_type": "stream",
     "text": [
      "C:\\Users\\maxd2\\AppData\\Local\\Packages\\PythonSoftwareFoundation.Python.3.11_qbz5n2kfra8p0\\LocalCache\\local-packages\\Python311\\site-packages\\sklearn\\linear_model\\_stochastic_gradient.py:1616: ConvergenceWarning: Maximum number of iteration reached before convergence. Consider increasing max_iter to improve the fit.\n",
      "  warnings.warn(\n",
      "C:\\Users\\maxd2\\AppData\\Local\\Packages\\PythonSoftwareFoundation.Python.3.11_qbz5n2kfra8p0\\LocalCache\\local-packages\\Python311\\site-packages\\sklearn\\linear_model\\_stochastic_gradient.py:1616: ConvergenceWarning: Maximum number of iteration reached before convergence. Consider increasing max_iter to improve the fit.\n",
      "  warnings.warn(\n"
     ]
    },
    {
     "name": "stdout",
     "output_type": "stream",
     "text": [
      "[CV] END alpha=0.1, eta0=0.001, learning_rate=optimal, penalty=l2; total time=  11.8s\n",
      "[CV] END alpha=0.1, eta0=0.001, learning_rate=optimal, penalty=l2; total time=  12.0s\n"
     ]
    },
    {
     "name": "stderr",
     "output_type": "stream",
     "text": [
      "C:\\Users\\maxd2\\AppData\\Local\\Packages\\PythonSoftwareFoundation.Python.3.11_qbz5n2kfra8p0\\LocalCache\\local-packages\\Python311\\site-packages\\sklearn\\linear_model\\_stochastic_gradient.py:1616: ConvergenceWarning: Maximum number of iteration reached before convergence. Consider increasing max_iter to improve the fit.\n",
      "  warnings.warn(\n"
     ]
    },
    {
     "name": "stdout",
     "output_type": "stream",
     "text": [
      "[CV] END alpha=0.1, eta0=0.001, learning_rate=optimal, penalty=l2; total time=  12.9s\n"
     ]
    },
    {
     "name": "stderr",
     "output_type": "stream",
     "text": [
      "C:\\Users\\maxd2\\AppData\\Local\\Packages\\PythonSoftwareFoundation.Python.3.11_qbz5n2kfra8p0\\LocalCache\\local-packages\\Python311\\site-packages\\sklearn\\linear_model\\_stochastic_gradient.py:1616: ConvergenceWarning: Maximum number of iteration reached before convergence. Consider increasing max_iter to improve the fit.\n",
      "  warnings.warn(\n"
     ]
    },
    {
     "name": "stdout",
     "output_type": "stream",
     "text": [
      "[CV] END alpha=0.1, eta0=0.001, learning_rate=optimal, penalty=l2; total time=  13.5s\n"
     ]
    },
    {
     "name": "stderr",
     "output_type": "stream",
     "text": [
      "C:\\Users\\maxd2\\AppData\\Local\\Packages\\PythonSoftwareFoundation.Python.3.11_qbz5n2kfra8p0\\LocalCache\\local-packages\\Python311\\site-packages\\sklearn\\linear_model\\_stochastic_gradient.py:1616: ConvergenceWarning: Maximum number of iteration reached before convergence. Consider increasing max_iter to improve the fit.\n",
      "  warnings.warn(\n"
     ]
    },
    {
     "name": "stdout",
     "output_type": "stream",
     "text": [
      "[CV] END alpha=0.1, eta0=0.001, learning_rate=optimal, penalty=l2; total time=  13.9s\n",
      "[CV] END alpha=0.01, eta0=1, learning_rate=adaptive, penalty=l1; total time=  18.7s\n"
     ]
    },
    {
     "name": "stderr",
     "output_type": "stream",
     "text": [
      "C:\\Users\\maxd2\\AppData\\Local\\Packages\\PythonSoftwareFoundation.Python.3.11_qbz5n2kfra8p0\\LocalCache\\local-packages\\Python311\\site-packages\\sklearn\\linear_model\\_stochastic_gradient.py:1616: ConvergenceWarning: Maximum number of iteration reached before convergence. Consider increasing max_iter to improve the fit.\n",
      "  warnings.warn(\n",
      "C:\\Users\\maxd2\\AppData\\Local\\Packages\\PythonSoftwareFoundation.Python.3.11_qbz5n2kfra8p0\\LocalCache\\local-packages\\Python311\\site-packages\\sklearn\\linear_model\\_stochastic_gradient.py:1616: ConvergenceWarning: Maximum number of iteration reached before convergence. Consider increasing max_iter to improve the fit.\n",
      "  warnings.warn(\n"
     ]
    },
    {
     "name": "stdout",
     "output_type": "stream",
     "text": [
      "[CV] END alpha=0.1, eta0=0.001, learning_rate=optimal, penalty=l1; total time=  18.7s\n",
      "[CV] END alpha=0.1, eta0=0.001, learning_rate=optimal, penalty=l1; total time=  18.7s\n",
      "[CV] END alpha=0.1, eta0=0.001, learning_rate=invscaling, penalty=l2; total time=   0.3s\n",
      "[CV] END alpha=0.1, eta0=0.001, learning_rate=invscaling, penalty=l2; total time=   0.2s\n",
      "[CV] END alpha=0.1, eta0=0.001, learning_rate=invscaling, penalty=l2; total time=   0.3s\n",
      "[CV] END alpha=0.1, eta0=0.001, learning_rate=optimal, penalty=l1; total time=  19.9s\n"
     ]
    },
    {
     "name": "stderr",
     "output_type": "stream",
     "text": [
      "C:\\Users\\maxd2\\AppData\\Local\\Packages\\PythonSoftwareFoundation.Python.3.11_qbz5n2kfra8p0\\LocalCache\\local-packages\\Python311\\site-packages\\sklearn\\linear_model\\_stochastic_gradient.py:1616: ConvergenceWarning: Maximum number of iteration reached before convergence. Consider increasing max_iter to improve the fit.\n",
      "  warnings.warn(\n",
      "C:\\Users\\maxd2\\AppData\\Local\\Packages\\PythonSoftwareFoundation.Python.3.11_qbz5n2kfra8p0\\LocalCache\\local-packages\\Python311\\site-packages\\sklearn\\linear_model\\_stochastic_gradient.py:1616: ConvergenceWarning: Maximum number of iteration reached before convergence. Consider increasing max_iter to improve the fit.\n",
      "  warnings.warn(\n"
     ]
    },
    {
     "name": "stdout",
     "output_type": "stream",
     "text": [
      "[CV] END alpha=0.1, eta0=0.001, learning_rate=optimal, penalty=l1; total time=  20.0s\n",
      "[CV] END alpha=0.1, eta0=0.001, learning_rate=invscaling, penalty=l2; total time=   0.3s\n",
      "[CV] END alpha=0.1, eta0=0.001, learning_rate=invscaling, penalty=l2; total time=   0.3s\n",
      "[CV] END alpha=0.1, eta0=0.001, learning_rate=invscaling, penalty=l1; total time=   0.4s\n",
      "[CV] END alpha=0.1, eta0=0.001, learning_rate=invscaling, penalty=l1; total time=   0.5s\n",
      "[CV] END alpha=0.1, eta0=0.001, learning_rate=optimal, penalty=elasticnet; total time=  20.4s\n",
      "[CV] END alpha=0.1, eta0=0.001, learning_rate=invscaling, penalty=l1; total time=   0.4s\n"
     ]
    },
    {
     "name": "stderr",
     "output_type": "stream",
     "text": [
      "C:\\Users\\maxd2\\AppData\\Local\\Packages\\PythonSoftwareFoundation.Python.3.11_qbz5n2kfra8p0\\LocalCache\\local-packages\\Python311\\site-packages\\sklearn\\linear_model\\_stochastic_gradient.py:1616: ConvergenceWarning: Maximum number of iteration reached before convergence. Consider increasing max_iter to improve the fit.\n",
      "  warnings.warn(\n",
      "C:\\Users\\maxd2\\AppData\\Local\\Packages\\PythonSoftwareFoundation.Python.3.11_qbz5n2kfra8p0\\LocalCache\\local-packages\\Python311\\site-packages\\sklearn\\linear_model\\_stochastic_gradient.py:1616: ConvergenceWarning: Maximum number of iteration reached before convergence. Consider increasing max_iter to improve the fit.\n",
      "  warnings.warn(\n",
      "C:\\Users\\maxd2\\AppData\\Local\\Packages\\PythonSoftwareFoundation.Python.3.11_qbz5n2kfra8p0\\LocalCache\\local-packages\\Python311\\site-packages\\sklearn\\linear_model\\_stochastic_gradient.py:1616: ConvergenceWarning: Maximum number of iteration reached before convergence. Consider increasing max_iter to improve the fit.\n",
      "  warnings.warn(\n"
     ]
    },
    {
     "name": "stdout",
     "output_type": "stream",
     "text": [
      "[CV] END alpha=0.1, eta0=0.001, learning_rate=optimal, penalty=elasticnet; total time=  20.1s\n",
      "[CV] END alpha=0.1, eta0=0.001, learning_rate=optimal, penalty=l1; total time=  20.8s\n",
      "[CV] END alpha=0.1, eta0=0.001, learning_rate=invscaling, penalty=elasticnet; total time=   0.4s\n",
      "[CV] END alpha=0.1, eta0=0.001, learning_rate=invscaling, penalty=l1; total time=   0.5s\n",
      "[CV] END alpha=0.1, eta0=0.001, learning_rate=invscaling, penalty=l1; total time=   0.6s\n",
      "[CV] END alpha=0.1, eta0=0.001, learning_rate=invscaling, penalty=elasticnet; total time=   0.5s\n",
      "[CV] END alpha=0.1, eta0=0.001, learning_rate=invscaling, penalty=elasticnet; total time=   0.5s\n",
      "[CV] END alpha=0.1, eta0=0.001, learning_rate=invscaling, penalty=elasticnet; total time=   0.6s\n",
      "[CV] END alpha=0.1, eta0=0.001, learning_rate=invscaling, penalty=None; total time=   0.2s\n",
      "[CV] END alpha=0.1, eta0=0.001, learning_rate=invscaling, penalty=None; total time=   0.4s\n",
      "[CV] END alpha=0.1, eta0=0.001, learning_rate=invscaling, penalty=elasticnet; total time=   0.6s\n",
      "[CV] END alpha=0.1, eta0=0.001, learning_rate=invscaling, penalty=None; total time=   0.5s\n",
      "[CV] END alpha=0.1, eta0=0.001, learning_rate=invscaling, penalty=None; total time=   0.5s\n",
      "[CV] END alpha=0.1, eta0=0.001, learning_rate=invscaling, penalty=None; total time=   0.6s\n",
      "[CV] END alpha=0.1, eta0=0.001, learning_rate=adaptive, penalty=l2; total time=   0.5s\n",
      "[CV] END alpha=0.1, eta0=0.001, learning_rate=adaptive, penalty=l2; total time=   0.5s\n",
      "[CV] END alpha=0.1, eta0=0.001, learning_rate=adaptive, penalty=l2; total time=   0.6s\n",
      "[CV] END alpha=0.1, eta0=0.001, learning_rate=adaptive, penalty=l2; total time=   0.6s\n",
      "[CV] END alpha=0.1, eta0=0.001, learning_rate=adaptive, penalty=l2; total time=   0.6s\n",
      "[CV] END alpha=0.1, eta0=0.001, learning_rate=adaptive, penalty=l1; total time=   0.8s\n",
      "[CV] END alpha=0.1, eta0=0.001, learning_rate=adaptive, penalty=l1; total time=   1.1s\n",
      "[CV] END alpha=0.1, eta0=0.001, learning_rate=adaptive, penalty=l1; total time=   1.0s\n",
      "[CV] END alpha=0.1, eta0=0.001, learning_rate=adaptive, penalty=elasticnet; total time=   0.9s\n",
      "[CV] END alpha=0.1, eta0=0.001, learning_rate=adaptive, penalty=l1; total time=   1.1s\n",
      "[CV] END alpha=0.1, eta0=0.001, learning_rate=adaptive, penalty=l1; total time=   1.4s\n",
      "[CV] END alpha=0.1, eta0=0.001, learning_rate=adaptive, penalty=elasticnet; total time=   0.9s\n",
      "[CV] END alpha=0.1, eta0=0.001, learning_rate=adaptive, penalty=elasticnet; total time=   0.9s\n",
      "[CV] END alpha=0.1, eta0=0.001, learning_rate=adaptive, penalty=None; total time=   0.6s\n",
      "[CV] END alpha=0.1, eta0=0.001, learning_rate=adaptive, penalty=elasticnet; total time=   1.2s\n",
      "[CV] END alpha=0.1, eta0=0.001, learning_rate=adaptive, penalty=None; total time=   0.4s\n",
      "[CV] END alpha=0.1, eta0=0.001, learning_rate=optimal, penalty=None; total time=  11.8s\n",
      "[CV] END alpha=0.1, eta0=0.01, learning_rate=constant, penalty=l2; total time=   0.0s\n",
      "[CV] END alpha=0.1, eta0=0.01, learning_rate=constant, penalty=l2; total time=   0.0s\n",
      "[CV] END alpha=0.1, eta0=0.001, learning_rate=adaptive, penalty=None; total time=   0.6s\n",
      "[CV] END alpha=0.1, eta0=0.01, learning_rate=constant, penalty=l2; total time=   0.0s\n"
     ]
    },
    {
     "name": "stderr",
     "output_type": "stream",
     "text": [
      "C:\\Users\\maxd2\\AppData\\Local\\Packages\\PythonSoftwareFoundation.Python.3.11_qbz5n2kfra8p0\\LocalCache\\local-packages\\Python311\\site-packages\\sklearn\\linear_model\\_stochastic_gradient.py:1616: ConvergenceWarning: Maximum number of iteration reached before convergence. Consider increasing max_iter to improve the fit.\n",
      "  warnings.warn(\n"
     ]
    },
    {
     "name": "stdout",
     "output_type": "stream",
     "text": [
      "[CV] END alpha=0.1, eta0=0.01, learning_rate=constant, penalty=l2; total time=   0.0s\n",
      "[CV] END alpha=0.1, eta0=0.01, learning_rate=constant, penalty=l2; total time=   0.3s\n",
      "[CV] END alpha=0.1, eta0=0.001, learning_rate=adaptive, penalty=None; total time=   0.6s\n",
      "[CV] END alpha=0.1, eta0=0.001, learning_rate=adaptive, penalty=elasticnet; total time=   1.2s\n",
      "[CV] END alpha=0.1, eta0=0.01, learning_rate=constant, penalty=l1; total time=   0.2s\n",
      "[CV] END alpha=0.1, eta0=0.01, learning_rate=constant, penalty=l1; total time=   0.1s\n",
      "[CV] END alpha=0.1, eta0=0.001, learning_rate=adaptive, penalty=None; total time=   0.7s\n",
      "[CV] END alpha=0.1, eta0=0.01, learning_rate=constant, penalty=l1; total time=   0.2s\n",
      "[CV] END alpha=0.1, eta0=0.01, learning_rate=constant, penalty=l1; total time=   0.3s\n",
      "[CV] END alpha=0.1, eta0=0.001, learning_rate=optimal, penalty=None; total time=  11.5s\n",
      "[CV] END alpha=0.1, eta0=0.01, learning_rate=constant, penalty=None; total time=   0.0s\n"
     ]
    },
    {
     "name": "stderr",
     "output_type": "stream",
     "text": [
      "C:\\Users\\maxd2\\AppData\\Local\\Packages\\PythonSoftwareFoundation.Python.3.11_qbz5n2kfra8p0\\LocalCache\\local-packages\\Python311\\site-packages\\sklearn\\linear_model\\_stochastic_gradient.py:1616: ConvergenceWarning: Maximum number of iteration reached before convergence. Consider increasing max_iter to improve the fit.\n",
      "  warnings.warn(\n",
      "C:\\Users\\maxd2\\AppData\\Local\\Packages\\PythonSoftwareFoundation.Python.3.11_qbz5n2kfra8p0\\LocalCache\\local-packages\\Python311\\site-packages\\sklearn\\linear_model\\_stochastic_gradient.py:1616: ConvergenceWarning: Maximum number of iteration reached before convergence. Consider increasing max_iter to improve the fit.\n",
      "  warnings.warn(\n"
     ]
    },
    {
     "name": "stdout",
     "output_type": "stream",
     "text": [
      "[CV] END alpha=0.1, eta0=0.001, learning_rate=optimal, penalty=None; total time=  12.0s\n",
      "[CV] END alpha=0.1, eta0=0.01, learning_rate=constant, penalty=elasticnet; total time=   0.3s\n",
      "[CV] END alpha=0.1, eta0=0.01, learning_rate=constant, penalty=l1; total time=   0.3s\n",
      "[CV] END alpha=0.1, eta0=0.01, learning_rate=constant, penalty=elasticnet; total time=   0.3s\n",
      "[CV] END alpha=0.1, eta0=0.01, learning_rate=constant, penalty=None; total time=   0.0s\n",
      "[CV] END alpha=0.1, eta0=0.01, learning_rate=constant, penalty=None; total time=   0.0s\n",
      "[CV] END alpha=0.1, eta0=0.01, learning_rate=constant, penalty=elasticnet; total time=   0.2s\n",
      "[CV] END alpha=0.1, eta0=0.01, learning_rate=constant, penalty=None; total time=   0.0s\n",
      "[CV] END alpha=0.1, eta0=0.01, learning_rate=constant, penalty=None; total time=   0.0s\n",
      "[CV] END alpha=0.1, eta0=0.01, learning_rate=constant, penalty=elasticnet; total time=   0.3s\n",
      "[CV] END alpha=0.1, eta0=0.01, learning_rate=constant, penalty=elasticnet; total time=   0.4s\n"
     ]
    },
    {
     "name": "stderr",
     "output_type": "stream",
     "text": [
      "C:\\Users\\maxd2\\AppData\\Local\\Packages\\PythonSoftwareFoundation.Python.3.11_qbz5n2kfra8p0\\LocalCache\\local-packages\\Python311\\site-packages\\sklearn\\linear_model\\_stochastic_gradient.py:1616: ConvergenceWarning: Maximum number of iteration reached before convergence. Consider increasing max_iter to improve the fit.\n",
      "  warnings.warn(\n"
     ]
    },
    {
     "name": "stdout",
     "output_type": "stream",
     "text": [
      "[CV] END alpha=0.1, eta0=0.001, learning_rate=optimal, penalty=None; total time=  11.0s\n"
     ]
    },
    {
     "name": "stderr",
     "output_type": "stream",
     "text": [
      "C:\\Users\\maxd2\\AppData\\Local\\Packages\\PythonSoftwareFoundation.Python.3.11_qbz5n2kfra8p0\\LocalCache\\local-packages\\Python311\\site-packages\\sklearn\\linear_model\\_stochastic_gradient.py:1616: ConvergenceWarning: Maximum number of iteration reached before convergence. Consider increasing max_iter to improve the fit.\n",
      "  warnings.warn(\n"
     ]
    },
    {
     "name": "stdout",
     "output_type": "stream",
     "text": [
      "[CV] END alpha=0.1, eta0=0.001, learning_rate=optimal, penalty=elasticnet; total time=  18.5s\n"
     ]
    },
    {
     "name": "stderr",
     "output_type": "stream",
     "text": [
      "C:\\Users\\maxd2\\AppData\\Local\\Packages\\PythonSoftwareFoundation.Python.3.11_qbz5n2kfra8p0\\LocalCache\\local-packages\\Python311\\site-packages\\sklearn\\linear_model\\_stochastic_gradient.py:1616: ConvergenceWarning: Maximum number of iteration reached before convergence. Consider increasing max_iter to improve the fit.\n",
      "  warnings.warn(\n"
     ]
    },
    {
     "name": "stdout",
     "output_type": "stream",
     "text": [
      "[CV] END alpha=0.1, eta0=0.001, learning_rate=optimal, penalty=elasticnet; total time=  19.0s\n"
     ]
    },
    {
     "name": "stderr",
     "output_type": "stream",
     "text": [
      "C:\\Users\\maxd2\\AppData\\Local\\Packages\\PythonSoftwareFoundation.Python.3.11_qbz5n2kfra8p0\\LocalCache\\local-packages\\Python311\\site-packages\\sklearn\\linear_model\\_stochastic_gradient.py:1616: ConvergenceWarning: Maximum number of iteration reached before convergence. Consider increasing max_iter to improve the fit.\n",
      "  warnings.warn(\n",
      "C:\\Users\\maxd2\\AppData\\Local\\Packages\\PythonSoftwareFoundation.Python.3.11_qbz5n2kfra8p0\\LocalCache\\local-packages\\Python311\\site-packages\\sklearn\\linear_model\\_stochastic_gradient.py:1616: ConvergenceWarning: Maximum number of iteration reached before convergence. Consider increasing max_iter to improve the fit.\n",
      "  warnings.warn(\n"
     ]
    },
    {
     "name": "stdout",
     "output_type": "stream",
     "text": [
      "[CV] END alpha=0.1, eta0=0.01, learning_rate=optimal, penalty=l2; total time=  10.8s\n",
      "[CV] END alpha=0.1, eta0=0.01, learning_rate=optimal, penalty=l2; total time=  10.9s\n"
     ]
    },
    {
     "name": "stderr",
     "output_type": "stream",
     "text": [
      "C:\\Users\\maxd2\\AppData\\Local\\Packages\\PythonSoftwareFoundation.Python.3.11_qbz5n2kfra8p0\\LocalCache\\local-packages\\Python311\\site-packages\\sklearn\\linear_model\\_stochastic_gradient.py:1616: ConvergenceWarning: Maximum number of iteration reached before convergence. Consider increasing max_iter to improve the fit.\n",
      "  warnings.warn(\n"
     ]
    },
    {
     "name": "stdout",
     "output_type": "stream",
     "text": [
      "[CV] END alpha=0.1, eta0=0.01, learning_rate=optimal, penalty=l2; total time=  11.3s\n"
     ]
    },
    {
     "name": "stderr",
     "output_type": "stream",
     "text": [
      "C:\\Users\\maxd2\\AppData\\Local\\Packages\\PythonSoftwareFoundation.Python.3.11_qbz5n2kfra8p0\\LocalCache\\local-packages\\Python311\\site-packages\\sklearn\\linear_model\\_stochastic_gradient.py:1616: ConvergenceWarning: Maximum number of iteration reached before convergence. Consider increasing max_iter to improve the fit.\n",
      "  warnings.warn(\n"
     ]
    },
    {
     "name": "stdout",
     "output_type": "stream",
     "text": [
      "[CV] END alpha=0.1, eta0=0.01, learning_rate=optimal, penalty=l2; total time=  11.6s\n"
     ]
    },
    {
     "name": "stderr",
     "output_type": "stream",
     "text": [
      "C:\\Users\\maxd2\\AppData\\Local\\Packages\\PythonSoftwareFoundation.Python.3.11_qbz5n2kfra8p0\\LocalCache\\local-packages\\Python311\\site-packages\\sklearn\\linear_model\\_stochastic_gradient.py:1616: ConvergenceWarning: Maximum number of iteration reached before convergence. Consider increasing max_iter to improve the fit.\n",
      "  warnings.warn(\n"
     ]
    },
    {
     "name": "stdout",
     "output_type": "stream",
     "text": [
      "[CV] END alpha=0.1, eta0=0.01, learning_rate=optimal, penalty=l2; total time=  12.1s\n"
     ]
    },
    {
     "name": "stderr",
     "output_type": "stream",
     "text": [
      "C:\\Users\\maxd2\\AppData\\Local\\Packages\\PythonSoftwareFoundation.Python.3.11_qbz5n2kfra8p0\\LocalCache\\local-packages\\Python311\\site-packages\\sklearn\\linear_model\\_stochastic_gradient.py:1616: ConvergenceWarning: Maximum number of iteration reached before convergence. Consider increasing max_iter to improve the fit.\n",
      "  warnings.warn(\n"
     ]
    },
    {
     "name": "stdout",
     "output_type": "stream",
     "text": [
      "[CV] END alpha=0.1, eta0=0.01, learning_rate=optimal, penalty=l1; total time=  17.5s\n"
     ]
    },
    {
     "name": "stderr",
     "output_type": "stream",
     "text": [
      "C:\\Users\\maxd2\\AppData\\Local\\Packages\\PythonSoftwareFoundation.Python.3.11_qbz5n2kfra8p0\\LocalCache\\local-packages\\Python311\\site-packages\\sklearn\\linear_model\\_stochastic_gradient.py:1616: ConvergenceWarning: Maximum number of iteration reached before convergence. Consider increasing max_iter to improve the fit.\n",
      "  warnings.warn(\n",
      "C:\\Users\\maxd2\\AppData\\Local\\Packages\\PythonSoftwareFoundation.Python.3.11_qbz5n2kfra8p0\\LocalCache\\local-packages\\Python311\\site-packages\\sklearn\\linear_model\\_stochastic_gradient.py:1616: ConvergenceWarning: Maximum number of iteration reached before convergence. Consider increasing max_iter to improve the fit.\n",
      "  warnings.warn(\n"
     ]
    },
    {
     "name": "stdout",
     "output_type": "stream",
     "text": [
      "[CV] END alpha=0.01, eta0=0.001, learning_rate=optimal, penalty=elasticnet; total time= 2.5min\n",
      "[CV] END alpha=0.01, eta0=0.001, learning_rate=optimal, penalty=elasticnet; total time= 2.4min\n"
     ]
    },
    {
     "name": "stderr",
     "output_type": "stream",
     "text": [
      "C:\\Users\\maxd2\\AppData\\Local\\Packages\\PythonSoftwareFoundation.Python.3.11_qbz5n2kfra8p0\\LocalCache\\local-packages\\Python311\\site-packages\\sklearn\\linear_model\\_stochastic_gradient.py:1616: ConvergenceWarning: Maximum number of iteration reached before convergence. Consider increasing max_iter to improve the fit.\n",
      "  warnings.warn(\n"
     ]
    },
    {
     "name": "stdout",
     "output_type": "stream",
     "text": [
      "[CV] END alpha=0.1, eta0=0.01, learning_rate=optimal, penalty=l1; total time=  19.9s\n",
      "[CV] END alpha=0.1, eta0=0.01, learning_rate=invscaling, penalty=l2; total time=   0.2s\n",
      "[CV] END alpha=0.1, eta0=0.01, learning_rate=invscaling, penalty=l2; total time=   0.1s\n",
      "[CV] END alpha=0.1, eta0=0.01, learning_rate=invscaling, penalty=l2; total time=   0.2s\n",
      "[CV] END alpha=0.1, eta0=0.01, learning_rate=optimal, penalty=l1; total time=  20.8s\n",
      "[CV] END alpha=0.1, eta0=0.01, learning_rate=optimal, penalty=l1; total time=  20.7s\n"
     ]
    },
    {
     "name": "stderr",
     "output_type": "stream",
     "text": [
      "C:\\Users\\maxd2\\AppData\\Local\\Packages\\PythonSoftwareFoundation.Python.3.11_qbz5n2kfra8p0\\LocalCache\\local-packages\\Python311\\site-packages\\sklearn\\linear_model\\_stochastic_gradient.py:1616: ConvergenceWarning: Maximum number of iteration reached before convergence. Consider increasing max_iter to improve the fit.\n",
      "  warnings.warn(\n",
      "C:\\Users\\maxd2\\AppData\\Local\\Packages\\PythonSoftwareFoundation.Python.3.11_qbz5n2kfra8p0\\LocalCache\\local-packages\\Python311\\site-packages\\sklearn\\linear_model\\_stochastic_gradient.py:1616: ConvergenceWarning: Maximum number of iteration reached before convergence. Consider increasing max_iter to improve the fit.\n",
      "  warnings.warn(\n"
     ]
    },
    {
     "name": "stdout",
     "output_type": "stream",
     "text": [
      "[CV] END alpha=0.1, eta0=0.01, learning_rate=invscaling, penalty=l2; total time=   0.2s\n",
      "[CV] END alpha=0.1, eta0=0.01, learning_rate=invscaling, penalty=l2; total time=   0.2s\n",
      "[CV] END alpha=0.1, eta0=0.01, learning_rate=invscaling, penalty=l1; total time=   0.4s\n",
      "[CV] END alpha=0.1, eta0=0.01, learning_rate=invscaling, penalty=l1; total time=   0.4s\n"
     ]
    },
    {
     "name": "stderr",
     "output_type": "stream",
     "text": [
      "C:\\Users\\maxd2\\AppData\\Local\\Packages\\PythonSoftwareFoundation.Python.3.11_qbz5n2kfra8p0\\LocalCache\\local-packages\\Python311\\site-packages\\sklearn\\linear_model\\_stochastic_gradient.py:1616: ConvergenceWarning: Maximum number of iteration reached before convergence. Consider increasing max_iter to improve the fit.\n",
      "  warnings.warn(\n"
     ]
    },
    {
     "name": "stdout",
     "output_type": "stream",
     "text": [
      "[CV] END alpha=0.1, eta0=0.01, learning_rate=invscaling, penalty=l1; total time=   0.1s[CV] END alpha=0.1, eta0=0.01, learning_rate=optimal, penalty=None; total time=  10.0s\n",
      "\n",
      "[CV] END alpha=0.1, eta0=0.01, learning_rate=invscaling, penalty=l1; total time=   0.5s\n"
     ]
    },
    {
     "name": "stderr",
     "output_type": "stream",
     "text": [
      "C:\\Users\\maxd2\\AppData\\Local\\Packages\\PythonSoftwareFoundation.Python.3.11_qbz5n2kfra8p0\\LocalCache\\local-packages\\Python311\\site-packages\\sklearn\\linear_model\\_stochastic_gradient.py:1616: ConvergenceWarning: Maximum number of iteration reached before convergence. Consider increasing max_iter to improve the fit.\n",
      "  warnings.warn(\n"
     ]
    },
    {
     "name": "stdout",
     "output_type": "stream",
     "text": [
      "[CV] END alpha=0.1, eta0=0.01, learning_rate=optimal, penalty=l1; total time=  17.7s\n",
      "[CV] END alpha=0.1, eta0=0.01, learning_rate=invscaling, penalty=elasticnet; total time=   0.2s\n",
      "[CV] END alpha=0.1, eta0=0.01, learning_rate=invscaling, penalty=elasticnet; total time=   0.3s\n",
      "[CV] END alpha=0.1, eta0=0.01, learning_rate=invscaling, penalty=l1; total time=   0.5s\n",
      "[CV] END alpha=0.1, eta0=0.01, learning_rate=optimal, penalty=elasticnet; total time=  17.4s\n",
      "[CV] END alpha=0.1, eta0=0.01, learning_rate=invscaling, penalty=elasticnet; total time=   0.5s\n",
      "[CV] END alpha=0.1, eta0=0.01, learning_rate=invscaling, penalty=None; total time=   0.1s\n"
     ]
    },
    {
     "name": "stderr",
     "output_type": "stream",
     "text": [
      "C:\\Users\\maxd2\\AppData\\Local\\Packages\\PythonSoftwareFoundation.Python.3.11_qbz5n2kfra8p0\\LocalCache\\local-packages\\Python311\\site-packages\\sklearn\\linear_model\\_stochastic_gradient.py:1616: ConvergenceWarning: Maximum number of iteration reached before convergence. Consider increasing max_iter to improve the fit.\n",
      "  warnings.warn(\n"
     ]
    },
    {
     "name": "stdout",
     "output_type": "stream",
     "text": [
      "[CV] END alpha=0.1, eta0=0.01, learning_rate=invscaling, penalty=elasticnet; total time=   0.3s\n",
      "[CV] END alpha=0.1, eta0=0.01, learning_rate=invscaling, penalty=None; total time=   0.2s\n",
      "[CV] END alpha=0.1, eta0=0.01, learning_rate=invscaling, penalty=None; total time=   0.3s\n",
      "[CV] END alpha=0.1, eta0=0.01, learning_rate=invscaling, penalty=None; total time=   0.2s\n",
      "[CV] END alpha=0.1, eta0=0.01, learning_rate=invscaling, penalty=None; total time=   0.3s\n",
      "[CV] END alpha=0.1, eta0=0.01, learning_rate=invscaling, penalty=elasticnet; total time=   0.6s\n",
      "[CV] END alpha=0.1, eta0=0.01, learning_rate=adaptive, penalty=l2; total time=   0.5s\n",
      "[CV] END alpha=0.1, eta0=0.01, learning_rate=adaptive, penalty=l2; total time=   0.6s\n",
      "[CV] END alpha=0.1, eta0=0.01, learning_rate=adaptive, penalty=l2; total time=   0.6s\n",
      "[CV] END alpha=0.1, eta0=0.01, learning_rate=adaptive, penalty=l2; total time=   0.7s\n",
      "[CV] END alpha=0.1, eta0=0.01, learning_rate=optimal, penalty=elasticnet; total time=  18.0s\n",
      "[CV] END alpha=0.1, eta0=0.01, learning_rate=adaptive, penalty=l2; total time=   0.6s\n"
     ]
    },
    {
     "name": "stderr",
     "output_type": "stream",
     "text": [
      "C:\\Users\\maxd2\\AppData\\Local\\Packages\\PythonSoftwareFoundation.Python.3.11_qbz5n2kfra8p0\\LocalCache\\local-packages\\Python311\\site-packages\\sklearn\\linear_model\\_stochastic_gradient.py:1616: ConvergenceWarning: Maximum number of iteration reached before convergence. Consider increasing max_iter to improve the fit.\n",
      "  warnings.warn(\n"
     ]
    },
    {
     "name": "stdout",
     "output_type": "stream",
     "text": [
      "[CV] END alpha=0.1, eta0=0.01, learning_rate=adaptive, penalty=l1; total time=   1.1s\n",
      "[CV] END alpha=0.1, eta0=0.01, learning_rate=optimal, penalty=None; total time=  12.1s\n",
      "[CV] END alpha=0.1, eta0=0.01, learning_rate=adaptive, penalty=l1; total time=   1.5s\n"
     ]
    },
    {
     "name": "stderr",
     "output_type": "stream",
     "text": [
      "C:\\Users\\maxd2\\AppData\\Local\\Packages\\PythonSoftwareFoundation.Python.3.11_qbz5n2kfra8p0\\LocalCache\\local-packages\\Python311\\site-packages\\sklearn\\linear_model\\_stochastic_gradient.py:1616: ConvergenceWarning: Maximum number of iteration reached before convergence. Consider increasing max_iter to improve the fit.\n",
      "  warnings.warn(\n"
     ]
    },
    {
     "name": "stdout",
     "output_type": "stream",
     "text": [
      "[CV] END alpha=0.1, eta0=0.01, learning_rate=adaptive, penalty=l1; total time=   1.3s\n",
      "[CV] END alpha=0.1, eta0=0.01, learning_rate=adaptive, penalty=elasticnet; total time=   1.0s\n",
      "[CV] END alpha=0.1, eta0=0.01, learning_rate=adaptive, penalty=l1; total time=   1.4s\n",
      "[CV] END alpha=0.1, eta0=0.01, learning_rate=adaptive, penalty=elasticnet; total time=   1.4s\n",
      "[CV] END alpha=0.1, eta0=0.01, learning_rate=adaptive, penalty=None; total time=   0.5s\n",
      "[CV] END alpha=0.1, eta0=0.01, learning_rate=adaptive, penalty=None; total time=   0.5s\n",
      "[CV] END alpha=0.1, eta0=0.1, learning_rate=constant, penalty=l2; total time=   0.0s\n",
      "[CV] END alpha=0.1, eta0=0.01, learning_rate=adaptive, penalty=l1; total time=   1.8s\n",
      "[CV] END alpha=0.1, eta0=0.1, learning_rate=constant, penalty=l2; total time=   0.0s\n",
      "[CV] END alpha=0.1, eta0=0.1, learning_rate=constant, penalty=l2; total time=   0.0s\n",
      "[CV] END alpha=0.1, eta0=0.1, learning_rate=constant, penalty=l2; total time=   0.0s\n",
      "[CV] END alpha=0.1, eta0=0.1, learning_rate=constant, penalty=l2; total time=   0.0s\n",
      "[CV] END alpha=0.1, eta0=0.01, learning_rate=adaptive, penalty=elasticnet; total time=   1.2s\n",
      "[CV] END alpha=0.1, eta0=0.1, learning_rate=constant, penalty=l1; total time=   0.1s\n",
      "[CV] END alpha=0.1, eta0=0.1, learning_rate=constant, penalty=l1; total time=   0.1s\n",
      "[CV] END alpha=0.1, eta0=0.01, learning_rate=adaptive, penalty=None; total time=   0.9s\n",
      "[CV] END alpha=0.1, eta0=0.01, learning_rate=adaptive, penalty=None; total time=   0.6s\n",
      "[CV] END alpha=0.1, eta0=0.1, learning_rate=constant, penalty=l1; total time=   0.1s\n",
      "[CV] END alpha=0.1, eta0=0.1, learning_rate=constant, penalty=l1; total time=   0.1s\n",
      "[CV] END alpha=0.1, eta0=0.01, learning_rate=adaptive, penalty=None; total time=   0.6s\n",
      "[CV] END alpha=0.1, eta0=0.1, learning_rate=constant, penalty=elasticnet; total time=   0.1s\n",
      "[CV] END alpha=0.1, eta0=0.1, learning_rate=constant, penalty=elasticnet; total time=   0.1s\n",
      "[CV] END alpha=0.1, eta0=0.1, learning_rate=constant, penalty=l1; total time=   0.2s\n",
      "[CV] END alpha=0.1, eta0=0.1, learning_rate=constant, penalty=elasticnet; total time=   0.1s\n",
      "[CV] END alpha=0.1, eta0=0.1, learning_rate=constant, penalty=elasticnet; total time=   0.1s\n",
      "[CV] END alpha=0.1, eta0=0.1, learning_rate=constant, penalty=elasticnet; total time=   0.2s\n",
      "[CV] END alpha=0.1, eta0=0.01, learning_rate=adaptive, penalty=elasticnet; total time=   1.5s\n",
      "[CV] END alpha=0.1, eta0=0.1, learning_rate=constant, penalty=None; total time=   0.0s\n",
      "[CV] END alpha=0.1, eta0=0.1, learning_rate=constant, penalty=None; total time=   0.0s\n",
      "[CV] END alpha=0.1, eta0=0.1, learning_rate=constant, penalty=None; total time=   0.0s\n",
      "[CV] END alpha=0.1, eta0=0.1, learning_rate=constant, penalty=None; total time=   0.1s\n",
      "[CV] END alpha=0.1, eta0=0.1, learning_rate=constant, penalty=None; total time=   0.0s\n",
      "[CV] END alpha=0.1, eta0=0.01, learning_rate=adaptive, penalty=elasticnet; total time=   1.7s\n"
     ]
    },
    {
     "name": "stderr",
     "output_type": "stream",
     "text": [
      "C:\\Users\\maxd2\\AppData\\Local\\Packages\\PythonSoftwareFoundation.Python.3.11_qbz5n2kfra8p0\\LocalCache\\local-packages\\Python311\\site-packages\\sklearn\\linear_model\\_stochastic_gradient.py:1616: ConvergenceWarning: Maximum number of iteration reached before convergence. Consider increasing max_iter to improve the fit.\n",
      "  warnings.warn(\n"
     ]
    },
    {
     "name": "stdout",
     "output_type": "stream",
     "text": [
      "[CV] END alpha=0.1, eta0=0.01, learning_rate=optimal, penalty=None; total time=   9.7s\n"
     ]
    },
    {
     "name": "stderr",
     "output_type": "stream",
     "text": [
      "C:\\Users\\maxd2\\AppData\\Local\\Packages\\PythonSoftwareFoundation.Python.3.11_qbz5n2kfra8p0\\LocalCache\\local-packages\\Python311\\site-packages\\sklearn\\linear_model\\_stochastic_gradient.py:1616: ConvergenceWarning: Maximum number of iteration reached before convergence. Consider increasing max_iter to improve the fit.\n",
      "  warnings.warn(\n"
     ]
    },
    {
     "name": "stdout",
     "output_type": "stream",
     "text": [
      "[CV] END alpha=0.1, eta0=0.01, learning_rate=optimal, penalty=elasticnet; total time=  17.2s\n"
     ]
    },
    {
     "name": "stderr",
     "output_type": "stream",
     "text": [
      "C:\\Users\\maxd2\\AppData\\Local\\Packages\\PythonSoftwareFoundation.Python.3.11_qbz5n2kfra8p0\\LocalCache\\local-packages\\Python311\\site-packages\\sklearn\\linear_model\\_stochastic_gradient.py:1616: ConvergenceWarning: Maximum number of iteration reached before convergence. Consider increasing max_iter to improve the fit.\n",
      "  warnings.warn(\n",
      "C:\\Users\\maxd2\\AppData\\Local\\Packages\\PythonSoftwareFoundation.Python.3.11_qbz5n2kfra8p0\\LocalCache\\local-packages\\Python311\\site-packages\\sklearn\\linear_model\\_stochastic_gradient.py:1616: ConvergenceWarning: Maximum number of iteration reached before convergence. Consider increasing max_iter to improve the fit.\n",
      "  warnings.warn(\n"
     ]
    },
    {
     "name": "stdout",
     "output_type": "stream",
     "text": [
      "[CV] END alpha=0.1, eta0=0.01, learning_rate=optimal, penalty=elasticnet; total time=  17.3s\n",
      "[CV] END alpha=0.1, eta0=0.01, learning_rate=optimal, penalty=elasticnet; total time=  17.8s\n"
     ]
    },
    {
     "name": "stderr",
     "output_type": "stream",
     "text": [
      "C:\\Users\\maxd2\\AppData\\Local\\Packages\\PythonSoftwareFoundation.Python.3.11_qbz5n2kfra8p0\\LocalCache\\local-packages\\Python311\\site-packages\\sklearn\\linear_model\\_stochastic_gradient.py:1616: ConvergenceWarning: Maximum number of iteration reached before convergence. Consider increasing max_iter to improve the fit.\n",
      "  warnings.warn(\n",
      "C:\\Users\\maxd2\\AppData\\Local\\Packages\\PythonSoftwareFoundation.Python.3.11_qbz5n2kfra8p0\\LocalCache\\local-packages\\Python311\\site-packages\\sklearn\\linear_model\\_stochastic_gradient.py:1616: ConvergenceWarning: Maximum number of iteration reached before convergence. Consider increasing max_iter to improve the fit.\n",
      "  warnings.warn(\n"
     ]
    },
    {
     "name": "stdout",
     "output_type": "stream",
     "text": [
      "[CV] END alpha=0.1, eta0=0.1, learning_rate=optimal, penalty=l2; total time=   7.3s\n",
      "[CV] END alpha=0.1, eta0=0.1, learning_rate=optimal, penalty=l2; total time=   7.4s\n"
     ]
    },
    {
     "name": "stderr",
     "output_type": "stream",
     "text": [
      "C:\\Users\\maxd2\\AppData\\Local\\Packages\\PythonSoftwareFoundation.Python.3.11_qbz5n2kfra8p0\\LocalCache\\local-packages\\Python311\\site-packages\\sklearn\\linear_model\\_stochastic_gradient.py:1616: ConvergenceWarning: Maximum number of iteration reached before convergence. Consider increasing max_iter to improve the fit.\n",
      "  warnings.warn(\n"
     ]
    },
    {
     "name": "stdout",
     "output_type": "stream",
     "text": [
      "[CV] END alpha=0.1, eta0=0.1, learning_rate=optimal, penalty=l2; total time=   9.8s\n"
     ]
    },
    {
     "name": "stderr",
     "output_type": "stream",
     "text": [
      "C:\\Users\\maxd2\\AppData\\Local\\Packages\\PythonSoftwareFoundation.Python.3.11_qbz5n2kfra8p0\\LocalCache\\local-packages\\Python311\\site-packages\\sklearn\\linear_model\\_stochastic_gradient.py:1616: ConvergenceWarning: Maximum number of iteration reached before convergence. Consider increasing max_iter to improve the fit.\n",
      "  warnings.warn(\n",
      "C:\\Users\\maxd2\\AppData\\Local\\Packages\\PythonSoftwareFoundation.Python.3.11_qbz5n2kfra8p0\\LocalCache\\local-packages\\Python311\\site-packages\\sklearn\\linear_model\\_stochastic_gradient.py:1616: ConvergenceWarning: Maximum number of iteration reached before convergence. Consider increasing max_iter to improve the fit.\n",
      "  warnings.warn(\n"
     ]
    },
    {
     "name": "stdout",
     "output_type": "stream",
     "text": [
      "[CV] END alpha=0.1, eta0=0.1, learning_rate=optimal, penalty=l1; total time=  12.0s\n",
      "[CV] END alpha=0.1, eta0=0.1, learning_rate=optimal, penalty=l2; total time=  12.1s\n"
     ]
    },
    {
     "name": "stderr",
     "output_type": "stream",
     "text": [
      "C:\\Users\\maxd2\\AppData\\Local\\Packages\\PythonSoftwareFoundation.Python.3.11_qbz5n2kfra8p0\\LocalCache\\local-packages\\Python311\\site-packages\\sklearn\\linear_model\\_stochastic_gradient.py:1616: ConvergenceWarning: Maximum number of iteration reached before convergence. Consider increasing max_iter to improve the fit.\n",
      "  warnings.warn(\n"
     ]
    },
    {
     "name": "stdout",
     "output_type": "stream",
     "text": [
      "[CV] END alpha=0.1, eta0=0.1, learning_rate=optimal, penalty=l2; total time=  12.5s\n"
     ]
    },
    {
     "name": "stderr",
     "output_type": "stream",
     "text": [
      "C:\\Users\\maxd2\\AppData\\Local\\Packages\\PythonSoftwareFoundation.Python.3.11_qbz5n2kfra8p0\\LocalCache\\local-packages\\Python311\\site-packages\\sklearn\\linear_model\\_stochastic_gradient.py:1616: ConvergenceWarning: Maximum number of iteration reached before convergence. Consider increasing max_iter to improve the fit.\n",
      "  warnings.warn(\n"
     ]
    },
    {
     "name": "stdout",
     "output_type": "stream",
     "text": [
      "[CV] END alpha=0.1, eta0=0.1, learning_rate=optimal, penalty=elasticnet; total time=  12.3s\n"
     ]
    },
    {
     "name": "stderr",
     "output_type": "stream",
     "text": [
      "C:\\Users\\maxd2\\AppData\\Local\\Packages\\PythonSoftwareFoundation.Python.3.11_qbz5n2kfra8p0\\LocalCache\\local-packages\\Python311\\site-packages\\sklearn\\linear_model\\_stochastic_gradient.py:1616: ConvergenceWarning: Maximum number of iteration reached before convergence. Consider increasing max_iter to improve the fit.\n",
      "  warnings.warn(\n"
     ]
    },
    {
     "name": "stdout",
     "output_type": "stream",
     "text": [
      "[CV] END alpha=0.1, eta0=0.1, learning_rate=optimal, penalty=l1; total time=  16.2s\n"
     ]
    },
    {
     "name": "stderr",
     "output_type": "stream",
     "text": [
      "C:\\Users\\maxd2\\AppData\\Local\\Packages\\PythonSoftwareFoundation.Python.3.11_qbz5n2kfra8p0\\LocalCache\\local-packages\\Python311\\site-packages\\sklearn\\linear_model\\_stochastic_gradient.py:1616: ConvergenceWarning: Maximum number of iteration reached before convergence. Consider increasing max_iter to improve the fit.\n",
      "  warnings.warn(\n"
     ]
    },
    {
     "name": "stdout",
     "output_type": "stream",
     "text": [
      "[CV] END alpha=0.1, eta0=0.1, learning_rate=optimal, penalty=l1; total time=  16.6s\n"
     ]
    },
    {
     "name": "stderr",
     "output_type": "stream",
     "text": [
      "C:\\Users\\maxd2\\AppData\\Local\\Packages\\PythonSoftwareFoundation.Python.3.11_qbz5n2kfra8p0\\LocalCache\\local-packages\\Python311\\site-packages\\sklearn\\linear_model\\_stochastic_gradient.py:1616: ConvergenceWarning: Maximum number of iteration reached before convergence. Consider increasing max_iter to improve the fit.\n",
      "  warnings.warn(\n",
      "C:\\Users\\maxd2\\AppData\\Local\\Packages\\PythonSoftwareFoundation.Python.3.11_qbz5n2kfra8p0\\LocalCache\\local-packages\\Python311\\site-packages\\sklearn\\linear_model\\_stochastic_gradient.py:1616: ConvergenceWarning: Maximum number of iteration reached before convergence. Consider increasing max_iter to improve the fit.\n",
      "  warnings.warn(\n",
      "C:\\Users\\maxd2\\AppData\\Local\\Packages\\PythonSoftwareFoundation.Python.3.11_qbz5n2kfra8p0\\LocalCache\\local-packages\\Python311\\site-packages\\sklearn\\linear_model\\_stochastic_gradient.py:1616: ConvergenceWarning: Maximum number of iteration reached before convergence. Consider increasing max_iter to improve the fit.\n",
      "  warnings.warn(\n"
     ]
    },
    {
     "name": "stdout",
     "output_type": "stream",
     "text": [
      "[CV] END alpha=0.1, eta0=0.1, learning_rate=optimal, penalty=elasticnet; total time=  11.5s\n",
      "[CV] END alpha=0.1, eta0=0.1, learning_rate=optimal, penalty=elasticnet; total time=  16.2s\n",
      "[CV] END alpha=0.1, eta0=0.1, learning_rate=invscaling, penalty=l2; total time=   0.3s\n",
      "[CV] END alpha=0.1, eta0=0.1, learning_rate=optimal, penalty=elasticnet; total time=  11.5s\n",
      "[CV] END alpha=0.1, eta0=0.1, learning_rate=invscaling, penalty=l2; total time=   0.1s\n",
      "[CV] END alpha=0.1, eta0=0.1, learning_rate=optimal, penalty=None; total time=   7.0s\n",
      "[CV] END alpha=0.1, eta0=0.1, learning_rate=invscaling, penalty=l2; total time=   0.0s\n",
      "[CV] END alpha=0.1, eta0=0.1, learning_rate=invscaling, penalty=l2; total time=   0.2s\n"
     ]
    },
    {
     "name": "stderr",
     "output_type": "stream",
     "text": [
      "C:\\Users\\maxd2\\AppData\\Local\\Packages\\PythonSoftwareFoundation.Python.3.11_qbz5n2kfra8p0\\LocalCache\\local-packages\\Python311\\site-packages\\sklearn\\linear_model\\_stochastic_gradient.py:1616: ConvergenceWarning: Maximum number of iteration reached before convergence. Consider increasing max_iter to improve the fit.\n",
      "  warnings.warn(\n"
     ]
    },
    {
     "name": "stdout",
     "output_type": "stream",
     "text": [
      "[CV] END alpha=0.1, eta0=0.1, learning_rate=invscaling, penalty=l2; total time=   0.3s\n",
      "[CV] END alpha=0.1, eta0=0.1, learning_rate=invscaling, penalty=l1; total time=   0.2s\n",
      "[CV] END alpha=0.1, eta0=0.1, learning_rate=invscaling, penalty=l1; total time=   0.2s\n",
      "[CV] END alpha=0.1, eta0=0.1, learning_rate=invscaling, penalty=l1; total time=   0.2s\n",
      "[CV] END alpha=0.1, eta0=0.1, learning_rate=invscaling, penalty=elasticnet; total time=   0.1s\n",
      "[CV] END alpha=0.1, eta0=0.1, learning_rate=invscaling, penalty=elasticnet; total time=   0.1s\n",
      "[CV] END alpha=0.1, eta0=0.1, learning_rate=invscaling, penalty=l1; total time=   0.3s\n",
      "[CV] END alpha=0.1, eta0=0.1, learning_rate=invscaling, penalty=elasticnet; total time=   0.3s\n",
      "[CV] END alpha=0.1, eta0=0.1, learning_rate=invscaling, penalty=elasticnet; total time=   0.1s\n",
      "[CV] END alpha=0.1, eta0=0.1, learning_rate=invscaling, penalty=None; total time=   0.0s\n",
      "[CV] END alpha=0.1, eta0=0.1, learning_rate=invscaling, penalty=elasticnet; total time=   0.2s\n",
      "[CV] END alpha=0.1, eta0=0.1, learning_rate=invscaling, penalty=None; total time=   0.2s\n",
      "[CV] END alpha=0.1, eta0=0.1, learning_rate=invscaling, penalty=l1; total time=   0.6s\n",
      "[CV] END alpha=0.1, eta0=0.1, learning_rate=invscaling, penalty=None; total time=   0.1s[CV] END alpha=0.1, eta0=0.1, learning_rate=invscaling, penalty=None; total time=   0.2s\n",
      "\n",
      "[CV] END alpha=0.1, eta0=0.1, learning_rate=invscaling, penalty=None; total time=   0.1s\n",
      "[CV] END alpha=0.1, eta0=0.1, learning_rate=adaptive, penalty=l2; total time=   0.7s\n",
      "[CV] END alpha=0.1, eta0=0.1, learning_rate=adaptive, penalty=l2; total time=   0.7s\n",
      "[CV] END alpha=0.1, eta0=0.1, learning_rate=optimal, penalty=l1; total time=  20.8s\n",
      "[CV] END alpha=0.1, eta0=0.1, learning_rate=adaptive, penalty=l2; total time=   0.7s\n"
     ]
    },
    {
     "name": "stderr",
     "output_type": "stream",
     "text": [
      "C:\\Users\\maxd2\\AppData\\Local\\Packages\\PythonSoftwareFoundation.Python.3.11_qbz5n2kfra8p0\\LocalCache\\local-packages\\Python311\\site-packages\\sklearn\\linear_model\\_stochastic_gradient.py:1616: ConvergenceWarning: Maximum number of iteration reached before convergence. Consider increasing max_iter to improve the fit.\n",
      "  warnings.warn(\n"
     ]
    },
    {
     "name": "stdout",
     "output_type": "stream",
     "text": [
      "[CV] END alpha=0.1, eta0=0.1, learning_rate=adaptive, penalty=l2; total time=   0.9s\n",
      "[CV] END alpha=0.1, eta0=0.1, learning_rate=adaptive, penalty=l2; total time=   1.1s\n"
     ]
    },
    {
     "name": "stderr",
     "output_type": "stream",
     "text": [
      "C:\\Users\\maxd2\\AppData\\Local\\Packages\\PythonSoftwareFoundation.Python.3.11_qbz5n2kfra8p0\\LocalCache\\local-packages\\Python311\\site-packages\\sklearn\\linear_model\\_stochastic_gradient.py:1616: ConvergenceWarning: Maximum number of iteration reached before convergence. Consider increasing max_iter to improve the fit.\n",
      "  warnings.warn(\n"
     ]
    },
    {
     "name": "stdout",
     "output_type": "stream",
     "text": [
      "[CV] END alpha=0.1, eta0=0.1, learning_rate=optimal, penalty=l1; total time=  21.5s\n",
      "[CV] END alpha=0.1, eta0=0.1, learning_rate=adaptive, penalty=l1; total time=   1.6s\n",
      "[CV] END alpha=0.1, eta0=0.1, learning_rate=adaptive, penalty=l1; total time=   1.7s\n",
      "[CV] END alpha=0.1, eta0=0.1, learning_rate=adaptive, penalty=l1; total time=   2.0s\n",
      "[CV] END alpha=0.1, eta0=0.1, learning_rate=optimal, penalty=None; total time=   8.1s\n"
     ]
    },
    {
     "name": "stderr",
     "output_type": "stream",
     "text": [
      "C:\\Users\\maxd2\\AppData\\Local\\Packages\\PythonSoftwareFoundation.Python.3.11_qbz5n2kfra8p0\\LocalCache\\local-packages\\Python311\\site-packages\\sklearn\\linear_model\\_stochastic_gradient.py:1616: ConvergenceWarning: Maximum number of iteration reached before convergence. Consider increasing max_iter to improve the fit.\n",
      "  warnings.warn(\n"
     ]
    },
    {
     "name": "stdout",
     "output_type": "stream",
     "text": [
      "[CV] END alpha=0.1, eta0=0.1, learning_rate=adaptive, penalty=elasticnet; total time=   1.9s\n",
      "[CV] END alpha=0.1, eta0=0.1, learning_rate=adaptive, penalty=l1; total time=   2.6s\n",
      "[CV] END alpha=0.1, eta0=0.1, learning_rate=adaptive, penalty=l1; total time=   2.6s\n",
      "[CV] END alpha=0.1, eta0=0.1, learning_rate=adaptive, penalty=elasticnet; total time=   2.0s\n",
      "[CV] END alpha=0.1, eta0=0.1, learning_rate=adaptive, penalty=elasticnet; total time=   1.3s\n",
      "[CV] END alpha=0.1, eta0=1, learning_rate=constant, penalty=l2; total time=   0.0s\n",
      "[CV] END alpha=0.1, eta0=1, learning_rate=constant, penalty=l2; total time=   0.0s\n",
      "[CV] END alpha=0.1, eta0=0.1, learning_rate=adaptive, penalty=elasticnet; total time=   1.4s\n",
      "[CV] END alpha=0.1, eta0=1, learning_rate=constant, penalty=l2; total time=   0.0s\n",
      "[CV] END alpha=0.1, eta0=1, learning_rate=constant, penalty=l2; total time=   0.0s\n",
      "[CV] END alpha=0.1, eta0=1, learning_rate=constant, penalty=l2; total time=   0.0s\n",
      "[CV] END alpha=0.1, eta0=0.1, learning_rate=adaptive, penalty=None; total time=   1.2s\n",
      "[CV] END alpha=0.1, eta0=0.1, learning_rate=adaptive, penalty=None; total time=   1.0s\n",
      "[CV] END alpha=0.1, eta0=1, learning_rate=constant, penalty=l1; total time=   0.1s\n",
      "[CV] END alpha=0.1, eta0=1, learning_rate=constant, penalty=l1; total time=   0.0s\n",
      "[CV] END alpha=0.1, eta0=1, learning_rate=constant, penalty=l1; total time=   0.0s\n",
      "[CV] END alpha=0.1, eta0=1, learning_rate=constant, penalty=l1; total time=   0.0s\n",
      "[CV] END alpha=0.1, eta0=1, learning_rate=constant, penalty=l1; total time=   0.1s\n",
      "[CV] END alpha=0.1, eta0=0.1, learning_rate=optimal, penalty=None; total time=  12.4s\n",
      "[CV] END alpha=0.1, eta0=1, learning_rate=constant, penalty=elasticnet; total time=   0.1s\n"
     ]
    },
    {
     "name": "stderr",
     "output_type": "stream",
     "text": [
      "C:\\Users\\maxd2\\AppData\\Local\\Packages\\PythonSoftwareFoundation.Python.3.11_qbz5n2kfra8p0\\LocalCache\\local-packages\\Python311\\site-packages\\sklearn\\linear_model\\_stochastic_gradient.py:1616: ConvergenceWarning: Maximum number of iteration reached before convergence. Consider increasing max_iter to improve the fit.\n",
      "  warnings.warn(\n"
     ]
    },
    {
     "name": "stdout",
     "output_type": "stream",
     "text": [
      "[CV] END alpha=0.1, eta0=0.1, learning_rate=adaptive, penalty=None; total time=   1.2s\n",
      "[CV] END alpha=0.1, eta0=1, learning_rate=constant, penalty=elasticnet; total time=   0.1s\n",
      "[CV] END alpha=0.1, eta0=1, learning_rate=constant, penalty=None; total time=   0.0s\n",
      "[CV] END alpha=0.1, eta0=1, learning_rate=constant, penalty=elasticnet; total time=   0.2s\n",
      "[CV] END alpha=0.1, eta0=1, learning_rate=constant, penalty=elasticnet; total time=   0.4s\n",
      "[CV] END alpha=0.1, eta0=1, learning_rate=constant, penalty=None; total time=   0.0s\n",
      "[CV] END alpha=0.1, eta0=1, learning_rate=constant, penalty=None; total time=   0.0s\n",
      "[CV] END alpha=0.1, eta0=1, learning_rate=constant, penalty=None; total time=   0.0s\n",
      "[CV] END alpha=0.1, eta0=0.1, learning_rate=adaptive, penalty=elasticnet; total time=   1.8s\n",
      "[CV] END alpha=0.1, eta0=1, learning_rate=constant, penalty=None; total time=   0.1s\n",
      "[CV] END alpha=0.1, eta0=0.1, learning_rate=adaptive, penalty=None; total time=   1.2s\n",
      "[CV] END alpha=0.1, eta0=0.1, learning_rate=optimal, penalty=None; total time=  12.5s\n",
      "[CV] END alpha=0.1, eta0=1, learning_rate=constant, penalty=elasticnet; total time=   0.6s\n"
     ]
    },
    {
     "name": "stderr",
     "output_type": "stream",
     "text": [
      "C:\\Users\\maxd2\\AppData\\Local\\Packages\\PythonSoftwareFoundation.Python.3.11_qbz5n2kfra8p0\\LocalCache\\local-packages\\Python311\\site-packages\\sklearn\\linear_model\\_stochastic_gradient.py:1616: ConvergenceWarning: Maximum number of iteration reached before convergence. Consider increasing max_iter to improve the fit.\n",
      "  warnings.warn(\n",
      "C:\\Users\\maxd2\\AppData\\Local\\Packages\\PythonSoftwareFoundation.Python.3.11_qbz5n2kfra8p0\\LocalCache\\local-packages\\Python311\\site-packages\\sklearn\\linear_model\\_stochastic_gradient.py:1616: ConvergenceWarning: Maximum number of iteration reached before convergence. Consider increasing max_iter to improve the fit.\n",
      "  warnings.warn(\n"
     ]
    },
    {
     "name": "stdout",
     "output_type": "stream",
     "text": [
      "[CV] END alpha=0.1, eta0=0.1, learning_rate=optimal, penalty=elasticnet; total time=  15.5s\n",
      "[CV] END alpha=0.1, eta0=0.1, learning_rate=adaptive, penalty=None; total time=   1.5s\n"
     ]
    },
    {
     "name": "stderr",
     "output_type": "stream",
     "text": [
      "C:\\Users\\maxd2\\AppData\\Local\\Packages\\PythonSoftwareFoundation.Python.3.11_qbz5n2kfra8p0\\LocalCache\\local-packages\\Python311\\site-packages\\sklearn\\linear_model\\_stochastic_gradient.py:1616: ConvergenceWarning: Maximum number of iteration reached before convergence. Consider increasing max_iter to improve the fit.\n",
      "  warnings.warn(\n"
     ]
    },
    {
     "name": "stdout",
     "output_type": "stream",
     "text": [
      "[CV] END alpha=0.1, eta0=0.1, learning_rate=optimal, penalty=None; total time=  10.6s\n"
     ]
    },
    {
     "name": "stderr",
     "output_type": "stream",
     "text": [
      "C:\\Users\\maxd2\\AppData\\Local\\Packages\\PythonSoftwareFoundation.Python.3.11_qbz5n2kfra8p0\\LocalCache\\local-packages\\Python311\\site-packages\\sklearn\\linear_model\\_stochastic_gradient.py:1616: ConvergenceWarning: Maximum number of iteration reached before convergence. Consider increasing max_iter to improve the fit.\n",
      "  warnings.warn(\n"
     ]
    },
    {
     "name": "stdout",
     "output_type": "stream",
     "text": [
      "[CV] END alpha=0.1, eta0=1, learning_rate=optimal, penalty=l2; total time=   9.9s\n"
     ]
    },
    {
     "name": "stderr",
     "output_type": "stream",
     "text": [
      "C:\\Users\\maxd2\\AppData\\Local\\Packages\\PythonSoftwareFoundation.Python.3.11_qbz5n2kfra8p0\\LocalCache\\local-packages\\Python311\\site-packages\\sklearn\\linear_model\\_stochastic_gradient.py:1616: ConvergenceWarning: Maximum number of iteration reached before convergence. Consider increasing max_iter to improve the fit.\n",
      "  warnings.warn(\n"
     ]
    },
    {
     "name": "stdout",
     "output_type": "stream",
     "text": [
      "[CV] END alpha=0.1, eta0=1, learning_rate=optimal, penalty=l2; total time=  10.1s\n"
     ]
    },
    {
     "name": "stderr",
     "output_type": "stream",
     "text": [
      "C:\\Users\\maxd2\\AppData\\Local\\Packages\\PythonSoftwareFoundation.Python.3.11_qbz5n2kfra8p0\\LocalCache\\local-packages\\Python311\\site-packages\\sklearn\\linear_model\\_stochastic_gradient.py:1616: ConvergenceWarning: Maximum number of iteration reached before convergence. Consider increasing max_iter to improve the fit.\n",
      "  warnings.warn(\n"
     ]
    },
    {
     "name": "stdout",
     "output_type": "stream",
     "text": [
      "[CV] END alpha=0.1, eta0=1, learning_rate=optimal, penalty=l2; total time=  10.3s\n"
     ]
    },
    {
     "name": "stderr",
     "output_type": "stream",
     "text": [
      "C:\\Users\\maxd2\\AppData\\Local\\Packages\\PythonSoftwareFoundation.Python.3.11_qbz5n2kfra8p0\\LocalCache\\local-packages\\Python311\\site-packages\\sklearn\\linear_model\\_stochastic_gradient.py:1616: ConvergenceWarning: Maximum number of iteration reached before convergence. Consider increasing max_iter to improve the fit.\n",
      "  warnings.warn(\n"
     ]
    },
    {
     "name": "stdout",
     "output_type": "stream",
     "text": [
      "[CV] END alpha=0.1, eta0=1, learning_rate=optimal, penalty=l2; total time=  12.0s\n"
     ]
    },
    {
     "name": "stderr",
     "output_type": "stream",
     "text": [
      "C:\\Users\\maxd2\\AppData\\Local\\Packages\\PythonSoftwareFoundation.Python.3.11_qbz5n2kfra8p0\\LocalCache\\local-packages\\Python311\\site-packages\\sklearn\\linear_model\\_stochastic_gradient.py:1616: ConvergenceWarning: Maximum number of iteration reached before convergence. Consider increasing max_iter to improve the fit.\n",
      "  warnings.warn(\n"
     ]
    },
    {
     "name": "stdout",
     "output_type": "stream",
     "text": [
      "[CV] END alpha=0.1, eta0=1, learning_rate=optimal, penalty=l2; total time=  12.2s\n"
     ]
    },
    {
     "name": "stderr",
     "output_type": "stream",
     "text": [
      "C:\\Users\\maxd2\\AppData\\Local\\Packages\\PythonSoftwareFoundation.Python.3.11_qbz5n2kfra8p0\\LocalCache\\local-packages\\Python311\\site-packages\\sklearn\\linear_model\\_stochastic_gradient.py:1616: ConvergenceWarning: Maximum number of iteration reached before convergence. Consider increasing max_iter to improve the fit.\n",
      "  warnings.warn(\n"
     ]
    },
    {
     "name": "stdout",
     "output_type": "stream",
     "text": [
      "[CV] END alpha=0.1, eta0=1, learning_rate=optimal, penalty=l1; total time=  16.0s\n"
     ]
    },
    {
     "name": "stderr",
     "output_type": "stream",
     "text": [
      "C:\\Users\\maxd2\\AppData\\Local\\Packages\\PythonSoftwareFoundation.Python.3.11_qbz5n2kfra8p0\\LocalCache\\local-packages\\Python311\\site-packages\\sklearn\\linear_model\\_stochastic_gradient.py:1616: ConvergenceWarning: Maximum number of iteration reached before convergence. Consider increasing max_iter to improve the fit.\n",
      "  warnings.warn(\n"
     ]
    },
    {
     "name": "stdout",
     "output_type": "stream",
     "text": [
      "[CV] END alpha=0.1, eta0=1, learning_rate=optimal, penalty=l1; total time=  18.3s\n"
     ]
    },
    {
     "name": "stderr",
     "output_type": "stream",
     "text": [
      "C:\\Users\\maxd2\\AppData\\Local\\Packages\\PythonSoftwareFoundation.Python.3.11_qbz5n2kfra8p0\\LocalCache\\local-packages\\Python311\\site-packages\\sklearn\\linear_model\\_stochastic_gradient.py:1616: ConvergenceWarning: Maximum number of iteration reached before convergence. Consider increasing max_iter to improve the fit.\n",
      "  warnings.warn(\n"
     ]
    },
    {
     "name": "stdout",
     "output_type": "stream",
     "text": [
      "[CV] END alpha=0.1, eta0=1, learning_rate=optimal, penalty=l1; total time=  18.6s\n"
     ]
    },
    {
     "name": "stderr",
     "output_type": "stream",
     "text": [
      "C:\\Users\\maxd2\\AppData\\Local\\Packages\\PythonSoftwareFoundation.Python.3.11_qbz5n2kfra8p0\\LocalCache\\local-packages\\Python311\\site-packages\\sklearn\\linear_model\\_stochastic_gradient.py:1616: ConvergenceWarning: Maximum number of iteration reached before convergence. Consider increasing max_iter to improve the fit.\n",
      "  warnings.warn(\n"
     ]
    },
    {
     "name": "stdout",
     "output_type": "stream",
     "text": [
      "[CV] END alpha=0.1, eta0=1, learning_rate=optimal, penalty=l1; total time=  20.6s\n"
     ]
    },
    {
     "name": "stderr",
     "output_type": "stream",
     "text": [
      "C:\\Users\\maxd2\\AppData\\Local\\Packages\\PythonSoftwareFoundation.Python.3.11_qbz5n2kfra8p0\\LocalCache\\local-packages\\Python311\\site-packages\\sklearn\\linear_model\\_stochastic_gradient.py:1616: ConvergenceWarning: Maximum number of iteration reached before convergence. Consider increasing max_iter to improve the fit.\n",
      "  warnings.warn(\n"
     ]
    },
    {
     "name": "stdout",
     "output_type": "stream",
     "text": [
      "[CV] END alpha=0.1, eta0=1, learning_rate=optimal, penalty=l1; total time=  20.8s\n"
     ]
    },
    {
     "name": "stderr",
     "output_type": "stream",
     "text": [
      "C:\\Users\\maxd2\\AppData\\Local\\Packages\\PythonSoftwareFoundation.Python.3.11_qbz5n2kfra8p0\\LocalCache\\local-packages\\Python311\\site-packages\\sklearn\\linear_model\\_stochastic_gradient.py:1616: ConvergenceWarning: Maximum number of iteration reached before convergence. Consider increasing max_iter to improve the fit.\n",
      "  warnings.warn(\n"
     ]
    },
    {
     "name": "stdout",
     "output_type": "stream",
     "text": [
      "[CV] END alpha=0.1, eta0=0.001, learning_rate=optimal, penalty=None; total time= 1.4min\n"
     ]
    },
    {
     "name": "stderr",
     "output_type": "stream",
     "text": [
      "C:\\Users\\maxd2\\AppData\\Local\\Packages\\PythonSoftwareFoundation.Python.3.11_qbz5n2kfra8p0\\LocalCache\\local-packages\\Python311\\site-packages\\sklearn\\linear_model\\_stochastic_gradient.py:1616: ConvergenceWarning: Maximum number of iteration reached before convergence. Consider increasing max_iter to improve the fit.\n",
      "  warnings.warn(\n"
     ]
    },
    {
     "name": "stdout",
     "output_type": "stream",
     "text": [
      "[CV] END alpha=0.1, eta0=1, learning_rate=optimal, penalty=elasticnet; total time=  21.3s\n",
      "[CV] END alpha=0.1, eta0=1, learning_rate=invscaling, penalty=l2; total time=   1.4s\n",
      "[CV] END alpha=0.1, eta0=1, learning_rate=invscaling, penalty=l2; total time=   1.5s\n"
     ]
    },
    {
     "name": "stderr",
     "output_type": "stream",
     "text": [
      "C:\\Users\\maxd2\\AppData\\Local\\Packages\\PythonSoftwareFoundation.Python.3.11_qbz5n2kfra8p0\\LocalCache\\local-packages\\Python311\\site-packages\\sklearn\\linear_model\\_stochastic_gradient.py:1616: ConvergenceWarning: Maximum number of iteration reached before convergence. Consider increasing max_iter to improve the fit.\n",
      "  warnings.warn(\n",
      "C:\\Users\\maxd2\\AppData\\Local\\Packages\\PythonSoftwareFoundation.Python.3.11_qbz5n2kfra8p0\\LocalCache\\local-packages\\Python311\\site-packages\\sklearn\\linear_model\\_stochastic_gradient.py:1616: ConvergenceWarning: Maximum number of iteration reached before convergence. Consider increasing max_iter to improve the fit.\n",
      "  warnings.warn(\n"
     ]
    },
    {
     "name": "stdout",
     "output_type": "stream",
     "text": [
      "[CV] END alpha=0.1, eta0=1, learning_rate=optimal, penalty=elasticnet; total time=  19.4s\n",
      "[CV] END alpha=0.1, eta0=1, learning_rate=optimal, penalty=None; total time=  11.0s\n",
      "[CV] END alpha=0.1, eta0=1, learning_rate=invscaling, penalty=l2; total time=   1.2s\n",
      "[CV] END alpha=0.1, eta0=1, learning_rate=invscaling, penalty=l2; total time=   1.4s\n"
     ]
    },
    {
     "name": "stderr",
     "output_type": "stream",
     "text": [
      "C:\\Users\\maxd2\\AppData\\Local\\Packages\\PythonSoftwareFoundation.Python.3.11_qbz5n2kfra8p0\\LocalCache\\local-packages\\Python311\\site-packages\\sklearn\\linear_model\\_stochastic_gradient.py:1616: ConvergenceWarning: Maximum number of iteration reached before convergence. Consider increasing max_iter to improve the fit.\n",
      "  warnings.warn(\n"
     ]
    },
    {
     "name": "stdout",
     "output_type": "stream",
     "text": [
      "[CV] END alpha=0.1, eta0=1, learning_rate=optimal, penalty=elasticnet; total time=  14.1s\n"
     ]
    },
    {
     "name": "stderr",
     "output_type": "stream",
     "text": [
      "C:\\Users\\maxd2\\AppData\\Local\\Packages\\PythonSoftwareFoundation.Python.3.11_qbz5n2kfra8p0\\LocalCache\\local-packages\\Python311\\site-packages\\sklearn\\linear_model\\_stochastic_gradient.py:1616: ConvergenceWarning: Maximum number of iteration reached before convergence. Consider increasing max_iter to improve the fit.\n",
      "  warnings.warn(\n"
     ]
    },
    {
     "name": "stdout",
     "output_type": "stream",
     "text": [
      "[CV] END alpha=0.1, eta0=1, learning_rate=optimal, penalty=None; total time=  12.2s\n",
      "[CV] END alpha=0.1, eta0=1, learning_rate=invscaling, penalty=l1; total time=   1.4s\n"
     ]
    },
    {
     "name": "stderr",
     "output_type": "stream",
     "text": [
      "C:\\Users\\maxd2\\AppData\\Local\\Packages\\PythonSoftwareFoundation.Python.3.11_qbz5n2kfra8p0\\LocalCache\\local-packages\\Python311\\site-packages\\sklearn\\linear_model\\_stochastic_gradient.py:1616: ConvergenceWarning: Maximum number of iteration reached before convergence. Consider increasing max_iter to improve the fit.\n",
      "  warnings.warn(\n"
     ]
    },
    {
     "name": "stdout",
     "output_type": "stream",
     "text": [
      "[CV] END alpha=0.1, eta0=1, learning_rate=optimal, penalty=elasticnet; total time=  14.3s\n"
     ]
    },
    {
     "name": "stderr",
     "output_type": "stream",
     "text": [
      "C:\\Users\\maxd2\\AppData\\Local\\Packages\\PythonSoftwareFoundation.Python.3.11_qbz5n2kfra8p0\\LocalCache\\local-packages\\Python311\\site-packages\\sklearn\\linear_model\\_stochastic_gradient.py:1616: ConvergenceWarning: Maximum number of iteration reached before convergence. Consider increasing max_iter to improve the fit.\n",
      "  warnings.warn(\n",
      "C:\\Users\\maxd2\\AppData\\Local\\Packages\\PythonSoftwareFoundation.Python.3.11_qbz5n2kfra8p0\\LocalCache\\local-packages\\Python311\\site-packages\\sklearn\\linear_model\\_stochastic_gradient.py:1616: ConvergenceWarning: Maximum number of iteration reached before convergence. Consider increasing max_iter to improve the fit.\n",
      "  warnings.warn(\n"
     ]
    },
    {
     "name": "stdout",
     "output_type": "stream",
     "text": [
      "[CV] END alpha=0.1, eta0=1, learning_rate=optimal, penalty=None; total time=   8.8s\n",
      "[CV] END alpha=0.1, eta0=1, learning_rate=optimal, penalty=elasticnet; total time=  14.9s\n",
      "[CV] END alpha=0.1, eta0=1, learning_rate=invscaling, penalty=l1; total time=   1.6s[CV] END alpha=0.1, eta0=1, learning_rate=invscaling, penalty=l1; total time=   2.7s\n",
      "\n",
      "[CV] END alpha=0.1, eta0=1, learning_rate=invscaling, penalty=l1; total time=   2.6s\n",
      "[CV] END alpha=0.1, eta0=1, learning_rate=invscaling, penalty=l1; total time=   2.5s\n",
      "[CV] END alpha=0.1, eta0=1, learning_rate=invscaling, penalty=None; total time=   0.6s\n",
      "[CV] END alpha=0.1, eta0=1, learning_rate=invscaling, penalty=elasticnet; total time=   2.1s\n",
      "[CV] END alpha=0.1, eta0=1, learning_rate=invscaling, penalty=None; total time=   0.9s\n",
      "[CV] END alpha=0.1, eta0=1, learning_rate=invscaling, penalty=elasticnet; total time=   2.0s\n",
      "[CV] END alpha=0.1, eta0=1, learning_rate=adaptive, penalty=l2; total time=   0.8s\n",
      "[CV] END alpha=0.1, eta0=1, learning_rate=invscaling, penalty=None; total time=   0.8s\n",
      "[CV] END alpha=0.1, eta0=1, learning_rate=invscaling, penalty=elasticnet; total time=   1.9s\n",
      "[CV] END alpha=0.1, eta0=1, learning_rate=invscaling, penalty=elasticnet; total time=   2.3s\n",
      "[CV] END alpha=0.1, eta0=1, learning_rate=invscaling, penalty=elasticnet; total time=   1.9s\n",
      "[CV] END alpha=0.1, eta0=1, learning_rate=adaptive, penalty=l2; total time=   0.8s\n",
      "[CV] END alpha=0.1, eta0=1, learning_rate=invscaling, penalty=None; total time=   1.7s\n",
      "[CV] END alpha=0.1, eta0=1, learning_rate=invscaling, penalty=None; total time=   1.7s\n",
      "[CV] END alpha=0.1, eta0=1, learning_rate=adaptive, penalty=l2; total time=   1.1s\n",
      "[CV] END alpha=0.1, eta0=1, learning_rate=adaptive, penalty=l2; total time=   0.8s\n",
      "[CV] END alpha=0.1, eta0=1, learning_rate=adaptive, penalty=l2; total time=   1.3s\n",
      "[CV] END alpha=0.1, eta0=1, learning_rate=adaptive, penalty=l1; total time=   1.5s\n",
      "[CV] END alpha=0.1, eta0=1, learning_rate=invscaling, penalty=l2; total time=   7.2s\n",
      "[CV] END alpha=0.1, eta0=1, learning_rate=adaptive, penalty=l1; total time=   2.0s\n",
      "[CV] END alpha=0.1, eta0=1, learning_rate=adaptive, penalty=l1; total time=   1.9s\n",
      "[CV] END alpha=0.1, eta0=1, learning_rate=adaptive, penalty=None; total time=   0.8s\n",
      "[CV] END alpha=0.1, eta0=1, learning_rate=adaptive, penalty=elasticnet; total time=   1.6s\n",
      "[CV] END alpha=0.1, eta0=1, learning_rate=adaptive, penalty=l1; total time=   2.3s[CV] END alpha=0.1, eta0=1, learning_rate=adaptive, penalty=elasticnet; total time=   2.0s\n",
      "\n",
      "[CV] END alpha=0.1, eta0=1, learning_rate=adaptive, penalty=l1; total time=   2.8s\n",
      "[CV] END alpha=0.1, eta0=1, learning_rate=adaptive, penalty=elasticnet; total time=   2.6s\n",
      "[CV] END alpha=0.1, eta0=1, learning_rate=adaptive, penalty=None; total time=   0.7s\n",
      "[CV] END alpha=0.1, eta0=1, learning_rate=optimal, penalty=None; total time=  11.4s\n",
      "[CV] END alpha=0.1, eta0=1, learning_rate=adaptive, penalty=elasticnet; total time=   2.1s\n",
      "[CV] END alpha=0.1, eta0=1, learning_rate=adaptive, penalty=None; total time=   1.1s\n",
      "[CV] END alpha=0.1, eta0=1, learning_rate=adaptive, penalty=elasticnet; total time=   2.4s\n",
      "[CV] END alpha=0.1, eta0=1, learning_rate=optimal, penalty=None; total time=  11.0s\n"
     ]
    },
    {
     "name": "stderr",
     "output_type": "stream",
     "text": [
      "C:\\Users\\maxd2\\AppData\\Local\\Packages\\PythonSoftwareFoundation.Python.3.11_qbz5n2kfra8p0\\LocalCache\\local-packages\\Python311\\site-packages\\sklearn\\linear_model\\_stochastic_gradient.py:1616: ConvergenceWarning: Maximum number of iteration reached before convergence. Consider increasing max_iter to improve the fit.\n",
      "  warnings.warn(\n",
      "C:\\Users\\maxd2\\AppData\\Local\\Packages\\PythonSoftwareFoundation.Python.3.11_qbz5n2kfra8p0\\LocalCache\\local-packages\\Python311\\site-packages\\sklearn\\linear_model\\_stochastic_gradient.py:1616: ConvergenceWarning: Maximum number of iteration reached before convergence. Consider increasing max_iter to improve the fit.\n",
      "  warnings.warn(\n"
     ]
    },
    {
     "name": "stdout",
     "output_type": "stream",
     "text": [
      "[CV] END alpha=0.1, eta0=1, learning_rate=adaptive, penalty=None; total time=   0.7s\n",
      "[CV] END alpha=0.1, eta0=1, learning_rate=adaptive, penalty=None; total time=   8.8s\n"
     ]
    },
    {
     "name": "stderr",
     "output_type": "stream",
     "text": [
      "C:\\Users\\maxd2\\AppData\\Local\\Packages\\PythonSoftwareFoundation.Python.3.11_qbz5n2kfra8p0\\LocalCache\\local-packages\\Python311\\site-packages\\sklearn\\linear_model\\_stochastic_gradient.py:1616: ConvergenceWarning: Maximum number of iteration reached before convergence. Consider increasing max_iter to improve the fit.\n",
      "  warnings.warn(\n",
      "C:\\Users\\maxd2\\AppData\\Local\\Packages\\PythonSoftwareFoundation.Python.3.11_qbz5n2kfra8p0\\LocalCache\\local-packages\\Python311\\site-packages\\sklearn\\linear_model\\_stochastic_gradient.py:1616: ConvergenceWarning: Maximum number of iteration reached before convergence. Consider increasing max_iter to improve the fit.\n",
      "  warnings.warn(\n"
     ]
    },
    {
     "name": "stdout",
     "output_type": "stream",
     "text": [
      "[CV] END alpha=0.1, eta0=0.01, learning_rate=optimal, penalty=None; total time= 1.4min\n",
      "[CV] END alpha=0.1, eta0=0.01, learning_rate=optimal, penalty=None; total time= 1.4min\n"
     ]
    },
    {
     "name": "stderr",
     "output_type": "stream",
     "text": [
      "C:\\Users\\maxd2\\AppData\\Local\\Packages\\PythonSoftwareFoundation.Python.3.11_qbz5n2kfra8p0\\LocalCache\\local-packages\\Python311\\site-packages\\sklearn\\linear_model\\_stochastic_gradient.py:1616: ConvergenceWarning: Maximum number of iteration reached before convergence. Consider increasing max_iter to improve the fit.\n",
      "  warnings.warn(\n"
     ]
    },
    {
     "name": "stdout",
     "output_type": "stream",
     "text": [
      "[CV] END alpha=0.1, eta0=0.001, learning_rate=optimal, penalty=elasticnet; total time= 2.3min\n"
     ]
    },
    {
     "name": "stderr",
     "output_type": "stream",
     "text": [
      "100%|██████████| 100/100 [00:00<?, ?it/s]\n"
     ]
    },
    {
     "name": "stdout",
     "output_type": "stream",
     "text": [
      "Best Parameters: {'alpha': 0.1, 'eta0': 1, 'learning_rate': 'adaptive', 'penalty': 'l2'}\n",
      "Best Score: -25.015243492051518\n",
      "Mean Squared Error on Test Set: 17.670064019940906\n",
      "Mean Squared Error on Validation Set: 16.571762736316018\n",
      "Fold 1/5, MSE: 17.206835784908815\n",
      "Fold 2/5, MSE: 41.700288648650236\n",
      "Fold 3/5, MSE: 56.306781828878485\n",
      "Fold 4/5, MSE: 18.011603464573618\n",
      "Fold 5/5, MSE: 16.705238127742714\n"
     ]
    }
   ],
   "source": [
    "import numpy as np\n",
    "from sklearn.linear_model import SGDRegressor\n",
    "from sklearn.model_selection import train_test_split, GridSearchCV\n",
    "from sklearn.metrics import mean_squared_error\n",
    "from tqdm import tqdm\n",
    "import matplotlib.pyplot as plt\n",
    "from joblib import parallel_backend\n",
    "\n",
    "# Ensure the features and target dataframes are correctly assigned\n",
    "features = features.drop(columns=['Datum'])\n",
    "target = target['PM10_Combined_Trend_Residual']\n",
    "\n",
    "# Split the data into train, test, and validate sets\n",
    "train_data, temp_data, train_target, temp_target = train_test_split(features, target, test_size=0.3, random_state=11)\n",
    "test_data, validate_data, test_target, validate_target = train_test_split(temp_data, temp_target, test_size=0.3333, random_state=11)\n",
    "\n",
    "# Define the parameter grid for GridSearchCV\n",
    "param_grid = {\n",
    "    'alpha': [0.0001, 0.001, 0.01, 0.1],\n",
    "    'eta0': [0.001, 0.01, 0.1, 1],\n",
    "    'learning_rate': ['constant', 'optimal', 'invscaling', 'adaptive'],\n",
    "    'penalty': ['l2', 'l1', 'elasticnet', None]\n",
    "}\n",
    "\n",
    "# Initialize the SGDRegressor\n",
    "sgd = SGDRegressor(max_iter=1000, tol=1e-3)\n",
    "\n",
    "# Initialize GridSearchCV with joblib parallel backend\n",
    "with parallel_backend('threading', n_jobs=-1):\n",
    "    grid_search = GridSearchCV(sgd, param_grid, cv=5, scoring='neg_mean_squared_error', verbose=2)\n",
    "    grid_search.fit(train_data, train_target.values.ravel())\n",
    "\n",
    "# Get the best parameters and best score\n",
    "best_params = grid_search.best_params_\n",
    "best_score = grid_search.best_score_\n",
    "\n",
    "# Plot the progress bar\n",
    "progress_bar = tqdm(total=100)\n",
    "for i in range(100):\n",
    "    progress_bar.update(1)\n",
    "progress_bar.close()\n",
    "\n",
    "# Print the best parameters and best score\n",
    "print(\"Best Parameters:\", best_params)\n",
    "print(\"Best Score:\", best_score)\n",
    "\n",
    "# Evaluate the model on the test set\n",
    "predictions = grid_search.predict(test_data)\n",
    "predictions = np.clip(predictions, 0, None)  # Ensure predictions are not lower than zero\n",
    "mse = mean_squared_error(test_target, predictions)\n",
    "print(\"Mean Squared Error on Test Set:\", mse)\n",
    "\n",
    "# Evaluate the model on the validation set\n",
    "validate_predictions = grid_search.predict(validate_data)\n",
    "validate_predictions = np.clip(validate_predictions, 0, None)  # Ensure predictions are not lower than zero\n",
    "validate_mse = mean_squared_error(validate_target, validate_predictions)\n",
    "print(\"Mean Squared Error on Validation Set:\", validate_mse)\n",
    "\n",
    "# Expanding CV Fold Sizes\n",
    "initial_train_size = int(0.5 * len(train_data))\n",
    "test_size = int(0.1 * len(train_data))\n",
    "num_folds = (len(train_data) - initial_train_size) // test_size\n",
    "\n",
    "for fold in range(num_folds):\n",
    "    start_train_size = initial_train_size + fold * test_size\n",
    "    end_train_size = start_train_size + test_size\n",
    "\n",
    "    X_train_fold = train_data.iloc[:end_train_size]\n",
    "    y_train_fold = train_target.iloc[:end_train_size]\n",
    "    X_test_fold = train_data.iloc[end_train_size:end_train_size + test_size]\n",
    "    y_test_fold = train_target.iloc[end_train_size:end_train_size + test_size]\n",
    "\n",
    "    model = SGDRegressor(**best_params, max_iter=1000, tol=1e-3)\n",
    "    model.fit(X_train_fold, y_train_fold)\n",
    "    fold_predictions = model.predict(X_test_fold)\n",
    "    fold_predictions = np.clip(fold_predictions, 0, None)  # Ensure predictions are not lower than zero\n",
    "    fold_mse = mean_squared_error(y_test_fold, fold_predictions)\n",
    "    print(f\"Fold {fold + 1}/{num_folds}, MSE: {fold_mse}\")"
   ]
  },
  {
   "cell_type": "code",
   "execution_count": null,
   "metadata": {},
   "outputs": [
    {
     "name": "stdout",
     "output_type": "stream",
     "text": [
      "Fitting 5 folds for each of 9 candidates, totalling 45 fits\n",
      "Refined Best Parameters: {'alpha': 0.01, 'eta0': 0.01, 'learning_rate': 'adaptive', 'penalty': 'l1'}\n",
      "Refined Best Score: -6.000637265561477\n",
      "Refined Mean Squared Error on Test Set: 9.281836535930998\n",
      "Refined Mean Squared Error on Validation Set: 4.466034832531938\n"
     ]
    }
   ],
   "source": [
    "# Define a more focused parameter grid for GridSearchCV based on the best parameters\n",
    "refined_param_grid = {\n",
    "    'alpha': [best_params['alpha'] * 0.1, best_params['alpha'], best_params['alpha'] * 10],\n",
    "    'eta0': [best_params['eta0'] * 0.1, best_params['eta0'], best_params['eta0'] * 10],\n",
    "    'learning_rate': [best_params['learning_rate']],\n",
    "    'penalty': [best_params['penalty']]\n",
    "}\n",
    "\n",
    "# Initialize a new GridSearchCV with the refined parameter grid\n",
    "refined_grid_search = GridSearchCV(sgd, refined_param_grid, cv=5, scoring='neg_mean_squared_error', n_jobs=-1, verbose=2)\n",
    "\n",
    "# Fit the model with the refined parameter grid\n",
    "refined_grid_search.fit(train_data, train_target.values.ravel())\n",
    "\n",
    "# Get the best parameters and best score from the refined search\n",
    "refined_best_params = refined_grid_search.best_params_\n",
    "refined_best_score = refined_grid_search.best_score_\n",
    "\n",
    "# Print the refined best parameters and best score\n",
    "print(\"Refined Best Parameters:\", refined_best_params)\n",
    "print(\"Refined Best Score:\", refined_best_score)\n",
    "\n",
    "# Evaluate the refined model on the test set\n",
    "refined_predictions = refined_grid_search.predict(test_data)\n",
    "refined_mse = mean_squared_error(test_target, refined_predictions)\n",
    "print(\"Refined Mean Squared Error on Test Set:\", refined_mse)\n",
    "\n",
    "# Evaluate the refined model on the validation set\n",
    "refined_validate_predictions = refined_grid_search.predict(validate_data)\n",
    "refined_validate_mse = mean_squared_error(validate_target, refined_validate_predictions)\n",
    "print(\"Refined Mean Squared Error on Validation Set:\", refined_validate_mse)"
   ]
  }
 ],
 "metadata": {
  "kernelspec": {
   "display_name": "Python 3",
   "language": "python",
   "name": "python3"
  },
  "language_info": {
   "codemirror_mode": {
    "name": "ipython",
    "version": 3
   },
   "file_extension": ".py",
   "mimetype": "text/x-python",
   "name": "python",
   "nbconvert_exporter": "python",
   "pygments_lexer": "ipython3",
   "version": "3.11.9"
  }
 },
 "nbformat": 4,
 "nbformat_minor": 2
}
