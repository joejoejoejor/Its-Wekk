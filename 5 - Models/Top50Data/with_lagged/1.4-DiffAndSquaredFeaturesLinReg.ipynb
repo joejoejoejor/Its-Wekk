{
 "cells": [
  {
   "cell_type": "code",
   "execution_count": 1,
   "metadata": {},
   "outputs": [],
   "source": [
    "import pandas as pd\n",
    "features = pd.read_csv('../../../4 - Data/04_WorkingDatasets/Top50CombLagged/50CombLagged.csv') #Top 50 Feature + comination Features + Lagged Target\n",
    "target = pd.read_csv('../../../4 - Data/04_WorkingDatasets/Top50CombLagged/TargetOutliersTreated.csv')\n",
    "import numpy as np\n",
    "import random\n",
    "random.seed(11)\n",
    "np.random.seed(11)"
   ]
  },
  {
   "cell_type": "code",
   "execution_count": 2,
   "metadata": {},
   "outputs": [
    {
     "name": "stdout",
     "output_type": "stream",
     "text": [
      "Fitting 5 folds for each of 256 candidates, totalling 1280 fits\n",
      "[CV] END alpha=0.0001, eta0=0.001, learning_rate=constant, penalty=l2; total time=   0.2s\n",
      "[CV] END alpha=0.0001, eta0=0.001, learning_rate=constant, penalty=l2; total time=   0.3s\n",
      "[CV] END alpha=0.0001, eta0=0.001, learning_rate=constant, penalty=l2; total time=   0.2s\n",
      "[CV] END alpha=0.0001, eta0=0.001, learning_rate=constant, penalty=l2; total time=   0.2s\n",
      "[CV] END alpha=0.0001, eta0=0.001, learning_rate=constant, penalty=l2; total time=   0.2s\n",
      "[CV] END alpha=0.0001, eta0=0.001, learning_rate=constant, penalty=l1; total time=   0.2s\n",
      "[CV] END alpha=0.0001, eta0=0.001, learning_rate=constant, penalty=l1; total time=   0.3s\n",
      "[CV] END alpha=0.0001, eta0=0.001, learning_rate=constant, penalty=l1; total time=   0.3s\n",
      "[CV] END alpha=0.0001, eta0=0.001, learning_rate=constant, penalty=elasticnet; total time=   0.3s\n",
      "[CV] END alpha=0.0001, eta0=0.001, learning_rate=constant, penalty=l1; total time=   0.3s\n",
      "[CV] END alpha=0.0001, eta0=0.001, learning_rate=constant, penalty=elasticnet; total time=   0.3s\n",
      "[CV] END alpha=0.0001, eta0=0.001, learning_rate=constant, penalty=elasticnet; total time=   0.2s\n",
      "[CV] END alpha=0.0001, eta0=0.001, learning_rate=constant, penalty=elasticnet; total time=   0.2s\n",
      "[CV] END alpha=0.0001, eta0=0.001, learning_rate=constant, penalty=None; total time=   0.1s\n",
      "[CV] END alpha=0.0001, eta0=0.001, learning_rate=constant, penalty=None; total time=   0.2s\n",
      "[CV] END alpha=0.0001, eta0=0.001, learning_rate=constant, penalty=None; total time=   0.1s\n",
      "[CV] END alpha=0.0001, eta0=0.001, learning_rate=constant, penalty=l1; total time=   0.4s\n",
      "[CV] END alpha=0.0001, eta0=0.001, learning_rate=constant, penalty=None; total time=   0.2s\n",
      "[CV] END alpha=0.0001, eta0=0.001, learning_rate=constant, penalty=elasticnet; total time=   0.3s\n",
      "[CV] END alpha=0.0001, eta0=0.001, learning_rate=constant, penalty=None; total time=   0.2s\n",
      "[CV] END alpha=0.0001, eta0=0.001, learning_rate=optimal, penalty=l2; total time=   1.1s\n",
      "[CV] END alpha=0.0001, eta0=0.001, learning_rate=optimal, penalty=l2; total time=   1.0s\n",
      "[CV] END alpha=0.0001, eta0=0.001, learning_rate=optimal, penalty=l2; total time=   1.1s\n",
      "[CV] END alpha=0.0001, eta0=0.001, learning_rate=optimal, penalty=l1; total time=   1.0s\n",
      "[CV] END alpha=0.0001, eta0=0.001, learning_rate=optimal, penalty=l2; total time=   1.2s\n",
      "[CV] END alpha=0.0001, eta0=0.001, learning_rate=optimal, penalty=l2; total time=   1.1s\n",
      "[CV] END alpha=0.0001, eta0=0.001, learning_rate=optimal, penalty=l1; total time=   0.2s\n",
      "[CV] END alpha=0.0001, eta0=0.001, learning_rate=optimal, penalty=l1; total time=   1.2s\n",
      "[CV] END alpha=0.0001, eta0=0.001, learning_rate=optimal, penalty=l1; total time=   0.7s\n",
      "[CV] END alpha=0.0001, eta0=0.001, learning_rate=optimal, penalty=elasticnet; total time=   0.9s\n",
      "[CV] END alpha=0.0001, eta0=0.001, learning_rate=optimal, penalty=elasticnet; total time=   1.2s\n",
      "[CV] END alpha=0.0001, eta0=0.001, learning_rate=optimal, penalty=elasticnet; total time=   1.5s\n",
      "[CV] END alpha=0.0001, eta0=0.001, learning_rate=optimal, penalty=elasticnet; total time=   1.7s\n",
      "[CV] END alpha=0.0001, eta0=0.001, learning_rate=optimal, penalty=None; total time=   1.6s\n",
      "[CV] END alpha=0.0001, eta0=0.001, learning_rate=invscaling, penalty=l2; total time=   0.2s\n",
      "[CV] END alpha=0.0001, eta0=0.001, learning_rate=invscaling, penalty=l2; total time=   0.2s\n",
      "[CV] END alpha=0.0001, eta0=0.001, learning_rate=invscaling, penalty=l2; total time=   0.2s\n",
      "[CV] END alpha=0.0001, eta0=0.001, learning_rate=optimal, penalty=None; total time=   1.1s\n",
      "[CV] END alpha=0.0001, eta0=0.001, learning_rate=invscaling, penalty=l2; total time=   0.2s\n",
      "[CV] END alpha=0.0001, eta0=0.001, learning_rate=invscaling, penalty=l1; total time=   0.2s\n",
      "[CV] END alpha=0.0001, eta0=0.001, learning_rate=optimal, penalty=None; total time=   1.8s\n",
      "[CV] END alpha=0.0001, eta0=0.001, learning_rate=invscaling, penalty=l2; total time=   0.4s\n",
      "[CV] END alpha=0.0001, eta0=0.001, learning_rate=invscaling, penalty=l1; total time=   0.2s\n",
      "[CV] END alpha=0.0001, eta0=0.001, learning_rate=invscaling, penalty=l1; total time=   0.2s\n",
      "[CV] END alpha=0.0001, eta0=0.001, learning_rate=optimal, penalty=elasticnet; total time=   2.4s\n",
      "[CV] END alpha=0.0001, eta0=0.001, learning_rate=optimal, penalty=None; total time=   1.3s\n",
      "[CV] END alpha=0.0001, eta0=0.001, learning_rate=optimal, penalty=None; total time=   1.1s\n",
      "[CV] END alpha=0.0001, eta0=0.001, learning_rate=invscaling, penalty=elasticnet; total time=   0.2s\n",
      "[CV] END alpha=0.0001, eta0=0.001, learning_rate=invscaling, penalty=l1; total time=   0.3s\n",
      "[CV] END alpha=0.0001, eta0=0.001, learning_rate=invscaling, penalty=elasticnet; total time=   0.2s\n",
      "[CV] END alpha=0.0001, eta0=0.001, learning_rate=invscaling, penalty=elasticnet; total time=   0.2s\n",
      "[CV] END alpha=0.0001, eta0=0.001, learning_rate=invscaling, penalty=None; total time=   0.2s\n",
      "[CV] END alpha=0.0001, eta0=0.001, learning_rate=invscaling, penalty=elasticnet; total time=   0.2s\n",
      "[CV] END alpha=0.0001, eta0=0.001, learning_rate=invscaling, penalty=None; total time=   0.2s\n",
      "[CV] END alpha=0.0001, eta0=0.001, learning_rate=invscaling, penalty=None; total time=   0.2s\n",
      "[CV] END alpha=0.0001, eta0=0.001, learning_rate=invscaling, penalty=None; total time=   0.1s\n",
      "[CV] END alpha=0.0001, eta0=0.001, learning_rate=invscaling, penalty=l1; total time=   0.8s\n",
      "[CV] END alpha=0.0001, eta0=0.001, learning_rate=invscaling, penalty=None; total time=   0.6s\n",
      "[CV] END alpha=0.0001, eta0=0.001, learning_rate=invscaling, penalty=elasticnet; total time=   0.8s\n",
      "[CV] END alpha=0.0001, eta0=0.001, learning_rate=adaptive, penalty=l2; total time=   0.5s\n",
      "[CV] END alpha=0.0001, eta0=0.001, learning_rate=adaptive, penalty=l2; total time=   0.5s\n",
      "[CV] END alpha=0.0001, eta0=0.001, learning_rate=adaptive, penalty=l2; total time=   0.5s\n",
      "[CV] END alpha=0.0001, eta0=0.001, learning_rate=adaptive, penalty=l2; total time=   0.5s\n",
      "[CV] END alpha=0.0001, eta0=0.001, learning_rate=adaptive, penalty=l2; total time=   0.6s\n",
      "[CV] END alpha=0.0001, eta0=0.001, learning_rate=adaptive, penalty=l1; total time=   0.9s\n",
      "[CV] END alpha=0.0001, eta0=0.001, learning_rate=adaptive, penalty=l1; total time=   0.8s\n",
      "[CV] END alpha=0.0001, eta0=0.001, learning_rate=adaptive, penalty=l1; total time=   0.9s\n",
      "[CV] END alpha=0.0001, eta0=0.001, learning_rate=adaptive, penalty=l1; total time=   1.0s\n",
      "[CV] END alpha=0.0001, eta0=0.001, learning_rate=adaptive, penalty=elasticnet; total time=   0.9s\n",
      "[CV] END alpha=0.0001, eta0=0.001, learning_rate=adaptive, penalty=l1; total time=   1.0s\n",
      "[CV] END alpha=0.0001, eta0=0.001, learning_rate=adaptive, penalty=elasticnet; total time=   0.7s\n",
      "[CV] END alpha=0.0001, eta0=0.001, learning_rate=adaptive, penalty=None; total time=   0.6s\n",
      "[CV] END alpha=0.0001, eta0=0.001, learning_rate=adaptive, penalty=None; total time=   0.6s\n",
      "[CV] END alpha=0.0001, eta0=0.001, learning_rate=adaptive, penalty=None; total time=   0.6s\n",
      "[CV] END alpha=0.0001, eta0=0.01, learning_rate=constant, penalty=l2; total time=   0.1s\n",
      "[CV] END alpha=0.0001, eta0=0.001, learning_rate=adaptive, penalty=elasticnet; total time=   0.9s\n",
      "[CV] END alpha=0.0001, eta0=0.001, learning_rate=adaptive, penalty=elasticnet; total time=   0.9s\n",
      "[CV] END alpha=0.0001, eta0=0.001, learning_rate=adaptive, penalty=None; total time=   0.6s\n",
      "[CV] END alpha=0.0001, eta0=0.001, learning_rate=adaptive, penalty=elasticnet; total time=   0.9s\n",
      "[CV] END alpha=0.0001, eta0=0.01, learning_rate=constant, penalty=l2; total time=   0.2s\n",
      "[CV] END alpha=0.0001, eta0=0.01, learning_rate=constant, penalty=l2; total time=   0.1s\n",
      "[CV] END alpha=0.0001, eta0=0.01, learning_rate=constant, penalty=l2; total time=   0.1s\n",
      "[CV] END alpha=0.0001, eta0=0.01, learning_rate=constant, penalty=l2; total time=   0.2s\n",
      "[CV] END alpha=0.0001, eta0=0.01, learning_rate=constant, penalty=l1; total time=   0.2s\n",
      "[CV] END alpha=0.0001, eta0=0.01, learning_rate=constant, penalty=l1; total time=   0.2s\n",
      "[CV] END alpha=0.0001, eta0=0.01, learning_rate=constant, penalty=l1; total time=   0.2s\n",
      "[CV] END alpha=0.0001, eta0=0.001, learning_rate=adaptive, penalty=None; total time=   0.5s\n",
      "[CV] END alpha=0.0001, eta0=0.01, learning_rate=constant, penalty=l1; total time=   0.2s\n",
      "[CV] END alpha=0.0001, eta0=0.01, learning_rate=constant, penalty=elasticnet; total time=   0.2s\n",
      "[CV] END alpha=0.0001, eta0=0.01, learning_rate=constant, penalty=elasticnet; total time=   0.2s\n",
      "[CV] END alpha=0.0001, eta0=0.01, learning_rate=constant, penalty=elasticnet; total time=   0.2s\n",
      "[CV] END alpha=0.0001, eta0=0.01, learning_rate=constant, penalty=elasticnet; total time=   0.2s\n",
      "[CV] END alpha=0.0001, eta0=0.01, learning_rate=constant, penalty=None; total time=   0.1s\n",
      "[CV] END alpha=0.0001, eta0=0.01, learning_rate=constant, penalty=None; total time=   0.1s\n",
      "[CV] END alpha=0.0001, eta0=0.01, learning_rate=constant, penalty=None; total time=   0.1s\n",
      "[CV] END alpha=0.0001, eta0=0.01, learning_rate=constant, penalty=elasticnet; total time=   0.2s\n",
      "[CV] END alpha=0.0001, eta0=0.01, learning_rate=constant, penalty=None; total time=   0.2s\n",
      "[CV] END alpha=0.0001, eta0=0.01, learning_rate=constant, penalty=None; total time=   0.1s\n",
      "[CV] END alpha=0.0001, eta0=0.01, learning_rate=constant, penalty=l1; total time=   0.5s\n",
      "[CV] END alpha=0.0001, eta0=0.01, learning_rate=optimal, penalty=l1; total time=   0.4s\n",
      "[CV] END alpha=0.0001, eta0=0.01, learning_rate=optimal, penalty=l2; total time=   1.3s\n",
      "[CV] END alpha=0.0001, eta0=0.01, learning_rate=optimal, penalty=l2; total time=   1.4s\n",
      "[CV] END alpha=0.0001, eta0=0.01, learning_rate=optimal, penalty=l2; total time=   1.4s\n",
      "[CV] END alpha=0.0001, eta0=0.01, learning_rate=optimal, penalty=l2; total time=   1.4s\n",
      "[CV] END alpha=0.0001, eta0=0.01, learning_rate=optimal, penalty=l2; total time=   2.0s\n",
      "[CV] END alpha=0.0001, eta0=0.01, learning_rate=optimal, penalty=l1; total time=   2.0s\n",
      "[CV] END alpha=0.0001, eta0=0.01, learning_rate=optimal, penalty=l1; total time=   1.6s\n",
      "[CV] END alpha=0.0001, eta0=0.01, learning_rate=optimal, penalty=elasticnet; total time=   1.4s\n",
      "[CV] END alpha=0.0001, eta0=0.01, learning_rate=optimal, penalty=l1; total time=   1.5s\n",
      "[CV] END alpha=0.0001, eta0=0.01, learning_rate=optimal, penalty=l1; total time=   1.8s\n",
      "[CV] END alpha=0.0001, eta0=0.01, learning_rate=optimal, penalty=elasticnet; total time=   1.8s\n",
      "[CV] END alpha=0.0001, eta0=0.01, learning_rate=optimal, penalty=None; total time=   0.8s\n",
      "[CV] END alpha=0.0001, eta0=0.01, learning_rate=optimal, penalty=elasticnet; total time=   1.7s\n",
      "[CV] END alpha=0.0001, eta0=0.01, learning_rate=optimal, penalty=elasticnet; total time=   1.6s\n",
      "[CV] END alpha=0.0001, eta0=0.01, learning_rate=optimal, penalty=None; total time=   0.7s\n",
      "[CV] END alpha=0.0001, eta0=0.01, learning_rate=invscaling, penalty=l2; total time=   0.1s\n",
      "[CV] END alpha=0.0001, eta0=0.01, learning_rate=invscaling, penalty=l2; total time=   0.2s\n",
      "[CV] END alpha=0.0001, eta0=0.01, learning_rate=invscaling, penalty=l2; total time=   0.1s\n",
      "[CV] END alpha=0.0001, eta0=0.01, learning_rate=invscaling, penalty=l2; total time=   0.1s\n",
      "[CV] END alpha=0.0001, eta0=0.01, learning_rate=invscaling, penalty=l2; total time=   0.1s\n",
      "[CV] END alpha=0.0001, eta0=0.01, learning_rate=invscaling, penalty=l1; total time=   0.2s\n",
      "[CV] END alpha=0.0001, eta0=0.01, learning_rate=invscaling, penalty=l1; total time=   0.2s\n",
      "[CV] END alpha=0.0001, eta0=0.01, learning_rate=invscaling, penalty=l1; total time=   0.2s\n",
      "[CV] END alpha=0.0001, eta0=0.01, learning_rate=optimal, penalty=None; total time=   1.1s\n",
      "[CV] END alpha=0.0001, eta0=0.01, learning_rate=optimal, penalty=elasticnet; total time=   1.6s\n",
      "[CV] END alpha=0.0001, eta0=0.01, learning_rate=invscaling, penalty=l1; total time=   0.2s\n",
      "[CV] END alpha=0.0001, eta0=0.01, learning_rate=invscaling, penalty=l1; total time=   0.2s\n",
      "[CV] END alpha=0.0001, eta0=0.01, learning_rate=invscaling, penalty=elasticnet; total time=   0.1s\n",
      "[CV] END alpha=0.0001, eta0=0.01, learning_rate=invscaling, penalty=elasticnet; total time=   0.2s\n",
      "[CV] END alpha=0.0001, eta0=0.01, learning_rate=invscaling, penalty=elasticnet; total time=   0.2s\n",
      "[CV] END alpha=0.0001, eta0=0.01, learning_rate=invscaling, penalty=None; total time=   0.2s\n",
      "[CV] END alpha=0.0001, eta0=0.01, learning_rate=invscaling, penalty=elasticnet; total time=   0.2s\n",
      "[CV] END alpha=0.0001, eta0=0.01, learning_rate=invscaling, penalty=None; total time=   0.2s\n",
      "[CV] END alpha=0.0001, eta0=0.01, learning_rate=invscaling, penalty=elasticnet; total time=   0.2s\n",
      "[CV] END alpha=0.0001, eta0=0.01, learning_rate=optimal, penalty=None; total time=   1.2s\n",
      "[CV] END alpha=0.0001, eta0=0.01, learning_rate=invscaling, penalty=None; total time=   0.1s\n",
      "[CV] END alpha=0.0001, eta0=0.01, learning_rate=invscaling, penalty=None; total time=   0.1s\n",
      "[CV] END alpha=0.0001, eta0=0.01, learning_rate=invscaling, penalty=None; total time=   0.2s\n",
      "[CV] END alpha=0.0001, eta0=0.001, learning_rate=optimal, penalty=l1; total time=  11.5s\n",
      "[CV] END alpha=0.0001, eta0=0.01, learning_rate=optimal, penalty=None; total time=   2.0s\n"
     ]
    },
    {
     "name": "stderr",
     "output_type": "stream",
     "text": [
      "/Users/johannessolibieda/Library/Python/3.9/lib/python/site-packages/sklearn/linear_model/_stochastic_gradient.py:1616: ConvergenceWarning: Maximum number of iteration reached before convergence. Consider increasing max_iter to improve the fit.\n",
      "  warnings.warn(\n",
      "/Users/johannessolibieda/Library/Python/3.9/lib/python/site-packages/sklearn/linear_model/_stochastic_gradient.py:1616: ConvergenceWarning: Maximum number of iteration reached before convergence. Consider increasing max_iter to improve the fit.\n",
      "  warnings.warn(\n"
     ]
    },
    {
     "name": "stdout",
     "output_type": "stream",
     "text": [
      "[CV] END alpha=0.0001, eta0=0.01, learning_rate=adaptive, penalty=l2; total time=  17.4s\n",
      "[CV] END alpha=0.0001, eta0=0.01, learning_rate=adaptive, penalty=l2; total time=  17.4s\n"
     ]
    },
    {
     "name": "stderr",
     "output_type": "stream",
     "text": [
      "/Users/johannessolibieda/Library/Python/3.9/lib/python/site-packages/sklearn/linear_model/_stochastic_gradient.py:1616: ConvergenceWarning: Maximum number of iteration reached before convergence. Consider increasing max_iter to improve the fit.\n",
      "  warnings.warn(\n"
     ]
    },
    {
     "name": "stdout",
     "output_type": "stream",
     "text": [
      "[CV] END alpha=0.0001, eta0=0.01, learning_rate=adaptive, penalty=l2; total time=  17.7s\n"
     ]
    },
    {
     "name": "stderr",
     "output_type": "stream",
     "text": [
      "/Users/johannessolibieda/Library/Python/3.9/lib/python/site-packages/sklearn/linear_model/_stochastic_gradient.py:1616: ConvergenceWarning: Maximum number of iteration reached before convergence. Consider increasing max_iter to improve the fit.\n",
      "  warnings.warn(\n",
      "/Users/johannessolibieda/Library/Python/3.9/lib/python/site-packages/sklearn/linear_model/_stochastic_gradient.py:1616: ConvergenceWarning: Maximum number of iteration reached before convergence. Consider increasing max_iter to improve the fit.\n",
      "  warnings.warn(\n"
     ]
    },
    {
     "name": "stdout",
     "output_type": "stream",
     "text": [
      "[CV] END alpha=0.0001, eta0=0.01, learning_rate=adaptive, penalty=l2; total time=  18.0s\n",
      "[CV] END alpha=0.0001, eta0=0.01, learning_rate=adaptive, penalty=l2; total time=  18.1s\n"
     ]
    },
    {
     "name": "stderr",
     "output_type": "stream",
     "text": [
      "/Users/johannessolibieda/Library/Python/3.9/lib/python/site-packages/sklearn/linear_model/_stochastic_gradient.py:1616: ConvergenceWarning: Maximum number of iteration reached before convergence. Consider increasing max_iter to improve the fit.\n",
      "  warnings.warn(\n",
      "/Users/johannessolibieda/Library/Python/3.9/lib/python/site-packages/sklearn/linear_model/_stochastic_gradient.py:1616: ConvergenceWarning: Maximum number of iteration reached before convergence. Consider increasing max_iter to improve the fit.\n",
      "  warnings.warn(\n"
     ]
    },
    {
     "name": "stdout",
     "output_type": "stream",
     "text": [
      "[CV] END alpha=0.0001, eta0=0.01, learning_rate=adaptive, penalty=l1; total time=  24.7s\n",
      "[CV] END alpha=0.0001, eta0=0.01, learning_rate=adaptive, penalty=l1; total time=  25.1s\n"
     ]
    },
    {
     "name": "stderr",
     "output_type": "stream",
     "text": [
      "/Users/johannessolibieda/Library/Python/3.9/lib/python/site-packages/sklearn/linear_model/_stochastic_gradient.py:1616: ConvergenceWarning: Maximum number of iteration reached before convergence. Consider increasing max_iter to improve the fit.\n",
      "  warnings.warn(\n"
     ]
    },
    {
     "name": "stdout",
     "output_type": "stream",
     "text": [
      "[CV] END alpha=0.0001, eta0=0.01, learning_rate=adaptive, penalty=l1; total time=  24.8s\n"
     ]
    },
    {
     "name": "stderr",
     "output_type": "stream",
     "text": [
      "/Users/johannessolibieda/Library/Python/3.9/lib/python/site-packages/sklearn/linear_model/_stochastic_gradient.py:1616: ConvergenceWarning: Maximum number of iteration reached before convergence. Consider increasing max_iter to improve the fit.\n",
      "  warnings.warn(\n",
      "/Users/johannessolibieda/Library/Python/3.9/lib/python/site-packages/sklearn/linear_model/_stochastic_gradient.py:1616: ConvergenceWarning: Maximum number of iteration reached before convergence. Consider increasing max_iter to improve the fit.\n",
      "  warnings.warn(\n"
     ]
    },
    {
     "name": "stdout",
     "output_type": "stream",
     "text": [
      "[CV] END alpha=0.0001, eta0=0.01, learning_rate=adaptive, penalty=l1; total time=  23.9s\n",
      "[CV] END alpha=0.0001, eta0=0.01, learning_rate=adaptive, penalty=l1; total time=  23.8s\n"
     ]
    },
    {
     "name": "stderr",
     "output_type": "stream",
     "text": [
      "/Users/johannessolibieda/Library/Python/3.9/lib/python/site-packages/sklearn/linear_model/_stochastic_gradient.py:1616: ConvergenceWarning: Maximum number of iteration reached before convergence. Consider increasing max_iter to improve the fit.\n",
      "  warnings.warn(\n",
      "/Users/johannessolibieda/Library/Python/3.9/lib/python/site-packages/sklearn/linear_model/_stochastic_gradient.py:1616: ConvergenceWarning: Maximum number of iteration reached before convergence. Consider increasing max_iter to improve the fit.\n",
      "  warnings.warn(\n",
      "/Users/johannessolibieda/Library/Python/3.9/lib/python/site-packages/sklearn/linear_model/_stochastic_gradient.py:1616: ConvergenceWarning: Maximum number of iteration reached before convergence. Consider increasing max_iter to improve the fit.\n",
      "  warnings.warn(\n"
     ]
    },
    {
     "name": "stdout",
     "output_type": "stream",
     "text": [
      "[CV] END alpha=0.0001, eta0=0.01, learning_rate=adaptive, penalty=elasticnet; total time=  23.4s\n",
      "[CV] END alpha=0.0001, eta0=0.01, learning_rate=adaptive, penalty=elasticnet; total time=  23.5s\n",
      "[CV] END alpha=0.0001, eta0=0.01, learning_rate=adaptive, penalty=elasticnet; total time=  23.9s\n",
      "[CV] END alpha=0.0001, eta0=0.1, learning_rate=constant, penalty=l2; total time=   0.1s\n",
      "[CV] END alpha=0.0001, eta0=0.1, learning_rate=constant, penalty=l2; total time=   0.1s\n",
      "[CV] END alpha=0.0001, eta0=0.1, learning_rate=constant, penalty=l2; total time=   0.1s\n",
      "[CV] END alpha=0.0001, eta0=0.01, learning_rate=adaptive, penalty=None; total time=  16.1s\n"
     ]
    },
    {
     "name": "stderr",
     "output_type": "stream",
     "text": [
      "/Users/johannessolibieda/Library/Python/3.9/lib/python/site-packages/sklearn/linear_model/_stochastic_gradient.py:1616: ConvergenceWarning: Maximum number of iteration reached before convergence. Consider increasing max_iter to improve the fit.\n",
      "  warnings.warn(\n"
     ]
    },
    {
     "name": "stdout",
     "output_type": "stream",
     "text": [
      "[CV] END alpha=0.0001, eta0=0.1, learning_rate=constant, penalty=l2; total time=   0.2s\n",
      "[CV] END alpha=0.0001, eta0=0.1, learning_rate=constant, penalty=l2; total time=   0.3s\n",
      "[CV] END alpha=0.0001, eta0=0.1, learning_rate=constant, penalty=l1; total time=   0.2s\n",
      "[CV] END alpha=0.0001, eta0=0.1, learning_rate=constant, penalty=l1; total time=   0.4s\n",
      "[CV] END alpha=0.0001, eta0=0.1, learning_rate=constant, penalty=l1; total time=   0.2s\n",
      "[CV] END alpha=0.0001, eta0=0.1, learning_rate=constant, penalty=l1; total time=   0.3s\n",
      "[CV] END alpha=0.0001, eta0=0.1, learning_rate=constant, penalty=l1; total time=   0.2s\n",
      "[CV] END alpha=0.0001, eta0=0.1, learning_rate=constant, penalty=elasticnet; total time=   0.2s\n",
      "[CV] END alpha=0.0001, eta0=0.1, learning_rate=constant, penalty=elasticnet; total time=   0.2s\n",
      "[CV] END alpha=0.0001, eta0=0.1, learning_rate=constant, penalty=elasticnet; total time=   0.2s\n",
      "[CV] END alpha=0.0001, eta0=0.1, learning_rate=constant, penalty=elasticnet; total time=   0.3s\n",
      "[CV] END alpha=0.0001, eta0=0.1, learning_rate=constant, penalty=None; total time=   0.1s\n",
      "[CV] END alpha=0.0001, eta0=0.1, learning_rate=constant, penalty=elasticnet; total time=   0.2s\n",
      "[CV] END alpha=0.0001, eta0=0.1, learning_rate=constant, penalty=None; total time=   0.1s\n",
      "[CV] END alpha=0.0001, eta0=0.1, learning_rate=constant, penalty=None; total time=   0.1s\n",
      "[CV] END alpha=0.0001, eta0=0.1, learning_rate=constant, penalty=None; total time=   0.1s\n",
      "[CV] END alpha=0.0001, eta0=0.1, learning_rate=constant, penalty=None; total time=   0.2s\n",
      "[CV] END alpha=0.0001, eta0=0.1, learning_rate=optimal, penalty=l2; total time=   0.6s\n",
      "[CV] END alpha=0.0001, eta0=0.1, learning_rate=optimal, penalty=l2; total time=   1.1s\n",
      "[CV] END alpha=0.0001, eta0=0.1, learning_rate=optimal, penalty=l2; total time=   0.8s\n",
      "[CV] END alpha=0.0001, eta0=0.1, learning_rate=optimal, penalty=l2; total time=   0.8s\n",
      "[CV] END alpha=0.0001, eta0=0.1, learning_rate=optimal, penalty=l2; total time=   1.5s\n",
      "[CV] END alpha=0.0001, eta0=0.1, learning_rate=optimal, penalty=l1; total time=   1.0s\n"
     ]
    },
    {
     "name": "stderr",
     "output_type": "stream",
     "text": [
      "/Users/johannessolibieda/Library/Python/3.9/lib/python/site-packages/sklearn/linear_model/_stochastic_gradient.py:1616: ConvergenceWarning: Maximum number of iteration reached before convergence. Consider increasing max_iter to improve the fit.\n",
      "  warnings.warn(\n"
     ]
    },
    {
     "name": "stdout",
     "output_type": "stream",
     "text": [
      "[CV] END alpha=0.0001, eta0=0.01, learning_rate=adaptive, penalty=elasticnet; total time=  23.3s\n",
      "[CV] END alpha=0.0001, eta0=0.1, learning_rate=optimal, penalty=l1; total time=   2.3s\n"
     ]
    },
    {
     "name": "stderr",
     "output_type": "stream",
     "text": [
      "/Users/johannessolibieda/Library/Python/3.9/lib/python/site-packages/sklearn/linear_model/_stochastic_gradient.py:1616: ConvergenceWarning: Maximum number of iteration reached before convergence. Consider increasing max_iter to improve the fit.\n",
      "  warnings.warn(\n"
     ]
    },
    {
     "name": "stdout",
     "output_type": "stream",
     "text": [
      "[CV] END alpha=0.0001, eta0=0.01, learning_rate=adaptive, penalty=elasticnet; total time=  24.0s\n",
      "[CV] END alpha=0.0001, eta0=0.1, learning_rate=optimal, penalty=l1; total time=   2.2s\n",
      "[CV] END alpha=0.0001, eta0=0.1, learning_rate=optimal, penalty=l1; total time=   1.3s\n",
      "[CV] END alpha=0.0001, eta0=0.1, learning_rate=optimal, penalty=l1; total time=   2.0s\n",
      "[CV] END alpha=0.0001, eta0=0.1, learning_rate=optimal, penalty=elasticnet; total time=   1.5s\n",
      "[CV] END alpha=0.0001, eta0=0.1, learning_rate=optimal, penalty=elasticnet; total time=   1.8s\n",
      "[CV] END alpha=0.0001, eta0=0.1, learning_rate=optimal, penalty=elasticnet; total time=   1.0s\n",
      "[CV] END alpha=0.0001, eta0=0.1, learning_rate=optimal, penalty=elasticnet; total time=   1.9s\n",
      "[CV] END alpha=0.0001, eta0=0.1, learning_rate=optimal, penalty=None; total time=   1.0s\n",
      "[CV] END alpha=0.0001, eta0=0.1, learning_rate=optimal, penalty=elasticnet; total time=   1.7s\n",
      "[CV] END alpha=0.0001, eta0=0.1, learning_rate=optimal, penalty=None; total time=   1.3s\n",
      "[CV] END alpha=0.0001, eta0=0.1, learning_rate=optimal, penalty=None; total time=   0.8s\n",
      "[CV] END alpha=0.0001, eta0=0.1, learning_rate=optimal, penalty=None; total time=   0.6s\n",
      "[CV] END alpha=0.0001, eta0=0.1, learning_rate=invscaling, penalty=l2; total time=   0.2s\n",
      "[CV] END alpha=0.0001, eta0=0.1, learning_rate=invscaling, penalty=l2; total time=   0.4s\n",
      "[CV] END alpha=0.0001, eta0=0.1, learning_rate=optimal, penalty=None; total time=   0.5s\n",
      "[CV] END alpha=0.0001, eta0=0.1, learning_rate=invscaling, penalty=l2; total time=   0.3s\n",
      "[CV] END alpha=0.0001, eta0=0.1, learning_rate=invscaling, penalty=l2; total time=   0.2s\n",
      "[CV] END alpha=0.0001, eta0=0.1, learning_rate=invscaling, penalty=l2; total time=   0.3s\n",
      "[CV] END alpha=0.0001, eta0=0.1, learning_rate=invscaling, penalty=l1; total time=   0.6s\n",
      "[CV] END alpha=0.0001, eta0=0.1, learning_rate=invscaling, penalty=l1; total time=   0.4s\n",
      "[CV] END alpha=0.0001, eta0=0.1, learning_rate=invscaling, penalty=l1; total time=   0.5s\n",
      "[CV] END alpha=0.0001, eta0=0.1, learning_rate=invscaling, penalty=l1; total time=   0.4s\n",
      "[CV] END alpha=0.0001, eta0=0.1, learning_rate=invscaling, penalty=elasticnet; total time=   0.4s\n",
      "[CV] END alpha=0.0001, eta0=0.1, learning_rate=invscaling, penalty=l1; total time=   1.3s\n",
      "[CV] END alpha=0.0001, eta0=0.1, learning_rate=invscaling, penalty=elasticnet; total time=   0.4s\n",
      "[CV] END alpha=0.0001, eta0=0.1, learning_rate=invscaling, penalty=elasticnet; total time=   0.8s\n",
      "[CV] END alpha=0.0001, eta0=0.1, learning_rate=invscaling, penalty=elasticnet; total time=   0.7s\n",
      "[CV] END alpha=0.0001, eta0=0.1, learning_rate=invscaling, penalty=None; total time=   0.5s\n",
      "[CV] END alpha=0.0001, eta0=0.1, learning_rate=invscaling, penalty=None; total time=   0.3s\n",
      "[CV] END alpha=0.0001, eta0=0.1, learning_rate=invscaling, penalty=None; total time=   0.4s\n",
      "[CV] END alpha=0.0001, eta0=0.1, learning_rate=invscaling, penalty=elasticnet; total time=   0.8s\n",
      "[CV] END alpha=0.0001, eta0=0.1, learning_rate=invscaling, penalty=None; total time=   0.3s\n",
      "[CV] END alpha=0.0001, eta0=0.1, learning_rate=invscaling, penalty=None; total time=   0.3s\n"
     ]
    },
    {
     "name": "stderr",
     "output_type": "stream",
     "text": [
      "/Users/johannessolibieda/Library/Python/3.9/lib/python/site-packages/sklearn/linear_model/_stochastic_gradient.py:1616: ConvergenceWarning: Maximum number of iteration reached before convergence. Consider increasing max_iter to improve the fit.\n",
      "  warnings.warn(\n",
      "/Users/johannessolibieda/Library/Python/3.9/lib/python/site-packages/sklearn/linear_model/_stochastic_gradient.py:1616: ConvergenceWarning: Maximum number of iteration reached before convergence. Consider increasing max_iter to improve the fit.\n",
      "  warnings.warn(\n",
      "/Users/johannessolibieda/Library/Python/3.9/lib/python/site-packages/sklearn/linear_model/_stochastic_gradient.py:1616: ConvergenceWarning: Maximum number of iteration reached before convergence. Consider increasing max_iter to improve the fit.\n",
      "  warnings.warn(\n"
     ]
    },
    {
     "name": "stdout",
     "output_type": "stream",
     "text": [
      "[CV] END alpha=0.0001, eta0=0.01, learning_rate=adaptive, penalty=None; total time=  15.3s\n",
      "[CV] END alpha=0.0001, eta0=0.01, learning_rate=adaptive, penalty=None; total time=  15.5s\n",
      "[CV] END alpha=0.0001, eta0=0.01, learning_rate=adaptive, penalty=None; total time=  15.3s\n"
     ]
    },
    {
     "name": "stderr",
     "output_type": "stream",
     "text": [
      "/Users/johannessolibieda/Library/Python/3.9/lib/python/site-packages/sklearn/linear_model/_stochastic_gradient.py:1616: ConvergenceWarning: Maximum number of iteration reached before convergence. Consider increasing max_iter to improve the fit.\n",
      "  warnings.warn(\n"
     ]
    },
    {
     "name": "stdout",
     "output_type": "stream",
     "text": [
      "[CV] END alpha=0.0001, eta0=0.01, learning_rate=adaptive, penalty=None; total time=  15.8s\n"
     ]
    },
    {
     "name": "stderr",
     "output_type": "stream",
     "text": [
      "/Users/johannessolibieda/Library/Python/3.9/lib/python/site-packages/sklearn/linear_model/_stochastic_gradient.py:1616: ConvergenceWarning: Maximum number of iteration reached before convergence. Consider increasing max_iter to improve the fit.\n",
      "  warnings.warn(\n",
      "/Users/johannessolibieda/Library/Python/3.9/lib/python/site-packages/sklearn/linear_model/_stochastic_gradient.py:1616: ConvergenceWarning: Maximum number of iteration reached before convergence. Consider increasing max_iter to improve the fit.\n",
      "  warnings.warn(\n",
      "/Users/johannessolibieda/Library/Python/3.9/lib/python/site-packages/sklearn/linear_model/_stochastic_gradient.py:1616: ConvergenceWarning: Maximum number of iteration reached before convergence. Consider increasing max_iter to improve the fit.\n",
      "  warnings.warn(\n"
     ]
    },
    {
     "name": "stdout",
     "output_type": "stream",
     "text": [
      "[CV] END alpha=0.0001, eta0=0.1, learning_rate=adaptive, penalty=l2; total time=  15.8s\n",
      "[CV] END alpha=0.0001, eta0=0.1, learning_rate=adaptive, penalty=l2; total time=  15.6s\n",
      "[CV] END alpha=0.0001, eta0=0.1, learning_rate=adaptive, penalty=l2; total time=  15.7s\n"
     ]
    },
    {
     "name": "stderr",
     "output_type": "stream",
     "text": [
      "/Users/johannessolibieda/Library/Python/3.9/lib/python/site-packages/sklearn/linear_model/_stochastic_gradient.py:1616: ConvergenceWarning: Maximum number of iteration reached before convergence. Consider increasing max_iter to improve the fit.\n",
      "  warnings.warn(\n"
     ]
    },
    {
     "name": "stdout",
     "output_type": "stream",
     "text": [
      "[CV] END alpha=0.0001, eta0=0.1, learning_rate=adaptive, penalty=l2; total time=  15.8s\n"
     ]
    },
    {
     "name": "stderr",
     "output_type": "stream",
     "text": [
      "/Users/johannessolibieda/Library/Python/3.9/lib/python/site-packages/sklearn/linear_model/_stochastic_gradient.py:1616: ConvergenceWarning: Maximum number of iteration reached before convergence. Consider increasing max_iter to improve the fit.\n",
      "  warnings.warn(\n"
     ]
    },
    {
     "name": "stdout",
     "output_type": "stream",
     "text": [
      "[CV] END alpha=0.0001, eta0=0.1, learning_rate=adaptive, penalty=l2; total time=  15.3s\n"
     ]
    },
    {
     "name": "stderr",
     "output_type": "stream",
     "text": [
      "/Users/johannessolibieda/Library/Python/3.9/lib/python/site-packages/sklearn/linear_model/_stochastic_gradient.py:1616: ConvergenceWarning: Maximum number of iteration reached before convergence. Consider increasing max_iter to improve the fit.\n",
      "  warnings.warn(\n",
      "/Users/johannessolibieda/Library/Python/3.9/lib/python/site-packages/sklearn/linear_model/_stochastic_gradient.py:1616: ConvergenceWarning: Maximum number of iteration reached before convergence. Consider increasing max_iter to improve the fit.\n",
      "  warnings.warn(\n"
     ]
    },
    {
     "name": "stdout",
     "output_type": "stream",
     "text": [
      "[CV] END alpha=0.0001, eta0=0.1, learning_rate=adaptive, penalty=l1; total time=  22.8s\n",
      "[CV] END alpha=0.0001, eta0=0.1, learning_rate=adaptive, penalty=l1; total time=  23.0s\n"
     ]
    },
    {
     "name": "stderr",
     "output_type": "stream",
     "text": [
      "/Users/johannessolibieda/Library/Python/3.9/lib/python/site-packages/sklearn/linear_model/_stochastic_gradient.py:1616: ConvergenceWarning: Maximum number of iteration reached before convergence. Consider increasing max_iter to improve the fit.\n",
      "  warnings.warn(\n"
     ]
    },
    {
     "name": "stdout",
     "output_type": "stream",
     "text": [
      "[CV] END alpha=0.0001, eta0=0.1, learning_rate=adaptive, penalty=l1; total time=  22.7s\n"
     ]
    },
    {
     "name": "stderr",
     "output_type": "stream",
     "text": [
      "/Users/johannessolibieda/Library/Python/3.9/lib/python/site-packages/sklearn/linear_model/_stochastic_gradient.py:1616: ConvergenceWarning: Maximum number of iteration reached before convergence. Consider increasing max_iter to improve the fit.\n",
      "  warnings.warn(\n",
      "/Users/johannessolibieda/Library/Python/3.9/lib/python/site-packages/sklearn/linear_model/_stochastic_gradient.py:1616: ConvergenceWarning: Maximum number of iteration reached before convergence. Consider increasing max_iter to improve the fit.\n",
      "  warnings.warn(\n",
      "/Users/johannessolibieda/Library/Python/3.9/lib/python/site-packages/sklearn/linear_model/_stochastic_gradient.py:1616: ConvergenceWarning: Maximum number of iteration reached before convergence. Consider increasing max_iter to improve the fit.\n",
      "  warnings.warn(\n"
     ]
    },
    {
     "name": "stdout",
     "output_type": "stream",
     "text": [
      "[CV] END alpha=0.0001, eta0=0.1, learning_rate=adaptive, penalty=l1; total time=  22.8s\n",
      "[CV] END alpha=0.0001, eta0=0.1, learning_rate=adaptive, penalty=l1; total time=  22.9s\n",
      "[CV] END alpha=0.0001, eta0=0.1, learning_rate=adaptive, penalty=elasticnet; total time=  22.9s\n"
     ]
    },
    {
     "name": "stderr",
     "output_type": "stream",
     "text": [
      "/Users/johannessolibieda/Library/Python/3.9/lib/python/site-packages/sklearn/linear_model/_stochastic_gradient.py:1616: ConvergenceWarning: Maximum number of iteration reached before convergence. Consider increasing max_iter to improve the fit.\n",
      "  warnings.warn(\n"
     ]
    },
    {
     "name": "stdout",
     "output_type": "stream",
     "text": [
      "[CV] END alpha=0.0001, eta0=0.1, learning_rate=adaptive, penalty=elasticnet; total time=  23.4s\n"
     ]
    },
    {
     "name": "stderr",
     "output_type": "stream",
     "text": [
      "/Users/johannessolibieda/Library/Python/3.9/lib/python/site-packages/sklearn/linear_model/_stochastic_gradient.py:1616: ConvergenceWarning: Maximum number of iteration reached before convergence. Consider increasing max_iter to improve the fit.\n",
      "  warnings.warn(\n"
     ]
    },
    {
     "name": "stdout",
     "output_type": "stream",
     "text": [
      "[CV] END alpha=0.0001, eta0=0.1, learning_rate=adaptive, penalty=elasticnet; total time=  23.2s\n",
      "[CV] END alpha=0.0001, eta0=1, learning_rate=constant, penalty=l2; total time=   0.1s\n",
      "[CV] END alpha=0.0001, eta0=1, learning_rate=constant, penalty=l2; total time=   0.1s\n",
      "[CV] END alpha=0.0001, eta0=0.1, learning_rate=adaptive, penalty=None; total time=   1.7s\n",
      "[CV] END alpha=0.0001, eta0=0.1, learning_rate=adaptive, penalty=None; total time=  15.5s\n",
      "[CV] END alpha=0.0001, eta0=1, learning_rate=constant, penalty=l2; total time=   0.2s\n"
     ]
    },
    {
     "name": "stderr",
     "output_type": "stream",
     "text": [
      "/Users/johannessolibieda/Library/Python/3.9/lib/python/site-packages/sklearn/linear_model/_stochastic_gradient.py:1616: ConvergenceWarning: Maximum number of iteration reached before convergence. Consider increasing max_iter to improve the fit.\n",
      "  warnings.warn(\n"
     ]
    },
    {
     "name": "stdout",
     "output_type": "stream",
     "text": [
      "[CV] END alpha=0.0001, eta0=1, learning_rate=constant, penalty=l2; total time=   0.2s\n",
      "[CV] END alpha=0.0001, eta0=1, learning_rate=constant, penalty=l2; total time=   0.2s\n",
      "[CV] END alpha=0.0001, eta0=1, learning_rate=constant, penalty=l1; total time=   0.2s\n",
      "[CV] END alpha=0.0001, eta0=1, learning_rate=constant, penalty=l1; total time=   0.2s\n",
      "[CV] END alpha=0.0001, eta0=1, learning_rate=constant, penalty=l1; total time=   0.2s\n",
      "[CV] END alpha=0.0001, eta0=1, learning_rate=constant, penalty=l1; total time=   0.2s\n",
      "[CV] END alpha=0.0001, eta0=1, learning_rate=constant, penalty=l1; total time=   0.2s\n",
      "[CV] END alpha=0.0001, eta0=1, learning_rate=constant, penalty=elasticnet; total time=   0.3s\n",
      "[CV] END alpha=0.0001, eta0=1, learning_rate=constant, penalty=elasticnet; total time=   0.2s\n",
      "[CV] END alpha=0.0001, eta0=1, learning_rate=constant, penalty=elasticnet; total time=   0.4s\n",
      "[CV] END alpha=0.0001, eta0=1, learning_rate=constant, penalty=None; total time=   0.1s\n",
      "[CV] END alpha=0.0001, eta0=1, learning_rate=constant, penalty=elasticnet; total time=   0.2s\n",
      "[CV] END alpha=0.0001, eta0=1, learning_rate=constant, penalty=elasticnet; total time=   0.2s\n",
      "[CV] END alpha=0.0001, eta0=1, learning_rate=constant, penalty=None; total time=   0.1s\n",
      "[CV] END alpha=0.0001, eta0=1, learning_rate=constant, penalty=None; total time=   0.2s\n",
      "[CV] END alpha=0.0001, eta0=1, learning_rate=constant, penalty=None; total time=   0.2s\n",
      "[CV] END alpha=0.0001, eta0=1, learning_rate=constant, penalty=None; total time=   0.2s\n",
      "[CV] END alpha=0.0001, eta0=1, learning_rate=optimal, penalty=l2; total time=   0.7s\n",
      "[CV] END alpha=0.0001, eta0=1, learning_rate=optimal, penalty=l2; total time=   1.0s\n",
      "[CV] END alpha=0.0001, eta0=1, learning_rate=optimal, penalty=l2; total time=   1.1s\n",
      "[CV] END alpha=0.0001, eta0=1, learning_rate=optimal, penalty=l2; total time=   0.7s\n",
      "[CV] END alpha=0.0001, eta0=1, learning_rate=optimal, penalty=l2; total time=   1.0s\n",
      "[CV] END alpha=0.0001, eta0=1, learning_rate=optimal, penalty=l1; total time=   1.6s\n",
      "[CV] END alpha=0.0001, eta0=1, learning_rate=optimal, penalty=l1; total time=   1.2s\n",
      "[CV] END alpha=0.0001, eta0=1, learning_rate=optimal, penalty=l1; total time=   1.2s\n",
      "[CV] END alpha=0.0001, eta0=1, learning_rate=optimal, penalty=l1; total time=   1.0s\n",
      "[CV] END alpha=0.0001, eta0=1, learning_rate=optimal, penalty=elasticnet; total time=   0.9s\n",
      "[CV] END alpha=0.0001, eta0=1, learning_rate=optimal, penalty=elasticnet; total time=   0.9s\n"
     ]
    },
    {
     "name": "stderr",
     "output_type": "stream",
     "text": [
      "/Users/johannessolibieda/Library/Python/3.9/lib/python/site-packages/sklearn/linear_model/_stochastic_gradient.py:1616: ConvergenceWarning: Maximum number of iteration reached before convergence. Consider increasing max_iter to improve the fit.\n",
      "  warnings.warn(\n"
     ]
    },
    {
     "name": "stdout",
     "output_type": "stream",
     "text": [
      "[CV] END alpha=0.0001, eta0=0.1, learning_rate=adaptive, penalty=elasticnet; total time=  23.3s\n",
      "[CV] END alpha=0.0001, eta0=1, learning_rate=optimal, penalty=elasticnet; total time=   1.3s\n"
     ]
    },
    {
     "name": "stderr",
     "output_type": "stream",
     "text": [
      "/Users/johannessolibieda/Library/Python/3.9/lib/python/site-packages/sklearn/linear_model/_stochastic_gradient.py:1616: ConvergenceWarning: Maximum number of iteration reached before convergence. Consider increasing max_iter to improve the fit.\n",
      "  warnings.warn(\n"
     ]
    },
    {
     "name": "stdout",
     "output_type": "stream",
     "text": [
      "[CV] END alpha=0.0001, eta0=0.1, learning_rate=adaptive, penalty=elasticnet; total time=  23.6s\n",
      "[CV] END alpha=0.0001, eta0=1, learning_rate=optimal, penalty=elasticnet; total time=   1.9s\n",
      "[CV] END alpha=0.0001, eta0=1, learning_rate=optimal, penalty=None; total time=   0.8s\n",
      "[CV] END alpha=0.0001, eta0=1, learning_rate=optimal, penalty=None; total time=   0.5s\n",
      "[CV] END alpha=0.0001, eta0=1, learning_rate=optimal, penalty=None; total time=   1.4s\n",
      "[CV] END alpha=0.0001, eta0=1, learning_rate=optimal, penalty=None; total time=   0.6s\n",
      "[CV] END alpha=0.0001, eta0=1, learning_rate=optimal, penalty=elasticnet; total time=   1.9s\n",
      "[CV] END alpha=0.0001, eta0=1, learning_rate=invscaling, penalty=l2; total time=   0.3s\n",
      "[CV] END alpha=0.0001, eta0=1, learning_rate=optimal, penalty=None; total time=   1.3s\n",
      "[CV] END alpha=0.0001, eta0=1, learning_rate=invscaling, penalty=l2; total time=   0.3s\n",
      "[CV] END alpha=0.0001, eta0=1, learning_rate=invscaling, penalty=l2; total time=   0.5s\n",
      "[CV] END alpha=0.0001, eta0=1, learning_rate=invscaling, penalty=l2; total time=   0.3s\n",
      "[CV] END alpha=0.0001, eta0=1, learning_rate=invscaling, penalty=l1; total time=   0.6s\n",
      "[CV] END alpha=0.0001, eta0=1, learning_rate=invscaling, penalty=l2; total time=   0.7s\n",
      "[CV] END alpha=0.0001, eta0=1, learning_rate=invscaling, penalty=l1; total time=   0.7s\n",
      "[CV] END alpha=0.0001, eta0=1, learning_rate=invscaling, penalty=l1; total time=   0.6s\n",
      "[CV] END alpha=0.0001, eta0=1, learning_rate=invscaling, penalty=l1; total time=   0.6s\n",
      "[CV] END alpha=0.0001, eta0=1, learning_rate=invscaling, penalty=elasticnet; total time=   0.5s\n",
      "[CV] END alpha=0.0001, eta0=1, learning_rate=invscaling, penalty=elasticnet; total time=   0.6s\n",
      "[CV] END alpha=0.0001, eta0=1, learning_rate=invscaling, penalty=l1; total time=   0.9s\n",
      "[CV] END alpha=0.0001, eta0=1, learning_rate=invscaling, penalty=elasticnet; total time=   0.4s\n",
      "[CV] END alpha=0.0001, eta0=1, learning_rate=invscaling, penalty=None; total time=   0.3s\n",
      "[CV] END alpha=0.0001, eta0=1, learning_rate=invscaling, penalty=elasticnet; total time=   0.5s\n",
      "[CV] END alpha=0.0001, eta0=1, learning_rate=invscaling, penalty=elasticnet; total time=   0.7s\n",
      "[CV] END alpha=0.0001, eta0=1, learning_rate=invscaling, penalty=None; total time=   0.2s\n",
      "[CV] END alpha=0.0001, eta0=1, learning_rate=invscaling, penalty=None; total time=   0.3s\n",
      "[CV] END alpha=0.0001, eta0=1, learning_rate=invscaling, penalty=None; total time=   0.6s\n",
      "[CV] END alpha=0.0001, eta0=1, learning_rate=invscaling, penalty=None; total time=   0.5s\n",
      "[CV] END alpha=0.0001, eta0=1, learning_rate=optimal, penalty=l1; total time=  10.3s\n"
     ]
    },
    {
     "name": "stderr",
     "output_type": "stream",
     "text": [
      "/Users/johannessolibieda/Library/Python/3.9/lib/python/site-packages/sklearn/linear_model/_stochastic_gradient.py:1616: ConvergenceWarning: Maximum number of iteration reached before convergence. Consider increasing max_iter to improve the fit.\n",
      "  warnings.warn(\n"
     ]
    },
    {
     "name": "stdout",
     "output_type": "stream",
     "text": [
      "[CV] END alpha=0.0001, eta0=0.1, learning_rate=adaptive, penalty=None; total time=  15.8s\n"
     ]
    },
    {
     "name": "stderr",
     "output_type": "stream",
     "text": [
      "/Users/johannessolibieda/Library/Python/3.9/lib/python/site-packages/sklearn/linear_model/_stochastic_gradient.py:1616: ConvergenceWarning: Maximum number of iteration reached before convergence. Consider increasing max_iter to improve the fit.\n",
      "  warnings.warn(\n"
     ]
    },
    {
     "name": "stdout",
     "output_type": "stream",
     "text": [
      "[CV] END alpha=0.0001, eta0=0.1, learning_rate=adaptive, penalty=None; total time=  16.2s\n"
     ]
    },
    {
     "name": "stderr",
     "output_type": "stream",
     "text": [
      "/Users/johannessolibieda/Library/Python/3.9/lib/python/site-packages/sklearn/linear_model/_stochastic_gradient.py:1616: ConvergenceWarning: Maximum number of iteration reached before convergence. Consider increasing max_iter to improve the fit.\n",
      "  warnings.warn(\n"
     ]
    },
    {
     "name": "stdout",
     "output_type": "stream",
     "text": [
      "[CV] END alpha=0.0001, eta0=0.1, learning_rate=adaptive, penalty=None; total time=  15.9s\n"
     ]
    },
    {
     "name": "stderr",
     "output_type": "stream",
     "text": [
      "/Users/johannessolibieda/Library/Python/3.9/lib/python/site-packages/sklearn/linear_model/_stochastic_gradient.py:1616: ConvergenceWarning: Maximum number of iteration reached before convergence. Consider increasing max_iter to improve the fit.\n",
      "  warnings.warn(\n"
     ]
    },
    {
     "name": "stdout",
     "output_type": "stream",
     "text": [
      "[CV] END alpha=0.0001, eta0=1, learning_rate=adaptive, penalty=l2; total time=  15.6s\n"
     ]
    },
    {
     "name": "stderr",
     "output_type": "stream",
     "text": [
      "/Users/johannessolibieda/Library/Python/3.9/lib/python/site-packages/sklearn/linear_model/_stochastic_gradient.py:1616: ConvergenceWarning: Maximum number of iteration reached before convergence. Consider increasing max_iter to improve the fit.\n",
      "  warnings.warn(\n",
      "/Users/johannessolibieda/Library/Python/3.9/lib/python/site-packages/sklearn/linear_model/_stochastic_gradient.py:1616: ConvergenceWarning: Maximum number of iteration reached before convergence. Consider increasing max_iter to improve the fit.\n",
      "  warnings.warn(\n",
      "/Users/johannessolibieda/Library/Python/3.9/lib/python/site-packages/sklearn/linear_model/_stochastic_gradient.py:1616: ConvergenceWarning: Maximum number of iteration reached before convergence. Consider increasing max_iter to improve the fit.\n",
      "  warnings.warn(\n"
     ]
    },
    {
     "name": "stdout",
     "output_type": "stream",
     "text": [
      "[CV] END alpha=0.0001, eta0=1, learning_rate=adaptive, penalty=l2; total time=  15.8s\n",
      "[CV] END alpha=0.0001, eta0=1, learning_rate=adaptive, penalty=l2; total time=  15.9s\n",
      "[CV] END alpha=0.0001, eta0=1, learning_rate=adaptive, penalty=l2; total time=  16.0s\n"
     ]
    },
    {
     "name": "stderr",
     "output_type": "stream",
     "text": [
      "/Users/johannessolibieda/Library/Python/3.9/lib/python/site-packages/sklearn/linear_model/_stochastic_gradient.py:1616: ConvergenceWarning: Maximum number of iteration reached before convergence. Consider increasing max_iter to improve the fit.\n",
      "  warnings.warn(\n"
     ]
    },
    {
     "name": "stdout",
     "output_type": "stream",
     "text": [
      "[CV] END alpha=0.0001, eta0=1, learning_rate=adaptive, penalty=l2; total time=  15.7s\n"
     ]
    },
    {
     "name": "stderr",
     "output_type": "stream",
     "text": [
      "/Users/johannessolibieda/Library/Python/3.9/lib/python/site-packages/sklearn/linear_model/_stochastic_gradient.py:1616: ConvergenceWarning: Maximum number of iteration reached before convergence. Consider increasing max_iter to improve the fit.\n",
      "  warnings.warn(\n",
      "/Users/johannessolibieda/Library/Python/3.9/lib/python/site-packages/sklearn/linear_model/_stochastic_gradient.py:1616: ConvergenceWarning: Maximum number of iteration reached before convergence. Consider increasing max_iter to improve the fit.\n",
      "  warnings.warn(\n"
     ]
    },
    {
     "name": "stdout",
     "output_type": "stream",
     "text": [
      "[CV] END alpha=0.0001, eta0=1, learning_rate=adaptive, penalty=l1; total time=  23.4s\n",
      "[CV] END alpha=0.0001, eta0=1, learning_rate=adaptive, penalty=l1; total time=  23.2s\n"
     ]
    },
    {
     "name": "stderr",
     "output_type": "stream",
     "text": [
      "/Users/johannessolibieda/Library/Python/3.9/lib/python/site-packages/sklearn/linear_model/_stochastic_gradient.py:1616: ConvergenceWarning: Maximum number of iteration reached before convergence. Consider increasing max_iter to improve the fit.\n",
      "  warnings.warn(\n"
     ]
    },
    {
     "name": "stdout",
     "output_type": "stream",
     "text": [
      "[CV] END alpha=0.0001, eta0=1, learning_rate=adaptive, penalty=l1; total time=  23.4s\n"
     ]
    },
    {
     "name": "stderr",
     "output_type": "stream",
     "text": [
      "/Users/johannessolibieda/Library/Python/3.9/lib/python/site-packages/sklearn/linear_model/_stochastic_gradient.py:1616: ConvergenceWarning: Maximum number of iteration reached before convergence. Consider increasing max_iter to improve the fit.\n",
      "  warnings.warn(\n"
     ]
    },
    {
     "name": "stdout",
     "output_type": "stream",
     "text": [
      "[CV] END alpha=0.0001, eta0=1, learning_rate=adaptive, penalty=l1; total time=  23.0s\n"
     ]
    },
    {
     "name": "stderr",
     "output_type": "stream",
     "text": [
      "/Users/johannessolibieda/Library/Python/3.9/lib/python/site-packages/sklearn/linear_model/_stochastic_gradient.py:1616: ConvergenceWarning: Maximum number of iteration reached before convergence. Consider increasing max_iter to improve the fit.\n",
      "  warnings.warn(\n",
      "/Users/johannessolibieda/Library/Python/3.9/lib/python/site-packages/sklearn/linear_model/_stochastic_gradient.py:1616: ConvergenceWarning: Maximum number of iteration reached before convergence. Consider increasing max_iter to improve the fit.\n",
      "  warnings.warn(\n"
     ]
    },
    {
     "name": "stdout",
     "output_type": "stream",
     "text": [
      "[CV] END alpha=0.0001, eta0=1, learning_rate=adaptive, penalty=elasticnet; total time=  23.1s\n",
      "[CV] END alpha=0.0001, eta0=1, learning_rate=adaptive, penalty=l1; total time=  23.2s\n"
     ]
    },
    {
     "name": "stderr",
     "output_type": "stream",
     "text": [
      "/Users/johannessolibieda/Library/Python/3.9/lib/python/site-packages/sklearn/linear_model/_stochastic_gradient.py:1616: ConvergenceWarning: Maximum number of iteration reached before convergence. Consider increasing max_iter to improve the fit.\n",
      "  warnings.warn(\n"
     ]
    },
    {
     "name": "stdout",
     "output_type": "stream",
     "text": [
      "[CV] END alpha=0.0001, eta0=1, learning_rate=adaptive, penalty=elasticnet; total time=  23.2s\n"
     ]
    },
    {
     "name": "stderr",
     "output_type": "stream",
     "text": [
      "/Users/johannessolibieda/Library/Python/3.9/lib/python/site-packages/sklearn/linear_model/_stochastic_gradient.py:1616: ConvergenceWarning: Maximum number of iteration reached before convergence. Consider increasing max_iter to improve the fit.\n",
      "  warnings.warn(\n"
     ]
    },
    {
     "name": "stdout",
     "output_type": "stream",
     "text": [
      "[CV] END alpha=0.0001, eta0=1, learning_rate=adaptive, penalty=elasticnet; total time=  23.2s\n",
      "[CV] END alpha=0.001, eta0=0.001, learning_rate=constant, penalty=l2; total time=   0.1s\n",
      "[CV] END alpha=0.001, eta0=0.001, learning_rate=constant, penalty=l2; total time=   0.1s\n",
      "[CV] END alpha=0.001, eta0=0.001, learning_rate=constant, penalty=l2; total time=   0.1s\n",
      "[CV] END alpha=0.001, eta0=0.001, learning_rate=constant, penalty=l2; total time=   0.1s\n",
      "[CV] END alpha=0.001, eta0=0.001, learning_rate=constant, penalty=l2; total time=   0.1s\n",
      "[CV] END alpha=0.001, eta0=0.001, learning_rate=constant, penalty=l1; total time=   0.2s\n",
      "[CV] END alpha=0.001, eta0=0.001, learning_rate=constant, penalty=l1; total time=   0.2s\n",
      "[CV] END alpha=0.001, eta0=0.001, learning_rate=constant, penalty=l1; total time=   0.1s\n",
      "[CV] END alpha=0.001, eta0=0.001, learning_rate=constant, penalty=l1; total time=   0.2s\n",
      "[CV] END alpha=0.001, eta0=0.001, learning_rate=constant, penalty=l1; total time=   0.2s\n",
      "[CV] END alpha=0.001, eta0=0.001, learning_rate=constant, penalty=elasticnet; total time=   0.2s\n",
      "[CV] END alpha=0.001, eta0=0.001, learning_rate=constant, penalty=elasticnet; total time=   0.2s\n",
      "[CV] END alpha=0.001, eta0=0.001, learning_rate=constant, penalty=elasticnet; total time=   0.2s\n",
      "[CV] END alpha=0.0001, eta0=1, learning_rate=adaptive, penalty=None; total time=   3.0s\n"
     ]
    },
    {
     "name": "stderr",
     "output_type": "stream",
     "text": [
      "/Users/johannessolibieda/Library/Python/3.9/lib/python/site-packages/sklearn/linear_model/_stochastic_gradient.py:1616: ConvergenceWarning: Maximum number of iteration reached before convergence. Consider increasing max_iter to improve the fit.\n",
      "  warnings.warn(\n"
     ]
    },
    {
     "name": "stdout",
     "output_type": "stream",
     "text": [
      "[CV] END alpha=0.0001, eta0=1, learning_rate=adaptive, penalty=None; total time=  15.9s\n",
      "[CV] END alpha=0.001, eta0=0.001, learning_rate=constant, penalty=elasticnet; total time=   0.1s\n",
      "[CV] END alpha=0.001, eta0=0.001, learning_rate=constant, penalty=elasticnet; total time=   0.2s\n",
      "[CV] END alpha=0.001, eta0=0.001, learning_rate=constant, penalty=None; total time=   0.1s\n",
      "[CV] END alpha=0.001, eta0=0.001, learning_rate=constant, penalty=None; total time=   0.1s\n",
      "[CV] END alpha=0.001, eta0=0.001, learning_rate=constant, penalty=None; total time=   0.1s\n",
      "[CV] END alpha=0.001, eta0=0.001, learning_rate=constant, penalty=None; total time=   0.1s\n",
      "[CV] END alpha=0.001, eta0=0.001, learning_rate=constant, penalty=None; total time=   0.1s\n",
      "[CV] END alpha=0.001, eta0=0.001, learning_rate=optimal, penalty=l2; total time=   0.4s\n",
      "[CV] END alpha=0.001, eta0=0.001, learning_rate=optimal, penalty=l2; total time=   0.5s\n",
      "[CV] END alpha=0.001, eta0=0.001, learning_rate=optimal, penalty=l2; total time=   0.8s\n",
      "[CV] END alpha=0.001, eta0=0.001, learning_rate=optimal, penalty=l2; total time=   0.5s\n",
      "[CV] END alpha=0.001, eta0=0.001, learning_rate=optimal, penalty=l2; total time=   0.7s\n",
      "[CV] END alpha=0.001, eta0=0.001, learning_rate=optimal, penalty=l1; total time=   0.8s\n",
      "[CV] END alpha=0.001, eta0=0.001, learning_rate=optimal, penalty=l1; total time=   0.8s\n",
      "[CV] END alpha=0.001, eta0=0.001, learning_rate=optimal, penalty=l1; total time=   1.9s\n",
      "[CV] END alpha=0.001, eta0=0.001, learning_rate=optimal, penalty=elasticnet; total time=   1.2s\n",
      "[CV] END alpha=0.001, eta0=0.001, learning_rate=optimal, penalty=l1; total time=   3.1s\n",
      "[CV] END alpha=0.001, eta0=0.001, learning_rate=optimal, penalty=elasticnet; total time=   1.5s\n",
      "[CV] END alpha=0.001, eta0=0.001, learning_rate=optimal, penalty=elasticnet; total time=   0.9s\n",
      "[CV] END alpha=0.001, eta0=0.001, learning_rate=optimal, penalty=elasticnet; total time=   1.1s\n",
      "[CV] END alpha=0.0001, eta0=1, learning_rate=adaptive, penalty=elasticnet; total time=  23.3s\n",
      "[CV] END alpha=0.001, eta0=0.001, learning_rate=optimal, penalty=None; total time=   0.1s\n",
      "[CV] END alpha=0.0001, eta0=1, learning_rate=adaptive, penalty=elasticnet; total time=  23.6s\n"
     ]
    },
    {
     "name": "stderr",
     "output_type": "stream",
     "text": [
      "/Users/johannessolibieda/Library/Python/3.9/lib/python/site-packages/sklearn/linear_model/_stochastic_gradient.py:1616: ConvergenceWarning: Maximum number of iteration reached before convergence. Consider increasing max_iter to improve the fit.\n",
      "  warnings.warn(\n",
      "/Users/johannessolibieda/Library/Python/3.9/lib/python/site-packages/sklearn/linear_model/_stochastic_gradient.py:1616: ConvergenceWarning: Maximum number of iteration reached before convergence. Consider increasing max_iter to improve the fit.\n",
      "  warnings.warn(\n"
     ]
    },
    {
     "name": "stdout",
     "output_type": "stream",
     "text": [
      "[CV] END alpha=0.001, eta0=0.001, learning_rate=optimal, penalty=None; total time=   0.6s\n",
      "[CV] END alpha=0.001, eta0=0.001, learning_rate=optimal, penalty=None; total time=   0.7s\n",
      "[CV] END alpha=0.001, eta0=0.001, learning_rate=invscaling, penalty=l2; total time=   0.2s\n",
      "[CV] END alpha=0.001, eta0=0.001, learning_rate=optimal, penalty=elasticnet; total time=   1.1s\n",
      "[CV] END alpha=0.001, eta0=0.001, learning_rate=invscaling, penalty=l2; total time=   0.1s\n",
      "[CV] END alpha=0.001, eta0=0.001, learning_rate=invscaling, penalty=l2; total time=   0.1s\n",
      "[CV] END alpha=0.001, eta0=0.001, learning_rate=optimal, penalty=None; total time=   0.6s\n",
      "[CV] END alpha=0.001, eta0=0.001, learning_rate=invscaling, penalty=l2; total time=   0.2s\n",
      "[CV] END alpha=0.001, eta0=0.001, learning_rate=invscaling, penalty=l1; total time=   0.2s\n",
      "[CV] END alpha=0.001, eta0=0.001, learning_rate=invscaling, penalty=l2; total time=   0.4s\n",
      "[CV] END alpha=0.001, eta0=0.001, learning_rate=invscaling, penalty=l1; total time=   0.2s\n",
      "[CV] END alpha=0.001, eta0=0.001, learning_rate=invscaling, penalty=l1; total time=   0.2s\n",
      "[CV] END alpha=0.001, eta0=0.001, learning_rate=invscaling, penalty=l1; total time=   0.2s\n",
      "[CV] END alpha=0.001, eta0=0.001, learning_rate=invscaling, penalty=elasticnet; total time=   0.2s\n",
      "[CV] END alpha=0.001, eta0=0.001, learning_rate=invscaling, penalty=elasticnet; total time=   0.2s\n",
      "[CV] END alpha=0.001, eta0=0.001, learning_rate=invscaling, penalty=elasticnet; total time=   0.2s\n",
      "[CV] END alpha=0.001, eta0=0.001, learning_rate=invscaling, penalty=l1; total time=   0.8s\n",
      "[CV] END alpha=0.001, eta0=0.001, learning_rate=invscaling, penalty=elasticnet; total time=   0.2s\n",
      "[CV] END alpha=0.001, eta0=0.001, learning_rate=invscaling, penalty=None; total time=   0.2s\n",
      "[CV] END alpha=0.001, eta0=0.001, learning_rate=invscaling, penalty=None; total time=   0.1s\n",
      "[CV] END alpha=0.001, eta0=0.001, learning_rate=invscaling, penalty=None; total time=   0.1s\n",
      "[CV] END alpha=0.001, eta0=0.001, learning_rate=invscaling, penalty=None; total time=   0.1s\n",
      "[CV] END alpha=0.001, eta0=0.001, learning_rate=invscaling, penalty=elasticnet; total time=   0.9s\n",
      "[CV] END alpha=0.001, eta0=0.001, learning_rate=invscaling, penalty=None; total time=   0.4s\n",
      "[CV] END alpha=0.001, eta0=0.001, learning_rate=adaptive, penalty=l2; total time=   0.6s\n",
      "[CV] END alpha=0.001, eta0=0.001, learning_rate=adaptive, penalty=l2; total time=   0.5s\n",
      "[CV] END alpha=0.001, eta0=0.001, learning_rate=adaptive, penalty=l2; total time=   0.6s\n",
      "[CV] END alpha=0.001, eta0=0.001, learning_rate=adaptive, penalty=l2; total time=   0.5s\n",
      "[CV] END alpha=0.001, eta0=0.001, learning_rate=adaptive, penalty=l2; total time=   0.6s\n",
      "[CV] END alpha=0.001, eta0=0.001, learning_rate=optimal, penalty=l1; total time=   9.7s\n",
      "[CV] END alpha=0.001, eta0=0.001, learning_rate=adaptive, penalty=l1; total time=   0.8s\n",
      "[CV] END alpha=0.001, eta0=0.001, learning_rate=adaptive, penalty=l1; total time=   0.7s\n",
      "[CV] END alpha=0.001, eta0=0.001, learning_rate=adaptive, penalty=l1; total time=   0.8s\n",
      "[CV] END alpha=0.001, eta0=0.001, learning_rate=adaptive, penalty=l1; total time=   0.8s\n",
      "[CV] END alpha=0.001, eta0=0.001, learning_rate=adaptive, penalty=l1; total time=   0.8s\n",
      "[CV] END alpha=0.0001, eta0=1, learning_rate=adaptive, penalty=None; total time=  15.8s\n"
     ]
    },
    {
     "name": "stderr",
     "output_type": "stream",
     "text": [
      "/Users/johannessolibieda/Library/Python/3.9/lib/python/site-packages/sklearn/linear_model/_stochastic_gradient.py:1616: ConvergenceWarning: Maximum number of iteration reached before convergence. Consider increasing max_iter to improve the fit.\n",
      "  warnings.warn(\n"
     ]
    },
    {
     "name": "stdout",
     "output_type": "stream",
     "text": [
      "[CV] END alpha=0.001, eta0=0.001, learning_rate=adaptive, penalty=elasticnet; total time=   0.7s\n",
      "[CV] END alpha=0.001, eta0=0.001, learning_rate=adaptive, penalty=elasticnet; total time=   0.8s\n"
     ]
    },
    {
     "name": "stderr",
     "output_type": "stream",
     "text": [
      "/Users/johannessolibieda/Library/Python/3.9/lib/python/site-packages/sklearn/linear_model/_stochastic_gradient.py:1616: ConvergenceWarning: Maximum number of iteration reached before convergence. Consider increasing max_iter to improve the fit.\n",
      "  warnings.warn(\n"
     ]
    },
    {
     "name": "stdout",
     "output_type": "stream",
     "text": [
      "[CV] END alpha=0.0001, eta0=1, learning_rate=adaptive, penalty=None; total time=  15.7s\n",
      "[CV] END alpha=0.001, eta0=0.001, learning_rate=adaptive, penalty=elasticnet; total time=   0.7s\n",
      "[CV] END alpha=0.001, eta0=0.001, learning_rate=adaptive, penalty=elasticnet; total time=   0.7s\n"
     ]
    },
    {
     "name": "stderr",
     "output_type": "stream",
     "text": [
      "/Users/johannessolibieda/Library/Python/3.9/lib/python/site-packages/sklearn/linear_model/_stochastic_gradient.py:1616: ConvergenceWarning: Maximum number of iteration reached before convergence. Consider increasing max_iter to improve the fit.\n",
      "  warnings.warn(\n"
     ]
    },
    {
     "name": "stdout",
     "output_type": "stream",
     "text": [
      "[CV] END alpha=0.0001, eta0=1, learning_rate=adaptive, penalty=None; total time=  15.6s\n",
      "[CV] END alpha=0.001, eta0=0.001, learning_rate=adaptive, penalty=None; total time=   0.5s\n",
      "[CV] END alpha=0.001, eta0=0.001, learning_rate=adaptive, penalty=elasticnet; total time=   0.8s\n",
      "[CV] END alpha=0.001, eta0=0.001, learning_rate=adaptive, penalty=None; total time=   0.5s\n",
      "[CV] END alpha=0.001, eta0=0.01, learning_rate=constant, penalty=l2; total time=   0.2s\n",
      "[CV] END alpha=0.001, eta0=0.01, learning_rate=constant, penalty=l2; total time=   0.1s\n",
      "[CV] END alpha=0.001, eta0=0.01, learning_rate=constant, penalty=l2; total time=   0.1s\n",
      "[CV] END alpha=0.001, eta0=0.001, learning_rate=adaptive, penalty=None; total time=   0.6s\n",
      "[CV] END alpha=0.001, eta0=0.01, learning_rate=constant, penalty=l2; total time=   0.3s\n",
      "[CV] END alpha=0.001, eta0=0.01, learning_rate=constant, penalty=l1; total time=   0.3s\n",
      "[CV] END alpha=0.001, eta0=0.01, learning_rate=constant, penalty=l1; total time=   0.3s\n",
      "[CV] END alpha=0.001, eta0=0.001, learning_rate=adaptive, penalty=None; total time=   0.6s\n",
      "[CV] END alpha=0.001, eta0=0.001, learning_rate=adaptive, penalty=None; total time=   0.6s\n",
      "[CV] END alpha=0.001, eta0=0.01, learning_rate=constant, penalty=l2; total time=   0.4s\n",
      "[CV] END alpha=0.001, eta0=0.01, learning_rate=constant, penalty=l1; total time=   0.2s\n",
      "[CV] END alpha=0.001, eta0=0.01, learning_rate=constant, penalty=l1; total time=   0.3s\n",
      "[CV] END alpha=0.001, eta0=0.01, learning_rate=constant, penalty=elasticnet; total time=   0.2s\n",
      "[CV] END alpha=0.001, eta0=0.01, learning_rate=constant, penalty=elasticnet; total time=   0.2s\n",
      "[CV] END alpha=0.001, eta0=0.01, learning_rate=constant, penalty=elasticnet; total time=   0.2s\n",
      "[CV] END alpha=0.001, eta0=0.01, learning_rate=constant, penalty=None; total time=   0.1s\n",
      "[CV] END alpha=0.001, eta0=0.01, learning_rate=constant, penalty=elasticnet; total time=   0.2s\n",
      "[CV] END alpha=0.001, eta0=0.01, learning_rate=constant, penalty=None; total time=   0.1s\n",
      "[CV] END alpha=0.001, eta0=0.01, learning_rate=constant, penalty=None; total time=   0.1s\n",
      "[CV] END alpha=0.001, eta0=0.01, learning_rate=constant, penalty=l1; total time=   0.4s\n",
      "[CV] END alpha=0.001, eta0=0.01, learning_rate=constant, penalty=None; total time=   0.1s\n",
      "[CV] END alpha=0.001, eta0=0.01, learning_rate=constant, penalty=None; total time=   0.2s\n",
      "[CV] END alpha=0.001, eta0=0.01, learning_rate=constant, penalty=elasticnet; total time=   0.5s\n",
      "[CV] END alpha=0.001, eta0=0.01, learning_rate=optimal, penalty=l2; total time=   0.4s\n",
      "[CV] END alpha=0.001, eta0=0.01, learning_rate=optimal, penalty=l2; total time=   0.5s\n",
      "[CV] END alpha=0.001, eta0=0.01, learning_rate=optimal, penalty=l2; total time=   0.6s\n",
      "[CV] END alpha=0.001, eta0=0.01, learning_rate=optimal, penalty=l2; total time=   0.6s\n",
      "[CV] END alpha=0.001, eta0=0.01, learning_rate=optimal, penalty=l2; total time=   0.7s\n",
      "[CV] END alpha=0.001, eta0=0.01, learning_rate=optimal, penalty=elasticnet; total time=   0.8s\n",
      "[CV] END alpha=0.001, eta0=0.01, learning_rate=optimal, penalty=elasticnet; total time=   0.8s\n",
      "[CV] END alpha=0.001, eta0=0.01, learning_rate=optimal, penalty=l1; total time=   1.5s\n",
      "[CV] END alpha=0.001, eta0=0.01, learning_rate=optimal, penalty=l1; total time=   1.3s\n",
      "[CV] END alpha=0.001, eta0=0.01, learning_rate=optimal, penalty=l1; total time=   1.7s\n",
      "[CV] END alpha=0.001, eta0=0.01, learning_rate=optimal, penalty=l1; total time=   1.3s\n",
      "[CV] END alpha=0.001, eta0=0.01, learning_rate=optimal, penalty=l1; total time=   1.4s\n",
      "[CV] END alpha=0.001, eta0=0.01, learning_rate=optimal, penalty=None; total time=   0.6s\n",
      "[CV] END alpha=0.001, eta0=0.01, learning_rate=optimal, penalty=None; total time=   0.4s\n",
      "[CV] END alpha=0.001, eta0=0.01, learning_rate=optimal, penalty=elasticnet; total time=   0.9s\n",
      "[CV] END alpha=0.001, eta0=0.01, learning_rate=optimal, penalty=elasticnet; total time=   1.0s\n",
      "[CV] END alpha=0.001, eta0=0.01, learning_rate=invscaling, penalty=l2; total time=   0.1s\n",
      "[CV] END alpha=0.001, eta0=0.01, learning_rate=optimal, penalty=None; total time=   0.6s\n",
      "[CV] END alpha=0.001, eta0=0.01, learning_rate=invscaling, penalty=l2; total time=   0.1s\n",
      "[CV] END alpha=0.001, eta0=0.01, learning_rate=invscaling, penalty=l2; total time=   0.1s\n",
      "[CV] END alpha=0.001, eta0=0.01, learning_rate=invscaling, penalty=l2; total time=   0.1s\n",
      "[CV] END alpha=0.001, eta0=0.01, learning_rate=invscaling, penalty=l2; total time=   0.1s\n",
      "[CV] END alpha=0.001, eta0=0.01, learning_rate=invscaling, penalty=l1; total time=   0.2s\n",
      "[CV] END alpha=0.001, eta0=0.01, learning_rate=invscaling, penalty=l1; total time=   0.1s\n",
      "[CV] END alpha=0.001, eta0=0.01, learning_rate=invscaling, penalty=l1; total time=   0.2s\n",
      "[CV] END alpha=0.001, eta0=0.01, learning_rate=invscaling, penalty=l1; total time=   0.2s\n",
      "[CV] END alpha=0.001, eta0=0.01, learning_rate=invscaling, penalty=l1; total time=   0.2s\n",
      "[CV] END alpha=0.001, eta0=0.01, learning_rate=invscaling, penalty=elasticnet; total time=   0.2s\n",
      "[CV] END alpha=0.001, eta0=0.01, learning_rate=invscaling, penalty=elasticnet; total time=   0.2s\n",
      "[CV] END alpha=0.001, eta0=0.01, learning_rate=invscaling, penalty=elasticnet; total time=   0.2s\n",
      "[CV] END alpha=0.001, eta0=0.01, learning_rate=invscaling, penalty=elasticnet; total time=   0.2s\n",
      "[CV] END alpha=0.001, eta0=0.01, learning_rate=optimal, penalty=elasticnet; total time=   1.4s\n",
      "[CV] END alpha=0.001, eta0=0.01, learning_rate=invscaling, penalty=elasticnet; total time=   0.2s\n",
      "[CV] END alpha=0.001, eta0=0.01, learning_rate=invscaling, penalty=None; total time=   0.1s\n",
      "[CV] END alpha=0.001, eta0=0.01, learning_rate=invscaling, penalty=None; total time=   0.1s\n",
      "[CV] END alpha=0.001, eta0=0.01, learning_rate=invscaling, penalty=None; total time=   0.1s\n",
      "[CV] END alpha=0.001, eta0=0.01, learning_rate=invscaling, penalty=None; total time=   0.1s\n",
      "[CV] END alpha=0.001, eta0=0.01, learning_rate=invscaling, penalty=None; total time=   0.1s\n",
      "[CV] END alpha=0.001, eta0=0.01, learning_rate=optimal, penalty=None; total time=   1.0s\n",
      "[CV] END alpha=0.001, eta0=0.001, learning_rate=optimal, penalty=None; total time=  10.3s\n",
      "[CV] END alpha=0.001, eta0=0.01, learning_rate=optimal, penalty=None; total time=   6.7s\n"
     ]
    },
    {
     "name": "stderr",
     "output_type": "stream",
     "text": [
      "/Users/johannessolibieda/Library/Python/3.9/lib/python/site-packages/sklearn/linear_model/_stochastic_gradient.py:1616: ConvergenceWarning: Maximum number of iteration reached before convergence. Consider increasing max_iter to improve the fit.\n",
      "  warnings.warn(\n",
      "/Users/johannessolibieda/Library/Python/3.9/lib/python/site-packages/sklearn/linear_model/_stochastic_gradient.py:1616: ConvergenceWarning: Maximum number of iteration reached before convergence. Consider increasing max_iter to improve the fit.\n",
      "  warnings.warn(\n"
     ]
    },
    {
     "name": "stdout",
     "output_type": "stream",
     "text": [
      "[CV] END alpha=0.001, eta0=0.01, learning_rate=adaptive, penalty=l2; total time=  16.2s\n",
      "[CV] END alpha=0.001, eta0=0.01, learning_rate=adaptive, penalty=l2; total time=  16.3s\n"
     ]
    },
    {
     "name": "stderr",
     "output_type": "stream",
     "text": [
      "/Users/johannessolibieda/Library/Python/3.9/lib/python/site-packages/sklearn/linear_model/_stochastic_gradient.py:1616: ConvergenceWarning: Maximum number of iteration reached before convergence. Consider increasing max_iter to improve the fit.\n",
      "  warnings.warn(\n",
      "/Users/johannessolibieda/Library/Python/3.9/lib/python/site-packages/sklearn/linear_model/_stochastic_gradient.py:1616: ConvergenceWarning: Maximum number of iteration reached before convergence. Consider increasing max_iter to improve the fit.\n",
      "  warnings.warn(\n"
     ]
    },
    {
     "name": "stdout",
     "output_type": "stream",
     "text": [
      "[CV] END alpha=0.001, eta0=0.01, learning_rate=adaptive, penalty=l2; total time=  16.4s\n",
      "[CV] END alpha=0.001, eta0=0.01, learning_rate=adaptive, penalty=l2; total time=  16.5s\n"
     ]
    },
    {
     "name": "stderr",
     "output_type": "stream",
     "text": [
      "/Users/johannessolibieda/Library/Python/3.9/lib/python/site-packages/sklearn/linear_model/_stochastic_gradient.py:1616: ConvergenceWarning: Maximum number of iteration reached before convergence. Consider increasing max_iter to improve the fit.\n",
      "  warnings.warn(\n"
     ]
    },
    {
     "name": "stdout",
     "output_type": "stream",
     "text": [
      "[CV] END alpha=0.001, eta0=0.01, learning_rate=adaptive, penalty=l2; total time=  16.7s\n"
     ]
    },
    {
     "name": "stderr",
     "output_type": "stream",
     "text": [
      "/Users/johannessolibieda/Library/Python/3.9/lib/python/site-packages/sklearn/linear_model/_stochastic_gradient.py:1616: ConvergenceWarning: Maximum number of iteration reached before convergence. Consider increasing max_iter to improve the fit.\n",
      "  warnings.warn(\n"
     ]
    },
    {
     "name": "stdout",
     "output_type": "stream",
     "text": [
      "[CV] END alpha=0.001, eta0=0.01, learning_rate=adaptive, penalty=l1; total time=  25.2s\n"
     ]
    },
    {
     "name": "stderr",
     "output_type": "stream",
     "text": [
      "/Users/johannessolibieda/Library/Python/3.9/lib/python/site-packages/sklearn/linear_model/_stochastic_gradient.py:1616: ConvergenceWarning: Maximum number of iteration reached before convergence. Consider increasing max_iter to improve the fit.\n",
      "  warnings.warn(\n"
     ]
    },
    {
     "name": "stdout",
     "output_type": "stream",
     "text": [
      "[CV] END alpha=0.001, eta0=0.01, learning_rate=adaptive, penalty=l1; total time=  26.7s\n"
     ]
    },
    {
     "name": "stderr",
     "output_type": "stream",
     "text": [
      "/Users/johannessolibieda/Library/Python/3.9/lib/python/site-packages/sklearn/linear_model/_stochastic_gradient.py:1616: ConvergenceWarning: Maximum number of iteration reached before convergence. Consider increasing max_iter to improve the fit.\n",
      "  warnings.warn(\n"
     ]
    },
    {
     "name": "stdout",
     "output_type": "stream",
     "text": [
      "[CV] END alpha=0.001, eta0=0.01, learning_rate=adaptive, penalty=l1; total time=  26.9s\n"
     ]
    },
    {
     "name": "stderr",
     "output_type": "stream",
     "text": [
      "/Users/johannessolibieda/Library/Python/3.9/lib/python/site-packages/sklearn/linear_model/_stochastic_gradient.py:1616: ConvergenceWarning: Maximum number of iteration reached before convergence. Consider increasing max_iter to improve the fit.\n",
      "  warnings.warn(\n"
     ]
    },
    {
     "name": "stdout",
     "output_type": "stream",
     "text": [
      "[CV] END alpha=0.001, eta0=0.01, learning_rate=adaptive, penalty=l1; total time=  27.0s\n"
     ]
    },
    {
     "name": "stderr",
     "output_type": "stream",
     "text": [
      "/Users/johannessolibieda/Library/Python/3.9/lib/python/site-packages/sklearn/linear_model/_stochastic_gradient.py:1616: ConvergenceWarning: Maximum number of iteration reached before convergence. Consider increasing max_iter to improve the fit.\n",
      "  warnings.warn(\n"
     ]
    },
    {
     "name": "stdout",
     "output_type": "stream",
     "text": [
      "[CV] END alpha=0.001, eta0=0.01, learning_rate=adaptive, penalty=l1; total time=  27.7s\n"
     ]
    },
    {
     "name": "stderr",
     "output_type": "stream",
     "text": [
      "/Users/johannessolibieda/Library/Python/3.9/lib/python/site-packages/sklearn/linear_model/_stochastic_gradient.py:1616: ConvergenceWarning: Maximum number of iteration reached before convergence. Consider increasing max_iter to improve the fit.\n",
      "  warnings.warn(\n",
      "/Users/johannessolibieda/Library/Python/3.9/lib/python/site-packages/sklearn/linear_model/_stochastic_gradient.py:1616: ConvergenceWarning: Maximum number of iteration reached before convergence. Consider increasing max_iter to improve the fit.\n",
      "  warnings.warn(\n"
     ]
    },
    {
     "name": "stdout",
     "output_type": "stream",
     "text": [
      "[CV] END alpha=0.001, eta0=0.01, learning_rate=adaptive, penalty=elasticnet; total time=  27.8s\n",
      "[CV] END alpha=0.001, eta0=0.01, learning_rate=adaptive, penalty=elasticnet; total time=  28.0s\n"
     ]
    },
    {
     "name": "stderr",
     "output_type": "stream",
     "text": [
      "/Users/johannessolibieda/Library/Python/3.9/lib/python/site-packages/sklearn/linear_model/_stochastic_gradient.py:1616: ConvergenceWarning: Maximum number of iteration reached before convergence. Consider increasing max_iter to improve the fit.\n",
      "  warnings.warn(\n"
     ]
    },
    {
     "name": "stdout",
     "output_type": "stream",
     "text": [
      "[CV] END alpha=0.001, eta0=0.01, learning_rate=adaptive, penalty=elasticnet; total time=  28.1s\n",
      "[CV] END alpha=0.001, eta0=0.1, learning_rate=constant, penalty=l2; total time=   0.2s\n",
      "[CV] END alpha=0.001, eta0=0.1, learning_rate=constant, penalty=l2; total time=   0.1s\n",
      "[CV] END alpha=0.001, eta0=0.1, learning_rate=constant, penalty=l2; total time=   0.3s\n",
      "[CV] END alpha=0.001, eta0=0.1, learning_rate=constant, penalty=l2; total time=   0.3s\n",
      "[CV] END alpha=0.001, eta0=0.1, learning_rate=constant, penalty=l2; total time=   0.2s\n",
      "[CV] END alpha=0.001, eta0=0.1, learning_rate=constant, penalty=l1; total time=   0.6s\n",
      "[CV] END alpha=0.001, eta0=0.1, learning_rate=constant, penalty=l1; total time=   0.3s\n",
      "[CV] END alpha=0.001, eta0=0.1, learning_rate=constant, penalty=l1; total time=   0.7s\n",
      "[CV] END alpha=0.001, eta0=0.1, learning_rate=constant, penalty=l1; total time=   0.2s\n",
      "[CV] END alpha=0.001, eta0=0.1, learning_rate=constant, penalty=l1; total time=   0.3s\n",
      "[CV] END alpha=0.001, eta0=0.1, learning_rate=constant, penalty=elasticnet; total time=   0.4s\n",
      "[CV] END alpha=0.001, eta0=0.1, learning_rate=constant, penalty=elasticnet; total time=   0.6s\n",
      "[CV] END alpha=0.001, eta0=0.1, learning_rate=constant, penalty=elasticnet; total time=   0.2s\n",
      "[CV] END alpha=0.001, eta0=0.1, learning_rate=constant, penalty=elasticnet; total time=   0.3s\n",
      "[CV] END alpha=0.001, eta0=0.1, learning_rate=constant, penalty=elasticnet; total time=   0.2s\n",
      "[CV] END alpha=0.001, eta0=0.1, learning_rate=constant, penalty=None; total time=   0.1s\n",
      "[CV] END alpha=0.001, eta0=0.1, learning_rate=constant, penalty=None; total time=   0.3s\n",
      "[CV] END alpha=0.001, eta0=0.1, learning_rate=constant, penalty=None; total time=   0.1s\n",
      "[CV] END alpha=0.001, eta0=0.1, learning_rate=constant, penalty=None; total time=   0.2s\n",
      "[CV] END alpha=0.001, eta0=0.1, learning_rate=constant, penalty=None; total time=   0.2s\n"
     ]
    },
    {
     "name": "stderr",
     "output_type": "stream",
     "text": [
      "/Users/johannessolibieda/Library/Python/3.9/lib/python/site-packages/sklearn/linear_model/_stochastic_gradient.py:1616: ConvergenceWarning: Maximum number of iteration reached before convergence. Consider increasing max_iter to improve the fit.\n",
      "  warnings.warn(\n"
     ]
    },
    {
     "name": "stdout",
     "output_type": "stream",
     "text": [
      "[CV] END alpha=0.001, eta0=0.01, learning_rate=adaptive, penalty=None; total time=  18.6s\n",
      "[CV] END alpha=0.001, eta0=0.1, learning_rate=optimal, penalty=l2; total time=   1.0s\n",
      "[CV] END alpha=0.001, eta0=0.1, learning_rate=optimal, penalty=l2; total time=   0.9s\n"
     ]
    },
    {
     "name": "stderr",
     "output_type": "stream",
     "text": [
      "/Users/johannessolibieda/Library/Python/3.9/lib/python/site-packages/sklearn/linear_model/_stochastic_gradient.py:1616: ConvergenceWarning: Maximum number of iteration reached before convergence. Consider increasing max_iter to improve the fit.\n",
      "  warnings.warn(\n"
     ]
    },
    {
     "name": "stdout",
     "output_type": "stream",
     "text": [
      "[CV] END alpha=0.001, eta0=0.01, learning_rate=adaptive, penalty=elasticnet; total time=  26.8s\n",
      "[CV] END alpha=0.001, eta0=0.1, learning_rate=optimal, penalty=l2; total time=   0.6s\n",
      "[CV] END alpha=0.001, eta0=0.1, learning_rate=optimal, penalty=l2; total time=   0.6s\n",
      "[CV] END alpha=0.001, eta0=0.1, learning_rate=optimal, penalty=l2; total time=   1.0s\n"
     ]
    },
    {
     "name": "stderr",
     "output_type": "stream",
     "text": [
      "/Users/johannessolibieda/Library/Python/3.9/lib/python/site-packages/sklearn/linear_model/_stochastic_gradient.py:1616: ConvergenceWarning: Maximum number of iteration reached before convergence. Consider increasing max_iter to improve the fit.\n",
      "  warnings.warn(\n"
     ]
    },
    {
     "name": "stdout",
     "output_type": "stream",
     "text": [
      "[CV] END alpha=0.001, eta0=0.01, learning_rate=adaptive, penalty=elasticnet; total time=  26.3s\n",
      "[CV] END alpha=0.001, eta0=0.1, learning_rate=optimal, penalty=l1; total time=   1.6s\n",
      "[CV] END alpha=0.001, eta0=0.1, learning_rate=optimal, penalty=l1; total time=   1.9s\n",
      "[CV] END alpha=0.001, eta0=0.1, learning_rate=optimal, penalty=elasticnet; total time=   1.3s\n",
      "[CV] END alpha=0.001, eta0=0.1, learning_rate=optimal, penalty=elasticnet; total time=   1.1s\n",
      "[CV] END alpha=0.001, eta0=0.1, learning_rate=optimal, penalty=l1; total time=   4.5s\n",
      "[CV] END alpha=0.001, eta0=0.1, learning_rate=optimal, penalty=elasticnet; total time=   1.3s\n",
      "[CV] END alpha=0.001, eta0=0.1, learning_rate=optimal, penalty=elasticnet; total time=   1.4s\n",
      "[CV] END alpha=0.001, eta0=0.1, learning_rate=optimal, penalty=l1; total time=   6.5s\n",
      "[CV] END alpha=0.001, eta0=0.1, learning_rate=optimal, penalty=None; total time=   0.1s\n",
      "[CV] END alpha=0.001, eta0=0.1, learning_rate=optimal, penalty=None; total time=   0.1s\n",
      "[CV] END alpha=0.001, eta0=0.1, learning_rate=optimal, penalty=elasticnet; total time=   1.7s\n",
      "[CV] END alpha=0.001, eta0=0.1, learning_rate=optimal, penalty=None; total time=   0.8s\n",
      "[CV] END alpha=0.001, eta0=0.1, learning_rate=invscaling, penalty=l2; total time=   0.3s\n",
      "[CV] END alpha=0.001, eta0=0.1, learning_rate=invscaling, penalty=l2; total time=   0.6s\n",
      "[CV] END alpha=0.001, eta0=0.1, learning_rate=invscaling, penalty=l2; total time=   0.6s\n",
      "[CV] END alpha=0.001, eta0=0.1, learning_rate=invscaling, penalty=l2; total time=   0.4s\n"
     ]
    },
    {
     "name": "stderr",
     "output_type": "stream",
     "text": [
      "/Users/johannessolibieda/Library/Python/3.9/lib/python/site-packages/sklearn/linear_model/_stochastic_gradient.py:1616: ConvergenceWarning: Maximum number of iteration reached before convergence. Consider increasing max_iter to improve the fit.\n",
      "  warnings.warn(\n"
     ]
    },
    {
     "name": "stdout",
     "output_type": "stream",
     "text": [
      "[CV] END alpha=0.001, eta0=0.01, learning_rate=adaptive, penalty=None; total time=  19.5s\n",
      "[CV] END alpha=0.001, eta0=0.1, learning_rate=invscaling, penalty=l2; total time=   0.4s\n",
      "[CV] END alpha=0.001, eta0=0.1, learning_rate=invscaling, penalty=l1; total time=   0.4s\n",
      "[CV] END alpha=0.001, eta0=0.1, learning_rate=invscaling, penalty=l1; total time=   0.8s\n",
      "[CV] END alpha=0.001, eta0=0.01, learning_rate=adaptive, penalty=None; total time=  19.8s\n"
     ]
    },
    {
     "name": "stderr",
     "output_type": "stream",
     "text": [
      "/Users/johannessolibieda/Library/Python/3.9/lib/python/site-packages/sklearn/linear_model/_stochastic_gradient.py:1616: ConvergenceWarning: Maximum number of iteration reached before convergence. Consider increasing max_iter to improve the fit.\n",
      "  warnings.warn(\n"
     ]
    },
    {
     "name": "stdout",
     "output_type": "stream",
     "text": [
      "[CV] END alpha=0.001, eta0=0.1, learning_rate=invscaling, penalty=l1; total time=   0.5s\n",
      "[CV] END alpha=0.001, eta0=0.01, learning_rate=adaptive, penalty=None; total time=  19.8s\n",
      "[CV] END alpha=0.001, eta0=0.1, learning_rate=invscaling, penalty=l1; total time=   0.6s\n",
      "[CV] END alpha=0.001, eta0=0.1, learning_rate=invscaling, penalty=l1; total time=   1.1s\n"
     ]
    },
    {
     "name": "stderr",
     "output_type": "stream",
     "text": [
      "/Users/johannessolibieda/Library/Python/3.9/lib/python/site-packages/sklearn/linear_model/_stochastic_gradient.py:1616: ConvergenceWarning: Maximum number of iteration reached before convergence. Consider increasing max_iter to improve the fit.\n",
      "  warnings.warn(\n"
     ]
    },
    {
     "name": "stdout",
     "output_type": "stream",
     "text": [
      "[CV] END alpha=0.001, eta0=0.1, learning_rate=invscaling, penalty=elasticnet; total time=   0.5s\n",
      "[CV] END alpha=0.001, eta0=0.01, learning_rate=adaptive, penalty=None; total time=  20.2s\n"
     ]
    },
    {
     "name": "stderr",
     "output_type": "stream",
     "text": [
      "/Users/johannessolibieda/Library/Python/3.9/lib/python/site-packages/sklearn/linear_model/_stochastic_gradient.py:1616: ConvergenceWarning: Maximum number of iteration reached before convergence. Consider increasing max_iter to improve the fit.\n",
      "  warnings.warn(\n"
     ]
    },
    {
     "name": "stdout",
     "output_type": "stream",
     "text": [
      "[CV] END alpha=0.001, eta0=0.1, learning_rate=invscaling, penalty=elasticnet; total time=   0.7s\n",
      "[CV] END alpha=0.001, eta0=0.1, learning_rate=invscaling, penalty=elasticnet; total time=   0.8s\n",
      "[CV] END alpha=0.001, eta0=0.1, learning_rate=invscaling, penalty=None; total time=   0.5s\n",
      "[CV] END alpha=0.001, eta0=0.1, learning_rate=invscaling, penalty=None; total time=   0.4s\n",
      "[CV] END alpha=0.001, eta0=0.1, learning_rate=invscaling, penalty=elasticnet; total time=   1.0s\n",
      "[CV] END alpha=0.001, eta0=0.1, learning_rate=invscaling, penalty=None; total time=   0.3s\n",
      "[CV] END alpha=0.001, eta0=0.1, learning_rate=invscaling, penalty=None; total time=   0.4s\n",
      "[CV] END alpha=0.001, eta0=0.1, learning_rate=invscaling, penalty=None; total time=   0.6s\n",
      "[CV] END alpha=0.001, eta0=0.1, learning_rate=invscaling, penalty=elasticnet; total time=   1.5s\n"
     ]
    },
    {
     "name": "stderr",
     "output_type": "stream",
     "text": [
      "/Users/johannessolibieda/Library/Python/3.9/lib/python/site-packages/sklearn/linear_model/_stochastic_gradient.py:1616: ConvergenceWarning: Maximum number of iteration reached before convergence. Consider increasing max_iter to improve the fit.\n",
      "  warnings.warn(\n"
     ]
    },
    {
     "name": "stdout",
     "output_type": "stream",
     "text": [
      "[CV] END alpha=0.001, eta0=0.1, learning_rate=optimal, penalty=None; total time=  19.3s\n"
     ]
    },
    {
     "name": "stderr",
     "output_type": "stream",
     "text": [
      "/Users/johannessolibieda/Library/Python/3.9/lib/python/site-packages/sklearn/linear_model/_stochastic_gradient.py:1616: ConvergenceWarning: Maximum number of iteration reached before convergence. Consider increasing max_iter to improve the fit.\n",
      "  warnings.warn(\n"
     ]
    },
    {
     "name": "stdout",
     "output_type": "stream",
     "text": [
      "[CV] END alpha=0.001, eta0=0.1, learning_rate=optimal, penalty=None; total time=  19.7s\n"
     ]
    },
    {
     "name": "stderr",
     "output_type": "stream",
     "text": [
      "/Users/johannessolibieda/Library/Python/3.9/lib/python/site-packages/sklearn/linear_model/_stochastic_gradient.py:1616: ConvergenceWarning: Maximum number of iteration reached before convergence. Consider increasing max_iter to improve the fit.\n",
      "  warnings.warn(\n"
     ]
    },
    {
     "name": "stdout",
     "output_type": "stream",
     "text": [
      "[CV] END alpha=0.001, eta0=0.1, learning_rate=optimal, penalty=l1; total time=  29.7s\n"
     ]
    },
    {
     "name": "stderr",
     "output_type": "stream",
     "text": [
      "/Users/johannessolibieda/Library/Python/3.9/lib/python/site-packages/sklearn/linear_model/_stochastic_gradient.py:1616: ConvergenceWarning: Maximum number of iteration reached before convergence. Consider increasing max_iter to improve the fit.\n",
      "  warnings.warn(\n",
      "/Users/johannessolibieda/Library/Python/3.9/lib/python/site-packages/sklearn/linear_model/_stochastic_gradient.py:1616: ConvergenceWarning: Maximum number of iteration reached before convergence. Consider increasing max_iter to improve the fit.\n",
      "  warnings.warn(\n",
      "/Users/johannessolibieda/Library/Python/3.9/lib/python/site-packages/sklearn/linear_model/_stochastic_gradient.py:1616: ConvergenceWarning: Maximum number of iteration reached before convergence. Consider increasing max_iter to improve the fit.\n",
      "  warnings.warn(\n"
     ]
    },
    {
     "name": "stdout",
     "output_type": "stream",
     "text": [
      "[CV] END alpha=0.001, eta0=0.1, learning_rate=adaptive, penalty=l2; total time=  20.2s\n",
      "[CV] END alpha=0.001, eta0=0.1, learning_rate=adaptive, penalty=l2; total time=  20.2s\n",
      "[CV] END alpha=0.001, eta0=0.1, learning_rate=adaptive, penalty=l2; total time=  20.8s\n"
     ]
    },
    {
     "name": "stderr",
     "output_type": "stream",
     "text": [
      "/Users/johannessolibieda/Library/Python/3.9/lib/python/site-packages/sklearn/linear_model/_stochastic_gradient.py:1616: ConvergenceWarning: Maximum number of iteration reached before convergence. Consider increasing max_iter to improve the fit.\n",
      "  warnings.warn(\n"
     ]
    },
    {
     "name": "stdout",
     "output_type": "stream",
     "text": [
      "[CV] END alpha=0.001, eta0=0.1, learning_rate=adaptive, penalty=l2; total time=  20.6s\n"
     ]
    },
    {
     "name": "stderr",
     "output_type": "stream",
     "text": [
      "/Users/johannessolibieda/Library/Python/3.9/lib/python/site-packages/sklearn/linear_model/_stochastic_gradient.py:1616: ConvergenceWarning: Maximum number of iteration reached before convergence. Consider increasing max_iter to improve the fit.\n",
      "  warnings.warn(\n"
     ]
    },
    {
     "name": "stdout",
     "output_type": "stream",
     "text": [
      "[CV] END alpha=0.001, eta0=0.1, learning_rate=adaptive, penalty=l2; total time=  21.0s\n"
     ]
    },
    {
     "name": "stderr",
     "output_type": "stream",
     "text": [
      "/Users/johannessolibieda/Library/Python/3.9/lib/python/site-packages/sklearn/linear_model/_stochastic_gradient.py:1616: ConvergenceWarning: Maximum number of iteration reached before convergence. Consider increasing max_iter to improve the fit.\n",
      "  warnings.warn(\n"
     ]
    },
    {
     "name": "stdout",
     "output_type": "stream",
     "text": [
      "[CV] END alpha=0.001, eta0=0.1, learning_rate=adaptive, penalty=l1; total time=  28.0s\n"
     ]
    },
    {
     "name": "stderr",
     "output_type": "stream",
     "text": [
      "/Users/johannessolibieda/Library/Python/3.9/lib/python/site-packages/sklearn/linear_model/_stochastic_gradient.py:1616: ConvergenceWarning: Maximum number of iteration reached before convergence. Consider increasing max_iter to improve the fit.\n",
      "  warnings.warn(\n"
     ]
    },
    {
     "name": "stdout",
     "output_type": "stream",
     "text": [
      "[CV] END alpha=0.001, eta0=0.1, learning_rate=adaptive, penalty=l1; total time=  28.3s\n"
     ]
    },
    {
     "name": "stderr",
     "output_type": "stream",
     "text": [
      "/Users/johannessolibieda/Library/Python/3.9/lib/python/site-packages/sklearn/linear_model/_stochastic_gradient.py:1616: ConvergenceWarning: Maximum number of iteration reached before convergence. Consider increasing max_iter to improve the fit.\n",
      "  warnings.warn(\n"
     ]
    },
    {
     "name": "stdout",
     "output_type": "stream",
     "text": [
      "[CV] END alpha=0.001, eta0=0.1, learning_rate=adaptive, penalty=l1; total time=  27.0s\n"
     ]
    },
    {
     "name": "stderr",
     "output_type": "stream",
     "text": [
      "/Users/johannessolibieda/Library/Python/3.9/lib/python/site-packages/sklearn/linear_model/_stochastic_gradient.py:1616: ConvergenceWarning: Maximum number of iteration reached before convergence. Consider increasing max_iter to improve the fit.\n",
      "  warnings.warn(\n",
      "/Users/johannessolibieda/Library/Python/3.9/lib/python/site-packages/sklearn/linear_model/_stochastic_gradient.py:1616: ConvergenceWarning: Maximum number of iteration reached before convergence. Consider increasing max_iter to improve the fit.\n",
      "  warnings.warn(\n",
      "/Users/johannessolibieda/Library/Python/3.9/lib/python/site-packages/sklearn/linear_model/_stochastic_gradient.py:1616: ConvergenceWarning: Maximum number of iteration reached before convergence. Consider increasing max_iter to improve the fit.\n",
      "  warnings.warn(\n"
     ]
    },
    {
     "name": "stdout",
     "output_type": "stream",
     "text": [
      "[CV] END alpha=0.001, eta0=0.1, learning_rate=adaptive, penalty=elasticnet; total time=  26.5s\n",
      "[CV] END alpha=0.001, eta0=0.1, learning_rate=adaptive, penalty=l1; total time=  26.8s\n",
      "[CV] END alpha=0.001, eta0=0.1, learning_rate=adaptive, penalty=l1; total time=  26.8s\n"
     ]
    },
    {
     "name": "stderr",
     "output_type": "stream",
     "text": [
      "/Users/johannessolibieda/Library/Python/3.9/lib/python/site-packages/sklearn/linear_model/_stochastic_gradient.py:1616: ConvergenceWarning: Maximum number of iteration reached before convergence. Consider increasing max_iter to improve the fit.\n",
      "  warnings.warn(\n"
     ]
    },
    {
     "name": "stdout",
     "output_type": "stream",
     "text": [
      "[CV] END alpha=0.001, eta0=0.1, learning_rate=adaptive, penalty=elasticnet; total time=  26.9s\n"
     ]
    },
    {
     "name": "stderr",
     "output_type": "stream",
     "text": [
      "/Users/johannessolibieda/Library/Python/3.9/lib/python/site-packages/sklearn/linear_model/_stochastic_gradient.py:1616: ConvergenceWarning: Maximum number of iteration reached before convergence. Consider increasing max_iter to improve the fit.\n",
      "  warnings.warn(\n"
     ]
    },
    {
     "name": "stdout",
     "output_type": "stream",
     "text": [
      "[CV] END alpha=0.001, eta0=0.1, learning_rate=adaptive, penalty=elasticnet; total time=  26.6s\n",
      "[CV] END alpha=0.001, eta0=1, learning_rate=constant, penalty=l2; total time=   0.1s\n",
      "[CV] END alpha=0.001, eta0=1, learning_rate=constant, penalty=l2; total time=   0.2s\n",
      "[CV] END alpha=0.001, eta0=1, learning_rate=constant, penalty=l2; total time=   0.1s\n",
      "[CV] END alpha=0.001, eta0=1, learning_rate=constant, penalty=l2; total time=   0.3s\n",
      "[CV] END alpha=0.001, eta0=1, learning_rate=constant, penalty=l2; total time=   0.2s\n",
      "[CV] END alpha=0.001, eta0=1, learning_rate=constant, penalty=l1; total time=   0.2s\n",
      "[CV] END alpha=0.001, eta0=1, learning_rate=constant, penalty=l1; total time=   0.3s\n",
      "[CV] END alpha=0.001, eta0=1, learning_rate=constant, penalty=l1; total time=   0.2s\n",
      "[CV] END alpha=0.001, eta0=1, learning_rate=constant, penalty=l1; total time=   0.3s\n",
      "[CV] END alpha=0.001, eta0=1, learning_rate=constant, penalty=l1; total time=   0.3s\n",
      "[CV] END alpha=0.001, eta0=1, learning_rate=constant, penalty=elasticnet; total time=   0.6s\n",
      "[CV] END alpha=0.001, eta0=1, learning_rate=constant, penalty=elasticnet; total time=   0.4s\n",
      "[CV] END alpha=0.001, eta0=1, learning_rate=constant, penalty=elasticnet; total time=   0.2s\n",
      "[CV] END alpha=0.001, eta0=1, learning_rate=constant, penalty=elasticnet; total time=   0.2s\n",
      "[CV] END alpha=0.001, eta0=1, learning_rate=constant, penalty=elasticnet; total time=   0.3s\n",
      "[CV] END alpha=0.001, eta0=1, learning_rate=constant, penalty=None; total time=   0.2s\n",
      "[CV] END alpha=0.001, eta0=1, learning_rate=constant, penalty=None; total time=   0.1s\n",
      "[CV] END alpha=0.001, eta0=1, learning_rate=constant, penalty=None; total time=   0.2s\n",
      "[CV] END alpha=0.001, eta0=1, learning_rate=constant, penalty=None; total time=   0.2s\n",
      "[CV] END alpha=0.001, eta0=1, learning_rate=constant, penalty=None; total time=   0.1s\n",
      "[CV] END alpha=0.001, eta0=1, learning_rate=optimal, penalty=l2; total time=   0.9s\n",
      "[CV] END alpha=0.001, eta0=1, learning_rate=optimal, penalty=l2; total time=   1.3s\n",
      "[CV] END alpha=0.001, eta0=1, learning_rate=optimal, penalty=l2; total time=   0.8s\n",
      "[CV] END alpha=0.001, eta0=1, learning_rate=optimal, penalty=l2; total time=   1.2s\n",
      "[CV] END alpha=0.001, eta0=1, learning_rate=optimal, penalty=l2; total time=   0.8s\n"
     ]
    },
    {
     "name": "stderr",
     "output_type": "stream",
     "text": [
      "/Users/johannessolibieda/Library/Python/3.9/lib/python/site-packages/sklearn/linear_model/_stochastic_gradient.py:1616: ConvergenceWarning: Maximum number of iteration reached before convergence. Consider increasing max_iter to improve the fit.\n",
      "  warnings.warn(\n"
     ]
    },
    {
     "name": "stdout",
     "output_type": "stream",
     "text": [
      "[CV] END alpha=0.001, eta0=0.1, learning_rate=adaptive, penalty=None; total time=  18.0s\n",
      "[CV] END alpha=0.001, eta0=1, learning_rate=optimal, penalty=l1; total time=   1.2s\n"
     ]
    },
    {
     "name": "stderr",
     "output_type": "stream",
     "text": [
      "/Users/johannessolibieda/Library/Python/3.9/lib/python/site-packages/sklearn/linear_model/_stochastic_gradient.py:1616: ConvergenceWarning: Maximum number of iteration reached before convergence. Consider increasing max_iter to improve the fit.\n",
      "  warnings.warn(\n",
      "/Users/johannessolibieda/Library/Python/3.9/lib/python/site-packages/sklearn/linear_model/_stochastic_gradient.py:1616: ConvergenceWarning: Maximum number of iteration reached before convergence. Consider increasing max_iter to improve the fit.\n",
      "  warnings.warn(\n",
      "/Users/johannessolibieda/Library/Python/3.9/lib/python/site-packages/sklearn/linear_model/_stochastic_gradient.py:1616: ConvergenceWarning: Maximum number of iteration reached before convergence. Consider increasing max_iter to improve the fit.\n",
      "  warnings.warn(\n"
     ]
    },
    {
     "name": "stdout",
     "output_type": "stream",
     "text": [
      "[CV] END alpha=0.001, eta0=0.1, learning_rate=adaptive, penalty=None; total time=  17.6s\n",
      "[CV] END alpha=0.001, eta0=0.1, learning_rate=adaptive, penalty=None; total time=  17.8s\n",
      "[CV] END alpha=0.001, eta0=0.1, learning_rate=adaptive, penalty=None; total time=  17.8s\n"
     ]
    },
    {
     "name": "stderr",
     "output_type": "stream",
     "text": [
      "/Users/johannessolibieda/Library/Python/3.9/lib/python/site-packages/sklearn/linear_model/_stochastic_gradient.py:1616: ConvergenceWarning: Maximum number of iteration reached before convergence. Consider increasing max_iter to improve the fit.\n",
      "  warnings.warn(\n"
     ]
    },
    {
     "name": "stdout",
     "output_type": "stream",
     "text": [
      "[CV] END alpha=0.001, eta0=0.1, learning_rate=adaptive, penalty=None; total time=  17.7s\n",
      "[CV] END alpha=0.001, eta0=1, learning_rate=optimal, penalty=elasticnet; total time=   0.9s\n",
      "[CV] END alpha=0.001, eta0=1, learning_rate=optimal, penalty=l1; total time=   1.3s\n",
      "[CV] END alpha=0.001, eta0=1, learning_rate=optimal, penalty=l1; total time=   1.4s\n",
      "[CV] END alpha=0.001, eta0=1, learning_rate=optimal, penalty=elasticnet; total time=   1.7s\n",
      "[CV] END alpha=0.001, eta0=1, learning_rate=optimal, penalty=elasticnet; total time=   1.1s\n",
      "[CV] END alpha=0.001, eta0=1, learning_rate=optimal, penalty=None; total time=   0.1s\n",
      "[CV] END alpha=0.001, eta0=1, learning_rate=optimal, penalty=elasticnet; total time=   1.5s\n",
      "[CV] END alpha=0.001, eta0=1, learning_rate=optimal, penalty=elasticnet; total time=   1.3s\n",
      "[CV] END alpha=0.001, eta0=1, learning_rate=optimal, penalty=None; total time=   0.7s\n"
     ]
    },
    {
     "name": "stderr",
     "output_type": "stream",
     "text": [
      "/Users/johannessolibieda/Library/Python/3.9/lib/python/site-packages/sklearn/linear_model/_stochastic_gradient.py:1616: ConvergenceWarning: Maximum number of iteration reached before convergence. Consider increasing max_iter to improve the fit.\n",
      "  warnings.warn(\n"
     ]
    },
    {
     "name": "stdout",
     "output_type": "stream",
     "text": [
      "[CV] END alpha=0.001, eta0=0.1, learning_rate=adaptive, penalty=elasticnet; total time=  25.9s\n",
      "[CV] END alpha=0.001, eta0=1, learning_rate=invscaling, penalty=l2; total time=   0.3s\n",
      "[CV] END alpha=0.001, eta0=1, learning_rate=invscaling, penalty=l2; total time=   0.4s\n",
      "[CV] END alpha=0.001, eta0=1, learning_rate=optimal, penalty=None; total time=   0.8s\n",
      "[CV] END alpha=0.001, eta0=1, learning_rate=invscaling, penalty=l2; total time=   0.5s\n",
      "[CV] END alpha=0.001, eta0=1, learning_rate=optimal, penalty=None; total time=   1.0s\n",
      "[CV] END alpha=0.001, eta0=1, learning_rate=optimal, penalty=None; total time=   1.7s\n",
      "[CV] END alpha=0.001, eta0=0.1, learning_rate=adaptive, penalty=elasticnet; total time=  26.2s\n",
      "[CV] END alpha=0.001, eta0=1, learning_rate=invscaling, penalty=l2; total time=   0.5s\n",
      "[CV] END alpha=0.001, eta0=1, learning_rate=invscaling, penalty=l2; total time=   0.3s\n"
     ]
    },
    {
     "name": "stderr",
     "output_type": "stream",
     "text": [
      "/Users/johannessolibieda/Library/Python/3.9/lib/python/site-packages/sklearn/linear_model/_stochastic_gradient.py:1616: ConvergenceWarning: Maximum number of iteration reached before convergence. Consider increasing max_iter to improve the fit.\n",
      "  warnings.warn(\n"
     ]
    },
    {
     "name": "stdout",
     "output_type": "stream",
     "text": [
      "[CV] END alpha=0.001, eta0=1, learning_rate=invscaling, penalty=l1; total time=   0.6s\n",
      "[CV] END alpha=0.001, eta0=1, learning_rate=invscaling, penalty=elasticnet; total time=   0.5s\n",
      "[CV] END alpha=0.001, eta0=1, learning_rate=invscaling, penalty=l1; total time=   0.6s\n",
      "[CV] END alpha=0.001, eta0=1, learning_rate=invscaling, penalty=l1; total time=   0.8s\n",
      "[CV] END alpha=0.001, eta0=1, learning_rate=invscaling, penalty=l1; total time=   0.8s\n",
      "[CV] END alpha=0.001, eta0=1, learning_rate=invscaling, penalty=elasticnet; total time=   0.5s\n",
      "[CV] END alpha=0.001, eta0=1, learning_rate=invscaling, penalty=None; total time=   0.4s\n",
      "[CV] END alpha=0.001, eta0=1, learning_rate=invscaling, penalty=elasticnet; total time=   0.6s\n",
      "[CV] END alpha=0.001, eta0=1, learning_rate=invscaling, penalty=l1; total time=   1.4s\n",
      "[CV] END alpha=0.001, eta0=1, learning_rate=invscaling, penalty=elasticnet; total time=   0.8s\n",
      "[CV] END alpha=0.001, eta0=1, learning_rate=invscaling, penalty=None; total time=   0.4s\n",
      "[CV] END alpha=0.001, eta0=1, learning_rate=invscaling, penalty=elasticnet; total time=   1.0s\n",
      "[CV] END alpha=0.001, eta0=1, learning_rate=invscaling, penalty=None; total time=   0.4s\n",
      "[CV] END alpha=0.001, eta0=1, learning_rate=invscaling, penalty=None; total time=   0.3s\n",
      "[CV] END alpha=0.001, eta0=1, learning_rate=invscaling, penalty=None; total time=   0.6s\n",
      "[CV] END alpha=0.001, eta0=1, learning_rate=optimal, penalty=l1; total time=   6.3s\n"
     ]
    },
    {
     "name": "stderr",
     "output_type": "stream",
     "text": [
      "/Users/johannessolibieda/Library/Python/3.9/lib/python/site-packages/sklearn/linear_model/_stochastic_gradient.py:1616: ConvergenceWarning: Maximum number of iteration reached before convergence. Consider increasing max_iter to improve the fit.\n",
      "  warnings.warn(\n"
     ]
    },
    {
     "name": "stdout",
     "output_type": "stream",
     "text": [
      "[CV] END alpha=0.001, eta0=1, learning_rate=optimal, penalty=l1; total time=  26.6s\n"
     ]
    },
    {
     "name": "stderr",
     "output_type": "stream",
     "text": [
      "/Users/johannessolibieda/Library/Python/3.9/lib/python/site-packages/sklearn/linear_model/_stochastic_gradient.py:1616: ConvergenceWarning: Maximum number of iteration reached before convergence. Consider increasing max_iter to improve the fit.\n",
      "  warnings.warn(\n"
     ]
    },
    {
     "name": "stdout",
     "output_type": "stream",
     "text": [
      "[CV] END alpha=0.001, eta0=1, learning_rate=adaptive, penalty=l2; total time=  17.9s\n"
     ]
    },
    {
     "name": "stderr",
     "output_type": "stream",
     "text": [
      "/Users/johannessolibieda/Library/Python/3.9/lib/python/site-packages/sklearn/linear_model/_stochastic_gradient.py:1616: ConvergenceWarning: Maximum number of iteration reached before convergence. Consider increasing max_iter to improve the fit.\n",
      "  warnings.warn(\n",
      "/Users/johannessolibieda/Library/Python/3.9/lib/python/site-packages/sklearn/linear_model/_stochastic_gradient.py:1616: ConvergenceWarning: Maximum number of iteration reached before convergence. Consider increasing max_iter to improve the fit.\n",
      "  warnings.warn(\n",
      "/Users/johannessolibieda/Library/Python/3.9/lib/python/site-packages/sklearn/linear_model/_stochastic_gradient.py:1616: ConvergenceWarning: Maximum number of iteration reached before convergence. Consider increasing max_iter to improve the fit.\n",
      "  warnings.warn(\n"
     ]
    },
    {
     "name": "stdout",
     "output_type": "stream",
     "text": [
      "[CV] END alpha=0.001, eta0=1, learning_rate=adaptive, penalty=l2; total time=  18.2s\n",
      "[CV] END alpha=0.001, eta0=1, learning_rate=adaptive, penalty=l2; total time=  18.3s\n",
      "[CV] END alpha=0.001, eta0=1, learning_rate=adaptive, penalty=l2; total time=  18.4s\n"
     ]
    },
    {
     "name": "stderr",
     "output_type": "stream",
     "text": [
      "/Users/johannessolibieda/Library/Python/3.9/lib/python/site-packages/sklearn/linear_model/_stochastic_gradient.py:1616: ConvergenceWarning: Maximum number of iteration reached before convergence. Consider increasing max_iter to improve the fit.\n",
      "  warnings.warn(\n"
     ]
    },
    {
     "name": "stdout",
     "output_type": "stream",
     "text": [
      "[CV] END alpha=0.001, eta0=1, learning_rate=adaptive, penalty=l2; total time=  18.2s\n"
     ]
    },
    {
     "name": "stderr",
     "output_type": "stream",
     "text": [
      "/Users/johannessolibieda/Library/Python/3.9/lib/python/site-packages/sklearn/linear_model/_stochastic_gradient.py:1616: ConvergenceWarning: Maximum number of iteration reached before convergence. Consider increasing max_iter to improve the fit.\n",
      "  warnings.warn(\n",
      "/Users/johannessolibieda/Library/Python/3.9/lib/python/site-packages/sklearn/linear_model/_stochastic_gradient.py:1616: ConvergenceWarning: Maximum number of iteration reached before convergence. Consider increasing max_iter to improve the fit.\n",
      "  warnings.warn(\n"
     ]
    },
    {
     "name": "stdout",
     "output_type": "stream",
     "text": [
      "[CV] END alpha=0.001, eta0=1, learning_rate=adaptive, penalty=l1; total time=  26.5s\n",
      "[CV] END alpha=0.001, eta0=1, learning_rate=adaptive, penalty=l1; total time=  26.5s\n"
     ]
    },
    {
     "name": "stderr",
     "output_type": "stream",
     "text": [
      "/Users/johannessolibieda/Library/Python/3.9/lib/python/site-packages/sklearn/linear_model/_stochastic_gradient.py:1616: ConvergenceWarning: Maximum number of iteration reached before convergence. Consider increasing max_iter to improve the fit.\n",
      "  warnings.warn(\n"
     ]
    },
    {
     "name": "stdout",
     "output_type": "stream",
     "text": [
      "[CV] END alpha=0.001, eta0=1, learning_rate=adaptive, penalty=l1; total time=  27.5s\n"
     ]
    },
    {
     "name": "stderr",
     "output_type": "stream",
     "text": [
      "/Users/johannessolibieda/Library/Python/3.9/lib/python/site-packages/sklearn/linear_model/_stochastic_gradient.py:1616: ConvergenceWarning: Maximum number of iteration reached before convergence. Consider increasing max_iter to improve the fit.\n",
      "  warnings.warn(\n"
     ]
    },
    {
     "name": "stdout",
     "output_type": "stream",
     "text": [
      "[CV] END alpha=0.001, eta0=1, learning_rate=adaptive, penalty=l1; total time=  28.8s\n"
     ]
    },
    {
     "name": "stderr",
     "output_type": "stream",
     "text": [
      "/Users/johannessolibieda/Library/Python/3.9/lib/python/site-packages/sklearn/linear_model/_stochastic_gradient.py:1616: ConvergenceWarning: Maximum number of iteration reached before convergence. Consider increasing max_iter to improve the fit.\n",
      "  warnings.warn(\n",
      "/Users/johannessolibieda/Library/Python/3.9/lib/python/site-packages/sklearn/linear_model/_stochastic_gradient.py:1616: ConvergenceWarning: Maximum number of iteration reached before convergence. Consider increasing max_iter to improve the fit.\n",
      "  warnings.warn(\n",
      "/Users/johannessolibieda/Library/Python/3.9/lib/python/site-packages/sklearn/linear_model/_stochastic_gradient.py:1616: ConvergenceWarning: Maximum number of iteration reached before convergence. Consider increasing max_iter to improve the fit.\n",
      "  warnings.warn(\n"
     ]
    },
    {
     "name": "stdout",
     "output_type": "stream",
     "text": [
      "[CV] END alpha=0.001, eta0=1, learning_rate=adaptive, penalty=l1; total time=  28.9s\n",
      "[CV] END alpha=0.001, eta0=1, learning_rate=adaptive, penalty=elasticnet; total time=  28.8s\n",
      "[CV] END alpha=0.001, eta0=1, learning_rate=adaptive, penalty=elasticnet; total time=  28.7s\n"
     ]
    },
    {
     "name": "stderr",
     "output_type": "stream",
     "text": [
      "/Users/johannessolibieda/Library/Python/3.9/lib/python/site-packages/sklearn/linear_model/_stochastic_gradient.py:1616: ConvergenceWarning: Maximum number of iteration reached before convergence. Consider increasing max_iter to improve the fit.\n",
      "  warnings.warn(\n"
     ]
    },
    {
     "name": "stdout",
     "output_type": "stream",
     "text": [
      "[CV] END alpha=0.001, eta0=1, learning_rate=adaptive, penalty=elasticnet; total time=  29.0s\n",
      "[CV] END alpha=0.01, eta0=0.001, learning_rate=constant, penalty=l2; total time=   0.2s\n",
      "[CV] END alpha=0.01, eta0=0.001, learning_rate=constant, penalty=l2; total time=   0.1s\n",
      "[CV] END alpha=0.01, eta0=0.001, learning_rate=constant, penalty=l2; total time=   0.2s\n",
      "[CV] END alpha=0.01, eta0=0.001, learning_rate=constant, penalty=l2; total time=   0.1s\n",
      "[CV] END alpha=0.01, eta0=0.001, learning_rate=constant, penalty=l2; total time=   0.1s\n",
      "[CV] END alpha=0.01, eta0=0.001, learning_rate=constant, penalty=l1; total time=   0.2s\n",
      "[CV] END alpha=0.01, eta0=0.001, learning_rate=constant, penalty=l1; total time=   0.2s\n",
      "[CV] END alpha=0.01, eta0=0.001, learning_rate=constant, penalty=l1; total time=   0.2s\n",
      "[CV] END alpha=0.01, eta0=0.001, learning_rate=constant, penalty=l1; total time=   0.2s\n",
      "[CV] END alpha=0.01, eta0=0.001, learning_rate=constant, penalty=l1; total time=   0.2s\n",
      "[CV] END alpha=0.01, eta0=0.001, learning_rate=constant, penalty=elasticnet; total time=   0.2s\n",
      "[CV] END alpha=0.01, eta0=0.001, learning_rate=constant, penalty=elasticnet; total time=   0.2s\n",
      "[CV] END alpha=0.01, eta0=0.001, learning_rate=constant, penalty=elasticnet; total time=   0.2s\n",
      "[CV] END alpha=0.01, eta0=0.001, learning_rate=constant, penalty=elasticnet; total time=   0.3s\n",
      "[CV] END alpha=0.01, eta0=0.001, learning_rate=constant, penalty=elasticnet; total time=   0.2s\n",
      "[CV] END alpha=0.01, eta0=0.001, learning_rate=constant, penalty=None; total time=   0.1s\n",
      "[CV] END alpha=0.01, eta0=0.001, learning_rate=constant, penalty=None; total time=   0.1s\n",
      "[CV] END alpha=0.01, eta0=0.001, learning_rate=constant, penalty=None; total time=   0.1s\n",
      "[CV] END alpha=0.01, eta0=0.001, learning_rate=constant, penalty=None; total time=   0.2s\n",
      "[CV] END alpha=0.01, eta0=0.001, learning_rate=constant, penalty=None; total time=   0.1s\n",
      "[CV] END alpha=0.01, eta0=0.001, learning_rate=optimal, penalty=l2; total time=   0.8s\n",
      "[CV] END alpha=0.01, eta0=0.001, learning_rate=optimal, penalty=l2; total time=   0.4s\n",
      "[CV] END alpha=0.01, eta0=0.001, learning_rate=optimal, penalty=l2; total time=   0.8s\n",
      "[CV] END alpha=0.01, eta0=0.001, learning_rate=optimal, penalty=l2; total time=   0.6s\n",
      "[CV] END alpha=0.01, eta0=0.001, learning_rate=optimal, penalty=l2; total time=   0.4s\n"
     ]
    },
    {
     "name": "stderr",
     "output_type": "stream",
     "text": [
      "/Users/johannessolibieda/Library/Python/3.9/lib/python/site-packages/sklearn/linear_model/_stochastic_gradient.py:1616: ConvergenceWarning: Maximum number of iteration reached before convergence. Consider increasing max_iter to improve the fit.\n",
      "  warnings.warn(\n"
     ]
    },
    {
     "name": "stdout",
     "output_type": "stream",
     "text": [
      "[CV] END alpha=0.001, eta0=1, learning_rate=adaptive, penalty=elasticnet; total time=  29.1s\n"
     ]
    },
    {
     "name": "stderr",
     "output_type": "stream",
     "text": [
      "/Users/johannessolibieda/Library/Python/3.9/lib/python/site-packages/sklearn/linear_model/_stochastic_gradient.py:1616: ConvergenceWarning: Maximum number of iteration reached before convergence. Consider increasing max_iter to improve the fit.\n",
      "  warnings.warn(\n"
     ]
    },
    {
     "name": "stdout",
     "output_type": "stream",
     "text": [
      "[CV] END alpha=0.001, eta0=1, learning_rate=adaptive, penalty=elasticnet; total time=  29.5s\n",
      "[CV] END alpha=0.01, eta0=0.001, learning_rate=optimal, penalty=l1; total time=   1.0s\n"
     ]
    },
    {
     "name": "stderr",
     "output_type": "stream",
     "text": [
      "/Users/johannessolibieda/Library/Python/3.9/lib/python/site-packages/sklearn/linear_model/_stochastic_gradient.py:1616: ConvergenceWarning: Maximum number of iteration reached before convergence. Consider increasing max_iter to improve the fit.\n",
      "  warnings.warn(\n"
     ]
    },
    {
     "name": "stdout",
     "output_type": "stream",
     "text": [
      "[CV] END alpha=0.001, eta0=1, learning_rate=adaptive, penalty=None; total time=  19.2s\n"
     ]
    },
    {
     "name": "stderr",
     "output_type": "stream",
     "text": [
      "/Users/johannessolibieda/Library/Python/3.9/lib/python/site-packages/sklearn/linear_model/_stochastic_gradient.py:1616: ConvergenceWarning: Maximum number of iteration reached before convergence. Consider increasing max_iter to improve the fit.\n",
      "  warnings.warn(\n"
     ]
    },
    {
     "name": "stdout",
     "output_type": "stream",
     "text": [
      "[CV] END alpha=0.001, eta0=1, learning_rate=adaptive, penalty=None; total time=  18.4s\n"
     ]
    },
    {
     "name": "stderr",
     "output_type": "stream",
     "text": [
      "/Users/johannessolibieda/Library/Python/3.9/lib/python/site-packages/sklearn/linear_model/_stochastic_gradient.py:1616: ConvergenceWarning: Maximum number of iteration reached before convergence. Consider increasing max_iter to improve the fit.\n",
      "  warnings.warn(\n",
      "/Users/johannessolibieda/Library/Python/3.9/lib/python/site-packages/sklearn/linear_model/_stochastic_gradient.py:1616: ConvergenceWarning: Maximum number of iteration reached before convergence. Consider increasing max_iter to improve the fit.\n",
      "  warnings.warn(\n"
     ]
    },
    {
     "name": "stdout",
     "output_type": "stream",
     "text": [
      "[CV] END alpha=0.001, eta0=1, learning_rate=adaptive, penalty=None; total time=  18.3s\n",
      "[CV] END alpha=0.001, eta0=1, learning_rate=adaptive, penalty=None; total time=  18.5s\n"
     ]
    },
    {
     "name": "stderr",
     "output_type": "stream",
     "text": [
      "/Users/johannessolibieda/Library/Python/3.9/lib/python/site-packages/sklearn/linear_model/_stochastic_gradient.py:1616: ConvergenceWarning: Maximum number of iteration reached before convergence. Consider increasing max_iter to improve the fit.\n",
      "  warnings.warn(\n"
     ]
    },
    {
     "name": "stdout",
     "output_type": "stream",
     "text": [
      "[CV] END alpha=0.001, eta0=1, learning_rate=adaptive, penalty=None; total time=  18.5s\n",
      "[CV] END alpha=0.01, eta0=0.001, learning_rate=optimal, penalty=elasticnet; total time=   0.5s\n",
      "[CV] END alpha=0.01, eta0=0.001, learning_rate=optimal, penalty=elasticnet; total time=   1.2s\n",
      "[CV] END alpha=0.01, eta0=0.001, learning_rate=optimal, penalty=elasticnet; total time=   1.5s\n",
      "[CV] END alpha=0.01, eta0=0.001, learning_rate=optimal, penalty=elasticnet; total time=   1.1s\n",
      "[CV] END alpha=0.01, eta0=0.001, learning_rate=optimal, penalty=elasticnet; total time=   2.2s\n",
      "[CV] END alpha=0.01, eta0=0.001, learning_rate=optimal, penalty=None; total time=   1.5s\n"
     ]
    },
    {
     "name": "stderr",
     "output_type": "stream",
     "text": [
      "/Users/johannessolibieda/Library/Python/3.9/lib/python/site-packages/sklearn/linear_model/_stochastic_gradient.py:1616: ConvergenceWarning: Maximum number of iteration reached before convergence. Consider increasing max_iter to improve the fit.\n",
      "  warnings.warn(\n"
     ]
    },
    {
     "name": "stdout",
     "output_type": "stream",
     "text": [
      "[CV] END alpha=0.01, eta0=0.001, learning_rate=optimal, penalty=l1; total time=  26.7s\n",
      "[CV] END alpha=0.01, eta0=0.001, learning_rate=invscaling, penalty=l2; total time=   0.2s\n",
      "[CV] END alpha=0.01, eta0=0.001, learning_rate=invscaling, penalty=l2; total time=   0.2s\n",
      "[CV] END alpha=0.01, eta0=0.001, learning_rate=invscaling, penalty=l2; total time=   0.1s\n",
      "[CV] END alpha=0.01, eta0=0.001, learning_rate=invscaling, penalty=l2; total time=   0.6s\n",
      "[CV] END alpha=0.01, eta0=0.001, learning_rate=invscaling, penalty=l2; total time=   0.2s\n"
     ]
    },
    {
     "name": "stderr",
     "output_type": "stream",
     "text": [
      "/Users/johannessolibieda/Library/Python/3.9/lib/python/site-packages/sklearn/linear_model/_stochastic_gradient.py:1616: ConvergenceWarning: Maximum number of iteration reached before convergence. Consider increasing max_iter to improve the fit.\n",
      "  warnings.warn(\n"
     ]
    },
    {
     "name": "stdout",
     "output_type": "stream",
     "text": [
      "[CV] END alpha=0.01, eta0=0.001, learning_rate=optimal, penalty=l1; total time=  26.5s\n",
      "[CV] END alpha=0.01, eta0=0.001, learning_rate=invscaling, penalty=l1; total time=   0.3s\n",
      "[CV] END alpha=0.01, eta0=0.001, learning_rate=invscaling, penalty=l1; total time=   0.3s\n",
      "[CV] END alpha=0.01, eta0=0.001, learning_rate=invscaling, penalty=l1; total time=   1.2s\n"
     ]
    },
    {
     "name": "stderr",
     "output_type": "stream",
     "text": [
      "/Users/johannessolibieda/Library/Python/3.9/lib/python/site-packages/sklearn/linear_model/_stochastic_gradient.py:1616: ConvergenceWarning: Maximum number of iteration reached before convergence. Consider increasing max_iter to improve the fit.\n",
      "  warnings.warn(\n"
     ]
    },
    {
     "name": "stdout",
     "output_type": "stream",
     "text": [
      "[CV] END alpha=0.01, eta0=0.001, learning_rate=optimal, penalty=l1; total time=  26.2s\n",
      "[CV] END alpha=0.01, eta0=0.001, learning_rate=invscaling, penalty=l1; total time=   0.3s\n",
      "[CV] END alpha=0.01, eta0=0.001, learning_rate=invscaling, penalty=elasticnet; total time=   0.2s\n",
      "[CV] END alpha=0.01, eta0=0.001, learning_rate=optimal, penalty=None; total time=  17.5s\n",
      "[CV] END alpha=0.01, eta0=0.001, learning_rate=invscaling, penalty=elasticnet; total time=   0.2s\n"
     ]
    },
    {
     "name": "stderr",
     "output_type": "stream",
     "text": [
      "/Users/johannessolibieda/Library/Python/3.9/lib/python/site-packages/sklearn/linear_model/_stochastic_gradient.py:1616: ConvergenceWarning: Maximum number of iteration reached before convergence. Consider increasing max_iter to improve the fit.\n",
      "  warnings.warn(\n"
     ]
    },
    {
     "name": "stdout",
     "output_type": "stream",
     "text": [
      "[CV] END alpha=0.01, eta0=0.001, learning_rate=invscaling, penalty=elasticnet; total time=   0.3s\n",
      "[CV] END alpha=0.01, eta0=0.001, learning_rate=invscaling, penalty=elasticnet; total time=   0.2s\n",
      "[CV] END alpha=0.01, eta0=0.001, learning_rate=invscaling, penalty=None; total time=   0.2s\n",
      "[CV] END alpha=0.01, eta0=0.001, learning_rate=invscaling, penalty=l1; total time=   0.9s\n",
      "[CV] END alpha=0.01, eta0=0.001, learning_rate=invscaling, penalty=None; total time=   0.2s\n",
      "[CV] END alpha=0.01, eta0=0.001, learning_rate=invscaling, penalty=None; total time=   0.1s\n",
      "[CV] END alpha=0.01, eta0=0.001, learning_rate=invscaling, penalty=None; total time=   0.2s\n",
      "[CV] END alpha=0.01, eta0=0.001, learning_rate=invscaling, penalty=None; total time=   0.4s\n",
      "[CV] END alpha=0.01, eta0=0.001, learning_rate=invscaling, penalty=elasticnet; total time=   0.9s\n",
      "[CV] END alpha=0.01, eta0=0.001, learning_rate=optimal, penalty=None; total time=  17.7s\n"
     ]
    },
    {
     "name": "stderr",
     "output_type": "stream",
     "text": [
      "/Users/johannessolibieda/Library/Python/3.9/lib/python/site-packages/sklearn/linear_model/_stochastic_gradient.py:1616: ConvergenceWarning: Maximum number of iteration reached before convergence. Consider increasing max_iter to improve the fit.\n",
      "  warnings.warn(\n",
      "/Users/johannessolibieda/Library/Python/3.9/lib/python/site-packages/sklearn/linear_model/_stochastic_gradient.py:1616: ConvergenceWarning: Maximum number of iteration reached before convergence. Consider increasing max_iter to improve the fit.\n",
      "  warnings.warn(\n"
     ]
    },
    {
     "name": "stdout",
     "output_type": "stream",
     "text": [
      "[CV] END alpha=0.01, eta0=0.001, learning_rate=adaptive, penalty=l2; total time=   0.5s\n",
      "[CV] END alpha=0.01, eta0=0.001, learning_rate=optimal, penalty=None; total time=  17.7s\n",
      "[CV] END alpha=0.01, eta0=0.001, learning_rate=adaptive, penalty=l2; total time=   0.6s\n",
      "[CV] END alpha=0.01, eta0=0.001, learning_rate=adaptive, penalty=l2; total time=   0.6s\n",
      "[CV] END alpha=0.01, eta0=0.001, learning_rate=adaptive, penalty=l2; total time=   0.6s\n",
      "[CV] END alpha=0.01, eta0=0.001, learning_rate=adaptive, penalty=l2; total time=   0.6s\n",
      "[CV] END alpha=0.01, eta0=0.001, learning_rate=adaptive, penalty=l1; total time=   0.8s\n",
      "[CV] END alpha=0.01, eta0=0.001, learning_rate=adaptive, penalty=l1; total time=   0.9s\n",
      "[CV] END alpha=0.01, eta0=0.001, learning_rate=adaptive, penalty=l1; total time=   0.9s\n",
      "[CV] END alpha=0.01, eta0=0.001, learning_rate=adaptive, penalty=l1; total time=   0.9s\n",
      "[CV] END alpha=0.01, eta0=0.001, learning_rate=adaptive, penalty=l1; total time=   0.8s\n",
      "[CV] END alpha=0.01, eta0=0.001, learning_rate=adaptive, penalty=elasticnet; total time=   0.9s\n",
      "[CV] END alpha=0.01, eta0=0.001, learning_rate=adaptive, penalty=elasticnet; total time=   0.8s\n",
      "[CV] END alpha=0.01, eta0=0.001, learning_rate=adaptive, penalty=elasticnet; total time=   0.9s\n",
      "[CV] END alpha=0.01, eta0=0.001, learning_rate=adaptive, penalty=elasticnet; total time=   0.8s\n",
      "[CV] END alpha=0.01, eta0=0.001, learning_rate=optimal, penalty=None; total time=  17.7s\n",
      "[CV] END alpha=0.01, eta0=0.001, learning_rate=adaptive, penalty=None; total time=   0.6s\n"
     ]
    },
    {
     "name": "stderr",
     "output_type": "stream",
     "text": [
      "/Users/johannessolibieda/Library/Python/3.9/lib/python/site-packages/sklearn/linear_model/_stochastic_gradient.py:1616: ConvergenceWarning: Maximum number of iteration reached before convergence. Consider increasing max_iter to improve the fit.\n",
      "  warnings.warn(\n"
     ]
    },
    {
     "name": "stdout",
     "output_type": "stream",
     "text": [
      "[CV] END alpha=0.01, eta0=0.001, learning_rate=adaptive, penalty=None; total time=   0.6s\n",
      "[CV] END alpha=0.01, eta0=0.001, learning_rate=adaptive, penalty=elasticnet; total time=   0.8s\n",
      "[CV] END alpha=0.01, eta0=0.01, learning_rate=constant, penalty=l2; total time=   0.2s\n",
      "[CV] END alpha=0.01, eta0=0.01, learning_rate=constant, penalty=l2; total time=   0.1s\n",
      "[CV] END alpha=0.01, eta0=0.01, learning_rate=constant, penalty=l2; total time=   0.3s\n",
      "[CV] END alpha=0.01, eta0=0.01, learning_rate=constant, penalty=l2; total time=   0.1s\n",
      "[CV] END alpha=0.01, eta0=0.001, learning_rate=adaptive, penalty=None; total time=   0.6s\n",
      "[CV] END alpha=0.01, eta0=0.001, learning_rate=adaptive, penalty=None; total time=   0.6s\n",
      "[CV] END alpha=0.01, eta0=0.01, learning_rate=constant, penalty=l1; total time=   0.2s\n",
      "[CV] END alpha=0.01, eta0=0.01, learning_rate=constant, penalty=l2; total time=   0.4s\n",
      "[CV] END alpha=0.01, eta0=0.01, learning_rate=constant, penalty=l1; total time=   0.2s\n",
      "[CV] END alpha=0.01, eta0=0.01, learning_rate=constant, penalty=l1; total time=   0.2s\n",
      "[CV] END alpha=0.01, eta0=0.001, learning_rate=adaptive, penalty=None; total time=   0.6s\n",
      "[CV] END alpha=0.01, eta0=0.01, learning_rate=constant, penalty=l1; total time=   0.2s\n",
      "[CV] END alpha=0.01, eta0=0.01, learning_rate=constant, penalty=l1; total time=   0.2s\n",
      "[CV] END alpha=0.01, eta0=0.01, learning_rate=constant, penalty=elasticnet; total time=   0.2s\n",
      "[CV] END alpha=0.01, eta0=0.001, learning_rate=optimal, penalty=l1; total time=  26.2s\n",
      "[CV] END alpha=0.01, eta0=0.01, learning_rate=constant, penalty=None; total time=   0.1s\n",
      "[CV] END alpha=0.01, eta0=0.01, learning_rate=constant, penalty=elasticnet; total time=   0.3s\n"
     ]
    },
    {
     "name": "stderr",
     "output_type": "stream",
     "text": [
      "/Users/johannessolibieda/Library/Python/3.9/lib/python/site-packages/sklearn/linear_model/_stochastic_gradient.py:1616: ConvergenceWarning: Maximum number of iteration reached before convergence. Consider increasing max_iter to improve the fit.\n",
      "  warnings.warn(\n"
     ]
    },
    {
     "name": "stdout",
     "output_type": "stream",
     "text": [
      "[CV] END alpha=0.01, eta0=0.01, learning_rate=constant, penalty=None; total time=   0.1s\n",
      "[CV] END alpha=0.01, eta0=0.01, learning_rate=constant, penalty=None; total time=   0.1s\n",
      "[CV] END alpha=0.01, eta0=0.01, learning_rate=constant, penalty=elasticnet; total time=   0.3s\n",
      "[CV] END alpha=0.01, eta0=0.01, learning_rate=constant, penalty=elasticnet; total time=   0.3s\n",
      "[CV] END alpha=0.01, eta0=0.01, learning_rate=constant, penalty=None; total time=   0.1s\n",
      "[CV] END alpha=0.01, eta0=0.01, learning_rate=constant, penalty=None; total time=   0.1s\n",
      "[CV] END alpha=0.01, eta0=0.01, learning_rate=constant, penalty=elasticnet; total time=   0.5s\n",
      "[CV] END alpha=0.01, eta0=0.01, learning_rate=optimal, penalty=l2; total time=   0.4s\n",
      "[CV] END alpha=0.01, eta0=0.01, learning_rate=optimal, penalty=l2; total time=   0.5s\n",
      "[CV] END alpha=0.01, eta0=0.01, learning_rate=optimal, penalty=l2; total time=   0.6s\n",
      "[CV] END alpha=0.01, eta0=0.01, learning_rate=optimal, penalty=l2; total time=   0.7s\n",
      "[CV] END alpha=0.01, eta0=0.01, learning_rate=optimal, penalty=l1; total time=   0.2s\n",
      "[CV] END alpha=0.01, eta0=0.01, learning_rate=optimal, penalty=l2; total time=   0.8s\n",
      "[CV] END alpha=0.01, eta0=0.01, learning_rate=optimal, penalty=elasticnet; total time=   0.5s\n",
      "[CV] END alpha=0.01, eta0=0.01, learning_rate=optimal, penalty=elasticnet; total time=   0.6s\n",
      "[CV] END alpha=0.01, eta0=0.01, learning_rate=optimal, penalty=elasticnet; total time=   0.7s\n",
      "[CV] END alpha=0.01, eta0=0.01, learning_rate=optimal, penalty=elasticnet; total time=   1.2s\n",
      "[CV] END alpha=0.01, eta0=0.01, learning_rate=optimal, penalty=elasticnet; total time=   2.4s\n"
     ]
    },
    {
     "name": "stderr",
     "output_type": "stream",
     "text": [
      "/Users/johannessolibieda/Library/Python/3.9/lib/python/site-packages/sklearn/linear_model/_stochastic_gradient.py:1616: ConvergenceWarning: Maximum number of iteration reached before convergence. Consider increasing max_iter to improve the fit.\n",
      "  warnings.warn(\n"
     ]
    },
    {
     "name": "stdout",
     "output_type": "stream",
     "text": [
      "[CV] END alpha=0.01, eta0=0.01, learning_rate=optimal, penalty=None; total time=  21.1s\n"
     ]
    },
    {
     "name": "stderr",
     "output_type": "stream",
     "text": [
      "/Users/johannessolibieda/Library/Python/3.9/lib/python/site-packages/sklearn/linear_model/_stochastic_gradient.py:1616: ConvergenceWarning: Maximum number of iteration reached before convergence. Consider increasing max_iter to improve the fit.\n",
      "  warnings.warn(\n"
     ]
    },
    {
     "name": "stdout",
     "output_type": "stream",
     "text": [
      "[CV] END alpha=0.01, eta0=0.01, learning_rate=optimal, penalty=None; total time=  21.5s\n",
      "[CV] END alpha=0.01, eta0=0.01, learning_rate=invscaling, penalty=l2; total time=   0.2s\n",
      "[CV] END alpha=0.01, eta0=0.01, learning_rate=invscaling, penalty=l2; total time=   0.2s\n",
      "[CV] END alpha=0.01, eta0=0.01, learning_rate=invscaling, penalty=l2; total time=   0.1s\n",
      "[CV] END alpha=0.01, eta0=0.01, learning_rate=invscaling, penalty=l2; total time=   0.2s\n",
      "[CV] END alpha=0.01, eta0=0.01, learning_rate=optimal, penalty=None; total time=  21.4s\n",
      "[CV] END alpha=0.01, eta0=0.01, learning_rate=invscaling, penalty=l2; total time=   0.2s\n"
     ]
    },
    {
     "name": "stderr",
     "output_type": "stream",
     "text": [
      "/Users/johannessolibieda/Library/Python/3.9/lib/python/site-packages/sklearn/linear_model/_stochastic_gradient.py:1616: ConvergenceWarning: Maximum number of iteration reached before convergence. Consider increasing max_iter to improve the fit.\n",
      "  warnings.warn(\n"
     ]
    },
    {
     "name": "stdout",
     "output_type": "stream",
     "text": [
      "[CV] END alpha=0.01, eta0=0.01, learning_rate=invscaling, penalty=l1; total time=   0.2s\n",
      "[CV] END alpha=0.01, eta0=0.01, learning_rate=invscaling, penalty=l1; total time=   0.2s\n",
      "[CV] END alpha=0.01, eta0=0.01, learning_rate=optimal, penalty=None; total time=   1.7s\n",
      "[CV] END alpha=0.01, eta0=0.01, learning_rate=optimal, penalty=None; total time=  21.0s\n"
     ]
    },
    {
     "name": "stderr",
     "output_type": "stream",
     "text": [
      "/Users/johannessolibieda/Library/Python/3.9/lib/python/site-packages/sklearn/linear_model/_stochastic_gradient.py:1616: ConvergenceWarning: Maximum number of iteration reached before convergence. Consider increasing max_iter to improve the fit.\n",
      "  warnings.warn(\n"
     ]
    },
    {
     "name": "stdout",
     "output_type": "stream",
     "text": [
      "[CV] END alpha=0.01, eta0=0.01, learning_rate=invscaling, penalty=l1; total time=   0.2s\n",
      "[CV] END alpha=0.01, eta0=0.01, learning_rate=invscaling, penalty=l1; total time=   0.2s\n",
      "[CV] END alpha=0.01, eta0=0.01, learning_rate=invscaling, penalty=l1; total time=   0.2s\n",
      "[CV] END alpha=0.01, eta0=0.01, learning_rate=invscaling, penalty=elasticnet; total time=   0.2s\n",
      "[CV] END alpha=0.01, eta0=0.01, learning_rate=invscaling, penalty=elasticnet; total time=   0.2s\n",
      "[CV] END alpha=0.01, eta0=0.01, learning_rate=invscaling, penalty=elasticnet; total time=   0.2s\n",
      "[CV] END alpha=0.01, eta0=0.01, learning_rate=invscaling, penalty=elasticnet; total time=   0.3s\n",
      "[CV] END alpha=0.01, eta0=0.01, learning_rate=invscaling, penalty=None; total time=   0.2s\n",
      "[CV] END alpha=0.01, eta0=0.01, learning_rate=invscaling, penalty=elasticnet; total time=   0.3s\n",
      "[CV] END alpha=0.01, eta0=0.01, learning_rate=invscaling, penalty=None; total time=   0.2s\n",
      "[CV] END alpha=0.01, eta0=0.01, learning_rate=invscaling, penalty=None; total time=   0.1s\n",
      "[CV] END alpha=0.01, eta0=0.01, learning_rate=invscaling, penalty=None; total time=   0.1s\n",
      "[CV] END alpha=0.01, eta0=0.01, learning_rate=invscaling, penalty=None; total time=   0.2s\n"
     ]
    },
    {
     "name": "stderr",
     "output_type": "stream",
     "text": [
      "/Users/johannessolibieda/Library/Python/3.9/lib/python/site-packages/sklearn/linear_model/_stochastic_gradient.py:1616: ConvergenceWarning: Maximum number of iteration reached before convergence. Consider increasing max_iter to improve the fit.\n",
      "  warnings.warn(\n",
      "/Users/johannessolibieda/Library/Python/3.9/lib/python/site-packages/sklearn/linear_model/_stochastic_gradient.py:1616: ConvergenceWarning: Maximum number of iteration reached before convergence. Consider increasing max_iter to improve the fit.\n",
      "  warnings.warn(\n"
     ]
    },
    {
     "name": "stdout",
     "output_type": "stream",
     "text": [
      "[CV] END alpha=0.01, eta0=0.01, learning_rate=optimal, penalty=l1; total time=  31.2s\n",
      "[CV] END alpha=0.01, eta0=0.01, learning_rate=optimal, penalty=l1; total time=  31.0s\n"
     ]
    },
    {
     "name": "stderr",
     "output_type": "stream",
     "text": [
      "/Users/johannessolibieda/Library/Python/3.9/lib/python/site-packages/sklearn/linear_model/_stochastic_gradient.py:1616: ConvergenceWarning: Maximum number of iteration reached before convergence. Consider increasing max_iter to improve the fit.\n",
      "  warnings.warn(\n"
     ]
    },
    {
     "name": "stdout",
     "output_type": "stream",
     "text": [
      "[CV] END alpha=0.01, eta0=0.01, learning_rate=optimal, penalty=l1; total time=  31.3s\n"
     ]
    },
    {
     "name": "stderr",
     "output_type": "stream",
     "text": [
      "/Users/johannessolibieda/Library/Python/3.9/lib/python/site-packages/sklearn/linear_model/_stochastic_gradient.py:1616: ConvergenceWarning: Maximum number of iteration reached before convergence. Consider increasing max_iter to improve the fit.\n",
      "  warnings.warn(\n"
     ]
    },
    {
     "name": "stdout",
     "output_type": "stream",
     "text": [
      "[CV] END alpha=0.01, eta0=0.01, learning_rate=optimal, penalty=l1; total time=  31.9s\n"
     ]
    },
    {
     "name": "stderr",
     "output_type": "stream",
     "text": [
      "/Users/johannessolibieda/Library/Python/3.9/lib/python/site-packages/sklearn/linear_model/_stochastic_gradient.py:1616: ConvergenceWarning: Maximum number of iteration reached before convergence. Consider increasing max_iter to improve the fit.\n",
      "  warnings.warn(\n"
     ]
    },
    {
     "name": "stdout",
     "output_type": "stream",
     "text": [
      "[CV] END alpha=0.01, eta0=0.01, learning_rate=adaptive, penalty=l2; total time=  21.9s\n"
     ]
    },
    {
     "name": "stderr",
     "output_type": "stream",
     "text": [
      "/Users/johannessolibieda/Library/Python/3.9/lib/python/site-packages/sklearn/linear_model/_stochastic_gradient.py:1616: ConvergenceWarning: Maximum number of iteration reached before convergence. Consider increasing max_iter to improve the fit.\n",
      "  warnings.warn(\n",
      "/Users/johannessolibieda/Library/Python/3.9/lib/python/site-packages/sklearn/linear_model/_stochastic_gradient.py:1616: ConvergenceWarning: Maximum number of iteration reached before convergence. Consider increasing max_iter to improve the fit.\n",
      "  warnings.warn(\n"
     ]
    },
    {
     "name": "stdout",
     "output_type": "stream",
     "text": [
      "[CV] END alpha=0.01, eta0=0.01, learning_rate=adaptive, penalty=l2; total time=  22.2s\n",
      "[CV] END alpha=0.01, eta0=0.01, learning_rate=adaptive, penalty=l2; total time=  22.3s\n"
     ]
    },
    {
     "name": "stderr",
     "output_type": "stream",
     "text": [
      "/Users/johannessolibieda/Library/Python/3.9/lib/python/site-packages/sklearn/linear_model/_stochastic_gradient.py:1616: ConvergenceWarning: Maximum number of iteration reached before convergence. Consider increasing max_iter to improve the fit.\n",
      "  warnings.warn(\n"
     ]
    },
    {
     "name": "stdout",
     "output_type": "stream",
     "text": [
      "[CV] END alpha=0.01, eta0=0.01, learning_rate=adaptive, penalty=l2; total time=  22.5s\n"
     ]
    },
    {
     "name": "stderr",
     "output_type": "stream",
     "text": [
      "/Users/johannessolibieda/Library/Python/3.9/lib/python/site-packages/sklearn/linear_model/_stochastic_gradient.py:1616: ConvergenceWarning: Maximum number of iteration reached before convergence. Consider increasing max_iter to improve the fit.\n",
      "  warnings.warn(\n"
     ]
    },
    {
     "name": "stdout",
     "output_type": "stream",
     "text": [
      "[CV] END alpha=0.01, eta0=0.01, learning_rate=adaptive, penalty=l2; total time=  21.9s\n"
     ]
    },
    {
     "name": "stderr",
     "output_type": "stream",
     "text": [
      "/Users/johannessolibieda/Library/Python/3.9/lib/python/site-packages/sklearn/linear_model/_stochastic_gradient.py:1616: ConvergenceWarning: Maximum number of iteration reached before convergence. Consider increasing max_iter to improve the fit.\n",
      "  warnings.warn(\n",
      "/Users/johannessolibieda/Library/Python/3.9/lib/python/site-packages/sklearn/linear_model/_stochastic_gradient.py:1616: ConvergenceWarning: Maximum number of iteration reached before convergence. Consider increasing max_iter to improve the fit.\n",
      "  warnings.warn(\n"
     ]
    },
    {
     "name": "stdout",
     "output_type": "stream",
     "text": [
      "[CV] END alpha=0.01, eta0=0.01, learning_rate=adaptive, penalty=l1; total time=  31.7s\n",
      "[CV] END alpha=0.01, eta0=0.01, learning_rate=adaptive, penalty=l1; total time=  31.8s\n"
     ]
    },
    {
     "name": "stderr",
     "output_type": "stream",
     "text": [
      "/Users/johannessolibieda/Library/Python/3.9/lib/python/site-packages/sklearn/linear_model/_stochastic_gradient.py:1616: ConvergenceWarning: Maximum number of iteration reached before convergence. Consider increasing max_iter to improve the fit.\n",
      "  warnings.warn(\n"
     ]
    },
    {
     "name": "stdout",
     "output_type": "stream",
     "text": [
      "[CV] END alpha=0.01, eta0=0.01, learning_rate=adaptive, penalty=l1; total time=  31.8s\n"
     ]
    },
    {
     "name": "stderr",
     "output_type": "stream",
     "text": [
      "/Users/johannessolibieda/Library/Python/3.9/lib/python/site-packages/sklearn/linear_model/_stochastic_gradient.py:1616: ConvergenceWarning: Maximum number of iteration reached before convergence. Consider increasing max_iter to improve the fit.\n",
      "  warnings.warn(\n"
     ]
    },
    {
     "name": "stdout",
     "output_type": "stream",
     "text": [
      "[CV] END alpha=0.01, eta0=0.01, learning_rate=adaptive, penalty=l1; total time=  28.7s\n"
     ]
    },
    {
     "name": "stderr",
     "output_type": "stream",
     "text": [
      "/Users/johannessolibieda/Library/Python/3.9/lib/python/site-packages/sklearn/linear_model/_stochastic_gradient.py:1616: ConvergenceWarning: Maximum number of iteration reached before convergence. Consider increasing max_iter to improve the fit.\n",
      "  warnings.warn(\n"
     ]
    },
    {
     "name": "stdout",
     "output_type": "stream",
     "text": [
      "[CV] END alpha=0.01, eta0=0.01, learning_rate=adaptive, penalty=elasticnet; total time=  28.5s\n"
     ]
    },
    {
     "name": "stderr",
     "output_type": "stream",
     "text": [
      "/Users/johannessolibieda/Library/Python/3.9/lib/python/site-packages/sklearn/linear_model/_stochastic_gradient.py:1616: ConvergenceWarning: Maximum number of iteration reached before convergence. Consider increasing max_iter to improve the fit.\n",
      "  warnings.warn(\n",
      "/Users/johannessolibieda/Library/Python/3.9/lib/python/site-packages/sklearn/linear_model/_stochastic_gradient.py:1616: ConvergenceWarning: Maximum number of iteration reached before convergence. Consider increasing max_iter to improve the fit.\n",
      "  warnings.warn(\n"
     ]
    },
    {
     "name": "stdout",
     "output_type": "stream",
     "text": [
      "[CV] END alpha=0.01, eta0=0.01, learning_rate=adaptive, penalty=elasticnet; total time=  28.9s\n",
      "[CV] END alpha=0.01, eta0=0.01, learning_rate=adaptive, penalty=l1; total time=  29.1s\n"
     ]
    },
    {
     "name": "stderr",
     "output_type": "stream",
     "text": [
      "/Users/johannessolibieda/Library/Python/3.9/lib/python/site-packages/sklearn/linear_model/_stochastic_gradient.py:1616: ConvergenceWarning: Maximum number of iteration reached before convergence. Consider increasing max_iter to improve the fit.\n",
      "  warnings.warn(\n"
     ]
    },
    {
     "name": "stdout",
     "output_type": "stream",
     "text": [
      "[CV] END alpha=0.01, eta0=0.01, learning_rate=adaptive, penalty=elasticnet; total time=  27.6s\n",
      "[CV] END alpha=0.01, eta0=0.1, learning_rate=constant, penalty=l2; total time=   0.1s\n"
     ]
    },
    {
     "name": "stderr",
     "output_type": "stream",
     "text": [
      "/Users/johannessolibieda/Library/Python/3.9/lib/python/site-packages/sklearn/linear_model/_stochastic_gradient.py:1616: ConvergenceWarning: Maximum number of iteration reached before convergence. Consider increasing max_iter to improve the fit.\n",
      "  warnings.warn(\n"
     ]
    },
    {
     "name": "stdout",
     "output_type": "stream",
     "text": [
      "[CV] END alpha=0.01, eta0=0.01, learning_rate=adaptive, penalty=None; total time=  17.4s\n",
      "[CV] END alpha=0.01, eta0=0.1, learning_rate=constant, penalty=l2; total time=   0.2s\n",
      "[CV] END alpha=0.01, eta0=0.1, learning_rate=constant, penalty=l2; total time=   0.1s\n",
      "[CV] END alpha=0.01, eta0=0.1, learning_rate=constant, penalty=l2; total time=   0.1s\n",
      "[CV] END alpha=0.01, eta0=0.1, learning_rate=constant, penalty=l2; total time=   0.3s\n",
      "[CV] END alpha=0.01, eta0=0.1, learning_rate=constant, penalty=l1; total time=   0.2s\n",
      "[CV] END alpha=0.01, eta0=0.1, learning_rate=constant, penalty=l1; total time=   0.3s\n",
      "[CV] END alpha=0.01, eta0=0.1, learning_rate=constant, penalty=l1; total time=   0.2s\n",
      "[CV] END alpha=0.01, eta0=0.1, learning_rate=constant, penalty=l1; total time=   0.3s\n",
      "[CV] END alpha=0.01, eta0=0.1, learning_rate=constant, penalty=l1; total time=   0.3s\n",
      "[CV] END alpha=0.01, eta0=0.1, learning_rate=constant, penalty=elasticnet; total time=   0.3s\n",
      "[CV] END alpha=0.01, eta0=0.1, learning_rate=constant, penalty=elasticnet; total time=   0.5s\n",
      "[CV] END alpha=0.01, eta0=0.1, learning_rate=constant, penalty=elasticnet; total time=   0.3s\n",
      "[CV] END alpha=0.01, eta0=0.1, learning_rate=constant, penalty=elasticnet; total time=   0.5s\n",
      "[CV] END alpha=0.01, eta0=0.1, learning_rate=constant, penalty=elasticnet; total time=   0.3s\n",
      "[CV] END alpha=0.01, eta0=0.1, learning_rate=constant, penalty=None; total time=   0.1s\n",
      "[CV] END alpha=0.01, eta0=0.1, learning_rate=constant, penalty=None; total time=   0.1s\n",
      "[CV] END alpha=0.01, eta0=0.1, learning_rate=constant, penalty=None; total time=   0.1s\n",
      "[CV] END alpha=0.01, eta0=0.1, learning_rate=constant, penalty=None; total time=   0.1s\n",
      "[CV] END alpha=0.01, eta0=0.1, learning_rate=constant, penalty=None; total time=   0.2s\n",
      "[CV] END alpha=0.01, eta0=0.1, learning_rate=optimal, penalty=l2; total time=   0.5s\n",
      "[CV] END alpha=0.01, eta0=0.1, learning_rate=optimal, penalty=l2; total time=   0.2s\n",
      "[CV] END alpha=0.01, eta0=0.1, learning_rate=optimal, penalty=l2; total time=   0.7s\n",
      "[CV] END alpha=0.01, eta0=0.1, learning_rate=optimal, penalty=l2; total time=   1.4s\n",
      "[CV] END alpha=0.01, eta0=0.1, learning_rate=optimal, penalty=l2; total time=   0.7s\n",
      "[CV] END alpha=0.01, eta0=0.1, learning_rate=optimal, penalty=l1; total time=   1.5s\n"
     ]
    },
    {
     "name": "stderr",
     "output_type": "stream",
     "text": [
      "/Users/johannessolibieda/Library/Python/3.9/lib/python/site-packages/sklearn/linear_model/_stochastic_gradient.py:1616: ConvergenceWarning: Maximum number of iteration reached before convergence. Consider increasing max_iter to improve the fit.\n",
      "  warnings.warn(\n",
      "/Users/johannessolibieda/Library/Python/3.9/lib/python/site-packages/sklearn/linear_model/_stochastic_gradient.py:1616: ConvergenceWarning: Maximum number of iteration reached before convergence. Consider increasing max_iter to improve the fit.\n",
      "  warnings.warn(\n"
     ]
    },
    {
     "name": "stdout",
     "output_type": "stream",
     "text": [
      "[CV] END alpha=0.01, eta0=0.01, learning_rate=adaptive, penalty=elasticnet; total time=  26.3s\n",
      "[CV] END alpha=0.01, eta0=0.01, learning_rate=adaptive, penalty=elasticnet; total time=  26.3s\n",
      "[CV] END alpha=0.01, eta0=0.1, learning_rate=optimal, penalty=l1; total time=   1.1s\n",
      "[CV] END alpha=0.01, eta0=0.1, learning_rate=optimal, penalty=elasticnet; total time=   0.8s\n"
     ]
    },
    {
     "name": "stderr",
     "output_type": "stream",
     "text": [
      "/Users/johannessolibieda/Library/Python/3.9/lib/python/site-packages/sklearn/linear_model/_stochastic_gradient.py:1616: ConvergenceWarning: Maximum number of iteration reached before convergence. Consider increasing max_iter to improve the fit.\n",
      "  warnings.warn(\n"
     ]
    },
    {
     "name": "stdout",
     "output_type": "stream",
     "text": [
      "[CV] END alpha=0.01, eta0=0.01, learning_rate=adaptive, penalty=None; total time=  17.3s\n"
     ]
    },
    {
     "name": "stderr",
     "output_type": "stream",
     "text": [
      "/Users/johannessolibieda/Library/Python/3.9/lib/python/site-packages/sklearn/linear_model/_stochastic_gradient.py:1616: ConvergenceWarning: Maximum number of iteration reached before convergence. Consider increasing max_iter to improve the fit.\n",
      "  warnings.warn(\n"
     ]
    },
    {
     "name": "stdout",
     "output_type": "stream",
     "text": [
      "[CV] END alpha=0.01, eta0=0.01, learning_rate=adaptive, penalty=None; total time=  17.4s\n",
      "[CV] END alpha=0.01, eta0=0.1, learning_rate=optimal, penalty=elasticnet; total time=   1.8s\n"
     ]
    },
    {
     "name": "stderr",
     "output_type": "stream",
     "text": [
      "/Users/johannessolibieda/Library/Python/3.9/lib/python/site-packages/sklearn/linear_model/_stochastic_gradient.py:1616: ConvergenceWarning: Maximum number of iteration reached before convergence. Consider increasing max_iter to improve the fit.\n",
      "  warnings.warn(\n"
     ]
    },
    {
     "name": "stdout",
     "output_type": "stream",
     "text": [
      "[CV] END alpha=0.01, eta0=0.01, learning_rate=adaptive, penalty=None; total time=  17.5s\n",
      "[CV] END alpha=0.01, eta0=0.1, learning_rate=optimal, penalty=elasticnet; total time=   0.9s\n"
     ]
    },
    {
     "name": "stderr",
     "output_type": "stream",
     "text": [
      "/Users/johannessolibieda/Library/Python/3.9/lib/python/site-packages/sklearn/linear_model/_stochastic_gradient.py:1616: ConvergenceWarning: Maximum number of iteration reached before convergence. Consider increasing max_iter to improve the fit.\n",
      "  warnings.warn(\n"
     ]
    },
    {
     "name": "stdout",
     "output_type": "stream",
     "text": [
      "[CV] END alpha=0.01, eta0=0.01, learning_rate=adaptive, penalty=None; total time=  17.6s\n",
      "[CV] END alpha=0.01, eta0=0.1, learning_rate=optimal, penalty=elasticnet; total time=   0.8s\n",
      "[CV] END alpha=0.01, eta0=0.1, learning_rate=optimal, penalty=None; total time=   0.5s\n",
      "[CV] END alpha=0.01, eta0=0.1, learning_rate=optimal, penalty=None; total time=   0.1s\n",
      "[CV] END alpha=0.01, eta0=0.1, learning_rate=optimal, penalty=None; total time=   1.1s\n",
      "[CV] END alpha=0.01, eta0=0.1, learning_rate=optimal, penalty=elasticnet; total time=   1.3s\n",
      "[CV] END alpha=0.01, eta0=0.1, learning_rate=invscaling, penalty=l2; total time=   0.2s\n",
      "[CV] END alpha=0.01, eta0=0.1, learning_rate=optimal, penalty=None; total time=   1.3s\n",
      "[CV] END alpha=0.01, eta0=0.1, learning_rate=invscaling, penalty=l2; total time=   0.3s\n",
      "[CV] END alpha=0.01, eta0=0.1, learning_rate=invscaling, penalty=l2; total time=   0.4s\n",
      "[CV] END alpha=0.01, eta0=0.1, learning_rate=invscaling, penalty=l2; total time=   0.4s\n",
      "[CV] END alpha=0.01, eta0=0.1, learning_rate=invscaling, penalty=l2; total time=   0.4s\n",
      "[CV] END alpha=0.01, eta0=0.1, learning_rate=invscaling, penalty=l1; total time=   0.4s\n",
      "[CV] END alpha=0.01, eta0=0.1, learning_rate=invscaling, penalty=l1; total time=   0.6s\n",
      "[CV] END alpha=0.01, eta0=0.1, learning_rate=invscaling, penalty=l1; total time=   0.8s\n",
      "[CV] END alpha=0.01, eta0=0.1, learning_rate=invscaling, penalty=l1; total time=   0.5s\n",
      "[CV] END alpha=0.01, eta0=0.1, learning_rate=invscaling, penalty=l1; total time=   0.8s\n",
      "[CV] END alpha=0.01, eta0=0.1, learning_rate=invscaling, penalty=elasticnet; total time=   0.6s\n",
      "[CV] END alpha=0.01, eta0=0.1, learning_rate=invscaling, penalty=elasticnet; total time=   0.9s\n",
      "[CV] END alpha=0.01, eta0=0.1, learning_rate=invscaling, penalty=elasticnet; total time=   0.6s\n",
      "[CV] END alpha=0.01, eta0=0.1, learning_rate=invscaling, penalty=elasticnet; total time=   0.9s\n",
      "[CV] END alpha=0.01, eta0=0.1, learning_rate=invscaling, penalty=elasticnet; total time=   0.7s\n",
      "[CV] END alpha=0.01, eta0=0.1, learning_rate=invscaling, penalty=None; total time=   0.4s\n",
      "[CV] END alpha=0.01, eta0=0.1, learning_rate=invscaling, penalty=None; total time=   0.4s\n",
      "[CV] END alpha=0.01, eta0=0.1, learning_rate=invscaling, penalty=None; total time=   0.5s\n",
      "[CV] END alpha=0.01, eta0=0.1, learning_rate=invscaling, penalty=None; total time=   0.4s\n",
      "[CV] END alpha=0.01, eta0=0.1, learning_rate=invscaling, penalty=None; total time=   0.3s\n"
     ]
    },
    {
     "name": "stderr",
     "output_type": "stream",
     "text": [
      "/Users/johannessolibieda/Library/Python/3.9/lib/python/site-packages/sklearn/linear_model/_stochastic_gradient.py:1616: ConvergenceWarning: Maximum number of iteration reached before convergence. Consider increasing max_iter to improve the fit.\n",
      "  warnings.warn(\n"
     ]
    },
    {
     "name": "stdout",
     "output_type": "stream",
     "text": [
      "[CV] END alpha=0.01, eta0=0.1, learning_rate=optimal, penalty=None; total time=  16.8s\n"
     ]
    },
    {
     "name": "stderr",
     "output_type": "stream",
     "text": [
      "/Users/johannessolibieda/Library/Python/3.9/lib/python/site-packages/sklearn/linear_model/_stochastic_gradient.py:1616: ConvergenceWarning: Maximum number of iteration reached before convergence. Consider increasing max_iter to improve the fit.\n",
      "  warnings.warn(\n"
     ]
    },
    {
     "name": "stdout",
     "output_type": "stream",
     "text": [
      "[CV] END alpha=0.01, eta0=0.1, learning_rate=optimal, penalty=l1; total time=  25.4s\n"
     ]
    },
    {
     "name": "stderr",
     "output_type": "stream",
     "text": [
      "/Users/johannessolibieda/Library/Python/3.9/lib/python/site-packages/sklearn/linear_model/_stochastic_gradient.py:1616: ConvergenceWarning: Maximum number of iteration reached before convergence. Consider increasing max_iter to improve the fit.\n",
      "  warnings.warn(\n"
     ]
    },
    {
     "name": "stdout",
     "output_type": "stream",
     "text": [
      "[CV] END alpha=0.01, eta0=0.1, learning_rate=optimal, penalty=l1; total time=  25.6s\n"
     ]
    },
    {
     "name": "stderr",
     "output_type": "stream",
     "text": [
      "/Users/johannessolibieda/Library/Python/3.9/lib/python/site-packages/sklearn/linear_model/_stochastic_gradient.py:1616: ConvergenceWarning: Maximum number of iteration reached before convergence. Consider increasing max_iter to improve the fit.\n",
      "  warnings.warn(\n",
      "/Users/johannessolibieda/Library/Python/3.9/lib/python/site-packages/sklearn/linear_model/_stochastic_gradient.py:1616: ConvergenceWarning: Maximum number of iteration reached before convergence. Consider increasing max_iter to improve the fit.\n",
      "  warnings.warn(\n",
      "/Users/johannessolibieda/Library/Python/3.9/lib/python/site-packages/sklearn/linear_model/_stochastic_gradient.py:1616: ConvergenceWarning: Maximum number of iteration reached before convergence. Consider increasing max_iter to improve the fit.\n",
      "  warnings.warn(\n"
     ]
    },
    {
     "name": "stdout",
     "output_type": "stream",
     "text": [
      "[CV] END alpha=0.01, eta0=0.1, learning_rate=adaptive, penalty=l2; total time=  16.8s\n",
      "[CV] END alpha=0.01, eta0=0.1, learning_rate=adaptive, penalty=l2; total time=  16.9s\n",
      "[CV] END alpha=0.01, eta0=0.1, learning_rate=adaptive, penalty=l2; total time=  17.1s\n"
     ]
    },
    {
     "name": "stderr",
     "output_type": "stream",
     "text": [
      "/Users/johannessolibieda/Library/Python/3.9/lib/python/site-packages/sklearn/linear_model/_stochastic_gradient.py:1616: ConvergenceWarning: Maximum number of iteration reached before convergence. Consider increasing max_iter to improve the fit.\n",
      "  warnings.warn(\n"
     ]
    },
    {
     "name": "stdout",
     "output_type": "stream",
     "text": [
      "[CV] END alpha=0.01, eta0=0.1, learning_rate=adaptive, penalty=l2; total time=  17.1s\n"
     ]
    },
    {
     "name": "stderr",
     "output_type": "stream",
     "text": [
      "/Users/johannessolibieda/Library/Python/3.9/lib/python/site-packages/sklearn/linear_model/_stochastic_gradient.py:1616: ConvergenceWarning: Maximum number of iteration reached before convergence. Consider increasing max_iter to improve the fit.\n",
      "  warnings.warn(\n"
     ]
    },
    {
     "name": "stdout",
     "output_type": "stream",
     "text": [
      "[CV] END alpha=0.01, eta0=0.1, learning_rate=optimal, penalty=l1; total time=  25.2s\n",
      "[CV] END alpha=0.01, eta0=0.1, learning_rate=adaptive, penalty=l1; total time=   4.9s\n"
     ]
    },
    {
     "name": "stderr",
     "output_type": "stream",
     "text": [
      "/Users/johannessolibieda/Library/Python/3.9/lib/python/site-packages/sklearn/linear_model/_stochastic_gradient.py:1616: ConvergenceWarning: Maximum number of iteration reached before convergence. Consider increasing max_iter to improve the fit.\n",
      "  warnings.warn(\n"
     ]
    },
    {
     "name": "stdout",
     "output_type": "stream",
     "text": [
      "[CV] END alpha=0.01, eta0=0.1, learning_rate=adaptive, penalty=l2; total time=  17.2s\n"
     ]
    },
    {
     "name": "stderr",
     "output_type": "stream",
     "text": [
      "/Users/johannessolibieda/Library/Python/3.9/lib/python/site-packages/sklearn/linear_model/_stochastic_gradient.py:1616: ConvergenceWarning: Maximum number of iteration reached before convergence. Consider increasing max_iter to improve the fit.\n",
      "  warnings.warn(\n"
     ]
    },
    {
     "name": "stdout",
     "output_type": "stream",
     "text": [
      "[CV] END alpha=0.01, eta0=0.1, learning_rate=adaptive, penalty=l1; total time=  25.4s\n"
     ]
    },
    {
     "name": "stderr",
     "output_type": "stream",
     "text": [
      "/Users/johannessolibieda/Library/Python/3.9/lib/python/site-packages/sklearn/linear_model/_stochastic_gradient.py:1616: ConvergenceWarning: Maximum number of iteration reached before convergence. Consider increasing max_iter to improve the fit.\n",
      "  warnings.warn(\n"
     ]
    },
    {
     "name": "stdout",
     "output_type": "stream",
     "text": [
      "[CV] END alpha=0.01, eta0=0.1, learning_rate=adaptive, penalty=l1; total time=  25.3s\n"
     ]
    },
    {
     "name": "stderr",
     "output_type": "stream",
     "text": [
      "/Users/johannessolibieda/Library/Python/3.9/lib/python/site-packages/sklearn/linear_model/_stochastic_gradient.py:1616: ConvergenceWarning: Maximum number of iteration reached before convergence. Consider increasing max_iter to improve the fit.\n",
      "  warnings.warn(\n"
     ]
    },
    {
     "name": "stdout",
     "output_type": "stream",
     "text": [
      "[CV] END alpha=0.01, eta0=0.1, learning_rate=adaptive, penalty=l1; total time=  25.0s\n"
     ]
    },
    {
     "name": "stderr",
     "output_type": "stream",
     "text": [
      "/Users/johannessolibieda/Library/Python/3.9/lib/python/site-packages/sklearn/linear_model/_stochastic_gradient.py:1616: ConvergenceWarning: Maximum number of iteration reached before convergence. Consider increasing max_iter to improve the fit.\n",
      "  warnings.warn(\n",
      "/Users/johannessolibieda/Library/Python/3.9/lib/python/site-packages/sklearn/linear_model/_stochastic_gradient.py:1616: ConvergenceWarning: Maximum number of iteration reached before convergence. Consider increasing max_iter to improve the fit.\n",
      "  warnings.warn(\n"
     ]
    },
    {
     "name": "stdout",
     "output_type": "stream",
     "text": [
      "[CV] END alpha=0.01, eta0=0.1, learning_rate=adaptive, penalty=elasticnet; total time=  25.4s\n",
      "[CV] END alpha=0.01, eta0=0.1, learning_rate=adaptive, penalty=l1; total time=  25.6s\n"
     ]
    },
    {
     "name": "stderr",
     "output_type": "stream",
     "text": [
      "/Users/johannessolibieda/Library/Python/3.9/lib/python/site-packages/sklearn/linear_model/_stochastic_gradient.py:1616: ConvergenceWarning: Maximum number of iteration reached before convergence. Consider increasing max_iter to improve the fit.\n",
      "  warnings.warn(\n"
     ]
    },
    {
     "name": "stdout",
     "output_type": "stream",
     "text": [
      "[CV] END alpha=0.01, eta0=0.1, learning_rate=adaptive, penalty=elasticnet; total time=  25.2s\n"
     ]
    },
    {
     "name": "stderr",
     "output_type": "stream",
     "text": [
      "/Users/johannessolibieda/Library/Python/3.9/lib/python/site-packages/sklearn/linear_model/_stochastic_gradient.py:1616: ConvergenceWarning: Maximum number of iteration reached before convergence. Consider increasing max_iter to improve the fit.\n",
      "  warnings.warn(\n"
     ]
    },
    {
     "name": "stdout",
     "output_type": "stream",
     "text": [
      "[CV] END alpha=0.01, eta0=0.1, learning_rate=adaptive, penalty=elasticnet; total time=  25.3s\n",
      "[CV] END alpha=0.01, eta0=1, learning_rate=constant, penalty=l2; total time=   0.1s\n",
      "[CV] END alpha=0.01, eta0=1, learning_rate=constant, penalty=l2; total time=   0.2s\n",
      "[CV] END alpha=0.01, eta0=1, learning_rate=constant, penalty=l2; total time=   0.2s\n",
      "[CV] END alpha=0.01, eta0=1, learning_rate=constant, penalty=l2; total time=   0.2s\n",
      "[CV] END alpha=0.01, eta0=1, learning_rate=constant, penalty=l2; total time=   0.1s\n",
      "[CV] END alpha=0.01, eta0=1, learning_rate=constant, penalty=l1; total time=   0.2s\n",
      "[CV] END alpha=0.01, eta0=1, learning_rate=constant, penalty=l1; total time=   0.2s\n",
      "[CV] END alpha=0.01, eta0=1, learning_rate=constant, penalty=l1; total time=   0.2s\n",
      "[CV] END alpha=0.01, eta0=1, learning_rate=constant, penalty=l1; total time=   0.2s\n",
      "[CV] END alpha=0.01, eta0=1, learning_rate=constant, penalty=l1; total time=   0.4s\n",
      "[CV] END alpha=0.01, eta0=1, learning_rate=constant, penalty=elasticnet; total time=   0.4s\n",
      "[CV] END alpha=0.01, eta0=1, learning_rate=constant, penalty=elasticnet; total time=   0.2s\n",
      "[CV] END alpha=0.01, eta0=1, learning_rate=constant, penalty=elasticnet; total time=   0.3s\n",
      "[CV] END alpha=0.01, eta0=1, learning_rate=constant, penalty=elasticnet; total time=   0.7s\n",
      "[CV] END alpha=0.01, eta0=1, learning_rate=constant, penalty=elasticnet; total time=   0.5s\n",
      "[CV] END alpha=0.01, eta0=1, learning_rate=constant, penalty=None; total time=   0.1s\n",
      "[CV] END alpha=0.01, eta0=1, learning_rate=constant, penalty=None; total time=   0.1s\n",
      "[CV] END alpha=0.01, eta0=1, learning_rate=constant, penalty=None; total time=   0.1s\n",
      "[CV] END alpha=0.01, eta0=1, learning_rate=constant, penalty=None; total time=   0.2s\n",
      "[CV] END alpha=0.01, eta0=1, learning_rate=constant, penalty=None; total time=   0.1s\n",
      "[CV] END alpha=0.01, eta0=1, learning_rate=optimal, penalty=l2; total time=   0.6s\n",
      "[CV] END alpha=0.01, eta0=1, learning_rate=optimal, penalty=l2; total time=   0.9s\n",
      "[CV] END alpha=0.01, eta0=1, learning_rate=optimal, penalty=l2; total time=   0.4s\n",
      "[CV] END alpha=0.01, eta0=1, learning_rate=optimal, penalty=l2; total time=   0.9s\n"
     ]
    },
    {
     "name": "stderr",
     "output_type": "stream",
     "text": [
      "/Users/johannessolibieda/Library/Python/3.9/lib/python/site-packages/sklearn/linear_model/_stochastic_gradient.py:1616: ConvergenceWarning: Maximum number of iteration reached before convergence. Consider increasing max_iter to improve the fit.\n",
      "  warnings.warn(\n"
     ]
    },
    {
     "name": "stdout",
     "output_type": "stream",
     "text": [
      "[CV] END alpha=0.01, eta0=0.1, learning_rate=adaptive, penalty=elasticnet; total time=  25.1s\n",
      "[CV] END alpha=0.01, eta0=1, learning_rate=optimal, penalty=l2; total time=   0.6s\n"
     ]
    },
    {
     "name": "stderr",
     "output_type": "stream",
     "text": [
      "/Users/johannessolibieda/Library/Python/3.9/lib/python/site-packages/sklearn/linear_model/_stochastic_gradient.py:1616: ConvergenceWarning: Maximum number of iteration reached before convergence. Consider increasing max_iter to improve the fit.\n",
      "  warnings.warn(\n"
     ]
    },
    {
     "name": "stdout",
     "output_type": "stream",
     "text": [
      "[CV] END alpha=0.01, eta0=0.1, learning_rate=adaptive, penalty=None; total time=  16.4s\n",
      "[CV] END alpha=0.01, eta0=1, learning_rate=optimal, penalty=l1; total time=   0.6s\n",
      "[CV] END alpha=0.01, eta0=1, learning_rate=optimal, penalty=l1; total time=   1.0s\n"
     ]
    },
    {
     "name": "stderr",
     "output_type": "stream",
     "text": [
      "/Users/johannessolibieda/Library/Python/3.9/lib/python/site-packages/sklearn/linear_model/_stochastic_gradient.py:1616: ConvergenceWarning: Maximum number of iteration reached before convergence. Consider increasing max_iter to improve the fit.\n",
      "  warnings.warn(\n"
     ]
    },
    {
     "name": "stdout",
     "output_type": "stream",
     "text": [
      "[CV] END alpha=0.01, eta0=0.1, learning_rate=adaptive, penalty=None; total time=  16.6s\n"
     ]
    },
    {
     "name": "stderr",
     "output_type": "stream",
     "text": [
      "/Users/johannessolibieda/Library/Python/3.9/lib/python/site-packages/sklearn/linear_model/_stochastic_gradient.py:1616: ConvergenceWarning: Maximum number of iteration reached before convergence. Consider increasing max_iter to improve the fit.\n",
      "  warnings.warn(\n",
      "/Users/johannessolibieda/Library/Python/3.9/lib/python/site-packages/sklearn/linear_model/_stochastic_gradient.py:1616: ConvergenceWarning: Maximum number of iteration reached before convergence. Consider increasing max_iter to improve the fit.\n",
      "  warnings.warn(\n",
      "/Users/johannessolibieda/Library/Python/3.9/lib/python/site-packages/sklearn/linear_model/_stochastic_gradient.py:1616: ConvergenceWarning: Maximum number of iteration reached before convergence. Consider increasing max_iter to improve the fit.\n",
      "  warnings.warn(\n"
     ]
    },
    {
     "name": "stdout",
     "output_type": "stream",
     "text": [
      "[CV] END alpha=0.01, eta0=0.1, learning_rate=adaptive, penalty=None; total time=  16.8s\n",
      "[CV] END alpha=0.01, eta0=0.1, learning_rate=adaptive, penalty=None; total time=  16.7s\n",
      "[CV] END alpha=0.01, eta0=0.1, learning_rate=adaptive, penalty=None; total time=  16.6s\n",
      "[CV] END alpha=0.01, eta0=1, learning_rate=optimal, penalty=elasticnet; total time=   1.1s\n",
      "[CV] END alpha=0.01, eta0=1, learning_rate=optimal, penalty=elasticnet; total time=   0.8s\n",
      "[CV] END alpha=0.01, eta0=1, learning_rate=optimal, penalty=elasticnet; total time=   0.6s\n",
      "[CV] END alpha=0.01, eta0=1, learning_rate=optimal, penalty=l1; total time=   2.2s\n",
      "[CV] END alpha=0.01, eta0=1, learning_rate=optimal, penalty=elasticnet; total time=   1.3s\n",
      "[CV] END alpha=0.01, eta0=1, learning_rate=optimal, penalty=elasticnet; total time=   1.3s\n",
      "[CV] END alpha=0.01, eta0=1, learning_rate=optimal, penalty=None; total time=   0.4s\n",
      "[CV] END alpha=0.01, eta0=1, learning_rate=invscaling, penalty=l2; total time=   0.5s\n",
      "[CV] END alpha=0.01, eta0=1, learning_rate=invscaling, penalty=l2; total time=   0.4s\n",
      "[CV] END alpha=0.01, eta0=1, learning_rate=invscaling, penalty=l2; total time=   0.8s\n",
      "[CV] END alpha=0.01, eta0=1, learning_rate=invscaling, penalty=l2; total time=   0.3s\n",
      "[CV] END alpha=0.01, eta0=1, learning_rate=invscaling, penalty=l2; total time=   0.3s\n"
     ]
    },
    {
     "name": "stderr",
     "output_type": "stream",
     "text": [
      "/Users/johannessolibieda/Library/Python/3.9/lib/python/site-packages/sklearn/linear_model/_stochastic_gradient.py:1616: ConvergenceWarning: Maximum number of iteration reached before convergence. Consider increasing max_iter to improve the fit.\n",
      "  warnings.warn(\n"
     ]
    },
    {
     "name": "stdout",
     "output_type": "stream",
     "text": [
      "[CV] END alpha=0.01, eta0=0.1, learning_rate=adaptive, penalty=elasticnet; total time=  24.7s\n",
      "[CV] END alpha=0.01, eta0=1, learning_rate=invscaling, penalty=l1; total time=   1.2s\n",
      "[CV] END alpha=0.01, eta0=1, learning_rate=invscaling, penalty=l1; total time=   1.2s\n",
      "[CV] END alpha=0.01, eta0=1, learning_rate=invscaling, penalty=l1; total time=   0.8s\n",
      "[CV] END alpha=0.01, eta0=1, learning_rate=invscaling, penalty=l1; total time=   0.4s\n",
      "[CV] END alpha=0.01, eta0=1, learning_rate=invscaling, penalty=l1; total time=   0.9s\n",
      "[CV] END alpha=0.01, eta0=1, learning_rate=invscaling, penalty=elasticnet; total time=   1.4s\n",
      "[CV] END alpha=0.01, eta0=1, learning_rate=invscaling, penalty=elasticnet; total time=   1.7s\n",
      "[CV] END alpha=0.01, eta0=1, learning_rate=invscaling, penalty=elasticnet; total time=   0.9s\n",
      "[CV] END alpha=0.01, eta0=1, learning_rate=invscaling, penalty=elasticnet; total time=   1.5s\n",
      "[CV] END alpha=0.01, eta0=1, learning_rate=invscaling, penalty=None; total time=   0.4s\n",
      "[CV] END alpha=0.01, eta0=1, learning_rate=invscaling, penalty=elasticnet; total time=   0.8s\n",
      "[CV] END alpha=0.01, eta0=1, learning_rate=invscaling, penalty=None; total time=   0.4s\n",
      "[CV] END alpha=0.01, eta0=1, learning_rate=invscaling, penalty=None; total time=   0.3s\n",
      "[CV] END alpha=0.01, eta0=1, learning_rate=invscaling, penalty=None; total time=   0.5s\n",
      "[CV] END alpha=0.01, eta0=1, learning_rate=invscaling, penalty=None; total time=   0.5s\n"
     ]
    },
    {
     "name": "stderr",
     "output_type": "stream",
     "text": [
      "/Users/johannessolibieda/Library/Python/3.9/lib/python/site-packages/sklearn/linear_model/_stochastic_gradient.py:1616: ConvergenceWarning: Maximum number of iteration reached before convergence. Consider increasing max_iter to improve the fit.\n",
      "  warnings.warn(\n",
      "/Users/johannessolibieda/Library/Python/3.9/lib/python/site-packages/sklearn/linear_model/_stochastic_gradient.py:1616: ConvergenceWarning: Maximum number of iteration reached before convergence. Consider increasing max_iter to improve the fit.\n",
      "  warnings.warn(\n"
     ]
    },
    {
     "name": "stdout",
     "output_type": "stream",
     "text": [
      "[CV] END alpha=0.01, eta0=1, learning_rate=optimal, penalty=None; total time=  17.6s\n",
      "[CV] END alpha=0.01, eta0=1, learning_rate=optimal, penalty=None; total time=  17.4s\n"
     ]
    },
    {
     "name": "stderr",
     "output_type": "stream",
     "text": [
      "/Users/johannessolibieda/Library/Python/3.9/lib/python/site-packages/sklearn/linear_model/_stochastic_gradient.py:1616: ConvergenceWarning: Maximum number of iteration reached before convergence. Consider increasing max_iter to improve the fit.\n",
      "  warnings.warn(\n"
     ]
    },
    {
     "name": "stdout",
     "output_type": "stream",
     "text": [
      "[CV] END alpha=0.01, eta0=1, learning_rate=optimal, penalty=None; total time=  17.7s\n"
     ]
    },
    {
     "name": "stderr",
     "output_type": "stream",
     "text": [
      "/Users/johannessolibieda/Library/Python/3.9/lib/python/site-packages/sklearn/linear_model/_stochastic_gradient.py:1616: ConvergenceWarning: Maximum number of iteration reached before convergence. Consider increasing max_iter to improve the fit.\n",
      "  warnings.warn(\n"
     ]
    },
    {
     "name": "stdout",
     "output_type": "stream",
     "text": [
      "[CV] END alpha=0.01, eta0=1, learning_rate=optimal, penalty=None; total time=  18.1s\n"
     ]
    },
    {
     "name": "stderr",
     "output_type": "stream",
     "text": [
      "/Users/johannessolibieda/Library/Python/3.9/lib/python/site-packages/sklearn/linear_model/_stochastic_gradient.py:1616: ConvergenceWarning: Maximum number of iteration reached before convergence. Consider increasing max_iter to improve the fit.\n",
      "  warnings.warn(\n"
     ]
    },
    {
     "name": "stdout",
     "output_type": "stream",
     "text": [
      "[CV] END alpha=0.01, eta0=1, learning_rate=optimal, penalty=l1; total time=  26.1s\n"
     ]
    },
    {
     "name": "stderr",
     "output_type": "stream",
     "text": [
      "/Users/johannessolibieda/Library/Python/3.9/lib/python/site-packages/sklearn/linear_model/_stochastic_gradient.py:1616: ConvergenceWarning: Maximum number of iteration reached before convergence. Consider increasing max_iter to improve the fit.\n",
      "  warnings.warn(\n"
     ]
    },
    {
     "name": "stdout",
     "output_type": "stream",
     "text": [
      "[CV] END alpha=0.01, eta0=1, learning_rate=optimal, penalty=l1; total time=  26.5s\n"
     ]
    },
    {
     "name": "stderr",
     "output_type": "stream",
     "text": [
      "/Users/johannessolibieda/Library/Python/3.9/lib/python/site-packages/sklearn/linear_model/_stochastic_gradient.py:1616: ConvergenceWarning: Maximum number of iteration reached before convergence. Consider increasing max_iter to improve the fit.\n",
      "  warnings.warn(\n"
     ]
    },
    {
     "name": "stdout",
     "output_type": "stream",
     "text": [
      "[CV] END alpha=0.01, eta0=1, learning_rate=adaptive, penalty=l2; total time=  19.8s\n"
     ]
    },
    {
     "name": "stderr",
     "output_type": "stream",
     "text": [
      "/Users/johannessolibieda/Library/Python/3.9/lib/python/site-packages/sklearn/linear_model/_stochastic_gradient.py:1616: ConvergenceWarning: Maximum number of iteration reached before convergence. Consider increasing max_iter to improve the fit.\n",
      "  warnings.warn(\n"
     ]
    },
    {
     "name": "stdout",
     "output_type": "stream",
     "text": [
      "[CV] END alpha=0.01, eta0=1, learning_rate=adaptive, penalty=l2; total time=  19.8s\n"
     ]
    },
    {
     "name": "stderr",
     "output_type": "stream",
     "text": [
      "/Users/johannessolibieda/Library/Python/3.9/lib/python/site-packages/sklearn/linear_model/_stochastic_gradient.py:1616: ConvergenceWarning: Maximum number of iteration reached before convergence. Consider increasing max_iter to improve the fit.\n",
      "  warnings.warn(\n"
     ]
    },
    {
     "name": "stdout",
     "output_type": "stream",
     "text": [
      "[CV] END alpha=0.01, eta0=1, learning_rate=adaptive, penalty=l2; total time=  19.5s\n"
     ]
    },
    {
     "name": "stderr",
     "output_type": "stream",
     "text": [
      "/Users/johannessolibieda/Library/Python/3.9/lib/python/site-packages/sklearn/linear_model/_stochastic_gradient.py:1616: ConvergenceWarning: Maximum number of iteration reached before convergence. Consider increasing max_iter to improve the fit.\n",
      "  warnings.warn(\n",
      "/Users/johannessolibieda/Library/Python/3.9/lib/python/site-packages/sklearn/linear_model/_stochastic_gradient.py:1616: ConvergenceWarning: Maximum number of iteration reached before convergence. Consider increasing max_iter to improve the fit.\n",
      "  warnings.warn(\n"
     ]
    },
    {
     "name": "stdout",
     "output_type": "stream",
     "text": [
      "[CV] END alpha=0.01, eta0=1, learning_rate=adaptive, penalty=l2; total time=  19.5s\n",
      "[CV] END alpha=0.01, eta0=1, learning_rate=adaptive, penalty=l2; total time=  19.8s\n"
     ]
    },
    {
     "name": "stderr",
     "output_type": "stream",
     "text": [
      "/Users/johannessolibieda/Library/Python/3.9/lib/python/site-packages/sklearn/linear_model/_stochastic_gradient.py:1616: ConvergenceWarning: Maximum number of iteration reached before convergence. Consider increasing max_iter to improve the fit.\n",
      "  warnings.warn(\n"
     ]
    },
    {
     "name": "stdout",
     "output_type": "stream",
     "text": [
      "[CV] END alpha=0.01, eta0=1, learning_rate=adaptive, penalty=l1; total time=  28.9s\n"
     ]
    },
    {
     "name": "stderr",
     "output_type": "stream",
     "text": [
      "/Users/johannessolibieda/Library/Python/3.9/lib/python/site-packages/sklearn/linear_model/_stochastic_gradient.py:1616: ConvergenceWarning: Maximum number of iteration reached before convergence. Consider increasing max_iter to improve the fit.\n",
      "  warnings.warn(\n",
      "/Users/johannessolibieda/Library/Python/3.9/lib/python/site-packages/sklearn/linear_model/_stochastic_gradient.py:1616: ConvergenceWarning: Maximum number of iteration reached before convergence. Consider increasing max_iter to improve the fit.\n",
      "  warnings.warn(\n"
     ]
    },
    {
     "name": "stdout",
     "output_type": "stream",
     "text": [
      "[CV] END alpha=0.01, eta0=1, learning_rate=adaptive, penalty=l1; total time=  28.7s\n",
      "[CV] END alpha=0.01, eta0=1, learning_rate=adaptive, penalty=l1; total time=  28.4s\n"
     ]
    },
    {
     "name": "stderr",
     "output_type": "stream",
     "text": [
      "/Users/johannessolibieda/Library/Python/3.9/lib/python/site-packages/sklearn/linear_model/_stochastic_gradient.py:1616: ConvergenceWarning: Maximum number of iteration reached before convergence. Consider increasing max_iter to improve the fit.\n",
      "  warnings.warn(\n"
     ]
    },
    {
     "name": "stdout",
     "output_type": "stream",
     "text": [
      "[CV] END alpha=0.01, eta0=1, learning_rate=adaptive, penalty=l1; total time=  28.6s\n"
     ]
    },
    {
     "name": "stderr",
     "output_type": "stream",
     "text": [
      "/Users/johannessolibieda/Library/Python/3.9/lib/python/site-packages/sklearn/linear_model/_stochastic_gradient.py:1616: ConvergenceWarning: Maximum number of iteration reached before convergence. Consider increasing max_iter to improve the fit.\n",
      "  warnings.warn(\n"
     ]
    },
    {
     "name": "stdout",
     "output_type": "stream",
     "text": [
      "[CV] END alpha=0.01, eta0=1, learning_rate=adaptive, penalty=l1; total time=  28.5s\n"
     ]
    },
    {
     "name": "stderr",
     "output_type": "stream",
     "text": [
      "/Users/johannessolibieda/Library/Python/3.9/lib/python/site-packages/sklearn/linear_model/_stochastic_gradient.py:1616: ConvergenceWarning: Maximum number of iteration reached before convergence. Consider increasing max_iter to improve the fit.\n",
      "  warnings.warn(\n"
     ]
    },
    {
     "name": "stdout",
     "output_type": "stream",
     "text": [
      "[CV] END alpha=0.01, eta0=1, learning_rate=adaptive, penalty=elasticnet; total time=  27.3s\n"
     ]
    },
    {
     "name": "stderr",
     "output_type": "stream",
     "text": [
      "/Users/johannessolibieda/Library/Python/3.9/lib/python/site-packages/sklearn/linear_model/_stochastic_gradient.py:1616: ConvergenceWarning: Maximum number of iteration reached before convergence. Consider increasing max_iter to improve the fit.\n",
      "  warnings.warn(\n",
      "/Users/johannessolibieda/Library/Python/3.9/lib/python/site-packages/sklearn/linear_model/_stochastic_gradient.py:1616: ConvergenceWarning: Maximum number of iteration reached before convergence. Consider increasing max_iter to improve the fit.\n",
      "  warnings.warn(\n"
     ]
    },
    {
     "name": "stdout",
     "output_type": "stream",
     "text": [
      "[CV] END alpha=0.01, eta0=1, learning_rate=adaptive, penalty=elasticnet; total time=  27.8s\n",
      "[CV] END alpha=0.01, eta0=1, learning_rate=adaptive, penalty=elasticnet; total time=  27.5s\n",
      "[CV] END alpha=0.1, eta0=0.001, learning_rate=constant, penalty=l2; total time=   0.1s\n",
      "[CV] END alpha=0.1, eta0=0.001, learning_rate=constant, penalty=l2; total time=   0.1s\n",
      "[CV] END alpha=0.1, eta0=0.001, learning_rate=constant, penalty=l2; total time=   0.1s\n",
      "[CV] END alpha=0.1, eta0=0.001, learning_rate=constant, penalty=l2; total time=   0.1s\n",
      "[CV] END alpha=0.1, eta0=0.001, learning_rate=constant, penalty=l2; total time=   0.1s\n",
      "[CV] END alpha=0.1, eta0=0.001, learning_rate=constant, penalty=l1; total time=   0.2s\n",
      "[CV] END alpha=0.1, eta0=0.001, learning_rate=constant, penalty=l1; total time=   0.2s\n",
      "[CV] END alpha=0.1, eta0=0.001, learning_rate=constant, penalty=l1; total time=   0.2s\n",
      "[CV] END alpha=0.1, eta0=0.001, learning_rate=constant, penalty=l1; total time=   0.2s\n",
      "[CV] END alpha=0.1, eta0=0.001, learning_rate=constant, penalty=l1; total time=   0.2s\n",
      "[CV] END alpha=0.1, eta0=0.001, learning_rate=constant, penalty=elasticnet; total time=   0.2s\n",
      "[CV] END alpha=0.1, eta0=0.001, learning_rate=constant, penalty=elasticnet; total time=   0.2s\n",
      "[CV] END alpha=0.1, eta0=0.001, learning_rate=constant, penalty=elasticnet; total time=   0.2s\n",
      "[CV] END alpha=0.1, eta0=0.001, learning_rate=constant, penalty=elasticnet; total time=   0.2s\n",
      "[CV] END alpha=0.1, eta0=0.001, learning_rate=constant, penalty=elasticnet; total time=   0.2s\n",
      "[CV] END alpha=0.01, eta0=1, learning_rate=adaptive, penalty=None; total time=  17.4s\n",
      "[CV] END alpha=0.1, eta0=0.001, learning_rate=constant, penalty=None; total time=   0.1s\n"
     ]
    },
    {
     "name": "stderr",
     "output_type": "stream",
     "text": [
      "/Users/johannessolibieda/Library/Python/3.9/lib/python/site-packages/sklearn/linear_model/_stochastic_gradient.py:1616: ConvergenceWarning: Maximum number of iteration reached before convergence. Consider increasing max_iter to improve the fit.\n",
      "  warnings.warn(\n"
     ]
    },
    {
     "name": "stdout",
     "output_type": "stream",
     "text": [
      "[CV] END alpha=0.1, eta0=0.001, learning_rate=constant, penalty=None; total time=   0.1s\n",
      "[CV] END alpha=0.1, eta0=0.001, learning_rate=constant, penalty=None; total time=   0.1s\n",
      "[CV] END alpha=0.1, eta0=0.001, learning_rate=constant, penalty=None; total time=   0.1s\n",
      "[CV] END alpha=0.1, eta0=0.001, learning_rate=constant, penalty=None; total time=   0.1s\n"
     ]
    },
    {
     "name": "stderr",
     "output_type": "stream",
     "text": [
      "/Users/johannessolibieda/Library/Python/3.9/lib/python/site-packages/sklearn/linear_model/_stochastic_gradient.py:1616: ConvergenceWarning: Maximum number of iteration reached before convergence. Consider increasing max_iter to improve the fit.\n",
      "  warnings.warn(\n"
     ]
    },
    {
     "name": "stdout",
     "output_type": "stream",
     "text": [
      "[CV] END alpha=0.01, eta0=1, learning_rate=adaptive, penalty=elasticnet; total time=  26.2s\n"
     ]
    },
    {
     "name": "stderr",
     "output_type": "stream",
     "text": [
      "/Users/johannessolibieda/Library/Python/3.9/lib/python/site-packages/sklearn/linear_model/_stochastic_gradient.py:1616: ConvergenceWarning: Maximum number of iteration reached before convergence. Consider increasing max_iter to improve the fit.\n",
      "  warnings.warn(\n"
     ]
    },
    {
     "name": "stdout",
     "output_type": "stream",
     "text": [
      "[CV] END alpha=0.01, eta0=1, learning_rate=adaptive, penalty=None; total time=  16.4s\n"
     ]
    },
    {
     "name": "stderr",
     "output_type": "stream",
     "text": [
      "/Users/johannessolibieda/Library/Python/3.9/lib/python/site-packages/sklearn/linear_model/_stochastic_gradient.py:1616: ConvergenceWarning: Maximum number of iteration reached before convergence. Consider increasing max_iter to improve the fit.\n",
      "  warnings.warn(\n"
     ]
    },
    {
     "name": "stdout",
     "output_type": "stream",
     "text": [
      "[CV] END alpha=0.01, eta0=1, learning_rate=adaptive, penalty=None; total time=  16.8s\n"
     ]
    },
    {
     "name": "stderr",
     "output_type": "stream",
     "text": [
      "/Users/johannessolibieda/Library/Python/3.9/lib/python/site-packages/sklearn/linear_model/_stochastic_gradient.py:1616: ConvergenceWarning: Maximum number of iteration reached before convergence. Consider increasing max_iter to improve the fit.\n",
      "  warnings.warn(\n"
     ]
    },
    {
     "name": "stdout",
     "output_type": "stream",
     "text": [
      "[CV] END alpha=0.01, eta0=1, learning_rate=adaptive, penalty=elasticnet; total time=  25.9s\n"
     ]
    },
    {
     "name": "stderr",
     "output_type": "stream",
     "text": [
      "/Users/johannessolibieda/Library/Python/3.9/lib/python/site-packages/sklearn/linear_model/_stochastic_gradient.py:1616: ConvergenceWarning: Maximum number of iteration reached before convergence. Consider increasing max_iter to improve the fit.\n",
      "  warnings.warn(\n",
      "/Users/johannessolibieda/Library/Python/3.9/lib/python/site-packages/sklearn/linear_model/_stochastic_gradient.py:1616: ConvergenceWarning: Maximum number of iteration reached before convergence. Consider increasing max_iter to improve the fit.\n",
      "  warnings.warn(\n"
     ]
    },
    {
     "name": "stdout",
     "output_type": "stream",
     "text": [
      "[CV] END alpha=0.01, eta0=1, learning_rate=adaptive, penalty=None; total time=  16.7s\n",
      "[CV] END alpha=0.01, eta0=1, learning_rate=adaptive, penalty=None; total time=  16.4s\n",
      "[CV] END alpha=0.1, eta0=0.001, learning_rate=optimal, penalty=l1; total time=   0.2s\n"
     ]
    },
    {
     "name": "stderr",
     "output_type": "stream",
     "text": [
      "/Users/johannessolibieda/Library/Python/3.9/lib/python/site-packages/sklearn/linear_model/_stochastic_gradient.py:1616: ConvergenceWarning: Maximum number of iteration reached before convergence. Consider increasing max_iter to improve the fit.\n",
      "  warnings.warn(\n",
      "/Users/johannessolibieda/Library/Python/3.9/lib/python/site-packages/sklearn/linear_model/_stochastic_gradient.py:1616: ConvergenceWarning: Maximum number of iteration reached before convergence. Consider increasing max_iter to improve the fit.\n",
      "  warnings.warn(\n"
     ]
    },
    {
     "name": "stdout",
     "output_type": "stream",
     "text": [
      "[CV] END alpha=0.1, eta0=0.001, learning_rate=optimal, penalty=l2; total time=  16.7s\n",
      "[CV] END alpha=0.1, eta0=0.001, learning_rate=optimal, penalty=l2; total time=  16.7s\n"
     ]
    },
    {
     "name": "stderr",
     "output_type": "stream",
     "text": [
      "/Users/johannessolibieda/Library/Python/3.9/lib/python/site-packages/sklearn/linear_model/_stochastic_gradient.py:1616: ConvergenceWarning: Maximum number of iteration reached before convergence. Consider increasing max_iter to improve the fit.\n",
      "  warnings.warn(\n"
     ]
    },
    {
     "name": "stdout",
     "output_type": "stream",
     "text": [
      "[CV] END alpha=0.1, eta0=0.001, learning_rate=optimal, penalty=l2; total time=  16.8s\n"
     ]
    },
    {
     "name": "stderr",
     "output_type": "stream",
     "text": [
      "/Users/johannessolibieda/Library/Python/3.9/lib/python/site-packages/sklearn/linear_model/_stochastic_gradient.py:1616: ConvergenceWarning: Maximum number of iteration reached before convergence. Consider increasing max_iter to improve the fit.\n",
      "  warnings.warn(\n"
     ]
    },
    {
     "name": "stdout",
     "output_type": "stream",
     "text": [
      "[CV] END alpha=0.1, eta0=0.001, learning_rate=optimal, penalty=l2; total time=  17.0s\n"
     ]
    },
    {
     "name": "stderr",
     "output_type": "stream",
     "text": [
      "/Users/johannessolibieda/Library/Python/3.9/lib/python/site-packages/sklearn/linear_model/_stochastic_gradient.py:1616: ConvergenceWarning: Maximum number of iteration reached before convergence. Consider increasing max_iter to improve the fit.\n",
      "  warnings.warn(\n"
     ]
    },
    {
     "name": "stdout",
     "output_type": "stream",
     "text": [
      "[CV] END alpha=0.1, eta0=0.001, learning_rate=optimal, penalty=l2; total time=  16.8s\n"
     ]
    },
    {
     "name": "stderr",
     "output_type": "stream",
     "text": [
      "/Users/johannessolibieda/Library/Python/3.9/lib/python/site-packages/sklearn/linear_model/_stochastic_gradient.py:1616: ConvergenceWarning: Maximum number of iteration reached before convergence. Consider increasing max_iter to improve the fit.\n",
      "  warnings.warn(\n"
     ]
    },
    {
     "name": "stdout",
     "output_type": "stream",
     "text": [
      "[CV] END alpha=0.1, eta0=0.001, learning_rate=optimal, penalty=l1; total time=  24.8s\n"
     ]
    },
    {
     "name": "stderr",
     "output_type": "stream",
     "text": [
      "/Users/johannessolibieda/Library/Python/3.9/lib/python/site-packages/sklearn/linear_model/_stochastic_gradient.py:1616: ConvergenceWarning: Maximum number of iteration reached before convergence. Consider increasing max_iter to improve the fit.\n",
      "  warnings.warn(\n",
      "/Users/johannessolibieda/Library/Python/3.9/lib/python/site-packages/sklearn/linear_model/_stochastic_gradient.py:1616: ConvergenceWarning: Maximum number of iteration reached before convergence. Consider increasing max_iter to improve the fit.\n",
      "  warnings.warn(\n"
     ]
    },
    {
     "name": "stdout",
     "output_type": "stream",
     "text": [
      "[CV] END alpha=0.1, eta0=0.001, learning_rate=optimal, penalty=l1; total time=  25.1s\n",
      "[CV] END alpha=0.1, eta0=0.001, learning_rate=optimal, penalty=l1; total time=  25.1s\n",
      "[CV] END alpha=0.1, eta0=0.001, learning_rate=optimal, penalty=None; total time=   0.1s\n"
     ]
    },
    {
     "name": "stderr",
     "output_type": "stream",
     "text": [
      "/Users/johannessolibieda/Library/Python/3.9/lib/python/site-packages/sklearn/linear_model/_stochastic_gradient.py:1616: ConvergenceWarning: Maximum number of iteration reached before convergence. Consider increasing max_iter to improve the fit.\n",
      "  warnings.warn(\n",
      "/Users/johannessolibieda/Library/Python/3.9/lib/python/site-packages/sklearn/linear_model/_stochastic_gradient.py:1616: ConvergenceWarning: Maximum number of iteration reached before convergence. Consider increasing max_iter to improve the fit.\n",
      "  warnings.warn(\n"
     ]
    },
    {
     "name": "stdout",
     "output_type": "stream",
     "text": [
      "[CV] END alpha=0.1, eta0=0.001, learning_rate=optimal, penalty=l1; total time=  25.2s\n",
      "[CV] END alpha=0.1, eta0=0.001, learning_rate=optimal, penalty=elasticnet; total time=  25.2s\n"
     ]
    },
    {
     "name": "stderr",
     "output_type": "stream",
     "text": [
      "/Users/johannessolibieda/Library/Python/3.9/lib/python/site-packages/sklearn/linear_model/_stochastic_gradient.py:1616: ConvergenceWarning: Maximum number of iteration reached before convergence. Consider increasing max_iter to improve the fit.\n",
      "  warnings.warn(\n"
     ]
    },
    {
     "name": "stdout",
     "output_type": "stream",
     "text": [
      "[CV] END alpha=0.1, eta0=0.001, learning_rate=optimal, penalty=elasticnet; total time=  25.2s\n",
      "[CV] END alpha=0.1, eta0=0.001, learning_rate=invscaling, penalty=l2; total time=   0.5s\n",
      "[CV] END alpha=0.1, eta0=0.001, learning_rate=invscaling, penalty=l2; total time=   0.1s\n",
      "[CV] END alpha=0.1, eta0=0.001, learning_rate=invscaling, penalty=l2; total time=   0.2s\n",
      "[CV] END alpha=0.1, eta0=0.001, learning_rate=optimal, penalty=elasticnet; total time=  25.4s\n"
     ]
    },
    {
     "name": "stderr",
     "output_type": "stream",
     "text": [
      "/Users/johannessolibieda/Library/Python/3.9/lib/python/site-packages/sklearn/linear_model/_stochastic_gradient.py:1616: ConvergenceWarning: Maximum number of iteration reached before convergence. Consider increasing max_iter to improve the fit.\n",
      "  warnings.warn(\n"
     ]
    },
    {
     "name": "stdout",
     "output_type": "stream",
     "text": [
      "[CV] END alpha=0.1, eta0=0.001, learning_rate=invscaling, penalty=l2; total time=   0.2s\n",
      "[CV] END alpha=0.1, eta0=0.001, learning_rate=invscaling, penalty=l2; total time=   0.4s\n",
      "[CV] END alpha=0.1, eta0=0.001, learning_rate=optimal, penalty=elasticnet; total time=  25.1s\n"
     ]
    },
    {
     "name": "stderr",
     "output_type": "stream",
     "text": [
      "/Users/johannessolibieda/Library/Python/3.9/lib/python/site-packages/sklearn/linear_model/_stochastic_gradient.py:1616: ConvergenceWarning: Maximum number of iteration reached before convergence. Consider increasing max_iter to improve the fit.\n",
      "  warnings.warn(\n"
     ]
    },
    {
     "name": "stdout",
     "output_type": "stream",
     "text": [
      "[CV] END alpha=0.1, eta0=0.001, learning_rate=invscaling, penalty=l1; total time=   0.7s\n",
      "[CV] END alpha=0.1, eta0=0.001, learning_rate=invscaling, penalty=l1; total time=   0.7s\n",
      "[CV] END alpha=0.1, eta0=0.001, learning_rate=invscaling, penalty=l1; total time=   1.0s\n",
      "[CV] END alpha=0.1, eta0=0.001, learning_rate=invscaling, penalty=l1; total time=   0.7s\n",
      "[CV] END alpha=0.1, eta0=0.001, learning_rate=invscaling, penalty=l1; total time=   0.9s\n",
      "[CV] END alpha=0.1, eta0=0.001, learning_rate=invscaling, penalty=elasticnet; total time=   1.3s\n",
      "[CV] END alpha=0.1, eta0=0.001, learning_rate=invscaling, penalty=elasticnet; total time=   1.0s\n",
      "[CV] END alpha=0.1, eta0=0.001, learning_rate=invscaling, penalty=elasticnet; total time=   1.3s\n",
      "[CV] END alpha=0.1, eta0=0.001, learning_rate=invscaling, penalty=None; total time=   0.2s\n",
      "[CV] END alpha=0.1, eta0=0.001, learning_rate=invscaling, penalty=None; total time=   0.1s\n",
      "[CV] END alpha=0.1, eta0=0.001, learning_rate=invscaling, penalty=elasticnet; total time=   0.9s\n",
      "[CV] END alpha=0.1, eta0=0.001, learning_rate=invscaling, penalty=None; total time=   0.1s\n",
      "[CV] END alpha=0.1, eta0=0.001, learning_rate=invscaling, penalty=None; total time=   0.1s\n",
      "[CV] END alpha=0.1, eta0=0.001, learning_rate=invscaling, penalty=None; total time=   0.4s\n",
      "[CV] END alpha=0.1, eta0=0.001, learning_rate=invscaling, penalty=elasticnet; total time=   1.1s\n",
      "[CV] END alpha=0.1, eta0=0.001, learning_rate=adaptive, penalty=l2; total time=   0.5s\n",
      "[CV] END alpha=0.1, eta0=0.001, learning_rate=adaptive, penalty=l2; total time=   0.5s\n",
      "[CV] END alpha=0.1, eta0=0.001, learning_rate=adaptive, penalty=l2; total time=   0.6s\n",
      "[CV] END alpha=0.1, eta0=0.001, learning_rate=adaptive, penalty=l2; total time=   0.6s\n",
      "[CV] END alpha=0.1, eta0=0.001, learning_rate=adaptive, penalty=l2; total time=   0.6s\n",
      "[CV] END alpha=0.1, eta0=0.001, learning_rate=adaptive, penalty=l1; total time=   0.8s\n",
      "[CV] END alpha=0.1, eta0=0.001, learning_rate=adaptive, penalty=l1; total time=   0.8s\n",
      "[CV] END alpha=0.1, eta0=0.001, learning_rate=adaptive, penalty=l1; total time=   0.8s\n",
      "[CV] END alpha=0.1, eta0=0.001, learning_rate=adaptive, penalty=l1; total time=   0.9s\n",
      "[CV] END alpha=0.1, eta0=0.001, learning_rate=adaptive, penalty=l1; total time=   0.9s\n",
      "[CV] END alpha=0.1, eta0=0.001, learning_rate=adaptive, penalty=elasticnet; total time=   0.9s\n",
      "[CV] END alpha=0.1, eta0=0.001, learning_rate=optimal, penalty=None; total time=  17.1s\n"
     ]
    },
    {
     "name": "stderr",
     "output_type": "stream",
     "text": [
      "/Users/johannessolibieda/Library/Python/3.9/lib/python/site-packages/sklearn/linear_model/_stochastic_gradient.py:1616: ConvergenceWarning: Maximum number of iteration reached before convergence. Consider increasing max_iter to improve the fit.\n",
      "  warnings.warn(\n"
     ]
    },
    {
     "name": "stdout",
     "output_type": "stream",
     "text": [
      "[CV] END alpha=0.1, eta0=0.001, learning_rate=adaptive, penalty=elasticnet; total time=   0.9s\n",
      "[CV] END alpha=0.1, eta0=0.001, learning_rate=optimal, penalty=None; total time=  17.1s\n"
     ]
    },
    {
     "name": "stderr",
     "output_type": "stream",
     "text": [
      "/Users/johannessolibieda/Library/Python/3.9/lib/python/site-packages/sklearn/linear_model/_stochastic_gradient.py:1616: ConvergenceWarning: Maximum number of iteration reached before convergence. Consider increasing max_iter to improve the fit.\n",
      "  warnings.warn(\n"
     ]
    },
    {
     "name": "stdout",
     "output_type": "stream",
     "text": [
      "[CV] END alpha=0.1, eta0=0.001, learning_rate=adaptive, penalty=elasticnet; total time=   1.1s\n",
      "[CV] END alpha=0.1, eta0=0.001, learning_rate=adaptive, penalty=elasticnet; total time=   1.1s\n",
      "[CV] END alpha=0.1, eta0=0.001, learning_rate=adaptive, penalty=None; total time=   0.8s\n",
      "[CV] END alpha=0.1, eta0=0.001, learning_rate=adaptive, penalty=None; total time=   0.8s\n",
      "[CV] END alpha=0.1, eta0=0.001, learning_rate=adaptive, penalty=elasticnet; total time=   1.1s\n",
      "[CV] END alpha=0.1, eta0=0.01, learning_rate=constant, penalty=l2; total time=   0.1s\n",
      "[CV] END alpha=0.1, eta0=0.001, learning_rate=adaptive, penalty=None; total time=   0.6s\n",
      "[CV] END alpha=0.1, eta0=0.01, learning_rate=constant, penalty=l2; total time=   0.2s\n",
      "[CV] END alpha=0.1, eta0=0.01, learning_rate=constant, penalty=l2; total time=   0.1s\n",
      "[CV] END alpha=0.1, eta0=0.01, learning_rate=constant, penalty=l2; total time=   0.2s\n",
      "[CV] END alpha=0.1, eta0=0.001, learning_rate=adaptive, penalty=None; total time=   0.6s\n",
      "[CV] END alpha=0.1, eta0=0.01, learning_rate=constant, penalty=l1; total time=   0.2s\n",
      "[CV] END alpha=0.1, eta0=0.001, learning_rate=adaptive, penalty=None; total time=   0.6s\n",
      "[CV] END alpha=0.1, eta0=0.01, learning_rate=constant, penalty=l2; total time=   0.3s\n",
      "[CV] END alpha=0.1, eta0=0.01, learning_rate=constant, penalty=l1; total time=   0.3s\n",
      "[CV] END alpha=0.1, eta0=0.01, learning_rate=constant, penalty=l1; total time=   0.2s\n",
      "[CV] END alpha=0.1, eta0=0.01, learning_rate=constant, penalty=l1; total time=   0.4s\n",
      "[CV] END alpha=0.1, eta0=0.01, learning_rate=constant, penalty=elasticnet; total time=   0.2s\n",
      "[CV] END alpha=0.1, eta0=0.01, learning_rate=constant, penalty=l1; total time=   0.5s\n",
      "[CV] END alpha=0.1, eta0=0.01, learning_rate=constant, penalty=elasticnet; total time=   0.3s\n",
      "[CV] END alpha=0.1, eta0=0.01, learning_rate=constant, penalty=elasticnet; total time=   0.3s\n",
      "[CV] END alpha=0.1, eta0=0.01, learning_rate=constant, penalty=elasticnet; total time=   0.4s\n",
      "[CV] END alpha=0.1, eta0=0.01, learning_rate=constant, penalty=None; total time=   0.1s\n",
      "[CV] END alpha=0.1, eta0=0.01, learning_rate=constant, penalty=None; total time=   0.2s\n",
      "[CV] END alpha=0.1, eta0=0.01, learning_rate=constant, penalty=None; total time=   0.1s\n",
      "[CV] END alpha=0.1, eta0=0.01, learning_rate=constant, penalty=elasticnet; total time=   0.4s\n",
      "[CV] END alpha=0.1, eta0=0.01, learning_rate=constant, penalty=None; total time=   0.1s\n",
      "[CV] END alpha=0.1, eta0=0.01, learning_rate=constant, penalty=None; total time=   0.3s\n"
     ]
    },
    {
     "name": "stderr",
     "output_type": "stream",
     "text": [
      "/Users/johannessolibieda/Library/Python/3.9/lib/python/site-packages/sklearn/linear_model/_stochastic_gradient.py:1616: ConvergenceWarning: Maximum number of iteration reached before convergence. Consider increasing max_iter to improve the fit.\n",
      "  warnings.warn(\n"
     ]
    },
    {
     "name": "stdout",
     "output_type": "stream",
     "text": [
      "[CV] END alpha=0.1, eta0=0.001, learning_rate=optimal, penalty=elasticnet; total time=  25.6s\n"
     ]
    },
    {
     "name": "stderr",
     "output_type": "stream",
     "text": [
      "/Users/johannessolibieda/Library/Python/3.9/lib/python/site-packages/sklearn/linear_model/_stochastic_gradient.py:1616: ConvergenceWarning: Maximum number of iteration reached before convergence. Consider increasing max_iter to improve the fit.\n",
      "  warnings.warn(\n"
     ]
    },
    {
     "name": "stdout",
     "output_type": "stream",
     "text": [
      "[CV] END alpha=0.1, eta0=0.001, learning_rate=optimal, penalty=None; total time=  17.4s\n",
      "[CV] END alpha=0.1, eta0=0.01, learning_rate=optimal, penalty=l1; total time=   0.1s\n",
      "[CV] END alpha=0.1, eta0=0.01, learning_rate=optimal, penalty=l1; total time=   0.1s\n"
     ]
    },
    {
     "name": "stderr",
     "output_type": "stream",
     "text": [
      "/Users/johannessolibieda/Library/Python/3.9/lib/python/site-packages/sklearn/linear_model/_stochastic_gradient.py:1616: ConvergenceWarning: Maximum number of iteration reached before convergence. Consider increasing max_iter to improve the fit.\n",
      "  warnings.warn(\n"
     ]
    },
    {
     "name": "stdout",
     "output_type": "stream",
     "text": [
      "[CV] END alpha=0.1, eta0=0.001, learning_rate=optimal, penalty=None; total time=  17.8s\n"
     ]
    },
    {
     "name": "stderr",
     "output_type": "stream",
     "text": [
      "/Users/johannessolibieda/Library/Python/3.9/lib/python/site-packages/sklearn/linear_model/_stochastic_gradient.py:1616: ConvergenceWarning: Maximum number of iteration reached before convergence. Consider increasing max_iter to improve the fit.\n",
      "  warnings.warn(\n",
      "/Users/johannessolibieda/Library/Python/3.9/lib/python/site-packages/sklearn/linear_model/_stochastic_gradient.py:1616: ConvergenceWarning: Maximum number of iteration reached before convergence. Consider increasing max_iter to improve the fit.\n",
      "  warnings.warn(\n",
      "/Users/johannessolibieda/Library/Python/3.9/lib/python/site-packages/sklearn/linear_model/_stochastic_gradient.py:1616: ConvergenceWarning: Maximum number of iteration reached before convergence. Consider increasing max_iter to improve the fit.\n",
      "  warnings.warn(\n",
      "/Users/johannessolibieda/Library/Python/3.9/lib/python/site-packages/sklearn/linear_model/_stochastic_gradient.py:1616: ConvergenceWarning: Maximum number of iteration reached before convergence. Consider increasing max_iter to improve the fit.\n",
      "  warnings.warn(\n"
     ]
    },
    {
     "name": "stdout",
     "output_type": "stream",
     "text": [
      "[CV] END alpha=0.1, eta0=0.01, learning_rate=optimal, penalty=l2; total time=  17.3s\n",
      "[CV] END alpha=0.1, eta0=0.01, learning_rate=optimal, penalty=l2; total time=  17.5s\n",
      "[CV] END alpha=0.1, eta0=0.01, learning_rate=optimal, penalty=l2; total time=  17.6s\n",
      "[CV] END alpha=0.1, eta0=0.01, learning_rate=optimal, penalty=l2; total time=  17.4s\n"
     ]
    },
    {
     "name": "stderr",
     "output_type": "stream",
     "text": [
      "/Users/johannessolibieda/Library/Python/3.9/lib/python/site-packages/sklearn/linear_model/_stochastic_gradient.py:1616: ConvergenceWarning: Maximum number of iteration reached before convergence. Consider increasing max_iter to improve the fit.\n",
      "  warnings.warn(\n"
     ]
    },
    {
     "name": "stdout",
     "output_type": "stream",
     "text": [
      "[CV] END alpha=0.1, eta0=0.01, learning_rate=optimal, penalty=l2; total time=  17.7s\n"
     ]
    },
    {
     "name": "stderr",
     "output_type": "stream",
     "text": [
      "/Users/johannessolibieda/Library/Python/3.9/lib/python/site-packages/sklearn/linear_model/_stochastic_gradient.py:1616: ConvergenceWarning: Maximum number of iteration reached before convergence. Consider increasing max_iter to improve the fit.\n",
      "  warnings.warn(\n"
     ]
    },
    {
     "name": "stdout",
     "output_type": "stream",
     "text": [
      "[CV] END alpha=0.1, eta0=0.01, learning_rate=optimal, penalty=l1; total time=  25.5s\n"
     ]
    },
    {
     "name": "stderr",
     "output_type": "stream",
     "text": [
      "/Users/johannessolibieda/Library/Python/3.9/lib/python/site-packages/sklearn/linear_model/_stochastic_gradient.py:1616: ConvergenceWarning: Maximum number of iteration reached before convergence. Consider increasing max_iter to improve the fit.\n",
      "  warnings.warn(\n"
     ]
    },
    {
     "name": "stdout",
     "output_type": "stream",
     "text": [
      "[CV] END alpha=0.1, eta0=0.01, learning_rate=optimal, penalty=l1; total time=  25.4s\n"
     ]
    },
    {
     "name": "stderr",
     "output_type": "stream",
     "text": [
      "/Users/johannessolibieda/Library/Python/3.9/lib/python/site-packages/sklearn/linear_model/_stochastic_gradient.py:1616: ConvergenceWarning: Maximum number of iteration reached before convergence. Consider increasing max_iter to improve the fit.\n",
      "  warnings.warn(\n"
     ]
    },
    {
     "name": "stdout",
     "output_type": "stream",
     "text": [
      "[CV] END alpha=0.1, eta0=0.01, learning_rate=optimal, penalty=l1; total time=  25.9s\n"
     ]
    },
    {
     "name": "stderr",
     "output_type": "stream",
     "text": [
      "/Users/johannessolibieda/Library/Python/3.9/lib/python/site-packages/sklearn/linear_model/_stochastic_gradient.py:1616: ConvergenceWarning: Maximum number of iteration reached before convergence. Consider increasing max_iter to improve the fit.\n",
      "  warnings.warn(\n",
      "/Users/johannessolibieda/Library/Python/3.9/lib/python/site-packages/sklearn/linear_model/_stochastic_gradient.py:1616: ConvergenceWarning: Maximum number of iteration reached before convergence. Consider increasing max_iter to improve the fit.\n",
      "  warnings.warn(\n",
      "/Users/johannessolibieda/Library/Python/3.9/lib/python/site-packages/sklearn/linear_model/_stochastic_gradient.py:1616: ConvergenceWarning: Maximum number of iteration reached before convergence. Consider increasing max_iter to improve the fit.\n",
      "  warnings.warn(\n"
     ]
    },
    {
     "name": "stdout",
     "output_type": "stream",
     "text": [
      "[CV] END alpha=0.1, eta0=0.01, learning_rate=optimal, penalty=elasticnet; total time=  25.1s\n",
      "[CV] END alpha=0.1, eta0=0.01, learning_rate=optimal, penalty=elasticnet; total time=  25.1s\n",
      "[CV] END alpha=0.1, eta0=0.01, learning_rate=optimal, penalty=elasticnet; total time=  25.2s\n"
     ]
    },
    {
     "name": "stderr",
     "output_type": "stream",
     "text": [
      "/Users/johannessolibieda/Library/Python/3.9/lib/python/site-packages/sklearn/linear_model/_stochastic_gradient.py:1616: ConvergenceWarning: Maximum number of iteration reached before convergence. Consider increasing max_iter to improve the fit.\n",
      "  warnings.warn(\n"
     ]
    },
    {
     "name": "stdout",
     "output_type": "stream",
     "text": [
      "[CV] END alpha=0.1, eta0=0.01, learning_rate=optimal, penalty=elasticnet; total time=  25.2s\n",
      "[CV] END alpha=0.1, eta0=0.01, learning_rate=invscaling, penalty=l2; total time=   0.2s\n",
      "[CV] END alpha=0.1, eta0=0.01, learning_rate=invscaling, penalty=l2; total time=   0.2s\n",
      "[CV] END alpha=0.1, eta0=0.01, learning_rate=invscaling, penalty=l2; total time=   0.1s\n",
      "[CV] END alpha=0.1, eta0=0.01, learning_rate=invscaling, penalty=l2; total time=   0.1s\n",
      "[CV] END alpha=0.1, eta0=0.01, learning_rate=invscaling, penalty=l2; total time=   0.1s\n"
     ]
    },
    {
     "name": "stderr",
     "output_type": "stream",
     "text": [
      "/Users/johannessolibieda/Library/Python/3.9/lib/python/site-packages/sklearn/linear_model/_stochastic_gradient.py:1616: ConvergenceWarning: Maximum number of iteration reached before convergence. Consider increasing max_iter to improve the fit.\n",
      "  warnings.warn(\n",
      "/Users/johannessolibieda/Library/Python/3.9/lib/python/site-packages/sklearn/linear_model/_stochastic_gradient.py:1616: ConvergenceWarning: Maximum number of iteration reached before convergence. Consider increasing max_iter to improve the fit.\n",
      "  warnings.warn(\n"
     ]
    },
    {
     "name": "stdout",
     "output_type": "stream",
     "text": [
      "[CV] END alpha=0.1, eta0=0.01, learning_rate=optimal, penalty=elasticnet; total time=  25.5s\n",
      "[CV] END alpha=0.1, eta0=0.01, learning_rate=optimal, penalty=None; total time=  17.1s\n",
      "[CV] END alpha=0.1, eta0=0.01, learning_rate=invscaling, penalty=l1; total time=   0.2s\n",
      "[CV] END alpha=0.1, eta0=0.01, learning_rate=invscaling, penalty=l1; total time=   0.2s\n",
      "[CV] END alpha=0.1, eta0=0.01, learning_rate=invscaling, penalty=l1; total time=   0.2s\n",
      "[CV] END alpha=0.1, eta0=0.01, learning_rate=invscaling, penalty=l1; total time=   0.2s\n",
      "[CV] END alpha=0.1, eta0=0.01, learning_rate=invscaling, penalty=elasticnet; total time=   0.2s\n",
      "[CV] END alpha=0.1, eta0=0.01, learning_rate=invscaling, penalty=elasticnet; total time=   0.2s\n",
      "[CV] END alpha=0.1, eta0=0.01, learning_rate=invscaling, penalty=elasticnet; total time=   0.2s\n",
      "[CV] END alpha=0.1, eta0=0.01, learning_rate=invscaling, penalty=elasticnet; total time=   0.2s\n",
      "[CV] END alpha=0.1, eta0=0.01, learning_rate=invscaling, penalty=None; total time=   0.1s\n",
      "[CV] END alpha=0.1, eta0=0.01, learning_rate=invscaling, penalty=elasticnet; total time=   0.2s\n",
      "[CV] END alpha=0.1, eta0=0.01, learning_rate=invscaling, penalty=l1; total time=   0.7s\n",
      "[CV] END alpha=0.1, eta0=0.01, learning_rate=invscaling, penalty=None; total time=   0.1s\n"
     ]
    },
    {
     "name": "stderr",
     "output_type": "stream",
     "text": [
      "/Users/johannessolibieda/Library/Python/3.9/lib/python/site-packages/sklearn/linear_model/_stochastic_gradient.py:1616: ConvergenceWarning: Maximum number of iteration reached before convergence. Consider increasing max_iter to improve the fit.\n",
      "  warnings.warn(\n"
     ]
    },
    {
     "name": "stdout",
     "output_type": "stream",
     "text": [
      "[CV] END alpha=0.1, eta0=0.01, learning_rate=optimal, penalty=None; total time=  16.9s\n",
      "[CV] END alpha=0.1, eta0=0.01, learning_rate=invscaling, penalty=None; total time=   0.1s\n",
      "[CV] END alpha=0.1, eta0=0.01, learning_rate=invscaling, penalty=None; total time=   0.1s\n",
      "[CV] END alpha=0.1, eta0=0.01, learning_rate=invscaling, penalty=None; total time=   0.1s\n"
     ]
    },
    {
     "name": "stderr",
     "output_type": "stream",
     "text": [
      "/Users/johannessolibieda/Library/Python/3.9/lib/python/site-packages/sklearn/linear_model/_stochastic_gradient.py:1616: ConvergenceWarning: Maximum number of iteration reached before convergence. Consider increasing max_iter to improve the fit.\n",
      "  warnings.warn(\n"
     ]
    },
    {
     "name": "stdout",
     "output_type": "stream",
     "text": [
      "[CV] END alpha=0.1, eta0=0.01, learning_rate=optimal, penalty=None; total time=  17.1s\n",
      "[CV] END alpha=0.1, eta0=0.01, learning_rate=adaptive, penalty=l2; total time=  13.7s\n",
      "[CV] END alpha=0.1, eta0=0.01, learning_rate=adaptive, penalty=l2; total time=  13.7s\n",
      "[CV] END alpha=0.1, eta0=0.01, learning_rate=adaptive, penalty=l2; total time=  13.8s\n",
      "[CV] END alpha=0.1, eta0=0.01, learning_rate=adaptive, penalty=l2; total time=  14.2s\n",
      "[CV] END alpha=0.1, eta0=0.01, learning_rate=adaptive, penalty=l2; total time=  14.5s\n"
     ]
    },
    {
     "name": "stderr",
     "output_type": "stream",
     "text": [
      "/Users/johannessolibieda/Library/Python/3.9/lib/python/site-packages/sklearn/linear_model/_stochastic_gradient.py:1616: ConvergenceWarning: Maximum number of iteration reached before convergence. Consider increasing max_iter to improve the fit.\n",
      "  warnings.warn(\n",
      "/Users/johannessolibieda/Library/Python/3.9/lib/python/site-packages/sklearn/linear_model/_stochastic_gradient.py:1616: ConvergenceWarning: Maximum number of iteration reached before convergence. Consider increasing max_iter to improve the fit.\n",
      "  warnings.warn(\n"
     ]
    },
    {
     "name": "stdout",
     "output_type": "stream",
     "text": [
      "[CV] END alpha=0.1, eta0=0.01, learning_rate=optimal, penalty=None; total time=  16.9s\n",
      "[CV] END alpha=0.1, eta0=0.01, learning_rate=optimal, penalty=None; total time=  17.0s\n"
     ]
    },
    {
     "name": "stderr",
     "output_type": "stream",
     "text": [
      "/Users/johannessolibieda/Library/Python/3.9/lib/python/site-packages/sklearn/linear_model/_stochastic_gradient.py:1616: ConvergenceWarning: Maximum number of iteration reached before convergence. Consider increasing max_iter to improve the fit.\n",
      "  warnings.warn(\n"
     ]
    },
    {
     "name": "stdout",
     "output_type": "stream",
     "text": [
      "[CV] END alpha=0.1, eta0=0.01, learning_rate=adaptive, penalty=l1; total time=  24.9s\n"
     ]
    },
    {
     "name": "stderr",
     "output_type": "stream",
     "text": [
      "/Users/johannessolibieda/Library/Python/3.9/lib/python/site-packages/sklearn/linear_model/_stochastic_gradient.py:1616: ConvergenceWarning: Maximum number of iteration reached before convergence. Consider increasing max_iter to improve the fit.\n",
      "  warnings.warn(\n",
      "/Users/johannessolibieda/Library/Python/3.9/lib/python/site-packages/sklearn/linear_model/_stochastic_gradient.py:1616: ConvergenceWarning: Maximum number of iteration reached before convergence. Consider increasing max_iter to improve the fit.\n",
      "  warnings.warn(\n",
      "/Users/johannessolibieda/Library/Python/3.9/lib/python/site-packages/sklearn/linear_model/_stochastic_gradient.py:1616: ConvergenceWarning: Maximum number of iteration reached before convergence. Consider increasing max_iter to improve the fit.\n",
      "  warnings.warn(\n"
     ]
    },
    {
     "name": "stdout",
     "output_type": "stream",
     "text": [
      "[CV] END alpha=0.1, eta0=0.01, learning_rate=adaptive, penalty=l1; total time=  24.9s\n",
      "[CV] END alpha=0.1, eta0=0.01, learning_rate=adaptive, penalty=l1; total time=  25.0s\n",
      "[CV] END alpha=0.1, eta0=0.01, learning_rate=adaptive, penalty=l1; total time=  25.0s\n"
     ]
    },
    {
     "name": "stderr",
     "output_type": "stream",
     "text": [
      "/Users/johannessolibieda/Library/Python/3.9/lib/python/site-packages/sklearn/linear_model/_stochastic_gradient.py:1616: ConvergenceWarning: Maximum number of iteration reached before convergence. Consider increasing max_iter to improve the fit.\n",
      "  warnings.warn(\n"
     ]
    },
    {
     "name": "stdout",
     "output_type": "stream",
     "text": [
      "[CV] END alpha=0.1, eta0=0.01, learning_rate=adaptive, penalty=l1; total time=  24.8s\n",
      "[CV] END alpha=0.1, eta0=0.01, learning_rate=adaptive, penalty=elasticnet; total time=  27.3s\n",
      "[CV] END alpha=0.1, eta0=0.01, learning_rate=adaptive, penalty=elasticnet; total time=  26.2s\n",
      "[CV] END alpha=0.1, eta0=0.01, learning_rate=adaptive, penalty=elasticnet; total time=  27.8s\n",
      "[CV] END alpha=0.1, eta0=0.1, learning_rate=constant, penalty=l2; total time=   0.1s\n",
      "[CV] END alpha=0.1, eta0=0.1, learning_rate=constant, penalty=l2; total time=   0.2s\n",
      "[CV] END alpha=0.1, eta0=0.1, learning_rate=constant, penalty=l2; total time=   0.1s\n",
      "[CV] END alpha=0.1, eta0=0.1, learning_rate=constant, penalty=l2; total time=   0.1s\n",
      "[CV] END alpha=0.1, eta0=0.1, learning_rate=constant, penalty=l2; total time=   0.2s\n",
      "[CV] END alpha=0.1, eta0=0.1, learning_rate=constant, penalty=l1; total time=   0.2s\n",
      "[CV] END alpha=0.1, eta0=0.1, learning_rate=constant, penalty=l1; total time=   0.2s\n",
      "[CV] END alpha=0.1, eta0=0.1, learning_rate=constant, penalty=l1; total time=   0.2s\n",
      "[CV] END alpha=0.1, eta0=0.1, learning_rate=constant, penalty=l1; total time=   0.4s\n",
      "[CV] END alpha=0.1, eta0=0.1, learning_rate=constant, penalty=l1; total time=   0.2s\n",
      "[CV] END alpha=0.1, eta0=0.1, learning_rate=constant, penalty=elasticnet; total time=   0.5s\n",
      "[CV] END alpha=0.1, eta0=0.1, learning_rate=constant, penalty=elasticnet; total time=   0.3s\n",
      "[CV] END alpha=0.1, eta0=0.01, learning_rate=adaptive, penalty=elasticnet; total time=  20.6s\n",
      "[CV] END alpha=0.1, eta0=0.1, learning_rate=constant, penalty=elasticnet; total time=   0.4s\n",
      "[CV] END alpha=0.1, eta0=0.1, learning_rate=constant, penalty=elasticnet; total time=   0.4s\n",
      "[CV] END alpha=0.1, eta0=0.1, learning_rate=constant, penalty=None; total time=   0.2s\n",
      "[CV] END alpha=0.1, eta0=0.1, learning_rate=constant, penalty=elasticnet; total time=   0.4s\n",
      "[CV] END alpha=0.1, eta0=0.1, learning_rate=constant, penalty=None; total time=   0.1s\n",
      "[CV] END alpha=0.1, eta0=0.1, learning_rate=constant, penalty=None; total time=   0.1s\n",
      "[CV] END alpha=0.1, eta0=0.1, learning_rate=constant, penalty=None; total time=   0.1s\n",
      "[CV] END alpha=0.1, eta0=0.1, learning_rate=constant, penalty=None; total time=   0.2s\n"
     ]
    },
    {
     "name": "stderr",
     "output_type": "stream",
     "text": [
      "/Users/johannessolibieda/Library/Python/3.9/lib/python/site-packages/sklearn/linear_model/_stochastic_gradient.py:1616: ConvergenceWarning: Maximum number of iteration reached before convergence. Consider increasing max_iter to improve the fit.\n",
      "  warnings.warn(\n",
      "/Users/johannessolibieda/Library/Python/3.9/lib/python/site-packages/sklearn/linear_model/_stochastic_gradient.py:1616: ConvergenceWarning: Maximum number of iteration reached before convergence. Consider increasing max_iter to improve the fit.\n",
      "  warnings.warn(\n"
     ]
    },
    {
     "name": "stdout",
     "output_type": "stream",
     "text": [
      "[CV] END alpha=0.1, eta0=0.01, learning_rate=adaptive, penalty=None; total time=  16.3s\n",
      "[CV] END alpha=0.1, eta0=0.01, learning_rate=adaptive, penalty=None; total time=  16.3s\n"
     ]
    },
    {
     "name": "stderr",
     "output_type": "stream",
     "text": [
      "/Users/johannessolibieda/Library/Python/3.9/lib/python/site-packages/sklearn/linear_model/_stochastic_gradient.py:1616: ConvergenceWarning: Maximum number of iteration reached before convergence. Consider increasing max_iter to improve the fit.\n",
      "  warnings.warn(\n"
     ]
    },
    {
     "name": "stdout",
     "output_type": "stream",
     "text": [
      "[CV] END alpha=0.1, eta0=0.01, learning_rate=adaptive, penalty=None; total time=  16.3s\n"
     ]
    },
    {
     "name": "stderr",
     "output_type": "stream",
     "text": [
      "/Users/johannessolibieda/Library/Python/3.9/lib/python/site-packages/sklearn/linear_model/_stochastic_gradient.py:1616: ConvergenceWarning: Maximum number of iteration reached before convergence. Consider increasing max_iter to improve the fit.\n",
      "  warnings.warn(\n"
     ]
    },
    {
     "name": "stdout",
     "output_type": "stream",
     "text": [
      "[CV] END alpha=0.1, eta0=0.01, learning_rate=adaptive, penalty=None; total time=  16.2s\n",
      "[CV] END alpha=0.1, eta0=0.1, learning_rate=optimal, penalty=l1; total time=   0.2s\n"
     ]
    },
    {
     "name": "stderr",
     "output_type": "stream",
     "text": [
      "/Users/johannessolibieda/Library/Python/3.9/lib/python/site-packages/sklearn/linear_model/_stochastic_gradient.py:1616: ConvergenceWarning: Maximum number of iteration reached before convergence. Consider increasing max_iter to improve the fit.\n",
      "  warnings.warn(\n"
     ]
    },
    {
     "name": "stdout",
     "output_type": "stream",
     "text": [
      "[CV] END alpha=0.1, eta0=0.01, learning_rate=adaptive, penalty=None; total time=  16.6s\n",
      "[CV] END alpha=0.1, eta0=0.01, learning_rate=adaptive, penalty=elasticnet; total time=  24.2s\n"
     ]
    },
    {
     "name": "stderr",
     "output_type": "stream",
     "text": [
      "/Users/johannessolibieda/Library/Python/3.9/lib/python/site-packages/sklearn/linear_model/_stochastic_gradient.py:1616: ConvergenceWarning: Maximum number of iteration reached before convergence. Consider increasing max_iter to improve the fit.\n",
      "  warnings.warn(\n",
      "/Users/johannessolibieda/Library/Python/3.9/lib/python/site-packages/sklearn/linear_model/_stochastic_gradient.py:1616: ConvergenceWarning: Maximum number of iteration reached before convergence. Consider increasing max_iter to improve the fit.\n",
      "  warnings.warn(\n"
     ]
    },
    {
     "name": "stdout",
     "output_type": "stream",
     "text": [
      "[CV] END alpha=0.1, eta0=0.1, learning_rate=optimal, penalty=l2; total time=  16.6s\n",
      "[CV] END alpha=0.1, eta0=0.1, learning_rate=optimal, penalty=l2; total time=  16.5s\n"
     ]
    },
    {
     "name": "stderr",
     "output_type": "stream",
     "text": [
      "/Users/johannessolibieda/Library/Python/3.9/lib/python/site-packages/sklearn/linear_model/_stochastic_gradient.py:1616: ConvergenceWarning: Maximum number of iteration reached before convergence. Consider increasing max_iter to improve the fit.\n",
      "  warnings.warn(\n",
      "/Users/johannessolibieda/Library/Python/3.9/lib/python/site-packages/sklearn/linear_model/_stochastic_gradient.py:1616: ConvergenceWarning: Maximum number of iteration reached before convergence. Consider increasing max_iter to improve the fit.\n",
      "  warnings.warn(\n"
     ]
    },
    {
     "name": "stdout",
     "output_type": "stream",
     "text": [
      "[CV] END alpha=0.1, eta0=0.1, learning_rate=optimal, penalty=l2; total time=  16.6s\n",
      "[CV] END alpha=0.1, eta0=0.1, learning_rate=optimal, penalty=l2; total time=  16.8s\n"
     ]
    },
    {
     "name": "stderr",
     "output_type": "stream",
     "text": [
      "/Users/johannessolibieda/Library/Python/3.9/lib/python/site-packages/sklearn/linear_model/_stochastic_gradient.py:1616: ConvergenceWarning: Maximum number of iteration reached before convergence. Consider increasing max_iter to improve the fit.\n",
      "  warnings.warn(\n"
     ]
    },
    {
     "name": "stdout",
     "output_type": "stream",
     "text": [
      "[CV] END alpha=0.1, eta0=0.1, learning_rate=optimal, penalty=l2; total time=  16.9s\n"
     ]
    },
    {
     "name": "stderr",
     "output_type": "stream",
     "text": [
      "/Users/johannessolibieda/Library/Python/3.9/lib/python/site-packages/sklearn/linear_model/_stochastic_gradient.py:1616: ConvergenceWarning: Maximum number of iteration reached before convergence. Consider increasing max_iter to improve the fit.\n",
      "  warnings.warn(\n"
     ]
    },
    {
     "name": "stdout",
     "output_type": "stream",
     "text": [
      "[CV] END alpha=0.1, eta0=0.1, learning_rate=optimal, penalty=l1; total time=  24.8s\n"
     ]
    },
    {
     "name": "stderr",
     "output_type": "stream",
     "text": [
      "/Users/johannessolibieda/Library/Python/3.9/lib/python/site-packages/sklearn/linear_model/_stochastic_gradient.py:1616: ConvergenceWarning: Maximum number of iteration reached before convergence. Consider increasing max_iter to improve the fit.\n",
      "  warnings.warn(\n"
     ]
    },
    {
     "name": "stdout",
     "output_type": "stream",
     "text": [
      "[CV] END alpha=0.1, eta0=0.1, learning_rate=optimal, penalty=l1; total time=  24.8s\n"
     ]
    },
    {
     "name": "stderr",
     "output_type": "stream",
     "text": [
      "/Users/johannessolibieda/Library/Python/3.9/lib/python/site-packages/sklearn/linear_model/_stochastic_gradient.py:1616: ConvergenceWarning: Maximum number of iteration reached before convergence. Consider increasing max_iter to improve the fit.\n",
      "  warnings.warn(\n"
     ]
    },
    {
     "name": "stdout",
     "output_type": "stream",
     "text": [
      "[CV] END alpha=0.1, eta0=0.1, learning_rate=optimal, penalty=l1; total time=  25.0s\n"
     ]
    },
    {
     "name": "stderr",
     "output_type": "stream",
     "text": [
      "/Users/johannessolibieda/Library/Python/3.9/lib/python/site-packages/sklearn/linear_model/_stochastic_gradient.py:1616: ConvergenceWarning: Maximum number of iteration reached before convergence. Consider increasing max_iter to improve the fit.\n",
      "  warnings.warn(\n",
      "/Users/johannessolibieda/Library/Python/3.9/lib/python/site-packages/sklearn/linear_model/_stochastic_gradient.py:1616: ConvergenceWarning: Maximum number of iteration reached before convergence. Consider increasing max_iter to improve the fit.\n",
      "  warnings.warn(\n"
     ]
    },
    {
     "name": "stdout",
     "output_type": "stream",
     "text": [
      "[CV] END alpha=0.1, eta0=0.1, learning_rate=optimal, penalty=l1; total time=  24.9s\n",
      "[CV] END alpha=0.1, eta0=0.1, learning_rate=optimal, penalty=elasticnet; total time=  25.1s\n",
      "[CV] END alpha=0.1, eta0=0.1, learning_rate=optimal, penalty=None; total time=   0.1s\n"
     ]
    },
    {
     "name": "stderr",
     "output_type": "stream",
     "text": [
      "/Users/johannessolibieda/Library/Python/3.9/lib/python/site-packages/sklearn/linear_model/_stochastic_gradient.py:1616: ConvergenceWarning: Maximum number of iteration reached before convergence. Consider increasing max_iter to improve the fit.\n",
      "  warnings.warn(\n",
      "/Users/johannessolibieda/Library/Python/3.9/lib/python/site-packages/sklearn/linear_model/_stochastic_gradient.py:1616: ConvergenceWarning: Maximum number of iteration reached before convergence. Consider increasing max_iter to improve the fit.\n",
      "  warnings.warn(\n"
     ]
    },
    {
     "name": "stdout",
     "output_type": "stream",
     "text": [
      "[CV] END alpha=0.1, eta0=0.1, learning_rate=optimal, penalty=elasticnet; total time=  25.6s\n",
      "[CV] END alpha=0.1, eta0=0.1, learning_rate=optimal, penalty=elasticnet; total time=  25.8s\n",
      "[CV] END alpha=0.1, eta0=0.1, learning_rate=invscaling, penalty=l2; total time=   0.5s\n",
      "[CV] END alpha=0.1, eta0=0.1, learning_rate=optimal, penalty=elasticnet; total time=  25.8s\n",
      "[CV] END alpha=0.1, eta0=0.1, learning_rate=invscaling, penalty=l2; total time=   0.5s\n"
     ]
    },
    {
     "name": "stderr",
     "output_type": "stream",
     "text": [
      "/Users/johannessolibieda/Library/Python/3.9/lib/python/site-packages/sklearn/linear_model/_stochastic_gradient.py:1616: ConvergenceWarning: Maximum number of iteration reached before convergence. Consider increasing max_iter to improve the fit.\n",
      "  warnings.warn(\n"
     ]
    },
    {
     "name": "stdout",
     "output_type": "stream",
     "text": [
      "[CV] END alpha=0.1, eta0=0.1, learning_rate=invscaling, penalty=l2; total time=   0.3s\n",
      "[CV] END alpha=0.1, eta0=0.1, learning_rate=invscaling, penalty=l2; total time=   0.6s\n",
      "[CV] END alpha=0.1, eta0=0.1, learning_rate=invscaling, penalty=l2; total time=   0.7s\n",
      "[CV] END alpha=0.1, eta0=0.1, learning_rate=invscaling, penalty=l1; total time=   0.6s\n",
      "[CV] END alpha=0.1, eta0=0.1, learning_rate=invscaling, penalty=l1; total time=   0.8s\n",
      "[CV] END alpha=0.1, eta0=0.1, learning_rate=invscaling, penalty=l1; total time=   0.8s\n",
      "[CV] END alpha=0.1, eta0=0.1, learning_rate=invscaling, penalty=l1; total time=   0.8s\n",
      "[CV] END alpha=0.1, eta0=0.1, learning_rate=invscaling, penalty=l1; total time=   1.4s\n",
      "[CV] END alpha=0.1, eta0=0.1, learning_rate=invscaling, penalty=elasticnet; total time=   1.3s\n",
      "[CV] END alpha=0.1, eta0=0.1, learning_rate=invscaling, penalty=elasticnet; total time=   0.7s\n",
      "[CV] END alpha=0.1, eta0=0.1, learning_rate=invscaling, penalty=elasticnet; total time=   0.9s\n",
      "[CV] END alpha=0.1, eta0=0.1, learning_rate=invscaling, penalty=elasticnet; total time=   0.6s\n",
      "[CV] END alpha=0.1, eta0=0.1, learning_rate=invscaling, penalty=None; total time=   0.4s\n"
     ]
    },
    {
     "name": "stderr",
     "output_type": "stream",
     "text": [
      "/Users/johannessolibieda/Library/Python/3.9/lib/python/site-packages/sklearn/linear_model/_stochastic_gradient.py:1616: ConvergenceWarning: Maximum number of iteration reached before convergence. Consider increasing max_iter to improve the fit.\n",
      "  warnings.warn(\n"
     ]
    },
    {
     "name": "stdout",
     "output_type": "stream",
     "text": [
      "[CV] END alpha=0.1, eta0=0.1, learning_rate=optimal, penalty=None; total time=  18.6s\n",
      "[CV] END alpha=0.1, eta0=0.1, learning_rate=invscaling, penalty=None; total time=   0.3s\n",
      "[CV] END alpha=0.1, eta0=0.1, learning_rate=invscaling, penalty=None; total time=   0.3s\n",
      "[CV] END alpha=0.1, eta0=0.1, learning_rate=invscaling, penalty=elasticnet; total time=   1.1s\n",
      "[CV] END alpha=0.1, eta0=0.1, learning_rate=invscaling, penalty=None; total time=   0.5s\n",
      "[CV] END alpha=0.1, eta0=0.1, learning_rate=invscaling, penalty=None; total time=   0.7s\n"
     ]
    },
    {
     "name": "stderr",
     "output_type": "stream",
     "text": [
      "/Users/johannessolibieda/Library/Python/3.9/lib/python/site-packages/sklearn/linear_model/_stochastic_gradient.py:1616: ConvergenceWarning: Maximum number of iteration reached before convergence. Consider increasing max_iter to improve the fit.\n",
      "  warnings.warn(\n"
     ]
    },
    {
     "name": "stdout",
     "output_type": "stream",
     "text": [
      "[CV] END alpha=0.1, eta0=0.1, learning_rate=optimal, penalty=None; total time=  19.8s\n"
     ]
    },
    {
     "name": "stderr",
     "output_type": "stream",
     "text": [
      "/Users/johannessolibieda/Library/Python/3.9/lib/python/site-packages/sklearn/linear_model/_stochastic_gradient.py:1616: ConvergenceWarning: Maximum number of iteration reached before convergence. Consider increasing max_iter to improve the fit.\n",
      "  warnings.warn(\n"
     ]
    },
    {
     "name": "stdout",
     "output_type": "stream",
     "text": [
      "[CV] END alpha=0.1, eta0=0.1, learning_rate=optimal, penalty=None; total time=  19.3s\n"
     ]
    },
    {
     "name": "stderr",
     "output_type": "stream",
     "text": [
      "/Users/johannessolibieda/Library/Python/3.9/lib/python/site-packages/sklearn/linear_model/_stochastic_gradient.py:1616: ConvergenceWarning: Maximum number of iteration reached before convergence. Consider increasing max_iter to improve the fit.\n",
      "  warnings.warn(\n"
     ]
    },
    {
     "name": "stdout",
     "output_type": "stream",
     "text": [
      "[CV] END alpha=0.1, eta0=0.1, learning_rate=optimal, penalty=None; total time=  19.8s\n",
      "[CV] END alpha=0.1, eta0=0.1, learning_rate=adaptive, penalty=l2; total time=   9.0s\n",
      "[CV] END alpha=0.1, eta0=0.1, learning_rate=adaptive, penalty=l2; total time=   9.0s\n"
     ]
    },
    {
     "name": "stderr",
     "output_type": "stream",
     "text": [
      "/Users/johannessolibieda/Library/Python/3.9/lib/python/site-packages/sklearn/linear_model/_stochastic_gradient.py:1616: ConvergenceWarning: Maximum number of iteration reached before convergence. Consider increasing max_iter to improve the fit.\n",
      "  warnings.warn(\n"
     ]
    },
    {
     "name": "stdout",
     "output_type": "stream",
     "text": [
      "[CV] END alpha=0.1, eta0=0.1, learning_rate=optimal, penalty=elasticnet; total time=  28.2s\n",
      "[CV] END alpha=0.1, eta0=0.1, learning_rate=adaptive, penalty=l2; total time=   9.8s\n",
      "[CV] END alpha=0.1, eta0=0.1, learning_rate=adaptive, penalty=l2; total time=   9.8s\n",
      "[CV] END alpha=0.1, eta0=0.1, learning_rate=adaptive, penalty=l2; total time=   9.3s\n",
      "[CV] END alpha=0.1, eta0=0.1, learning_rate=adaptive, penalty=l1; total time=  16.7s\n",
      "[CV] END alpha=0.1, eta0=0.1, learning_rate=adaptive, penalty=elasticnet; total time=  22.2s\n",
      "[CV] END alpha=0.1, eta0=0.1, learning_rate=adaptive, penalty=elasticnet; total time=  22.5s\n",
      "[CV] END alpha=0.1, eta0=0.1, learning_rate=adaptive, penalty=elasticnet; total time=  22.1s\n"
     ]
    },
    {
     "name": "stderr",
     "output_type": "stream",
     "text": [
      "/Users/johannessolibieda/Library/Python/3.9/lib/python/site-packages/sklearn/linear_model/_stochastic_gradient.py:1616: ConvergenceWarning: Maximum number of iteration reached before convergence. Consider increasing max_iter to improve the fit.\n",
      "  warnings.warn(\n"
     ]
    },
    {
     "name": "stdout",
     "output_type": "stream",
     "text": [
      "[CV] END alpha=0.1, eta0=0.1, learning_rate=adaptive, penalty=l1; total time=  32.9s\n"
     ]
    },
    {
     "name": "stderr",
     "output_type": "stream",
     "text": [
      "/Users/johannessolibieda/Library/Python/3.9/lib/python/site-packages/sklearn/linear_model/_stochastic_gradient.py:1616: ConvergenceWarning: Maximum number of iteration reached before convergence. Consider increasing max_iter to improve the fit.\n",
      "  warnings.warn(\n"
     ]
    },
    {
     "name": "stdout",
     "output_type": "stream",
     "text": [
      "[CV] END alpha=0.1, eta0=0.1, learning_rate=adaptive, penalty=l1; total time=  33.3s\n"
     ]
    },
    {
     "name": "stderr",
     "output_type": "stream",
     "text": [
      "/Users/johannessolibieda/Library/Python/3.9/lib/python/site-packages/sklearn/linear_model/_stochastic_gradient.py:1616: ConvergenceWarning: Maximum number of iteration reached before convergence. Consider increasing max_iter to improve the fit.\n",
      "  warnings.warn(\n"
     ]
    },
    {
     "name": "stdout",
     "output_type": "stream",
     "text": [
      "[CV] END alpha=0.1, eta0=0.1, learning_rate=adaptive, penalty=l1; total time=  32.8s\n"
     ]
    },
    {
     "name": "stderr",
     "output_type": "stream",
     "text": [
      "/Users/johannessolibieda/Library/Python/3.9/lib/python/site-packages/sklearn/linear_model/_stochastic_gradient.py:1616: ConvergenceWarning: Maximum number of iteration reached before convergence. Consider increasing max_iter to improve the fit.\n",
      "  warnings.warn(\n"
     ]
    },
    {
     "name": "stdout",
     "output_type": "stream",
     "text": [
      "[CV] END alpha=0.1, eta0=0.1, learning_rate=adaptive, penalty=l1; total time=  33.4s\n",
      "[CV] END alpha=0.1, eta0=1, learning_rate=constant, penalty=l2; total time=   0.4s\n",
      "[CV] END alpha=0.1, eta0=1, learning_rate=constant, penalty=l2; total time=   0.3s\n",
      "[CV] END alpha=0.1, eta0=1, learning_rate=constant, penalty=l2; total time=   0.1s\n",
      "[CV] END alpha=0.1, eta0=0.1, learning_rate=adaptive, penalty=None; total time=   3.7s\n",
      "[CV] END alpha=0.1, eta0=1, learning_rate=constant, penalty=l2; total time=   0.3s\n",
      "[CV] END alpha=0.1, eta0=1, learning_rate=constant, penalty=l2; total time=   0.2s\n",
      "[CV] END alpha=0.1, eta0=1, learning_rate=constant, penalty=l1; total time=   0.2s\n",
      "[CV] END alpha=0.1, eta0=1, learning_rate=constant, penalty=l1; total time=   0.2s\n",
      "[CV] END alpha=0.1, eta0=1, learning_rate=constant, penalty=l1; total time=   0.3s\n",
      "[CV] END alpha=0.1, eta0=1, learning_rate=constant, penalty=l1; total time=   0.4s\n",
      "[CV] END alpha=0.1, eta0=0.1, learning_rate=adaptive, penalty=elasticnet; total time=  18.8s\n",
      "[CV] END alpha=0.1, eta0=1, learning_rate=constant, penalty=l1; total time=   0.2s\n",
      "[CV] END alpha=0.1, eta0=1, learning_rate=constant, penalty=elasticnet; total time=   0.3s\n",
      "[CV] END alpha=0.1, eta0=1, learning_rate=constant, penalty=elasticnet; total time=   0.4s\n",
      "[CV] END alpha=0.1, eta0=1, learning_rate=constant, penalty=elasticnet; total time=   0.5s\n",
      "[CV] END alpha=0.1, eta0=1, learning_rate=constant, penalty=None; total time=   0.1s\n",
      "[CV] END alpha=0.1, eta0=1, learning_rate=constant, penalty=None; total time=   0.1s\n",
      "[CV] END alpha=0.1, eta0=1, learning_rate=constant, penalty=elasticnet; total time=   0.4s\n",
      "[CV] END alpha=0.1, eta0=1, learning_rate=constant, penalty=None; total time=   0.1s\n",
      "[CV] END alpha=0.1, eta0=1, learning_rate=constant, penalty=None; total time=   0.2s\n",
      "[CV] END alpha=0.1, eta0=1, learning_rate=constant, penalty=elasticnet; total time=   0.6s\n",
      "[CV] END alpha=0.1, eta0=1, learning_rate=constant, penalty=None; total time=   0.1s\n",
      "[CV] END alpha=0.1, eta0=0.1, learning_rate=adaptive, penalty=elasticnet; total time=  17.5s\n"
     ]
    },
    {
     "name": "stderr",
     "output_type": "stream",
     "text": [
      "/Users/johannessolibieda/Library/Python/3.9/lib/python/site-packages/sklearn/linear_model/_stochastic_gradient.py:1616: ConvergenceWarning: Maximum number of iteration reached before convergence. Consider increasing max_iter to improve the fit.\n",
      "  warnings.warn(\n"
     ]
    },
    {
     "name": "stdout",
     "output_type": "stream",
     "text": [
      "[CV] END alpha=0.1, eta0=0.1, learning_rate=adaptive, penalty=None; total time=  18.9s\n"
     ]
    },
    {
     "name": "stderr",
     "output_type": "stream",
     "text": [
      "/Users/johannessolibieda/Library/Python/3.9/lib/python/site-packages/sklearn/linear_model/_stochastic_gradient.py:1616: ConvergenceWarning: Maximum number of iteration reached before convergence. Consider increasing max_iter to improve the fit.\n",
      "  warnings.warn(\n"
     ]
    },
    {
     "name": "stdout",
     "output_type": "stream",
     "text": [
      "[CV] END alpha=0.1, eta0=0.1, learning_rate=adaptive, penalty=None; total time=  18.7s\n"
     ]
    },
    {
     "name": "stderr",
     "output_type": "stream",
     "text": [
      "/Users/johannessolibieda/Library/Python/3.9/lib/python/site-packages/sklearn/linear_model/_stochastic_gradient.py:1616: ConvergenceWarning: Maximum number of iteration reached before convergence. Consider increasing max_iter to improve the fit.\n",
      "  warnings.warn(\n"
     ]
    },
    {
     "name": "stdout",
     "output_type": "stream",
     "text": [
      "[CV] END alpha=0.1, eta0=0.1, learning_rate=adaptive, penalty=None; total time=  18.5s\n"
     ]
    },
    {
     "name": "stderr",
     "output_type": "stream",
     "text": [
      "/Users/johannessolibieda/Library/Python/3.9/lib/python/site-packages/sklearn/linear_model/_stochastic_gradient.py:1616: ConvergenceWarning: Maximum number of iteration reached before convergence. Consider increasing max_iter to improve the fit.\n",
      "  warnings.warn(\n"
     ]
    },
    {
     "name": "stdout",
     "output_type": "stream",
     "text": [
      "[CV] END alpha=0.1, eta0=0.1, learning_rate=adaptive, penalty=None; total time=  18.2s\n"
     ]
    },
    {
     "name": "stderr",
     "output_type": "stream",
     "text": [
      "/Users/johannessolibieda/Library/Python/3.9/lib/python/site-packages/sklearn/linear_model/_stochastic_gradient.py:1616: ConvergenceWarning: Maximum number of iteration reached before convergence. Consider increasing max_iter to improve the fit.\n",
      "  warnings.warn(\n",
      "/Users/johannessolibieda/Library/Python/3.9/lib/python/site-packages/sklearn/linear_model/_stochastic_gradient.py:1616: ConvergenceWarning: Maximum number of iteration reached before convergence. Consider increasing max_iter to improve the fit.\n",
      "  warnings.warn(\n",
      "/Users/johannessolibieda/Library/Python/3.9/lib/python/site-packages/sklearn/linear_model/_stochastic_gradient.py:1616: ConvergenceWarning: Maximum number of iteration reached before convergence. Consider increasing max_iter to improve the fit.\n",
      "  warnings.warn(\n"
     ]
    },
    {
     "name": "stdout",
     "output_type": "stream",
     "text": [
      "[CV] END alpha=0.1, eta0=1, learning_rate=optimal, penalty=l2; total time=  17.9s\n",
      "[CV] END alpha=0.1, eta0=1, learning_rate=optimal, penalty=l2; total time=  18.0s\n",
      "[CV] END alpha=0.1, eta0=1, learning_rate=optimal, penalty=l2; total time=  18.0s\n"
     ]
    },
    {
     "name": "stderr",
     "output_type": "stream",
     "text": [
      "/Users/johannessolibieda/Library/Python/3.9/lib/python/site-packages/sklearn/linear_model/_stochastic_gradient.py:1616: ConvergenceWarning: Maximum number of iteration reached before convergence. Consider increasing max_iter to improve the fit.\n",
      "  warnings.warn(\n"
     ]
    },
    {
     "name": "stdout",
     "output_type": "stream",
     "text": [
      "[CV] END alpha=0.1, eta0=1, learning_rate=optimal, penalty=l2; total time=  18.2s\n"
     ]
    },
    {
     "name": "stderr",
     "output_type": "stream",
     "text": [
      "/Users/johannessolibieda/Library/Python/3.9/lib/python/site-packages/sklearn/linear_model/_stochastic_gradient.py:1616: ConvergenceWarning: Maximum number of iteration reached before convergence. Consider increasing max_iter to improve the fit.\n",
      "  warnings.warn(\n"
     ]
    },
    {
     "name": "stdout",
     "output_type": "stream",
     "text": [
      "[CV] END alpha=0.1, eta0=1, learning_rate=optimal, penalty=l2; total time=  18.3s\n"
     ]
    },
    {
     "name": "stderr",
     "output_type": "stream",
     "text": [
      "/Users/johannessolibieda/Library/Python/3.9/lib/python/site-packages/sklearn/linear_model/_stochastic_gradient.py:1616: ConvergenceWarning: Maximum number of iteration reached before convergence. Consider increasing max_iter to improve the fit.\n",
      "  warnings.warn(\n"
     ]
    },
    {
     "name": "stdout",
     "output_type": "stream",
     "text": [
      "[CV] END alpha=0.1, eta0=1, learning_rate=optimal, penalty=l1; total time=  29.7s\n"
     ]
    },
    {
     "name": "stderr",
     "output_type": "stream",
     "text": [
      "/Users/johannessolibieda/Library/Python/3.9/lib/python/site-packages/sklearn/linear_model/_stochastic_gradient.py:1616: ConvergenceWarning: Maximum number of iteration reached before convergence. Consider increasing max_iter to improve the fit.\n",
      "  warnings.warn(\n"
     ]
    },
    {
     "name": "stdout",
     "output_type": "stream",
     "text": [
      "[CV] END alpha=0.1, eta0=1, learning_rate=optimal, penalty=l1; total time=  29.6s\n"
     ]
    },
    {
     "name": "stderr",
     "output_type": "stream",
     "text": [
      "/Users/johannessolibieda/Library/Python/3.9/lib/python/site-packages/sklearn/linear_model/_stochastic_gradient.py:1616: ConvergenceWarning: Maximum number of iteration reached before convergence. Consider increasing max_iter to improve the fit.\n",
      "  warnings.warn(\n"
     ]
    },
    {
     "name": "stdout",
     "output_type": "stream",
     "text": [
      "[CV] END alpha=0.1, eta0=1, learning_rate=optimal, penalty=l1; total time=  29.5s\n"
     ]
    },
    {
     "name": "stderr",
     "output_type": "stream",
     "text": [
      "/Users/johannessolibieda/Library/Python/3.9/lib/python/site-packages/sklearn/linear_model/_stochastic_gradient.py:1616: ConvergenceWarning: Maximum number of iteration reached before convergence. Consider increasing max_iter to improve the fit.\n",
      "  warnings.warn(\n",
      "/Users/johannessolibieda/Library/Python/3.9/lib/python/site-packages/sklearn/linear_model/_stochastic_gradient.py:1616: ConvergenceWarning: Maximum number of iteration reached before convergence. Consider increasing max_iter to improve the fit.\n",
      "  warnings.warn(\n"
     ]
    },
    {
     "name": "stdout",
     "output_type": "stream",
     "text": [
      "[CV] END alpha=0.1, eta0=1, learning_rate=optimal, penalty=l1; total time=  30.1s\n",
      "[CV] END alpha=0.1, eta0=1, learning_rate=optimal, penalty=elasticnet; total time=  30.2s\n",
      "[CV] END alpha=0.1, eta0=1, learning_rate=optimal, penalty=None; total time=   0.1s\n",
      "[CV] END alpha=0.1, eta0=1, learning_rate=optimal, penalty=l1; total time=  30.6s\n"
     ]
    },
    {
     "name": "stderr",
     "output_type": "stream",
     "text": [
      "/Users/johannessolibieda/Library/Python/3.9/lib/python/site-packages/sklearn/linear_model/_stochastic_gradient.py:1616: ConvergenceWarning: Maximum number of iteration reached before convergence. Consider increasing max_iter to improve the fit.\n",
      "  warnings.warn(\n",
      "/Users/johannessolibieda/Library/Python/3.9/lib/python/site-packages/sklearn/linear_model/_stochastic_gradient.py:1616: ConvergenceWarning: Maximum number of iteration reached before convergence. Consider increasing max_iter to improve the fit.\n",
      "  warnings.warn(\n"
     ]
    },
    {
     "name": "stdout",
     "output_type": "stream",
     "text": [
      "[CV] END alpha=0.1, eta0=1, learning_rate=optimal, penalty=elasticnet; total time=  29.3s\n",
      "[CV] END alpha=0.1, eta0=1, learning_rate=invscaling, penalty=l2; total time=   0.5s\n",
      "[CV] END alpha=0.1, eta0=1, learning_rate=invscaling, penalty=l2; total time=   1.1s\n"
     ]
    },
    {
     "name": "stderr",
     "output_type": "stream",
     "text": [
      "/Users/johannessolibieda/Library/Python/3.9/lib/python/site-packages/sklearn/linear_model/_stochastic_gradient.py:1616: ConvergenceWarning: Maximum number of iteration reached before convergence. Consider increasing max_iter to improve the fit.\n",
      "  warnings.warn(\n"
     ]
    },
    {
     "name": "stdout",
     "output_type": "stream",
     "text": [
      "[CV] END alpha=0.1, eta0=1, learning_rate=optimal, penalty=elasticnet; total time=  29.5s\n",
      "[CV] END alpha=0.1, eta0=1, learning_rate=invscaling, penalty=l2; total time=   0.7s\n",
      "[CV] END alpha=0.1, eta0=1, learning_rate=invscaling, penalty=l2; total time=   0.7s\n",
      "[CV] END alpha=0.1, eta0=1, learning_rate=invscaling, penalty=l2; total time=   0.8s\n",
      "[CV] END alpha=0.1, eta0=1, learning_rate=invscaling, penalty=l1; total time=   0.9s\n",
      "[CV] END alpha=0.1, eta0=1, learning_rate=invscaling, penalty=l1; total time=   1.3s\n",
      "[CV] END alpha=0.1, eta0=1, learning_rate=invscaling, penalty=l1; total time=   1.0s\n",
      "[CV] END alpha=0.1, eta0=1, learning_rate=invscaling, penalty=l1; total time=   1.2s\n",
      "[CV] END alpha=0.1, eta0=1, learning_rate=invscaling, penalty=l1; total time=   1.8s\n",
      "[CV] END alpha=0.1, eta0=1, learning_rate=invscaling, penalty=elasticnet; total time=   2.2s\n",
      "[CV] END alpha=0.1, eta0=1, learning_rate=invscaling, penalty=elasticnet; total time=   2.3s\n",
      "[CV] END alpha=0.1, eta0=1, learning_rate=invscaling, penalty=elasticnet; total time=   2.7s\n",
      "[CV] END alpha=0.1, eta0=1, learning_rate=invscaling, penalty=elasticnet; total time=   3.5s\n",
      "[CV] END alpha=0.1, eta0=1, learning_rate=invscaling, penalty=None; total time=   0.3s\n"
     ]
    },
    {
     "name": "stderr",
     "output_type": "stream",
     "text": [
      "/Users/johannessolibieda/Library/Python/3.9/lib/python/site-packages/sklearn/linear_model/_stochastic_gradient.py:1616: ConvergenceWarning: Maximum number of iteration reached before convergence. Consider increasing max_iter to improve the fit.\n",
      "  warnings.warn(\n"
     ]
    },
    {
     "name": "stdout",
     "output_type": "stream",
     "text": [
      "[CV] END alpha=0.1, eta0=1, learning_rate=optimal, penalty=None; total time=  20.2s\n",
      "[CV] END alpha=0.1, eta0=1, learning_rate=invscaling, penalty=None; total time=   0.4s\n",
      "[CV] END alpha=0.1, eta0=1, learning_rate=invscaling, penalty=None; total time=   0.5s\n",
      "[CV] END alpha=0.1, eta0=1, learning_rate=invscaling, penalty=None; total time=   0.6s\n",
      "[CV] END alpha=0.1, eta0=1, learning_rate=invscaling, penalty=elasticnet; total time=   1.7s\n",
      "[CV] END alpha=0.1, eta0=1, learning_rate=invscaling, penalty=None; total time=   0.5s\n"
     ]
    },
    {
     "name": "stderr",
     "output_type": "stream",
     "text": [
      "/Users/johannessolibieda/Library/Python/3.9/lib/python/site-packages/sklearn/linear_model/_stochastic_gradient.py:1616: ConvergenceWarning: Maximum number of iteration reached before convergence. Consider increasing max_iter to improve the fit.\n",
      "  warnings.warn(\n"
     ]
    },
    {
     "name": "stdout",
     "output_type": "stream",
     "text": [
      "[CV] END alpha=0.1, eta0=1, learning_rate=optimal, penalty=None; total time=  19.9s\n"
     ]
    },
    {
     "name": "stderr",
     "output_type": "stream",
     "text": [
      "/Users/johannessolibieda/Library/Python/3.9/lib/python/site-packages/sklearn/linear_model/_stochastic_gradient.py:1616: ConvergenceWarning: Maximum number of iteration reached before convergence. Consider increasing max_iter to improve the fit.\n",
      "  warnings.warn(\n",
      "/Users/johannessolibieda/Library/Python/3.9/lib/python/site-packages/sklearn/linear_model/_stochastic_gradient.py:1616: ConvergenceWarning: Maximum number of iteration reached before convergence. Consider increasing max_iter to improve the fit.\n",
      "  warnings.warn(\n"
     ]
    },
    {
     "name": "stdout",
     "output_type": "stream",
     "text": [
      "[CV] END alpha=0.1, eta0=1, learning_rate=optimal, penalty=None; total time=  20.5s\n",
      "[CV] END alpha=0.1, eta0=1, learning_rate=optimal, penalty=None; total time=  20.3s\n"
     ]
    },
    {
     "name": "stderr",
     "output_type": "stream",
     "text": [
      "/Users/johannessolibieda/Library/Python/3.9/lib/python/site-packages/sklearn/linear_model/_stochastic_gradient.py:1616: ConvergenceWarning: Maximum number of iteration reached before convergence. Consider increasing max_iter to improve the fit.\n",
      "  warnings.warn(\n"
     ]
    },
    {
     "name": "stdout",
     "output_type": "stream",
     "text": [
      "[CV] END alpha=0.1, eta0=1, learning_rate=optimal, penalty=elasticnet; total time=  29.3s\n"
     ]
    },
    {
     "name": "stderr",
     "output_type": "stream",
     "text": [
      "/Users/johannessolibieda/Library/Python/3.9/lib/python/site-packages/sklearn/linear_model/_stochastic_gradient.py:1616: ConvergenceWarning: Maximum number of iteration reached before convergence. Consider increasing max_iter to improve the fit.\n",
      "  warnings.warn(\n"
     ]
    },
    {
     "name": "stdout",
     "output_type": "stream",
     "text": [
      "[CV] END alpha=0.1, eta0=1, learning_rate=optimal, penalty=elasticnet; total time=  29.2s\n",
      "[CV] END alpha=0.1, eta0=1, learning_rate=adaptive, penalty=l2; total time=   5.5s\n"
     ]
    },
    {
     "name": "stderr",
     "output_type": "stream",
     "text": [
      "/Users/johannessolibieda/Library/Python/3.9/lib/python/site-packages/sklearn/linear_model/_stochastic_gradient.py:1616: ConvergenceWarning: Maximum number of iteration reached before convergence. Consider increasing max_iter to improve the fit.\n",
      "  warnings.warn(\n"
     ]
    },
    {
     "name": "stdout",
     "output_type": "stream",
     "text": [
      "[CV] END alpha=0.1, eta0=1, learning_rate=adaptive, penalty=l2; total time=  21.4s\n"
     ]
    },
    {
     "name": "stderr",
     "output_type": "stream",
     "text": [
      "/Users/johannessolibieda/Library/Python/3.9/lib/python/site-packages/sklearn/linear_model/_stochastic_gradient.py:1616: ConvergenceWarning: Maximum number of iteration reached before convergence. Consider increasing max_iter to improve the fit.\n",
      "  warnings.warn(\n",
      "/Users/johannessolibieda/Library/Python/3.9/lib/python/site-packages/sklearn/linear_model/_stochastic_gradient.py:1616: ConvergenceWarning: Maximum number of iteration reached before convergence. Consider increasing max_iter to improve the fit.\n",
      "  warnings.warn(\n"
     ]
    },
    {
     "name": "stdout",
     "output_type": "stream",
     "text": [
      "[CV] END alpha=0.1, eta0=1, learning_rate=adaptive, penalty=l2; total time=  21.6s\n",
      "[CV] END alpha=0.1, eta0=1, learning_rate=adaptive, penalty=l2; total time=  21.6s\n",
      "[CV] END alpha=0.1, eta0=1, learning_rate=adaptive, penalty=l2; total time=  21.5s\n"
     ]
    },
    {
     "name": "stderr",
     "output_type": "stream",
     "text": [
      "/Users/johannessolibieda/Library/Python/3.9/lib/python/site-packages/sklearn/linear_model/_stochastic_gradient.py:1616: ConvergenceWarning: Maximum number of iteration reached before convergence. Consider increasing max_iter to improve the fit.\n",
      "  warnings.warn(\n",
      "/Users/johannessolibieda/Library/Python/3.9/lib/python/site-packages/sklearn/linear_model/_stochastic_gradient.py:1616: ConvergenceWarning: Maximum number of iteration reached before convergence. Consider increasing max_iter to improve the fit.\n",
      "  warnings.warn(\n"
     ]
    },
    {
     "name": "stdout",
     "output_type": "stream",
     "text": [
      "[CV] END alpha=0.1, eta0=1, learning_rate=adaptive, penalty=l1; total time=  33.0s\n",
      "[CV] END alpha=0.1, eta0=1, learning_rate=adaptive, penalty=l1; total time=  32.4s\n"
     ]
    },
    {
     "name": "stderr",
     "output_type": "stream",
     "text": [
      "/Users/johannessolibieda/Library/Python/3.9/lib/python/site-packages/sklearn/linear_model/_stochastic_gradient.py:1616: ConvergenceWarning: Maximum number of iteration reached before convergence. Consider increasing max_iter to improve the fit.\n",
      "  warnings.warn(\n"
     ]
    },
    {
     "name": "stdout",
     "output_type": "stream",
     "text": [
      "[CV] END alpha=0.1, eta0=1, learning_rate=adaptive, penalty=l1; total time=  33.4s\n"
     ]
    },
    {
     "name": "stderr",
     "output_type": "stream",
     "text": [
      "/Users/johannessolibieda/Library/Python/3.9/lib/python/site-packages/sklearn/linear_model/_stochastic_gradient.py:1616: ConvergenceWarning: Maximum number of iteration reached before convergence. Consider increasing max_iter to improve the fit.\n",
      "  warnings.warn(\n"
     ]
    },
    {
     "name": "stdout",
     "output_type": "stream",
     "text": [
      "[CV] END alpha=0.1, eta0=1, learning_rate=adaptive, penalty=l1; total time=  34.4s\n",
      "[CV] END alpha=0.1, eta0=1, learning_rate=adaptive, penalty=elasticnet; total time=  13.6s\n"
     ]
    },
    {
     "name": "stderr",
     "output_type": "stream",
     "text": [
      "/Users/johannessolibieda/Library/Python/3.9/lib/python/site-packages/sklearn/linear_model/_stochastic_gradient.py:1616: ConvergenceWarning: Maximum number of iteration reached before convergence. Consider increasing max_iter to improve the fit.\n",
      "  warnings.warn(\n"
     ]
    },
    {
     "name": "stdout",
     "output_type": "stream",
     "text": [
      "[CV] END alpha=0.1, eta0=1, learning_rate=adaptive, penalty=l1; total time=  31.8s\n",
      "[CV] END alpha=0.1, eta0=1, learning_rate=adaptive, penalty=None; total time=   2.0s\n"
     ]
    },
    {
     "name": "stderr",
     "output_type": "stream",
     "text": [
      "/Users/johannessolibieda/Library/Python/3.9/lib/python/site-packages/sklearn/linear_model/_stochastic_gradient.py:1616: ConvergenceWarning: Maximum number of iteration reached before convergence. Consider increasing max_iter to improve the fit.\n",
      "  warnings.warn(\n"
     ]
    },
    {
     "name": "stdout",
     "output_type": "stream",
     "text": [
      "[CV] END alpha=0.1, eta0=1, learning_rate=adaptive, penalty=elasticnet; total time=  33.9s\n"
     ]
    },
    {
     "name": "stderr",
     "output_type": "stream",
     "text": [
      "/Users/johannessolibieda/Library/Python/3.9/lib/python/site-packages/sklearn/linear_model/_stochastic_gradient.py:1616: ConvergenceWarning: Maximum number of iteration reached before convergence. Consider increasing max_iter to improve the fit.\n",
      "  warnings.warn(\n"
     ]
    },
    {
     "name": "stdout",
     "output_type": "stream",
     "text": [
      "[CV] END alpha=0.1, eta0=1, learning_rate=adaptive, penalty=elasticnet; total time=  34.7s\n"
     ]
    },
    {
     "name": "stderr",
     "output_type": "stream",
     "text": [
      "/Users/johannessolibieda/Library/Python/3.9/lib/python/site-packages/sklearn/linear_model/_stochastic_gradient.py:1616: ConvergenceWarning: Maximum number of iteration reached before convergence. Consider increasing max_iter to improve the fit.\n",
      "  warnings.warn(\n",
      "/Users/johannessolibieda/Library/Python/3.9/lib/python/site-packages/sklearn/linear_model/_stochastic_gradient.py:1616: ConvergenceWarning: Maximum number of iteration reached before convergence. Consider increasing max_iter to improve the fit.\n",
      "  warnings.warn(\n"
     ]
    },
    {
     "name": "stdout",
     "output_type": "stream",
     "text": [
      "[CV] END alpha=0.1, eta0=1, learning_rate=adaptive, penalty=None; total time=  20.0s\n",
      "[CV] END alpha=0.1, eta0=1, learning_rate=adaptive, penalty=elasticnet; total time=  34.1s\n"
     ]
    },
    {
     "name": "stderr",
     "output_type": "stream",
     "text": [
      "/Users/johannessolibieda/Library/Python/3.9/lib/python/site-packages/sklearn/linear_model/_stochastic_gradient.py:1616: ConvergenceWarning: Maximum number of iteration reached before convergence. Consider increasing max_iter to improve the fit.\n",
      "  warnings.warn(\n"
     ]
    },
    {
     "name": "stdout",
     "output_type": "stream",
     "text": [
      "[CV] END alpha=0.1, eta0=1, learning_rate=adaptive, penalty=None; total time=  18.2s\n"
     ]
    },
    {
     "name": "stderr",
     "output_type": "stream",
     "text": [
      "/Users/johannessolibieda/Library/Python/3.9/lib/python/site-packages/sklearn/linear_model/_stochastic_gradient.py:1616: ConvergenceWarning: Maximum number of iteration reached before convergence. Consider increasing max_iter to improve the fit.\n",
      "  warnings.warn(\n",
      "/Users/johannessolibieda/Library/Python/3.9/lib/python/site-packages/sklearn/linear_model/_stochastic_gradient.py:1616: ConvergenceWarning: Maximum number of iteration reached before convergence. Consider increasing max_iter to improve the fit.\n",
      "  warnings.warn(\n"
     ]
    },
    {
     "name": "stdout",
     "output_type": "stream",
     "text": [
      "[CV] END alpha=0.1, eta0=1, learning_rate=adaptive, penalty=elasticnet; total time=  28.8s\n",
      "[CV] END alpha=0.1, eta0=1, learning_rate=adaptive, penalty=None; total time=  15.4s\n"
     ]
    },
    {
     "name": "stderr",
     "output_type": "stream",
     "text": [
      "/Users/johannessolibieda/Library/Python/3.9/lib/python/site-packages/sklearn/linear_model/_stochastic_gradient.py:1616: ConvergenceWarning: Maximum number of iteration reached before convergence. Consider increasing max_iter to improve the fit.\n",
      "  warnings.warn(\n"
     ]
    },
    {
     "name": "stdout",
     "output_type": "stream",
     "text": [
      "[CV] END alpha=0.1, eta0=1, learning_rate=adaptive, penalty=None; total time=  13.4s\n"
     ]
    },
    {
     "name": "stderr",
     "output_type": "stream",
     "text": [
      "100%|██████████| 100/100 [00:00<00:00, 744991.83it/s]\n"
     ]
    },
    {
     "name": "stdout",
     "output_type": "stream",
     "text": [
      "Best Parameters: {'alpha': 0.1, 'eta0': 0.001, 'learning_rate': 'invscaling', 'penalty': 'l1'}\n",
      "Best Score: -6.074851608605037\n",
      "Mean Squared Error on Test Set: 8.490886811927613\n",
      "Mean Squared Error on Validation Set: 4.494936820188862\n",
      "Fold 1/5, MSE: 12.041291289935069\n",
      "Fold 2/5, MSE: 4.2243099539550375\n",
      "Fold 3/5, MSE: 6.773138261288012\n",
      "Fold 4/5, MSE: 4.743056058874429\n",
      "Fold 5/5, MSE: 7.640826673465911\n"
     ]
    }
   ],
   "source": [
    "import numpy as np\n",
    "from sklearn.linear_model import SGDRegressor\n",
    "from sklearn.model_selection import train_test_split, GridSearchCV\n",
    "from sklearn.metrics import mean_squared_error\n",
    "from tqdm import tqdm\n",
    "import matplotlib.pyplot as plt\n",
    "from sklearn.preprocessing import StandardScaler\n",
    "import pickle\n",
    "from joblib import Parallel, delayed\n",
    "\n",
    "# Ensure the features and target dataframes are correctly assigned\n",
    "features = features.drop(columns=['Datum'])\n",
    "target = target['PM10_Combined_Trend_Residual']\n",
    "\n",
    "# Split the data into train, test, and validate sets\n",
    "train_data, temp_data, train_target, temp_target = train_test_split(features, target, test_size=0.3, random_state=11)# letter K in Alphabet\n",
    "test_data, validate_data, test_target, validate_target = train_test_split(temp_data, temp_target, test_size=0.3333, random_state=11)# letter K in Alphabet\n",
    "\n",
    "# Add difference (growth/decrease) features\n",
    "features_diff = features.diff().fillna(0)\n",
    "features = pd.concat([features, features_diff.add_suffix('_diff')], axis=1)\n",
    "\n",
    "# Add squared features\n",
    "features_squared = features ** 2\n",
    "features = pd.concat([features, features_squared.add_suffix('_squared')], axis=1)\n",
    "\n",
    "# Standardize the features\n",
    "scaler = StandardScaler()\n",
    "features_scaled = scaler.fit_transform(features)\n",
    "\n",
    "# Save the scaler using pickle\n",
    "with open('scaler.pkl2', 'wb') as f:\n",
    "    pickle.dump(scaler, f)\n",
    "\n",
    "# Update the train, test, and validate sets with the scaled features\n",
    "train_data, temp_data, train_target, temp_target = train_test_split(features_scaled, target, test_size=0.3, random_state=11)# letter K in Alphabet\n",
    "test_data, validate_data, test_target, validate_target = train_test_split(temp_data, temp_target, test_size=0.3333, random_state=11)# letter K in Alphabet\n",
    "\n",
    "# Define the parameter grid for GridSearchCV\n",
    "param_grid = {\n",
    "    'alpha': [0.0001, 0.001, 0.01, 0.1],\n",
    "    'eta0': [0.001, 0.01, 0.1, 1],\n",
    "    'learning_rate': ['constant', 'optimal', 'invscaling', 'adaptive'],\n",
    "    'penalty': ['l2', 'l1', 'elasticnet', None]\n",
    "}\n",
    "\n",
    "# Initialize the SGDRegressor\n",
    "sgd = SGDRegressor(max_iter=1000, tol=1e-3)\n",
    "\n",
    "# Initialize GridSearchCV\n",
    "grid_search = GridSearchCV(sgd, param_grid, cv=5, scoring='neg_mean_squared_error', n_jobs=-1, verbose=2)\n",
    "\n",
    "# Fit the model\n",
    "grid_search.fit(train_data, train_target.values.ravel())\n",
    "\n",
    "# Get the best parameters and best score\n",
    "best_params = grid_search.best_params_\n",
    "best_score = grid_search.best_score_\n",
    "\n",
    "# Plot the progress bar\n",
    "progress_bar = tqdm(total=100)\n",
    "for i in range(100):\n",
    "    progress_bar.update(1)\n",
    "progress_bar.close()\n",
    "\n",
    "# Print the best parameters and best score\n",
    "print(\"Best Parameters:\", best_params)\n",
    "print(\"Best Score:\", best_score)\n",
    "\n",
    "# Evaluate the model on the test set\n",
    "predictions = grid_search.predict(test_data)\n",
    "predictions = np.maximum(predictions, 0)  # Ensure predictions are not lower than zero\n",
    "mse = mean_squared_error(test_target, predictions)\n",
    "print(\"Mean Squared Error on Test Set:\", mse)\n",
    "\n",
    "# Evaluate the model on the validation set\n",
    "validate_predictions = grid_search.predict(validate_data)\n",
    "validate_predictions = np.maximum(validate_predictions, 0)  # Ensure predictions are not lower than zero\n",
    "validate_mse = mean_squared_error(validate_target, validate_predictions)\n",
    "print(\"Mean Squared Error on Validation Set:\", validate_mse)\n",
    "\n",
    "# Function to train and evaluate model for each fold\n",
    "def train_and_evaluate(fold):\n",
    "    start_train_size = initial_train_size + fold * test_size\n",
    "    end_train_size = start_train_size + test_size\n",
    "\n",
    "    X_train_fold = train_data[:end_train_size]\n",
    "    y_train_fold = train_target[:end_train_size]\n",
    "    X_test_fold = train_data[end_train_size:end_train_size + test_size]\n",
    "    y_test_fold = train_target[end_train_size:end_train_size + test_size]\n",
    "\n",
    "    model = SGDRegressor(**best_params, max_iter=1000, tol=1e-3)\n",
    "    model.fit(X_train_fold, y_train_fold)\n",
    "    fold_predictions = model.predict(X_test_fold)\n",
    "    fold_predictions = np.maximum(fold_predictions, 0)  # Ensure predictions are not lower than zero\n",
    "    fold_mse = mean_squared_error(y_test_fold, fold_predictions)\n",
    "    return fold, fold_mse\n",
    "\n",
    "# Expanding CV Fold Sizes\n",
    "initial_train_size = int(0.5 * len(train_data))\n",
    "test_size = int(0.1 * len(train_data))\n",
    "num_folds = (len(train_data) - initial_train_size) // test_size\n",
    "\n",
    "# Use joblib to parallelize the computation\n",
    "results = Parallel(n_jobs=-1)(delayed(train_and_evaluate)(fold) for fold in range(num_folds))\n",
    "\n",
    "# Print the results for each fold\n",
    "for fold, fold_mse in results:\n",
    "    print(f\"Fold {fold + 1}/{num_folds}, MSE: {fold_mse}\")"
   ]
  },
  {
   "cell_type": "code",
   "execution_count": 3,
   "metadata": {},
   "outputs": [
    {
     "name": "stdout",
     "output_type": "stream",
     "text": [
      "Fitting 5 folds for each of 9 candidates, totalling 45 fits\n",
      "[CV] END alpha=0.010000000000000002, eta0=0.001, learning_rate=invscaling, penalty=l1; total time=   0.4s\n",
      "[CV] END alpha=0.010000000000000002, eta0=0.001, learning_rate=invscaling, penalty=l1; total time=   0.4s\n",
      "[CV] END alpha=0.010000000000000002, eta0=0.001, learning_rate=invscaling, penalty=l1; total time=   0.4s\n",
      "[CV] END alpha=0.010000000000000002, eta0=0.01, learning_rate=invscaling, penalty=l1; total time=   0.3s\n",
      "[CV] END alpha=0.010000000000000002, eta0=0.01, learning_rate=invscaling, penalty=l1; total time=   0.3s\n",
      "[CV] END alpha=0.010000000000000002, eta0=0.01, learning_rate=invscaling, penalty=l1; total time=   0.2s\n",
      "[CV] END alpha=0.010000000000000002, eta0=0.01, learning_rate=invscaling, penalty=l1; total time=   0.2s\n",
      "[CV] END alpha=0.010000000000000002, eta0=0.01, learning_rate=invscaling, penalty=l1; total time=   0.3s\n",
      "[CV] END alpha=0.010000000000000002, eta0=0.001, learning_rate=invscaling, penalty=l1; total time=   1.5s\n",
      "[CV] END alpha=0.010000000000000002, eta0=0.001, learning_rate=invscaling, penalty=l1; total time=   1.7s\n",
      "[CV] END alpha=0.010000000000000002, eta0=0.0001, learning_rate=invscaling, penalty=l1; total time=   5.3s\n",
      "[CV] END alpha=0.010000000000000002, eta0=0.0001, learning_rate=invscaling, penalty=l1; total time=   5.6s\n",
      "[CV] END alpha=0.010000000000000002, eta0=0.0001, learning_rate=invscaling, penalty=l1; total time=   5.6s\n",
      "[CV] END alpha=0.010000000000000002, eta0=0.0001, learning_rate=invscaling, penalty=l1; total time=   5.7s\n",
      "[CV] END alpha=0.010000000000000002, eta0=0.0001, learning_rate=invscaling, penalty=l1; total time=   5.8s\n",
      "[CV] END alpha=0.1, eta0=0.001, learning_rate=invscaling, penalty=l1; total time=   0.8s\n",
      "[CV] END alpha=0.1, eta0=0.001, learning_rate=invscaling, penalty=l1; total time=   1.0s\n",
      "[CV] END alpha=0.1, eta0=0.001, learning_rate=invscaling, penalty=l1; total time=   1.1s\n",
      "[CV] END alpha=0.1, eta0=0.01, learning_rate=invscaling, penalty=l1; total time=   0.2s\n",
      "[CV] END alpha=0.1, eta0=0.001, learning_rate=invscaling, penalty=l1; total time=   0.8s\n",
      "[CV] END alpha=0.1, eta0=0.001, learning_rate=invscaling, penalty=l1; total time=   1.0s\n",
      "[CV] END alpha=0.1, eta0=0.01, learning_rate=invscaling, penalty=l1; total time=   0.2s\n",
      "[CV] END alpha=0.1, eta0=0.01, learning_rate=invscaling, penalty=l1; total time=   0.2s\n",
      "[CV] END alpha=0.1, eta0=0.01, learning_rate=invscaling, penalty=l1; total time=   0.5s\n",
      "[CV] END alpha=0.1, eta0=0.01, learning_rate=invscaling, penalty=l1; total time=   0.2s\n",
      "[CV] END alpha=0.1, eta0=0.0001, learning_rate=invscaling, penalty=l1; total time=   6.1s\n",
      "[CV] END alpha=0.1, eta0=0.0001, learning_rate=invscaling, penalty=l1; total time=   6.4s\n",
      "[CV] END alpha=0.1, eta0=0.0001, learning_rate=invscaling, penalty=l1; total time=   6.8s\n",
      "[CV] END alpha=1.0, eta0=0.001, learning_rate=invscaling, penalty=l1; total time=   1.1s\n",
      "[CV] END alpha=0.1, eta0=0.0001, learning_rate=invscaling, penalty=l1; total time=   5.9s\n",
      "[CV] END alpha=1.0, eta0=0.001, learning_rate=invscaling, penalty=l1; total time=   1.6s\n",
      "[CV] END alpha=1.0, eta0=0.001, learning_rate=invscaling, penalty=l1; total time=   1.2s\n",
      "[CV] END alpha=1.0, eta0=0.0001, learning_rate=invscaling, penalty=l1; total time=   4.9s\n",
      "[CV] END alpha=1.0, eta0=0.001, learning_rate=invscaling, penalty=l1; total time=   1.4s\n",
      "[CV] END alpha=0.1, eta0=0.0001, learning_rate=invscaling, penalty=l1; total time=   7.1s\n",
      "[CV] END alpha=1.0, eta0=0.0001, learning_rate=invscaling, penalty=l1; total time=   4.5s\n",
      "[CV] END alpha=1.0, eta0=0.001, learning_rate=invscaling, penalty=l1; total time=   0.5s\n",
      "[CV] END alpha=1.0, eta0=0.01, learning_rate=invscaling, penalty=l1; total time=   0.5s\n",
      "[CV] END alpha=1.0, eta0=0.01, learning_rate=invscaling, penalty=l1; total time=   0.5s\n",
      "[CV] END alpha=1.0, eta0=0.01, learning_rate=invscaling, penalty=l1; total time=   0.5s\n",
      "[CV] END alpha=1.0, eta0=0.0001, learning_rate=invscaling, penalty=l1; total time=   5.4s\n",
      "[CV] END alpha=1.0, eta0=0.01, learning_rate=invscaling, penalty=l1; total time=   0.8s\n",
      "[CV] END alpha=1.0, eta0=0.01, learning_rate=invscaling, penalty=l1; total time=   0.8s\n",
      "[CV] END alpha=1.0, eta0=0.0001, learning_rate=invscaling, penalty=l1; total time=   5.9s\n",
      "[CV] END alpha=1.0, eta0=0.0001, learning_rate=invscaling, penalty=l1; total time=   8.4s\n",
      "Refined Best Parameters: {'alpha': 0.010000000000000002, 'eta0': 0.0001, 'learning_rate': 'invscaling', 'penalty': 'l1'}\n",
      "Refined Best Score: -6.034095340807501\n",
      "Refined Mean Squared Error on Test Set: 7.981928715195987\n",
      "Refined Mean Squared Error on Validation Set: 4.390374247123863\n"
     ]
    }
   ],
   "source": [
    "# Define a more focused parameter grid for GridSearchCV based on the best parameters\n",
    "refined_param_grid = {\n",
    "    'alpha': [best_params['alpha'] * 0.1, best_params['alpha'], best_params['alpha'] * 10],\n",
    "    'eta0': [best_params['eta0'] * 0.1, best_params['eta0'], best_params['eta0'] * 10],\n",
    "    'learning_rate': [best_params['learning_rate']],\n",
    "    'penalty': [best_params['penalty']]\n",
    "}\n",
    "\n",
    "# Initialize a new GridSearchCV with the refined parameter grid\n",
    "refined_grid_search = GridSearchCV(sgd, refined_param_grid, cv=5, scoring='neg_mean_squared_error', n_jobs=-1, verbose=2)\n",
    "\n",
    "# Fit the model with the refined parameter grid\n",
    "refined_grid_search.fit(train_data, train_target.values.ravel())\n",
    "\n",
    "# Get the best parameters and best score from the refined search\n",
    "refined_best_params = refined_grid_search.best_params_\n",
    "refined_best_score = refined_grid_search.best_score_\n",
    "\n",
    "# Print the refined best parameters and best score\n",
    "print(\"Refined Best Parameters:\", refined_best_params)\n",
    "print(\"Refined Best Score:\", refined_best_score)\n",
    "\n",
    "# Evaluate the refined model on the test set\n",
    "refined_predictions = refined_grid_search.predict(test_data)\n",
    "refined_mse = mean_squared_error(test_target, refined_predictions)\n",
    "print(\"Refined Mean Squared Error on Test Set:\", refined_mse)\n",
    "\n",
    "# Evaluate the refined model on the validation set\n",
    "refined_validate_predictions = refined_grid_search.predict(validate_data)\n",
    "refined_validate_mse = mean_squared_error(validate_target, refined_validate_predictions)\n",
    "print(\"Refined Mean Squared Error on Validation Set:\", refined_validate_mse)"
   ]
  },
  {
   "cell_type": "code",
   "execution_count": null,
   "metadata": {},
   "outputs": [],
   "source": []
  }
 ],
 "metadata": {
  "kernelspec": {
   "display_name": "Python 3",
   "language": "python",
   "name": "python3"
  },
  "language_info": {
   "codemirror_mode": {
    "name": "ipython",
    "version": 3
   },
   "file_extension": ".py",
   "mimetype": "text/x-python",
   "name": "python",
   "nbconvert_exporter": "python",
   "pygments_lexer": "ipython3",
   "version": "3.9.6"
  }
 },
 "nbformat": 4,
 "nbformat_minor": 2
}
