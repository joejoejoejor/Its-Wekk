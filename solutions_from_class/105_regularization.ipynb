{
 "cells": [
  {
   "cell_type": "markdown",
   "metadata": {},
   "source": [
    "# Regularization \n",
    "\n",
    "#### 🎯 Learning Goals\n",
    "\n",
    "1. Understand when a linear model can go wrong - so-called **pathological cases**!\n",
    "1. What is regularization?\n",
    "2. What is l1 and l2 regularisation?\n",
    "4. Understand how to use `scikit-learn` to solve linear regression problems with regularization."
   ]
  },
  {
   "cell_type": "code",
   "execution_count": 1,
   "metadata": {},
   "outputs": [],
   "source": [
    "# Load our libraries\n",
    "import numpy as np\n",
    "import pandas as pd\n",
    "import matplotlib.pyplot as plt\n",
    "from sklearn.linear_model import LinearRegression\n",
    "from sklearn import linear_model\n",
    "import seaborn as sns\n",
    "\n",
    "# Use a nicer style for plots\n",
    "plt.style.use(\"seaborn-v0_8-muted\")"
   ]
  },
  {
   "cell_type": "markdown",
   "metadata": {},
   "source": [
    "## Pathological cases or what can go wrong in a seemingly simple model class\n",
    "\n",
    "You have derived earlier the closed form solution of the linear model: $\\hat{\\beta}= (X^TX)^{-1}X^Ty$. What has been implicit in this derivation is that $X^TX$ is invertible. This assumption is violated should\n",
    "+ there be more features than observations\n",
    "+ there be perfect collinearity, i.e. one feature can be perfectly predicted by the other features (linearly).\n",
    "\n",
    "Further, when the determinant of $(X^TX)^{-1}$ is close to zero, the inverse of  $(X^TX)^{-1}$ is numerically instable. Small perturbations in the data translate into sizeable changes in the inverse and hence estimated coefficients. \n",
    "\n",
    "#### Toy Examples\n",
    "\n",
    "The code below generates some artificial data to illustrate this point. First let's see when $X$ does not have full rank, we will not be able to compute the inverse.\n",
    "\n",
    "**Example 1** Perfect collinearity"
   ]
  },
  {
   "cell_type": "code",
   "execution_count": 2,
   "metadata": {},
   "outputs": [
    {
     "name": "stdout",
     "output_type": "stream",
     "text": [
      "Rank of X^T * X: 1\n"
     ]
    },
    {
     "ename": "LinAlgError",
     "evalue": "Singular matrix",
     "output_type": "error",
     "traceback": [
      "\u001b[0;31m---------------------------------------------------------------------------\u001b[0m",
      "\u001b[0;31mLinAlgError\u001b[0m                               Traceback (most recent call last)",
      "Cell \u001b[0;32mIn[2], line 15\u001b[0m\n\u001b[1;32m     12\u001b[0m \u001b[38;5;28mprint\u001b[39m(\u001b[38;5;124mf\u001b[39m\u001b[38;5;124m\"\u001b[39m\u001b[38;5;124mRank of X^T * X: \u001b[39m\u001b[38;5;132;01m{\u001b[39;00mrank_XTX\u001b[38;5;132;01m}\u001b[39;00m\u001b[38;5;124m\"\u001b[39m)\n\u001b[1;32m     14\u001b[0m \u001b[38;5;66;03m# Attempt to compute the inverse of X^T * X\u001b[39;00m\n\u001b[0;32m---> 15\u001b[0m inv_XTX \u001b[38;5;241m=\u001b[39m \u001b[43mnp\u001b[49m\u001b[38;5;241;43m.\u001b[39;49m\u001b[43mlinalg\u001b[49m\u001b[38;5;241;43m.\u001b[39;49m\u001b[43minv\u001b[49m\u001b[43m(\u001b[49m\u001b[43mXTX\u001b[49m\u001b[43m)\u001b[49m\n",
      "File \u001b[0;32m/opt/conda/lib/python3.10/site-packages/numpy/linalg/linalg.py:561\u001b[0m, in \u001b[0;36minv\u001b[0;34m(a)\u001b[0m\n\u001b[1;32m    559\u001b[0m signature \u001b[38;5;241m=\u001b[39m \u001b[38;5;124m'\u001b[39m\u001b[38;5;124mD->D\u001b[39m\u001b[38;5;124m'\u001b[39m \u001b[38;5;28;01mif\u001b[39;00m isComplexType(t) \u001b[38;5;28;01melse\u001b[39;00m \u001b[38;5;124m'\u001b[39m\u001b[38;5;124md->d\u001b[39m\u001b[38;5;124m'\u001b[39m\n\u001b[1;32m    560\u001b[0m extobj \u001b[38;5;241m=\u001b[39m get_linalg_error_extobj(_raise_linalgerror_singular)\n\u001b[0;32m--> 561\u001b[0m ainv \u001b[38;5;241m=\u001b[39m \u001b[43m_umath_linalg\u001b[49m\u001b[38;5;241;43m.\u001b[39;49m\u001b[43minv\u001b[49m\u001b[43m(\u001b[49m\u001b[43ma\u001b[49m\u001b[43m,\u001b[49m\u001b[43m \u001b[49m\u001b[43msignature\u001b[49m\u001b[38;5;241;43m=\u001b[39;49m\u001b[43msignature\u001b[49m\u001b[43m,\u001b[49m\u001b[43m \u001b[49m\u001b[43mextobj\u001b[49m\u001b[38;5;241;43m=\u001b[39;49m\u001b[43mextobj\u001b[49m\u001b[43m)\u001b[49m\n\u001b[1;32m    562\u001b[0m \u001b[38;5;28;01mreturn\u001b[39;00m wrap(ainv\u001b[38;5;241m.\u001b[39mastype(result_t, copy\u001b[38;5;241m=\u001b[39m\u001b[38;5;28;01mFalse\u001b[39;00m))\n",
      "File \u001b[0;32m/opt/conda/lib/python3.10/site-packages/numpy/linalg/linalg.py:112\u001b[0m, in \u001b[0;36m_raise_linalgerror_singular\u001b[0;34m(err, flag)\u001b[0m\n\u001b[1;32m    111\u001b[0m \u001b[38;5;28;01mdef\u001b[39;00m \u001b[38;5;21m_raise_linalgerror_singular\u001b[39m(err, flag):\n\u001b[0;32m--> 112\u001b[0m     \u001b[38;5;28;01mraise\u001b[39;00m LinAlgError(\u001b[38;5;124m\"\u001b[39m\u001b[38;5;124mSingular matrix\u001b[39m\u001b[38;5;124m\"\u001b[39m)\n",
      "\u001b[0;31mLinAlgError\u001b[0m: Singular matrix"
     ]
    }
   ],
   "source": [
    "# Generate a matrix with linearly dependent columns\n",
    "# For simplicity, we'll create a 3x3 matrix with two identical columns\n",
    "X = np.array([[1, 2, 3],\n",
    "              [4, 8, 12],\n",
    "              [7, 14, 21]])\n",
    "\n",
    "# Calculate X^T * X\n",
    "XTX = np.dot(X.T, X)\n",
    "\n",
    "# Check the rank of X^T * X\n",
    "rank_XTX = np.linalg.matrix_rank(XTX)\n",
    "print(f\"Rank of X^T * X: {rank_XTX}\")\n",
    "\n",
    "# Attempt to compute the inverse of X^T * X\n",
    "inv_XTX = np.linalg.inv(XTX)"
   ]
  },
  {
   "cell_type": "markdown",
   "metadata": {},
   "source": [
    "#### ➡️ ✏️ Task 1\n",
    "\n",
    "Can you think of a case with real data where we may encounter this perfect collinearity?"
   ]
  },
  {
   "cell_type": "markdown",
   "metadata": {},
   "source": [
    "**Example 2** More features than observations"
   ]
  },
  {
   "cell_type": "code",
   "execution_count": 3,
   "metadata": {},
   "outputs": [
    {
     "name": "stdout",
     "output_type": "stream",
     "text": [
      "Rank of X^T * X: 2\n"
     ]
    },
    {
     "ename": "LinAlgError",
     "evalue": "Singular matrix",
     "output_type": "error",
     "traceback": [
      "\u001b[0;31m---------------------------------------------------------------------------\u001b[0m",
      "\u001b[0;31mLinAlgError\u001b[0m                               Traceback (most recent call last)",
      "Cell \u001b[0;32mIn[3], line 12\u001b[0m\n\u001b[1;32m      9\u001b[0m \u001b[38;5;28mprint\u001b[39m(\u001b[38;5;124mf\u001b[39m\u001b[38;5;124m\"\u001b[39m\u001b[38;5;124mRank of X^T * X: \u001b[39m\u001b[38;5;132;01m{\u001b[39;00mrank_XTX\u001b[38;5;132;01m}\u001b[39;00m\u001b[38;5;124m\"\u001b[39m)\n\u001b[1;32m     11\u001b[0m \u001b[38;5;66;03m# Attempt to compute the inverse of X^T * X\u001b[39;00m\n\u001b[0;32m---> 12\u001b[0m inv_XTX \u001b[38;5;241m=\u001b[39m \u001b[43mnp\u001b[49m\u001b[38;5;241;43m.\u001b[39;49m\u001b[43mlinalg\u001b[49m\u001b[38;5;241;43m.\u001b[39;49m\u001b[43minv\u001b[49m\u001b[43m(\u001b[49m\u001b[43mXTX\u001b[49m\u001b[43m)\u001b[49m\n",
      "File \u001b[0;32m/opt/conda/lib/python3.10/site-packages/numpy/linalg/linalg.py:561\u001b[0m, in \u001b[0;36minv\u001b[0;34m(a)\u001b[0m\n\u001b[1;32m    559\u001b[0m signature \u001b[38;5;241m=\u001b[39m \u001b[38;5;124m'\u001b[39m\u001b[38;5;124mD->D\u001b[39m\u001b[38;5;124m'\u001b[39m \u001b[38;5;28;01mif\u001b[39;00m isComplexType(t) \u001b[38;5;28;01melse\u001b[39;00m \u001b[38;5;124m'\u001b[39m\u001b[38;5;124md->d\u001b[39m\u001b[38;5;124m'\u001b[39m\n\u001b[1;32m    560\u001b[0m extobj \u001b[38;5;241m=\u001b[39m get_linalg_error_extobj(_raise_linalgerror_singular)\n\u001b[0;32m--> 561\u001b[0m ainv \u001b[38;5;241m=\u001b[39m \u001b[43m_umath_linalg\u001b[49m\u001b[38;5;241;43m.\u001b[39;49m\u001b[43minv\u001b[49m\u001b[43m(\u001b[49m\u001b[43ma\u001b[49m\u001b[43m,\u001b[49m\u001b[43m \u001b[49m\u001b[43msignature\u001b[49m\u001b[38;5;241;43m=\u001b[39;49m\u001b[43msignature\u001b[49m\u001b[43m,\u001b[49m\u001b[43m \u001b[49m\u001b[43mextobj\u001b[49m\u001b[38;5;241;43m=\u001b[39;49m\u001b[43mextobj\u001b[49m\u001b[43m)\u001b[49m\n\u001b[1;32m    562\u001b[0m \u001b[38;5;28;01mreturn\u001b[39;00m wrap(ainv\u001b[38;5;241m.\u001b[39mastype(result_t, copy\u001b[38;5;241m=\u001b[39m\u001b[38;5;28;01mFalse\u001b[39;00m))\n",
      "File \u001b[0;32m/opt/conda/lib/python3.10/site-packages/numpy/linalg/linalg.py:112\u001b[0m, in \u001b[0;36m_raise_linalgerror_singular\u001b[0;34m(err, flag)\u001b[0m\n\u001b[1;32m    111\u001b[0m \u001b[38;5;28;01mdef\u001b[39;00m \u001b[38;5;21m_raise_linalgerror_singular\u001b[39m(err, flag):\n\u001b[0;32m--> 112\u001b[0m     \u001b[38;5;28;01mraise\u001b[39;00m LinAlgError(\u001b[38;5;124m\"\u001b[39m\u001b[38;5;124mSingular matrix\u001b[39m\u001b[38;5;124m\"\u001b[39m)\n",
      "\u001b[0;31mLinAlgError\u001b[0m: Singular matrix"
     ]
    }
   ],
   "source": [
    "X =  np.array([[1, 2, 5, 11],\n",
    "              [4, 8, 13, 22]])\n",
    "\n",
    "# Calculate X^T * X\n",
    "XTX = np.dot(X.T, X)\n",
    "\n",
    "# Check the rank of X^T * X\n",
    "rank_XTX = np.linalg.matrix_rank(XTX)\n",
    "print(f\"Rank of X^T * X: {rank_XTX}\")\n",
    "\n",
    "# Attempt to compute the inverse of X^T * X\n",
    "inv_XTX = np.linalg.inv(XTX)"
   ]
  },
  {
   "cell_type": "markdown",
   "metadata": {},
   "source": [
    "#### ➡️ ✏️ Task 2\n",
    "\n",
    "Can you think of applications where we may have more feature than observations?"
   ]
  },
  {
   "cell_type": "markdown",
   "metadata": {},
   "source": [
    "_______\n",
    "### Towards Ridge\n",
    "\n",
    "When we have perfect collinearity note that we can introduce perturbations so that we can still solve for the inverse of the matrix. One smart idea would be to add the perturbation for all on-diagonal elements, i.e.\n",
    "\n",
    "$$A' = A + \\lambda I $$"
   ]
  },
  {
   "cell_type": "markdown",
   "metadata": {},
   "source": [
    "#### ➡️ ✏️ Task 3\n",
    "\n",
    "Let's revisit our stylized example, i.e. take the matrix \n",
    "\n",
    "\\begin{pmatrix}\n",
    " 1 & 2 & 3 \\\\\n",
    " 4 & 8 & 12 \\\\\n",
    " 7 & 14 & 21\n",
    "\\end{pmatrix}\n",
    "\n",
    "and use $\\lambda = 1$ to perturb the matrix. Verify how the determinant of this matrix changes and that you are able to invert the matrix. Why does this method guarantee to resolve perfect collinearity?"
   ]
  },
  {
   "cell_type": "code",
   "execution_count": 4,
   "metadata": {},
   "outputs": [
    {
     "data": {
      "text/plain": [
       "30.999999999999986"
      ]
     },
     "execution_count": 4,
     "metadata": {},
     "output_type": "execute_result"
    }
   ],
   "source": [
    "# Your solution\n",
    "np.linalg.det(np.array([[1, 2, 3], [4, 8, 12], [7, 14, 21]]) + 1*np.eye(3))"
   ]
  },
  {
   "cell_type": "code",
   "execution_count": 5,
   "metadata": {},
   "outputs": [
    {
     "data": {
      "text/plain": [
       "0.0"
      ]
     },
     "execution_count": 5,
     "metadata": {},
     "output_type": "execute_result"
    }
   ],
   "source": [
    "# Without manipulation\n",
    "np.linalg.det(np.array([[1, 2, 3], [4, 8, 12], [7, 14, 21]]))\n",
    "# Reason by adding non-zero elements to the diagonal automatically get rid of any kind of linear dependence."
   ]
  },
  {
   "cell_type": "markdown",
   "metadata": {},
   "source": [
    "________\n",
    "## Regularization - Recap\n",
    "\n",
    "Regularization refers to a technique to shrink coefficient estimates towards zero. We will discuss l1 and l2 regularization, which are referred to as Lasso and Ridge regression respectively. Regularization is a powerful concept in machine learning."
   ]
  },
  {
   "cell_type": "markdown",
   "metadata": {},
   "source": [
    "### Ridge Regression\n",
    "\n",
    "In the Ridge regression the loss is extended by a term, which depends on the magnitude on the estimated coefficients and $\\lambda$, which is a tuning parameter. \n",
    "\n",
    "$$\\frac{1}{n}\\sum_{i=1}^n (y_i - \\beta_0 - \\sum_{j=1}^p \\beta_{j}x_{ij})^2 + \\lambda \\sum_{j=1}^p \\beta_j ^2$$"
   ]
  },
  {
   "cell_type": "markdown",
   "metadata": {},
   "source": [
    "#### ➡️ ✏️ Task 4\n",
    "\n",
    "Go back to the lecture slides and look at the closed-form solution for Ridge. What do you observe? How does Ridge mechanically solve the collinearity issue? "
   ]
  },
  {
   "cell_type": "markdown",
   "metadata": {},
   "source": [
    "*Your solution*"
   ]
  },
  {
   "cell_type": "markdown",
   "metadata": {},
   "source": [
    "#### ➡️ ✏️ Task 5\n",
    "\n",
    "Complete the function below to compute the loss above. The function takes as input numpy arrays $y, X, \\beta$ and a scalar $\\lambda$."
   ]
  },
  {
   "cell_type": "code",
   "execution_count": 6,
   "metadata": {},
   "outputs": [],
   "source": [
    "# Your solution\n",
    "def my_ridge_loss(y, x, beta, lambda_):  # lambda is reserved in Python, hence lambda_\n",
    "    np.mean((y-X@beta)**2) + sum(lambda_ * beta**2)"
   ]
  },
  {
   "cell_type": "markdown",
   "metadata": {},
   "source": [
    "### Lasso Regression\n",
    "\n",
    "In the lasso the loss is also added by a term, which depends on the absolute magnitude of the estimated coefficients:\n",
    "\n",
    "$$\\frac{1}{n}\\sum_{i=1}^n (y_i - \\beta_0 - \\sum_{j=1}^p \\beta_{j}x_{ij})^2 + \\lambda \\sum_{j=1}^p |\\beta_j |$$"
   ]
  },
  {
   "cell_type": "markdown",
   "metadata": {},
   "source": [
    "#### ➡️ ✏️ Task 6\n",
    "\n",
    "Complete the function below to compute the loss above. The function takes as input numpy arrays $y, X, \\beta$ and a scalar $\\lambda$."
   ]
  },
  {
   "cell_type": "code",
   "execution_count": 7,
   "metadata": {},
   "outputs": [],
   "source": [
    "# Your solution\n",
    "def my_lasso_loss(y, x, beta, lambda_):  # lambda is reserved in Python, hence lambda_\n",
    "    np.mean((y-X@beta)**2) + sum(lambda_ * np.abs(beta))"
   ]
  },
  {
   "cell_type": "markdown",
   "metadata": {},
   "source": [
    "________\n",
    "## Regularization - In Action\n",
    "\n",
    "In our practical application, we take Kaggel data where the task is to predict readability of a text. As predictors we have 768 numerical features which were derived from the text using a pre-trained NLP model. Check this [Kaggle notebook](https://www.kaggle.com/code/uocoeeds/lecture-2b-data-preprocessing-ii/notebook) for details and to try it on your own if you are interested."
   ]
  },
  {
   "cell_type": "code",
   "execution_count": 8,
   "metadata": {},
   "outputs": [],
   "source": [
    "df = pd.read_csv(\"data/readability_train.csv\")"
   ]
  },
  {
   "cell_type": "markdown",
   "metadata": {},
   "source": [
    "#### ➡️ ✏️ Task 7\n",
    "\n",
    "Inspect the data and briefly explain why regularization makes sense in the given setting?"
   ]
  },
  {
   "cell_type": "code",
   "execution_count": 9,
   "metadata": {},
   "outputs": [
    {
     "data": {
      "text/plain": [
       "(500, 770)"
      ]
     },
     "execution_count": 9,
     "metadata": {},
     "output_type": "execute_result"
    }
   ],
   "source": [
    "# Your solution\n",
    "\n",
    "df.shape\n",
    "# Regularization makes sense as we have more regressors (features) than observations."
   ]
  },
  {
   "cell_type": "markdown",
   "metadata": {},
   "source": [
    "### Best practice standardize data\n",
    "\n",
    "The penalty is the same for all $\\beta$ coefficients but $\\beta$ coefficients are scale dependent. For this reason, the data is first standardized to ensure that regularization works in a similar manner on the different variables involved independent of their scale. "
   ]
  },
  {
   "cell_type": "markdown",
   "metadata": {},
   "source": [
    "#### ➡️ ✏️ Task 8\n",
    "\n",
    "Check whether the features are standardized. If not, standardize the features. Demean the outcome."
   ]
  },
  {
   "cell_type": "code",
   "execution_count": 10,
   "metadata": {},
   "outputs": [],
   "source": [
    "# Your solution\n",
    "check = df[df.columns[~df.columns.isin([\"target\", \"excerpt\"])]].describe().T\n",
    "(check[\"std\"] == 1).sum()\n",
    "mask = df.columns.isin([\"target\", \"excerpt\"])\n",
    "df.loc[:, df.columns[~mask]] = (df[df.columns[~mask]] - df[df.columns[~mask]].mean(axis=0)) / df[df.columns[~mask]].std(axis=0)\n",
    "df[\"target\"] -= df[\"target\"].mean() "
   ]
  },
  {
   "cell_type": "markdown",
   "metadata": {},
   "source": [
    "#### ➡️ ✏️ Task 9\n",
    "\n",
    "Execute the code below and interpret the figure."
   ]
  },
  {
   "cell_type": "code",
   "execution_count": 11,
   "metadata": {},
   "outputs": [
    {
     "data": {
      "image/png": "[encoded data removed]",
      "text/plain": [
       "<Figure size 640x480 with 1 Axes>"
      ]
     },
     "metadata": {},
     "output_type": "display_data"
    }
   ],
   "source": [
    "X = df[df.columns[~mask]]\n",
    "y = df[\"target\"]\n",
    "\n",
    "n_alphas = 200\n",
    "alphas = np.logspace(-2, 2, n_alphas)\n",
    "\n",
    "coefs = []\n",
    "for a in alphas:\n",
    "    ridge = linear_model.Ridge(alpha=a, fit_intercept=True)\n",
    "    ridge.fit(X, y)\n",
    "    coefs.append(ridge.coef_)\n",
    "\n",
    "coefs = pd.DataFrame(coefs, columns=[\"beta\" + f\"{i}\" for i in range(1, 769)])\n",
    "# Make a plot of the coefficients depending on regularization\n",
    "ax = plt.gca()\n",
    "ax.plot(alphas, coefs[\"beta1\"], label=\"beta1\")\n",
    "ax.plot(alphas, coefs[\"beta5\"], label=\"beta5\")\n",
    "ax.plot(alphas, coefs[\"beta7\"], label=\"beta7\")\n",
    "ax.plot(alphas, coefs[\"beta8\"], label=\"beta8\")\n",
    "ax.set_xscale(\"log\")\n",
    "ax.legend()\n",
    "ax.set_xlabel(\"$\\lambda$\")\n",
    "ax.set_ylabel(\"weights\")\n",
    "ax.set_title(\"Ridge coefficients as a function of the regularization\")\n",
    "ax.grid()"
   ]
  },
  {
   "cell_type": "markdown",
   "metadata": {},
   "source": [
    "#### ➡️ ✏️ Task 10\n",
    "\n",
    "Repeat the same exercise as before but now for the lasso."
   ]
  },
  {
   "cell_type": "code",
   "execution_count": 12,
   "metadata": {},
   "outputs": [
    {
     "data": {
      "image/png": "[encoded data removed]",
      "text/plain": [
       "<Figure size 640x480 with 1 Axes>"
      ]
     },
     "metadata": {},
     "output_type": "display_data"
    }
   ],
   "source": [
    "n_alphas = 200\n",
    "alphas = np.logspace(-2, 2, n_alphas)\n",
    "\n",
    "coefs = []\n",
    "for a in alphas:\n",
    "    lasso = linear_model.Lasso(alpha=a, fit_intercept=True)\n",
    "    lasso.fit(X, y)\n",
    "    coefs.append(lasso.coef_)\n",
    "\n",
    "\n",
    "coefs = pd.DataFrame(coefs, columns=[\"beta\" + f\"{i}\" for i in range(1, 769)])\n",
    "# Make a plot of the coefficients depending on regularization\n",
    "ax = plt.gca()\n",
    "ax.plot(alphas, coefs[\"beta1\"], label=\"beta1\")\n",
    "ax.plot(alphas, coefs[\"beta5\"], label=\"beta5\")\n",
    "ax.plot(alphas, coefs[\"beta7\"], label=\"beta7\")\n",
    "ax.plot(alphas, coefs[\"beta8\"], label=\"beta8\")\n",
    "ax.set_xscale(\"log\")\n",
    "ax.legend()\n",
    "ax.set_xlabel(\"$\\lambda$\")\n",
    "ax.set_ylabel(\"weights\")\n",
    "ax.set_title(\"Lasso coefficients as a function of the regularization\")\n",
    "ax.grid()"
   ]
  },
  {
   "cell_type": "markdown",
   "metadata": {},
   "source": [
    "#### ➡️ ✏️ Task 11\n",
    "\n",
    "Compare the lasso and Ridge. What differences do you observe? What happens for the lasso when $\\lambda$ (our notation) (alpha in `scikit-learn`) notation is set to 1? "
   ]
  },
  {
   "cell_type": "markdown",
   "metadata": {},
   "source": [
    "#### ➡️ ✏️ Task 12\n",
    "\n",
    "Derive 5 models for different versions of $\\lambda$ and predict readability for the new data as defined below. What do you observe? Is the performance on the new data the same for all models?"
   ]
  },
  {
   "cell_type": "code",
   "execution_count": 13,
   "metadata": {},
   "outputs": [],
   "source": [
    "df_new = pd.read_csv(\"data/readability_test.csv\")"
   ]
  },
  {
   "cell_type": "markdown",
   "metadata": {},
   "source": [
    "_____\n",
    "#### &#x1F52D; Regularization Big Picture\n",
    "\n",
    "We may wish to deploy regularization to increase the predictive performance of your model out of sample, i.e. make your model generalize better. You will talk about this concept much more in tomorrow's session. "
   ]
  }
 ],
 "metadata": {
  "kernelspec": {
   "display_name": "Python 3 (ipykernel)",
   "language": "python",
   "name": "python3"
  },
  "language_info": {
   "codemirror_mode": {
    "name": "ipython",
    "version": 3
   },
   "file_extension": ".py",
   "mimetype": "text/x-python",
   "name": "python",
   "nbconvert_exporter": "python",
   "pygments_lexer": "ipython3",
   "version": "3.10.12"
  }
 },
 "nbformat": 4,
 "nbformat_minor": 4
}
