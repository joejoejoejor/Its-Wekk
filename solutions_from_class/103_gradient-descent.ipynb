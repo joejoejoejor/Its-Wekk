{
 "cells": [
  {
   "cell_type": "markdown",
   "metadata": {},
   "source": [
    "# Gradient Descent\n",
    "\n",
    "#### 🎯 Learning Goals\n",
    "\n",
    "1. Understand the concept of **gradients** in machine learning.\n",
    "2. Understand and implement the **gradient descent** algorithm."
   ]
  },
  {
   "cell_type": "code",
   "execution_count": 1,
   "metadata": {},
   "outputs": [],
   "source": [
    "# Load our libraries\n",
    "import numpy as np\n",
    "import pandas as pd\n",
    "import matplotlib.pyplot as plt\n",
    "import dsf_helpers as dsfh\n",
    "\n",
    "# Use a nicer style for plots\n",
    "plt.style.use(\"seaborn-v0_8-muted\")"
   ]
  },
  {
   "cell_type": "markdown",
   "metadata": {},
   "source": [
    "___\n",
    "## Dataset\n",
    "As with the previous notebook, we will work with the dataset of **bike rentals**. Recall that we keep the following columns:\n",
    "\n",
    "+ `cnt`: the total number of bike rentals (our target variable).\n",
    "+ `temp`: the temperature outside (in Celsius, normalized on a scale between 0 and 1).\n",
    "+ `hum`: the humidity level (normalized on a scale between 0 and 1).\n",
    "+ `windspeed`: the wind speed (normalized on a scale between 0 and 1)."
   ]
  },
  {
   "cell_type": "code",
   "execution_count": 2,
   "metadata": {},
   "outputs": [
    {
     "data": {
      "text/html": [
       "<div>\n",
       "<style scoped>\n",
       "    .dataframe tbody tr th:only-of-type {\n",
       "        vertical-align: middle;\n",
       "    }\n",
       "\n",
       "    .dataframe tbody tr th {\n",
       "        vertical-align: top;\n",
       "    }\n",
       "\n",
       "    .dataframe thead th {\n",
       "        text-align: right;\n",
       "    }\n",
       "</style>\n",
       "<table border=\"1\" class=\"dataframe\">\n",
       "  <thead>\n",
       "    <tr style=\"text-align: right;\">\n",
       "      <th></th>\n",
       "      <th>cnt</th>\n",
       "      <th>temp</th>\n",
       "      <th>hum</th>\n",
       "      <th>windspeed</th>\n",
       "    </tr>\n",
       "  </thead>\n",
       "  <tbody>\n",
       "    <tr>\n",
       "      <th>0</th>\n",
       "      <td>16</td>\n",
       "      <td>0.24</td>\n",
       "      <td>0.81</td>\n",
       "      <td>0.0</td>\n",
       "    </tr>\n",
       "    <tr>\n",
       "      <th>1</th>\n",
       "      <td>40</td>\n",
       "      <td>0.22</td>\n",
       "      <td>0.80</td>\n",
       "      <td>0.0</td>\n",
       "    </tr>\n",
       "    <tr>\n",
       "      <th>2</th>\n",
       "      <td>32</td>\n",
       "      <td>0.22</td>\n",
       "      <td>0.80</td>\n",
       "      <td>0.0</td>\n",
       "    </tr>\n",
       "    <tr>\n",
       "      <th>3</th>\n",
       "      <td>13</td>\n",
       "      <td>0.24</td>\n",
       "      <td>0.75</td>\n",
       "      <td>0.0</td>\n",
       "    </tr>\n",
       "    <tr>\n",
       "      <th>4</th>\n",
       "      <td>1</td>\n",
       "      <td>0.24</td>\n",
       "      <td>0.75</td>\n",
       "      <td>0.0</td>\n",
       "    </tr>\n",
       "  </tbody>\n",
       "</table>\n",
       "</div>"
      ],
      "text/plain": [
       "   cnt  temp   hum  windspeed\n",
       "0   16  0.24  0.81        0.0\n",
       "1   40  0.22  0.80        0.0\n",
       "2   32  0.22  0.80        0.0\n",
       "3   13  0.24  0.75        0.0\n",
       "4    1  0.24  0.75        0.0"
      ]
     },
     "execution_count": 2,
     "metadata": {},
     "output_type": "execute_result"
    }
   ],
   "source": [
    "# Load the bike rental data\n",
    "rentals = pd.read_csv(\"data/bike_rental.csv\")\n",
    "\n",
    "# Keep only some columns of interest\n",
    "rentals = rentals[[\"cnt\", \"temp\", \"hum\", \"windspeed\"]]\n",
    "rentals.head()"
   ]
  },
  {
   "cell_type": "markdown",
   "metadata": {},
   "source": [
    "___\n",
    "## Gradient Computation\n",
    "\n",
    "Before we can implement gradient descent, we need a way to compute the gradient of the empirical risk with respect to the model parameters. That is, we need to calculate the partial derivative of the loss with respect to each parameter $\\beta_i$.\n",
    "\n",
    "For a linear regression model with $k$ features, recall the squared loss function is:\n",
    "\n",
    "$$\n",
    "\\begin{align*}\n",
    "\\ell(y^{(i)}, f_{\\boldsymbol{\\beta}}(\\mathbf{x}^{(i)})) &= \\left(y^{(i)} - \\mathbf{x}^{(i)} \\boldsymbol{\\beta}\\right)^2 \\\\\n",
    "&= \\left(y^{(i)} - \\sum_{j=0}^k x_j^{(i)} \\right)^2,\n",
    "\\end{align*}\n",
    "$$\n",
    "\n",
    "with empirical risk (or loss) given by:\n",
    "$$\n",
    "\\hat{L}(f_{\\boldsymbol{\\beta}}) = \\frac{1}{n}\\sum_{i=1}^n \\ell(y^{(i)}, f_{\\boldsymbol{\\beta}}(\\mathbf{x}^{(i)})) = \\frac{1}{n}\\sum_{i=1}^n \\left(y^{(i)} - \\sum_{j=0}^k x_j^{(i)} \\right)^2.\n",
    "$$\n",
    "\n",
    "thus, the gradient with respect to the parameters is given by:\n",
    "\n",
    "$$\\begin{align*}\n",
    "\\nabla_{\\boldsymbol{\\beta}} \\hat{L}(f_{\\boldsymbol{\\beta}}) &= \\begin{bmatrix}\\frac{\\partial \\hat{L}}{\\partial \\beta_0} \\\\ \\frac{\\partial \\hat{L}}{\\partial \\beta_1} \\\\ \\vdots \\\\ \\frac{\\partial \\hat{L}}{\\partial \\beta_k}\\end{bmatrix} = \\begin{bmatrix}\n",
    "\\frac{1}{n}\\sum_{i=1}^n\\frac{\\partial}{\\partial \\beta_0} \\left(y^{(i)} - \\sum_{j=0}^k x_j^{(i)}\\beta_j \\right)^2 \\\\\n",
    "\\frac{1}{n}\\sum_{i=1}^n\\frac{\\partial}{\\partial \\beta_1} \\left(y^{(i)} - \\sum_{j=0}^k x_j^{(i)}\\beta_j \\right)^2 \\\\\n",
    "\\vdots \\\\\n",
    "\\frac{1}{n}\\sum_{i=1}^n\\frac{\\partial}{\\partial \\beta_k} \\left(y^{(i)} - \\sum_{j=0}^k x_j^{(i)}\\beta_j \\right)^2 \n",
    "\\end{bmatrix} \\\\\n",
    "&= \\begin{bmatrix}\n",
    "-\\frac{2}{n}\\sum_{i=1}^n \\left(y^{(i)} - \\sum_{j=0}^k x_j^{(i)}\\beta_j \\right) \\\\\n",
    "-\\frac{2}{n}\\sum_{i=1}^n \\left(\\left(y^{(i)} - \\sum_{j=0}^k x_j^{(i)}\\beta_j \\right) x_1^{(i)}\\right)\\\\\n",
    "\\vdots \\\\\n",
    "-\\frac{2}{n}\\sum_{i=1}^n \\left(\\left(y^{(i)} - \\sum_{j=0}^k x_j^{(i)}\\beta_j \\right) x_k^{(i)}\\right) \\\\\n",
    "\\end{bmatrix}\n",
    "\\end{align*}$$\n",
    "\n",
    "\n",
    "We see that, for the linear regression model, the gradient is a vector of length $k$ where the $j$-th element is $-\\frac{2}{n}\\sum_{i=1}^n \\left(\\left(y^{(i)} - \\mathbf{x}^{(i)}\\boldsymbol{\\beta} \\right)x_j^{(i)}\\right)$."
   ]
  },
  {
   "cell_type": "markdown",
   "metadata": {},
   "source": [
    "#### ➡️ ✏️ Task 1\n",
    "Below is a function which implements the gradient computation for a linear regression model. Try to understand how the code corresponds to the math above. Discuss with your classmates to ensure you have the same understanding."
   ]
  },
  {
   "cell_type": "code",
   "execution_count": 3,
   "metadata": {},
   "outputs": [],
   "source": [
    "def gradient(X, y, beta):\n",
    "    return -2 * ((y - X.dot(beta)).reshape(-1, 1) * X).mean(axis=0) "
   ]
  },
  {
   "cell_type": "markdown",
   "metadata": {},
   "source": [
    "___\n",
    "\n",
    "## Gradient Descent Algorithm\n",
    "\n",
    "Once we have our gradient, we can use it to perform gradient descent. Recall that gradient descent is an iterative algorithm that updates the parameters $\\boldsymbol{\\beta}$ in the direction of the negative gradient. That is, we update the parameters by subtracting a scaled version of the gradient from the current parameters. The scaling factor is called the **learning rate**, $\\eta$.\n",
    "\n",
    "The algorithm is as follows:\n",
    "\n",
    "1. Initialize the parameters $\\boldsymbol{\\beta}^{(0)}$ to some random values, initialize $t = 0$.\n",
    "2. Compute the gradient of the empirical risk with respect to the parameters, $\\nabla_{\\boldsymbol{\\beta}} \\hat{L}(f_{\\boldsymbol{\\beta}^{(t)}})$.\n",
    "3. Update the parameters by subtracting the learning rate times the gradient from the current parameters: \n",
    "$$\\begin{align*}\\boldsymbol{\\beta}^{(t+1)} &\\leftarrow \\boldsymbol{\\beta}^{(t)} - \\eta \\nabla_{\\boldsymbol{\\beta}} \\hat{L}(f_{\\boldsymbol{\\beta}^{(t)}})\\\\\n",
    "t &\\leftarrow t + 1 \\end{align*}$$\n",
    "4. Repeat steps 2 and 3 until the parameters *converge*.\n",
    "\n",
    "How do we know when the parameters converge? Remember that the gradient points in the direction of steepest ascent. Thus, if we keep updating the parameters in the direction of the negative gradient, we will eventually reach a local minimum of the empirical risk. We can check if the parameters have converged by checking if the gradient is close to zero, which is equivalent to being in a *flat* region of the empirical risk.  That is, we can stop the algorithm when $\\|\\nabla_{\\boldsymbol{\\beta}} \\hat{L}(f_{\\boldsymbol{\\beta}^{(0)}})\\| < \\epsilon$ for some small **convergence threshold** $\\epsilon$.\n",
    "\n",
    "*Note*: $\\|\\mathbf{x}\\|$ is the Euclidean norm, i.e., $$\\|\\mathbf{x}\\| = \\sqrt{\\sum_{i=1}^n x_i^2}.$$\n"
   ]
  },
  {
   "cell_type": "markdown",
   "metadata": {},
   "source": [
    "#### ➡️ ✏️ Task 2\n",
    "Complete the code below to implement gradient descent for a linear regression model of the form:\n",
    "$$\n",
    "f_{\\boldsymbol{\\beta}}(\\mathbf{x}) = \\beta_0 + \\beta_1 \\text{temp} + \\beta_2 \\text{windspeed} + \\beta_3 \\text{humidity}.\n",
    "$$\n",
    "\n",
    "You can then run the code cell below to see how the parameters change over time. You should see that the parameters converge to a stable value after a few iterations."
   ]
  },
  {
   "cell_type": "code",
   "execution_count": 4,
   "metadata": {},
   "outputs": [
    {
     "name": "stdout",
     "output_type": "stream",
     "text": [
      "Did not converge\n"
     ]
    }
   ],
   "source": [
    "X = np.random.randn(rentals.shape[0], 4) # ➡️ ✏️ your code here (hint: don't forget the constant term!)\n",
    "y = rentals[\"cnt\"].values\n",
    "\n",
    "betas_list = []    # Initialize a list to keep track of the evolution of the betas over time\n",
    "epsilon = 1e-3     # The convergence criterion\n",
    "eta = 0.5          # The learning rate\n",
    "beta = np.zeros(4) # Initialize the beta vector to 0\n",
    "\n",
    "# Add the initial beta to the list\n",
    "betas_list.append(beta.flatten().copy()) \n",
    "\n",
    "\n",
    "t = 0 # Keep track of the number of iterations\n",
    "max_t = 750 # Maximum number of iterations\n",
    "\n",
    "# Run the gradient descent algorithm\n",
    "while t < max_t: # We stop after max_t iterations even if we don't converge\n",
    "    t += 1\n",
    "    # Compute the gradient\n",
    "    grad = np.ones(4) # ➡️ ✏️ your code here\n",
    "    \n",
    "    # Update the beta vector\n",
    "    beta = beta # ➡️ ✏️ your code here\n",
    "\n",
    "    # Add the new beta to the list\n",
    "    betas_list.append(beta.copy())\n",
    "\n",
    "    # Check for convergence\n",
    "    if np.linalg.norm(grad) < epsilon:\n",
    "        print(f\"Converged after {t} iterations\")\n",
    "        break\n",
    "\n",
    "if t == max_t:\n",
    "    print(\"Did not converge\")"
   ]
  },
  {
   "cell_type": "code",
   "execution_count": 5,
   "metadata": {},
   "outputs": [
    {
     "name": "stdout",
     "output_type": "stream",
     "text": [
      "Converged after 703 iterations\n"
     ]
    }
   ],
   "source": [
    "# TODO: REMOVE SOLUTION\n",
    "\n",
    "X = rentals[[\"temp\", \"windspeed\", \"hum\"]].values\n",
    "X = np.hstack((np.ones((rentals.shape[0], 1)), X))\n",
    "y = rentals[\"cnt\"].values\n",
    "\n",
    "betas_list = []    # Initialize a list to keep track of the evolution of the betas over time\n",
    "epsilon = 1e-3     # The convergence criterion\n",
    "eta = 0.5          # The learning rate\n",
    "beta = np.zeros(4) # Initialize the beta vector to 0\n",
    "\n",
    "# Add the initial beta to the list\n",
    "betas_list.append(beta.flatten().copy()) \n",
    "\n",
    "\n",
    "t = 0 # Keep track of the number of iterations\n",
    "max_t = 750 # Maximum number of iterations\n",
    "\n",
    "# Run the gradient descent algorithm\n",
    "while t < max_t: # We stop after max_t iterations even if we don't converge\n",
    "    t += 1\n",
    "    # Compute the gradient\n",
    "    grad = gradient(X, y, beta)\n",
    "    \n",
    "    # Update the beta vector\n",
    "    beta = beta - eta * grad\n",
    "\n",
    "    # Add the new beta to the list\n",
    "    betas_list.append(beta.flatten().copy())\n",
    "\n",
    "    # Check for convergence\n",
    "    if np.linalg.norm(grad) < epsilon:\n",
    "        print(f\"Converged after {t} iterations\")\n",
    "        break\n",
    "\n",
    "if t == max_t:\n",
    "    print(\"Did not converge\")"
   ]
  },
  {
   "cell_type": "code",
   "execution_count": 6,
   "metadata": {},
   "outputs": [
    {
     "data": {
      "text/plain": [
       "<matplotlib.legend.Legend at 0x7fb36cada920>"
      ]
     },
     "execution_count": 6,
     "metadata": {},
     "output_type": "execute_result"
    },
    {
     "data": {
      "image/png": "[encoded data removed]",
      "text/plain": [
       "<Figure size 1000x1000 with 4 Axes>"
      ]
     },
     "metadata": {},
     "output_type": "display_data"
    }
   ],
   "source": [
    "fig, axs = plt.subplots(4, 1, figsize=(10, 10))\n",
    "\n",
    "beta_ols = np.linalg.inv(X.T @ X) @ X.T @ y # Compute the OLS solution\n",
    "\n",
    "for i, ax in enumerate(axs):\n",
    "    ax.plot([beta[i] for beta in betas_list], label=(\"Gradient Descent\" if i == 0 else \"\"))\n",
    "    ax.axhline(beta_ols[i], color=\"red\", label=(\"OLS\" if i == 0 else \"\"))\n",
    "    ax.set_ylabel(r\"$\\beta_{}$\".format(i))\n",
    "    ax.grid(alpha=0.3)\n",
    "\n",
    "# Creating a single legend for the figure\n",
    "fig.legend(loc='lower center', ncol=2)\n"
   ]
  },
  {
   "cell_type": "markdown",
   "metadata": {},
   "source": [
    "#### ➡️ ✏️ Task 3\n",
    "Repeat the exercise above (i.e., run the gradient descent algorithm and plot the parameters over time) for different values of the learning rate `eta`. In particular try:\n",
    "1. `eta=0.4`\n",
    "2. `eta=0.6`\n",
    "\n",
    "What do you notice? Discuss with your classmates.\n",
    "\n",
    "Play around with the learning rate, the convergence threshold `epsilon`, and the maximum number of iterations `max_t` to see how they affect the convergence of the parameters. Try out different starting values for the parameter (`beta`) as well.\n",
    "\n",
    "Can you try to figure out how the parameters will behave before running the code?\n",
    "\n",
    "For instance, can you tune the other hyperparameters to make your algorithm converge with `eta=0.4`, what about `eta=0.6`?\n",
    "\n",
    "Discuss with your classmates."
   ]
  },
  {
   "cell_type": "markdown",
   "metadata": {},
   "source": [
    "#### ➡️ ✏️ Task 4\n",
    "\n",
    "Discuss with your classmates: what are the advantages and disadvantages of gradient descent?\n",
    "+ Would you prefer the closed-form equation or gradient descent to solve a linear regression problem?\n",
    "+ Can gradient descent tackle the regression problem with an absolute loss function?\n",
    "+ What about the 0-1 loss function?"
   ]
  },
  {
   "cell_type": "markdown",
   "metadata": {},
   "source": [
    "___\n",
    "#### ⚠️ Lists and copies (you can skip this in a first reading)\n",
    "Do you see how we used `beta.copy()` instead of just appending `beta` to our `betas_list`? This is because of a fairly complicated concept that really relates more to computer science than data science. In essence, Python lists are truly **arrays of pointers**. This surely doesn't mean much to you now, but try running the following cells to see why using a copy makes sense:"
   ]
  },
  {
   "cell_type": "code",
   "execution_count": 7,
   "metadata": {},
   "outputs": [
    {
     "data": {
      "text/plain": [
       "[array([0, 0, 0])]"
      ]
     },
     "execution_count": 7,
     "metadata": {},
     "output_type": "execute_result"
    }
   ],
   "source": [
    "wlist = [] # Create an empty list, e.g., this would be weights_list above\n",
    "w = np.array([0, 0, 0]) # Create an array of weights (e.g., beta above)\n",
    "wlist.append(w) # Append the weights to our main list\n",
    "wlist # Display the value of wlist"
   ]
  },
  {
   "cell_type": "code",
   "execution_count": 8,
   "metadata": {},
   "outputs": [
    {
     "data": {
      "text/plain": [
       "[array([0, 1, 0])]"
      ]
     },
     "execution_count": 8,
     "metadata": {},
     "output_type": "execute_result"
    }
   ],
   "source": [
    "w[1] += 1 # Change the value of the middle element\n",
    "wlist # Display the value of wlist again"
   ]
  },
  {
   "cell_type": "markdown",
   "metadata": {},
   "source": [
    "But wait, didn't we actually store the array `[0, 0, 0]` and not `[0, 1, 0]`!? Let's do it again..."
   ]
  },
  {
   "cell_type": "code",
   "execution_count": 9,
   "metadata": {},
   "outputs": [
    {
     "data": {
      "text/plain": [
       "[array([0, 2, 0]), array([0, 2, 0])]"
      ]
     },
     "execution_count": 9,
     "metadata": {},
     "output_type": "execute_result"
    }
   ],
   "source": [
    "wlist.append(w) # Append the new weights to our main list\n",
    "w[1] += 1 # Change the value of the middle element again\n",
    "wlist # Display the value of wlist again"
   ]
  },
  {
   "cell_type": "markdown",
   "metadata": {},
   "source": [
    "Uh oh... that's not good. We are *retroactively* affecting the weights we have already stored in our main list! What if we use a copy instead?"
   ]
  },
  {
   "cell_type": "code",
   "execution_count": 10,
   "metadata": {},
   "outputs": [
    {
     "data": {
      "text/plain": [
       "[array([0, 3, 0]), array([0, 3, 0]), array([0, 2, 0])]"
      ]
     },
     "execution_count": 10,
     "metadata": {},
     "output_type": "execute_result"
    }
   ],
   "source": [
    "wlist.append(w.copy()) # Append the weights COPY to our main list\n",
    "w[1] += 1 # Change the value of the middle element again\n",
    "wlist # Display the value of wlist again"
   ]
  },
  {
   "cell_type": "markdown",
   "metadata": {},
   "source": [
    "The third item of our list was not impacted by the increment. This is because it's not the weight array anymore but a copy thereof. Make sure you understand what happened in this small section, this is a dangerous pitfall of Python that surely happens to every programmer at least once (and probably many more times...).\n",
    "\n",
    "Intuitively, you can think that Python keeps in mind that the elements of `wlist` are the arrays `w` and it assumes that we want to keep a link between the two. So `wlist` should remember that it contains `w` and that if `w` gets changed, so should `wlist`. In fact, Python does not keep `wlist` in memory as such. All it has in memory is the instruction that `wlist` is a list that contains `w` and to fill in whatever `w` happens to be at the moment. If you want to break the link between `wlist` and `w` (which, as a data scientist, you want most of the time) then you use `.copy()`. Does it now make sense?\n",
    "\n",
    "What we just explained only applies if the object that is appended is already a type of list, e.g. a numpy array. If it is a primitive object like `b` (a simple variable that stores a single number), then there is no need for `.copy()`. In fact, if you try, you get an error. That's nice, so you know you don't have to use it!\n",
    "\n",
    "\n",
    "**Main takeaway**: Be careful when storing results from lists, arrays, dictionaries, etc. in other containers (typically lists or dictionaries). Changing the item ex-post will also change the value stored in your *larger* container. If you want to avoid this (which you want most of the time) make sure to use a copy!"
   ]
  },
  {
   "cell_type": "code",
   "execution_count": null,
   "metadata": {},
   "outputs": [],
   "source": []
  }
 ],
 "metadata": {
  "kernelspec": {
   "display_name": "Python 3 (ipykernel)",
   "language": "python",
   "name": "python3"
  },
  "language_info": {
   "codemirror_mode": {
    "name": "ipython",
    "version": 3
   },
   "file_extension": ".py",
   "mimetype": "text/x-python",
   "name": "python",
   "nbconvert_exporter": "python",
   "pygments_lexer": "ipython3",
   "version": "3.10.12"
  }
 },
 "nbformat": 4,
 "nbformat_minor": 4
}
